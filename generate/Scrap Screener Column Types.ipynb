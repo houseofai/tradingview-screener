{
 "cells": [
  {
   "cell_type": "code",
   "execution_count": 1,
   "id": "initial_id",
   "metadata": {
    "collapsed": true,
    "ExecuteTime": {
     "end_time": "2023-08-06T16:14:45.442924965Z",
     "start_time": "2023-08-06T16:14:45.442694836Z"
    }
   },
   "outputs": [],
   "source": [
    "from ignore.generate import generate_template\n",
    "from ignore import tvdata\n",
    "from ignore.generate import write\n",
    "\n",
    "%load_ext autoreload\n",
    "%autoreload 2"
   ]
  },
  {
   "cell_type": "code",
   "execution_count": 2,
   "outputs": [
    {
     "name": "stdout",
     "output_type": "stream",
     "text": [
      "Checking filters...\n"
     ]
    },
    {
     "name": "stderr",
     "output_type": "stream",
     "text": [
      " 26%|██▌       | 255/999 [00:56<02:44,  4.53it/s]\n"
     ]
    },
    {
     "name": "stdout",
     "output_type": "stream",
     "text": [
      "Message: Unable to locate element: /html/body/div[4]/div/div[3]/div/div[2]/div[2]/div[1]/div[256]/label/label/input\n",
      "\n",
      "Found: 255 filters\n",
      "Checking columns...\n"
     ]
    },
    {
     "name": "stderr",
     "output_type": "stream",
     "text": [
      "100%|██████████| 255/255 [00:00<00:00, 339.78it/s]\n"
     ]
    }
   ],
   "source": [
    "stock_url = \"https://www.tradingview.com/screener/\"\n",
    "original_stock_columns = tvdata.stock['columns']\n",
    "\n",
    "generated_template = generate_template(stock_url, 'Stock', original_stock_columns)\n",
    "write('stock', generated_template)"
   ],
   "metadata": {
    "collapsed": false,
    "ExecuteTime": {
     "end_time": "2023-08-06T16:15:52.782389934Z",
     "start_time": "2023-08-06T16:14:45.767921166Z"
    }
   },
   "id": "9f576a5a2aa8f757"
  },
  {
   "cell_type": "code",
   "execution_count": 3,
   "outputs": [
    {
     "name": "stdout",
     "output_type": "stream",
     "text": [
      "Checking filters...\n"
     ]
    },
    {
     "name": "stderr",
     "output_type": "stream",
     "text": [
      " 15%|█▍        | 146/999 [00:32<03:07,  4.55it/s]\n"
     ]
    },
    {
     "name": "stdout",
     "output_type": "stream",
     "text": [
      "Message: Unable to locate element: /html/body/div[4]/div/div[3]/div/div[2]/div[2]/div[1]/div[147]/label/label/input\n",
      "\n",
      "Found: 146 filters\n",
      "Checking columns...\n"
     ]
    },
    {
     "name": "stderr",
     "output_type": "stream",
     "text": [
      "100%|██████████| 146/146 [00:00<00:00, 338.19it/s]\n"
     ]
    }
   ],
   "source": [
    "crypto_url = \"https://www.tradingview.com/crypto-screener/\"\n",
    "original_crypto_columns = tvdata.crypto['columns']\n",
    "\n",
    "generated_template = generate_template(crypto_url, 'Crypto', original_crypto_columns)\n",
    "write('crypto', generated_template)"
   ],
   "metadata": {
    "collapsed": false,
    "ExecuteTime": {
     "end_time": "2023-08-06T16:16:35.364639463Z",
     "start_time": "2023-08-06T16:15:52.783189501Z"
    }
   },
   "id": "933ca7d35da3c8cf"
  },
  {
   "cell_type": "code",
   "execution_count": 4,
   "outputs": [
    {
     "name": "stdout",
     "output_type": "stream",
     "text": [
      "Checking filters...\n"
     ]
    },
    {
     "name": "stderr",
     "output_type": "stream",
     "text": [
      " 13%|█▎        | 133/999 [00:28<03:07,  4.62it/s]\n"
     ]
    },
    {
     "name": "stdout",
     "output_type": "stream",
     "text": [
      "Message: Unable to locate element: /html/body/div[4]/div/div[3]/div/div[2]/div[2]/div[1]/div[134]/label/label/input\n",
      "\n",
      "Found: 133 filters\n",
      "Checking columns...\n"
     ]
    },
    {
     "name": "stderr",
     "output_type": "stream",
     "text": [
      "100%|██████████| 133/133 [00:00<00:00, 239.76it/s]\n"
     ]
    }
   ],
   "source": [
    "forex_url = \"https://www.tradingview.com/forex-screener/\"\n",
    "original_crypto_columns = tvdata.forex['columns']\n",
    "\n",
    "generated_template = generate_template(forex_url, 'Forex', original_crypto_columns)\n",
    "write('forex', generated_template)"
   ],
   "metadata": {
    "collapsed": false,
    "ExecuteTime": {
     "end_time": "2023-08-06T16:17:14.774936066Z",
     "start_time": "2023-08-06T16:16:35.364576451Z"
    }
   },
   "id": "d70eeeff7c42494a"
  },
  {
   "cell_type": "code",
   "execution_count": null,
   "outputs": [],
   "source": [],
   "metadata": {
    "collapsed": false
   },
   "id": "69884fed567f3279"
  }
 ],
 "metadata": {
  "kernelspec": {
   "display_name": "Python 3",
   "language": "python",
   "name": "python3"
  },
  "language_info": {
   "codemirror_mode": {
    "name": "ipython",
    "version": 2
   },
   "file_extension": ".py",
   "mimetype": "text/x-python",
   "name": "python",
   "nbconvert_exporter": "python",
   "pygments_lexer": "ipython2",
   "version": "2.7.6"
  }
 },
 "nbformat": 4,
 "nbformat_minor": 5
}
