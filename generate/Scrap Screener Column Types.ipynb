{
 "cells": [
  {
   "cell_type": "code",
   "execution_count": 1,
   "id": "initial_id",
   "metadata": {
    "collapsed": true,
    "ExecuteTime": {
     "end_time": "2023-08-06T17:29:46.562834170Z",
     "start_time": "2023-08-06T17:29:46.521643331Z"
    }
   },
   "outputs": [],
   "source": [
    "from generate import generate_template, write\n",
    "\n",
    "%load_ext autoreload\n",
    "%autoreload 2"
   ]
  },
  {
   "cell_type": "code",
   "execution_count": 2,
   "outputs": [],
   "source": [
    "# Read tvdata json file\n",
    "import json\n",
    "with open('tvdata.json') as f:\n",
    "    tvdata = json.load(f)['columns']"
   ],
   "metadata": {
    "collapsed": false,
    "ExecuteTime": {
     "end_time": "2023-08-06T17:29:46.563053186Z",
     "start_time": "2023-08-06T17:29:46.562771900Z"
    }
   },
   "id": "a912dc9dfe8911ec"
  },
  {
   "cell_type": "code",
   "execution_count": 3,
   "outputs": [
    {
     "name": "stdout",
     "output_type": "stream",
     "text": [
      "Checking filters...\n"
     ]
    },
    {
     "name": "stderr",
     "output_type": "stream",
     "text": [
      " 26%|██▌       | 255/999 [00:56<02:44,  4.52it/s]\n"
     ]
    },
    {
     "name": "stdout",
     "output_type": "stream",
     "text": [
      "Message: Unable to locate element: /html/body/div[4]/div/div[3]/div/div[2]/div[2]/div[1]/div[256]/label/label/input\n",
      "\n",
      "Found: 255 filters\n",
      "Checking columns...\n"
     ]
    },
    {
     "name": "stderr",
     "output_type": "stream",
     "text": [
      "100%|██████████| 255/255 [00:00<00:00, 340.86it/s]\n"
     ]
    }
   ],
   "source": [
    "\n",
    "stock_url = \"https://www.tradingview.com/screener/\"\n",
    "original_stock_columns = tvdata['stock']\n",
    "\n",
    "generated_template = generate_template(stock_url, 'Stock', original_stock_columns)\n",
    "write('stock', generated_template)"
   ],
   "metadata": {
    "collapsed": false,
    "ExecuteTime": {
     "end_time": "2023-08-06T17:30:53.778380901Z",
     "start_time": "2023-08-06T17:29:46.563011658Z"
    }
   },
   "id": "9f576a5a2aa8f757"
  },
  {
   "cell_type": "code",
   "execution_count": 4,
   "outputs": [
    {
     "name": "stdout",
     "output_type": "stream",
     "text": [
      "Checking filters...\n"
     ]
    },
    {
     "name": "stderr",
     "output_type": "stream",
     "text": [
      " 15%|█▍        | 146/999 [00:31<03:03,  4.65it/s]\n"
     ]
    },
    {
     "name": "stdout",
     "output_type": "stream",
     "text": [
      "Message: Unable to locate element: /html/body/div[4]/div/div[3]/div/div[2]/div[2]/div[1]/div[147]/label/label/input\n",
      "\n",
      "Found: 146 filters\n",
      "Checking columns...\n"
     ]
    },
    {
     "name": "stderr",
     "output_type": "stream",
     "text": [
      "100%|██████████| 146/146 [00:00<00:00, 349.36it/s]\n"
     ]
    }
   ],
   "source": [
    "crypto_url = \"https://www.tradingview.com/crypto-screener/\"\n",
    "original_crypto_columns = tvdata['crypto']\n",
    "\n",
    "generated_template = generate_template(crypto_url, 'Crypto', original_crypto_columns)\n",
    "write('crypto', generated_template)"
   ],
   "metadata": {
    "collapsed": false,
    "ExecuteTime": {
     "end_time": "2023-08-06T17:31:35.499483062Z",
     "start_time": "2023-08-06T17:30:53.778543957Z"
    }
   },
   "id": "933ca7d35da3c8cf"
  },
  {
   "cell_type": "code",
   "execution_count": 5,
   "outputs": [
    {
     "name": "stdout",
     "output_type": "stream",
     "text": [
      "Checking filters...\n"
     ]
    },
    {
     "name": "stderr",
     "output_type": "stream",
     "text": [
      "  2%|▏         | 22/999 [00:03<02:35,  6.26it/s]\n"
     ]
    },
    {
     "ename": "ElementClickInterceptedException",
     "evalue": "Message: Element <input class=\"js-field-checkbox tv-control-checkbox__input i-inited\" name=\"Aroon.Down\" type=\"checkbox\"> is not clickable at point (1911,845) because another element <html class=\"is-not-authenticated is-not-pro is-not-trial feature-no-touch feature-no-mobiletouch theme-light is-not-trial-available\"> obscures it\n",
     "output_type": "error",
     "traceback": [
      "\u001B[0;31m---------------------------------------------------------------------------\u001B[0m",
      "\u001B[0;31mElementClickInterceptedException\u001B[0m          Traceback (most recent call last)",
      "\u001B[0;32m<ipython-input-5-b375b8a55f5d>\u001B[0m in \u001B[0;36m<module>\u001B[0;34m\u001B[0m\n\u001B[1;32m      2\u001B[0m \u001B[0moriginal_crypto_columns\u001B[0m \u001B[0;34m=\u001B[0m \u001B[0mtvdata\u001B[0m\u001B[0;34m[\u001B[0m\u001B[0;34m'forex'\u001B[0m\u001B[0;34m]\u001B[0m\u001B[0;34m\u001B[0m\u001B[0;34m\u001B[0m\u001B[0m\n\u001B[1;32m      3\u001B[0m \u001B[0;34m\u001B[0m\u001B[0m\n\u001B[0;32m----> 4\u001B[0;31m \u001B[0mgenerated_template\u001B[0m \u001B[0;34m=\u001B[0m \u001B[0mgenerate_template\u001B[0m\u001B[0;34m(\u001B[0m\u001B[0mforex_url\u001B[0m\u001B[0;34m,\u001B[0m \u001B[0;34m'Forex'\u001B[0m\u001B[0;34m,\u001B[0m \u001B[0moriginal_crypto_columns\u001B[0m\u001B[0;34m)\u001B[0m\u001B[0;34m\u001B[0m\u001B[0;34m\u001B[0m\u001B[0m\n\u001B[0m\u001B[1;32m      5\u001B[0m \u001B[0mwrite\u001B[0m\u001B[0;34m(\u001B[0m\u001B[0;34m'forex'\u001B[0m\u001B[0;34m,\u001B[0m \u001B[0mgenerated_template\u001B[0m\u001B[0;34m)\u001B[0m\u001B[0;34m\u001B[0m\u001B[0;34m\u001B[0m\u001B[0m\n",
      "\u001B[0;32m~/PycharmProjects/tradingview-screener/generate/generate.py\u001B[0m in \u001B[0;36mgenerate_template\u001B[0;34m(url, name, original_stock_columns)\u001B[0m\n\u001B[1;32m    238\u001B[0m \u001B[0;34m\u001B[0m\u001B[0m\n\u001B[1;32m    239\u001B[0m \u001B[0;32mdef\u001B[0m \u001B[0mgenerate_template\u001B[0m\u001B[0;34m(\u001B[0m\u001B[0murl\u001B[0m\u001B[0;34m,\u001B[0m \u001B[0mname\u001B[0m\u001B[0;34m,\u001B[0m \u001B[0moriginal_stock_columns\u001B[0m\u001B[0;34m)\u001B[0m\u001B[0;34m:\u001B[0m\u001B[0;34m\u001B[0m\u001B[0;34m\u001B[0m\u001B[0m\n\u001B[0;32m--> 240\u001B[0;31m     \u001B[0mselenium_columns\u001B[0m \u001B[0;34m=\u001B[0m \u001B[0mget_columns\u001B[0m\u001B[0;34m(\u001B[0m\u001B[0murl\u001B[0m\u001B[0;34m)\u001B[0m\u001B[0;34m\u001B[0m\u001B[0;34m\u001B[0m\u001B[0m\n\u001B[0m\u001B[1;32m    241\u001B[0m     \u001B[0;32mfor\u001B[0m \u001B[0mk\u001B[0m\u001B[0;34m,\u001B[0m \u001B[0mv\u001B[0m \u001B[0;32min\u001B[0m \u001B[0mselenium_columns\u001B[0m\u001B[0;34m.\u001B[0m\u001B[0mitems\u001B[0m\u001B[0;34m(\u001B[0m\u001B[0;34m)\u001B[0m\u001B[0;34m:\u001B[0m\u001B[0;34m\u001B[0m\u001B[0;34m\u001B[0m\u001B[0m\n\u001B[1;32m    242\u001B[0m         \u001B[0;32mif\u001B[0m \u001B[0mk\u001B[0m \u001B[0;32min\u001B[0m \u001B[0moriginal_stock_columns\u001B[0m\u001B[0;34m.\u001B[0m\u001B[0mkeys\u001B[0m\u001B[0;34m(\u001B[0m\u001B[0;34m)\u001B[0m \u001B[0;32mand\u001B[0m \u001B[0;34m'interval'\u001B[0m \u001B[0;32min\u001B[0m \u001B[0moriginal_stock_columns\u001B[0m\u001B[0;34m[\u001B[0m\u001B[0mk\u001B[0m\u001B[0;34m]\u001B[0m\u001B[0;34m.\u001B[0m\u001B[0mkeys\u001B[0m\u001B[0;34m(\u001B[0m\u001B[0;34m)\u001B[0m\u001B[0;34m:\u001B[0m\u001B[0;34m\u001B[0m\u001B[0;34m\u001B[0m\u001B[0m\n",
      "\u001B[0;32m~/PycharmProjects/tradingview-screener/generate/generate.py\u001B[0m in \u001B[0;36mget_columns\u001B[0;34m(url_)\u001B[0m\n\u001B[1;32m    160\u001B[0m             \u001B[0;31m# Check if not checked\u001B[0m\u001B[0;34m\u001B[0m\u001B[0;34m\u001B[0m\u001B[0;34m\u001B[0m\u001B[0m\n\u001B[1;32m    161\u001B[0m             \u001B[0;32mif\u001B[0m \u001B[0;32mnot\u001B[0m \u001B[0mcheckbox\u001B[0m\u001B[0;34m.\u001B[0m\u001B[0mis_selected\u001B[0m\u001B[0;34m(\u001B[0m\u001B[0;34m)\u001B[0m\u001B[0;34m:\u001B[0m\u001B[0;34m\u001B[0m\u001B[0;34m\u001B[0m\u001B[0m\n\u001B[0;32m--> 162\u001B[0;31m                 \u001B[0mcheckbox\u001B[0m\u001B[0;34m.\u001B[0m\u001B[0mclick\u001B[0m\u001B[0;34m(\u001B[0m\u001B[0;34m)\u001B[0m\u001B[0;34m\u001B[0m\u001B[0;34m\u001B[0m\u001B[0m\n\u001B[0m\u001B[1;32m    163\u001B[0m \u001B[0;34m\u001B[0m\u001B[0m\n\u001B[1;32m    164\u001B[0m             \u001B[0;31m# Technical label\u001B[0m\u001B[0;34m\u001B[0m\u001B[0;34m\u001B[0m\u001B[0;34m\u001B[0m\u001B[0m\n",
      "\u001B[0;32m~/miniconda3/envs/tradingview-screener/lib/python3.6/site-packages/selenium/webdriver/remote/webelement.py\u001B[0m in \u001B[0;36mclick\u001B[0;34m(self)\u001B[0m\n\u001B[1;32m     78\u001B[0m     \u001B[0;32mdef\u001B[0m \u001B[0mclick\u001B[0m\u001B[0;34m(\u001B[0m\u001B[0mself\u001B[0m\u001B[0;34m)\u001B[0m\u001B[0;34m:\u001B[0m\u001B[0;34m\u001B[0m\u001B[0;34m\u001B[0m\u001B[0m\n\u001B[1;32m     79\u001B[0m         \u001B[0;34m\"\"\"Clicks the element.\"\"\"\u001B[0m\u001B[0;34m\u001B[0m\u001B[0;34m\u001B[0m\u001B[0m\n\u001B[0;32m---> 80\u001B[0;31m         \u001B[0mself\u001B[0m\u001B[0;34m.\u001B[0m\u001B[0m_execute\u001B[0m\u001B[0;34m(\u001B[0m\u001B[0mCommand\u001B[0m\u001B[0;34m.\u001B[0m\u001B[0mCLICK_ELEMENT\u001B[0m\u001B[0;34m)\u001B[0m\u001B[0;34m\u001B[0m\u001B[0;34m\u001B[0m\u001B[0m\n\u001B[0m\u001B[1;32m     81\u001B[0m \u001B[0;34m\u001B[0m\u001B[0m\n\u001B[1;32m     82\u001B[0m     \u001B[0;32mdef\u001B[0m \u001B[0msubmit\u001B[0m\u001B[0;34m(\u001B[0m\u001B[0mself\u001B[0m\u001B[0;34m)\u001B[0m\u001B[0;34m:\u001B[0m\u001B[0;34m\u001B[0m\u001B[0;34m\u001B[0m\u001B[0m\n",
      "\u001B[0;32m~/miniconda3/envs/tradingview-screener/lib/python3.6/site-packages/selenium/webdriver/remote/webelement.py\u001B[0m in \u001B[0;36m_execute\u001B[0;34m(self, command, params)\u001B[0m\n\u001B[1;32m    631\u001B[0m             \u001B[0mparams\u001B[0m \u001B[0;34m=\u001B[0m \u001B[0;34m{\u001B[0m\u001B[0;34m}\u001B[0m\u001B[0;34m\u001B[0m\u001B[0;34m\u001B[0m\u001B[0m\n\u001B[1;32m    632\u001B[0m         \u001B[0mparams\u001B[0m\u001B[0;34m[\u001B[0m\u001B[0;34m'id'\u001B[0m\u001B[0;34m]\u001B[0m \u001B[0;34m=\u001B[0m \u001B[0mself\u001B[0m\u001B[0;34m.\u001B[0m\u001B[0m_id\u001B[0m\u001B[0;34m\u001B[0m\u001B[0;34m\u001B[0m\u001B[0m\n\u001B[0;32m--> 633\u001B[0;31m         \u001B[0;32mreturn\u001B[0m \u001B[0mself\u001B[0m\u001B[0;34m.\u001B[0m\u001B[0m_parent\u001B[0m\u001B[0;34m.\u001B[0m\u001B[0mexecute\u001B[0m\u001B[0;34m(\u001B[0m\u001B[0mcommand\u001B[0m\u001B[0;34m,\u001B[0m \u001B[0mparams\u001B[0m\u001B[0;34m)\u001B[0m\u001B[0;34m\u001B[0m\u001B[0;34m\u001B[0m\u001B[0m\n\u001B[0m\u001B[1;32m    634\u001B[0m \u001B[0;34m\u001B[0m\u001B[0m\n\u001B[1;32m    635\u001B[0m     \u001B[0;32mdef\u001B[0m \u001B[0mfind_element\u001B[0m\u001B[0;34m(\u001B[0m\u001B[0mself\u001B[0m\u001B[0;34m,\u001B[0m \u001B[0mby\u001B[0m\u001B[0;34m=\u001B[0m\u001B[0mBy\u001B[0m\u001B[0;34m.\u001B[0m\u001B[0mID\u001B[0m\u001B[0;34m,\u001B[0m \u001B[0mvalue\u001B[0m\u001B[0;34m=\u001B[0m\u001B[0;32mNone\u001B[0m\u001B[0;34m)\u001B[0m\u001B[0;34m:\u001B[0m\u001B[0;34m\u001B[0m\u001B[0;34m\u001B[0m\u001B[0m\n",
      "\u001B[0;32m~/miniconda3/envs/tradingview-screener/lib/python3.6/site-packages/selenium/webdriver/remote/webdriver.py\u001B[0m in \u001B[0;36mexecute\u001B[0;34m(self, driver_command, params)\u001B[0m\n\u001B[1;32m    319\u001B[0m         \u001B[0mresponse\u001B[0m \u001B[0;34m=\u001B[0m \u001B[0mself\u001B[0m\u001B[0;34m.\u001B[0m\u001B[0mcommand_executor\u001B[0m\u001B[0;34m.\u001B[0m\u001B[0mexecute\u001B[0m\u001B[0;34m(\u001B[0m\u001B[0mdriver_command\u001B[0m\u001B[0;34m,\u001B[0m \u001B[0mparams\u001B[0m\u001B[0;34m)\u001B[0m\u001B[0;34m\u001B[0m\u001B[0;34m\u001B[0m\u001B[0m\n\u001B[1;32m    320\u001B[0m         \u001B[0;32mif\u001B[0m \u001B[0mresponse\u001B[0m\u001B[0;34m:\u001B[0m\u001B[0;34m\u001B[0m\u001B[0;34m\u001B[0m\u001B[0m\n\u001B[0;32m--> 321\u001B[0;31m             \u001B[0mself\u001B[0m\u001B[0;34m.\u001B[0m\u001B[0merror_handler\u001B[0m\u001B[0;34m.\u001B[0m\u001B[0mcheck_response\u001B[0m\u001B[0;34m(\u001B[0m\u001B[0mresponse\u001B[0m\u001B[0;34m)\u001B[0m\u001B[0;34m\u001B[0m\u001B[0;34m\u001B[0m\u001B[0m\n\u001B[0m\u001B[1;32m    322\u001B[0m             response['value'] = self._unwrap_value(\n\u001B[1;32m    323\u001B[0m                 response.get('value', None))\n",
      "\u001B[0;32m~/miniconda3/envs/tradingview-screener/lib/python3.6/site-packages/selenium/webdriver/remote/errorhandler.py\u001B[0m in \u001B[0;36mcheck_response\u001B[0;34m(self, response)\u001B[0m\n\u001B[1;32m    240\u001B[0m                 \u001B[0malert_text\u001B[0m \u001B[0;34m=\u001B[0m \u001B[0mvalue\u001B[0m\u001B[0;34m[\u001B[0m\u001B[0;34m'alert'\u001B[0m\u001B[0;34m]\u001B[0m\u001B[0;34m.\u001B[0m\u001B[0mget\u001B[0m\u001B[0;34m(\u001B[0m\u001B[0;34m'text'\u001B[0m\u001B[0;34m)\u001B[0m\u001B[0;34m\u001B[0m\u001B[0;34m\u001B[0m\u001B[0m\n\u001B[1;32m    241\u001B[0m             \u001B[0;32mraise\u001B[0m \u001B[0mexception_class\u001B[0m\u001B[0;34m(\u001B[0m\u001B[0mmessage\u001B[0m\u001B[0;34m,\u001B[0m \u001B[0mscreen\u001B[0m\u001B[0;34m,\u001B[0m \u001B[0mstacktrace\u001B[0m\u001B[0;34m,\u001B[0m \u001B[0malert_text\u001B[0m\u001B[0;34m)\u001B[0m\u001B[0;34m\u001B[0m\u001B[0;34m\u001B[0m\u001B[0m\n\u001B[0;32m--> 242\u001B[0;31m         \u001B[0;32mraise\u001B[0m \u001B[0mexception_class\u001B[0m\u001B[0;34m(\u001B[0m\u001B[0mmessage\u001B[0m\u001B[0;34m,\u001B[0m \u001B[0mscreen\u001B[0m\u001B[0;34m,\u001B[0m \u001B[0mstacktrace\u001B[0m\u001B[0;34m)\u001B[0m\u001B[0;34m\u001B[0m\u001B[0;34m\u001B[0m\u001B[0m\n\u001B[0m\u001B[1;32m    243\u001B[0m \u001B[0;34m\u001B[0m\u001B[0m\n\u001B[1;32m    244\u001B[0m     \u001B[0;32mdef\u001B[0m \u001B[0m_value_or_default\u001B[0m\u001B[0;34m(\u001B[0m\u001B[0mself\u001B[0m\u001B[0;34m,\u001B[0m \u001B[0mobj\u001B[0m\u001B[0;34m,\u001B[0m \u001B[0mkey\u001B[0m\u001B[0;34m,\u001B[0m \u001B[0mdefault\u001B[0m\u001B[0;34m)\u001B[0m\u001B[0;34m:\u001B[0m\u001B[0;34m\u001B[0m\u001B[0;34m\u001B[0m\u001B[0m\n",
      "\u001B[0;31mElementClickInterceptedException\u001B[0m: Message: Element <input class=\"js-field-checkbox tv-control-checkbox__input i-inited\" name=\"Aroon.Down\" type=\"checkbox\"> is not clickable at point (1911,845) because another element <html class=\"is-not-authenticated is-not-pro is-not-trial feature-no-touch feature-no-mobiletouch theme-light is-not-trial-available\"> obscures it\n"
     ]
    }
   ],
   "source": [
    "forex_url = \"https://www.tradingview.com/forex-screener/\"\n",
    "original_crypto_columns = tvdata['forex']\n",
    "\n",
    "generated_template = generate_template(forex_url, 'Forex', original_crypto_columns)\n",
    "write('forex', generated_template)"
   ],
   "metadata": {
    "collapsed": false,
    "ExecuteTime": {
     "end_time": "2023-08-06T17:31:45.528897763Z",
     "start_time": "2023-08-06T17:31:35.500012307Z"
    }
   },
   "id": "d70eeeff7c42494a"
  },
  {
   "cell_type": "code",
   "execution_count": null,
   "outputs": [],
   "source": [],
   "metadata": {
    "collapsed": false,
    "ExecuteTime": {
     "start_time": "2023-08-06T17:31:45.528139206Z"
    }
   },
   "id": "69884fed567f3279"
  }
 ],
 "metadata": {
  "kernelspec": {
   "display_name": "Python 3",
   "language": "python",
   "name": "python3"
  },
  "language_info": {
   "codemirror_mode": {
    "name": "ipython",
    "version": 2
   },
   "file_extension": ".py",
   "mimetype": "text/x-python",
   "name": "python",
   "nbconvert_exporter": "python",
   "pygments_lexer": "ipython2",
   "version": "2.7.6"
  }
 },
 "nbformat": 4,
 "nbformat_minor": 5
}
