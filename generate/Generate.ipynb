{
 "cells": [
  {
   "cell_type": "code",
   "execution_count": 25,
   "id": "initial_id",
   "metadata": {
    "collapsed": true,
    "ExecuteTime": {
     "end_time": "2023-08-07T13:27:05.568065228Z",
     "start_time": "2023-08-07T13:27:05.540245051Z"
    }
   },
   "outputs": [
    {
     "name": "stdout",
     "output_type": "stream",
     "text": [
      "The autoreload extension is already loaded. To reload it, use:\n",
      "  %reload_ext autoreload\n"
     ]
    }
   ],
   "source": [
    "import json\n",
    "from generate import write, scrap_columns, generate_columns, fill_template\n",
    "\n",
    "%load_ext autoreload\n",
    "%autoreload 2"
   ]
  },
  {
   "cell_type": "code",
   "execution_count": 26,
   "outputs": [],
   "source": [
    "def save_columns(url, name):\n",
    "    selenium_columns = scrap_columns(url)\n",
    "    with open(f'{name}.json', 'w') as f:\n",
    "        json.dump(selenium_columns, f)\n",
    "        \n",
    "def generate_code_files(name):\n",
    "    with open(f'{name.lower()}.json') as f:\n",
    "        columns = json.load(f)\n",
    "    formatted_columns = generate_columns(columns)\n",
    "    template = fill_template(name, formatted_columns)\n",
    "    write(name.lower(), template)"
   ],
   "metadata": {
    "collapsed": false,
    "ExecuteTime": {
     "end_time": "2023-08-07T13:27:07.889923150Z",
     "start_time": "2023-08-07T13:27:07.883258203Z"
    }
   },
   "id": "d5fa1f7d53053c3e"
  },
  {
   "cell_type": "code",
   "execution_count": null,
   "outputs": [],
   "source": [
    "stock_url = \"https://www.tradingview.com/screener/\"\n",
    "save_columns(stock_url, 'stock')"
   ],
   "metadata": {
    "collapsed": false
   },
   "id": "54db65ab7c0ba6e6"
  },
  {
   "cell_type": "code",
   "execution_count": 6,
   "outputs": [
    {
     "name": "stdout",
     "output_type": "stream",
     "text": [
      "Checking filters...\n"
     ]
    },
    {
     "name": "stderr",
     "output_type": "stream",
     "text": [
      " 15%|█▍        | 146/999 [00:31<03:03,  4.66it/s]\n"
     ]
    },
    {
     "name": "stdout",
     "output_type": "stream",
     "text": [
      "Message: Unable to locate element: /html/body/div[4]/div/div[3]/div/div[2]/div[2]/div[1]/div[147]/label/label/input\n",
      "\n",
      "Found: 146 filters\n",
      "Checking columns...\n"
     ]
    },
    {
     "name": "stderr",
     "output_type": "stream",
     "text": [
      "100%|██████████| 146/146 [00:00<00:00, 333.95it/s]\n"
     ]
    }
   ],
   "source": [
    "crypto_url = \"https://www.tradingview.com/crypto-screener/\"\n",
    "save_columns(crypto_url, 'crypto')"
   ],
   "metadata": {
    "collapsed": false,
    "ExecuteTime": {
     "end_time": "2023-08-07T12:09:34.268118723Z",
     "start_time": "2023-08-07T12:08:52.748304883Z"
    }
   },
   "id": "5842322bb724a00b"
  },
  {
   "cell_type": "code",
   "execution_count": 7,
   "outputs": [
    {
     "name": "stdout",
     "output_type": "stream",
     "text": [
      "Checking filters...\n"
     ]
    },
    {
     "name": "stderr",
     "output_type": "stream",
     "text": [
      " 13%|█▎        | 133/999 [00:28<03:06,  4.65it/s]\n"
     ]
    },
    {
     "name": "stdout",
     "output_type": "stream",
     "text": [
      "Message: Unable to locate element: /html/body/div[4]/div/div[3]/div/div[2]/div[2]/div[1]/div[134]/label/label/input\n",
      "\n",
      "Found: 133 filters\n",
      "Checking columns...\n"
     ]
    },
    {
     "name": "stderr",
     "output_type": "stream",
     "text": [
      "100%|██████████| 133/133 [00:00<00:00, 345.63it/s]\n"
     ]
    }
   ],
   "source": [
    "forex_url = \"https://www.tradingview.com/forex-screener/\"\n",
    "save_columns(forex_url, 'forex')"
   ],
   "metadata": {
    "collapsed": false,
    "ExecuteTime": {
     "end_time": "2023-08-07T12:10:32.389959165Z",
     "start_time": "2023-08-07T12:09:53.486924858Z"
    }
   },
   "id": "25c9bfa6c3bd8da4"
  },
  {
   "cell_type": "code",
   "execution_count": 27,
   "outputs": [],
   "source": [
    "generate_code_files('Stock')"
   ],
   "metadata": {
    "collapsed": false,
    "ExecuteTime": {
     "end_time": "2023-08-07T13:27:14.480884245Z",
     "start_time": "2023-08-07T13:27:14.462714844Z"
    }
   },
   "id": "9f576a5a2aa8f757"
  },
  {
   "cell_type": "code",
   "execution_count": 28,
   "outputs": [
    {
     "name": "stdout",
     "output_type": "stream",
     "text": [
      "Column MoneyFlow not found in the interval columns\n",
      "Column Value.Traded not found in the interval columns\n"
     ]
    }
   ],
   "source": [
    "generate_code_files('Crypto')"
   ],
   "metadata": {
    "collapsed": false,
    "ExecuteTime": {
     "end_time": "2023-08-07T13:27:15.125891317Z",
     "start_time": "2023-08-07T13:27:15.114532480Z"
    }
   },
   "id": "933ca7d35da3c8cf"
  },
  {
   "cell_type": "code",
   "execution_count": 29,
   "outputs": [
    {
     "name": "stdout",
     "output_type": "stream",
     "text": [
      "Column MoneyFlow not found in the interval columns\n",
      "Column Value.Traded not found in the interval columns\n",
      "Column relative_volume_10d_calc not found in the interval columns\n",
      "Column volume not found in the interval columns\n"
     ]
    }
   ],
   "source": [
    "generate_code_files('Forex')"
   ],
   "metadata": {
    "collapsed": false,
    "ExecuteTime": {
     "end_time": "2023-08-07T13:27:16.823334960Z",
     "start_time": "2023-08-07T13:27:16.815592193Z"
    }
   },
   "id": "d70eeeff7c42494a"
  },
  {
   "cell_type": "code",
   "execution_count": 22,
   "outputs": [],
   "source": [
    "common = [\"logoid\",\n",
    "    \"name\",\n",
    "    \"description\",\n",
    "    \"type\",\n",
    "    \"subtype\"]\n",
    "\n",
    "with open(f'main.json', 'w') as f:\n",
    "        json.dump({\"main\": common}, f)"
   ],
   "metadata": {
    "collapsed": false,
    "ExecuteTime": {
     "end_time": "2023-08-07T12:43:54.135751725Z",
     "start_time": "2023-08-07T12:43:54.088056387Z"
    }
   },
   "id": "23094b57d7f195da"
  }
 ],
 "metadata": {
  "kernelspec": {
   "display_name": "Python 3",
   "language": "python",
   "name": "python3"
  },
  "language_info": {
   "codemirror_mode": {
    "name": "ipython",
    "version": 2
   },
   "file_extension": ".py",
   "mimetype": "text/x-python",
   "name": "python",
   "nbconvert_exporter": "python",
   "pygments_lexer": "ipython2",
   "version": "2.7.6"
  }
 },
 "nbformat": 4,
 "nbformat_minor": 5
}
