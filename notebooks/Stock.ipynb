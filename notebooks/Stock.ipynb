{
 "cells": [
  {
   "cell_type": "code",
   "execution_count": 1,
   "id": "initial_id",
   "metadata": {
    "collapsed": true,
    "ExecuteTime": {
     "end_time": "2023-08-09T12:32:32.744191309Z",
     "start_time": "2023-08-09T12:32:32.641687423Z"
    }
   },
   "outputs": [],
   "source": [
    "import tvscreener as tvs\n",
    "from tvscreener.filter import SymbolType\n",
    "\n",
    "%load_ext autoreload\n",
    "%autoreload 2"
   ]
  },
  {
   "cell_type": "markdown",
   "source": [
    "# Stock"
   ],
   "metadata": {
    "collapsed": false
   },
   "id": "6a564379ead09018"
  },
  {
   "cell_type": "code",
   "execution_count": 2,
   "outputs": [
    {
     "data": {
      "text/plain": "         Symbol   Name                  Description  All Time High  \\\n0   NASDAQ:AAPL   AAPL                   Apple Inc.     198.230000   \n1   NASDAQ:MSFT   MSFT        Microsoft Corporation     366.780000   \n2  NASDAQ:GOOGL  GOOGL                Alphabet Inc.     151.546575   \n3   NASDAQ:GOOG   GOOG                Alphabet Inc.     152.100000   \n4   NASDAQ:AMZN   AMZN             Amazon.com, Inc.     188.653910   \n5   NASDAQ:NVDA   NVDA           NVIDIA Corporation     480.880000   \n6   NASDAQ:META   META         Meta Platforms, Inc.     384.330000   \n7    NYSE:BRK.B  BRK.B  Berkshire Hathaway Inc. New     364.630000   \n8    NYSE:BRK.A  BRK.A      Berkshire Hathaway Inc.  555800.000000   \n9   NASDAQ:TSLA   TSLA                  Tesla, Inc.     414.496252   \n\n   All Time Low  All Time Performance  Aroon Down (14)  Aroon Up (14)  \\\n0      0.049107         139987.886060        92.857143       0.000000   \n1      0.088543         335263.031381       100.000000       0.000000   \n2      2.401327           5150.382091         7.142857      50.000000   \n3     24.312350            365.478883         7.142857      50.000000   \n4      0.065624         114723.506244        35.714286      85.714286   \n5      0.333335         101988.676166        71.428571       0.000000   \n6     17.550000            643.495838        21.428571      50.000000   \n7     19.800000           1467.801724         0.000000      92.857143   \n8    235.000000         225655.510204         7.142857      92.857143   \n9      0.998666          19613.183833        92.857143       0.000000   \n\n   Average Day Range (14)  Average Directional Index (14)  ...  Reco. VWMA  \\\n0                3.069664                       40.118395  ...          -1   \n1                7.342850                       15.771334  ...          -1   \n2                2.778929                       21.133315  ...           1   \n3                2.792500                       20.051500  ...           1   \n4                3.213329                       21.261984  ...           1   \n5               13.223593                       27.835676  ...          -1   \n6                9.605829                       31.438554  ...           1   \n7                4.111000                       36.330127  ...           1   \n8             8071.452857                       36.868648  ...           1   \n9               10.157136                       23.045450  ...          -1   \n\n   Prev. Awesome Oscillator  Prev. Commodity Channel Index (20)  \\\n0                 -1.490926                         -272.391911   \n1                 -7.724309                          -94.037270   \n2                  6.342816                           79.180969   \n3                  6.110606                           80.269193   \n4                  3.565787                          209.566927   \n5                 10.007194                          -21.357957   \n6                 15.050205                           49.719600   \n7                  9.487868                          234.104374   \n8              14607.710588                          218.342262   \n9                -10.625394                         -138.152737   \n\n   Prev. Momentum (10)  Prev. Negative Directional Indicator (14)  \\\n0              -13.900                                  39.292758   \n1              -15.000                                  23.813940   \n2               10.000                                  18.285830   \n3               10.060                                  18.656921   \n4               13.420                                  19.711483   \n5                8.045                                  22.175848   \n6               24.950                                  14.824744   \n7               12.950                                   8.198925   \n8            19273.500                                   6.226804   \n9              -17.610                                  31.642809   \n\n   Prev. Positive Directional Indicator (14)  \\\n0                                  15.419603   \n1                                  22.423677   \n2                                  29.198317   \n3                                  29.108679   \n4                                  37.727425   \n5                                  25.391444   \n6                                  24.406424   \n7                                  34.184479   \n8                                  30.264063   \n9                                  19.366053   \n\n   Prev. Relative Strength Index (14)  Prev. Relative Strength Index (7)  \\\n0                           29.564162                          15.552384   \n1                           44.611207                          40.467871   \n2                           63.395318                          66.919721   \n3                           63.097832                          66.882035   \n4                           68.211562                          75.411259   \n5                           56.042851                          52.123820   \n6                           59.537741                          58.124682   \n7                           72.739217                          77.046157   \n8                           70.444689                          75.060915   \n9                           43.822257                          35.254267   \n\n   Prev. Stochastic %D (14, 3, 3)  Prev. Stochastic %K (14, 3, 3)  \n0                       18.357980                        4.659713  \n1                        5.617857                        5.871685  \n2                       69.752291                       71.799828  \n3                       69.573538                       71.920702  \n4                       47.046071                       65.706207  \n5                       30.741341                       33.165012  \n6                       68.665998                       66.473087  \n7                       83.840677                       82.329368  \n8                       82.199958                       84.883521  \n9                       12.632113                       13.457456  \n\n[10 rows x 302 columns]",
      "text/html": "<div>\n<style scoped>\n    .dataframe tbody tr th:only-of-type {\n        vertical-align: middle;\n    }\n\n    .dataframe tbody tr th {\n        vertical-align: top;\n    }\n\n    .dataframe thead th {\n        text-align: right;\n    }\n</style>\n<table border=\"1\" class=\"dataframe\">\n  <thead>\n    <tr style=\"text-align: right;\">\n      <th></th>\n      <th>Symbol</th>\n      <th>Name</th>\n      <th>Description</th>\n      <th>All Time High</th>\n      <th>All Time Low</th>\n      <th>All Time Performance</th>\n      <th>Aroon Down (14)</th>\n      <th>Aroon Up (14)</th>\n      <th>Average Day Range (14)</th>\n      <th>Average Directional Index (14)</th>\n      <th>...</th>\n      <th>Reco. VWMA</th>\n      <th>Prev. Awesome Oscillator</th>\n      <th>Prev. Commodity Channel Index (20)</th>\n      <th>Prev. Momentum (10)</th>\n      <th>Prev. Negative Directional Indicator (14)</th>\n      <th>Prev. Positive Directional Indicator (14)</th>\n      <th>Prev. Relative Strength Index (14)</th>\n      <th>Prev. Relative Strength Index (7)</th>\n      <th>Prev. Stochastic %D (14, 3, 3)</th>\n      <th>Prev. Stochastic %K (14, 3, 3)</th>\n    </tr>\n  </thead>\n  <tbody>\n    <tr>\n      <th>0</th>\n      <td>NASDAQ:AAPL</td>\n      <td>AAPL</td>\n      <td>Apple Inc.</td>\n      <td>198.230000</td>\n      <td>0.049107</td>\n      <td>139987.886060</td>\n      <td>92.857143</td>\n      <td>0.000000</td>\n      <td>3.069664</td>\n      <td>40.118395</td>\n      <td>...</td>\n      <td>-1</td>\n      <td>-1.490926</td>\n      <td>-272.391911</td>\n      <td>-13.900</td>\n      <td>39.292758</td>\n      <td>15.419603</td>\n      <td>29.564162</td>\n      <td>15.552384</td>\n      <td>18.357980</td>\n      <td>4.659713</td>\n    </tr>\n    <tr>\n      <th>1</th>\n      <td>NASDAQ:MSFT</td>\n      <td>MSFT</td>\n      <td>Microsoft Corporation</td>\n      <td>366.780000</td>\n      <td>0.088543</td>\n      <td>335263.031381</td>\n      <td>100.000000</td>\n      <td>0.000000</td>\n      <td>7.342850</td>\n      <td>15.771334</td>\n      <td>...</td>\n      <td>-1</td>\n      <td>-7.724309</td>\n      <td>-94.037270</td>\n      <td>-15.000</td>\n      <td>23.813940</td>\n      <td>22.423677</td>\n      <td>44.611207</td>\n      <td>40.467871</td>\n      <td>5.617857</td>\n      <td>5.871685</td>\n    </tr>\n    <tr>\n      <th>2</th>\n      <td>NASDAQ:GOOGL</td>\n      <td>GOOGL</td>\n      <td>Alphabet Inc.</td>\n      <td>151.546575</td>\n      <td>2.401327</td>\n      <td>5150.382091</td>\n      <td>7.142857</td>\n      <td>50.000000</td>\n      <td>2.778929</td>\n      <td>21.133315</td>\n      <td>...</td>\n      <td>1</td>\n      <td>6.342816</td>\n      <td>79.180969</td>\n      <td>10.000</td>\n      <td>18.285830</td>\n      <td>29.198317</td>\n      <td>63.395318</td>\n      <td>66.919721</td>\n      <td>69.752291</td>\n      <td>71.799828</td>\n    </tr>\n    <tr>\n      <th>3</th>\n      <td>NASDAQ:GOOG</td>\n      <td>GOOG</td>\n      <td>Alphabet Inc.</td>\n      <td>152.100000</td>\n      <td>24.312350</td>\n      <td>365.478883</td>\n      <td>7.142857</td>\n      <td>50.000000</td>\n      <td>2.792500</td>\n      <td>20.051500</td>\n      <td>...</td>\n      <td>1</td>\n      <td>6.110606</td>\n      <td>80.269193</td>\n      <td>10.060</td>\n      <td>18.656921</td>\n      <td>29.108679</td>\n      <td>63.097832</td>\n      <td>66.882035</td>\n      <td>69.573538</td>\n      <td>71.920702</td>\n    </tr>\n    <tr>\n      <th>4</th>\n      <td>NASDAQ:AMZN</td>\n      <td>AMZN</td>\n      <td>Amazon.com, Inc.</td>\n      <td>188.653910</td>\n      <td>0.065624</td>\n      <td>114723.506244</td>\n      <td>35.714286</td>\n      <td>85.714286</td>\n      <td>3.213329</td>\n      <td>21.261984</td>\n      <td>...</td>\n      <td>1</td>\n      <td>3.565787</td>\n      <td>209.566927</td>\n      <td>13.420</td>\n      <td>19.711483</td>\n      <td>37.727425</td>\n      <td>68.211562</td>\n      <td>75.411259</td>\n      <td>47.046071</td>\n      <td>65.706207</td>\n    </tr>\n    <tr>\n      <th>5</th>\n      <td>NASDAQ:NVDA</td>\n      <td>NVDA</td>\n      <td>NVIDIA Corporation</td>\n      <td>480.880000</td>\n      <td>0.333335</td>\n      <td>101988.676166</td>\n      <td>71.428571</td>\n      <td>0.000000</td>\n      <td>13.223593</td>\n      <td>27.835676</td>\n      <td>...</td>\n      <td>-1</td>\n      <td>10.007194</td>\n      <td>-21.357957</td>\n      <td>8.045</td>\n      <td>22.175848</td>\n      <td>25.391444</td>\n      <td>56.042851</td>\n      <td>52.123820</td>\n      <td>30.741341</td>\n      <td>33.165012</td>\n    </tr>\n    <tr>\n      <th>6</th>\n      <td>NASDAQ:META</td>\n      <td>META</td>\n      <td>Meta Platforms, Inc.</td>\n      <td>384.330000</td>\n      <td>17.550000</td>\n      <td>643.495838</td>\n      <td>21.428571</td>\n      <td>50.000000</td>\n      <td>9.605829</td>\n      <td>31.438554</td>\n      <td>...</td>\n      <td>1</td>\n      <td>15.050205</td>\n      <td>49.719600</td>\n      <td>24.950</td>\n      <td>14.824744</td>\n      <td>24.406424</td>\n      <td>59.537741</td>\n      <td>58.124682</td>\n      <td>68.665998</td>\n      <td>66.473087</td>\n    </tr>\n    <tr>\n      <th>7</th>\n      <td>NYSE:BRK.B</td>\n      <td>BRK.B</td>\n      <td>Berkshire Hathaway Inc. New</td>\n      <td>364.630000</td>\n      <td>19.800000</td>\n      <td>1467.801724</td>\n      <td>0.000000</td>\n      <td>92.857143</td>\n      <td>4.111000</td>\n      <td>36.330127</td>\n      <td>...</td>\n      <td>1</td>\n      <td>9.487868</td>\n      <td>234.104374</td>\n      <td>12.950</td>\n      <td>8.198925</td>\n      <td>34.184479</td>\n      <td>72.739217</td>\n      <td>77.046157</td>\n      <td>83.840677</td>\n      <td>82.329368</td>\n    </tr>\n    <tr>\n      <th>8</th>\n      <td>NYSE:BRK.A</td>\n      <td>BRK.A</td>\n      <td>Berkshire Hathaway Inc.</td>\n      <td>555800.000000</td>\n      <td>235.000000</td>\n      <td>225655.510204</td>\n      <td>7.142857</td>\n      <td>92.857143</td>\n      <td>8071.452857</td>\n      <td>36.868648</td>\n      <td>...</td>\n      <td>1</td>\n      <td>14607.710588</td>\n      <td>218.342262</td>\n      <td>19273.500</td>\n      <td>6.226804</td>\n      <td>30.264063</td>\n      <td>70.444689</td>\n      <td>75.060915</td>\n      <td>82.199958</td>\n      <td>84.883521</td>\n    </tr>\n    <tr>\n      <th>9</th>\n      <td>NASDAQ:TSLA</td>\n      <td>TSLA</td>\n      <td>Tesla, Inc.</td>\n      <td>414.496252</td>\n      <td>0.998666</td>\n      <td>19613.183833</td>\n      <td>92.857143</td>\n      <td>0.000000</td>\n      <td>10.157136</td>\n      <td>23.045450</td>\n      <td>...</td>\n      <td>-1</td>\n      <td>-10.625394</td>\n      <td>-138.152737</td>\n      <td>-17.610</td>\n      <td>31.642809</td>\n      <td>19.366053</td>\n      <td>43.822257</td>\n      <td>35.254267</td>\n      <td>12.632113</td>\n      <td>13.457456</td>\n    </tr>\n  </tbody>\n</table>\n<p>10 rows × 302 columns</p>\n</div>"
     },
     "execution_count": 2,
     "metadata": {},
     "output_type": "execute_result"
    }
   ],
   "source": [
    "ss = tvs.StockScreener()\n",
    "df = ss.get()\n",
    "df.head(10)"
   ],
   "metadata": {
    "collapsed": false,
    "ExecuteTime": {
     "end_time": "2023-08-09T12:32:33.373092242Z",
     "start_time": "2023-08-09T12:32:32.744782953Z"
    }
   },
   "id": "e784d4685477f41b"
  },
  {
   "cell_type": "markdown",
   "source": [
    "## Filters\n",
    "Subtypes Filters"
   ],
   "metadata": {
    "collapsed": false
   },
   "id": "8e7b7bc92eff736b"
  },
  {
   "cell_type": "code",
   "execution_count": 3,
   "outputs": [
    {
     "data": {
      "text/plain": "         Symbol   Name                  Description  All Time High  \\\n0   NASDAQ:AAPL   AAPL                   Apple Inc.     198.230000   \n1   NASDAQ:MSFT   MSFT        Microsoft Corporation     366.780000   \n2  NASDAQ:GOOGL  GOOGL                Alphabet Inc.     151.546575   \n3   NASDAQ:GOOG   GOOG                Alphabet Inc.     152.100000   \n4   NASDAQ:AMZN   AMZN             Amazon.com, Inc.     188.653910   \n5   NASDAQ:NVDA   NVDA           NVIDIA Corporation     480.880000   \n6   NASDAQ:META   META         Meta Platforms, Inc.     384.330000   \n7    NYSE:BRK.B  BRK.B  Berkshire Hathaway Inc. New     364.630000   \n8    NYSE:BRK.A  BRK.A      Berkshire Hathaway Inc.  555800.000000   \n9   NASDAQ:TSLA   TSLA                  Tesla, Inc.     414.496252   \n\n   All Time Low  All Time Performance  Aroon Down (14)  Aroon Up (14)  \\\n0      0.049107         139987.886060        92.857143       0.000000   \n1      0.088543         335263.031381       100.000000       0.000000   \n2      2.401327           5150.382091         7.142857      50.000000   \n3     24.312350            365.478883         7.142857      50.000000   \n4      0.065624         114723.506244        35.714286      85.714286   \n5      0.333335         101988.676166        71.428571       0.000000   \n6     17.550000            643.495838        21.428571      50.000000   \n7     19.800000           1467.801724         0.000000      92.857143   \n8    235.000000         225655.510204         7.142857      92.857143   \n9      0.998666          19613.183833        92.857143       0.000000   \n\n   Average Day Range (14)  Average Directional Index (14)  ...  Reco. VWMA  \\\n0                3.069664                       40.118395  ...          -1   \n1                7.342850                       15.771334  ...          -1   \n2                2.778929                       21.133315  ...           1   \n3                2.792500                       20.051500  ...           1   \n4                3.213329                       21.261984  ...           1   \n5               13.223593                       27.835676  ...          -1   \n6                9.605829                       31.438554  ...           1   \n7                4.111000                       36.330127  ...           1   \n8             8071.452857                       36.868648  ...           1   \n9               10.157136                       23.045450  ...          -1   \n\n   Prev. Awesome Oscillator  Prev. Commodity Channel Index (20)  \\\n0                 -1.490926                         -272.391911   \n1                 -7.724309                          -94.037270   \n2                  6.342816                           79.180969   \n3                  6.110606                           80.269193   \n4                  3.565787                          209.566927   \n5                 10.007194                          -21.357957   \n6                 15.050205                           49.719600   \n7                  9.487868                          234.104374   \n8              14607.710588                          218.342262   \n9                -10.625394                         -138.152737   \n\n   Prev. Momentum (10)  Prev. Negative Directional Indicator (14)  \\\n0              -13.900                                  39.292758   \n1              -15.000                                  23.813940   \n2               10.000                                  18.285830   \n3               10.060                                  18.656921   \n4               13.420                                  19.711483   \n5                8.045                                  22.175848   \n6               24.950                                  14.824744   \n7               12.950                                   8.198925   \n8            19273.500                                   6.226804   \n9              -17.610                                  31.642809   \n\n   Prev. Positive Directional Indicator (14)  \\\n0                                  15.419603   \n1                                  22.423677   \n2                                  29.198317   \n3                                  29.108679   \n4                                  37.727425   \n5                                  25.391444   \n6                                  24.406424   \n7                                  34.184479   \n8                                  30.264063   \n9                                  19.366053   \n\n   Prev. Relative Strength Index (14)  Prev. Relative Strength Index (7)  \\\n0                           29.564162                          15.552384   \n1                           44.611207                          40.467871   \n2                           63.395318                          66.919721   \n3                           63.097832                          66.882035   \n4                           68.211562                          75.411259   \n5                           56.042851                          52.123820   \n6                           59.537741                          58.124682   \n7                           72.739217                          77.046157   \n8                           70.444689                          75.060915   \n9                           43.822257                          35.254267   \n\n   Prev. Stochastic %D (14, 3, 3)  Prev. Stochastic %K (14, 3, 3)  \n0                       18.357980                        4.659713  \n1                        5.617857                        5.871685  \n2                       69.752291                       71.799828  \n3                       69.573538                       71.920702  \n4                       47.046071                       65.706207  \n5                       30.741341                       33.165012  \n6                       68.665998                       66.473087  \n7                       83.840677                       82.329368  \n8                       82.199958                       84.883521  \n9                       12.632113                       13.457456  \n\n[10 rows x 302 columns]",
      "text/html": "<div>\n<style scoped>\n    .dataframe tbody tr th:only-of-type {\n        vertical-align: middle;\n    }\n\n    .dataframe tbody tr th {\n        vertical-align: top;\n    }\n\n    .dataframe thead th {\n        text-align: right;\n    }\n</style>\n<table border=\"1\" class=\"dataframe\">\n  <thead>\n    <tr style=\"text-align: right;\">\n      <th></th>\n      <th>Symbol</th>\n      <th>Name</th>\n      <th>Description</th>\n      <th>All Time High</th>\n      <th>All Time Low</th>\n      <th>All Time Performance</th>\n      <th>Aroon Down (14)</th>\n      <th>Aroon Up (14)</th>\n      <th>Average Day Range (14)</th>\n      <th>Average Directional Index (14)</th>\n      <th>...</th>\n      <th>Reco. VWMA</th>\n      <th>Prev. Awesome Oscillator</th>\n      <th>Prev. Commodity Channel Index (20)</th>\n      <th>Prev. Momentum (10)</th>\n      <th>Prev. Negative Directional Indicator (14)</th>\n      <th>Prev. Positive Directional Indicator (14)</th>\n      <th>Prev. Relative Strength Index (14)</th>\n      <th>Prev. Relative Strength Index (7)</th>\n      <th>Prev. Stochastic %D (14, 3, 3)</th>\n      <th>Prev. Stochastic %K (14, 3, 3)</th>\n    </tr>\n  </thead>\n  <tbody>\n    <tr>\n      <th>0</th>\n      <td>NASDAQ:AAPL</td>\n      <td>AAPL</td>\n      <td>Apple Inc.</td>\n      <td>198.230000</td>\n      <td>0.049107</td>\n      <td>139987.886060</td>\n      <td>92.857143</td>\n      <td>0.000000</td>\n      <td>3.069664</td>\n      <td>40.118395</td>\n      <td>...</td>\n      <td>-1</td>\n      <td>-1.490926</td>\n      <td>-272.391911</td>\n      <td>-13.900</td>\n      <td>39.292758</td>\n      <td>15.419603</td>\n      <td>29.564162</td>\n      <td>15.552384</td>\n      <td>18.357980</td>\n      <td>4.659713</td>\n    </tr>\n    <tr>\n      <th>1</th>\n      <td>NASDAQ:MSFT</td>\n      <td>MSFT</td>\n      <td>Microsoft Corporation</td>\n      <td>366.780000</td>\n      <td>0.088543</td>\n      <td>335263.031381</td>\n      <td>100.000000</td>\n      <td>0.000000</td>\n      <td>7.342850</td>\n      <td>15.771334</td>\n      <td>...</td>\n      <td>-1</td>\n      <td>-7.724309</td>\n      <td>-94.037270</td>\n      <td>-15.000</td>\n      <td>23.813940</td>\n      <td>22.423677</td>\n      <td>44.611207</td>\n      <td>40.467871</td>\n      <td>5.617857</td>\n      <td>5.871685</td>\n    </tr>\n    <tr>\n      <th>2</th>\n      <td>NASDAQ:GOOGL</td>\n      <td>GOOGL</td>\n      <td>Alphabet Inc.</td>\n      <td>151.546575</td>\n      <td>2.401327</td>\n      <td>5150.382091</td>\n      <td>7.142857</td>\n      <td>50.000000</td>\n      <td>2.778929</td>\n      <td>21.133315</td>\n      <td>...</td>\n      <td>1</td>\n      <td>6.342816</td>\n      <td>79.180969</td>\n      <td>10.000</td>\n      <td>18.285830</td>\n      <td>29.198317</td>\n      <td>63.395318</td>\n      <td>66.919721</td>\n      <td>69.752291</td>\n      <td>71.799828</td>\n    </tr>\n    <tr>\n      <th>3</th>\n      <td>NASDAQ:GOOG</td>\n      <td>GOOG</td>\n      <td>Alphabet Inc.</td>\n      <td>152.100000</td>\n      <td>24.312350</td>\n      <td>365.478883</td>\n      <td>7.142857</td>\n      <td>50.000000</td>\n      <td>2.792500</td>\n      <td>20.051500</td>\n      <td>...</td>\n      <td>1</td>\n      <td>6.110606</td>\n      <td>80.269193</td>\n      <td>10.060</td>\n      <td>18.656921</td>\n      <td>29.108679</td>\n      <td>63.097832</td>\n      <td>66.882035</td>\n      <td>69.573538</td>\n      <td>71.920702</td>\n    </tr>\n    <tr>\n      <th>4</th>\n      <td>NASDAQ:AMZN</td>\n      <td>AMZN</td>\n      <td>Amazon.com, Inc.</td>\n      <td>188.653910</td>\n      <td>0.065624</td>\n      <td>114723.506244</td>\n      <td>35.714286</td>\n      <td>85.714286</td>\n      <td>3.213329</td>\n      <td>21.261984</td>\n      <td>...</td>\n      <td>1</td>\n      <td>3.565787</td>\n      <td>209.566927</td>\n      <td>13.420</td>\n      <td>19.711483</td>\n      <td>37.727425</td>\n      <td>68.211562</td>\n      <td>75.411259</td>\n      <td>47.046071</td>\n      <td>65.706207</td>\n    </tr>\n    <tr>\n      <th>5</th>\n      <td>NASDAQ:NVDA</td>\n      <td>NVDA</td>\n      <td>NVIDIA Corporation</td>\n      <td>480.880000</td>\n      <td>0.333335</td>\n      <td>101988.676166</td>\n      <td>71.428571</td>\n      <td>0.000000</td>\n      <td>13.223593</td>\n      <td>27.835676</td>\n      <td>...</td>\n      <td>-1</td>\n      <td>10.007194</td>\n      <td>-21.357957</td>\n      <td>8.045</td>\n      <td>22.175848</td>\n      <td>25.391444</td>\n      <td>56.042851</td>\n      <td>52.123820</td>\n      <td>30.741341</td>\n      <td>33.165012</td>\n    </tr>\n    <tr>\n      <th>6</th>\n      <td>NASDAQ:META</td>\n      <td>META</td>\n      <td>Meta Platforms, Inc.</td>\n      <td>384.330000</td>\n      <td>17.550000</td>\n      <td>643.495838</td>\n      <td>21.428571</td>\n      <td>50.000000</td>\n      <td>9.605829</td>\n      <td>31.438554</td>\n      <td>...</td>\n      <td>1</td>\n      <td>15.050205</td>\n      <td>49.719600</td>\n      <td>24.950</td>\n      <td>14.824744</td>\n      <td>24.406424</td>\n      <td>59.537741</td>\n      <td>58.124682</td>\n      <td>68.665998</td>\n      <td>66.473087</td>\n    </tr>\n    <tr>\n      <th>7</th>\n      <td>NYSE:BRK.B</td>\n      <td>BRK.B</td>\n      <td>Berkshire Hathaway Inc. New</td>\n      <td>364.630000</td>\n      <td>19.800000</td>\n      <td>1467.801724</td>\n      <td>0.000000</td>\n      <td>92.857143</td>\n      <td>4.111000</td>\n      <td>36.330127</td>\n      <td>...</td>\n      <td>1</td>\n      <td>9.487868</td>\n      <td>234.104374</td>\n      <td>12.950</td>\n      <td>8.198925</td>\n      <td>34.184479</td>\n      <td>72.739217</td>\n      <td>77.046157</td>\n      <td>83.840677</td>\n      <td>82.329368</td>\n    </tr>\n    <tr>\n      <th>8</th>\n      <td>NYSE:BRK.A</td>\n      <td>BRK.A</td>\n      <td>Berkshire Hathaway Inc.</td>\n      <td>555800.000000</td>\n      <td>235.000000</td>\n      <td>225655.510204</td>\n      <td>7.142857</td>\n      <td>92.857143</td>\n      <td>8071.452857</td>\n      <td>36.868648</td>\n      <td>...</td>\n      <td>1</td>\n      <td>14607.710588</td>\n      <td>218.342262</td>\n      <td>19273.500</td>\n      <td>6.226804</td>\n      <td>30.264063</td>\n      <td>70.444689</td>\n      <td>75.060915</td>\n      <td>82.199958</td>\n      <td>84.883521</td>\n    </tr>\n    <tr>\n      <th>9</th>\n      <td>NASDAQ:TSLA</td>\n      <td>TSLA</td>\n      <td>Tesla, Inc.</td>\n      <td>414.496252</td>\n      <td>0.998666</td>\n      <td>19613.183833</td>\n      <td>92.857143</td>\n      <td>0.000000</td>\n      <td>10.157136</td>\n      <td>23.045450</td>\n      <td>...</td>\n      <td>-1</td>\n      <td>-10.625394</td>\n      <td>-138.152737</td>\n      <td>-17.610</td>\n      <td>31.642809</td>\n      <td>19.366053</td>\n      <td>43.822257</td>\n      <td>35.254267</td>\n      <td>12.632113</td>\n      <td>13.457456</td>\n    </tr>\n  </tbody>\n</table>\n<p>10 rows × 302 columns</p>\n</div>"
     },
     "execution_count": 3,
     "metadata": {},
     "output_type": "execute_result"
    }
   ],
   "source": [
    "ss = tvs.StockScreener()\n",
    "\n",
    "# Filter by Common Stock and ETF\n",
    "ss.set_subtypes(SymbolType.COMMON_STOCK, SymbolType.ETF)\n",
    "\n",
    "df = ss.get()\n",
    "df.head(10)"
   ],
   "metadata": {
    "collapsed": false,
    "ExecuteTime": {
     "end_time": "2023-08-09T12:32:34.151454726Z",
     "start_time": "2023-08-09T12:32:33.373188542Z"
    }
   },
   "id": "ea4f60aa015ba183"
  },
  {
   "cell_type": "markdown",
   "source": [
    "## Search\n",
    "Search for stocks with name matching 'AA'"
   ],
   "metadata": {
    "collapsed": false
   },
   "id": "97af5914a2079e91"
  },
  {
   "cell_type": "code",
   "execution_count": 7,
   "outputs": [
    {
     "data": {
      "text/plain": "         Symbol   Name                          Description  All Time High  \\\n0   NASDAQ:AAPL   AAPL                           Apple Inc.     198.230000   \n1     OTC:AAIGF  AAIGF                      AIA Group, Ltd.      14.560000   \n2     OTC:MKGAF  MKGAF                           Merck KGaA     264.400000   \n3     OTC:AAUKF  AAUKF                   Anglo American plc      73.406520   \n4     OTC:MRAAF  MRAAF            Murata Manufacturing Inc.     183.770000   \n5     NYSE:FICO   FICO               Fair Isaac Corporation     892.030000   \n6     OTC:FSNUF  FSNUF              Fresenius SE & Co. KGaA     184.250000   \n7     OTC:FMCQF  FMCQF  Fresenius Medical Care AG & Co KGaA     151.782200   \n8  NASDAQ:PARAA  PARAA                     Paramount Global     101.602500   \n9    NASDAQ:AAL    AAL        American Airlines Group, Inc.      63.269961   \n\n   All Time Low  All Time Performance  Aroon Down (14)  Aroon Up (14)  \\\n0      0.049107         139987.886060        92.857143       0.000000   \n1      2.460000            222.916667       100.000000      14.285714   \n2     18.250000            341.755486         7.142857      78.571429   \n3      3.131100             61.515063       100.000000      42.857143   \n4     33.552800             22.735905       100.000000      71.428571   \n5      0.555564          62375.600029        71.428571      78.571429   \n6     19.500000            -81.474513         0.000000      92.857143   \n7     26.550000            -24.563614         7.142857     100.000000   \n8      3.060000            -20.510806        28.571429     100.000000   \n9      1.449999            -23.135345        92.857143       0.000000   \n\n   Average Day Range (14)  Average Directional Index (14)  ...  Reco. VWMA  \\\n0                3.069664                       40.118395  ...          -1   \n1                0.455371                       12.923250  ...          -1   \n2                4.920214                       18.561346  ...           1   \n3                0.430714                       10.943106  ...          -1   \n4                0.980357                       14.038983  ...          -1   \n5               25.680707                       22.053303  ...           1   \n6                0.032386                       13.309249  ...           1   \n7                0.043929                       26.764646  ...           1   \n8                0.624286                       14.978305  ...           1   \n9                0.448414                       32.077184  ...          -1   \n\n   Prev. Awesome Oscillator  Prev. Commodity Channel Index (20)  \\\n0                 -1.490926                         -272.391911   \n1                 -0.388350                         -167.643252   \n2                  6.398263                           34.550440   \n3                 -0.490315                          -81.131481   \n4                  0.382426                          -44.801992   \n5                 26.634087                          124.236672   \n6                  2.793660                          172.100669   \n7                  2.619715                          126.353943   \n8                  0.528818                          164.280893   \n9                 -1.284410                          -95.140065   \n\n   Prev. Momentum (10)  Prev. Negative Directional Indicator (14)  \\\n0           -13.900000                                  39.292758   \n1            -0.410000                                  17.576720   \n2            -6.850000                                  24.521247   \n3            -1.310000                                  38.882917   \n4            -2.427000                                  37.281414   \n5            26.490000                                  15.873809   \n6             4.830000                                  38.066371   \n7            15.727521                                  39.992011   \n8             1.730000                                  18.252360   \n9            -0.890000                                  32.084938   \n\n   Prev. Positive Directional Indicator (14)  \\\n0                                  15.419603   \n1                                  12.869259   \n2                                  31.835149   \n3                                  38.141133   \n4                                  28.816348   \n5                                  28.606851   \n6                                  59.846090   \n7                                  55.879695   \n8                                  30.650870   \n9                                  16.887877   \n\n   Prev. Relative Strength Index (14)  Prev. Relative Strength Index (7)  \\\n0                           29.564162                          15.552384   \n1                           36.521381                          26.837405   \n2                           51.376596                          49.708445   \n3                           43.649290                          36.998894   \n4                           46.746933                          42.948113   \n5                           61.603592                          63.765694   \n6                           60.987151                          72.358448   \n7                           58.003296                          75.560747   \n8                           59.903060                          66.900059   \n9                           36.914709                          28.445283   \n\n   Prev. Stochastic %D (14, 3, 3)  Prev. Stochastic %K (14, 3, 3)  \n0                       18.357980                        4.659713  \n1                       30.023695                       30.564619  \n2                       58.217788                       59.568619  \n3                       26.597545                       13.976391  \n4                       44.784146                       30.069184  \n5                       43.505325                       51.644858  \n6                       81.544402                       99.600993  \n7                       96.984470                       96.989537  \n8                       67.663679                       74.311881  \n9                        7.408256                        7.744037  \n\n[10 rows x 302 columns]",
      "text/html": "<div>\n<style scoped>\n    .dataframe tbody tr th:only-of-type {\n        vertical-align: middle;\n    }\n\n    .dataframe tbody tr th {\n        vertical-align: top;\n    }\n\n    .dataframe thead th {\n        text-align: right;\n    }\n</style>\n<table border=\"1\" class=\"dataframe\">\n  <thead>\n    <tr style=\"text-align: right;\">\n      <th></th>\n      <th>Symbol</th>\n      <th>Name</th>\n      <th>Description</th>\n      <th>All Time High</th>\n      <th>All Time Low</th>\n      <th>All Time Performance</th>\n      <th>Aroon Down (14)</th>\n      <th>Aroon Up (14)</th>\n      <th>Average Day Range (14)</th>\n      <th>Average Directional Index (14)</th>\n      <th>...</th>\n      <th>Reco. VWMA</th>\n      <th>Prev. Awesome Oscillator</th>\n      <th>Prev. Commodity Channel Index (20)</th>\n      <th>Prev. Momentum (10)</th>\n      <th>Prev. Negative Directional Indicator (14)</th>\n      <th>Prev. Positive Directional Indicator (14)</th>\n      <th>Prev. Relative Strength Index (14)</th>\n      <th>Prev. Relative Strength Index (7)</th>\n      <th>Prev. Stochastic %D (14, 3, 3)</th>\n      <th>Prev. Stochastic %K (14, 3, 3)</th>\n    </tr>\n  </thead>\n  <tbody>\n    <tr>\n      <th>0</th>\n      <td>NASDAQ:AAPL</td>\n      <td>AAPL</td>\n      <td>Apple Inc.</td>\n      <td>198.230000</td>\n      <td>0.049107</td>\n      <td>139987.886060</td>\n      <td>92.857143</td>\n      <td>0.000000</td>\n      <td>3.069664</td>\n      <td>40.118395</td>\n      <td>...</td>\n      <td>-1</td>\n      <td>-1.490926</td>\n      <td>-272.391911</td>\n      <td>-13.900000</td>\n      <td>39.292758</td>\n      <td>15.419603</td>\n      <td>29.564162</td>\n      <td>15.552384</td>\n      <td>18.357980</td>\n      <td>4.659713</td>\n    </tr>\n    <tr>\n      <th>1</th>\n      <td>OTC:AAIGF</td>\n      <td>AAIGF</td>\n      <td>AIA Group, Ltd.</td>\n      <td>14.560000</td>\n      <td>2.460000</td>\n      <td>222.916667</td>\n      <td>100.000000</td>\n      <td>14.285714</td>\n      <td>0.455371</td>\n      <td>12.923250</td>\n      <td>...</td>\n      <td>-1</td>\n      <td>-0.388350</td>\n      <td>-167.643252</td>\n      <td>-0.410000</td>\n      <td>17.576720</td>\n      <td>12.869259</td>\n      <td>36.521381</td>\n      <td>26.837405</td>\n      <td>30.023695</td>\n      <td>30.564619</td>\n    </tr>\n    <tr>\n      <th>2</th>\n      <td>OTC:MKGAF</td>\n      <td>MKGAF</td>\n      <td>Merck KGaA</td>\n      <td>264.400000</td>\n      <td>18.250000</td>\n      <td>341.755486</td>\n      <td>7.142857</td>\n      <td>78.571429</td>\n      <td>4.920214</td>\n      <td>18.561346</td>\n      <td>...</td>\n      <td>1</td>\n      <td>6.398263</td>\n      <td>34.550440</td>\n      <td>-6.850000</td>\n      <td>24.521247</td>\n      <td>31.835149</td>\n      <td>51.376596</td>\n      <td>49.708445</td>\n      <td>58.217788</td>\n      <td>59.568619</td>\n    </tr>\n    <tr>\n      <th>3</th>\n      <td>OTC:AAUKF</td>\n      <td>AAUKF</td>\n      <td>Anglo American plc</td>\n      <td>73.406520</td>\n      <td>3.131100</td>\n      <td>61.515063</td>\n      <td>100.000000</td>\n      <td>42.857143</td>\n      <td>0.430714</td>\n      <td>10.943106</td>\n      <td>...</td>\n      <td>-1</td>\n      <td>-0.490315</td>\n      <td>-81.131481</td>\n      <td>-1.310000</td>\n      <td>38.882917</td>\n      <td>38.141133</td>\n      <td>43.649290</td>\n      <td>36.998894</td>\n      <td>26.597545</td>\n      <td>13.976391</td>\n    </tr>\n    <tr>\n      <th>4</th>\n      <td>OTC:MRAAF</td>\n      <td>MRAAF</td>\n      <td>Murata Manufacturing Inc.</td>\n      <td>183.770000</td>\n      <td>33.552800</td>\n      <td>22.735905</td>\n      <td>100.000000</td>\n      <td>71.428571</td>\n      <td>0.980357</td>\n      <td>14.038983</td>\n      <td>...</td>\n      <td>-1</td>\n      <td>0.382426</td>\n      <td>-44.801992</td>\n      <td>-2.427000</td>\n      <td>37.281414</td>\n      <td>28.816348</td>\n      <td>46.746933</td>\n      <td>42.948113</td>\n      <td>44.784146</td>\n      <td>30.069184</td>\n    </tr>\n    <tr>\n      <th>5</th>\n      <td>NYSE:FICO</td>\n      <td>FICO</td>\n      <td>Fair Isaac Corporation</td>\n      <td>892.030000</td>\n      <td>0.555564</td>\n      <td>62375.600029</td>\n      <td>71.428571</td>\n      <td>78.571429</td>\n      <td>25.680707</td>\n      <td>22.053303</td>\n      <td>...</td>\n      <td>1</td>\n      <td>26.634087</td>\n      <td>124.236672</td>\n      <td>26.490000</td>\n      <td>15.873809</td>\n      <td>28.606851</td>\n      <td>61.603592</td>\n      <td>63.765694</td>\n      <td>43.505325</td>\n      <td>51.644858</td>\n    </tr>\n    <tr>\n      <th>6</th>\n      <td>OTC:FSNUF</td>\n      <td>FSNUF</td>\n      <td>Fresenius SE &amp; Co. KGaA</td>\n      <td>184.250000</td>\n      <td>19.500000</td>\n      <td>-81.474513</td>\n      <td>0.000000</td>\n      <td>92.857143</td>\n      <td>0.032386</td>\n      <td>13.309249</td>\n      <td>...</td>\n      <td>1</td>\n      <td>2.793660</td>\n      <td>172.100669</td>\n      <td>4.830000</td>\n      <td>38.066371</td>\n      <td>59.846090</td>\n      <td>60.987151</td>\n      <td>72.358448</td>\n      <td>81.544402</td>\n      <td>99.600993</td>\n    </tr>\n    <tr>\n      <th>7</th>\n      <td>OTC:FMCQF</td>\n      <td>FMCQF</td>\n      <td>Fresenius Medical Care AG &amp; Co KGaA</td>\n      <td>151.782200</td>\n      <td>26.550000</td>\n      <td>-24.563614</td>\n      <td>7.142857</td>\n      <td>100.000000</td>\n      <td>0.043929</td>\n      <td>26.764646</td>\n      <td>...</td>\n      <td>1</td>\n      <td>2.619715</td>\n      <td>126.353943</td>\n      <td>15.727521</td>\n      <td>39.992011</td>\n      <td>55.879695</td>\n      <td>58.003296</td>\n      <td>75.560747</td>\n      <td>96.984470</td>\n      <td>96.989537</td>\n    </tr>\n    <tr>\n      <th>8</th>\n      <td>NASDAQ:PARAA</td>\n      <td>PARAA</td>\n      <td>Paramount Global</td>\n      <td>101.602500</td>\n      <td>3.060000</td>\n      <td>-20.510806</td>\n      <td>28.571429</td>\n      <td>100.000000</td>\n      <td>0.624286</td>\n      <td>14.978305</td>\n      <td>...</td>\n      <td>1</td>\n      <td>0.528818</td>\n      <td>164.280893</td>\n      <td>1.730000</td>\n      <td>18.252360</td>\n      <td>30.650870</td>\n      <td>59.903060</td>\n      <td>66.900059</td>\n      <td>67.663679</td>\n      <td>74.311881</td>\n    </tr>\n    <tr>\n      <th>9</th>\n      <td>NASDAQ:AAL</td>\n      <td>AAL</td>\n      <td>American Airlines Group, Inc.</td>\n      <td>63.269961</td>\n      <td>1.449999</td>\n      <td>-23.135345</td>\n      <td>92.857143</td>\n      <td>0.000000</td>\n      <td>0.448414</td>\n      <td>32.077184</td>\n      <td>...</td>\n      <td>-1</td>\n      <td>-1.284410</td>\n      <td>-95.140065</td>\n      <td>-0.890000</td>\n      <td>32.084938</td>\n      <td>16.887877</td>\n      <td>36.914709</td>\n      <td>28.445283</td>\n      <td>7.408256</td>\n      <td>7.744037</td>\n    </tr>\n  </tbody>\n</table>\n<p>10 rows × 302 columns</p>\n</div>"
     },
     "execution_count": 7,
     "metadata": {},
     "output_type": "execute_result"
    }
   ],
   "source": [
    "ss = tvs.StockScreener()\n",
    "\n",
    "# Set Common Stock filter\n",
    "ss.set_subtypes(SymbolType.COMMON_STOCK)\n",
    "\n",
    "# Search term\n",
    "ss.search('AA')\n",
    "\n",
    "df = ss.get()\n",
    "df.head(10)"
   ],
   "metadata": {
    "collapsed": false,
    "ExecuteTime": {
     "end_time": "2023-08-09T12:32:55.100162710Z",
     "start_time": "2023-08-09T12:32:54.396668269Z"
    }
   },
   "id": "e9c208dd46c5856a"
  },
  {
   "cell_type": "code",
   "execution_count": 6,
   "outputs": [],
   "source": [],
   "metadata": {
    "collapsed": false,
    "ExecuteTime": {
     "end_time": "2023-08-09T12:32:35.228952060Z",
     "start_time": "2023-08-09T12:32:35.214012707Z"
    }
   },
   "id": "548ebfdbb046f6b"
  },
  {
   "cell_type": "code",
   "execution_count": 6,
   "outputs": [],
   "source": [],
   "metadata": {
    "collapsed": false,
    "ExecuteTime": {
     "end_time": "2023-08-09T12:32:35.228994502Z",
     "start_time": "2023-08-09T12:32:35.214091986Z"
    }
   },
   "id": "50bd8837a85856a0"
  },
  {
   "cell_type": "code",
   "execution_count": 6,
   "outputs": [],
   "source": [],
   "metadata": {
    "collapsed": false,
    "ExecuteTime": {
     "end_time": "2023-08-09T12:32:35.229268145Z",
     "start_time": "2023-08-09T12:32:35.214167598Z"
    }
   },
   "id": "24b1adeb6da12c7"
  },
  {
   "cell_type": "code",
   "execution_count": 6,
   "outputs": [],
   "source": [],
   "metadata": {
    "collapsed": false,
    "ExecuteTime": {
     "end_time": "2023-08-09T12:32:35.229399310Z",
     "start_time": "2023-08-09T12:32:35.214240860Z"
    }
   },
   "id": "65ee5fbcae73b3f5"
  },
  {
   "cell_type": "code",
   "execution_count": 6,
   "outputs": [],
   "source": [],
   "metadata": {
    "collapsed": false,
    "ExecuteTime": {
     "end_time": "2023-08-09T12:32:35.229441208Z",
     "start_time": "2023-08-09T12:32:35.214375507Z"
    }
   },
   "id": "366c0d8754d601ed"
  },
  {
   "cell_type": "code",
   "execution_count": 6,
   "outputs": [],
   "source": [],
   "metadata": {
    "collapsed": false,
    "ExecuteTime": {
     "end_time": "2023-08-09T12:32:35.229478895Z",
     "start_time": "2023-08-09T12:32:35.214452438Z"
    }
   },
   "id": "2ce6848611e9d049"
  }
 ],
 "metadata": {
  "kernelspec": {
   "display_name": "Python 3",
   "language": "python",
   "name": "python3"
  },
  "language_info": {
   "codemirror_mode": {
    "name": "ipython",
    "version": 2
   },
   "file_extension": ".py",
   "mimetype": "text/x-python",
   "name": "python",
   "nbconvert_exporter": "python",
   "pygments_lexer": "ipython2",
   "version": "2.7.6"
  }
 },
 "nbformat": 4,
 "nbformat_minor": 5
}
