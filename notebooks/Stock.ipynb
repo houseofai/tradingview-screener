{
 "cells": [
  {
   "cell_type": "code",
   "execution_count": 1,
   "id": "initial_id",
   "metadata": {
    "collapsed": true,
    "ExecuteTime": {
     "end_time": "2023-08-10T09:32:21.848586825Z",
     "start_time": "2023-08-10T09:32:21.723843397Z"
    }
   },
   "outputs": [],
   "source": [
    "import tvscreener as tvs\n",
    "from tvscreener import StockField, TimeInterval, StocksMarket\n",
    "from tvscreener.filter import SymbolType, Exchange, Country, SubMarket, FilterOperator\n",
    "\n",
    "%load_ext autoreload\n",
    "%autoreload 2"
   ]
  },
  {
   "cell_type": "markdown",
   "source": [
    "# Stock"
   ],
   "metadata": {
    "collapsed": false
   },
   "id": "6a564379ead09018"
  },
  {
   "cell_type": "markdown",
   "source": [
    "With the first example, we gather all the stocks with the default values.\n",
    "\n",
    "The default values match TradingView Screener: Market is 'USA', and it is sorted by market capitalization."
   ],
   "metadata": {
    "collapsed": false
   },
   "id": "3236fbba726de475"
  },
  {
   "cell_type": "code",
   "execution_count": 2,
   "outputs": [
    {
     "data": {
      "text/plain": "         Symbol   Name                  Description  All Time High  \\\n0   NASDAQ:AAPL   AAPL                   Apple Inc.     198.230000   \n1   NASDAQ:MSFT   MSFT        Microsoft Corporation     366.780000   \n2   NASDAQ:GOOG   GOOG                Alphabet Inc.     152.100000   \n3  NASDAQ:GOOGL  GOOGL                Alphabet Inc.     151.546575   \n4   NASDAQ:AMZN   AMZN             Amazon.com, Inc.     188.653910   \n5   NASDAQ:NVDA   NVDA           NVIDIA Corporation     480.880000   \n6   NASDAQ:META   META         Meta Platforms, Inc.     384.330000   \n7    NYSE:BRK.A  BRK.A      Berkshire Hathaway Inc.  556117.000000   \n8    NYSE:BRK.B  BRK.B  Berkshire Hathaway Inc. New     364.630000   \n9   NASDAQ:TSLA   TSLA                  Tesla, Inc.     414.496252   \n\n   All Time Low  All Time Performance  Aroon Down (14)  Aroon Up (14)  \\\n0      0.049107         138733.483965       100.000000      35.714286   \n1      0.088543         331333.919957       100.000000       0.000000   \n2     24.312350            359.512111         0.000000      42.857143   \n3      2.401327           5080.856484         0.000000      42.857143   \n4      0.065624         113008.620378        28.571429      78.571429   \n5      0.333335          97165.841070       100.000000      35.714286   \n6     17.550000            625.826397        14.285714      42.857143   \n7    235.000000         222463.265306         0.000000     100.000000   \n8     19.800000           1443.189655         0.000000      85.714286   \n9      0.998666          19020.288316       100.000000       0.000000   \n\n   Average Day Range (14)  Average Directional Index (14)  ...  Reco. VWMA  \\\n0                3.065736                       40.079355  ...          -1   \n1                6.875714                       15.697468  ...          -1   \n2                2.574643                       19.905580  ...           1   \n3                2.576786                       21.021282  ...           1   \n4                3.053221                       21.411278  ...           1   \n5               13.332879                       27.054978  ...          -1   \n6                9.424400                       29.809315  ...          -1   \n7             8380.835714                       39.072654  ...           1   \n8                4.427429                       36.871340  ...           1   \n9                9.404993                       23.365350  ...          -1   \n\n   Prev. Awesome Oscillator  Prev. Commodity Channel Index (20)  \\\n0                 -4.720749                         -230.936482   \n1                 -9.388162                         -120.951883   \n2                  5.743768                           74.928140   \n3                  5.906360                           72.958312   \n4                  4.556238                          149.672333   \n5                  5.990850                          -74.360714   \n6                 12.985205                           34.751045   \n7              16183.480559                          204.804702   \n8                 10.636768                          222.169729   \n9                -13.117041                         -127.023557   \n\n   Prev. Momentum (10)  Prev. Negative Directional Indicator (14)  \\\n0               -13.82                                  37.059393   \n1               -24.93                                  26.356568   \n2                 9.05                                  17.902277   \n3                 9.19                                  17.483541   \n4                10.81                                  19.321047   \n5               -10.15                                  23.185145   \n6                18.17                                  13.955954   \n7             24647.99                                   5.755470   \n8                16.15                                   7.507344   \n9               -15.58                                  30.228938   \n\n   Prev. Positive Directional Indicator (14)  \\\n0                                  14.543167   \n1                                  20.989642   \n2                                  27.931277   \n3                                  27.917242   \n4                                  35.171936   \n5                                  23.696781   \n6                                  23.593786   \n7                                  27.973242   \n8                                  31.301009   \n9                                  18.500734   \n\n   Prev. Relative Strength Index (14)  Prev. Relative Strength Index (7)  \\\n0                           31.992621                          20.309959   \n1                           41.620562                          34.633610   \n2                           62.822280                          66.262130   \n3                           63.031565                          66.112989   \n4                           63.522413                          66.884776   \n5                           51.914409                          43.927989   \n6                           56.380701                          52.050151   \n7                           71.024137                          75.885871   \n8                           73.613628                          78.234789   \n9                           42.849362                          33.497846   \n\n   Prev. Stochastic %D (14, 3, 3)  Prev. Stochastic %K (14, 3, 3)  \n0                        8.336929                        6.651887  \n1                        5.696226                        8.199300  \n2                       71.754595                       78.572202  \n3                       71.656644                       78.135739  \n4                       63.325131                       82.572298  \n5                       30.921040                       35.446541  \n6                       65.652211                       65.989356  \n7                       82.180259                       82.477802  \n8                       81.505128                       82.596203  \n9                       12.583370                       13.486642  \n\n[10 rows x 302 columns]",
      "text/html": "<div>\n<style scoped>\n    .dataframe tbody tr th:only-of-type {\n        vertical-align: middle;\n    }\n\n    .dataframe tbody tr th {\n        vertical-align: top;\n    }\n\n    .dataframe thead th {\n        text-align: right;\n    }\n</style>\n<table border=\"1\" class=\"dataframe\">\n  <thead>\n    <tr style=\"text-align: right;\">\n      <th></th>\n      <th>Symbol</th>\n      <th>Name</th>\n      <th>Description</th>\n      <th>All Time High</th>\n      <th>All Time Low</th>\n      <th>All Time Performance</th>\n      <th>Aroon Down (14)</th>\n      <th>Aroon Up (14)</th>\n      <th>Average Day Range (14)</th>\n      <th>Average Directional Index (14)</th>\n      <th>...</th>\n      <th>Reco. VWMA</th>\n      <th>Prev. Awesome Oscillator</th>\n      <th>Prev. Commodity Channel Index (20)</th>\n      <th>Prev. Momentum (10)</th>\n      <th>Prev. Negative Directional Indicator (14)</th>\n      <th>Prev. Positive Directional Indicator (14)</th>\n      <th>Prev. Relative Strength Index (14)</th>\n      <th>Prev. Relative Strength Index (7)</th>\n      <th>Prev. Stochastic %D (14, 3, 3)</th>\n      <th>Prev. Stochastic %K (14, 3, 3)</th>\n    </tr>\n  </thead>\n  <tbody>\n    <tr>\n      <th>0</th>\n      <td>NASDAQ:AAPL</td>\n      <td>AAPL</td>\n      <td>Apple Inc.</td>\n      <td>198.230000</td>\n      <td>0.049107</td>\n      <td>138733.483965</td>\n      <td>100.000000</td>\n      <td>35.714286</td>\n      <td>3.065736</td>\n      <td>40.079355</td>\n      <td>...</td>\n      <td>-1</td>\n      <td>-4.720749</td>\n      <td>-230.936482</td>\n      <td>-13.82</td>\n      <td>37.059393</td>\n      <td>14.543167</td>\n      <td>31.992621</td>\n      <td>20.309959</td>\n      <td>8.336929</td>\n      <td>6.651887</td>\n    </tr>\n    <tr>\n      <th>1</th>\n      <td>NASDAQ:MSFT</td>\n      <td>MSFT</td>\n      <td>Microsoft Corporation</td>\n      <td>366.780000</td>\n      <td>0.088543</td>\n      <td>331333.919957</td>\n      <td>100.000000</td>\n      <td>0.000000</td>\n      <td>6.875714</td>\n      <td>15.697468</td>\n      <td>...</td>\n      <td>-1</td>\n      <td>-9.388162</td>\n      <td>-120.951883</td>\n      <td>-24.93</td>\n      <td>26.356568</td>\n      <td>20.989642</td>\n      <td>41.620562</td>\n      <td>34.633610</td>\n      <td>5.696226</td>\n      <td>8.199300</td>\n    </tr>\n    <tr>\n      <th>2</th>\n      <td>NASDAQ:GOOG</td>\n      <td>GOOG</td>\n      <td>Alphabet Inc.</td>\n      <td>152.100000</td>\n      <td>24.312350</td>\n      <td>359.512111</td>\n      <td>0.000000</td>\n      <td>42.857143</td>\n      <td>2.574643</td>\n      <td>19.905580</td>\n      <td>...</td>\n      <td>1</td>\n      <td>5.743768</td>\n      <td>74.928140</td>\n      <td>9.05</td>\n      <td>17.902277</td>\n      <td>27.931277</td>\n      <td>62.822280</td>\n      <td>66.262130</td>\n      <td>71.754595</td>\n      <td>78.572202</td>\n    </tr>\n    <tr>\n      <th>3</th>\n      <td>NASDAQ:GOOGL</td>\n      <td>GOOGL</td>\n      <td>Alphabet Inc.</td>\n      <td>151.546575</td>\n      <td>2.401327</td>\n      <td>5080.856484</td>\n      <td>0.000000</td>\n      <td>42.857143</td>\n      <td>2.576786</td>\n      <td>21.021282</td>\n      <td>...</td>\n      <td>1</td>\n      <td>5.906360</td>\n      <td>72.958312</td>\n      <td>9.19</td>\n      <td>17.483541</td>\n      <td>27.917242</td>\n      <td>63.031565</td>\n      <td>66.112989</td>\n      <td>71.656644</td>\n      <td>78.135739</td>\n    </tr>\n    <tr>\n      <th>4</th>\n      <td>NASDAQ:AMZN</td>\n      <td>AMZN</td>\n      <td>Amazon.com, Inc.</td>\n      <td>188.653910</td>\n      <td>0.065624</td>\n      <td>113008.620378</td>\n      <td>28.571429</td>\n      <td>78.571429</td>\n      <td>3.053221</td>\n      <td>21.411278</td>\n      <td>...</td>\n      <td>1</td>\n      <td>4.556238</td>\n      <td>149.672333</td>\n      <td>10.81</td>\n      <td>19.321047</td>\n      <td>35.171936</td>\n      <td>63.522413</td>\n      <td>66.884776</td>\n      <td>63.325131</td>\n      <td>82.572298</td>\n    </tr>\n    <tr>\n      <th>5</th>\n      <td>NASDAQ:NVDA</td>\n      <td>NVDA</td>\n      <td>NVIDIA Corporation</td>\n      <td>480.880000</td>\n      <td>0.333335</td>\n      <td>97165.841070</td>\n      <td>100.000000</td>\n      <td>35.714286</td>\n      <td>13.332879</td>\n      <td>27.054978</td>\n      <td>...</td>\n      <td>-1</td>\n      <td>5.990850</td>\n      <td>-74.360714</td>\n      <td>-10.15</td>\n      <td>23.185145</td>\n      <td>23.696781</td>\n      <td>51.914409</td>\n      <td>43.927989</td>\n      <td>30.921040</td>\n      <td>35.446541</td>\n    </tr>\n    <tr>\n      <th>6</th>\n      <td>NASDAQ:META</td>\n      <td>META</td>\n      <td>Meta Platforms, Inc.</td>\n      <td>384.330000</td>\n      <td>17.550000</td>\n      <td>625.826397</td>\n      <td>14.285714</td>\n      <td>42.857143</td>\n      <td>9.424400</td>\n      <td>29.809315</td>\n      <td>...</td>\n      <td>-1</td>\n      <td>12.985205</td>\n      <td>34.751045</td>\n      <td>18.17</td>\n      <td>13.955954</td>\n      <td>23.593786</td>\n      <td>56.380701</td>\n      <td>52.050151</td>\n      <td>65.652211</td>\n      <td>65.989356</td>\n    </tr>\n    <tr>\n      <th>7</th>\n      <td>NYSE:BRK.A</td>\n      <td>BRK.A</td>\n      <td>Berkshire Hathaway Inc.</td>\n      <td>556117.000000</td>\n      <td>235.000000</td>\n      <td>222463.265306</td>\n      <td>0.000000</td>\n      <td>100.000000</td>\n      <td>8380.835714</td>\n      <td>39.072654</td>\n      <td>...</td>\n      <td>1</td>\n      <td>16183.480559</td>\n      <td>204.804702</td>\n      <td>24647.99</td>\n      <td>5.755470</td>\n      <td>27.973242</td>\n      <td>71.024137</td>\n      <td>75.885871</td>\n      <td>82.180259</td>\n      <td>82.477802</td>\n    </tr>\n    <tr>\n      <th>8</th>\n      <td>NYSE:BRK.B</td>\n      <td>BRK.B</td>\n      <td>Berkshire Hathaway Inc. New</td>\n      <td>364.630000</td>\n      <td>19.800000</td>\n      <td>1443.189655</td>\n      <td>0.000000</td>\n      <td>85.714286</td>\n      <td>4.427429</td>\n      <td>36.871340</td>\n      <td>...</td>\n      <td>1</td>\n      <td>10.636768</td>\n      <td>222.169729</td>\n      <td>16.15</td>\n      <td>7.507344</td>\n      <td>31.301009</td>\n      <td>73.613628</td>\n      <td>78.234789</td>\n      <td>81.505128</td>\n      <td>82.596203</td>\n    </tr>\n    <tr>\n      <th>9</th>\n      <td>NASDAQ:TSLA</td>\n      <td>TSLA</td>\n      <td>Tesla, Inc.</td>\n      <td>414.496252</td>\n      <td>0.998666</td>\n      <td>19020.288316</td>\n      <td>100.000000</td>\n      <td>0.000000</td>\n      <td>9.404993</td>\n      <td>23.365350</td>\n      <td>...</td>\n      <td>-1</td>\n      <td>-13.117041</td>\n      <td>-127.023557</td>\n      <td>-15.58</td>\n      <td>30.228938</td>\n      <td>18.500734</td>\n      <td>42.849362</td>\n      <td>33.497846</td>\n      <td>12.583370</td>\n      <td>13.486642</td>\n    </tr>\n  </tbody>\n</table>\n<p>10 rows × 302 columns</p>\n</div>"
     },
     "execution_count": 2,
     "metadata": {},
     "output_type": "execute_result"
    }
   ],
   "source": [
    "ss = tvs.StockScreener()\n",
    "df = ss.get()\n",
    "df.head(10)"
   ],
   "metadata": {
    "collapsed": false,
    "ExecuteTime": {
     "end_time": "2023-08-10T09:32:22.621413852Z",
     "start_time": "2023-08-10T09:32:21.891588881Z"
    }
   },
   "id": "e784d4685477f41b"
  },
  {
   "cell_type": "markdown",
   "source": [
    "## Time Interval\n",
    "\n",
    "TradingView Screener allows to filter by time interval. It has a limitation for free member to 1 Day and above.\n",
    "`tvscreener` allows to filter by any time interval."
   ],
   "metadata": {
    "collapsed": false
   },
   "id": "c726d044fff81381"
  },
  {
   "cell_type": "code",
   "execution_count": 3,
   "outputs": [
    {
     "data": {
      "text/plain": "         Symbol   Name                  Description  All Time High  \\\n0   NASDAQ:AAPL   AAPL                   Apple Inc.     198.230000   \n1   NASDAQ:MSFT   MSFT        Microsoft Corporation     366.780000   \n2  NASDAQ:GOOGL  GOOGL                Alphabet Inc.     151.546575   \n3   NASDAQ:GOOG   GOOG                Alphabet Inc.     152.100000   \n4   NASDAQ:AMZN   AMZN             Amazon.com, Inc.     188.653910   \n5   NASDAQ:NVDA   NVDA           NVIDIA Corporation     480.880000   \n6   NASDAQ:META   META         Meta Platforms, Inc.     384.330000   \n7    NYSE:BRK.A  BRK.A      Berkshire Hathaway Inc.  556117.000000   \n8    NYSE:BRK.B  BRK.B  Berkshire Hathaway Inc. New     364.630000   \n9   NASDAQ:TSLA   TSLA                  Tesla, Inc.     414.496252   \n\n   All Time Low  All Time Performance  Aroon Down (14)  Aroon Up (14)  \\\n0      0.049107         138733.483965       100.000000       0.000000   \n1      0.088543         331333.919957       100.000000       0.000000   \n2      2.401327           5080.856484        78.571429       0.000000   \n3     24.312350            359.512111        78.571429       0.000000   \n4      0.065624         113008.620378        78.571429      64.285714   \n5      0.333335          97165.841070       100.000000       0.000000   \n6     17.550000            625.826397        14.285714     100.000000   \n7    235.000000         222463.265306        78.571429       0.000000   \n8     19.800000           1443.189655        78.571429       0.000000   \n9      0.998666          19020.288316       100.000000       0.000000   \n\n   Average Day Range (14)  Average Directional Index (14)  ...  Reco. VWMA  \\\n0                0.189050                       50.482263  ...          -1   \n1                0.380000                       64.438328  ...          -1   \n2                0.149286                       36.212780  ...           1   \n3                0.149114                       37.663273  ...           1   \n4                0.222579                       30.593581  ...           1   \n5                0.701821                       24.013105  ...          -1   \n6                0.391757                       31.906184  ...          -1   \n7              630.027000                       36.974402  ...           1   \n8                0.327857                       41.221993  ...           1   \n9                0.394514                       57.465402  ...          -1   \n\n   Prev. Awesome Oscillator  Prev. Commodity Channel Index (20)  \\\n0                 -0.511551                          -77.163868   \n1                 -1.302615                         -104.478441   \n2                 -0.428272                         -113.353531   \n3                 -0.419647                         -114.361431   \n4                 -0.409860                          -58.627594   \n5                 -1.145508                         -204.416812   \n6                 -0.634912                          -24.694374   \n7              -1426.243151                          -64.063334   \n8                 -0.833041                          -50.019449   \n9                 -1.314941                         -113.472121   \n\n   Prev. Momentum (10)  Prev. Negative Directional Indicator (14)  \\\n0              -0.1750                                  31.693208   \n1              -0.9200                                  33.555399   \n2              -0.2392                                  30.758658   \n3              -0.2600                                  33.562927   \n4              -0.0051                                  25.499036   \n5              -1.5600                                  25.892001   \n6               0.4700                                  26.179635   \n7            -816.4400                                  28.956062   \n8               0.1000                                  34.505424   \n9              -0.5985                                  34.179634   \n\n   Prev. Positive Directional Indicator (14)  \\\n0                                   7.673470   \n1                                   2.741869   \n2                                   8.903580   \n3                                   8.598175   \n4                                  19.812357   \n5                                  11.006957   \n6                                  13.614647   \n7                                   9.167792   \n8                                  10.951997   \n9                                   4.531923   \n\n   Prev. Relative Strength Index (14)  Prev. Relative Strength Index (7)  \\\n0                           27.934376                          28.787825   \n1                           20.144663                          19.276398   \n2                           27.910567                          22.882972   \n3                           28.652843                          23.998890   \n4                           37.419923                          40.488233   \n5                           25.981434                          14.473859   \n6                           41.065226                          45.834157   \n7                           41.712226                          44.092506   \n8                           39.548974                          44.352384   \n9                           16.516540                          10.600821   \n\n   Prev. Stochastic %D (14, 3, 3)  Prev. Stochastic %K (14, 3, 3)  \n0                       14.795279                       16.331155  \n1                       10.476947                       11.144101  \n2                       10.234625                       11.143122  \n3                       11.956378                       13.214573  \n4                       29.148594                       33.713851  \n5                        9.427391                        4.553163  \n6                       47.382437                       56.755969  \n7                       26.883871                       34.958559  \n8                       24.007238                       33.853502  \n9                        8.744848                        5.165298  \n\n[10 rows x 301 columns]",
      "text/html": "<div>\n<style scoped>\n    .dataframe tbody tr th:only-of-type {\n        vertical-align: middle;\n    }\n\n    .dataframe tbody tr th {\n        vertical-align: top;\n    }\n\n    .dataframe thead th {\n        text-align: right;\n    }\n</style>\n<table border=\"1\" class=\"dataframe\">\n  <thead>\n    <tr style=\"text-align: right;\">\n      <th></th>\n      <th>Symbol</th>\n      <th>Name</th>\n      <th>Description</th>\n      <th>All Time High</th>\n      <th>All Time Low</th>\n      <th>All Time Performance</th>\n      <th>Aroon Down (14)</th>\n      <th>Aroon Up (14)</th>\n      <th>Average Day Range (14)</th>\n      <th>Average Directional Index (14)</th>\n      <th>...</th>\n      <th>Reco. VWMA</th>\n      <th>Prev. Awesome Oscillator</th>\n      <th>Prev. Commodity Channel Index (20)</th>\n      <th>Prev. Momentum (10)</th>\n      <th>Prev. Negative Directional Indicator (14)</th>\n      <th>Prev. Positive Directional Indicator (14)</th>\n      <th>Prev. Relative Strength Index (14)</th>\n      <th>Prev. Relative Strength Index (7)</th>\n      <th>Prev. Stochastic %D (14, 3, 3)</th>\n      <th>Prev. Stochastic %K (14, 3, 3)</th>\n    </tr>\n  </thead>\n  <tbody>\n    <tr>\n      <th>0</th>\n      <td>NASDAQ:AAPL</td>\n      <td>AAPL</td>\n      <td>Apple Inc.</td>\n      <td>198.230000</td>\n      <td>0.049107</td>\n      <td>138733.483965</td>\n      <td>100.000000</td>\n      <td>0.000000</td>\n      <td>0.189050</td>\n      <td>50.482263</td>\n      <td>...</td>\n      <td>-1</td>\n      <td>-0.511551</td>\n      <td>-77.163868</td>\n      <td>-0.1750</td>\n      <td>31.693208</td>\n      <td>7.673470</td>\n      <td>27.934376</td>\n      <td>28.787825</td>\n      <td>14.795279</td>\n      <td>16.331155</td>\n    </tr>\n    <tr>\n      <th>1</th>\n      <td>NASDAQ:MSFT</td>\n      <td>MSFT</td>\n      <td>Microsoft Corporation</td>\n      <td>366.780000</td>\n      <td>0.088543</td>\n      <td>331333.919957</td>\n      <td>100.000000</td>\n      <td>0.000000</td>\n      <td>0.380000</td>\n      <td>64.438328</td>\n      <td>...</td>\n      <td>-1</td>\n      <td>-1.302615</td>\n      <td>-104.478441</td>\n      <td>-0.9200</td>\n      <td>33.555399</td>\n      <td>2.741869</td>\n      <td>20.144663</td>\n      <td>19.276398</td>\n      <td>10.476947</td>\n      <td>11.144101</td>\n    </tr>\n    <tr>\n      <th>2</th>\n      <td>NASDAQ:GOOGL</td>\n      <td>GOOGL</td>\n      <td>Alphabet Inc.</td>\n      <td>151.546575</td>\n      <td>2.401327</td>\n      <td>5080.856484</td>\n      <td>78.571429</td>\n      <td>0.000000</td>\n      <td>0.149286</td>\n      <td>36.212780</td>\n      <td>...</td>\n      <td>1</td>\n      <td>-0.428272</td>\n      <td>-113.353531</td>\n      <td>-0.2392</td>\n      <td>30.758658</td>\n      <td>8.903580</td>\n      <td>27.910567</td>\n      <td>22.882972</td>\n      <td>10.234625</td>\n      <td>11.143122</td>\n    </tr>\n    <tr>\n      <th>3</th>\n      <td>NASDAQ:GOOG</td>\n      <td>GOOG</td>\n      <td>Alphabet Inc.</td>\n      <td>152.100000</td>\n      <td>24.312350</td>\n      <td>359.512111</td>\n      <td>78.571429</td>\n      <td>0.000000</td>\n      <td>0.149114</td>\n      <td>37.663273</td>\n      <td>...</td>\n      <td>1</td>\n      <td>-0.419647</td>\n      <td>-114.361431</td>\n      <td>-0.2600</td>\n      <td>33.562927</td>\n      <td>8.598175</td>\n      <td>28.652843</td>\n      <td>23.998890</td>\n      <td>11.956378</td>\n      <td>13.214573</td>\n    </tr>\n    <tr>\n      <th>4</th>\n      <td>NASDAQ:AMZN</td>\n      <td>AMZN</td>\n      <td>Amazon.com, Inc.</td>\n      <td>188.653910</td>\n      <td>0.065624</td>\n      <td>113008.620378</td>\n      <td>78.571429</td>\n      <td>64.285714</td>\n      <td>0.222579</td>\n      <td>30.593581</td>\n      <td>...</td>\n      <td>1</td>\n      <td>-0.409860</td>\n      <td>-58.627594</td>\n      <td>-0.0051</td>\n      <td>25.499036</td>\n      <td>19.812357</td>\n      <td>37.419923</td>\n      <td>40.488233</td>\n      <td>29.148594</td>\n      <td>33.713851</td>\n    </tr>\n    <tr>\n      <th>5</th>\n      <td>NASDAQ:NVDA</td>\n      <td>NVDA</td>\n      <td>NVIDIA Corporation</td>\n      <td>480.880000</td>\n      <td>0.333335</td>\n      <td>97165.841070</td>\n      <td>100.000000</td>\n      <td>0.000000</td>\n      <td>0.701821</td>\n      <td>24.013105</td>\n      <td>...</td>\n      <td>-1</td>\n      <td>-1.145508</td>\n      <td>-204.416812</td>\n      <td>-1.5600</td>\n      <td>25.892001</td>\n      <td>11.006957</td>\n      <td>25.981434</td>\n      <td>14.473859</td>\n      <td>9.427391</td>\n      <td>4.553163</td>\n    </tr>\n    <tr>\n      <th>6</th>\n      <td>NASDAQ:META</td>\n      <td>META</td>\n      <td>Meta Platforms, Inc.</td>\n      <td>384.330000</td>\n      <td>17.550000</td>\n      <td>625.826397</td>\n      <td>14.285714</td>\n      <td>100.000000</td>\n      <td>0.391757</td>\n      <td>31.906184</td>\n      <td>...</td>\n      <td>-1</td>\n      <td>-0.634912</td>\n      <td>-24.694374</td>\n      <td>0.4700</td>\n      <td>26.179635</td>\n      <td>13.614647</td>\n      <td>41.065226</td>\n      <td>45.834157</td>\n      <td>47.382437</td>\n      <td>56.755969</td>\n    </tr>\n    <tr>\n      <th>7</th>\n      <td>NYSE:BRK.A</td>\n      <td>BRK.A</td>\n      <td>Berkshire Hathaway Inc.</td>\n      <td>556117.000000</td>\n      <td>235.000000</td>\n      <td>222463.265306</td>\n      <td>78.571429</td>\n      <td>0.000000</td>\n      <td>630.027000</td>\n      <td>36.974402</td>\n      <td>...</td>\n      <td>1</td>\n      <td>-1426.243151</td>\n      <td>-64.063334</td>\n      <td>-816.4400</td>\n      <td>28.956062</td>\n      <td>9.167792</td>\n      <td>41.712226</td>\n      <td>44.092506</td>\n      <td>26.883871</td>\n      <td>34.958559</td>\n    </tr>\n    <tr>\n      <th>8</th>\n      <td>NYSE:BRK.B</td>\n      <td>BRK.B</td>\n      <td>Berkshire Hathaway Inc. New</td>\n      <td>364.630000</td>\n      <td>19.800000</td>\n      <td>1443.189655</td>\n      <td>78.571429</td>\n      <td>0.000000</td>\n      <td>0.327857</td>\n      <td>41.221993</td>\n      <td>...</td>\n      <td>1</td>\n      <td>-0.833041</td>\n      <td>-50.019449</td>\n      <td>0.1000</td>\n      <td>34.505424</td>\n      <td>10.951997</td>\n      <td>39.548974</td>\n      <td>44.352384</td>\n      <td>24.007238</td>\n      <td>33.853502</td>\n    </tr>\n    <tr>\n      <th>9</th>\n      <td>NASDAQ:TSLA</td>\n      <td>TSLA</td>\n      <td>Tesla, Inc.</td>\n      <td>414.496252</td>\n      <td>0.998666</td>\n      <td>19020.288316</td>\n      <td>100.000000</td>\n      <td>0.000000</td>\n      <td>0.394514</td>\n      <td>57.465402</td>\n      <td>...</td>\n      <td>-1</td>\n      <td>-1.314941</td>\n      <td>-113.472121</td>\n      <td>-0.5985</td>\n      <td>34.179634</td>\n      <td>4.531923</td>\n      <td>16.516540</td>\n      <td>10.600821</td>\n      <td>8.744848</td>\n      <td>5.165298</td>\n    </tr>\n  </tbody>\n</table>\n<p>10 rows × 301 columns</p>\n</div>"
     },
     "execution_count": 3,
     "metadata": {},
     "output_type": "execute_result"
    }
   ],
   "source": [
    "ss = tvs.StockScreener()\n",
    "df = ss.get(TimeInterval.ONE_MINUTE)\n",
    "df.head(10)"
   ],
   "metadata": {
    "collapsed": false,
    "ExecuteTime": {
     "end_time": "2023-08-10T09:32:23.397407550Z",
     "start_time": "2023-08-10T09:32:22.612427611Z"
    }
   },
   "id": "b43d16de57ee391a"
  },
  {
   "cell_type": "markdown",
   "source": [
    "## Filters\n",
    "\n",
    "![title](img/stock-filters.png)"
   ],
   "metadata": {
    "collapsed": false
   },
   "id": "8e7b7bc92eff736b"
  },
  {
   "cell_type": "markdown",
   "source": [
    "#### Preset Filters\n",
    "For simplicity, preset filters are defined for the most common filters: Symbol Type, Submarket, Exchange, Country, ..."
   ],
   "metadata": {
    "collapsed": false
   },
   "id": "97ea25e3d73054c2"
  },
  {
   "cell_type": "code",
   "execution_count": 4,
   "outputs": [],
   "source": [
    "ss = tvs.StockScreener()"
   ],
   "metadata": {
    "collapsed": false,
    "ExecuteTime": {
     "end_time": "2023-08-10T09:32:23.459217552Z",
     "start_time": "2023-08-10T09:32:23.398429399Z"
    }
   },
   "id": "3938fc2af76d082d"
  },
  {
   "cell_type": "code",
   "execution_count": 5,
   "outputs": [],
   "source": [
    "# Filter by Symbol Types\n",
    "ss.set_symbol_types(SymbolType.COMMON_STOCK, SymbolType.ETF)"
   ],
   "metadata": {
    "collapsed": false,
    "ExecuteTime": {
     "end_time": "2023-08-10T09:32:23.459335348Z",
     "start_time": "2023-08-10T09:32:23.439662868Z"
    }
   },
   "id": "bfc197b86e25f36b"
  },
  {
   "cell_type": "code",
   "execution_count": 6,
   "outputs": [],
   "source": [
    "# Filter by Exchange\n",
    "ss.set_exchanges(Exchange.NASDAQ, Exchange.NYSE)"
   ],
   "metadata": {
    "collapsed": false,
    "ExecuteTime": {
     "end_time": "2023-08-10T09:32:23.459369753Z",
     "start_time": "2023-08-10T09:32:23.439709941Z"
    }
   },
   "id": "3541d7e83e14d4dd"
  },
  {
   "cell_type": "code",
   "execution_count": 7,
   "outputs": [],
   "source": [
    "# Filter by Country \n",
    "ss.set_countries(Country.UNITED_STATES, Country.CANADA)"
   ],
   "metadata": {
    "collapsed": false,
    "ExecuteTime": {
     "end_time": "2023-08-10T09:32:23.459395451Z",
     "start_time": "2023-08-10T09:32:23.439725917Z"
    }
   },
   "id": "29eb3fc25ebe03c3"
  },
  {
   "cell_type": "code",
   "execution_count": 8,
   "outputs": [],
   "source": [
    "# Filter by submarket\n",
    "ss.set_submarkets(SubMarket.OTCQB, SubMarket.PINK)"
   ],
   "metadata": {
    "collapsed": false,
    "ExecuteTime": {
     "end_time": "2023-08-10T09:32:23.459420528Z",
     "start_time": "2023-08-10T09:32:23.439740267Z"
    }
   },
   "id": "7726c96aeabf261f"
  },
  {
   "cell_type": "code",
   "execution_count": 9,
   "outputs": [],
   "source": [
    "# Filter by current trading day\n",
    "ss.set_current_trading_day()\n",
    "# Remove current trading day\n",
    "ss.set_current_trading_day(False)"
   ],
   "metadata": {
    "collapsed": false,
    "ExecuteTime": {
     "end_time": "2023-08-10T09:32:23.459443615Z",
     "start_time": "2023-08-10T09:32:23.439754405Z"
    }
   },
   "id": "4f7607f354753b43"
  },
  {
   "cell_type": "code",
   "execution_count": 10,
   "outputs": [],
   "source": [
    "# Filter by primary listing\n",
    "ss.set_primary_listing()\n",
    "# Remove primary listing\n",
    "ss.set_primary_listing(False)"
   ],
   "metadata": {
    "collapsed": false,
    "ExecuteTime": {
     "end_time": "2023-08-10T09:32:23.459471922Z",
     "start_time": "2023-08-10T09:32:23.439768067Z"
    }
   },
   "id": "c3586225a0f2c3e"
  },
  {
   "cell_type": "markdown",
   "source": [
    "#### Custom Filters\n",
    "Custom filters allows to filter using the other fields like Descriptive fields, Financials fields and Technicals fields like Volume, YTD Performance, EBITDA (TTM), ... "
   ],
   "metadata": {
    "collapsed": false
   },
   "id": "c44d2a0421613e5e"
  },
  {
   "cell_type": "code",
   "execution_count": 11,
   "outputs": [],
   "source": [
    "ss = tvs.StockScreener()"
   ],
   "metadata": {
    "collapsed": false,
    "ExecuteTime": {
     "end_time": "2023-08-10T09:32:23.495044441Z",
     "start_time": "2023-08-10T09:32:23.439797147Z"
    }
   },
   "id": "4edcbf49c8bcd5da"
  },
  {
   "cell_type": "code",
   "execution_count": 12,
   "outputs": [],
   "source": [
    "# Filter by Volume\n",
    "ss.add_filter(StockField.VOLUME, FilterOperator.ABOVE_OR_EQUAL, 50000)\n",
    "\n",
    "# Filter by Basic EPS (TTM):\n",
    "ss.add_filter(StockField.BASIC_EPS_TTM, FilterOperator.BELOW, 10)"
   ],
   "metadata": {
    "collapsed": false,
    "ExecuteTime": {
     "end_time": "2023-08-10T09:32:23.495140053Z",
     "start_time": "2023-08-10T09:32:23.487621466Z"
    }
   },
   "id": "ee881e32a1d99d83"
  },
  {
   "cell_type": "markdown",
   "source": [
    "## Search\n",
    "\n",
    "![title](img/search.png)"
   ],
   "metadata": {
    "collapsed": false
   },
   "id": "97af5914a2079e91"
  },
  {
   "cell_type": "code",
   "execution_count": 13,
   "outputs": [
    {
     "data": {
      "text/plain": "        Symbol   Name                Description  All Time High  All Time Low  \\\n0  NASDAQ:AAPL   AAPL                 Apple Inc.      198.23000      0.049107   \n1    OTC:AAGIY  AAGIY            AIA Group, Ltd.       56.53000      9.930000   \n2    OTC:AAIGF  AAIGF            AIA Group, Ltd.       14.56000      2.460000   \n3    OTC:MKGAF  MKGAF                 Merck KGaA      264.40000     18.250000   \n4    OTC:MKKGY  MKKGY                 Merck KGaA       52.29000      6.989860   \n5    OTC:AAUKF  AAUKF         Anglo American plc       73.40652      3.131100   \n6    OTC:MRAAY  MRAAY  Murata Manufacturing Inc.       26.59000      3.083330   \n7    OTC:MRAAF  MRAAF  Murata Manufacturing Inc.      183.77000     33.552800   \n8    OTC:HENKY  HENKY       Henkel AG & Co. KGAA       32.21625      4.187458   \n9    OTC:HENOY  HENOY       Henkel AG & Co. KGAA       36.00100      5.166615   \n\n   All Time Performance  Aroon Down (14)  Aroon Up (14)  \\\n0         138733.483965       100.000000      35.714286   \n1            215.930736       100.000000      35.714286   \n2            217.534722       100.000000       7.142857   \n3            347.084639         0.000000      71.428571   \n4            195.611214         7.142857      71.428571   \n5             61.515063       100.000000      42.857143   \n6            354.710339        71.428571      57.142857   \n7             22.735905       100.000000      71.428571   \n8            261.266733        92.857143      42.857143   \n9            261.527390        92.857143       0.000000   \n\n   Average Day Range (14)  Average Directional Index (14)  ...  Reco. VWMA  \\\n0                3.065736                       40.079355  ...          -1   \n1                0.758650                       15.760823  ...          -1   \n2                0.435371                       13.981267  ...          -1   \n3                4.739857                       18.904303  ...           1   \n4                0.469207                       16.208810  ...           1   \n5                0.430714                       10.943106  ...          -1   \n6                0.333521                       12.340245  ...          -1   \n7                0.980357                       14.038983  ...          -1   \n8                0.175936                       14.545648  ...          -1   \n9                0.154443                       23.904056  ...          -1   \n\n   Prev. Awesome Oscillator  Prev. Commodity Channel Index (20)  \\\n0                 -4.720749                         -230.936482   \n1                 -1.853754                         -208.939941   \n2                 -0.489674                         -197.455515   \n3                  6.772704                           64.114957   \n4                  1.642201                           78.920394   \n5                 -0.490315                          -81.131481   \n6                 -0.113834                         -114.841438   \n7                  0.382426                          -44.801992   \n8                 -0.374956                         -125.197383   \n9                 -0.634318                         -125.382012   \n\n   Prev. Momentum (10)  Prev. Negative Directional Indicator (14)  \\\n0             -13.8200                                  37.059393   \n1              -2.4300                                  36.824480   \n2              -0.5100                                  18.919587   \n3               2.1500                                  23.729818   \n4               0.9000                                  26.732454   \n5              -1.3100                                  38.882917   \n6              -0.3005                                  36.337504   \n7              -2.4270                                  37.281414   \n8              -0.5900                                  29.754160   \n9              -0.6600                                  41.124889   \n\n   Prev. Positive Directional Indicator (14)  \\\n0                                  14.543167   \n1                                  18.605137   \n2                                  12.080031   \n3                                  34.035186   \n4                                  38.134644   \n5                                  38.141133   \n6                                  26.660987   \n7                                  28.816348   \n8                                  19.962536   \n9                                  17.018665   \n\n   Prev. Relative Strength Index (14)  Prev. Relative Strength Index (7)  \\\n0                           31.992621                          20.309959   \n1                           30.562472                          20.744334   \n2                           33.797517                          22.544000   \n3                           53.860515                          55.223620   \n4                           60.363718                          62.544260   \n5                           43.649290                          36.998894   \n6                           45.237089                          40.807561   \n7                           46.746933                          42.948113   \n8                           39.680007                          36.643907   \n9                           34.062318                          25.350571   \n\n   Prev. Stochastic %D (14, 3, 3)  Prev. Stochastic %K (14, 3, 3)  \n0                        8.336929                        6.651887  \n1                        7.800591                        3.847783  \n2                       28.714994                       23.244157  \n3                       60.587925                       61.596330  \n4                       79.173369                       77.054288  \n5                       26.597545                       13.976391  \n6                       30.982189                       31.802155  \n7                       44.784146                       30.069184  \n8                        9.970209                       13.601314  \n9                        6.118814                        8.882494  \n\n[10 rows x 302 columns]",
      "text/html": "<div>\n<style scoped>\n    .dataframe tbody tr th:only-of-type {\n        vertical-align: middle;\n    }\n\n    .dataframe tbody tr th {\n        vertical-align: top;\n    }\n\n    .dataframe thead th {\n        text-align: right;\n    }\n</style>\n<table border=\"1\" class=\"dataframe\">\n  <thead>\n    <tr style=\"text-align: right;\">\n      <th></th>\n      <th>Symbol</th>\n      <th>Name</th>\n      <th>Description</th>\n      <th>All Time High</th>\n      <th>All Time Low</th>\n      <th>All Time Performance</th>\n      <th>Aroon Down (14)</th>\n      <th>Aroon Up (14)</th>\n      <th>Average Day Range (14)</th>\n      <th>Average Directional Index (14)</th>\n      <th>...</th>\n      <th>Reco. VWMA</th>\n      <th>Prev. Awesome Oscillator</th>\n      <th>Prev. Commodity Channel Index (20)</th>\n      <th>Prev. Momentum (10)</th>\n      <th>Prev. Negative Directional Indicator (14)</th>\n      <th>Prev. Positive Directional Indicator (14)</th>\n      <th>Prev. Relative Strength Index (14)</th>\n      <th>Prev. Relative Strength Index (7)</th>\n      <th>Prev. Stochastic %D (14, 3, 3)</th>\n      <th>Prev. Stochastic %K (14, 3, 3)</th>\n    </tr>\n  </thead>\n  <tbody>\n    <tr>\n      <th>0</th>\n      <td>NASDAQ:AAPL</td>\n      <td>AAPL</td>\n      <td>Apple Inc.</td>\n      <td>198.23000</td>\n      <td>0.049107</td>\n      <td>138733.483965</td>\n      <td>100.000000</td>\n      <td>35.714286</td>\n      <td>3.065736</td>\n      <td>40.079355</td>\n      <td>...</td>\n      <td>-1</td>\n      <td>-4.720749</td>\n      <td>-230.936482</td>\n      <td>-13.8200</td>\n      <td>37.059393</td>\n      <td>14.543167</td>\n      <td>31.992621</td>\n      <td>20.309959</td>\n      <td>8.336929</td>\n      <td>6.651887</td>\n    </tr>\n    <tr>\n      <th>1</th>\n      <td>OTC:AAGIY</td>\n      <td>AAGIY</td>\n      <td>AIA Group, Ltd.</td>\n      <td>56.53000</td>\n      <td>9.930000</td>\n      <td>215.930736</td>\n      <td>100.000000</td>\n      <td>35.714286</td>\n      <td>0.758650</td>\n      <td>15.760823</td>\n      <td>...</td>\n      <td>-1</td>\n      <td>-1.853754</td>\n      <td>-208.939941</td>\n      <td>-2.4300</td>\n      <td>36.824480</td>\n      <td>18.605137</td>\n      <td>30.562472</td>\n      <td>20.744334</td>\n      <td>7.800591</td>\n      <td>3.847783</td>\n    </tr>\n    <tr>\n      <th>2</th>\n      <td>OTC:AAIGF</td>\n      <td>AAIGF</td>\n      <td>AIA Group, Ltd.</td>\n      <td>14.56000</td>\n      <td>2.460000</td>\n      <td>217.534722</td>\n      <td>100.000000</td>\n      <td>7.142857</td>\n      <td>0.435371</td>\n      <td>13.981267</td>\n      <td>...</td>\n      <td>-1</td>\n      <td>-0.489674</td>\n      <td>-197.455515</td>\n      <td>-0.5100</td>\n      <td>18.919587</td>\n      <td>12.080031</td>\n      <td>33.797517</td>\n      <td>22.544000</td>\n      <td>28.714994</td>\n      <td>23.244157</td>\n    </tr>\n    <tr>\n      <th>3</th>\n      <td>OTC:MKGAF</td>\n      <td>MKGAF</td>\n      <td>Merck KGaA</td>\n      <td>264.40000</td>\n      <td>18.250000</td>\n      <td>347.084639</td>\n      <td>0.000000</td>\n      <td>71.428571</td>\n      <td>4.739857</td>\n      <td>18.904303</td>\n      <td>...</td>\n      <td>1</td>\n      <td>6.772704</td>\n      <td>64.114957</td>\n      <td>2.1500</td>\n      <td>23.729818</td>\n      <td>34.035186</td>\n      <td>53.860515</td>\n      <td>55.223620</td>\n      <td>60.587925</td>\n      <td>61.596330</td>\n    </tr>\n    <tr>\n      <th>4</th>\n      <td>OTC:MKKGY</td>\n      <td>MKKGY</td>\n      <td>Merck KGaA</td>\n      <td>52.29000</td>\n      <td>6.989860</td>\n      <td>195.611214</td>\n      <td>7.142857</td>\n      <td>71.428571</td>\n      <td>0.469207</td>\n      <td>16.208810</td>\n      <td>...</td>\n      <td>1</td>\n      <td>1.642201</td>\n      <td>78.920394</td>\n      <td>0.9000</td>\n      <td>26.732454</td>\n      <td>38.134644</td>\n      <td>60.363718</td>\n      <td>62.544260</td>\n      <td>79.173369</td>\n      <td>77.054288</td>\n    </tr>\n    <tr>\n      <th>5</th>\n      <td>OTC:AAUKF</td>\n      <td>AAUKF</td>\n      <td>Anglo American plc</td>\n      <td>73.40652</td>\n      <td>3.131100</td>\n      <td>61.515063</td>\n      <td>100.000000</td>\n      <td>42.857143</td>\n      <td>0.430714</td>\n      <td>10.943106</td>\n      <td>...</td>\n      <td>-1</td>\n      <td>-0.490315</td>\n      <td>-81.131481</td>\n      <td>-1.3100</td>\n      <td>38.882917</td>\n      <td>38.141133</td>\n      <td>43.649290</td>\n      <td>36.998894</td>\n      <td>26.597545</td>\n      <td>13.976391</td>\n    </tr>\n    <tr>\n      <th>6</th>\n      <td>OTC:MRAAY</td>\n      <td>MRAAY</td>\n      <td>Murata Manufacturing Inc.</td>\n      <td>26.59000</td>\n      <td>3.083330</td>\n      <td>354.710339</td>\n      <td>71.428571</td>\n      <td>57.142857</td>\n      <td>0.333521</td>\n      <td>12.340245</td>\n      <td>...</td>\n      <td>-1</td>\n      <td>-0.113834</td>\n      <td>-114.841438</td>\n      <td>-0.3005</td>\n      <td>36.337504</td>\n      <td>26.660987</td>\n      <td>45.237089</td>\n      <td>40.807561</td>\n      <td>30.982189</td>\n      <td>31.802155</td>\n    </tr>\n    <tr>\n      <th>7</th>\n      <td>OTC:MRAAF</td>\n      <td>MRAAF</td>\n      <td>Murata Manufacturing Inc.</td>\n      <td>183.77000</td>\n      <td>33.552800</td>\n      <td>22.735905</td>\n      <td>100.000000</td>\n      <td>71.428571</td>\n      <td>0.980357</td>\n      <td>14.038983</td>\n      <td>...</td>\n      <td>-1</td>\n      <td>0.382426</td>\n      <td>-44.801992</td>\n      <td>-2.4270</td>\n      <td>37.281414</td>\n      <td>28.816348</td>\n      <td>46.746933</td>\n      <td>42.948113</td>\n      <td>44.784146</td>\n      <td>30.069184</td>\n    </tr>\n    <tr>\n      <th>8</th>\n      <td>OTC:HENKY</td>\n      <td>HENKY</td>\n      <td>Henkel AG &amp; Co. KGAA</td>\n      <td>32.21625</td>\n      <td>4.187458</td>\n      <td>261.266733</td>\n      <td>92.857143</td>\n      <td>42.857143</td>\n      <td>0.175936</td>\n      <td>14.545648</td>\n      <td>...</td>\n      <td>-1</td>\n      <td>-0.374956</td>\n      <td>-125.197383</td>\n      <td>-0.5900</td>\n      <td>29.754160</td>\n      <td>19.962536</td>\n      <td>39.680007</td>\n      <td>36.643907</td>\n      <td>9.970209</td>\n      <td>13.601314</td>\n    </tr>\n    <tr>\n      <th>9</th>\n      <td>OTC:HENOY</td>\n      <td>HENOY</td>\n      <td>Henkel AG &amp; Co. KGAA</td>\n      <td>36.00100</td>\n      <td>5.166615</td>\n      <td>261.527390</td>\n      <td>92.857143</td>\n      <td>0.000000</td>\n      <td>0.154443</td>\n      <td>23.904056</td>\n      <td>...</td>\n      <td>-1</td>\n      <td>-0.634318</td>\n      <td>-125.382012</td>\n      <td>-0.6600</td>\n      <td>41.124889</td>\n      <td>17.018665</td>\n      <td>34.062318</td>\n      <td>25.350571</td>\n      <td>6.118814</td>\n      <td>8.882494</td>\n    </tr>\n  </tbody>\n</table>\n<p>10 rows × 302 columns</p>\n</div>"
     },
     "execution_count": 13,
     "metadata": {},
     "output_type": "execute_result"
    }
   ],
   "source": [
    "# Search for stocks with name matching 'AA'\n",
    "ss = tvs.StockScreener()\n",
    "ss.search('AA')\n",
    "\n",
    "df = ss.get()\n",
    "df.head(10)"
   ],
   "metadata": {
    "collapsed": false,
    "ExecuteTime": {
     "end_time": "2023-08-10T09:32:24.112162691Z",
     "start_time": "2023-08-10T09:32:23.487679357Z"
    }
   },
   "id": "e9c208dd46c5856a"
  },
  {
   "cell_type": "markdown",
   "source": [
    "## Sort"
   ],
   "metadata": {
    "collapsed": false
   },
   "id": "f76cea0dc26145c3"
  },
  {
   "cell_type": "code",
   "execution_count": 14,
   "outputs": [
    {
     "data": {
      "text/plain": "        Symbol   Name                                        Description  \\\n0     OTC:CRDE   CRDE                               CARDINAL ETHANOL LLC   \n1     OTC:FINN   FINN                   First National of Nebraska, Inc.   \n2     OTC:FMBL   FMBL        Farmers & Merchants Bank of Long Beach (CA)   \n3     OTC:WFCL   WFCL                               1867 WESTN FINL CORP   \n4     OTC:LICT   LICT                                         LICT Corp.   \n..         ...    ...                                                ...   \n145   AMEX:MUB    MUB                     iShares National Muni Bond ETF   \n146  OTC:WTTHF  WTTHF  SSGA SPDR ETFS EUROPE II PLC MSCI WORLD TECHNO...   \n147   AMEX:TIP    TIP                              iShares TIPS Bond ETF   \n148  OTC:ISRPF  ISRPF                                       IShares Plc.   \n149   OTC:CNND   CNND                          CANANDAIGUA NATIONAL CORP   \n\n     All Time High  All Time Low  All Time Performance  Aroon Down (14)  \\\n0       20500.0000    3500.00000             10.512129         0.000000   \n1       14401.0000    1790.00000            303.364444        78.571429   \n2        9200.0000    1725.00000            204.347826       100.000000   \n3       20000.0000    1600.00000            110.000000        35.714286   \n4       26500.0000    1350.00000            667.142857       100.000000   \n..             ...           ...                   ...              ...   \n145       118.1500      85.10001              5.940000        71.428571   \n146       126.8765      84.55000             35.837396         7.142857   \n147       131.3700      84.14000              4.916256        71.428571   \n148       145.0000      84.00000              9.609130        85.714286   \n149       420.0000      84.00000             33.689840        35.714286   \n\n     Aroon Up (14)  Average Day Range (14)  Average Directional Index (14)  \\\n0        78.571429              388.857143                       47.790626   \n1         0.000000              118.677143                       22.081146   \n2         0.000000               76.427407                       51.053743   \n3        28.571429                1.785714                       27.089130   \n4        50.000000              221.528529                       23.399498   \n..             ...                     ...                             ...   \n145      14.285714                0.244579                       19.334463   \n146     100.000000                0.008371                       22.393107   \n147       7.142857                0.400686                       20.445899   \n148      42.857143                0.123364                        9.233959   \n149       0.000000                2.648929                       14.899804   \n\n     ...  Reco. VWMA  Prev. Awesome Oscillator  \\\n0    ...         1.0               7126.750000   \n1    ...        -1.0               -305.389706   \n2    ...         1.0               -247.939345   \n3    ...        -1.0              -1496.088824   \n4    ...        -1.0               -894.848487   \n..   ...         ...                       ...   \n145  ...        -1.0                 -0.989623   \n146  ...         1.0                 15.755931   \n147  ...        -1.0                 -0.872306   \n148  ...        -1.0                 -0.333256   \n149  ...         1.0                -19.755985   \n\n     Prev. Commodity Channel Index (20)  Prev. Momentum (10)  \\\n0                            104.088072            9170.0000   \n1                            -74.873096            -300.0000   \n2                           -133.990260            -340.0000   \n3                            -35.424011              25.0000   \n4                            -86.958788            -400.0000   \n..                                  ...                  ...   \n145                          -93.437045              -1.2200   \n146                          153.977934              19.5708   \n147                          -48.961791              -0.9300   \n148                         -115.648155              -1.2606   \n149                          -34.309096             -40.0000   \n\n     Prev. Negative Directional Indicator (14)  \\\n0                                    15.100559   \n1                                    40.907136   \n2                                    58.691785   \n3                                    58.262319   \n4                                    40.266275   \n..                                         ...   \n145                                  36.106314   \n146                                  29.949299   \n147                                  30.425000   \n148                                  52.575851   \n149                                  48.614043   \n\n     Prev. Positive Directional Indicator (14)  \\\n0                                    70.500223   \n1                                    22.879078   \n2                                     7.742621   \n3                                    35.796670   \n4                                    38.422402   \n..                                         ...   \n145                                  24.689875   \n146                                  68.759879   \n147                                  25.384385   \n148                                  37.648962   \n149                                  47.010946   \n\n     Prev. Relative Strength Index (14)  Prev. Relative Strength Index (7)  \\\n0                             70.997007                          73.197600   \n1                             45.184044                          42.945052   \n2                             14.987400                           7.224071   \n3                             39.840833                          43.515431   \n4                             25.717846                          19.995402   \n..                                  ...                                ...   \n145                           42.690045                          42.337710   \n146                           69.800751                          79.742816   \n147                           45.585518                          47.074849   \n148                           43.156349                          39.807627   \n149                           47.798131                          49.498854   \n\n     Prev. Stochastic %D (14, 3, 3)  Prev. Stochastic %K (14, 3, 3)  \n0                         95.142622                       91.390942  \n1                         23.953569                       28.439716  \n2                          4.478120                        2.828087  \n3                         47.224755                       71.585425  \n4                          7.222333                        5.000167  \n..                              ...                             ...  \n145                       18.392287                       24.435028  \n146                       90.114176                       89.723291  \n147                       32.562852                       45.893720  \n148                       56.385569                       36.440253  \n149                       53.143842                       54.521964  \n\n[150 rows x 302 columns]",
      "text/html": "<div>\n<style scoped>\n    .dataframe tbody tr th:only-of-type {\n        vertical-align: middle;\n    }\n\n    .dataframe tbody tr th {\n        vertical-align: top;\n    }\n\n    .dataframe thead th {\n        text-align: right;\n    }\n</style>\n<table border=\"1\" class=\"dataframe\">\n  <thead>\n    <tr style=\"text-align: right;\">\n      <th></th>\n      <th>Symbol</th>\n      <th>Name</th>\n      <th>Description</th>\n      <th>All Time High</th>\n      <th>All Time Low</th>\n      <th>All Time Performance</th>\n      <th>Aroon Down (14)</th>\n      <th>Aroon Up (14)</th>\n      <th>Average Day Range (14)</th>\n      <th>Average Directional Index (14)</th>\n      <th>...</th>\n      <th>Reco. VWMA</th>\n      <th>Prev. Awesome Oscillator</th>\n      <th>Prev. Commodity Channel Index (20)</th>\n      <th>Prev. Momentum (10)</th>\n      <th>Prev. Negative Directional Indicator (14)</th>\n      <th>Prev. Positive Directional Indicator (14)</th>\n      <th>Prev. Relative Strength Index (14)</th>\n      <th>Prev. Relative Strength Index (7)</th>\n      <th>Prev. Stochastic %D (14, 3, 3)</th>\n      <th>Prev. Stochastic %K (14, 3, 3)</th>\n    </tr>\n  </thead>\n  <tbody>\n    <tr>\n      <th>0</th>\n      <td>OTC:CRDE</td>\n      <td>CRDE</td>\n      <td>CARDINAL ETHANOL LLC</td>\n      <td>20500.0000</td>\n      <td>3500.00000</td>\n      <td>10.512129</td>\n      <td>0.000000</td>\n      <td>78.571429</td>\n      <td>388.857143</td>\n      <td>47.790626</td>\n      <td>...</td>\n      <td>1.0</td>\n      <td>7126.750000</td>\n      <td>104.088072</td>\n      <td>9170.0000</td>\n      <td>15.100559</td>\n      <td>70.500223</td>\n      <td>70.997007</td>\n      <td>73.197600</td>\n      <td>95.142622</td>\n      <td>91.390942</td>\n    </tr>\n    <tr>\n      <th>1</th>\n      <td>OTC:FINN</td>\n      <td>FINN</td>\n      <td>First National of Nebraska, Inc.</td>\n      <td>14401.0000</td>\n      <td>1790.00000</td>\n      <td>303.364444</td>\n      <td>78.571429</td>\n      <td>0.000000</td>\n      <td>118.677143</td>\n      <td>22.081146</td>\n      <td>...</td>\n      <td>-1.0</td>\n      <td>-305.389706</td>\n      <td>-74.873096</td>\n      <td>-300.0000</td>\n      <td>40.907136</td>\n      <td>22.879078</td>\n      <td>45.184044</td>\n      <td>42.945052</td>\n      <td>23.953569</td>\n      <td>28.439716</td>\n    </tr>\n    <tr>\n      <th>2</th>\n      <td>OTC:FMBL</td>\n      <td>FMBL</td>\n      <td>Farmers &amp; Merchants Bank of Long Beach (CA)</td>\n      <td>9200.0000</td>\n      <td>1725.00000</td>\n      <td>204.347826</td>\n      <td>100.000000</td>\n      <td>0.000000</td>\n      <td>76.427407</td>\n      <td>51.053743</td>\n      <td>...</td>\n      <td>1.0</td>\n      <td>-247.939345</td>\n      <td>-133.990260</td>\n      <td>-340.0000</td>\n      <td>58.691785</td>\n      <td>7.742621</td>\n      <td>14.987400</td>\n      <td>7.224071</td>\n      <td>4.478120</td>\n      <td>2.828087</td>\n    </tr>\n    <tr>\n      <th>3</th>\n      <td>OTC:WFCL</td>\n      <td>WFCL</td>\n      <td>1867 WESTN FINL CORP</td>\n      <td>20000.0000</td>\n      <td>1600.00000</td>\n      <td>110.000000</td>\n      <td>35.714286</td>\n      <td>28.571429</td>\n      <td>1.785714</td>\n      <td>27.089130</td>\n      <td>...</td>\n      <td>-1.0</td>\n      <td>-1496.088824</td>\n      <td>-35.424011</td>\n      <td>25.0000</td>\n      <td>58.262319</td>\n      <td>35.796670</td>\n      <td>39.840833</td>\n      <td>43.515431</td>\n      <td>47.224755</td>\n      <td>71.585425</td>\n    </tr>\n    <tr>\n      <th>4</th>\n      <td>OTC:LICT</td>\n      <td>LICT</td>\n      <td>LICT Corp.</td>\n      <td>26500.0000</td>\n      <td>1350.00000</td>\n      <td>667.142857</td>\n      <td>100.000000</td>\n      <td>50.000000</td>\n      <td>221.528529</td>\n      <td>23.399498</td>\n      <td>...</td>\n      <td>-1.0</td>\n      <td>-894.848487</td>\n      <td>-86.958788</td>\n      <td>-400.0000</td>\n      <td>40.266275</td>\n      <td>38.422402</td>\n      <td>25.717846</td>\n      <td>19.995402</td>\n      <td>7.222333</td>\n      <td>5.000167</td>\n    </tr>\n    <tr>\n      <th>...</th>\n      <td>...</td>\n      <td>...</td>\n      <td>...</td>\n      <td>...</td>\n      <td>...</td>\n      <td>...</td>\n      <td>...</td>\n      <td>...</td>\n      <td>...</td>\n      <td>...</td>\n      <td>...</td>\n      <td>...</td>\n      <td>...</td>\n      <td>...</td>\n      <td>...</td>\n      <td>...</td>\n      <td>...</td>\n      <td>...</td>\n      <td>...</td>\n      <td>...</td>\n      <td>...</td>\n    </tr>\n    <tr>\n      <th>145</th>\n      <td>AMEX:MUB</td>\n      <td>MUB</td>\n      <td>iShares National Muni Bond ETF</td>\n      <td>118.1500</td>\n      <td>85.10001</td>\n      <td>5.940000</td>\n      <td>71.428571</td>\n      <td>14.285714</td>\n      <td>0.244579</td>\n      <td>19.334463</td>\n      <td>...</td>\n      <td>-1.0</td>\n      <td>-0.989623</td>\n      <td>-93.437045</td>\n      <td>-1.2200</td>\n      <td>36.106314</td>\n      <td>24.689875</td>\n      <td>42.690045</td>\n      <td>42.337710</td>\n      <td>18.392287</td>\n      <td>24.435028</td>\n    </tr>\n    <tr>\n      <th>146</th>\n      <td>OTC:WTTHF</td>\n      <td>WTTHF</td>\n      <td>SSGA SPDR ETFS EUROPE II PLC MSCI WORLD TECHNO...</td>\n      <td>126.8765</td>\n      <td>84.55000</td>\n      <td>35.837396</td>\n      <td>7.142857</td>\n      <td>100.000000</td>\n      <td>0.008371</td>\n      <td>22.393107</td>\n      <td>...</td>\n      <td>1.0</td>\n      <td>15.755931</td>\n      <td>153.977934</td>\n      <td>19.5708</td>\n      <td>29.949299</td>\n      <td>68.759879</td>\n      <td>69.800751</td>\n      <td>79.742816</td>\n      <td>90.114176</td>\n      <td>89.723291</td>\n    </tr>\n    <tr>\n      <th>147</th>\n      <td>AMEX:TIP</td>\n      <td>TIP</td>\n      <td>iShares TIPS Bond ETF</td>\n      <td>131.3700</td>\n      <td>84.14000</td>\n      <td>4.916256</td>\n      <td>71.428571</td>\n      <td>7.142857</td>\n      <td>0.400686</td>\n      <td>20.445899</td>\n      <td>...</td>\n      <td>-1.0</td>\n      <td>-0.872306</td>\n      <td>-48.961791</td>\n      <td>-0.9300</td>\n      <td>30.425000</td>\n      <td>25.384385</td>\n      <td>45.585518</td>\n      <td>47.074849</td>\n      <td>32.562852</td>\n      <td>45.893720</td>\n    </tr>\n    <tr>\n      <th>148</th>\n      <td>OTC:ISRPF</td>\n      <td>ISRPF</td>\n      <td>IShares Plc.</td>\n      <td>145.0000</td>\n      <td>84.00000</td>\n      <td>9.609130</td>\n      <td>85.714286</td>\n      <td>42.857143</td>\n      <td>0.123364</td>\n      <td>9.233959</td>\n      <td>...</td>\n      <td>-1.0</td>\n      <td>-0.333256</td>\n      <td>-115.648155</td>\n      <td>-1.2606</td>\n      <td>52.575851</td>\n      <td>37.648962</td>\n      <td>43.156349</td>\n      <td>39.807627</td>\n      <td>56.385569</td>\n      <td>36.440253</td>\n    </tr>\n    <tr>\n      <th>149</th>\n      <td>OTC:CNND</td>\n      <td>CNND</td>\n      <td>CANANDAIGUA NATIONAL CORP</td>\n      <td>420.0000</td>\n      <td>84.00000</td>\n      <td>33.689840</td>\n      <td>35.714286</td>\n      <td>0.000000</td>\n      <td>2.648929</td>\n      <td>14.899804</td>\n      <td>...</td>\n      <td>1.0</td>\n      <td>-19.755985</td>\n      <td>-34.309096</td>\n      <td>-40.0000</td>\n      <td>48.614043</td>\n      <td>47.010946</td>\n      <td>47.798131</td>\n      <td>49.498854</td>\n      <td>53.143842</td>\n      <td>54.521964</td>\n    </tr>\n  </tbody>\n</table>\n<p>150 rows × 302 columns</p>\n</div>"
     },
     "execution_count": 14,
     "metadata": {},
     "output_type": "execute_result"
    }
   ],
   "source": [
    "# Sort by 'All-Time Low' descending\n",
    "ss = tvs.StockScreener()\n",
    "ss.sort_by(StockField.ALL_TIME_LOW, ascending=False)\n",
    "ss.get()"
   ],
   "metadata": {
    "collapsed": false,
    "ExecuteTime": {
     "end_time": "2023-08-10T09:32:24.834524081Z",
     "start_time": "2023-08-10T09:32:24.113118993Z"
    }
   },
   "id": "50bd8837a85856a0"
  },
  {
   "cell_type": "markdown",
   "source": [
    "## Technical Fields\n",
    "\n",
    "It could be useful to see the technical column name in place of the human-readable column name."
   ],
   "metadata": {
    "collapsed": false
   },
   "id": "e5ced632b4dd3f6b"
  },
  {
   "cell_type": "code",
   "execution_count": 15,
   "outputs": [
    {
     "data": {
      "text/plain": "         symbol   name                  description       High.All  \\\n         Symbol   Name                  Description  All Time High   \n0   NASDAQ:AAPL   AAPL                   Apple Inc.     198.230000   \n1   NASDAQ:MSFT   MSFT        Microsoft Corporation     366.780000   \n2  NASDAQ:GOOGL  GOOGL                Alphabet Inc.     151.546575   \n3   NASDAQ:GOOG   GOOG                Alphabet Inc.     152.100000   \n4   NASDAQ:AMZN   AMZN             Amazon.com, Inc.     188.653910   \n5   NASDAQ:NVDA   NVDA           NVIDIA Corporation     480.880000   \n6   NASDAQ:META   META         Meta Platforms, Inc.     384.330000   \n7    NYSE:BRK.A  BRK.A      Berkshire Hathaway Inc.  556117.000000   \n8    NYSE:BRK.B  BRK.B  Berkshire Hathaway Inc. New     364.630000   \n9   NASDAQ:TSLA   TSLA                  Tesla, Inc.     414.496252   \n\n       Low.All             Perf.All      Aroon.Down      Aroon.Up  \\\n  All Time Low All Time Performance Aroon Down (14) Aroon Up (14)   \n0     0.049107        138733.483965      100.000000     35.714286   \n1     0.088543        331333.919957      100.000000      0.000000   \n2     2.401327          5080.856484        0.000000     42.857143   \n3    24.312350           359.512111        0.000000     42.857143   \n4     0.065624        113008.620378       28.571429     78.571429   \n5     0.333335         97165.841070      100.000000     35.714286   \n6    17.550000           625.826397       14.285714     42.857143   \n7   235.000000        222463.265306        0.000000    100.000000   \n8    19.800000          1443.189655        0.000000     85.714286   \n9     0.998666         19020.288316      100.000000      0.000000   \n\n                     ADR                            ADX  ...   Rec.VWMA  \\\n  Average Day Range (14) Average Directional Index (14)  ... Reco. VWMA   \n0               3.065736                      40.079355  ...         -1   \n1               6.875714                      15.697468  ...         -1   \n2               2.576786                      21.021282  ...          1   \n3               2.574643                      19.905580  ...          1   \n4               3.053221                      21.411278  ...          1   \n5              13.332879                      27.054978  ...         -1   \n6               9.424400                      29.809315  ...         -1   \n7            8380.835714                      39.072654  ...          1   \n8               4.427429                      36.871340  ...          1   \n9               9.404993                      23.365350  ...         -1   \n\n                     AO[1]                           CCI20[1]  \\\n  Prev. Awesome Oscillator Prev. Commodity Channel Index (20)   \n0                -4.720749                        -230.936482   \n1                -9.388162                        -120.951883   \n2                 5.906360                          72.958312   \n3                 5.743768                          74.928140   \n4                 4.556238                         149.672333   \n5                 5.990850                         -74.360714   \n6                12.985205                          34.751045   \n7             16183.480559                         204.804702   \n8                10.636768                         222.169729   \n9               -13.117041                        -127.023557   \n\n               Mom[1]                                 ADX-DI[1]  \\\n  Prev. Momentum (10) Prev. Negative Directional Indicator (14)   \n0              -13.82                                 37.059393   \n1              -24.93                                 26.356568   \n2                9.19                                 17.483541   \n3                9.05                                 17.902277   \n4               10.81                                 19.321047   \n5              -10.15                                 23.185145   \n6               18.17                                 13.955954   \n7            24647.99                                  5.755470   \n8               16.15                                  7.507344   \n9              -15.58                                 30.228938   \n\n                                  ADX+DI[1]  \\\n  Prev. Positive Directional Indicator (14)   \n0                                 14.543167   \n1                                 20.989642   \n2                                 27.917242   \n3                                 27.931277   \n4                                 35.171936   \n5                                 23.696781   \n6                                 23.593786   \n7                                 27.973242   \n8                                 31.301009   \n9                                 18.500734   \n\n                              RSI[1]                           RSI7[1]  \\\n  Prev. Relative Strength Index (14) Prev. Relative Strength Index (7)   \n0                          31.992621                         20.309959   \n1                          41.620562                         34.633610   \n2                          63.031565                         66.112989   \n3                          62.822280                         66.262130   \n4                          63.522413                         66.884776   \n5                          51.914409                         43.927989   \n6                          56.380701                         52.050151   \n7                          71.024137                         75.885871   \n8                          73.613628                         78.234789   \n9                          42.849362                         33.497846   \n\n                      Stoch.D[1]                     Stoch.K[1]  \n  Prev. Stochastic %D (14, 3, 3) Prev. Stochastic %K (14, 3, 3)  \n0                       8.336929                       6.651887  \n1                       5.696226                       8.199300  \n2                      71.656644                      78.135739  \n3                      71.754595                      78.572202  \n4                      63.325131                      82.572298  \n5                      30.921040                      35.446541  \n6                      65.652211                      65.989356  \n7                      82.180259                      82.477802  \n8                      81.505128                      82.596203  \n9                      12.583370                      13.486642  \n\n[10 rows x 302 columns]",
      "text/html": "<div>\n<style scoped>\n    .dataframe tbody tr th:only-of-type {\n        vertical-align: middle;\n    }\n\n    .dataframe tbody tr th {\n        vertical-align: top;\n    }\n\n    .dataframe thead tr th {\n        text-align: left;\n    }\n</style>\n<table border=\"1\" class=\"dataframe\">\n  <thead>\n    <tr>\n      <th></th>\n      <th>symbol</th>\n      <th>name</th>\n      <th>description</th>\n      <th>High.All</th>\n      <th>Low.All</th>\n      <th>Perf.All</th>\n      <th>Aroon.Down</th>\n      <th>Aroon.Up</th>\n      <th>ADR</th>\n      <th>ADX</th>\n      <th>...</th>\n      <th>Rec.VWMA</th>\n      <th>AO[1]</th>\n      <th>CCI20[1]</th>\n      <th>Mom[1]</th>\n      <th>ADX-DI[1]</th>\n      <th>ADX+DI[1]</th>\n      <th>RSI[1]</th>\n      <th>RSI7[1]</th>\n      <th>Stoch.D[1]</th>\n      <th>Stoch.K[1]</th>\n    </tr>\n    <tr>\n      <th></th>\n      <th>Symbol</th>\n      <th>Name</th>\n      <th>Description</th>\n      <th>All Time High</th>\n      <th>All Time Low</th>\n      <th>All Time Performance</th>\n      <th>Aroon Down (14)</th>\n      <th>Aroon Up (14)</th>\n      <th>Average Day Range (14)</th>\n      <th>Average Directional Index (14)</th>\n      <th>...</th>\n      <th>Reco. VWMA</th>\n      <th>Prev. Awesome Oscillator</th>\n      <th>Prev. Commodity Channel Index (20)</th>\n      <th>Prev. Momentum (10)</th>\n      <th>Prev. Negative Directional Indicator (14)</th>\n      <th>Prev. Positive Directional Indicator (14)</th>\n      <th>Prev. Relative Strength Index (14)</th>\n      <th>Prev. Relative Strength Index (7)</th>\n      <th>Prev. Stochastic %D (14, 3, 3)</th>\n      <th>Prev. Stochastic %K (14, 3, 3)</th>\n    </tr>\n  </thead>\n  <tbody>\n    <tr>\n      <th>0</th>\n      <td>NASDAQ:AAPL</td>\n      <td>AAPL</td>\n      <td>Apple Inc.</td>\n      <td>198.230000</td>\n      <td>0.049107</td>\n      <td>138733.483965</td>\n      <td>100.000000</td>\n      <td>35.714286</td>\n      <td>3.065736</td>\n      <td>40.079355</td>\n      <td>...</td>\n      <td>-1</td>\n      <td>-4.720749</td>\n      <td>-230.936482</td>\n      <td>-13.82</td>\n      <td>37.059393</td>\n      <td>14.543167</td>\n      <td>31.992621</td>\n      <td>20.309959</td>\n      <td>8.336929</td>\n      <td>6.651887</td>\n    </tr>\n    <tr>\n      <th>1</th>\n      <td>NASDAQ:MSFT</td>\n      <td>MSFT</td>\n      <td>Microsoft Corporation</td>\n      <td>366.780000</td>\n      <td>0.088543</td>\n      <td>331333.919957</td>\n      <td>100.000000</td>\n      <td>0.000000</td>\n      <td>6.875714</td>\n      <td>15.697468</td>\n      <td>...</td>\n      <td>-1</td>\n      <td>-9.388162</td>\n      <td>-120.951883</td>\n      <td>-24.93</td>\n      <td>26.356568</td>\n      <td>20.989642</td>\n      <td>41.620562</td>\n      <td>34.633610</td>\n      <td>5.696226</td>\n      <td>8.199300</td>\n    </tr>\n    <tr>\n      <th>2</th>\n      <td>NASDAQ:GOOGL</td>\n      <td>GOOGL</td>\n      <td>Alphabet Inc.</td>\n      <td>151.546575</td>\n      <td>2.401327</td>\n      <td>5080.856484</td>\n      <td>0.000000</td>\n      <td>42.857143</td>\n      <td>2.576786</td>\n      <td>21.021282</td>\n      <td>...</td>\n      <td>1</td>\n      <td>5.906360</td>\n      <td>72.958312</td>\n      <td>9.19</td>\n      <td>17.483541</td>\n      <td>27.917242</td>\n      <td>63.031565</td>\n      <td>66.112989</td>\n      <td>71.656644</td>\n      <td>78.135739</td>\n    </tr>\n    <tr>\n      <th>3</th>\n      <td>NASDAQ:GOOG</td>\n      <td>GOOG</td>\n      <td>Alphabet Inc.</td>\n      <td>152.100000</td>\n      <td>24.312350</td>\n      <td>359.512111</td>\n      <td>0.000000</td>\n      <td>42.857143</td>\n      <td>2.574643</td>\n      <td>19.905580</td>\n      <td>...</td>\n      <td>1</td>\n      <td>5.743768</td>\n      <td>74.928140</td>\n      <td>9.05</td>\n      <td>17.902277</td>\n      <td>27.931277</td>\n      <td>62.822280</td>\n      <td>66.262130</td>\n      <td>71.754595</td>\n      <td>78.572202</td>\n    </tr>\n    <tr>\n      <th>4</th>\n      <td>NASDAQ:AMZN</td>\n      <td>AMZN</td>\n      <td>Amazon.com, Inc.</td>\n      <td>188.653910</td>\n      <td>0.065624</td>\n      <td>113008.620378</td>\n      <td>28.571429</td>\n      <td>78.571429</td>\n      <td>3.053221</td>\n      <td>21.411278</td>\n      <td>...</td>\n      <td>1</td>\n      <td>4.556238</td>\n      <td>149.672333</td>\n      <td>10.81</td>\n      <td>19.321047</td>\n      <td>35.171936</td>\n      <td>63.522413</td>\n      <td>66.884776</td>\n      <td>63.325131</td>\n      <td>82.572298</td>\n    </tr>\n    <tr>\n      <th>5</th>\n      <td>NASDAQ:NVDA</td>\n      <td>NVDA</td>\n      <td>NVIDIA Corporation</td>\n      <td>480.880000</td>\n      <td>0.333335</td>\n      <td>97165.841070</td>\n      <td>100.000000</td>\n      <td>35.714286</td>\n      <td>13.332879</td>\n      <td>27.054978</td>\n      <td>...</td>\n      <td>-1</td>\n      <td>5.990850</td>\n      <td>-74.360714</td>\n      <td>-10.15</td>\n      <td>23.185145</td>\n      <td>23.696781</td>\n      <td>51.914409</td>\n      <td>43.927989</td>\n      <td>30.921040</td>\n      <td>35.446541</td>\n    </tr>\n    <tr>\n      <th>6</th>\n      <td>NASDAQ:META</td>\n      <td>META</td>\n      <td>Meta Platforms, Inc.</td>\n      <td>384.330000</td>\n      <td>17.550000</td>\n      <td>625.826397</td>\n      <td>14.285714</td>\n      <td>42.857143</td>\n      <td>9.424400</td>\n      <td>29.809315</td>\n      <td>...</td>\n      <td>-1</td>\n      <td>12.985205</td>\n      <td>34.751045</td>\n      <td>18.17</td>\n      <td>13.955954</td>\n      <td>23.593786</td>\n      <td>56.380701</td>\n      <td>52.050151</td>\n      <td>65.652211</td>\n      <td>65.989356</td>\n    </tr>\n    <tr>\n      <th>7</th>\n      <td>NYSE:BRK.A</td>\n      <td>BRK.A</td>\n      <td>Berkshire Hathaway Inc.</td>\n      <td>556117.000000</td>\n      <td>235.000000</td>\n      <td>222463.265306</td>\n      <td>0.000000</td>\n      <td>100.000000</td>\n      <td>8380.835714</td>\n      <td>39.072654</td>\n      <td>...</td>\n      <td>1</td>\n      <td>16183.480559</td>\n      <td>204.804702</td>\n      <td>24647.99</td>\n      <td>5.755470</td>\n      <td>27.973242</td>\n      <td>71.024137</td>\n      <td>75.885871</td>\n      <td>82.180259</td>\n      <td>82.477802</td>\n    </tr>\n    <tr>\n      <th>8</th>\n      <td>NYSE:BRK.B</td>\n      <td>BRK.B</td>\n      <td>Berkshire Hathaway Inc. New</td>\n      <td>364.630000</td>\n      <td>19.800000</td>\n      <td>1443.189655</td>\n      <td>0.000000</td>\n      <td>85.714286</td>\n      <td>4.427429</td>\n      <td>36.871340</td>\n      <td>...</td>\n      <td>1</td>\n      <td>10.636768</td>\n      <td>222.169729</td>\n      <td>16.15</td>\n      <td>7.507344</td>\n      <td>31.301009</td>\n      <td>73.613628</td>\n      <td>78.234789</td>\n      <td>81.505128</td>\n      <td>82.596203</td>\n    </tr>\n    <tr>\n      <th>9</th>\n      <td>NASDAQ:TSLA</td>\n      <td>TSLA</td>\n      <td>Tesla, Inc.</td>\n      <td>414.496252</td>\n      <td>0.998666</td>\n      <td>19020.288316</td>\n      <td>100.000000</td>\n      <td>0.000000</td>\n      <td>9.404993</td>\n      <td>23.365350</td>\n      <td>...</td>\n      <td>-1</td>\n      <td>-13.117041</td>\n      <td>-127.023557</td>\n      <td>-15.58</td>\n      <td>30.228938</td>\n      <td>18.500734</td>\n      <td>42.849362</td>\n      <td>33.497846</td>\n      <td>12.583370</td>\n      <td>13.486642</td>\n    </tr>\n  </tbody>\n</table>\n<p>10 rows × 302 columns</p>\n</div>"
     },
     "execution_count": 15,
     "metadata": {},
     "output_type": "execute_result"
    }
   ],
   "source": [
    "ss = tvs.StockScreener()\n",
    "df = ss.get()\n",
    "# Set the technical columns along with the human-readable columns\n",
    "df.set_technical_columns()\n",
    "df.head(10)"
   ],
   "metadata": {
    "collapsed": false,
    "ExecuteTime": {
     "end_time": "2023-08-10T09:32:25.666502566Z",
     "start_time": "2023-08-10T09:32:24.833498224Z"
    }
   },
   "id": "40eb8e6743e99e39"
  },
  {
   "cell_type": "code",
   "execution_count": 16,
   "outputs": [
    {
     "data": {
      "text/plain": "         symbol   name                  description       High.All  \\\n0   NASDAQ:AAPL   AAPL                   Apple Inc.     198.230000   \n1   NASDAQ:MSFT   MSFT        Microsoft Corporation     366.780000   \n2  NASDAQ:GOOGL  GOOGL                Alphabet Inc.     151.546575   \n3   NASDAQ:GOOG   GOOG                Alphabet Inc.     152.100000   \n4   NASDAQ:AMZN   AMZN             Amazon.com, Inc.     188.653910   \n5   NASDAQ:NVDA   NVDA           NVIDIA Corporation     480.880000   \n6   NASDAQ:META   META         Meta Platforms, Inc.     384.330000   \n7    NYSE:BRK.A  BRK.A      Berkshire Hathaway Inc.  556117.000000   \n8    NYSE:BRK.B  BRK.B  Berkshire Hathaway Inc. New     364.630000   \n9   NASDAQ:TSLA   TSLA                  Tesla, Inc.     414.496252   \n\n      Low.All       Perf.All  Aroon.Down    Aroon.Up          ADR        ADX  \\\n0    0.049107  138733.483965  100.000000   35.714286     3.065736  40.079355   \n1    0.088543  331333.919957  100.000000    0.000000     6.875714  15.697468   \n2    2.401327    5080.856484    0.000000   42.857143     2.576786  21.021282   \n3   24.312350     359.512111    0.000000   42.857143     2.574643  19.905580   \n4    0.065624  113008.620378   28.571429   78.571429     3.053221  21.411278   \n5    0.333335   97165.841070  100.000000   35.714286    13.332879  27.054978   \n6   17.550000     625.826397   14.285714   42.857143     9.424400  29.809315   \n7  235.000000  222463.265306    0.000000  100.000000  8380.835714  39.072654   \n8   19.800000    1443.189655    0.000000   85.714286     4.427429  36.871340   \n9    0.998666   19020.288316  100.000000    0.000000     9.404993  23.365350   \n\n   ...  Rec.VWMA         AO[1]    CCI20[1]    Mom[1]  ADX-DI[1]  ADX+DI[1]  \\\n0  ...        -1     -4.720749 -230.936482    -13.82  37.059393  14.543167   \n1  ...        -1     -9.388162 -120.951883    -24.93  26.356568  20.989642   \n2  ...         1      5.906360   72.958312      9.19  17.483541  27.917242   \n3  ...         1      5.743768   74.928140      9.05  17.902277  27.931277   \n4  ...         1      4.556238  149.672333     10.81  19.321047  35.171936   \n5  ...        -1      5.990850  -74.360714    -10.15  23.185145  23.696781   \n6  ...        -1     12.985205   34.751045     18.17  13.955954  23.593786   \n7  ...         1  16183.480559  204.804702  24647.99   5.755470  27.973242   \n8  ...         1     10.636768  222.169729     16.15   7.507344  31.301009   \n9  ...        -1    -13.117041 -127.023557    -15.58  30.228938  18.500734   \n\n      RSI[1]    RSI7[1]  Stoch.D[1]  Stoch.K[1]  \n0  31.992621  20.309959    8.336929    6.651887  \n1  41.620562  34.633610    5.696226    8.199300  \n2  63.031565  66.112989   71.656644   78.135739  \n3  62.822280  66.262130   71.754595   78.572202  \n4  63.522413  66.884776   63.325131   82.572298  \n5  51.914409  43.927989   30.921040   35.446541  \n6  56.380701  52.050151   65.652211   65.989356  \n7  71.024137  75.885871   82.180259   82.477802  \n8  73.613628  78.234789   81.505128   82.596203  \n9  42.849362  33.497846   12.583370   13.486642  \n\n[10 rows x 302 columns]",
      "text/html": "<div>\n<style scoped>\n    .dataframe tbody tr th:only-of-type {\n        vertical-align: middle;\n    }\n\n    .dataframe tbody tr th {\n        vertical-align: top;\n    }\n\n    .dataframe thead th {\n        text-align: right;\n    }\n</style>\n<table border=\"1\" class=\"dataframe\">\n  <thead>\n    <tr style=\"text-align: right;\">\n      <th></th>\n      <th>symbol</th>\n      <th>name</th>\n      <th>description</th>\n      <th>High.All</th>\n      <th>Low.All</th>\n      <th>Perf.All</th>\n      <th>Aroon.Down</th>\n      <th>Aroon.Up</th>\n      <th>ADR</th>\n      <th>ADX</th>\n      <th>...</th>\n      <th>Rec.VWMA</th>\n      <th>AO[1]</th>\n      <th>CCI20[1]</th>\n      <th>Mom[1]</th>\n      <th>ADX-DI[1]</th>\n      <th>ADX+DI[1]</th>\n      <th>RSI[1]</th>\n      <th>RSI7[1]</th>\n      <th>Stoch.D[1]</th>\n      <th>Stoch.K[1]</th>\n    </tr>\n  </thead>\n  <tbody>\n    <tr>\n      <th>0</th>\n      <td>NASDAQ:AAPL</td>\n      <td>AAPL</td>\n      <td>Apple Inc.</td>\n      <td>198.230000</td>\n      <td>0.049107</td>\n      <td>138733.483965</td>\n      <td>100.000000</td>\n      <td>35.714286</td>\n      <td>3.065736</td>\n      <td>40.079355</td>\n      <td>...</td>\n      <td>-1</td>\n      <td>-4.720749</td>\n      <td>-230.936482</td>\n      <td>-13.82</td>\n      <td>37.059393</td>\n      <td>14.543167</td>\n      <td>31.992621</td>\n      <td>20.309959</td>\n      <td>8.336929</td>\n      <td>6.651887</td>\n    </tr>\n    <tr>\n      <th>1</th>\n      <td>NASDAQ:MSFT</td>\n      <td>MSFT</td>\n      <td>Microsoft Corporation</td>\n      <td>366.780000</td>\n      <td>0.088543</td>\n      <td>331333.919957</td>\n      <td>100.000000</td>\n      <td>0.000000</td>\n      <td>6.875714</td>\n      <td>15.697468</td>\n      <td>...</td>\n      <td>-1</td>\n      <td>-9.388162</td>\n      <td>-120.951883</td>\n      <td>-24.93</td>\n      <td>26.356568</td>\n      <td>20.989642</td>\n      <td>41.620562</td>\n      <td>34.633610</td>\n      <td>5.696226</td>\n      <td>8.199300</td>\n    </tr>\n    <tr>\n      <th>2</th>\n      <td>NASDAQ:GOOGL</td>\n      <td>GOOGL</td>\n      <td>Alphabet Inc.</td>\n      <td>151.546575</td>\n      <td>2.401327</td>\n      <td>5080.856484</td>\n      <td>0.000000</td>\n      <td>42.857143</td>\n      <td>2.576786</td>\n      <td>21.021282</td>\n      <td>...</td>\n      <td>1</td>\n      <td>5.906360</td>\n      <td>72.958312</td>\n      <td>9.19</td>\n      <td>17.483541</td>\n      <td>27.917242</td>\n      <td>63.031565</td>\n      <td>66.112989</td>\n      <td>71.656644</td>\n      <td>78.135739</td>\n    </tr>\n    <tr>\n      <th>3</th>\n      <td>NASDAQ:GOOG</td>\n      <td>GOOG</td>\n      <td>Alphabet Inc.</td>\n      <td>152.100000</td>\n      <td>24.312350</td>\n      <td>359.512111</td>\n      <td>0.000000</td>\n      <td>42.857143</td>\n      <td>2.574643</td>\n      <td>19.905580</td>\n      <td>...</td>\n      <td>1</td>\n      <td>5.743768</td>\n      <td>74.928140</td>\n      <td>9.05</td>\n      <td>17.902277</td>\n      <td>27.931277</td>\n      <td>62.822280</td>\n      <td>66.262130</td>\n      <td>71.754595</td>\n      <td>78.572202</td>\n    </tr>\n    <tr>\n      <th>4</th>\n      <td>NASDAQ:AMZN</td>\n      <td>AMZN</td>\n      <td>Amazon.com, Inc.</td>\n      <td>188.653910</td>\n      <td>0.065624</td>\n      <td>113008.620378</td>\n      <td>28.571429</td>\n      <td>78.571429</td>\n      <td>3.053221</td>\n      <td>21.411278</td>\n      <td>...</td>\n      <td>1</td>\n      <td>4.556238</td>\n      <td>149.672333</td>\n      <td>10.81</td>\n      <td>19.321047</td>\n      <td>35.171936</td>\n      <td>63.522413</td>\n      <td>66.884776</td>\n      <td>63.325131</td>\n      <td>82.572298</td>\n    </tr>\n    <tr>\n      <th>5</th>\n      <td>NASDAQ:NVDA</td>\n      <td>NVDA</td>\n      <td>NVIDIA Corporation</td>\n      <td>480.880000</td>\n      <td>0.333335</td>\n      <td>97165.841070</td>\n      <td>100.000000</td>\n      <td>35.714286</td>\n      <td>13.332879</td>\n      <td>27.054978</td>\n      <td>...</td>\n      <td>-1</td>\n      <td>5.990850</td>\n      <td>-74.360714</td>\n      <td>-10.15</td>\n      <td>23.185145</td>\n      <td>23.696781</td>\n      <td>51.914409</td>\n      <td>43.927989</td>\n      <td>30.921040</td>\n      <td>35.446541</td>\n    </tr>\n    <tr>\n      <th>6</th>\n      <td>NASDAQ:META</td>\n      <td>META</td>\n      <td>Meta Platforms, Inc.</td>\n      <td>384.330000</td>\n      <td>17.550000</td>\n      <td>625.826397</td>\n      <td>14.285714</td>\n      <td>42.857143</td>\n      <td>9.424400</td>\n      <td>29.809315</td>\n      <td>...</td>\n      <td>-1</td>\n      <td>12.985205</td>\n      <td>34.751045</td>\n      <td>18.17</td>\n      <td>13.955954</td>\n      <td>23.593786</td>\n      <td>56.380701</td>\n      <td>52.050151</td>\n      <td>65.652211</td>\n      <td>65.989356</td>\n    </tr>\n    <tr>\n      <th>7</th>\n      <td>NYSE:BRK.A</td>\n      <td>BRK.A</td>\n      <td>Berkshire Hathaway Inc.</td>\n      <td>556117.000000</td>\n      <td>235.000000</td>\n      <td>222463.265306</td>\n      <td>0.000000</td>\n      <td>100.000000</td>\n      <td>8380.835714</td>\n      <td>39.072654</td>\n      <td>...</td>\n      <td>1</td>\n      <td>16183.480559</td>\n      <td>204.804702</td>\n      <td>24647.99</td>\n      <td>5.755470</td>\n      <td>27.973242</td>\n      <td>71.024137</td>\n      <td>75.885871</td>\n      <td>82.180259</td>\n      <td>82.477802</td>\n    </tr>\n    <tr>\n      <th>8</th>\n      <td>NYSE:BRK.B</td>\n      <td>BRK.B</td>\n      <td>Berkshire Hathaway Inc. New</td>\n      <td>364.630000</td>\n      <td>19.800000</td>\n      <td>1443.189655</td>\n      <td>0.000000</td>\n      <td>85.714286</td>\n      <td>4.427429</td>\n      <td>36.871340</td>\n      <td>...</td>\n      <td>1</td>\n      <td>10.636768</td>\n      <td>222.169729</td>\n      <td>16.15</td>\n      <td>7.507344</td>\n      <td>31.301009</td>\n      <td>73.613628</td>\n      <td>78.234789</td>\n      <td>81.505128</td>\n      <td>82.596203</td>\n    </tr>\n    <tr>\n      <th>9</th>\n      <td>NASDAQ:TSLA</td>\n      <td>TSLA</td>\n      <td>Tesla, Inc.</td>\n      <td>414.496252</td>\n      <td>0.998666</td>\n      <td>19020.288316</td>\n      <td>100.000000</td>\n      <td>0.000000</td>\n      <td>9.404993</td>\n      <td>23.365350</td>\n      <td>...</td>\n      <td>-1</td>\n      <td>-13.117041</td>\n      <td>-127.023557</td>\n      <td>-15.58</td>\n      <td>30.228938</td>\n      <td>18.500734</td>\n      <td>42.849362</td>\n      <td>33.497846</td>\n      <td>12.583370</td>\n      <td>13.486642</td>\n    </tr>\n  </tbody>\n</table>\n<p>10 rows × 302 columns</p>\n</div>"
     },
     "execution_count": 16,
     "metadata": {},
     "output_type": "execute_result"
    }
   ],
   "source": [
    "# Or just the technical column names\n",
    "df.set_technical_columns(only=True)\n",
    "df.head(10)"
   ],
   "metadata": {
    "collapsed": false,
    "ExecuteTime": {
     "end_time": "2023-08-10T09:32:25.764177874Z",
     "start_time": "2023-08-10T09:32:25.665212293Z"
    }
   },
   "id": "65ee5fbcae73b3f5"
  },
  {
   "cell_type": "markdown",
   "source": [
    "## Get everything\n",
    "To get the entire universe of stocks, set the market to 'ALL' and the range to 1 Million (TradingView manages ~102k stocks)."
   ],
   "metadata": {
    "collapsed": false
   },
   "id": "db6274be3c2fa85d"
  },
  {
   "cell_type": "code",
   "execution_count": 17,
   "outputs": [
    {
     "ename": "Warning",
     "evalue": "This will take time to render and the dataframe will be huge (~235Mb).",
     "output_type": "error",
     "traceback": [
      "\u001B[0;31m---------------------------------------------------------------------------\u001B[0m",
      "\u001B[0;31mWarning\u001B[0m                                   Traceback (most recent call last)",
      "Cell \u001B[0;32mIn[17], line 1\u001B[0m\n\u001B[0;32m----> 1\u001B[0m \u001B[38;5;28;01mraise\u001B[39;00m \u001B[38;5;167;01mWarning\u001B[39;00m(\u001B[38;5;124m'\u001B[39m\u001B[38;5;124mThis will take time to render and the dataframe will be huge (~235Mb).\u001B[39m\u001B[38;5;124m'\u001B[39m)\n",
      "\u001B[0;31mWarning\u001B[0m: This will take time to render and the dataframe will be huge (~235Mb)."
     ]
    }
   ],
   "source": [
    "raise Warning('This will take time to render and the dataframe will be huge (~235Mb).')"
   ],
   "metadata": {
    "collapsed": false,
    "ExecuteTime": {
     "end_time": "2023-08-10T09:32:25.853971251Z",
     "start_time": "2023-08-10T09:32:25.707674881Z"
    }
   },
   "id": "1e4d02294ef54294"
  },
  {
   "cell_type": "code",
   "execution_count": null,
   "outputs": [],
   "source": [
    "ss = tvs.StockScreener()\n",
    "ss.set_markets(StocksMarket.ALL)\n",
    "ss.set_range(0, 10**6)\n",
    "df = ss.get()\n",
    "df.head(10)"
   ],
   "metadata": {
    "collapsed": false,
    "ExecuteTime": {
     "start_time": "2023-08-10T09:32:25.839129725Z"
    }
   },
   "id": "2ce6848611e9d049"
  }
 ],
 "metadata": {
  "kernelspec": {
   "display_name": "Python 3",
   "language": "python",
   "name": "python3"
  },
  "language_info": {
   "codemirror_mode": {
    "name": "ipython",
    "version": 2
   },
   "file_extension": ".py",
   "mimetype": "text/x-python",
   "name": "python",
   "nbconvert_exporter": "python",
   "pygments_lexer": "ipython2",
   "version": "2.7.6"
  }
 },
 "nbformat": 4,
 "nbformat_minor": 5
}
