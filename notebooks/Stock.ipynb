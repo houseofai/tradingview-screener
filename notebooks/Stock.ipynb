{
 "cells": [
  {
   "cell_type": "code",
   "execution_count": 1,
   "id": "initial_id",
   "metadata": {
    "collapsed": true,
    "ExecuteTime": {
     "end_time": "2023-09-27T19:34:04.948776300Z",
     "start_time": "2023-09-27T19:34:04.350199300Z"
    }
   },
   "outputs": [],
   "source": [
    "import tvscreener as tvs\n",
    "from tvscreener import StockField, TimeInterval\n",
    "from tvscreener.filter import FilterOperator\n",
    "from tvscreener import ExtraFilter\n",
    "from tvscreener.field import Exchange, SubMarket, SymbolType\n",
    "\n",
    "\n",
    "%load_ext autoreload\n",
    "%autoreload 2"
   ]
  },
  {
   "cell_type": "markdown",
   "source": [
    "# Stock"
   ],
   "metadata": {
    "collapsed": false
   },
   "id": "6a564379ead09018"
  },
  {
   "cell_type": "markdown",
   "source": [
    "With the first example, we gather all the stocks with the default values.\n",
    "\n",
    "The default values match TradingView Screener: Market is 'USA', and it is sorted by market capitalization."
   ],
   "metadata": {
    "collapsed": false
   },
   "id": "3236fbba726de475"
  },
  {
   "cell_type": "code",
   "execution_count": 2,
   "outputs": [
    {
     "data": {
      "text/plain": "         Symbol   Name                  Description  All Time High  \\\n0   NASDAQ:AAPL   AAPL                   Apple Inc.     198.230000   \n1   NASDAQ:MSFT   MSFT        Microsoft Corporation     366.780000   \n2  NASDAQ:GOOGL  GOOGL                Alphabet Inc.     151.546575   \n3   NASDAQ:GOOG   GOOG                Alphabet Inc.     152.100000   \n4   NASDAQ:AMZN   AMZN             Amazon.com, Inc.     188.653910   \n5   NASDAQ:NVDA   NVDA           NVIDIA Corporation     502.660000   \n6    NYSE:BRK.B  BRK.B  Berkshire Hathaway Inc. New     373.340000   \n7    NYSE:BRK.A  BRK.A      Berkshire Hathaway Inc.  566569.970000   \n8   NASDAQ:META   META         Meta Platforms, Inc.     384.330000   \n9   NASDAQ:TSLA   TSLA                  Tesla, Inc.     414.496252   \n\n   All Time Low  All Time Performance  Aroon Down (14)  Aroon Up (14)  \\\n0      0.049107         132586.134572       100.000000      14.285714   \n1      0.088543         321912.281045       100.000000      35.714286   \n2      2.401327           5118.016722        92.857143      50.000000   \n3     24.312350            363.854791        92.857143      50.000000   \n4      0.065624         103548.029933       100.000000      35.714286   \n5      0.333335          97280.103405        71.428571       7.142857   \n6     19.800000           1440.387931       100.000000      57.142857   \n7    235.000000         221089.100000       100.000000      57.142857   \n8     17.550000            610.107015       100.000000      35.714286   \n9      0.998666          18991.867226       100.000000      42.857143   \n\n   Average Day Range (14)  Average Directional Index (14)  ...  Reco. VWMA  \\\n0                3.218429                       25.653844  ...          -1   \n1                5.679029                       22.120383  ...          -1   \n2                2.389257                       21.655098  ...          -1   \n3                2.365629                       21.492701  ...          -1   \n4                3.419064                       19.421523  ...          -1   \n5               13.613557                       21.784457  ...          -1   \n6                3.878407                       29.363976  ...          -1   \n7             6706.501429                       32.709754  ...          -1   \n8                8.038957                       11.502149  ...          -1   \n9                9.301243                       17.663979  ...          -1   \n\n   Prev. Awesome Oscillator  Prev. Commodity Channel Index (20)  \\\n0                 -3.283856                          -99.336416   \n1                 -7.189782                         -197.323125   \n2                 -1.538637                         -208.082855   \n3                 -1.347657                         -209.895909   \n4                 -5.099797                         -180.562142   \n5                -29.052279                          -98.761057   \n6                  2.327891                          -89.373526   \n7               3813.028971                          -84.597110   \n8                  1.337631                          -48.853156   \n9                  4.490718                          -99.150391   \n\n   Prev. Momentum (10)  Prev. Negative Directional Indicator (14)  \\\n0               -4.340                                  30.558611   \n1              -19.630                                  32.060557   \n2               -6.775                                  29.303383   \n3               -6.620                                  29.765275   \n4              -15.250                                  33.377752   \n5              -29.590                                  30.919557   \n6               -8.360                                  21.644631   \n7           -11545.000                                  18.570083   \n8               -2.700                                  19.825841   \n9              -23.360                                  27.294109   \n\n   Prev. Positive Directional Indicator (14)  \\\n0                                  16.822189   \n1                                  13.887596   \n2                                  16.542888   \n3                                  16.217965   \n4                                  15.461261   \n5                                  17.280311   \n6                                  19.005636   \n7                                  16.962556   \n8                                  19.891917   \n9                                  22.010251   \n\n   Prev. Relative Strength Index (14)  Prev. Relative Strength Index (7)  \\\n0                           38.386676                          33.426894   \n1                           33.743284                          21.535629   \n2                           38.397693                          25.309307   \n3                           38.689675                          25.502243   \n4                           34.513111                          24.389321   \n5                           37.538715                          31.598550   \n6                           45.831744                          33.505549   \n7                           46.101304                          34.029793   \n8                           49.235942                          46.943023   \n9                           43.105088                          32.583124   \n\n   Prev. Stochastic %D (14, 3, 3)  Prev. Stochastic %K (14, 3, 3)  \n0                        8.452134                        9.222031  \n1                        9.572082                        8.156310  \n2                       10.520138                       13.047417  \n3                       10.465734                       13.401442  \n4                        6.945989                        7.573618  \n5                        8.586903                       13.653822  \n6                       22.081326                       15.806692  \n7                       22.185337                       15.383801  \n8                       31.751412                       35.851493  \n9                       22.251475                       13.383379  \n\n[10 rows x 302 columns]",
      "text/html": "<div>\n<style scoped>\n    .dataframe tbody tr th:only-of-type {\n        vertical-align: middle;\n    }\n\n    .dataframe tbody tr th {\n        vertical-align: top;\n    }\n\n    .dataframe thead th {\n        text-align: right;\n    }\n</style>\n<table border=\"1\" class=\"dataframe\">\n  <thead>\n    <tr style=\"text-align: right;\">\n      <th></th>\n      <th>Symbol</th>\n      <th>Name</th>\n      <th>Description</th>\n      <th>All Time High</th>\n      <th>All Time Low</th>\n      <th>All Time Performance</th>\n      <th>Aroon Down (14)</th>\n      <th>Aroon Up (14)</th>\n      <th>Average Day Range (14)</th>\n      <th>Average Directional Index (14)</th>\n      <th>...</th>\n      <th>Reco. VWMA</th>\n      <th>Prev. Awesome Oscillator</th>\n      <th>Prev. Commodity Channel Index (20)</th>\n      <th>Prev. Momentum (10)</th>\n      <th>Prev. Negative Directional Indicator (14)</th>\n      <th>Prev. Positive Directional Indicator (14)</th>\n      <th>Prev. Relative Strength Index (14)</th>\n      <th>Prev. Relative Strength Index (7)</th>\n      <th>Prev. Stochastic %D (14, 3, 3)</th>\n      <th>Prev. Stochastic %K (14, 3, 3)</th>\n    </tr>\n  </thead>\n  <tbody>\n    <tr>\n      <th>0</th>\n      <td>NASDAQ:AAPL</td>\n      <td>AAPL</td>\n      <td>Apple Inc.</td>\n      <td>198.230000</td>\n      <td>0.049107</td>\n      <td>132586.134572</td>\n      <td>100.000000</td>\n      <td>14.285714</td>\n      <td>3.218429</td>\n      <td>25.653844</td>\n      <td>...</td>\n      <td>-1</td>\n      <td>-3.283856</td>\n      <td>-99.336416</td>\n      <td>-4.340</td>\n      <td>30.558611</td>\n      <td>16.822189</td>\n      <td>38.386676</td>\n      <td>33.426894</td>\n      <td>8.452134</td>\n      <td>9.222031</td>\n    </tr>\n    <tr>\n      <th>1</th>\n      <td>NASDAQ:MSFT</td>\n      <td>MSFT</td>\n      <td>Microsoft Corporation</td>\n      <td>366.780000</td>\n      <td>0.088543</td>\n      <td>321912.281045</td>\n      <td>100.000000</td>\n      <td>35.714286</td>\n      <td>5.679029</td>\n      <td>22.120383</td>\n      <td>...</td>\n      <td>-1</td>\n      <td>-7.189782</td>\n      <td>-197.323125</td>\n      <td>-19.630</td>\n      <td>32.060557</td>\n      <td>13.887596</td>\n      <td>33.743284</td>\n      <td>21.535629</td>\n      <td>9.572082</td>\n      <td>8.156310</td>\n    </tr>\n    <tr>\n      <th>2</th>\n      <td>NASDAQ:GOOGL</td>\n      <td>GOOGL</td>\n      <td>Alphabet Inc.</td>\n      <td>151.546575</td>\n      <td>2.401327</td>\n      <td>5118.016722</td>\n      <td>92.857143</td>\n      <td>50.000000</td>\n      <td>2.389257</td>\n      <td>21.655098</td>\n      <td>...</td>\n      <td>-1</td>\n      <td>-1.538637</td>\n      <td>-208.082855</td>\n      <td>-6.775</td>\n      <td>29.303383</td>\n      <td>16.542888</td>\n      <td>38.397693</td>\n      <td>25.309307</td>\n      <td>10.520138</td>\n      <td>13.047417</td>\n    </tr>\n    <tr>\n      <th>3</th>\n      <td>NASDAQ:GOOG</td>\n      <td>GOOG</td>\n      <td>Alphabet Inc.</td>\n      <td>152.100000</td>\n      <td>24.312350</td>\n      <td>363.854791</td>\n      <td>92.857143</td>\n      <td>50.000000</td>\n      <td>2.365629</td>\n      <td>21.492701</td>\n      <td>...</td>\n      <td>-1</td>\n      <td>-1.347657</td>\n      <td>-209.895909</td>\n      <td>-6.620</td>\n      <td>29.765275</td>\n      <td>16.217965</td>\n      <td>38.689675</td>\n      <td>25.502243</td>\n      <td>10.465734</td>\n      <td>13.401442</td>\n    </tr>\n    <tr>\n      <th>4</th>\n      <td>NASDAQ:AMZN</td>\n      <td>AMZN</td>\n      <td>Amazon.com, Inc.</td>\n      <td>188.653910</td>\n      <td>0.065624</td>\n      <td>103548.029933</td>\n      <td>100.000000</td>\n      <td>35.714286</td>\n      <td>3.419064</td>\n      <td>19.421523</td>\n      <td>...</td>\n      <td>-1</td>\n      <td>-5.099797</td>\n      <td>-180.562142</td>\n      <td>-15.250</td>\n      <td>33.377752</td>\n      <td>15.461261</td>\n      <td>34.513111</td>\n      <td>24.389321</td>\n      <td>6.945989</td>\n      <td>7.573618</td>\n    </tr>\n    <tr>\n      <th>5</th>\n      <td>NASDAQ:NVDA</td>\n      <td>NVDA</td>\n      <td>NVIDIA Corporation</td>\n      <td>502.660000</td>\n      <td>0.333335</td>\n      <td>97280.103405</td>\n      <td>71.428571</td>\n      <td>7.142857</td>\n      <td>13.613557</td>\n      <td>21.784457</td>\n      <td>...</td>\n      <td>-1</td>\n      <td>-29.052279</td>\n      <td>-98.761057</td>\n      <td>-29.590</td>\n      <td>30.919557</td>\n      <td>17.280311</td>\n      <td>37.538715</td>\n      <td>31.598550</td>\n      <td>8.586903</td>\n      <td>13.653822</td>\n    </tr>\n    <tr>\n      <th>6</th>\n      <td>NYSE:BRK.B</td>\n      <td>BRK.B</td>\n      <td>Berkshire Hathaway Inc. New</td>\n      <td>373.340000</td>\n      <td>19.800000</td>\n      <td>1440.387931</td>\n      <td>100.000000</td>\n      <td>57.142857</td>\n      <td>3.878407</td>\n      <td>29.363976</td>\n      <td>...</td>\n      <td>-1</td>\n      <td>2.327891</td>\n      <td>-89.373526</td>\n      <td>-8.360</td>\n      <td>21.644631</td>\n      <td>19.005636</td>\n      <td>45.831744</td>\n      <td>33.505549</td>\n      <td>22.081326</td>\n      <td>15.806692</td>\n    </tr>\n    <tr>\n      <th>7</th>\n      <td>NYSE:BRK.A</td>\n      <td>BRK.A</td>\n      <td>Berkshire Hathaway Inc.</td>\n      <td>566569.970000</td>\n      <td>235.000000</td>\n      <td>221089.100000</td>\n      <td>100.000000</td>\n      <td>57.142857</td>\n      <td>6706.501429</td>\n      <td>32.709754</td>\n      <td>...</td>\n      <td>-1</td>\n      <td>3813.028971</td>\n      <td>-84.597110</td>\n      <td>-11545.000</td>\n      <td>18.570083</td>\n      <td>16.962556</td>\n      <td>46.101304</td>\n      <td>34.029793</td>\n      <td>22.185337</td>\n      <td>15.383801</td>\n    </tr>\n    <tr>\n      <th>8</th>\n      <td>NASDAQ:META</td>\n      <td>META</td>\n      <td>Meta Platforms, Inc.</td>\n      <td>384.330000</td>\n      <td>17.550000</td>\n      <td>610.107015</td>\n      <td>100.000000</td>\n      <td>35.714286</td>\n      <td>8.038957</td>\n      <td>11.502149</td>\n      <td>...</td>\n      <td>-1</td>\n      <td>1.337631</td>\n      <td>-48.853156</td>\n      <td>-2.700</td>\n      <td>19.825841</td>\n      <td>19.891917</td>\n      <td>49.235942</td>\n      <td>46.943023</td>\n      <td>31.751412</td>\n      <td>35.851493</td>\n    </tr>\n    <tr>\n      <th>9</th>\n      <td>NASDAQ:TSLA</td>\n      <td>TSLA</td>\n      <td>Tesla, Inc.</td>\n      <td>414.496252</td>\n      <td>0.998666</td>\n      <td>18991.867226</td>\n      <td>100.000000</td>\n      <td>42.857143</td>\n      <td>9.301243</td>\n      <td>17.663979</td>\n      <td>...</td>\n      <td>-1</td>\n      <td>4.490718</td>\n      <td>-99.150391</td>\n      <td>-23.360</td>\n      <td>27.294109</td>\n      <td>22.010251</td>\n      <td>43.105088</td>\n      <td>32.583124</td>\n      <td>22.251475</td>\n      <td>13.383379</td>\n    </tr>\n  </tbody>\n</table>\n<p>10 rows × 302 columns</p>\n</div>"
     },
     "execution_count": 2,
     "metadata": {},
     "output_type": "execute_result"
    }
   ],
   "source": [
    "ss = tvs.StockScreener()\n",
    "df = ss.get()\n",
    "df.head(10)"
   ],
   "metadata": {
    "collapsed": false,
    "ExecuteTime": {
     "end_time": "2023-09-27T19:34:07.791030600Z",
     "start_time": "2023-09-27T19:34:04.947775700Z"
    }
   },
   "id": "e784d4685477f41b"
  },
  {
   "cell_type": "markdown",
   "source": [
    "## Time Interval\n",
    "\n",
    "TradingView Screener allows to filter by time interval. It has a limitation for free member to 1 Day and above.\n",
    "`tvscreener` allows to filter by any time interval."
   ],
   "metadata": {
    "collapsed": false
   },
   "id": "c726d044fff81381"
  },
  {
   "cell_type": "code",
   "execution_count": 3,
   "outputs": [
    {
     "data": {
      "text/plain": "         Symbol   Name                  Description  All Time High  \\\n0   NASDAQ:AAPL   AAPL                   Apple Inc.     198.230000   \n1   NASDAQ:MSFT   MSFT        Microsoft Corporation     366.780000   \n2  NASDAQ:GOOGL  GOOGL                Alphabet Inc.     151.546575   \n3   NASDAQ:GOOG   GOOG                Alphabet Inc.     152.100000   \n4   NASDAQ:AMZN   AMZN             Amazon.com, Inc.     188.653910   \n5   NASDAQ:NVDA   NVDA           NVIDIA Corporation     502.660000   \n6    NYSE:BRK.B  BRK.B  Berkshire Hathaway Inc. New     373.340000   \n7    NYSE:BRK.A  BRK.A      Berkshire Hathaway Inc.  566569.970000   \n8   NASDAQ:META   META         Meta Platforms, Inc.     384.330000   \n9   NASDAQ:TSLA   TSLA                  Tesla, Inc.     414.496252   \n\n   All Time Low  All Time Performance  Aroon Down (14)  Aroon Up (14)  \\\n0      0.049107         132586.134572         0.000000      64.285714   \n1      0.088543         321912.281045         0.000000      64.285714   \n2      2.401327           5118.016722         0.000000      64.285714   \n3     24.312350            363.854791         0.000000      64.285714   \n4      0.065624         103548.029933       100.000000      28.571429   \n5      0.333335          97280.103405         0.000000      64.285714   \n6     19.800000           1440.387931        85.714286      57.142857   \n7    235.000000         221089.100000        78.571429      64.285714   \n8     17.550000            610.107015       100.000000      64.285714   \n9      0.998666          18991.867226         0.000000      64.285714   \n\n   Average Day Range (14)  Average Directional Index (14)  ...  Reco. VWMA  \\\n0                0.165343                       24.857830  ...          -1   \n1                0.328193                       32.807997  ...          -1   \n2                0.126843                       47.712707  ...          -1   \n3                0.127200                       48.366557  ...          -1   \n4                0.157607                       30.035788  ...          -1   \n5                0.748121                       49.902238  ...          -1   \n6                0.188743                       24.856194  ...          -1   \n7              169.441957                       15.446908  ...          -1   \n8                0.717657                       58.234381  ...          -1   \n9                0.457121                       49.408737  ...          -1   \n\n   Prev. Awesome Oscillator  Prev. Commodity Channel Index (20)  \\\n0                  0.104981                          -35.244465   \n1                  0.435853                          -31.346398   \n2                  0.243641                           45.677041   \n3                  0.239546                           42.067407   \n4                  0.179179                            0.891851   \n5                  1.534843                            6.532233   \n6                  0.187074                           -2.183271   \n7                291.062306                          -41.025371   \n8                  2.063340                            5.583618   \n9                  1.156169                           63.036424   \n\n   Prev. Momentum (10)  Prev. Negative Directional Indicator (14)  \\\n0              -0.3850                                  24.871810   \n1              -0.5075                                  22.536594   \n2              -0.0700                                  12.365364   \n3              -0.0800                                  11.910521   \n4              -0.3300                                  19.517729   \n5              -0.9328                                  15.519576   \n6              -0.1000                                  25.344451   \n7            -407.5050                                  39.258786   \n8              -1.2300                                  12.467009   \n9              -0.1199                                  13.127654   \n\n   Prev. Positive Directional Indicator (14)  \\\n0                                  22.615542   \n1                                  21.459699   \n2                                  24.731782   \n3                                  23.659724   \n4                                  24.513727   \n5                                  27.954990   \n6                                  27.125743   \n7                                  22.722229   \n8                                  27.670674   \n9                                  28.369495   \n\n   Prev. Relative Strength Index (14)  Prev. Relative Strength Index (7)  \\\n0                           48.032552                          41.726044   \n1                           49.434414                          39.407204   \n2                           60.806234                          56.511216   \n3                           61.062996                          56.386353   \n4                           55.090748                          47.130994   \n5                           56.849216                          45.722552   \n6                           54.811865                          51.028422   \n7                           48.537659                          42.002441   \n8                           58.654483                          44.725961   \n9                           68.186823                          65.238479   \n\n   Prev. Stochastic %D (14, 3, 3)  Prev. Stochastic %K (14, 3, 3)  \n0                       38.775343                       27.164675  \n1                       41.964060                       27.671854  \n2                       60.556051                       55.658692  \n3                       59.262310                       53.833992  \n4                       36.775868                       28.541142  \n5                       44.250178                       34.943608  \n6                       37.831559                       28.707771  \n7                       44.439095                       26.784150  \n8                       49.469202                       33.296910  \n9                       68.459020                       66.067531  \n\n[10 rows x 301 columns]",
      "text/html": "<div>\n<style scoped>\n    .dataframe tbody tr th:only-of-type {\n        vertical-align: middle;\n    }\n\n    .dataframe tbody tr th {\n        vertical-align: top;\n    }\n\n    .dataframe thead th {\n        text-align: right;\n    }\n</style>\n<table border=\"1\" class=\"dataframe\">\n  <thead>\n    <tr style=\"text-align: right;\">\n      <th></th>\n      <th>Symbol</th>\n      <th>Name</th>\n      <th>Description</th>\n      <th>All Time High</th>\n      <th>All Time Low</th>\n      <th>All Time Performance</th>\n      <th>Aroon Down (14)</th>\n      <th>Aroon Up (14)</th>\n      <th>Average Day Range (14)</th>\n      <th>Average Directional Index (14)</th>\n      <th>...</th>\n      <th>Reco. VWMA</th>\n      <th>Prev. Awesome Oscillator</th>\n      <th>Prev. Commodity Channel Index (20)</th>\n      <th>Prev. Momentum (10)</th>\n      <th>Prev. Negative Directional Indicator (14)</th>\n      <th>Prev. Positive Directional Indicator (14)</th>\n      <th>Prev. Relative Strength Index (14)</th>\n      <th>Prev. Relative Strength Index (7)</th>\n      <th>Prev. Stochastic %D (14, 3, 3)</th>\n      <th>Prev. Stochastic %K (14, 3, 3)</th>\n    </tr>\n  </thead>\n  <tbody>\n    <tr>\n      <th>0</th>\n      <td>NASDAQ:AAPL</td>\n      <td>AAPL</td>\n      <td>Apple Inc.</td>\n      <td>198.230000</td>\n      <td>0.049107</td>\n      <td>132586.134572</td>\n      <td>0.000000</td>\n      <td>64.285714</td>\n      <td>0.165343</td>\n      <td>24.857830</td>\n      <td>...</td>\n      <td>-1</td>\n      <td>0.104981</td>\n      <td>-35.244465</td>\n      <td>-0.3850</td>\n      <td>24.871810</td>\n      <td>22.615542</td>\n      <td>48.032552</td>\n      <td>41.726044</td>\n      <td>38.775343</td>\n      <td>27.164675</td>\n    </tr>\n    <tr>\n      <th>1</th>\n      <td>NASDAQ:MSFT</td>\n      <td>MSFT</td>\n      <td>Microsoft Corporation</td>\n      <td>366.780000</td>\n      <td>0.088543</td>\n      <td>321912.281045</td>\n      <td>0.000000</td>\n      <td>64.285714</td>\n      <td>0.328193</td>\n      <td>32.807997</td>\n      <td>...</td>\n      <td>-1</td>\n      <td>0.435853</td>\n      <td>-31.346398</td>\n      <td>-0.5075</td>\n      <td>22.536594</td>\n      <td>21.459699</td>\n      <td>49.434414</td>\n      <td>39.407204</td>\n      <td>41.964060</td>\n      <td>27.671854</td>\n    </tr>\n    <tr>\n      <th>2</th>\n      <td>NASDAQ:GOOGL</td>\n      <td>GOOGL</td>\n      <td>Alphabet Inc.</td>\n      <td>151.546575</td>\n      <td>2.401327</td>\n      <td>5118.016722</td>\n      <td>0.000000</td>\n      <td>64.285714</td>\n      <td>0.126843</td>\n      <td>47.712707</td>\n      <td>...</td>\n      <td>-1</td>\n      <td>0.243641</td>\n      <td>45.677041</td>\n      <td>-0.0700</td>\n      <td>12.365364</td>\n      <td>24.731782</td>\n      <td>60.806234</td>\n      <td>56.511216</td>\n      <td>60.556051</td>\n      <td>55.658692</td>\n    </tr>\n    <tr>\n      <th>3</th>\n      <td>NASDAQ:GOOG</td>\n      <td>GOOG</td>\n      <td>Alphabet Inc.</td>\n      <td>152.100000</td>\n      <td>24.312350</td>\n      <td>363.854791</td>\n      <td>0.000000</td>\n      <td>64.285714</td>\n      <td>0.127200</td>\n      <td>48.366557</td>\n      <td>...</td>\n      <td>-1</td>\n      <td>0.239546</td>\n      <td>42.067407</td>\n      <td>-0.0800</td>\n      <td>11.910521</td>\n      <td>23.659724</td>\n      <td>61.062996</td>\n      <td>56.386353</td>\n      <td>59.262310</td>\n      <td>53.833992</td>\n    </tr>\n    <tr>\n      <th>4</th>\n      <td>NASDAQ:AMZN</td>\n      <td>AMZN</td>\n      <td>Amazon.com, Inc.</td>\n      <td>188.653910</td>\n      <td>0.065624</td>\n      <td>103548.029933</td>\n      <td>100.000000</td>\n      <td>28.571429</td>\n      <td>0.157607</td>\n      <td>30.035788</td>\n      <td>...</td>\n      <td>-1</td>\n      <td>0.179179</td>\n      <td>0.891851</td>\n      <td>-0.3300</td>\n      <td>19.517729</td>\n      <td>24.513727</td>\n      <td>55.090748</td>\n      <td>47.130994</td>\n      <td>36.775868</td>\n      <td>28.541142</td>\n    </tr>\n    <tr>\n      <th>5</th>\n      <td>NASDAQ:NVDA</td>\n      <td>NVDA</td>\n      <td>NVIDIA Corporation</td>\n      <td>502.660000</td>\n      <td>0.333335</td>\n      <td>97280.103405</td>\n      <td>0.000000</td>\n      <td>64.285714</td>\n      <td>0.748121</td>\n      <td>49.902238</td>\n      <td>...</td>\n      <td>-1</td>\n      <td>1.534843</td>\n      <td>6.532233</td>\n      <td>-0.9328</td>\n      <td>15.519576</td>\n      <td>27.954990</td>\n      <td>56.849216</td>\n      <td>45.722552</td>\n      <td>44.250178</td>\n      <td>34.943608</td>\n    </tr>\n    <tr>\n      <th>6</th>\n      <td>NYSE:BRK.B</td>\n      <td>BRK.B</td>\n      <td>Berkshire Hathaway Inc. New</td>\n      <td>373.340000</td>\n      <td>19.800000</td>\n      <td>1440.387931</td>\n      <td>85.714286</td>\n      <td>57.142857</td>\n      <td>0.188743</td>\n      <td>24.856194</td>\n      <td>...</td>\n      <td>-1</td>\n      <td>0.187074</td>\n      <td>-2.183271</td>\n      <td>-0.1000</td>\n      <td>25.344451</td>\n      <td>27.125743</td>\n      <td>54.811865</td>\n      <td>51.028422</td>\n      <td>37.831559</td>\n      <td>28.707771</td>\n    </tr>\n    <tr>\n      <th>7</th>\n      <td>NYSE:BRK.A</td>\n      <td>BRK.A</td>\n      <td>Berkshire Hathaway Inc.</td>\n      <td>566569.970000</td>\n      <td>235.000000</td>\n      <td>221089.100000</td>\n      <td>78.571429</td>\n      <td>64.285714</td>\n      <td>169.441957</td>\n      <td>15.446908</td>\n      <td>...</td>\n      <td>-1</td>\n      <td>291.062306</td>\n      <td>-41.025371</td>\n      <td>-407.5050</td>\n      <td>39.258786</td>\n      <td>22.722229</td>\n      <td>48.537659</td>\n      <td>42.002441</td>\n      <td>44.439095</td>\n      <td>26.784150</td>\n    </tr>\n    <tr>\n      <th>8</th>\n      <td>NASDAQ:META</td>\n      <td>META</td>\n      <td>Meta Platforms, Inc.</td>\n      <td>384.330000</td>\n      <td>17.550000</td>\n      <td>610.107015</td>\n      <td>100.000000</td>\n      <td>64.285714</td>\n      <td>0.717657</td>\n      <td>58.234381</td>\n      <td>...</td>\n      <td>-1</td>\n      <td>2.063340</td>\n      <td>5.583618</td>\n      <td>-1.2300</td>\n      <td>12.467009</td>\n      <td>27.670674</td>\n      <td>58.654483</td>\n      <td>44.725961</td>\n      <td>49.469202</td>\n      <td>33.296910</td>\n    </tr>\n    <tr>\n      <th>9</th>\n      <td>NASDAQ:TSLA</td>\n      <td>TSLA</td>\n      <td>Tesla, Inc.</td>\n      <td>414.496252</td>\n      <td>0.998666</td>\n      <td>18991.867226</td>\n      <td>0.000000</td>\n      <td>64.285714</td>\n      <td>0.457121</td>\n      <td>49.408737</td>\n      <td>...</td>\n      <td>-1</td>\n      <td>1.156169</td>\n      <td>63.036424</td>\n      <td>-0.1199</td>\n      <td>13.127654</td>\n      <td>28.369495</td>\n      <td>68.186823</td>\n      <td>65.238479</td>\n      <td>68.459020</td>\n      <td>66.067531</td>\n    </tr>\n  </tbody>\n</table>\n<p>10 rows × 301 columns</p>\n</div>"
     },
     "execution_count": 3,
     "metadata": {},
     "output_type": "execute_result"
    }
   ],
   "source": [
    "ss = tvs.StockScreener()\n",
    "df = ss.get(TimeInterval.ONE_MINUTE)\n",
    "df.head(10)"
   ],
   "metadata": {
    "collapsed": false,
    "ExecuteTime": {
     "end_time": "2023-09-27T19:34:09.753312Z",
     "start_time": "2023-09-27T19:34:07.791030600Z"
    }
   },
   "id": "b43d16de57ee391a"
  },
  {
   "cell_type": "markdown",
   "source": [
    "## Filters\n",
    "\n",
    "Filters helps reduce the amount of results returned by TradingView. You can filter using **fields**, and/or using **extra filters**.\n",
    "\n",
    "![title](img/stock-filters.png)"
   ],
   "metadata": {
    "collapsed": false
   },
   "id": "8e7b7bc92eff736b"
  },
  {
   "cell_type": "markdown",
   "source": [
    "#### Fields Filtering"
   ],
   "metadata": {
    "collapsed": false
   },
   "id": "428a3f0a1f99a747"
  },
  {
   "cell_type": "code",
   "execution_count": 4,
   "outputs": [],
   "source": [
    "ss = tvs.StockScreener()"
   ],
   "metadata": {
    "collapsed": false,
    "ExecuteTime": {
     "end_time": "2023-09-27T19:34:09.806692700Z",
     "start_time": "2023-09-27T19:34:09.754312100Z"
    }
   },
   "id": "3938fc2af76d082d"
  },
  {
   "cell_type": "code",
   "execution_count": 5,
   "outputs": [],
   "source": [
    "# Filter by exchange\n",
    "ss.add_filter(StockField.EXCHANGE, FilterOperator.IN_RANGE, [Exchange.NYSE, Exchange.NASDAQ])"
   ],
   "metadata": {
    "collapsed": false,
    "ExecuteTime": {
     "end_time": "2023-09-27T19:34:09.835204700Z",
     "start_time": "2023-09-27T19:34:09.782693100Z"
    }
   },
   "id": "bfc197b86e25f36b"
  },
  {
   "cell_type": "markdown",
   "source": [
    "As a general rule, if you pass an array as value, the field operator will be `IN_RANGE`. If you pass a single value, the field operator will be `EQUAL`.\n",
    "Internally, `tvscreener` will convert the field operator to the correct one."
   ],
   "metadata": {
    "collapsed": false
   },
   "id": "4066c86cb67671ee"
  },
  {
   "cell_type": "code",
   "execution_count": 6,
   "outputs": [],
   "source": [
    "# Filter operator automatic conversion example\n",
    "ss.add_filter(StockField.EXCHANGE, FilterOperator.EQUAL, Exchange.NYSE)\n",
    "# Filter operator will be converted to IN_RANGE\n",
    "ss.add_filter(StockField.EXCHANGE, FilterOperator.EQUAL, Exchange.NASDAQ) "
   ],
   "metadata": {
    "collapsed": false,
    "ExecuteTime": {
     "end_time": "2023-09-27T19:34:09.856165800Z",
     "start_time": "2023-09-27T19:34:09.811205300Z"
    }
   },
   "id": "4c768e89cc4841bd"
  },
  {
   "cell_type": "code",
   "execution_count": 7,
   "outputs": [],
   "source": [
    "# Filter by submarket\n",
    "ss.add_filter(StockField.SUBMARKET, FilterOperator.IN_RANGE, [SubMarket.OTCQB, SubMarket.PINK])\n",
    "\n",
    "# Filter by Volume\n",
    "ss.add_filter(StockField.VOLUME, FilterOperator.ABOVE_OR_EQUAL, 50000)\n",
    "\n",
    "# Filter by Basic EPS (TTM):\n",
    "ss.add_filter(StockField.BASIC_EPS_TTM, FilterOperator.BELOW, 10)\n",
    "\n",
    "# Exception for the field Symbol Type which requires extra internal controls\n",
    "ss.set_symbol_types(SymbolType.COMMON_STOCK, SymbolType.ETF)"
   ],
   "metadata": {
    "collapsed": false,
    "ExecuteTime": {
     "end_time": "2023-09-27T19:34:09.883635300Z",
     "start_time": "2023-09-27T19:34:09.840164700Z"
    }
   },
   "id": "7726c96aeabf261f"
  },
  {
   "cell_type": "markdown",
   "source": [
    "#### Extra Filters"
   ],
   "metadata": {
    "collapsed": false
   },
   "id": "9458f3ac53affbb1"
  },
  {
   "cell_type": "code",
   "execution_count": 8,
   "outputs": [],
   "source": [
    "# Filter by current trading day\n",
    "ss.add_filter(ExtraFilter.CURRENT_TRADING_DAY, FilterOperator.EQUAL, True)\n",
    "# Filter by primary listing\n",
    "ss.add_filter(ExtraFilter.PRIMARY, FilterOperator.EQUAL, True)"
   ],
   "metadata": {
    "collapsed": false,
    "ExecuteTime": {
     "end_time": "2023-09-27T19:34:09.897049400Z",
     "start_time": "2023-09-27T19:34:09.868638600Z"
    }
   },
   "id": "4f7607f354753b43"
  },
  {
   "cell_type": "markdown",
   "source": [
    "## Search\n",
    "\n",
    "![title](img/search.png)"
   ],
   "metadata": {
    "collapsed": false
   },
   "id": "97af5914a2079e91"
  },
  {
   "cell_type": "code",
   "execution_count": 9,
   "outputs": [
    {
     "data": {
      "text/plain": "        Symbol   Name                Description  All Time High  All Time Low  \\\n0  NASDAQ:AAPL   AAPL                 Apple Inc.      198.23000      0.049107   \n1    OTC:AAIGF  AAIGF            AIA Group, Ltd.       14.56000      2.460000   \n2    OTC:AAGIY  AAGIY            AIA Group, Ltd.       56.53000      9.930000   \n3    OTC:MKKGY  MKKGY                 Merck KGaA       52.29000      6.989860   \n4    OTC:MKGAF  MKGAF                 Merck KGaA      264.40000     18.250000   \n5    OTC:AAUKF  AAUKF         Anglo American plc       73.40652      3.131100   \n6    OTC:MRAAY  MRAAY  Murata Manufacturing Inc.       26.59000      3.083330   \n7    OTC:MRAAF  MRAAF  Murata Manufacturing Inc.      183.77000     33.552800   \n8    OTC:HENOF  HENOF       Henkel AG & Co. KGAA      159.35001     23.000000   \n9    OTC:HENOY  HENOY       Henkel AG & Co. KGAA       36.00100      5.166615   \n\n   All Time Performance  Aroon Down (14)  Aroon Up (14)  \\\n0         132586.134572       100.000000      14.285714   \n1            182.986111        92.857143       0.000000   \n2            181.341991        92.857143      28.571429   \n3            172.227662       100.000000       0.000000   \n4            306.420063       100.000000       0.000000   \n5             56.033130        50.000000      85.714286   \n6            338.744386        71.428571      35.714286   \n7             18.579879        28.571429       0.000000   \n8             12.214928       100.000000       0.000000   \n9            231.622332       100.000000      14.285714   \n\n   Average Day Range (14)  Average Directional Index (14)  ...  Reco. VWMA  \\\n0                3.218429                       25.653844  ...        -1.0   \n1                0.365714                       29.895630  ...        -1.0   \n2                0.482579                       16.338418  ...        -1.0   \n3                0.455064                       19.813728  ...        -1.0   \n4                4.924857                       10.217315  ...        -1.0   \n5                0.374219                       13.469633  ...         1.0   \n6                0.400000                       10.277903  ...        -1.0   \n7                1.250929                       13.892408  ...        -1.0   \n8                0.066579                       17.635434  ...        -1.0   \n9                0.156279                       34.955275  ...        -1.0   \n\n   Prev. Awesome Oscillator  Prev. Commodity Channel Index (20)  \\\n0                 -3.283856                          -99.336416   \n1                 -0.518029                         -180.198951   \n2                 -2.059031                         -169.851125   \n3                 -1.174500                         -119.459067   \n4                 -5.675028                         -119.096003   \n5                 -0.417817                          161.387549   \n6                 -0.110543                          -96.010522   \n7                 -0.229774                          -63.282366   \n8                 -1.062590                         -198.299884   \n9                 -1.032359                         -124.272606   \n\n   Prev. Momentum (10)  Prev. Negative Directional Indicator (14)  \\\n0              -4.3400                                  30.558611   \n1              -0.7300                                  22.455402   \n2              -2.7300                                  42.226956   \n3              -1.0300                                  43.434876   \n4              -6.2540                                  22.324742   \n5               2.2750                                  29.629036   \n6              -0.2600                                  28.501446   \n7              -2.4280                                  20.780990   \n8              -7.0501                                  57.399324   \n9              -1.0935                                  46.497242   \n\n   Prev. Positive Directional Indicator (14)  \\\n0                                  16.822189   \n1                                   8.018751   \n2                                  20.924167   \n3                                  22.561050   \n4                                  26.245161   \n5                                  52.236981   \n6                                  21.474688   \n7                                  27.564427   \n8                                  37.656357   \n9                                  12.582312   \n\n   Prev. Relative Strength Index (14)  Prev. Relative Strength Index (7)  \\\n0                           38.386676                          33.426894   \n1                           31.515184                          25.577307   \n2                           27.195210                          19.695007   \n3                           36.760445                          28.788114   \n4                           41.653193                          37.852582   \n5                           53.655836                          60.256388   \n6                           44.000027                          40.946516   \n7                           46.703859                          45.270260   \n8                           39.813514                          30.860912   \n9                           24.398495                          15.886250   \n\n   Prev. Stochastic %D (14, 3, 3)  Prev. Stochastic %K (14, 3, 3)  \n0                        8.452134                        9.222031  \n1                       19.715915                       21.189097  \n2                       10.542012                       11.407377  \n3                       12.691978                        7.808972  \n4                       17.487770                       11.536634  \n5                       77.237132                       87.766072  \n6                       38.440477                       37.658080  \n7                       31.877576                       26.350204  \n8                       13.098674                        9.183099  \n9                        4.786640                        5.167695  \n\n[10 rows x 302 columns]",
      "text/html": "<div>\n<style scoped>\n    .dataframe tbody tr th:only-of-type {\n        vertical-align: middle;\n    }\n\n    .dataframe tbody tr th {\n        vertical-align: top;\n    }\n\n    .dataframe thead th {\n        text-align: right;\n    }\n</style>\n<table border=\"1\" class=\"dataframe\">\n  <thead>\n    <tr style=\"text-align: right;\">\n      <th></th>\n      <th>Symbol</th>\n      <th>Name</th>\n      <th>Description</th>\n      <th>All Time High</th>\n      <th>All Time Low</th>\n      <th>All Time Performance</th>\n      <th>Aroon Down (14)</th>\n      <th>Aroon Up (14)</th>\n      <th>Average Day Range (14)</th>\n      <th>Average Directional Index (14)</th>\n      <th>...</th>\n      <th>Reco. VWMA</th>\n      <th>Prev. Awesome Oscillator</th>\n      <th>Prev. Commodity Channel Index (20)</th>\n      <th>Prev. Momentum (10)</th>\n      <th>Prev. Negative Directional Indicator (14)</th>\n      <th>Prev. Positive Directional Indicator (14)</th>\n      <th>Prev. Relative Strength Index (14)</th>\n      <th>Prev. Relative Strength Index (7)</th>\n      <th>Prev. Stochastic %D (14, 3, 3)</th>\n      <th>Prev. Stochastic %K (14, 3, 3)</th>\n    </tr>\n  </thead>\n  <tbody>\n    <tr>\n      <th>0</th>\n      <td>NASDAQ:AAPL</td>\n      <td>AAPL</td>\n      <td>Apple Inc.</td>\n      <td>198.23000</td>\n      <td>0.049107</td>\n      <td>132586.134572</td>\n      <td>100.000000</td>\n      <td>14.285714</td>\n      <td>3.218429</td>\n      <td>25.653844</td>\n      <td>...</td>\n      <td>-1.0</td>\n      <td>-3.283856</td>\n      <td>-99.336416</td>\n      <td>-4.3400</td>\n      <td>30.558611</td>\n      <td>16.822189</td>\n      <td>38.386676</td>\n      <td>33.426894</td>\n      <td>8.452134</td>\n      <td>9.222031</td>\n    </tr>\n    <tr>\n      <th>1</th>\n      <td>OTC:AAIGF</td>\n      <td>AAIGF</td>\n      <td>AIA Group, Ltd.</td>\n      <td>14.56000</td>\n      <td>2.460000</td>\n      <td>182.986111</td>\n      <td>92.857143</td>\n      <td>0.000000</td>\n      <td>0.365714</td>\n      <td>29.895630</td>\n      <td>...</td>\n      <td>-1.0</td>\n      <td>-0.518029</td>\n      <td>-180.198951</td>\n      <td>-0.7300</td>\n      <td>22.455402</td>\n      <td>8.018751</td>\n      <td>31.515184</td>\n      <td>25.577307</td>\n      <td>19.715915</td>\n      <td>21.189097</td>\n    </tr>\n    <tr>\n      <th>2</th>\n      <td>OTC:AAGIY</td>\n      <td>AAGIY</td>\n      <td>AIA Group, Ltd.</td>\n      <td>56.53000</td>\n      <td>9.930000</td>\n      <td>181.341991</td>\n      <td>92.857143</td>\n      <td>28.571429</td>\n      <td>0.482579</td>\n      <td>16.338418</td>\n      <td>...</td>\n      <td>-1.0</td>\n      <td>-2.059031</td>\n      <td>-169.851125</td>\n      <td>-2.7300</td>\n      <td>42.226956</td>\n      <td>20.924167</td>\n      <td>27.195210</td>\n      <td>19.695007</td>\n      <td>10.542012</td>\n      <td>11.407377</td>\n    </tr>\n    <tr>\n      <th>3</th>\n      <td>OTC:MKKGY</td>\n      <td>MKKGY</td>\n      <td>Merck KGaA</td>\n      <td>52.29000</td>\n      <td>6.989860</td>\n      <td>172.227662</td>\n      <td>100.000000</td>\n      <td>0.000000</td>\n      <td>0.455064</td>\n      <td>19.813728</td>\n      <td>...</td>\n      <td>-1.0</td>\n      <td>-1.174500</td>\n      <td>-119.459067</td>\n      <td>-1.0300</td>\n      <td>43.434876</td>\n      <td>22.561050</td>\n      <td>36.760445</td>\n      <td>28.788114</td>\n      <td>12.691978</td>\n      <td>7.808972</td>\n    </tr>\n    <tr>\n      <th>4</th>\n      <td>OTC:MKGAF</td>\n      <td>MKGAF</td>\n      <td>Merck KGaA</td>\n      <td>264.40000</td>\n      <td>18.250000</td>\n      <td>306.420063</td>\n      <td>100.000000</td>\n      <td>0.000000</td>\n      <td>4.924857</td>\n      <td>10.217315</td>\n      <td>...</td>\n      <td>-1.0</td>\n      <td>-5.675028</td>\n      <td>-119.096003</td>\n      <td>-6.2540</td>\n      <td>22.324742</td>\n      <td>26.245161</td>\n      <td>41.653193</td>\n      <td>37.852582</td>\n      <td>17.487770</td>\n      <td>11.536634</td>\n    </tr>\n    <tr>\n      <th>5</th>\n      <td>OTC:AAUKF</td>\n      <td>AAUKF</td>\n      <td>Anglo American plc</td>\n      <td>73.40652</td>\n      <td>3.131100</td>\n      <td>56.033130</td>\n      <td>50.000000</td>\n      <td>85.714286</td>\n      <td>0.374219</td>\n      <td>13.469633</td>\n      <td>...</td>\n      <td>1.0</td>\n      <td>-0.417817</td>\n      <td>161.387549</td>\n      <td>2.2750</td>\n      <td>29.629036</td>\n      <td>52.236981</td>\n      <td>53.655836</td>\n      <td>60.256388</td>\n      <td>77.237132</td>\n      <td>87.766072</td>\n    </tr>\n    <tr>\n      <th>6</th>\n      <td>OTC:MRAAY</td>\n      <td>MRAAY</td>\n      <td>Murata Manufacturing Inc.</td>\n      <td>26.59000</td>\n      <td>3.083330</td>\n      <td>338.744386</td>\n      <td>71.428571</td>\n      <td>35.714286</td>\n      <td>0.400000</td>\n      <td>10.277903</td>\n      <td>...</td>\n      <td>-1.0</td>\n      <td>-0.110543</td>\n      <td>-96.010522</td>\n      <td>-0.2600</td>\n      <td>28.501446</td>\n      <td>21.474688</td>\n      <td>44.000027</td>\n      <td>40.946516</td>\n      <td>38.440477</td>\n      <td>37.658080</td>\n    </tr>\n    <tr>\n      <th>7</th>\n      <td>OTC:MRAAF</td>\n      <td>MRAAF</td>\n      <td>Murata Manufacturing Inc.</td>\n      <td>183.77000</td>\n      <td>33.552800</td>\n      <td>18.579879</td>\n      <td>28.571429</td>\n      <td>0.000000</td>\n      <td>1.250929</td>\n      <td>13.892408</td>\n      <td>...</td>\n      <td>-1.0</td>\n      <td>-0.229774</td>\n      <td>-63.282366</td>\n      <td>-2.4280</td>\n      <td>20.780990</td>\n      <td>27.564427</td>\n      <td>46.703859</td>\n      <td>45.270260</td>\n      <td>31.877576</td>\n      <td>26.350204</td>\n    </tr>\n    <tr>\n      <th>8</th>\n      <td>OTC:HENOF</td>\n      <td>HENOF</td>\n      <td>Henkel AG &amp; Co. KGAA</td>\n      <td>159.35001</td>\n      <td>23.000000</td>\n      <td>12.214928</td>\n      <td>100.000000</td>\n      <td>0.000000</td>\n      <td>0.066579</td>\n      <td>17.635434</td>\n      <td>...</td>\n      <td>-1.0</td>\n      <td>-1.062590</td>\n      <td>-198.299884</td>\n      <td>-7.0501</td>\n      <td>57.399324</td>\n      <td>37.656357</td>\n      <td>39.813514</td>\n      <td>30.860912</td>\n      <td>13.098674</td>\n      <td>9.183099</td>\n    </tr>\n    <tr>\n      <th>9</th>\n      <td>OTC:HENOY</td>\n      <td>HENOY</td>\n      <td>Henkel AG &amp; Co. KGAA</td>\n      <td>36.00100</td>\n      <td>5.166615</td>\n      <td>231.622332</td>\n      <td>100.000000</td>\n      <td>14.285714</td>\n      <td>0.156279</td>\n      <td>34.955275</td>\n      <td>...</td>\n      <td>-1.0</td>\n      <td>-1.032359</td>\n      <td>-124.272606</td>\n      <td>-1.0935</td>\n      <td>46.497242</td>\n      <td>12.582312</td>\n      <td>24.398495</td>\n      <td>15.886250</td>\n      <td>4.786640</td>\n      <td>5.167695</td>\n    </tr>\n  </tbody>\n</table>\n<p>10 rows × 302 columns</p>\n</div>"
     },
     "execution_count": 9,
     "metadata": {},
     "output_type": "execute_result"
    }
   ],
   "source": [
    "# Search for stocks with name matching 'AA'\n",
    "ss = tvs.StockScreener()\n",
    "ss.search('AA')\n",
    "\n",
    "df = ss.get()\n",
    "df.head(10)"
   ],
   "metadata": {
    "collapsed": false,
    "ExecuteTime": {
     "end_time": "2023-09-27T19:34:11.265844200Z",
     "start_time": "2023-09-27T19:34:09.897049400Z"
    }
   },
   "id": "e9c208dd46c5856a"
  },
  {
   "cell_type": "markdown",
   "source": [
    "## Sort"
   ],
   "metadata": {
    "collapsed": false
   },
   "id": "f76cea0dc26145c3"
  },
  {
   "cell_type": "code",
   "execution_count": 10,
   "outputs": [
    {
     "data": {
      "text/plain": "        Symbol   Name                                        Description  \\\n0     OTC:HEOL   HEOL                              HIGHWATER ETHANOL LLC   \n1     OTC:CRDE   CRDE                               CARDINAL ETHANOL LLC   \n2    OTC:SWIOU  SWIOU                SOUTHWEST IOWA RENEWABLE ENERGY LLC   \n3     OTC:FINN   FINN                   First National of Nebraska, Inc.   \n4     OTC:FMBL   FMBL        Farmers & Merchants Bank of Long Beach (CA)   \n..         ...    ...                                                ...   \n145  OTC:VFAWF  VFAWF                                 Vanguard Funds PLC   \n146  OTC:PPWLM  PPWLM                                         PacifiCorp   \n147   AMEX:MUB    MUB                     iShares National Muni Bond ETF   \n148  AMEX:BBLB   BBLB  J.P. Morgan Exchange-Traded Fund Trust JPMorga...   \n149   AMEX:TIP    TIP                              iShares TIPS Bond ETF   \n\n     All Time High  All Time Low  All Time Performance  Aroon Down (14)  \\\n0       17500.0000    5500.00000            218.181818        28.571429   \n1       20500.0000    3500.00000             13.881402         0.000000   \n2        8500.0000    3300.00000             17.857143        35.714286   \n3       14401.0000    1790.00000            301.746032        78.571429   \n4        9200.0000    1725.00000            182.956522         0.000000   \n..             ...           ...                   ...              ...   \n145       119.0000      86.18000             22.218842         0.000000   \n146       187.5000      85.55000             31.296588         0.000000   \n147       118.1500      85.10001              2.855000       100.000000   \n148       102.3178      85.05810            -15.137085       100.000000   \n149       131.3700      84.14000              1.827586       100.000000   \n\n     Aroon Up (14)  Average Day Range (14)  Average Directional Index (14)  \\\n0        92.857143              332.857143                       33.468850   \n1        85.714286              396.428571                       54.218655   \n2        64.285714              181.928571                       39.643341   \n3        50.000000              105.571429                       29.810794   \n4        21.428571               49.823614                       21.356201   \n..             ...                     ...                             ...   \n145      57.142857                0.000000                       16.389832   \n146     100.000000                1.090000                        6.553694   \n147       0.000000                0.236007                       40.014441   \n148      14.285714                0.132764                       24.770290   \n149      28.571429                0.341800                       23.601386   \n\n     ...  Reco. VWMA  Prev. Awesome Oscillator  \\\n0    ...         1.0               5272.279412   \n1    ...         1.0               6847.485294   \n2    ...         1.0               2549.755882   \n3    ...        -1.0                 96.447353   \n4    ...         1.0                 41.930519   \n..   ...         ...                       ...   \n145  ...        -1.0                  5.242118   \n146  ...         1.0                 -1.245985   \n147  ...        -1.0                 -1.167067   \n148  ...        -1.0                 -2.520406   \n149  ...        -1.0                 -0.936849   \n\n     Prev. Commodity Channel Index (20)  Prev. Momentum (10)  \\\n0                            189.305409           11090.0000   \n1                             71.894768            1400.0000   \n2                            110.276037            3300.0000   \n3                            100.545614             506.7500   \n4                              3.871737            -231.0000   \n..                                  ...                  ...   \n145                           74.782743               1.8053   \n146                           77.248132               9.6400   \n147                         -231.344109              -1.8500   \n148                         -233.740674              -4.2794   \n149                         -222.041962              -1.8300   \n\n     Prev. Negative Directional Indicator (14)  \\\n0                                    16.449404   \n1                                    13.095096   \n2                                    29.407231   \n3                                    55.639066   \n4                                    45.374366   \n..                                         ...   \n145                                  40.695059   \n146                                  36.829698   \n147                                  50.180391   \n148                                  67.461576   \n149                                  40.497853   \n\n     Prev. Positive Directional Indicator (14)  \\\n0                                    78.506647   \n1                                    74.418005   \n2                                    69.061477   \n3                                    21.880803   \n4                                    29.575049   \n..                                         ...   \n145                                  58.839957   \n146                                  40.876466   \n147                                   9.150802   \n148                                  22.765572   \n149                                  15.934920   \n\n     Prev. Relative Strength Index (14)  Prev. Relative Strength Index (7)  \\\n0                             81.239150                          90.793317   \n1                             72.254645                          75.435849   \n2                             69.497815                          76.177707   \n3                             56.133628                          69.269173   \n4                             44.146646                          37.363221   \n..                                  ...                                ...   \n145                           59.292432                          58.789485   \n146                           53.434949                          61.620660   \n147                           20.823309                          11.427918   \n148                           28.437525                          21.218477   \n149                           31.421618                          23.530827   \n\n     Prev. Stochastic %D (14, 3, 3)  Prev. Stochastic %K (14, 3, 3)  \n0                         99.533147                       98.599440  \n1                         91.072756                       89.454256  \n2                         91.666667                       90.384615  \n3                         99.366453                       99.388379  \n4                         54.629819                       41.637950  \n..                              ...                             ...  \n145                       64.763468                       67.641743  \n146                       44.892974                       73.768742  \n147                        9.656118                        7.571300  \n148                        4.998660                        5.324038  \n149                       10.080195                       10.339881  \n\n[150 rows x 302 columns]",
      "text/html": "<div>\n<style scoped>\n    .dataframe tbody tr th:only-of-type {\n        vertical-align: middle;\n    }\n\n    .dataframe tbody tr th {\n        vertical-align: top;\n    }\n\n    .dataframe thead th {\n        text-align: right;\n    }\n</style>\n<table border=\"1\" class=\"dataframe\">\n  <thead>\n    <tr style=\"text-align: right;\">\n      <th></th>\n      <th>Symbol</th>\n      <th>Name</th>\n      <th>Description</th>\n      <th>All Time High</th>\n      <th>All Time Low</th>\n      <th>All Time Performance</th>\n      <th>Aroon Down (14)</th>\n      <th>Aroon Up (14)</th>\n      <th>Average Day Range (14)</th>\n      <th>Average Directional Index (14)</th>\n      <th>...</th>\n      <th>Reco. VWMA</th>\n      <th>Prev. Awesome Oscillator</th>\n      <th>Prev. Commodity Channel Index (20)</th>\n      <th>Prev. Momentum (10)</th>\n      <th>Prev. Negative Directional Indicator (14)</th>\n      <th>Prev. Positive Directional Indicator (14)</th>\n      <th>Prev. Relative Strength Index (14)</th>\n      <th>Prev. Relative Strength Index (7)</th>\n      <th>Prev. Stochastic %D (14, 3, 3)</th>\n      <th>Prev. Stochastic %K (14, 3, 3)</th>\n    </tr>\n  </thead>\n  <tbody>\n    <tr>\n      <th>0</th>\n      <td>OTC:HEOL</td>\n      <td>HEOL</td>\n      <td>HIGHWATER ETHANOL LLC</td>\n      <td>17500.0000</td>\n      <td>5500.00000</td>\n      <td>218.181818</td>\n      <td>28.571429</td>\n      <td>92.857143</td>\n      <td>332.857143</td>\n      <td>33.468850</td>\n      <td>...</td>\n      <td>1.0</td>\n      <td>5272.279412</td>\n      <td>189.305409</td>\n      <td>11090.0000</td>\n      <td>16.449404</td>\n      <td>78.506647</td>\n      <td>81.239150</td>\n      <td>90.793317</td>\n      <td>99.533147</td>\n      <td>98.599440</td>\n    </tr>\n    <tr>\n      <th>1</th>\n      <td>OTC:CRDE</td>\n      <td>CRDE</td>\n      <td>CARDINAL ETHANOL LLC</td>\n      <td>20500.0000</td>\n      <td>3500.00000</td>\n      <td>13.881402</td>\n      <td>0.000000</td>\n      <td>85.714286</td>\n      <td>396.428571</td>\n      <td>54.218655</td>\n      <td>...</td>\n      <td>1.0</td>\n      <td>6847.485294</td>\n      <td>71.894768</td>\n      <td>1400.0000</td>\n      <td>13.095096</td>\n      <td>74.418005</td>\n      <td>72.254645</td>\n      <td>75.435849</td>\n      <td>91.072756</td>\n      <td>89.454256</td>\n    </tr>\n    <tr>\n      <th>2</th>\n      <td>OTC:SWIOU</td>\n      <td>SWIOU</td>\n      <td>SOUTHWEST IOWA RENEWABLE ENERGY LLC</td>\n      <td>8500.0000</td>\n      <td>3300.00000</td>\n      <td>17.857143</td>\n      <td>35.714286</td>\n      <td>64.285714</td>\n      <td>181.928571</td>\n      <td>39.643341</td>\n      <td>...</td>\n      <td>1.0</td>\n      <td>2549.755882</td>\n      <td>110.276037</td>\n      <td>3300.0000</td>\n      <td>29.407231</td>\n      <td>69.061477</td>\n      <td>69.497815</td>\n      <td>76.177707</td>\n      <td>91.666667</td>\n      <td>90.384615</td>\n    </tr>\n    <tr>\n      <th>3</th>\n      <td>OTC:FINN</td>\n      <td>FINN</td>\n      <td>First National of Nebraska, Inc.</td>\n      <td>14401.0000</td>\n      <td>1790.00000</td>\n      <td>301.746032</td>\n      <td>78.571429</td>\n      <td>50.000000</td>\n      <td>105.571429</td>\n      <td>29.810794</td>\n      <td>...</td>\n      <td>-1.0</td>\n      <td>96.447353</td>\n      <td>100.545614</td>\n      <td>506.7500</td>\n      <td>55.639066</td>\n      <td>21.880803</td>\n      <td>56.133628</td>\n      <td>69.269173</td>\n      <td>99.366453</td>\n      <td>99.388379</td>\n    </tr>\n    <tr>\n      <th>4</th>\n      <td>OTC:FMBL</td>\n      <td>FMBL</td>\n      <td>Farmers &amp; Merchants Bank of Long Beach (CA)</td>\n      <td>9200.0000</td>\n      <td>1725.00000</td>\n      <td>182.956522</td>\n      <td>0.000000</td>\n      <td>21.428571</td>\n      <td>49.823614</td>\n      <td>21.356201</td>\n      <td>...</td>\n      <td>1.0</td>\n      <td>41.930519</td>\n      <td>3.871737</td>\n      <td>-231.0000</td>\n      <td>45.374366</td>\n      <td>29.575049</td>\n      <td>44.146646</td>\n      <td>37.363221</td>\n      <td>54.629819</td>\n      <td>41.637950</td>\n    </tr>\n    <tr>\n      <th>...</th>\n      <td>...</td>\n      <td>...</td>\n      <td>...</td>\n      <td>...</td>\n      <td>...</td>\n      <td>...</td>\n      <td>...</td>\n      <td>...</td>\n      <td>...</td>\n      <td>...</td>\n      <td>...</td>\n      <td>...</td>\n      <td>...</td>\n      <td>...</td>\n      <td>...</td>\n      <td>...</td>\n      <td>...</td>\n      <td>...</td>\n      <td>...</td>\n      <td>...</td>\n      <td>...</td>\n    </tr>\n    <tr>\n      <th>145</th>\n      <td>OTC:VFAWF</td>\n      <td>VFAWF</td>\n      <td>Vanguard Funds PLC</td>\n      <td>119.0000</td>\n      <td>86.18000</td>\n      <td>22.218842</td>\n      <td>0.000000</td>\n      <td>57.142857</td>\n      <td>0.000000</td>\n      <td>16.389832</td>\n      <td>...</td>\n      <td>-1.0</td>\n      <td>5.242118</td>\n      <td>74.782743</td>\n      <td>1.8053</td>\n      <td>40.695059</td>\n      <td>58.839957</td>\n      <td>59.292432</td>\n      <td>58.789485</td>\n      <td>64.763468</td>\n      <td>67.641743</td>\n    </tr>\n    <tr>\n      <th>146</th>\n      <td>OTC:PPWLM</td>\n      <td>PPWLM</td>\n      <td>PacifiCorp</td>\n      <td>187.5000</td>\n      <td>85.55000</td>\n      <td>31.296588</td>\n      <td>0.000000</td>\n      <td>100.000000</td>\n      <td>1.090000</td>\n      <td>6.553694</td>\n      <td>...</td>\n      <td>1.0</td>\n      <td>-1.245985</td>\n      <td>77.248132</td>\n      <td>9.6400</td>\n      <td>36.829698</td>\n      <td>40.876466</td>\n      <td>53.434949</td>\n      <td>61.620660</td>\n      <td>44.892974</td>\n      <td>73.768742</td>\n    </tr>\n    <tr>\n      <th>147</th>\n      <td>AMEX:MUB</td>\n      <td>MUB</td>\n      <td>iShares National Muni Bond ETF</td>\n      <td>118.1500</td>\n      <td>85.10001</td>\n      <td>2.855000</td>\n      <td>100.000000</td>\n      <td>0.000000</td>\n      <td>0.236007</td>\n      <td>40.014441</td>\n      <td>...</td>\n      <td>-1.0</td>\n      <td>-1.167067</td>\n      <td>-231.344109</td>\n      <td>-1.8500</td>\n      <td>50.180391</td>\n      <td>9.150802</td>\n      <td>20.823309</td>\n      <td>11.427918</td>\n      <td>9.656118</td>\n      <td>7.571300</td>\n    </tr>\n    <tr>\n      <th>148</th>\n      <td>AMEX:BBLB</td>\n      <td>BBLB</td>\n      <td>J.P. Morgan Exchange-Traded Fund Trust JPMorga...</td>\n      <td>102.3178</td>\n      <td>85.05810</td>\n      <td>-15.137085</td>\n      <td>100.000000</td>\n      <td>14.285714</td>\n      <td>0.132764</td>\n      <td>24.770290</td>\n      <td>...</td>\n      <td>-1.0</td>\n      <td>-2.520406</td>\n      <td>-233.740674</td>\n      <td>-4.2794</td>\n      <td>67.461576</td>\n      <td>22.765572</td>\n      <td>28.437525</td>\n      <td>21.218477</td>\n      <td>4.998660</td>\n      <td>5.324038</td>\n    </tr>\n    <tr>\n      <th>149</th>\n      <td>AMEX:TIP</td>\n      <td>TIP</td>\n      <td>iShares TIPS Bond ETF</td>\n      <td>131.3700</td>\n      <td>84.14000</td>\n      <td>1.827586</td>\n      <td>100.000000</td>\n      <td>28.571429</td>\n      <td>0.341800</td>\n      <td>23.601386</td>\n      <td>...</td>\n      <td>-1.0</td>\n      <td>-0.936849</td>\n      <td>-222.041962</td>\n      <td>-1.8300</td>\n      <td>40.497853</td>\n      <td>15.934920</td>\n      <td>31.421618</td>\n      <td>23.530827</td>\n      <td>10.080195</td>\n      <td>10.339881</td>\n    </tr>\n  </tbody>\n</table>\n<p>150 rows × 302 columns</p>\n</div>"
     },
     "execution_count": 10,
     "metadata": {},
     "output_type": "execute_result"
    }
   ],
   "source": [
    "# Sort by 'All-Time Low' descending\n",
    "ss = tvs.StockScreener()\n",
    "ss.sort_by(StockField.ALL_TIME_LOW, ascending=False)\n",
    "ss.get()"
   ],
   "metadata": {
    "collapsed": false,
    "ExecuteTime": {
     "end_time": "2023-09-27T19:34:12.288754900Z",
     "start_time": "2023-09-27T19:34:11.265844200Z"
    }
   },
   "id": "50bd8837a85856a0"
  },
  {
   "cell_type": "markdown",
   "source": [
    "## Technical Fields\n",
    "\n",
    "It could be useful to see the technical column name in place of the human-readable column name."
   ],
   "metadata": {
    "collapsed": false
   },
   "id": "e5ced632b4dd3f6b"
  },
  {
   "cell_type": "code",
   "execution_count": 11,
   "outputs": [
    {
     "data": {
      "text/plain": "         symbol   name                  description       High.All  \\\n         Symbol   Name                  Description  All Time High   \n0   NASDAQ:AAPL   AAPL                   Apple Inc.     198.230000   \n1   NASDAQ:MSFT   MSFT        Microsoft Corporation     366.780000   \n2  NASDAQ:GOOGL  GOOGL                Alphabet Inc.     151.546575   \n3   NASDAQ:GOOG   GOOG                Alphabet Inc.     152.100000   \n4   NASDAQ:AMZN   AMZN             Amazon.com, Inc.     188.653910   \n5   NASDAQ:NVDA   NVDA           NVIDIA Corporation     502.660000   \n6    NYSE:BRK.B  BRK.B  Berkshire Hathaway Inc. New     373.340000   \n7    NYSE:BRK.A  BRK.A      Berkshire Hathaway Inc.  566569.970000   \n8   NASDAQ:META   META         Meta Platforms, Inc.     384.330000   \n9   NASDAQ:TSLA   TSLA                  Tesla, Inc.     414.496252   \n\n       Low.All             Perf.All      Aroon.Down      Aroon.Up  \\\n  All Time Low All Time Performance Aroon Down (14) Aroon Up (14)   \n0     0.049107        132586.134572      100.000000     14.285714   \n1     0.088543        321912.281045      100.000000     35.714286   \n2     2.401327          5118.016722       92.857143     50.000000   \n3    24.312350           363.854791       92.857143     50.000000   \n4     0.065624        103548.029933      100.000000     35.714286   \n5     0.333335         97280.103405       71.428571      7.142857   \n6    19.800000          1440.387931      100.000000     57.142857   \n7   235.000000        221089.100000      100.000000     57.142857   \n8    17.550000           610.107015      100.000000     35.714286   \n9     0.998666         18991.867226      100.000000     42.857143   \n\n                     ADR                            ADX  ...   Rec.VWMA  \\\n  Average Day Range (14) Average Directional Index (14)  ... Reco. VWMA   \n0               3.218429                      25.653844  ...         -1   \n1               5.679029                      22.120383  ...         -1   \n2               2.389257                      21.655098  ...         -1   \n3               2.365629                      21.492701  ...         -1   \n4               3.419064                      19.421523  ...         -1   \n5              13.613557                      21.784457  ...         -1   \n6               3.878407                      29.363976  ...         -1   \n7            6706.501429                      32.709754  ...         -1   \n8               8.038957                      11.502149  ...         -1   \n9               9.301243                      17.663979  ...         -1   \n\n                     AO[1]                           CCI20[1]  \\\n  Prev. Awesome Oscillator Prev. Commodity Channel Index (20)   \n0                -3.283856                         -99.336416   \n1                -7.189782                        -197.323125   \n2                -1.538637                        -208.082855   \n3                -1.347657                        -209.895909   \n4                -5.099797                        -180.562142   \n5               -29.052279                         -98.761057   \n6                 2.327891                         -89.373526   \n7              3813.028971                         -84.597110   \n8                 1.337631                         -48.853156   \n9                 4.490718                         -99.150391   \n\n               Mom[1]                                 ADX-DI[1]  \\\n  Prev. Momentum (10) Prev. Negative Directional Indicator (14)   \n0              -4.340                                 30.558611   \n1             -19.630                                 32.060557   \n2              -6.775                                 29.303383   \n3              -6.620                                 29.765275   \n4             -15.250                                 33.377752   \n5             -29.590                                 30.919557   \n6              -8.360                                 21.644631   \n7          -11545.000                                 18.570083   \n8              -2.700                                 19.825841   \n9             -23.360                                 27.294109   \n\n                                  ADX+DI[1]  \\\n  Prev. Positive Directional Indicator (14)   \n0                                 16.822189   \n1                                 13.887596   \n2                                 16.542888   \n3                                 16.217965   \n4                                 15.461261   \n5                                 17.280311   \n6                                 19.005636   \n7                                 16.962556   \n8                                 19.891917   \n9                                 22.010251   \n\n                              RSI[1]                           RSI7[1]  \\\n  Prev. Relative Strength Index (14) Prev. Relative Strength Index (7)   \n0                          38.386676                         33.426894   \n1                          33.743284                         21.535629   \n2                          38.397693                         25.309307   \n3                          38.689675                         25.502243   \n4                          34.513111                         24.389321   \n5                          37.538715                         31.598550   \n6                          45.831744                         33.505549   \n7                          46.101304                         34.029793   \n8                          49.235942                         46.943023   \n9                          43.105088                         32.583124   \n\n                      Stoch.D[1]                     Stoch.K[1]  \n  Prev. Stochastic %D (14, 3, 3) Prev. Stochastic %K (14, 3, 3)  \n0                       8.452134                       9.222031  \n1                       9.572082                       8.156310  \n2                      10.520138                      13.047417  \n3                      10.465734                      13.401442  \n4                       6.945989                       7.573618  \n5                       8.586903                      13.653822  \n6                      22.081326                      15.806692  \n7                      22.185337                      15.383801  \n8                      31.751412                      35.851493  \n9                      22.251475                      13.383379  \n\n[10 rows x 302 columns]",
      "text/html": "<div>\n<style scoped>\n    .dataframe tbody tr th:only-of-type {\n        vertical-align: middle;\n    }\n\n    .dataframe tbody tr th {\n        vertical-align: top;\n    }\n\n    .dataframe thead tr th {\n        text-align: left;\n    }\n</style>\n<table border=\"1\" class=\"dataframe\">\n  <thead>\n    <tr>\n      <th></th>\n      <th>symbol</th>\n      <th>name</th>\n      <th>description</th>\n      <th>High.All</th>\n      <th>Low.All</th>\n      <th>Perf.All</th>\n      <th>Aroon.Down</th>\n      <th>Aroon.Up</th>\n      <th>ADR</th>\n      <th>ADX</th>\n      <th>...</th>\n      <th>Rec.VWMA</th>\n      <th>AO[1]</th>\n      <th>CCI20[1]</th>\n      <th>Mom[1]</th>\n      <th>ADX-DI[1]</th>\n      <th>ADX+DI[1]</th>\n      <th>RSI[1]</th>\n      <th>RSI7[1]</th>\n      <th>Stoch.D[1]</th>\n      <th>Stoch.K[1]</th>\n    </tr>\n    <tr>\n      <th></th>\n      <th>Symbol</th>\n      <th>Name</th>\n      <th>Description</th>\n      <th>All Time High</th>\n      <th>All Time Low</th>\n      <th>All Time Performance</th>\n      <th>Aroon Down (14)</th>\n      <th>Aroon Up (14)</th>\n      <th>Average Day Range (14)</th>\n      <th>Average Directional Index (14)</th>\n      <th>...</th>\n      <th>Reco. VWMA</th>\n      <th>Prev. Awesome Oscillator</th>\n      <th>Prev. Commodity Channel Index (20)</th>\n      <th>Prev. Momentum (10)</th>\n      <th>Prev. Negative Directional Indicator (14)</th>\n      <th>Prev. Positive Directional Indicator (14)</th>\n      <th>Prev. Relative Strength Index (14)</th>\n      <th>Prev. Relative Strength Index (7)</th>\n      <th>Prev. Stochastic %D (14, 3, 3)</th>\n      <th>Prev. Stochastic %K (14, 3, 3)</th>\n    </tr>\n  </thead>\n  <tbody>\n    <tr>\n      <th>0</th>\n      <td>NASDAQ:AAPL</td>\n      <td>AAPL</td>\n      <td>Apple Inc.</td>\n      <td>198.230000</td>\n      <td>0.049107</td>\n      <td>132586.134572</td>\n      <td>100.000000</td>\n      <td>14.285714</td>\n      <td>3.218429</td>\n      <td>25.653844</td>\n      <td>...</td>\n      <td>-1</td>\n      <td>-3.283856</td>\n      <td>-99.336416</td>\n      <td>-4.340</td>\n      <td>30.558611</td>\n      <td>16.822189</td>\n      <td>38.386676</td>\n      <td>33.426894</td>\n      <td>8.452134</td>\n      <td>9.222031</td>\n    </tr>\n    <tr>\n      <th>1</th>\n      <td>NASDAQ:MSFT</td>\n      <td>MSFT</td>\n      <td>Microsoft Corporation</td>\n      <td>366.780000</td>\n      <td>0.088543</td>\n      <td>321912.281045</td>\n      <td>100.000000</td>\n      <td>35.714286</td>\n      <td>5.679029</td>\n      <td>22.120383</td>\n      <td>...</td>\n      <td>-1</td>\n      <td>-7.189782</td>\n      <td>-197.323125</td>\n      <td>-19.630</td>\n      <td>32.060557</td>\n      <td>13.887596</td>\n      <td>33.743284</td>\n      <td>21.535629</td>\n      <td>9.572082</td>\n      <td>8.156310</td>\n    </tr>\n    <tr>\n      <th>2</th>\n      <td>NASDAQ:GOOGL</td>\n      <td>GOOGL</td>\n      <td>Alphabet Inc.</td>\n      <td>151.546575</td>\n      <td>2.401327</td>\n      <td>5118.016722</td>\n      <td>92.857143</td>\n      <td>50.000000</td>\n      <td>2.389257</td>\n      <td>21.655098</td>\n      <td>...</td>\n      <td>-1</td>\n      <td>-1.538637</td>\n      <td>-208.082855</td>\n      <td>-6.775</td>\n      <td>29.303383</td>\n      <td>16.542888</td>\n      <td>38.397693</td>\n      <td>25.309307</td>\n      <td>10.520138</td>\n      <td>13.047417</td>\n    </tr>\n    <tr>\n      <th>3</th>\n      <td>NASDAQ:GOOG</td>\n      <td>GOOG</td>\n      <td>Alphabet Inc.</td>\n      <td>152.100000</td>\n      <td>24.312350</td>\n      <td>363.854791</td>\n      <td>92.857143</td>\n      <td>50.000000</td>\n      <td>2.365629</td>\n      <td>21.492701</td>\n      <td>...</td>\n      <td>-1</td>\n      <td>-1.347657</td>\n      <td>-209.895909</td>\n      <td>-6.620</td>\n      <td>29.765275</td>\n      <td>16.217965</td>\n      <td>38.689675</td>\n      <td>25.502243</td>\n      <td>10.465734</td>\n      <td>13.401442</td>\n    </tr>\n    <tr>\n      <th>4</th>\n      <td>NASDAQ:AMZN</td>\n      <td>AMZN</td>\n      <td>Amazon.com, Inc.</td>\n      <td>188.653910</td>\n      <td>0.065624</td>\n      <td>103548.029933</td>\n      <td>100.000000</td>\n      <td>35.714286</td>\n      <td>3.419064</td>\n      <td>19.421523</td>\n      <td>...</td>\n      <td>-1</td>\n      <td>-5.099797</td>\n      <td>-180.562142</td>\n      <td>-15.250</td>\n      <td>33.377752</td>\n      <td>15.461261</td>\n      <td>34.513111</td>\n      <td>24.389321</td>\n      <td>6.945989</td>\n      <td>7.573618</td>\n    </tr>\n    <tr>\n      <th>5</th>\n      <td>NASDAQ:NVDA</td>\n      <td>NVDA</td>\n      <td>NVIDIA Corporation</td>\n      <td>502.660000</td>\n      <td>0.333335</td>\n      <td>97280.103405</td>\n      <td>71.428571</td>\n      <td>7.142857</td>\n      <td>13.613557</td>\n      <td>21.784457</td>\n      <td>...</td>\n      <td>-1</td>\n      <td>-29.052279</td>\n      <td>-98.761057</td>\n      <td>-29.590</td>\n      <td>30.919557</td>\n      <td>17.280311</td>\n      <td>37.538715</td>\n      <td>31.598550</td>\n      <td>8.586903</td>\n      <td>13.653822</td>\n    </tr>\n    <tr>\n      <th>6</th>\n      <td>NYSE:BRK.B</td>\n      <td>BRK.B</td>\n      <td>Berkshire Hathaway Inc. New</td>\n      <td>373.340000</td>\n      <td>19.800000</td>\n      <td>1440.387931</td>\n      <td>100.000000</td>\n      <td>57.142857</td>\n      <td>3.878407</td>\n      <td>29.363976</td>\n      <td>...</td>\n      <td>-1</td>\n      <td>2.327891</td>\n      <td>-89.373526</td>\n      <td>-8.360</td>\n      <td>21.644631</td>\n      <td>19.005636</td>\n      <td>45.831744</td>\n      <td>33.505549</td>\n      <td>22.081326</td>\n      <td>15.806692</td>\n    </tr>\n    <tr>\n      <th>7</th>\n      <td>NYSE:BRK.A</td>\n      <td>BRK.A</td>\n      <td>Berkshire Hathaway Inc.</td>\n      <td>566569.970000</td>\n      <td>235.000000</td>\n      <td>221089.100000</td>\n      <td>100.000000</td>\n      <td>57.142857</td>\n      <td>6706.501429</td>\n      <td>32.709754</td>\n      <td>...</td>\n      <td>-1</td>\n      <td>3813.028971</td>\n      <td>-84.597110</td>\n      <td>-11545.000</td>\n      <td>18.570083</td>\n      <td>16.962556</td>\n      <td>46.101304</td>\n      <td>34.029793</td>\n      <td>22.185337</td>\n      <td>15.383801</td>\n    </tr>\n    <tr>\n      <th>8</th>\n      <td>NASDAQ:META</td>\n      <td>META</td>\n      <td>Meta Platforms, Inc.</td>\n      <td>384.330000</td>\n      <td>17.550000</td>\n      <td>610.107015</td>\n      <td>100.000000</td>\n      <td>35.714286</td>\n      <td>8.038957</td>\n      <td>11.502149</td>\n      <td>...</td>\n      <td>-1</td>\n      <td>1.337631</td>\n      <td>-48.853156</td>\n      <td>-2.700</td>\n      <td>19.825841</td>\n      <td>19.891917</td>\n      <td>49.235942</td>\n      <td>46.943023</td>\n      <td>31.751412</td>\n      <td>35.851493</td>\n    </tr>\n    <tr>\n      <th>9</th>\n      <td>NASDAQ:TSLA</td>\n      <td>TSLA</td>\n      <td>Tesla, Inc.</td>\n      <td>414.496252</td>\n      <td>0.998666</td>\n      <td>18991.867226</td>\n      <td>100.000000</td>\n      <td>42.857143</td>\n      <td>9.301243</td>\n      <td>17.663979</td>\n      <td>...</td>\n      <td>-1</td>\n      <td>4.490718</td>\n      <td>-99.150391</td>\n      <td>-23.360</td>\n      <td>27.294109</td>\n      <td>22.010251</td>\n      <td>43.105088</td>\n      <td>32.583124</td>\n      <td>22.251475</td>\n      <td>13.383379</td>\n    </tr>\n  </tbody>\n</table>\n<p>10 rows × 302 columns</p>\n</div>"
     },
     "execution_count": 11,
     "metadata": {},
     "output_type": "execute_result"
    }
   ],
   "source": [
    "ss = tvs.StockScreener()\n",
    "df = ss.get()\n",
    "# Set the technical columns along with the human-readable columns\n",
    "df.set_technical_columns()\n",
    "df.head(10)"
   ],
   "metadata": {
    "collapsed": false,
    "ExecuteTime": {
     "end_time": "2023-09-27T19:34:13.681054100Z",
     "start_time": "2023-09-27T19:34:12.288754900Z"
    }
   },
   "id": "40eb8e6743e99e39"
  },
  {
   "cell_type": "code",
   "execution_count": 12,
   "outputs": [
    {
     "data": {
      "text/plain": "         symbol   name                  description       High.All  \\\n0   NASDAQ:AAPL   AAPL                   Apple Inc.     198.230000   \n1   NASDAQ:MSFT   MSFT        Microsoft Corporation     366.780000   \n2  NASDAQ:GOOGL  GOOGL                Alphabet Inc.     151.546575   \n3   NASDAQ:GOOG   GOOG                Alphabet Inc.     152.100000   \n4   NASDAQ:AMZN   AMZN             Amazon.com, Inc.     188.653910   \n5   NASDAQ:NVDA   NVDA           NVIDIA Corporation     502.660000   \n6    NYSE:BRK.B  BRK.B  Berkshire Hathaway Inc. New     373.340000   \n7    NYSE:BRK.A  BRK.A      Berkshire Hathaway Inc.  566569.970000   \n8   NASDAQ:META   META         Meta Platforms, Inc.     384.330000   \n9   NASDAQ:TSLA   TSLA                  Tesla, Inc.     414.496252   \n\n      Low.All       Perf.All  Aroon.Down   Aroon.Up          ADR        ADX  \\\n0    0.049107  132586.134572  100.000000  14.285714     3.218429  25.653844   \n1    0.088543  321912.281045  100.000000  35.714286     5.679029  22.120383   \n2    2.401327    5118.016722   92.857143  50.000000     2.389257  21.655098   \n3   24.312350     363.854791   92.857143  50.000000     2.365629  21.492701   \n4    0.065624  103548.029933  100.000000  35.714286     3.419064  19.421523   \n5    0.333335   97280.103405   71.428571   7.142857    13.613557  21.784457   \n6   19.800000    1440.387931  100.000000  57.142857     3.878407  29.363976   \n7  235.000000  221089.100000  100.000000  57.142857  6706.501429  32.709754   \n8   17.550000     610.107015  100.000000  35.714286     8.038957  11.502149   \n9    0.998666   18991.867226  100.000000  42.857143     9.301243  17.663979   \n\n   ...  Rec.VWMA        AO[1]    CCI20[1]     Mom[1]  ADX-DI[1]  ADX+DI[1]  \\\n0  ...        -1    -3.283856  -99.336416     -4.340  30.558611  16.822189   \n1  ...        -1    -7.189782 -197.323125    -19.630  32.060557  13.887596   \n2  ...        -1    -1.538637 -208.082855     -6.775  29.303383  16.542888   \n3  ...        -1    -1.347657 -209.895909     -6.620  29.765275  16.217965   \n4  ...        -1    -5.099797 -180.562142    -15.250  33.377752  15.461261   \n5  ...        -1   -29.052279  -98.761057    -29.590  30.919557  17.280311   \n6  ...        -1     2.327891  -89.373526     -8.360  21.644631  19.005636   \n7  ...        -1  3813.028971  -84.597110 -11545.000  18.570083  16.962556   \n8  ...        -1     1.337631  -48.853156     -2.700  19.825841  19.891917   \n9  ...        -1     4.490718  -99.150391    -23.360  27.294109  22.010251   \n\n      RSI[1]    RSI7[1]  Stoch.D[1]  Stoch.K[1]  \n0  38.386676  33.426894    8.452134    9.222031  \n1  33.743284  21.535629    9.572082    8.156310  \n2  38.397693  25.309307   10.520138   13.047417  \n3  38.689675  25.502243   10.465734   13.401442  \n4  34.513111  24.389321    6.945989    7.573618  \n5  37.538715  31.598550    8.586903   13.653822  \n6  45.831744  33.505549   22.081326   15.806692  \n7  46.101304  34.029793   22.185337   15.383801  \n8  49.235942  46.943023   31.751412   35.851493  \n9  43.105088  32.583124   22.251475   13.383379  \n\n[10 rows x 302 columns]",
      "text/html": "<div>\n<style scoped>\n    .dataframe tbody tr th:only-of-type {\n        vertical-align: middle;\n    }\n\n    .dataframe tbody tr th {\n        vertical-align: top;\n    }\n\n    .dataframe thead th {\n        text-align: right;\n    }\n</style>\n<table border=\"1\" class=\"dataframe\">\n  <thead>\n    <tr style=\"text-align: right;\">\n      <th></th>\n      <th>symbol</th>\n      <th>name</th>\n      <th>description</th>\n      <th>High.All</th>\n      <th>Low.All</th>\n      <th>Perf.All</th>\n      <th>Aroon.Down</th>\n      <th>Aroon.Up</th>\n      <th>ADR</th>\n      <th>ADX</th>\n      <th>...</th>\n      <th>Rec.VWMA</th>\n      <th>AO[1]</th>\n      <th>CCI20[1]</th>\n      <th>Mom[1]</th>\n      <th>ADX-DI[1]</th>\n      <th>ADX+DI[1]</th>\n      <th>RSI[1]</th>\n      <th>RSI7[1]</th>\n      <th>Stoch.D[1]</th>\n      <th>Stoch.K[1]</th>\n    </tr>\n  </thead>\n  <tbody>\n    <tr>\n      <th>0</th>\n      <td>NASDAQ:AAPL</td>\n      <td>AAPL</td>\n      <td>Apple Inc.</td>\n      <td>198.230000</td>\n      <td>0.049107</td>\n      <td>132586.134572</td>\n      <td>100.000000</td>\n      <td>14.285714</td>\n      <td>3.218429</td>\n      <td>25.653844</td>\n      <td>...</td>\n      <td>-1</td>\n      <td>-3.283856</td>\n      <td>-99.336416</td>\n      <td>-4.340</td>\n      <td>30.558611</td>\n      <td>16.822189</td>\n      <td>38.386676</td>\n      <td>33.426894</td>\n      <td>8.452134</td>\n      <td>9.222031</td>\n    </tr>\n    <tr>\n      <th>1</th>\n      <td>NASDAQ:MSFT</td>\n      <td>MSFT</td>\n      <td>Microsoft Corporation</td>\n      <td>366.780000</td>\n      <td>0.088543</td>\n      <td>321912.281045</td>\n      <td>100.000000</td>\n      <td>35.714286</td>\n      <td>5.679029</td>\n      <td>22.120383</td>\n      <td>...</td>\n      <td>-1</td>\n      <td>-7.189782</td>\n      <td>-197.323125</td>\n      <td>-19.630</td>\n      <td>32.060557</td>\n      <td>13.887596</td>\n      <td>33.743284</td>\n      <td>21.535629</td>\n      <td>9.572082</td>\n      <td>8.156310</td>\n    </tr>\n    <tr>\n      <th>2</th>\n      <td>NASDAQ:GOOGL</td>\n      <td>GOOGL</td>\n      <td>Alphabet Inc.</td>\n      <td>151.546575</td>\n      <td>2.401327</td>\n      <td>5118.016722</td>\n      <td>92.857143</td>\n      <td>50.000000</td>\n      <td>2.389257</td>\n      <td>21.655098</td>\n      <td>...</td>\n      <td>-1</td>\n      <td>-1.538637</td>\n      <td>-208.082855</td>\n      <td>-6.775</td>\n      <td>29.303383</td>\n      <td>16.542888</td>\n      <td>38.397693</td>\n      <td>25.309307</td>\n      <td>10.520138</td>\n      <td>13.047417</td>\n    </tr>\n    <tr>\n      <th>3</th>\n      <td>NASDAQ:GOOG</td>\n      <td>GOOG</td>\n      <td>Alphabet Inc.</td>\n      <td>152.100000</td>\n      <td>24.312350</td>\n      <td>363.854791</td>\n      <td>92.857143</td>\n      <td>50.000000</td>\n      <td>2.365629</td>\n      <td>21.492701</td>\n      <td>...</td>\n      <td>-1</td>\n      <td>-1.347657</td>\n      <td>-209.895909</td>\n      <td>-6.620</td>\n      <td>29.765275</td>\n      <td>16.217965</td>\n      <td>38.689675</td>\n      <td>25.502243</td>\n      <td>10.465734</td>\n      <td>13.401442</td>\n    </tr>\n    <tr>\n      <th>4</th>\n      <td>NASDAQ:AMZN</td>\n      <td>AMZN</td>\n      <td>Amazon.com, Inc.</td>\n      <td>188.653910</td>\n      <td>0.065624</td>\n      <td>103548.029933</td>\n      <td>100.000000</td>\n      <td>35.714286</td>\n      <td>3.419064</td>\n      <td>19.421523</td>\n      <td>...</td>\n      <td>-1</td>\n      <td>-5.099797</td>\n      <td>-180.562142</td>\n      <td>-15.250</td>\n      <td>33.377752</td>\n      <td>15.461261</td>\n      <td>34.513111</td>\n      <td>24.389321</td>\n      <td>6.945989</td>\n      <td>7.573618</td>\n    </tr>\n    <tr>\n      <th>5</th>\n      <td>NASDAQ:NVDA</td>\n      <td>NVDA</td>\n      <td>NVIDIA Corporation</td>\n      <td>502.660000</td>\n      <td>0.333335</td>\n      <td>97280.103405</td>\n      <td>71.428571</td>\n      <td>7.142857</td>\n      <td>13.613557</td>\n      <td>21.784457</td>\n      <td>...</td>\n      <td>-1</td>\n      <td>-29.052279</td>\n      <td>-98.761057</td>\n      <td>-29.590</td>\n      <td>30.919557</td>\n      <td>17.280311</td>\n      <td>37.538715</td>\n      <td>31.598550</td>\n      <td>8.586903</td>\n      <td>13.653822</td>\n    </tr>\n    <tr>\n      <th>6</th>\n      <td>NYSE:BRK.B</td>\n      <td>BRK.B</td>\n      <td>Berkshire Hathaway Inc. New</td>\n      <td>373.340000</td>\n      <td>19.800000</td>\n      <td>1440.387931</td>\n      <td>100.000000</td>\n      <td>57.142857</td>\n      <td>3.878407</td>\n      <td>29.363976</td>\n      <td>...</td>\n      <td>-1</td>\n      <td>2.327891</td>\n      <td>-89.373526</td>\n      <td>-8.360</td>\n      <td>21.644631</td>\n      <td>19.005636</td>\n      <td>45.831744</td>\n      <td>33.505549</td>\n      <td>22.081326</td>\n      <td>15.806692</td>\n    </tr>\n    <tr>\n      <th>7</th>\n      <td>NYSE:BRK.A</td>\n      <td>BRK.A</td>\n      <td>Berkshire Hathaway Inc.</td>\n      <td>566569.970000</td>\n      <td>235.000000</td>\n      <td>221089.100000</td>\n      <td>100.000000</td>\n      <td>57.142857</td>\n      <td>6706.501429</td>\n      <td>32.709754</td>\n      <td>...</td>\n      <td>-1</td>\n      <td>3813.028971</td>\n      <td>-84.597110</td>\n      <td>-11545.000</td>\n      <td>18.570083</td>\n      <td>16.962556</td>\n      <td>46.101304</td>\n      <td>34.029793</td>\n      <td>22.185337</td>\n      <td>15.383801</td>\n    </tr>\n    <tr>\n      <th>8</th>\n      <td>NASDAQ:META</td>\n      <td>META</td>\n      <td>Meta Platforms, Inc.</td>\n      <td>384.330000</td>\n      <td>17.550000</td>\n      <td>610.107015</td>\n      <td>100.000000</td>\n      <td>35.714286</td>\n      <td>8.038957</td>\n      <td>11.502149</td>\n      <td>...</td>\n      <td>-1</td>\n      <td>1.337631</td>\n      <td>-48.853156</td>\n      <td>-2.700</td>\n      <td>19.825841</td>\n      <td>19.891917</td>\n      <td>49.235942</td>\n      <td>46.943023</td>\n      <td>31.751412</td>\n      <td>35.851493</td>\n    </tr>\n    <tr>\n      <th>9</th>\n      <td>NASDAQ:TSLA</td>\n      <td>TSLA</td>\n      <td>Tesla, Inc.</td>\n      <td>414.496252</td>\n      <td>0.998666</td>\n      <td>18991.867226</td>\n      <td>100.000000</td>\n      <td>42.857143</td>\n      <td>9.301243</td>\n      <td>17.663979</td>\n      <td>...</td>\n      <td>-1</td>\n      <td>4.490718</td>\n      <td>-99.150391</td>\n      <td>-23.360</td>\n      <td>27.294109</td>\n      <td>22.010251</td>\n      <td>43.105088</td>\n      <td>32.583124</td>\n      <td>22.251475</td>\n      <td>13.383379</td>\n    </tr>\n  </tbody>\n</table>\n<p>10 rows × 302 columns</p>\n</div>"
     },
     "execution_count": 12,
     "metadata": {},
     "output_type": "execute_result"
    }
   ],
   "source": [
    "# Or just the technical column names\n",
    "df.set_technical_columns(only=True)\n",
    "df.head(10)"
   ],
   "metadata": {
    "collapsed": false,
    "ExecuteTime": {
     "end_time": "2023-09-27T19:34:13.746565Z",
     "start_time": "2023-09-27T19:34:13.681054100Z"
    }
   },
   "id": "65ee5fbcae73b3f5"
  },
  {
   "cell_type": "markdown",
   "source": [
    "## Get everything\n",
    "To get the entire universe of stocks, set the market to 'ALL' and the range to 1 Million (TradingView manages ~102k stocks)."
   ],
   "metadata": {
    "collapsed": false
   },
   "id": "db6274be3c2fa85d"
  },
  {
   "cell_type": "code",
   "execution_count": 13,
   "outputs": [
    {
     "ename": "Warning",
     "evalue": "This will take time to render and the dataframe will be huge (~235Mb).",
     "output_type": "error",
     "traceback": [
      "\u001B[1;31m---------------------------------------------------------------------------\u001B[0m",
      "\u001B[1;31mWarning\u001B[0m                                   Traceback (most recent call last)",
      "Cell \u001B[1;32mIn[13], line 1\u001B[0m\n\u001B[1;32m----> 1\u001B[0m \u001B[38;5;28;01mraise\u001B[39;00m \u001B[38;5;167;01mWarning\u001B[39;00m(\u001B[38;5;124m'\u001B[39m\u001B[38;5;124mThis will take time to render and the dataframe will be huge (~235Mb).\u001B[39m\u001B[38;5;124m'\u001B[39m)\n",
      "\u001B[1;31mWarning\u001B[0m: This will take time to render and the dataframe will be huge (~235Mb)."
     ]
    }
   ],
   "source": [
    "raise Warning('This will take time to render and the dataframe will be huge (~235Mb).')"
   ],
   "metadata": {
    "collapsed": false,
    "ExecuteTime": {
     "end_time": "2023-09-27T19:34:13.965047400Z",
     "start_time": "2023-09-27T19:34:13.715563700Z"
    }
   },
   "id": "1e4d02294ef54294"
  },
  {
   "cell_type": "code",
   "execution_count": null,
   "outputs": [],
   "source": [
    "ss = tvs.StockScreener()\n",
    "ss.set_markets(Market.ALL)\n",
    "ss.set_range(0, 10**6)\n",
    "df = ss.get()\n",
    "df.head(10)"
   ],
   "metadata": {
    "collapsed": false,
    "ExecuteTime": {
     "start_time": "2023-09-27T19:34:13.915570500Z"
    }
   },
   "id": "2ce6848611e9d049"
  }
 ],
 "metadata": {
  "kernelspec": {
   "display_name": "Python 3",
   "language": "python",
   "name": "python3"
  },
  "language_info": {
   "codemirror_mode": {
    "name": "ipython",
    "version": 2
   },
   "file_extension": ".py",
   "mimetype": "text/x-python",
   "name": "python",
   "nbconvert_exporter": "python",
   "pygments_lexer": "ipython2",
   "version": "2.7.6"
  }
 },
 "nbformat": 4,
 "nbformat_minor": 5
}
