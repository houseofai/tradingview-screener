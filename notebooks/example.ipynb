{
 "cells": [
  {
   "cell_type": "code",
   "execution_count": 1,
   "id": "initial_id",
   "metadata": {
    "collapsed": true,
    "ExecuteTime": {
     "end_time": "2023-08-10T12:43:55.651585678Z",
     "start_time": "2023-08-10T12:43:55.528809190Z"
    }
   },
   "outputs": [],
   "source": [
    "import tvscreener as tvs\n",
    "from tvscreener import StockField, TimeInterval, StocksMarket\n",
    "from tvscreener.filter import SymbolType, Exchange, Country, SubMarket, FilterOperator\n",
    "\n",
    "%load_ext autoreload\n",
    "%autoreload 2"
   ]
  },
  {
   "cell_type": "markdown",
   "source": [
    "# Stock"
   ],
   "metadata": {
    "collapsed": false
   },
   "id": "d8b81da10afe1e9c"
  },
  {
   "cell_type": "code",
   "execution_count": 2,
   "outputs": [
    {
     "data": {
      "text/plain": "         Symbol   Name                  Description  All Time High  \\\n0   NASDAQ:AAPL   AAPL                   Apple Inc.     198.230000   \n1   NASDAQ:MSFT   MSFT        Microsoft Corporation     366.780000   \n2   NASDAQ:GOOG   GOOG                Alphabet Inc.     152.100000   \n3  NASDAQ:GOOGL  GOOGL                Alphabet Inc.     151.546575   \n4   NASDAQ:AMZN   AMZN             Amazon.com, Inc.     188.653910   \n5   NASDAQ:NVDA   NVDA           NVIDIA Corporation     480.880000   \n6   NASDAQ:META   META         Meta Platforms, Inc.     384.330000   \n7    NYSE:BRK.A  BRK.A      Berkshire Hathaway Inc.  556117.000000   \n8    NYSE:BRK.B  BRK.B  Berkshire Hathaway Inc. New     364.630000   \n9   NASDAQ:TSLA   TSLA                  Tesla, Inc.     414.496252   \n\n   All Time Low  All Time Performance  Aroon Down (14)  Aroon Up (14)  \\\n0      0.049107         138733.483965       100.000000      35.714286   \n1      0.088543         331333.919957       100.000000       0.000000   \n2     24.312350            359.512111         0.000000      42.857143   \n3      2.401327           5080.856484         0.000000      42.857143   \n4      0.065624         113008.620378        28.571429      78.571429   \n5      0.333335          97165.841070       100.000000      35.714286   \n6     17.550000            625.826397        14.285714      42.857143   \n7    235.000000         222463.265306         0.000000     100.000000   \n8     19.800000           1443.189655         0.000000      85.714286   \n9      0.998666          19020.288316       100.000000       0.000000   \n\n   Average Day Range (14)  Average Directional Index (14)  ...  Reco. VWMA  \\\n0                3.065736                       40.079355  ...          -1   \n1                6.875714                       15.697468  ...          -1   \n2                2.574643                       19.905580  ...           1   \n3                2.576786                       21.021282  ...           1   \n4                3.053221                       21.411278  ...           1   \n5               13.332879                       27.054978  ...          -1   \n6                9.424400                       29.809315  ...          -1   \n7             8380.835714                       39.072654  ...           1   \n8                4.427429                       36.871340  ...           1   \n9                9.404993                       23.365350  ...          -1   \n\n   Prev. Awesome Oscillator  Prev. Commodity Channel Index (20)  \\\n0                 -4.720749                         -230.936482   \n1                 -9.388162                         -120.951883   \n2                  5.743768                           74.928140   \n3                  5.906360                           72.958312   \n4                  4.556238                          149.672333   \n5                  5.990850                          -74.360714   \n6                 12.985205                           34.751045   \n7              16183.480559                          204.804702   \n8                 10.636768                          222.169729   \n9                -13.117041                         -127.023557   \n\n   Prev. Momentum (10)  Prev. Negative Directional Indicator (14)  \\\n0               -13.82                                  37.059393   \n1               -24.93                                  26.356568   \n2                 9.05                                  17.902277   \n3                 9.19                                  17.483541   \n4                10.81                                  19.321047   \n5               -10.15                                  23.185145   \n6                18.17                                  13.955954   \n7             24647.99                                   5.755470   \n8                16.15                                   7.507344   \n9               -15.58                                  30.228938   \n\n   Prev. Positive Directional Indicator (14)  \\\n0                                  14.543167   \n1                                  20.989642   \n2                                  27.931277   \n3                                  27.917242   \n4                                  35.171936   \n5                                  23.696781   \n6                                  23.593786   \n7                                  27.973242   \n8                                  31.301009   \n9                                  18.500734   \n\n   Prev. Relative Strength Index (14)  Prev. Relative Strength Index (7)  \\\n0                           31.992621                          20.309959   \n1                           41.620562                          34.633610   \n2                           62.822280                          66.262130   \n3                           63.031565                          66.112989   \n4                           63.522413                          66.884776   \n5                           51.914409                          43.927989   \n6                           56.380701                          52.050151   \n7                           71.024137                          75.885871   \n8                           73.613628                          78.234789   \n9                           42.849362                          33.497846   \n\n   Prev. Stochastic %D (14, 3, 3)  Prev. Stochastic %K (14, 3, 3)  \n0                        8.336929                        6.651887  \n1                        5.696226                        8.199300  \n2                       71.754595                       78.572202  \n3                       71.656644                       78.135739  \n4                       63.325131                       82.572298  \n5                       30.921040                       35.446541  \n6                       65.652211                       65.989356  \n7                       82.180259                       82.477802  \n8                       81.505128                       82.596203  \n9                       12.583370                       13.486642  \n\n[10 rows x 302 columns]",
      "text/html": "<div>\n<style scoped>\n    .dataframe tbody tr th:only-of-type {\n        vertical-align: middle;\n    }\n\n    .dataframe tbody tr th {\n        vertical-align: top;\n    }\n\n    .dataframe thead th {\n        text-align: right;\n    }\n</style>\n<table border=\"1\" class=\"dataframe\">\n  <thead>\n    <tr style=\"text-align: right;\">\n      <th></th>\n      <th>Symbol</th>\n      <th>Name</th>\n      <th>Description</th>\n      <th>All Time High</th>\n      <th>All Time Low</th>\n      <th>All Time Performance</th>\n      <th>Aroon Down (14)</th>\n      <th>Aroon Up (14)</th>\n      <th>Average Day Range (14)</th>\n      <th>Average Directional Index (14)</th>\n      <th>...</th>\n      <th>Reco. VWMA</th>\n      <th>Prev. Awesome Oscillator</th>\n      <th>Prev. Commodity Channel Index (20)</th>\n      <th>Prev. Momentum (10)</th>\n      <th>Prev. Negative Directional Indicator (14)</th>\n      <th>Prev. Positive Directional Indicator (14)</th>\n      <th>Prev. Relative Strength Index (14)</th>\n      <th>Prev. Relative Strength Index (7)</th>\n      <th>Prev. Stochastic %D (14, 3, 3)</th>\n      <th>Prev. Stochastic %K (14, 3, 3)</th>\n    </tr>\n  </thead>\n  <tbody>\n    <tr>\n      <th>0</th>\n      <td>NASDAQ:AAPL</td>\n      <td>AAPL</td>\n      <td>Apple Inc.</td>\n      <td>198.230000</td>\n      <td>0.049107</td>\n      <td>138733.483965</td>\n      <td>100.000000</td>\n      <td>35.714286</td>\n      <td>3.065736</td>\n      <td>40.079355</td>\n      <td>...</td>\n      <td>-1</td>\n      <td>-4.720749</td>\n      <td>-230.936482</td>\n      <td>-13.82</td>\n      <td>37.059393</td>\n      <td>14.543167</td>\n      <td>31.992621</td>\n      <td>20.309959</td>\n      <td>8.336929</td>\n      <td>6.651887</td>\n    </tr>\n    <tr>\n      <th>1</th>\n      <td>NASDAQ:MSFT</td>\n      <td>MSFT</td>\n      <td>Microsoft Corporation</td>\n      <td>366.780000</td>\n      <td>0.088543</td>\n      <td>331333.919957</td>\n      <td>100.000000</td>\n      <td>0.000000</td>\n      <td>6.875714</td>\n      <td>15.697468</td>\n      <td>...</td>\n      <td>-1</td>\n      <td>-9.388162</td>\n      <td>-120.951883</td>\n      <td>-24.93</td>\n      <td>26.356568</td>\n      <td>20.989642</td>\n      <td>41.620562</td>\n      <td>34.633610</td>\n      <td>5.696226</td>\n      <td>8.199300</td>\n    </tr>\n    <tr>\n      <th>2</th>\n      <td>NASDAQ:GOOG</td>\n      <td>GOOG</td>\n      <td>Alphabet Inc.</td>\n      <td>152.100000</td>\n      <td>24.312350</td>\n      <td>359.512111</td>\n      <td>0.000000</td>\n      <td>42.857143</td>\n      <td>2.574643</td>\n      <td>19.905580</td>\n      <td>...</td>\n      <td>1</td>\n      <td>5.743768</td>\n      <td>74.928140</td>\n      <td>9.05</td>\n      <td>17.902277</td>\n      <td>27.931277</td>\n      <td>62.822280</td>\n      <td>66.262130</td>\n      <td>71.754595</td>\n      <td>78.572202</td>\n    </tr>\n    <tr>\n      <th>3</th>\n      <td>NASDAQ:GOOGL</td>\n      <td>GOOGL</td>\n      <td>Alphabet Inc.</td>\n      <td>151.546575</td>\n      <td>2.401327</td>\n      <td>5080.856484</td>\n      <td>0.000000</td>\n      <td>42.857143</td>\n      <td>2.576786</td>\n      <td>21.021282</td>\n      <td>...</td>\n      <td>1</td>\n      <td>5.906360</td>\n      <td>72.958312</td>\n      <td>9.19</td>\n      <td>17.483541</td>\n      <td>27.917242</td>\n      <td>63.031565</td>\n      <td>66.112989</td>\n      <td>71.656644</td>\n      <td>78.135739</td>\n    </tr>\n    <tr>\n      <th>4</th>\n      <td>NASDAQ:AMZN</td>\n      <td>AMZN</td>\n      <td>Amazon.com, Inc.</td>\n      <td>188.653910</td>\n      <td>0.065624</td>\n      <td>113008.620378</td>\n      <td>28.571429</td>\n      <td>78.571429</td>\n      <td>3.053221</td>\n      <td>21.411278</td>\n      <td>...</td>\n      <td>1</td>\n      <td>4.556238</td>\n      <td>149.672333</td>\n      <td>10.81</td>\n      <td>19.321047</td>\n      <td>35.171936</td>\n      <td>63.522413</td>\n      <td>66.884776</td>\n      <td>63.325131</td>\n      <td>82.572298</td>\n    </tr>\n    <tr>\n      <th>5</th>\n      <td>NASDAQ:NVDA</td>\n      <td>NVDA</td>\n      <td>NVIDIA Corporation</td>\n      <td>480.880000</td>\n      <td>0.333335</td>\n      <td>97165.841070</td>\n      <td>100.000000</td>\n      <td>35.714286</td>\n      <td>13.332879</td>\n      <td>27.054978</td>\n      <td>...</td>\n      <td>-1</td>\n      <td>5.990850</td>\n      <td>-74.360714</td>\n      <td>-10.15</td>\n      <td>23.185145</td>\n      <td>23.696781</td>\n      <td>51.914409</td>\n      <td>43.927989</td>\n      <td>30.921040</td>\n      <td>35.446541</td>\n    </tr>\n    <tr>\n      <th>6</th>\n      <td>NASDAQ:META</td>\n      <td>META</td>\n      <td>Meta Platforms, Inc.</td>\n      <td>384.330000</td>\n      <td>17.550000</td>\n      <td>625.826397</td>\n      <td>14.285714</td>\n      <td>42.857143</td>\n      <td>9.424400</td>\n      <td>29.809315</td>\n      <td>...</td>\n      <td>-1</td>\n      <td>12.985205</td>\n      <td>34.751045</td>\n      <td>18.17</td>\n      <td>13.955954</td>\n      <td>23.593786</td>\n      <td>56.380701</td>\n      <td>52.050151</td>\n      <td>65.652211</td>\n      <td>65.989356</td>\n    </tr>\n    <tr>\n      <th>7</th>\n      <td>NYSE:BRK.A</td>\n      <td>BRK.A</td>\n      <td>Berkshire Hathaway Inc.</td>\n      <td>556117.000000</td>\n      <td>235.000000</td>\n      <td>222463.265306</td>\n      <td>0.000000</td>\n      <td>100.000000</td>\n      <td>8380.835714</td>\n      <td>39.072654</td>\n      <td>...</td>\n      <td>1</td>\n      <td>16183.480559</td>\n      <td>204.804702</td>\n      <td>24647.99</td>\n      <td>5.755470</td>\n      <td>27.973242</td>\n      <td>71.024137</td>\n      <td>75.885871</td>\n      <td>82.180259</td>\n      <td>82.477802</td>\n    </tr>\n    <tr>\n      <th>8</th>\n      <td>NYSE:BRK.B</td>\n      <td>BRK.B</td>\n      <td>Berkshire Hathaway Inc. New</td>\n      <td>364.630000</td>\n      <td>19.800000</td>\n      <td>1443.189655</td>\n      <td>0.000000</td>\n      <td>85.714286</td>\n      <td>4.427429</td>\n      <td>36.871340</td>\n      <td>...</td>\n      <td>1</td>\n      <td>10.636768</td>\n      <td>222.169729</td>\n      <td>16.15</td>\n      <td>7.507344</td>\n      <td>31.301009</td>\n      <td>73.613628</td>\n      <td>78.234789</td>\n      <td>81.505128</td>\n      <td>82.596203</td>\n    </tr>\n    <tr>\n      <th>9</th>\n      <td>NASDAQ:TSLA</td>\n      <td>TSLA</td>\n      <td>Tesla, Inc.</td>\n      <td>414.496252</td>\n      <td>0.998666</td>\n      <td>19020.288316</td>\n      <td>100.000000</td>\n      <td>0.000000</td>\n      <td>9.404993</td>\n      <td>23.365350</td>\n      <td>...</td>\n      <td>-1</td>\n      <td>-13.117041</td>\n      <td>-127.023557</td>\n      <td>-15.58</td>\n      <td>30.228938</td>\n      <td>18.500734</td>\n      <td>42.849362</td>\n      <td>33.497846</td>\n      <td>12.583370</td>\n      <td>13.486642</td>\n    </tr>\n  </tbody>\n</table>\n<p>10 rows × 302 columns</p>\n</div>"
     },
     "execution_count": 2,
     "metadata": {},
     "output_type": "execute_result"
    }
   ],
   "source": [
    "ss = tvs.StockScreener()\n",
    "df = ss.get()\n",
    "df.head(10)"
   ],
   "metadata": {
    "collapsed": false,
    "ExecuteTime": {
     "end_time": "2023-08-10T12:43:56.613333679Z",
     "start_time": "2023-08-10T12:43:55.653135086Z"
    }
   },
   "id": "180f141359f1e171"
  },
  {
   "cell_type": "markdown",
   "source": [
    "## Forex"
   ],
   "metadata": {
    "collapsed": false
   },
   "id": "a0e28abc4e3c832d"
  },
  {
   "cell_type": "code",
   "execution_count": 3,
   "outputs": [
    {
     "data": {
      "text/plain": "          Symbol    Name                        Description  All Time High  \\\n0  FX_IDC:AEDAUD  AEDAUD  U.A.E. DIRHAM / AUSTRALIAN DOLLAR        0.48967   \n1  FX_IDC:AEDCAD  AEDCAD    U.A.E. DIRHAM / CANADIAN DOLLAR        0.39856   \n2  FX_IDC:AEDCHF  AEDCHF        U.A.E. DIRHAM / SWISS FRANC        0.28102   \n3  FX_IDC:AEDEUR  AEDEUR               U.A.E. DIRHAM / EURO        0.28516   \n4  FX_IDC:AEDGBP  AEDGBP      U.A.E. DIRHAM / BRITISH POUND        0.25919   \n\n   All Time Low  All Time Performance  Aroon Down (14)  Aroon Up (14)  \\\n0       0.25641             61.189614        28.571429      85.714286   \n1       0.25670             39.521623        14.285714      85.714286   \n2       0.22759            -10.616903        28.571429      57.142857   \n3       0.12633             15.190818         0.000000      64.285714   \n4       0.13346             53.758146        28.571429      64.285714   \n\n       Ask  Average Day Range (14)  ...  Reco. UO  Prev. Awesome Oscillator  \\\n0  0.41488                0.003900  ...       0.0                  0.008427   \n1  0.36537                0.001534  ...       0.0                  0.003991   \n2  0.23813                0.001412  ...       0.0                 -0.000747   \n3  0.24730                0.001408  ...       0.0                  0.000919   \n4  0.21314                0.001305  ...       0.0                  0.001448   \n\n   Prev. Commodity Channel Index (20)  Prev. Momentum (10)  \\\n0                          112.920303              0.01412   \n1                          151.877740              0.00572   \n2                          101.382887              0.00439   \n3                           75.749502              0.00247   \n4                           89.303225              0.00369   \n\n   Prev. Negative Directional Indicator (14)  \\\n0                                  18.406860   \n1                                  12.745768   \n2                                  20.795305   \n3                                  21.382914   \n4                                  21.654827   \n\n   Prev. Positive Directional Indicator (14)  \\\n0                                  33.795178   \n1                                  33.774324   \n2                                  23.341176   \n3                                  29.227570   \n4                                  32.655723   \n\n   Prev. Relative Strength Index (14)  Prev. Relative Strength Index (7)  \\\n0                           63.594072                          70.914886   \n1                           64.208003                          75.032446   \n2                           51.661148                          62.423309   \n3                           53.171872                          56.869359   \n4                           56.414320                          63.465780   \n\n   Prev. Stochastic %D (14, 3, 3)  Prev. Stochastic %K (14, 3, 3)  \n0                       84.488412                       85.983547  \n1                       86.198847                       80.385967  \n2                       73.143625                       77.371263  \n3                       76.355147                       76.101548  \n4                       68.600269                       66.249341  \n\n[5 rows x 179 columns]",
      "text/html": "<div>\n<style scoped>\n    .dataframe tbody tr th:only-of-type {\n        vertical-align: middle;\n    }\n\n    .dataframe tbody tr th {\n        vertical-align: top;\n    }\n\n    .dataframe thead th {\n        text-align: right;\n    }\n</style>\n<table border=\"1\" class=\"dataframe\">\n  <thead>\n    <tr style=\"text-align: right;\">\n      <th></th>\n      <th>Symbol</th>\n      <th>Name</th>\n      <th>Description</th>\n      <th>All Time High</th>\n      <th>All Time Low</th>\n      <th>All Time Performance</th>\n      <th>Aroon Down (14)</th>\n      <th>Aroon Up (14)</th>\n      <th>Ask</th>\n      <th>Average Day Range (14)</th>\n      <th>...</th>\n      <th>Reco. UO</th>\n      <th>Prev. Awesome Oscillator</th>\n      <th>Prev. Commodity Channel Index (20)</th>\n      <th>Prev. Momentum (10)</th>\n      <th>Prev. Negative Directional Indicator (14)</th>\n      <th>Prev. Positive Directional Indicator (14)</th>\n      <th>Prev. Relative Strength Index (14)</th>\n      <th>Prev. Relative Strength Index (7)</th>\n      <th>Prev. Stochastic %D (14, 3, 3)</th>\n      <th>Prev. Stochastic %K (14, 3, 3)</th>\n    </tr>\n  </thead>\n  <tbody>\n    <tr>\n      <th>0</th>\n      <td>FX_IDC:AEDAUD</td>\n      <td>AEDAUD</td>\n      <td>U.A.E. DIRHAM / AUSTRALIAN DOLLAR</td>\n      <td>0.48967</td>\n      <td>0.25641</td>\n      <td>61.189614</td>\n      <td>28.571429</td>\n      <td>85.714286</td>\n      <td>0.41488</td>\n      <td>0.003900</td>\n      <td>...</td>\n      <td>0.0</td>\n      <td>0.008427</td>\n      <td>112.920303</td>\n      <td>0.01412</td>\n      <td>18.406860</td>\n      <td>33.795178</td>\n      <td>63.594072</td>\n      <td>70.914886</td>\n      <td>84.488412</td>\n      <td>85.983547</td>\n    </tr>\n    <tr>\n      <th>1</th>\n      <td>FX_IDC:AEDCAD</td>\n      <td>AEDCAD</td>\n      <td>U.A.E. DIRHAM / CANADIAN DOLLAR</td>\n      <td>0.39856</td>\n      <td>0.25670</td>\n      <td>39.521623</td>\n      <td>14.285714</td>\n      <td>85.714286</td>\n      <td>0.36537</td>\n      <td>0.001534</td>\n      <td>...</td>\n      <td>0.0</td>\n      <td>0.003991</td>\n      <td>151.877740</td>\n      <td>0.00572</td>\n      <td>12.745768</td>\n      <td>33.774324</td>\n      <td>64.208003</td>\n      <td>75.032446</td>\n      <td>86.198847</td>\n      <td>80.385967</td>\n    </tr>\n    <tr>\n      <th>2</th>\n      <td>FX_IDC:AEDCHF</td>\n      <td>AEDCHF</td>\n      <td>U.A.E. DIRHAM / SWISS FRANC</td>\n      <td>0.28102</td>\n      <td>0.22759</td>\n      <td>-10.616903</td>\n      <td>28.571429</td>\n      <td>57.142857</td>\n      <td>0.23813</td>\n      <td>0.001412</td>\n      <td>...</td>\n      <td>0.0</td>\n      <td>-0.000747</td>\n      <td>101.382887</td>\n      <td>0.00439</td>\n      <td>20.795305</td>\n      <td>23.341176</td>\n      <td>51.661148</td>\n      <td>62.423309</td>\n      <td>73.143625</td>\n      <td>77.371263</td>\n    </tr>\n    <tr>\n      <th>3</th>\n      <td>FX_IDC:AEDEUR</td>\n      <td>AEDEUR</td>\n      <td>U.A.E. DIRHAM / EURO</td>\n      <td>0.28516</td>\n      <td>0.12633</td>\n      <td>15.190818</td>\n      <td>0.000000</td>\n      <td>64.285714</td>\n      <td>0.24730</td>\n      <td>0.001408</td>\n      <td>...</td>\n      <td>0.0</td>\n      <td>0.000919</td>\n      <td>75.749502</td>\n      <td>0.00247</td>\n      <td>21.382914</td>\n      <td>29.227570</td>\n      <td>53.171872</td>\n      <td>56.869359</td>\n      <td>76.355147</td>\n      <td>76.101548</td>\n    </tr>\n    <tr>\n      <th>4</th>\n      <td>FX_IDC:AEDGBP</td>\n      <td>AEDGBP</td>\n      <td>U.A.E. DIRHAM / BRITISH POUND</td>\n      <td>0.25919</td>\n      <td>0.13346</td>\n      <td>53.758146</td>\n      <td>28.571429</td>\n      <td>64.285714</td>\n      <td>0.21314</td>\n      <td>0.001305</td>\n      <td>...</td>\n      <td>0.0</td>\n      <td>0.001448</td>\n      <td>89.303225</td>\n      <td>0.00369</td>\n      <td>21.654827</td>\n      <td>32.655723</td>\n      <td>56.414320</td>\n      <td>63.465780</td>\n      <td>68.600269</td>\n      <td>66.249341</td>\n    </tr>\n  </tbody>\n</table>\n<p>5 rows × 179 columns</p>\n</div>"
     },
     "execution_count": 3,
     "metadata": {},
     "output_type": "execute_result"
    }
   ],
   "source": [
    "fs = tvs.ForexScreener()\n",
    "df = fs.get()\n",
    "df.head()"
   ],
   "metadata": {
    "collapsed": false,
    "ExecuteTime": {
     "end_time": "2023-08-10T12:43:57.166912150Z",
     "start_time": "2023-08-10T12:43:56.613671743Z"
    }
   },
   "id": "5a3140ab1afc7830"
  },
  {
   "cell_type": "markdown",
   "source": [
    "## Crypto"
   ],
   "metadata": {
    "collapsed": false
   },
   "id": "a2d8c8054bc7a281"
  },
  {
   "cell_type": "code",
   "execution_count": 4,
   "outputs": [
    {
     "data": {
      "text/plain": "              Symbol       Name                             Description  \\\n0  BINANCE:BTCUSDT.P  BTCUSDT.P   Bitcoin / TetherUS PERPETUAL CONTRACT   \n1   BITGET:BTCUSDT.P  BTCUSDT.P      BTCUSDTPERP PERPETUAL MIX CONTRACT   \n2      OKX:BTCUSDT.P  BTCUSDT.P         BTCUSDT Perpetual Swap Contract   \n3    BYBIT:BTCUSDT.P  BTCUSDT.P              BTCUSDT Perpetual Contract   \n4  BINANCE:ETHUSDT.P  ETHUSDT.P  Ethereum / TetherUS PERPETUAL CONTRACT   \n\n   All Time High  All Time Low  All Time Performance  Aroon Down (14)  \\\n0       69198.70       3621.81            195.158000        35.714286   \n1       69145.50       3794.50            125.609056        35.714286   \n2       69158.00       3728.80            328.266767        35.714286   \n3       69138.50       5841.50            354.172308        35.714286   \n4        4877.54         84.23           1170.116438        78.571429   \n\n   Aroon Up (14)      Ask  Available Coins  ...  Reco. VWMA  \\\n0      85.714286  29474.3              NaN  ...         1.0   \n1      85.714286  29468.5              NaN  ...         1.0   \n2      85.714286  29500.0              NaN  ...         1.0   \n3      85.714286  29490.5              NaN  ...         1.0   \n4      14.285714   1853.8              NaN  ...        -1.0   \n\n   Prev. Awesome Oscillator  Prev. Commodity Channel Index (20)  \\\n0               -446.943824                           93.536524   \n1               -448.382353                           93.437094   \n2               -449.005882                           92.190516   \n3               -443.895294                           91.939108   \n4                -34.297471                            2.279656   \n\n   Prev. Momentum (10)  Prev. Negative Directional Indicator (14)  \\\n0               301.70                                  16.416206   \n1               296.50                                  15.495737   \n2               299.60                                  15.762226   \n3               291.90                                  16.424444   \n4                -6.06                                  20.118612   \n\n   Prev. Positive Directional Indicator (14)  \\\n0                                  20.499402   \n1                                  21.468034   \n2                                  21.130188   \n3                                  20.330865   \n4                                  13.296458   \n\n   Prev. Relative Strength Index (14)  Prev. Relative Strength Index (7)  \\\n0                           51.659645                          57.615481   \n1                           51.480388                          57.026400   \n2                           51.616855                          57.504498   \n3                           51.554039                          57.385536   \n4                           48.693594                          53.523472   \n\n   Prev. Stochastic %D (14, 3, 3)  Prev. Stochastic %K (14, 3, 3)  \n0                       47.581188                       58.170127  \n1                       47.357034                       57.998530  \n2                       47.749716                       58.324949  \n3                       47.309590                       57.523937  \n4                       40.575223                       52.874447  \n\n[5 rows x 193 columns]",
      "text/html": "<div>\n<style scoped>\n    .dataframe tbody tr th:only-of-type {\n        vertical-align: middle;\n    }\n\n    .dataframe tbody tr th {\n        vertical-align: top;\n    }\n\n    .dataframe thead th {\n        text-align: right;\n    }\n</style>\n<table border=\"1\" class=\"dataframe\">\n  <thead>\n    <tr style=\"text-align: right;\">\n      <th></th>\n      <th>Symbol</th>\n      <th>Name</th>\n      <th>Description</th>\n      <th>All Time High</th>\n      <th>All Time Low</th>\n      <th>All Time Performance</th>\n      <th>Aroon Down (14)</th>\n      <th>Aroon Up (14)</th>\n      <th>Ask</th>\n      <th>Available Coins</th>\n      <th>...</th>\n      <th>Reco. VWMA</th>\n      <th>Prev. Awesome Oscillator</th>\n      <th>Prev. Commodity Channel Index (20)</th>\n      <th>Prev. Momentum (10)</th>\n      <th>Prev. Negative Directional Indicator (14)</th>\n      <th>Prev. Positive Directional Indicator (14)</th>\n      <th>Prev. Relative Strength Index (14)</th>\n      <th>Prev. Relative Strength Index (7)</th>\n      <th>Prev. Stochastic %D (14, 3, 3)</th>\n      <th>Prev. Stochastic %K (14, 3, 3)</th>\n    </tr>\n  </thead>\n  <tbody>\n    <tr>\n      <th>0</th>\n      <td>BINANCE:BTCUSDT.P</td>\n      <td>BTCUSDT.P</td>\n      <td>Bitcoin / TetherUS PERPETUAL CONTRACT</td>\n      <td>69198.70</td>\n      <td>3621.81</td>\n      <td>195.158000</td>\n      <td>35.714286</td>\n      <td>85.714286</td>\n      <td>29474.3</td>\n      <td>NaN</td>\n      <td>...</td>\n      <td>1.0</td>\n      <td>-446.943824</td>\n      <td>93.536524</td>\n      <td>301.70</td>\n      <td>16.416206</td>\n      <td>20.499402</td>\n      <td>51.659645</td>\n      <td>57.615481</td>\n      <td>47.581188</td>\n      <td>58.170127</td>\n    </tr>\n    <tr>\n      <th>1</th>\n      <td>BITGET:BTCUSDT.P</td>\n      <td>BTCUSDT.P</td>\n      <td>BTCUSDTPERP PERPETUAL MIX CONTRACT</td>\n      <td>69145.50</td>\n      <td>3794.50</td>\n      <td>125.609056</td>\n      <td>35.714286</td>\n      <td>85.714286</td>\n      <td>29468.5</td>\n      <td>NaN</td>\n      <td>...</td>\n      <td>1.0</td>\n      <td>-448.382353</td>\n      <td>93.437094</td>\n      <td>296.50</td>\n      <td>15.495737</td>\n      <td>21.468034</td>\n      <td>51.480388</td>\n      <td>57.026400</td>\n      <td>47.357034</td>\n      <td>57.998530</td>\n    </tr>\n    <tr>\n      <th>2</th>\n      <td>OKX:BTCUSDT.P</td>\n      <td>BTCUSDT.P</td>\n      <td>BTCUSDT Perpetual Swap Contract</td>\n      <td>69158.00</td>\n      <td>3728.80</td>\n      <td>328.266767</td>\n      <td>35.714286</td>\n      <td>85.714286</td>\n      <td>29500.0</td>\n      <td>NaN</td>\n      <td>...</td>\n      <td>1.0</td>\n      <td>-449.005882</td>\n      <td>92.190516</td>\n      <td>299.60</td>\n      <td>15.762226</td>\n      <td>21.130188</td>\n      <td>51.616855</td>\n      <td>57.504498</td>\n      <td>47.749716</td>\n      <td>58.324949</td>\n    </tr>\n    <tr>\n      <th>3</th>\n      <td>BYBIT:BTCUSDT.P</td>\n      <td>BTCUSDT.P</td>\n      <td>BTCUSDT Perpetual Contract</td>\n      <td>69138.50</td>\n      <td>5841.50</td>\n      <td>354.172308</td>\n      <td>35.714286</td>\n      <td>85.714286</td>\n      <td>29490.5</td>\n      <td>NaN</td>\n      <td>...</td>\n      <td>1.0</td>\n      <td>-443.895294</td>\n      <td>91.939108</td>\n      <td>291.90</td>\n      <td>16.424444</td>\n      <td>20.330865</td>\n      <td>51.554039</td>\n      <td>57.385536</td>\n      <td>47.309590</td>\n      <td>57.523937</td>\n    </tr>\n    <tr>\n      <th>4</th>\n      <td>BINANCE:ETHUSDT.P</td>\n      <td>ETHUSDT.P</td>\n      <td>Ethereum / TetherUS PERPETUAL CONTRACT</td>\n      <td>4877.54</td>\n      <td>84.23</td>\n      <td>1170.116438</td>\n      <td>78.571429</td>\n      <td>14.285714</td>\n      <td>1853.8</td>\n      <td>NaN</td>\n      <td>...</td>\n      <td>-1.0</td>\n      <td>-34.297471</td>\n      <td>2.279656</td>\n      <td>-6.06</td>\n      <td>20.118612</td>\n      <td>13.296458</td>\n      <td>48.693594</td>\n      <td>53.523472</td>\n      <td>40.575223</td>\n      <td>52.874447</td>\n    </tr>\n  </tbody>\n</table>\n<p>5 rows × 193 columns</p>\n</div>"
     },
     "execution_count": 4,
     "metadata": {},
     "output_type": "execute_result"
    }
   ],
   "source": [
    "cs = tvs.CryptoScreener()\n",
    "df = cs.get()\n",
    "df.head()"
   ],
   "metadata": {
    "collapsed": false,
    "ExecuteTime": {
     "end_time": "2023-08-10T12:43:57.946534937Z",
     "start_time": "2023-08-10T12:43:57.167792749Z"
    }
   },
   "id": "bbede913c3cf6067"
  },
  {
   "cell_type": "markdown",
   "source": [
    "## Options"
   ],
   "metadata": {
    "collapsed": false
   },
   "id": "e6b09b518bdabd39"
  },
  {
   "cell_type": "markdown",
   "source": [
    "## Range"
   ],
   "metadata": {
    "collapsed": false
   },
   "id": "8c329b0e0edac821"
  },
  {
   "cell_type": "code",
   "execution_count": 5,
   "outputs": [
    {
     "data": {
      "text/plain": "            Symbol   Name                            Description  \\\n0      NASDAQ:AAPL   AAPL                             Apple Inc.   \n1      NASDAQ:MSFT   MSFT                  Microsoft Corporation   \n2     NASDAQ:GOOGL  GOOGL                          Alphabet Inc.   \n3      NASDAQ:GOOG   GOOG                          Alphabet Inc.   \n4      NASDAQ:AMZN   AMZN                       Amazon.com, Inc.   \n...            ...    ...                                    ...   \n9995   NASDAQ:ELBM   ELBM  Electra Battery Materials Corporation   \n9996     OTC:EAGRF  EAGRF             EAST SIDE GAMES GROUP INC.   \n9997     OTC:BNXTF  BNXTF                  BIONXT SOLUTIONS INC.   \n9998     AMEX:MPTI   MPTI                M-tron Industries, Inc.   \n9999    NASDAQ:MRM    MRM   MEDIROM Healthcare Technologies Inc.   \n\n      All Time High  All Time Low  All Time Performance  Aroon Down (14)  \\\n0        198.230000      0.049107         138733.483965       100.000000   \n1        366.780000      0.088543         331333.919957       100.000000   \n2        151.546575      2.401327           5080.856484         0.000000   \n3        152.100000     24.312350            359.512111         0.000000   \n4        188.653910      0.065624         113008.620378        28.571429   \n...             ...           ...                   ...              ...   \n9995      23.455021      0.820000            -92.614108       100.000000   \n9996       6.300000      0.356300            -87.072417        85.714286   \n9997       3.100000      0.001400            -52.867249        57.142857   \n9998      21.000000      7.990000             41.250000         0.000000   \n9999      19.800000      4.010100            -68.181818         0.000000   \n\n      Aroon Up (14)  Average Day Range (14)  Average Directional Index (14)  \\\n0         35.714286                3.065736                       40.079355   \n1          0.000000                6.875714                       15.697468   \n2         42.857143                2.576786                       21.021282   \n3         42.857143                2.574643                       19.905580   \n4         78.571429                3.053221                       21.411278   \n...             ...                     ...                             ...   \n9995      21.428571                0.269314                       25.152353   \n9996      21.428571                0.006087                       20.369659   \n9997       0.000000                0.016761                       15.480164   \n9998      57.142857                0.152014                       22.625735   \n9999      14.285714                0.218700                       16.328872   \n\n      ...  Reco. VWMA  Prev. Awesome Oscillator  \\\n0     ...        -1.0                 -4.720749   \n1     ...        -1.0                 -9.388162   \n2     ...         1.0                  5.906360   \n3     ...         1.0                  5.743768   \n4     ...         1.0                  4.556238   \n...   ...         ...                       ...   \n9995  ...        -1.0                  0.136351   \n9996  ...        -1.0                 -0.185927   \n9997  ...        -1.0                 -0.053805   \n9998  ...         1.0                 -0.016993   \n9999  ...        -1.0                  0.342581   \n\n      Prev. Commodity Channel Index (20)  Prev. Momentum (10)  \\\n0                            -230.936482            -13.82000   \n1                            -120.951883            -24.93000   \n2                              72.958312              9.19000   \n3                              74.928140              9.05000   \n4                             149.672333             10.81000   \n...                                  ...                  ...   \n9995                          -50.088133             -0.96000   \n9996                          -87.578283             -0.20000   \n9997                          -74.772551             -0.03402   \n9998                          -14.288878              0.10000   \n9999                          -12.463751             -0.55230   \n\n      Prev. Negative Directional Indicator (14)  \\\n0                                     37.059393   \n1                                     26.356568   \n2                                     17.483541   \n3                                     17.902277   \n4                                     19.321047   \n...                                         ...   \n9995                                  25.508187   \n9996                                  57.584131   \n9997                                  46.360923   \n9998                                  15.968953   \n9999                                  33.959075   \n\n      Prev. Positive Directional Indicator (14)  \\\n0                                     14.543167   \n1                                     20.989642   \n2                                     27.917242   \n3                                     27.931277   \n4                                     35.171936   \n...                                         ...   \n9995                                  30.926418   \n9996                                  34.908785   \n9997                                  34.199245   \n9998                                  28.527973   \n9999                                  28.495395   \n\n      Prev. Relative Strength Index (14)  Prev. Relative Strength Index (7)  \\\n0                              31.992621                          20.309959   \n1                              41.620562                          34.633610   \n2                              63.031565                          66.112989   \n3                              62.822280                          66.262130   \n4                              63.522413                          66.884776   \n...                                  ...                                ...   \n9995                           45.748822                          39.182510   \n9996                           37.654229                          39.521487   \n9997                           44.625250                          42.430652   \n9998                           46.972336                          47.226542   \n9999                           51.539283                          44.440279   \n\n      Prev. Stochastic %D (14, 3, 3)  Prev. Stochastic %K (14, 3, 3)  \n0                           8.336929                        6.651887  \n1                           5.696226                        8.199300  \n2                          71.656644                       78.135739  \n3                          71.754595                       78.572202  \n4                          63.325131                       82.572298  \n...                              ...                             ...  \n9995                       19.994490                       13.878636  \n9996                        3.151068                        7.761156  \n9997                       61.373469                       50.783694  \n9998                       49.210414                       37.874144  \n9999                       33.307018                       29.758145  \n\n[10000 rows x 302 columns]",
      "text/html": "<div>\n<style scoped>\n    .dataframe tbody tr th:only-of-type {\n        vertical-align: middle;\n    }\n\n    .dataframe tbody tr th {\n        vertical-align: top;\n    }\n\n    .dataframe thead th {\n        text-align: right;\n    }\n</style>\n<table border=\"1\" class=\"dataframe\">\n  <thead>\n    <tr style=\"text-align: right;\">\n      <th></th>\n      <th>Symbol</th>\n      <th>Name</th>\n      <th>Description</th>\n      <th>All Time High</th>\n      <th>All Time Low</th>\n      <th>All Time Performance</th>\n      <th>Aroon Down (14)</th>\n      <th>Aroon Up (14)</th>\n      <th>Average Day Range (14)</th>\n      <th>Average Directional Index (14)</th>\n      <th>...</th>\n      <th>Reco. VWMA</th>\n      <th>Prev. Awesome Oscillator</th>\n      <th>Prev. Commodity Channel Index (20)</th>\n      <th>Prev. Momentum (10)</th>\n      <th>Prev. Negative Directional Indicator (14)</th>\n      <th>Prev. Positive Directional Indicator (14)</th>\n      <th>Prev. Relative Strength Index (14)</th>\n      <th>Prev. Relative Strength Index (7)</th>\n      <th>Prev. Stochastic %D (14, 3, 3)</th>\n      <th>Prev. Stochastic %K (14, 3, 3)</th>\n    </tr>\n  </thead>\n  <tbody>\n    <tr>\n      <th>0</th>\n      <td>NASDAQ:AAPL</td>\n      <td>AAPL</td>\n      <td>Apple Inc.</td>\n      <td>198.230000</td>\n      <td>0.049107</td>\n      <td>138733.483965</td>\n      <td>100.000000</td>\n      <td>35.714286</td>\n      <td>3.065736</td>\n      <td>40.079355</td>\n      <td>...</td>\n      <td>-1.0</td>\n      <td>-4.720749</td>\n      <td>-230.936482</td>\n      <td>-13.82000</td>\n      <td>37.059393</td>\n      <td>14.543167</td>\n      <td>31.992621</td>\n      <td>20.309959</td>\n      <td>8.336929</td>\n      <td>6.651887</td>\n    </tr>\n    <tr>\n      <th>1</th>\n      <td>NASDAQ:MSFT</td>\n      <td>MSFT</td>\n      <td>Microsoft Corporation</td>\n      <td>366.780000</td>\n      <td>0.088543</td>\n      <td>331333.919957</td>\n      <td>100.000000</td>\n      <td>0.000000</td>\n      <td>6.875714</td>\n      <td>15.697468</td>\n      <td>...</td>\n      <td>-1.0</td>\n      <td>-9.388162</td>\n      <td>-120.951883</td>\n      <td>-24.93000</td>\n      <td>26.356568</td>\n      <td>20.989642</td>\n      <td>41.620562</td>\n      <td>34.633610</td>\n      <td>5.696226</td>\n      <td>8.199300</td>\n    </tr>\n    <tr>\n      <th>2</th>\n      <td>NASDAQ:GOOGL</td>\n      <td>GOOGL</td>\n      <td>Alphabet Inc.</td>\n      <td>151.546575</td>\n      <td>2.401327</td>\n      <td>5080.856484</td>\n      <td>0.000000</td>\n      <td>42.857143</td>\n      <td>2.576786</td>\n      <td>21.021282</td>\n      <td>...</td>\n      <td>1.0</td>\n      <td>5.906360</td>\n      <td>72.958312</td>\n      <td>9.19000</td>\n      <td>17.483541</td>\n      <td>27.917242</td>\n      <td>63.031565</td>\n      <td>66.112989</td>\n      <td>71.656644</td>\n      <td>78.135739</td>\n    </tr>\n    <tr>\n      <th>3</th>\n      <td>NASDAQ:GOOG</td>\n      <td>GOOG</td>\n      <td>Alphabet Inc.</td>\n      <td>152.100000</td>\n      <td>24.312350</td>\n      <td>359.512111</td>\n      <td>0.000000</td>\n      <td>42.857143</td>\n      <td>2.574643</td>\n      <td>19.905580</td>\n      <td>...</td>\n      <td>1.0</td>\n      <td>5.743768</td>\n      <td>74.928140</td>\n      <td>9.05000</td>\n      <td>17.902277</td>\n      <td>27.931277</td>\n      <td>62.822280</td>\n      <td>66.262130</td>\n      <td>71.754595</td>\n      <td>78.572202</td>\n    </tr>\n    <tr>\n      <th>4</th>\n      <td>NASDAQ:AMZN</td>\n      <td>AMZN</td>\n      <td>Amazon.com, Inc.</td>\n      <td>188.653910</td>\n      <td>0.065624</td>\n      <td>113008.620378</td>\n      <td>28.571429</td>\n      <td>78.571429</td>\n      <td>3.053221</td>\n      <td>21.411278</td>\n      <td>...</td>\n      <td>1.0</td>\n      <td>4.556238</td>\n      <td>149.672333</td>\n      <td>10.81000</td>\n      <td>19.321047</td>\n      <td>35.171936</td>\n      <td>63.522413</td>\n      <td>66.884776</td>\n      <td>63.325131</td>\n      <td>82.572298</td>\n    </tr>\n    <tr>\n      <th>...</th>\n      <td>...</td>\n      <td>...</td>\n      <td>...</td>\n      <td>...</td>\n      <td>...</td>\n      <td>...</td>\n      <td>...</td>\n      <td>...</td>\n      <td>...</td>\n      <td>...</td>\n      <td>...</td>\n      <td>...</td>\n      <td>...</td>\n      <td>...</td>\n      <td>...</td>\n      <td>...</td>\n      <td>...</td>\n      <td>...</td>\n      <td>...</td>\n      <td>...</td>\n      <td>...</td>\n    </tr>\n    <tr>\n      <th>9995</th>\n      <td>NASDAQ:ELBM</td>\n      <td>ELBM</td>\n      <td>Electra Battery Materials Corporation</td>\n      <td>23.455021</td>\n      <td>0.820000</td>\n      <td>-92.614108</td>\n      <td>100.000000</td>\n      <td>21.428571</td>\n      <td>0.269314</td>\n      <td>25.152353</td>\n      <td>...</td>\n      <td>-1.0</td>\n      <td>0.136351</td>\n      <td>-50.088133</td>\n      <td>-0.96000</td>\n      <td>25.508187</td>\n      <td>30.926418</td>\n      <td>45.748822</td>\n      <td>39.182510</td>\n      <td>19.994490</td>\n      <td>13.878636</td>\n    </tr>\n    <tr>\n      <th>9996</th>\n      <td>OTC:EAGRF</td>\n      <td>EAGRF</td>\n      <td>EAST SIDE GAMES GROUP INC.</td>\n      <td>6.300000</td>\n      <td>0.356300</td>\n      <td>-87.072417</td>\n      <td>85.714286</td>\n      <td>21.428571</td>\n      <td>0.006087</td>\n      <td>20.369659</td>\n      <td>...</td>\n      <td>-1.0</td>\n      <td>-0.185927</td>\n      <td>-87.578283</td>\n      <td>-0.20000</td>\n      <td>57.584131</td>\n      <td>34.908785</td>\n      <td>37.654229</td>\n      <td>39.521487</td>\n      <td>3.151068</td>\n      <td>7.761156</td>\n    </tr>\n    <tr>\n      <th>9997</th>\n      <td>OTC:BNXTF</td>\n      <td>BNXTF</td>\n      <td>BIONXT SOLUTIONS INC.</td>\n      <td>3.100000</td>\n      <td>0.001400</td>\n      <td>-52.867249</td>\n      <td>57.142857</td>\n      <td>0.000000</td>\n      <td>0.016761</td>\n      <td>15.480164</td>\n      <td>...</td>\n      <td>-1.0</td>\n      <td>-0.053805</td>\n      <td>-74.772551</td>\n      <td>-0.03402</td>\n      <td>46.360923</td>\n      <td>34.199245</td>\n      <td>44.625250</td>\n      <td>42.430652</td>\n      <td>61.373469</td>\n      <td>50.783694</td>\n    </tr>\n    <tr>\n      <th>9998</th>\n      <td>AMEX:MPTI</td>\n      <td>MPTI</td>\n      <td>M-tron Industries, Inc.</td>\n      <td>21.000000</td>\n      <td>7.990000</td>\n      <td>41.250000</td>\n      <td>0.000000</td>\n      <td>57.142857</td>\n      <td>0.152014</td>\n      <td>22.625735</td>\n      <td>...</td>\n      <td>1.0</td>\n      <td>-0.016993</td>\n      <td>-14.288878</td>\n      <td>0.10000</td>\n      <td>15.968953</td>\n      <td>28.527973</td>\n      <td>46.972336</td>\n      <td>47.226542</td>\n      <td>49.210414</td>\n      <td>37.874144</td>\n    </tr>\n    <tr>\n      <th>9999</th>\n      <td>NASDAQ:MRM</td>\n      <td>MRM</td>\n      <td>MEDIROM Healthcare Technologies Inc.</td>\n      <td>19.800000</td>\n      <td>4.010100</td>\n      <td>-68.181818</td>\n      <td>0.000000</td>\n      <td>14.285714</td>\n      <td>0.218700</td>\n      <td>16.328872</td>\n      <td>...</td>\n      <td>-1.0</td>\n      <td>0.342581</td>\n      <td>-12.463751</td>\n      <td>-0.55230</td>\n      <td>33.959075</td>\n      <td>28.495395</td>\n      <td>51.539283</td>\n      <td>44.440279</td>\n      <td>33.307018</td>\n      <td>29.758145</td>\n    </tr>\n  </tbody>\n</table>\n<p>10000 rows × 302 columns</p>\n</div>"
     },
     "execution_count": 5,
     "metadata": {},
     "output_type": "execute_result"
    }
   ],
   "source": [
    "ss = tvs.StockScreener()\n",
    "ss.set_range(0, 10000)\n",
    "df = ss.get()\n",
    "df"
   ],
   "metadata": {
    "collapsed": false,
    "ExecuteTime": {
     "end_time": "2023-08-10T12:44:03.551784888Z",
     "start_time": "2023-08-10T12:43:57.945985777Z"
    }
   },
   "id": "47a993423929c7bb"
  },
  {
   "cell_type": "markdown",
   "source": [
    "# Sorting"
   ],
   "metadata": {
    "collapsed": false
   },
   "id": "31911fef050e517b"
  },
  {
   "cell_type": "code",
   "execution_count": 6,
   "outputs": [
    {
     "data": {
      "text/plain": "      Symbol   Name Description  All Time High  All Time Low  \\\n0  OTC:FNMAP  FNMAP  Fannie Mae       51.37500         0.200   \n1  OTC:FNMAT  FNMAT  Fannie Mae       26.10001         0.150   \n2  OTC:FNMAO  FNMAO  Fannie Mae       50.75000         0.301   \n3   OTC:FNMA   FNMA  Fannie Mae       89.37500         0.185   \n4  OTC:FNMFM  FNMFM  Fannie Mae       28.10001         0.010   \n\n   All Time Performance  Aroon Down (14)  Aroon Up (14)  \\\n0            -94.413965        35.714286      28.571429   \n1            -91.769380       100.000000       7.142857   \n2            -94.430000       100.000000      21.428571   \n3            -53.016610        21.428571      57.142857   \n4            343.076923        28.571429      85.714286   \n\n   Average Day Range (14)  Average Directional Index (14)  ...  Reco. VWMA  \\\n0                0.087143                       19.825800  ...        -1.0   \n1                0.143929                       19.693646  ...        -1.0   \n2                0.080886                       21.982378  ...        -1.0   \n3                0.020150                       48.615501  ...        -1.0   \n4                0.042143                       17.925291  ...         1.0   \n\n   Prev. Awesome Oscillator  Prev. Commodity Channel Index (20)  \\\n0                  0.149169                           23.308273   \n1                 -0.043156                         -111.447411   \n2                  0.083553                          -10.588738   \n3                  0.011775                           33.860057   \n4                  0.266206                          112.363228   \n\n   Prev. Momentum (10)  Prev. Negative Directional Indicator (14)  \\\n0             -0.12000                                  30.629596   \n1             -0.10000                                  10.093238   \n2              0.00000                                  30.023823   \n3              0.00476                                   7.088322   \n4              1.02000                                  34.418596   \n\n   Prev. Positive Directional Indicator (14)  \\\n0                                  24.724662   \n1                                  11.548222   \n2                                  26.128366   \n3                                  31.635059   \n4                                  48.629829   \n\n   Prev. Relative Strength Index (14)  Prev. Relative Strength Index (7)  \\\n0                           54.388115                          53.701948   \n1                           52.336771                          41.507402   \n2                           53.343557                          51.317855   \n3                           52.050546                          51.287504   \n4                           56.787202                          68.158342   \n\n   Prev. Stochastic %D (14, 3, 3)  Prev. Stochastic %K (14, 3, 3)  \n0                       47.482993                       46.258503  \n1                       48.148148                       50.000000  \n2                       57.298475                       61.437908  \n3                       16.282882                       16.965577  \n4                       98.798799                       97.297297  \n\n[5 rows x 302 columns]",
      "text/html": "<div>\n<style scoped>\n    .dataframe tbody tr th:only-of-type {\n        vertical-align: middle;\n    }\n\n    .dataframe tbody tr th {\n        vertical-align: top;\n    }\n\n    .dataframe thead th {\n        text-align: right;\n    }\n</style>\n<table border=\"1\" class=\"dataframe\">\n  <thead>\n    <tr style=\"text-align: right;\">\n      <th></th>\n      <th>Symbol</th>\n      <th>Name</th>\n      <th>Description</th>\n      <th>All Time High</th>\n      <th>All Time Low</th>\n      <th>All Time Performance</th>\n      <th>Aroon Down (14)</th>\n      <th>Aroon Up (14)</th>\n      <th>Average Day Range (14)</th>\n      <th>Average Directional Index (14)</th>\n      <th>...</th>\n      <th>Reco. VWMA</th>\n      <th>Prev. Awesome Oscillator</th>\n      <th>Prev. Commodity Channel Index (20)</th>\n      <th>Prev. Momentum (10)</th>\n      <th>Prev. Negative Directional Indicator (14)</th>\n      <th>Prev. Positive Directional Indicator (14)</th>\n      <th>Prev. Relative Strength Index (14)</th>\n      <th>Prev. Relative Strength Index (7)</th>\n      <th>Prev. Stochastic %D (14, 3, 3)</th>\n      <th>Prev. Stochastic %K (14, 3, 3)</th>\n    </tr>\n  </thead>\n  <tbody>\n    <tr>\n      <th>0</th>\n      <td>OTC:FNMAP</td>\n      <td>FNMAP</td>\n      <td>Fannie Mae</td>\n      <td>51.37500</td>\n      <td>0.200</td>\n      <td>-94.413965</td>\n      <td>35.714286</td>\n      <td>28.571429</td>\n      <td>0.087143</td>\n      <td>19.825800</td>\n      <td>...</td>\n      <td>-1.0</td>\n      <td>0.149169</td>\n      <td>23.308273</td>\n      <td>-0.12000</td>\n      <td>30.629596</td>\n      <td>24.724662</td>\n      <td>54.388115</td>\n      <td>53.701948</td>\n      <td>47.482993</td>\n      <td>46.258503</td>\n    </tr>\n    <tr>\n      <th>1</th>\n      <td>OTC:FNMAT</td>\n      <td>FNMAT</td>\n      <td>Fannie Mae</td>\n      <td>26.10001</td>\n      <td>0.150</td>\n      <td>-91.769380</td>\n      <td>100.000000</td>\n      <td>7.142857</td>\n      <td>0.143929</td>\n      <td>19.693646</td>\n      <td>...</td>\n      <td>-1.0</td>\n      <td>-0.043156</td>\n      <td>-111.447411</td>\n      <td>-0.10000</td>\n      <td>10.093238</td>\n      <td>11.548222</td>\n      <td>52.336771</td>\n      <td>41.507402</td>\n      <td>48.148148</td>\n      <td>50.000000</td>\n    </tr>\n    <tr>\n      <th>2</th>\n      <td>OTC:FNMAO</td>\n      <td>FNMAO</td>\n      <td>Fannie Mae</td>\n      <td>50.75000</td>\n      <td>0.301</td>\n      <td>-94.430000</td>\n      <td>100.000000</td>\n      <td>21.428571</td>\n      <td>0.080886</td>\n      <td>21.982378</td>\n      <td>...</td>\n      <td>-1.0</td>\n      <td>0.083553</td>\n      <td>-10.588738</td>\n      <td>0.00000</td>\n      <td>30.023823</td>\n      <td>26.128366</td>\n      <td>53.343557</td>\n      <td>51.317855</td>\n      <td>57.298475</td>\n      <td>61.437908</td>\n    </tr>\n    <tr>\n      <th>3</th>\n      <td>OTC:FNMA</td>\n      <td>FNMA</td>\n      <td>Fannie Mae</td>\n      <td>89.37500</td>\n      <td>0.185</td>\n      <td>-53.016610</td>\n      <td>21.428571</td>\n      <td>57.142857</td>\n      <td>0.020150</td>\n      <td>48.615501</td>\n      <td>...</td>\n      <td>-1.0</td>\n      <td>0.011775</td>\n      <td>33.860057</td>\n      <td>0.00476</td>\n      <td>7.088322</td>\n      <td>31.635059</td>\n      <td>52.050546</td>\n      <td>51.287504</td>\n      <td>16.282882</td>\n      <td>16.965577</td>\n    </tr>\n    <tr>\n      <th>4</th>\n      <td>OTC:FNMFM</td>\n      <td>FNMFM</td>\n      <td>Fannie Mae</td>\n      <td>28.10001</td>\n      <td>0.010</td>\n      <td>343.076923</td>\n      <td>28.571429</td>\n      <td>85.714286</td>\n      <td>0.042143</td>\n      <td>17.925291</td>\n      <td>...</td>\n      <td>1.0</td>\n      <td>0.266206</td>\n      <td>112.363228</td>\n      <td>1.02000</td>\n      <td>34.418596</td>\n      <td>48.629829</td>\n      <td>56.787202</td>\n      <td>68.158342</td>\n      <td>98.798799</td>\n      <td>97.297297</td>\n    </tr>\n  </tbody>\n</table>\n<p>5 rows × 302 columns</p>\n</div>"
     },
     "execution_count": 6,
     "metadata": {},
     "output_type": "execute_result"
    }
   ],
   "source": [
    "\n",
    "ss = tvs.StockScreener()\n",
    "ss.sort_by(StockField.EBITDA_TTM, ascending=False)\n",
    "df = ss.get()\n",
    "df.head()"
   ],
   "metadata": {
    "collapsed": false,
    "ExecuteTime": {
     "end_time": "2023-08-10T12:44:04.382102553Z",
     "start_time": "2023-08-10T12:44:03.552409086Z"
    }
   },
   "id": "293d3c14f5cf6b4f"
  },
  {
   "cell_type": "markdown",
   "source": [
    "# Filters"
   ],
   "metadata": {
    "collapsed": false
   },
   "id": "247e54be1899a203"
  },
  {
   "cell_type": "markdown",
   "source": [
    "## Markets"
   ],
   "metadata": {
    "collapsed": false
   },
   "id": "4592f2c3da23c6f1"
  },
  {
   "cell_type": "code",
   "execution_count": 7,
   "outputs": [
    {
     "data": {
      "text/plain": "       Symbol    Name         Description  All Time High  All Time Low  \\\n0  KRX:005930  005930        SAMSUNG ELEC      96800.000      261.7141   \n1  KRX:005935  005935     SAMSUNGELEC(1P)      86800.000     4200.0000   \n2  KRX:373220  373220  LG ENERGY SOLUTION     629000.000   352000.0000   \n3  KRX:000660  000660            SK HYNIX     150500.000     5030.0000   \n4  KRX:207940  207940   SAMSUNG BIOLOGICS    1036002.312   124181.7480   \n\n   All Time Performance  Aroon Down (14)  Aroon Up (14)  \\\n0          21383.422080        85.714286      35.714286   \n1           1234.123223        85.714286       0.000000   \n2             -6.867672        78.571429      21.428571   \n3           1640.088106        21.428571      35.714286   \n4            500.380471        21.428571      71.428571   \n\n   Average Day Range (14)  Average Directional Index (14)  ...  Reco. VWMA  \\\n0             1485.714286                       20.935984  ...          -1   \n1             1064.285714                       24.026038  ...          -1   \n2            23785.714286                       12.497448  ...          -1   \n3             4592.857143                       22.356018  ...          -1   \n4            21214.285714                       21.016305  ...           1   \n\n   Prev. Awesome Oscillator  Prev. Commodity Channel Index (20)  \\\n0              -2428.823529                          -93.821720   \n1              -2132.647059                         -104.922820   \n2             -18767.647059                          -37.177064   \n3               3166.176471                           -8.764631   \n4              42379.411765                           83.800826   \n\n   Prev. Momentum (10)  Prev. Negative Directional Indicator (14)  \\\n0               -900.0                                  25.787872   \n1               -600.0                                  27.613998   \n2             -27000.0                                  24.617283   \n3               5500.0                                  19.230774   \n4              71000.0                                  15.715437   \n\n   Prev. Positive Directional Indicator (14)  \\\n0                                  15.463812   \n1                                  13.523388   \n2                                  21.691936   \n3                                  26.674162   \n4                                  26.036898   \n\n   Prev. Relative Strength Index (14)  Prev. Relative Strength Index (7)  \\\n0                           43.896063                          44.229610   \n1                           41.589914                          42.427225   \n2                           50.135902                          54.313322   \n3                           51.185101                          45.612159   \n4                           59.024928                          61.287250   \n\n   Prev. Stochastic %D (14, 3, 3)  Prev. Stochastic %K (14, 3, 3)  \n0                       12.254827                       17.102564  \n1                       11.358859                       15.743243  \n2                        9.784952                       16.510903  \n3                       50.156937                       47.269303  \n4                       82.810635                       81.099656  \n\n[5 rows x 302 columns]",
      "text/html": "<div>\n<style scoped>\n    .dataframe tbody tr th:only-of-type {\n        vertical-align: middle;\n    }\n\n    .dataframe tbody tr th {\n        vertical-align: top;\n    }\n\n    .dataframe thead th {\n        text-align: right;\n    }\n</style>\n<table border=\"1\" class=\"dataframe\">\n  <thead>\n    <tr style=\"text-align: right;\">\n      <th></th>\n      <th>Symbol</th>\n      <th>Name</th>\n      <th>Description</th>\n      <th>All Time High</th>\n      <th>All Time Low</th>\n      <th>All Time Performance</th>\n      <th>Aroon Down (14)</th>\n      <th>Aroon Up (14)</th>\n      <th>Average Day Range (14)</th>\n      <th>Average Directional Index (14)</th>\n      <th>...</th>\n      <th>Reco. VWMA</th>\n      <th>Prev. Awesome Oscillator</th>\n      <th>Prev. Commodity Channel Index (20)</th>\n      <th>Prev. Momentum (10)</th>\n      <th>Prev. Negative Directional Indicator (14)</th>\n      <th>Prev. Positive Directional Indicator (14)</th>\n      <th>Prev. Relative Strength Index (14)</th>\n      <th>Prev. Relative Strength Index (7)</th>\n      <th>Prev. Stochastic %D (14, 3, 3)</th>\n      <th>Prev. Stochastic %K (14, 3, 3)</th>\n    </tr>\n  </thead>\n  <tbody>\n    <tr>\n      <th>0</th>\n      <td>KRX:005930</td>\n      <td>005930</td>\n      <td>SAMSUNG ELEC</td>\n      <td>96800.000</td>\n      <td>261.7141</td>\n      <td>21383.422080</td>\n      <td>85.714286</td>\n      <td>35.714286</td>\n      <td>1485.714286</td>\n      <td>20.935984</td>\n      <td>...</td>\n      <td>-1</td>\n      <td>-2428.823529</td>\n      <td>-93.821720</td>\n      <td>-900.0</td>\n      <td>25.787872</td>\n      <td>15.463812</td>\n      <td>43.896063</td>\n      <td>44.229610</td>\n      <td>12.254827</td>\n      <td>17.102564</td>\n    </tr>\n    <tr>\n      <th>1</th>\n      <td>KRX:005935</td>\n      <td>005935</td>\n      <td>SAMSUNGELEC(1P)</td>\n      <td>86800.000</td>\n      <td>4200.0000</td>\n      <td>1234.123223</td>\n      <td>85.714286</td>\n      <td>0.000000</td>\n      <td>1064.285714</td>\n      <td>24.026038</td>\n      <td>...</td>\n      <td>-1</td>\n      <td>-2132.647059</td>\n      <td>-104.922820</td>\n      <td>-600.0</td>\n      <td>27.613998</td>\n      <td>13.523388</td>\n      <td>41.589914</td>\n      <td>42.427225</td>\n      <td>11.358859</td>\n      <td>15.743243</td>\n    </tr>\n    <tr>\n      <th>2</th>\n      <td>KRX:373220</td>\n      <td>373220</td>\n      <td>LG ENERGY SOLUTION</td>\n      <td>629000.000</td>\n      <td>352000.0000</td>\n      <td>-6.867672</td>\n      <td>78.571429</td>\n      <td>21.428571</td>\n      <td>23785.714286</td>\n      <td>12.497448</td>\n      <td>...</td>\n      <td>-1</td>\n      <td>-18767.647059</td>\n      <td>-37.177064</td>\n      <td>-27000.0</td>\n      <td>24.617283</td>\n      <td>21.691936</td>\n      <td>50.135902</td>\n      <td>54.313322</td>\n      <td>9.784952</td>\n      <td>16.510903</td>\n    </tr>\n    <tr>\n      <th>3</th>\n      <td>KRX:000660</td>\n      <td>000660</td>\n      <td>SK HYNIX</td>\n      <td>150500.000</td>\n      <td>5030.0000</td>\n      <td>1640.088106</td>\n      <td>21.428571</td>\n      <td>35.714286</td>\n      <td>4592.857143</td>\n      <td>22.356018</td>\n      <td>...</td>\n      <td>-1</td>\n      <td>3166.176471</td>\n      <td>-8.764631</td>\n      <td>5500.0</td>\n      <td>19.230774</td>\n      <td>26.674162</td>\n      <td>51.185101</td>\n      <td>45.612159</td>\n      <td>50.156937</td>\n      <td>47.269303</td>\n    </tr>\n    <tr>\n      <th>4</th>\n      <td>KRX:207940</td>\n      <td>207940</td>\n      <td>SAMSUNG BIOLOGICS</td>\n      <td>1036002.312</td>\n      <td>124181.7480</td>\n      <td>500.380471</td>\n      <td>21.428571</td>\n      <td>71.428571</td>\n      <td>21214.285714</td>\n      <td>21.016305</td>\n      <td>...</td>\n      <td>1</td>\n      <td>42379.411765</td>\n      <td>83.800826</td>\n      <td>71000.0</td>\n      <td>15.715437</td>\n      <td>26.036898</td>\n      <td>59.024928</td>\n      <td>61.287250</td>\n      <td>82.810635</td>\n      <td>81.099656</td>\n    </tr>\n  </tbody>\n</table>\n<p>5 rows × 302 columns</p>\n</div>"
     },
     "execution_count": 7,
     "metadata": {},
     "output_type": "execute_result"
    }
   ],
   "source": [
    "ss = tvs.StockScreener()\n",
    "ss.set_markets(StocksMarket.KOREA)\n",
    "df = ss.get()\n",
    "df.head()"
   ],
   "metadata": {
    "collapsed": false,
    "ExecuteTime": {
     "end_time": "2023-08-10T12:44:05.184364784Z",
     "start_time": "2023-08-10T12:44:04.382821611Z"
    }
   },
   "id": "7f6b8ff3f9bf5cf5"
  },
  {
   "cell_type": "code",
   "execution_count": 8,
   "outputs": [
    {
     "name": "stdout",
     "output_type": "stream",
     "text": [
      "['ALL', 'america', 'uk', 'india', 'spain', 'russia', 'australia', 'brazil', 'japan', 'newzealand', 'turkey', 'switzerland', 'hongkong', 'taiwan', 'netherlands', 'belgium', 'portugal', 'france', 'mexico', 'canada', 'colombia', 'uae', 'nigeria', 'singapore', 'germany', 'pakistan', 'peru', 'poland', 'italy', 'argentina', 'israel', 'egypt', 'srilanka', 'serbia', 'chile', 'china', 'malaysia', 'morocco', 'ksa', 'bahrain', 'qatar', 'indonesia', 'finland', 'iceland', 'denmark', 'romania', 'hungary', 'sweden', 'slovakia', 'lithuania', 'luxembourg', 'estonia', 'latvia', 'vietnam', 'rsa', 'thailand', 'tunisia', 'korea', 'kenya', 'kuwait', 'norway', 'philippines', 'greece', 'venezuela', 'cyprus', 'bangladesh']\n"
     ]
    }
   ],
   "source": [
    "# List the available stock markets\n",
    "print(StocksMarket.values())"
   ],
   "metadata": {
    "collapsed": false,
    "ExecuteTime": {
     "end_time": "2023-08-10T12:44:05.244311759Z",
     "start_time": "2023-08-10T12:44:05.184599612Z"
    }
   },
   "id": "3ed464ea6f5604b1"
  },
  {
   "cell_type": "markdown",
   "source": [
    "### Low level filter"
   ],
   "metadata": {
    "collapsed": false
   },
   "id": "9445a44e175d0a84"
  },
  {
   "cell_type": "code",
   "execution_count": 9,
   "outputs": [
    {
     "data": {
      "text/plain": "        Symbol  Name            Description  All Time High  All Time Low  \\\n0  NASDAQ:AAPL  AAPL             Apple Inc.     198.230000      0.049107   \n1  NASDAQ:MSFT  MSFT  Microsoft Corporation     366.780000      0.088543   \n2  NASDAQ:NVDA  NVDA     NVIDIA Corporation     480.880000      0.333335   \n3  NASDAQ:TSLA  TSLA            Tesla, Inc.     414.496252      0.998666   \n4     NYSE:LLY   LLY  Eli Lilly and Company     538.000000      2.039063   \n\n   All Time Performance  Aroon Down (14)  Aroon Up (14)  \\\n0         138733.483965       100.000000      35.714286   \n1         331333.919957       100.000000       0.000000   \n2          97165.841070       100.000000      35.714286   \n3          19020.288316       100.000000       0.000000   \n4          18636.421142        28.571429      92.857143   \n\n   Average Day Range (14)  Average Directional Index (14)  ...  Reco. VWMA  \\\n0                3.065736                       40.079355  ...          -1   \n1                6.875714                       15.697468  ...          -1   \n2               13.332879                       27.054978  ...          -1   \n3                9.404993                       23.365350  ...          -1   \n4                9.374421                       21.184836  ...           1   \n\n   Prev. Awesome Oscillator  Prev. Commodity Channel Index (20)  \\\n0                 -4.720749                         -230.936482   \n1                 -9.388162                         -120.951883   \n2                  5.990850                          -74.360714   \n3                -13.117041                         -127.023557   \n4                  9.112656                          503.933049   \n\n   Prev. Momentum (10)  Prev. Negative Directional Indicator (14)  \\\n0               -13.82                                  37.059393   \n1               -24.93                                  26.356568   \n2               -10.15                                  23.185145   \n3               -15.58                                  30.228938   \n4                64.06                                  10.747826   \n\n   Prev. Positive Directional Indicator (14)  \\\n0                                  14.543167   \n1                                  20.989642   \n2                                  23.696781   \n3                                  18.500734   \n4                                  55.594458   \n\n   Prev. Relative Strength Index (14)  Prev. Relative Strength Index (7)  \\\n0                           31.992621                          20.309959   \n1                           41.620562                          34.633610   \n2                           51.914409                          43.927989   \n3                           42.849362                          33.497846   \n4                           79.178076                          88.898617   \n\n   Prev. Stochastic %D (14, 3, 3)  Prev. Stochastic %K (14, 3, 3)  \n0                        8.336929                        6.651887  \n1                        5.696226                        8.199300  \n2                       30.921040                       35.446541  \n3                       12.583370                       13.486642  \n4                       35.312412                       46.336922  \n\n[5 rows x 302 columns]",
      "text/html": "<div>\n<style scoped>\n    .dataframe tbody tr th:only-of-type {\n        vertical-align: middle;\n    }\n\n    .dataframe tbody tr th {\n        vertical-align: top;\n    }\n\n    .dataframe thead th {\n        text-align: right;\n    }\n</style>\n<table border=\"1\" class=\"dataframe\">\n  <thead>\n    <tr style=\"text-align: right;\">\n      <th></th>\n      <th>Symbol</th>\n      <th>Name</th>\n      <th>Description</th>\n      <th>All Time High</th>\n      <th>All Time Low</th>\n      <th>All Time Performance</th>\n      <th>Aroon Down (14)</th>\n      <th>Aroon Up (14)</th>\n      <th>Average Day Range (14)</th>\n      <th>Average Directional Index (14)</th>\n      <th>...</th>\n      <th>Reco. VWMA</th>\n      <th>Prev. Awesome Oscillator</th>\n      <th>Prev. Commodity Channel Index (20)</th>\n      <th>Prev. Momentum (10)</th>\n      <th>Prev. Negative Directional Indicator (14)</th>\n      <th>Prev. Positive Directional Indicator (14)</th>\n      <th>Prev. Relative Strength Index (14)</th>\n      <th>Prev. Relative Strength Index (7)</th>\n      <th>Prev. Stochastic %D (14, 3, 3)</th>\n      <th>Prev. Stochastic %K (14, 3, 3)</th>\n    </tr>\n  </thead>\n  <tbody>\n    <tr>\n      <th>0</th>\n      <td>NASDAQ:AAPL</td>\n      <td>AAPL</td>\n      <td>Apple Inc.</td>\n      <td>198.230000</td>\n      <td>0.049107</td>\n      <td>138733.483965</td>\n      <td>100.000000</td>\n      <td>35.714286</td>\n      <td>3.065736</td>\n      <td>40.079355</td>\n      <td>...</td>\n      <td>-1</td>\n      <td>-4.720749</td>\n      <td>-230.936482</td>\n      <td>-13.82</td>\n      <td>37.059393</td>\n      <td>14.543167</td>\n      <td>31.992621</td>\n      <td>20.309959</td>\n      <td>8.336929</td>\n      <td>6.651887</td>\n    </tr>\n    <tr>\n      <th>1</th>\n      <td>NASDAQ:MSFT</td>\n      <td>MSFT</td>\n      <td>Microsoft Corporation</td>\n      <td>366.780000</td>\n      <td>0.088543</td>\n      <td>331333.919957</td>\n      <td>100.000000</td>\n      <td>0.000000</td>\n      <td>6.875714</td>\n      <td>15.697468</td>\n      <td>...</td>\n      <td>-1</td>\n      <td>-9.388162</td>\n      <td>-120.951883</td>\n      <td>-24.93</td>\n      <td>26.356568</td>\n      <td>20.989642</td>\n      <td>41.620562</td>\n      <td>34.633610</td>\n      <td>5.696226</td>\n      <td>8.199300</td>\n    </tr>\n    <tr>\n      <th>2</th>\n      <td>NASDAQ:NVDA</td>\n      <td>NVDA</td>\n      <td>NVIDIA Corporation</td>\n      <td>480.880000</td>\n      <td>0.333335</td>\n      <td>97165.841070</td>\n      <td>100.000000</td>\n      <td>35.714286</td>\n      <td>13.332879</td>\n      <td>27.054978</td>\n      <td>...</td>\n      <td>-1</td>\n      <td>5.990850</td>\n      <td>-74.360714</td>\n      <td>-10.15</td>\n      <td>23.185145</td>\n      <td>23.696781</td>\n      <td>51.914409</td>\n      <td>43.927989</td>\n      <td>30.921040</td>\n      <td>35.446541</td>\n    </tr>\n    <tr>\n      <th>3</th>\n      <td>NASDAQ:TSLA</td>\n      <td>TSLA</td>\n      <td>Tesla, Inc.</td>\n      <td>414.496252</td>\n      <td>0.998666</td>\n      <td>19020.288316</td>\n      <td>100.000000</td>\n      <td>0.000000</td>\n      <td>9.404993</td>\n      <td>23.365350</td>\n      <td>...</td>\n      <td>-1</td>\n      <td>-13.117041</td>\n      <td>-127.023557</td>\n      <td>-15.58</td>\n      <td>30.228938</td>\n      <td>18.500734</td>\n      <td>42.849362</td>\n      <td>33.497846</td>\n      <td>12.583370</td>\n      <td>13.486642</td>\n    </tr>\n    <tr>\n      <th>4</th>\n      <td>NYSE:LLY</td>\n      <td>LLY</td>\n      <td>Eli Lilly and Company</td>\n      <td>538.000000</td>\n      <td>2.039063</td>\n      <td>18636.421142</td>\n      <td>28.571429</td>\n      <td>92.857143</td>\n      <td>9.374421</td>\n      <td>21.184836</td>\n      <td>...</td>\n      <td>1</td>\n      <td>9.112656</td>\n      <td>503.933049</td>\n      <td>64.06</td>\n      <td>10.747826</td>\n      <td>55.594458</td>\n      <td>79.178076</td>\n      <td>88.898617</td>\n      <td>35.312412</td>\n      <td>46.336922</td>\n    </tr>\n  </tbody>\n</table>\n<p>5 rows × 302 columns</p>\n</div>"
     },
     "execution_count": 9,
     "metadata": {},
     "output_type": "execute_result"
    }
   ],
   "source": [
    "from tvscreener.filter import FilterOperator\n",
    "\n",
    "ss = tvs.StockScreener()\n",
    "ss.add_filter(StockField.RELATIVE_STRENGTH_INDEX_7, FilterOperator.NOT_IN_RANGE, [30, 70])\n",
    "df = ss.get()\n",
    "df.head()"
   ],
   "metadata": {
    "collapsed": false,
    "ExecuteTime": {
     "end_time": "2023-08-10T12:44:05.776472630Z",
     "start_time": "2023-08-10T12:44:05.231624279Z"
    }
   },
   "id": "e6fb33b84475de00"
  },
  {
   "cell_type": "markdown",
   "source": [
    "## Time intervals"
   ],
   "metadata": {
    "collapsed": false
   },
   "id": "aa9b0e3605524ae9"
  },
  {
   "cell_type": "code",
   "execution_count": 10,
   "outputs": [
    {
     "data": {
      "text/plain": "         Symbol   Name            Description  All Time High  All Time Low  \\\n0   NASDAQ:AAPL   AAPL             Apple Inc.     198.230000      0.049107   \n1   NASDAQ:MSFT   MSFT  Microsoft Corporation     366.780000      0.088543   \n2  NASDAQ:GOOGL  GOOGL          Alphabet Inc.     151.546575      2.401327   \n3   NASDAQ:GOOG   GOOG          Alphabet Inc.     152.100000     24.312350   \n4   NASDAQ:AMZN   AMZN       Amazon.com, Inc.     188.653910      0.065624   \n\n   All Time Performance  Aroon Down (14)  Aroon Up (14)  \\\n0         138733.483965        35.714286      14.285714   \n1         331333.919957        35.714286      14.285714   \n2           5080.856484        42.857143      14.285714   \n3            359.512111        42.857143      14.285714   \n4         113008.620378        42.857143      14.285714   \n\n   Average Day Range (14)  Average Directional Index (14)  ...  Reco. VWMA  \\\n0                0.849836                       29.248891  ...          -1   \n1                1.551843                       18.427691  ...          -1   \n2                0.737057                       13.315354  ...           1   \n3                0.738307                       13.276180  ...           1   \n4                0.802679                       18.165424  ...           1   \n\n   Prev. Awesome Oscillator  Prev. Commodity Channel Index (20)  \\\n0                  0.280190                           35.422698   \n1                 -1.196241                           32.359973   \n2                 -0.257365                          -53.128313   \n3                 -0.211257                          -51.509480   \n4                 -1.069162                          -17.286483   \n\n   Prev. Momentum (10)  Prev. Negative Directional Indicator (14)  \\\n0               0.3385                                  25.689519   \n1               0.4300                                  21.510074   \n2              -0.8600                                  24.340284   \n3              -0.8200                                  23.618319   \n4              -0.2999                                  25.024265   \n\n   Prev. Positive Directional Indicator (14)  \\\n0                                  23.371629   \n1                                  19.455621   \n2                                  22.185998   \n3                                  22.343815   \n4                                  20.640663   \n\n   Prev. Relative Strength Index (14)  Prev. Relative Strength Index (7)  \\\n0                           48.619925                          58.448403   \n1                           47.732551                          55.856536   \n2                           48.844697                          47.881114   \n3                           49.035066                          47.880517   \n4                           48.847059                          52.964765   \n\n   Prev. Stochastic %D (14, 3, 3)  Prev. Stochastic %K (14, 3, 3)  \n0                       51.449546                       54.889456  \n1                       59.956656                       62.486868  \n2                       54.586988                       53.618421  \n3                       56.999813                       55.567173  \n4                       48.959282                       53.830228  \n\n[5 rows x 303 columns]",
      "text/html": "<div>\n<style scoped>\n    .dataframe tbody tr th:only-of-type {\n        vertical-align: middle;\n    }\n\n    .dataframe tbody tr th {\n        vertical-align: top;\n    }\n\n    .dataframe thead th {\n        text-align: right;\n    }\n</style>\n<table border=\"1\" class=\"dataframe\">\n  <thead>\n    <tr style=\"text-align: right;\">\n      <th></th>\n      <th>Symbol</th>\n      <th>Name</th>\n      <th>Description</th>\n      <th>All Time High</th>\n      <th>All Time Low</th>\n      <th>All Time Performance</th>\n      <th>Aroon Down (14)</th>\n      <th>Aroon Up (14)</th>\n      <th>Average Day Range (14)</th>\n      <th>Average Directional Index (14)</th>\n      <th>...</th>\n      <th>Reco. VWMA</th>\n      <th>Prev. Awesome Oscillator</th>\n      <th>Prev. Commodity Channel Index (20)</th>\n      <th>Prev. Momentum (10)</th>\n      <th>Prev. Negative Directional Indicator (14)</th>\n      <th>Prev. Positive Directional Indicator (14)</th>\n      <th>Prev. Relative Strength Index (14)</th>\n      <th>Prev. Relative Strength Index (7)</th>\n      <th>Prev. Stochastic %D (14, 3, 3)</th>\n      <th>Prev. Stochastic %K (14, 3, 3)</th>\n    </tr>\n  </thead>\n  <tbody>\n    <tr>\n      <th>0</th>\n      <td>NASDAQ:AAPL</td>\n      <td>AAPL</td>\n      <td>Apple Inc.</td>\n      <td>198.230000</td>\n      <td>0.049107</td>\n      <td>138733.483965</td>\n      <td>35.714286</td>\n      <td>14.285714</td>\n      <td>0.849836</td>\n      <td>29.248891</td>\n      <td>...</td>\n      <td>-1</td>\n      <td>0.280190</td>\n      <td>35.422698</td>\n      <td>0.3385</td>\n      <td>25.689519</td>\n      <td>23.371629</td>\n      <td>48.619925</td>\n      <td>58.448403</td>\n      <td>51.449546</td>\n      <td>54.889456</td>\n    </tr>\n    <tr>\n      <th>1</th>\n      <td>NASDAQ:MSFT</td>\n      <td>MSFT</td>\n      <td>Microsoft Corporation</td>\n      <td>366.780000</td>\n      <td>0.088543</td>\n      <td>331333.919957</td>\n      <td>35.714286</td>\n      <td>14.285714</td>\n      <td>1.551843</td>\n      <td>18.427691</td>\n      <td>...</td>\n      <td>-1</td>\n      <td>-1.196241</td>\n      <td>32.359973</td>\n      <td>0.4300</td>\n      <td>21.510074</td>\n      <td>19.455621</td>\n      <td>47.732551</td>\n      <td>55.856536</td>\n      <td>59.956656</td>\n      <td>62.486868</td>\n    </tr>\n    <tr>\n      <th>2</th>\n      <td>NASDAQ:GOOGL</td>\n      <td>GOOGL</td>\n      <td>Alphabet Inc.</td>\n      <td>151.546575</td>\n      <td>2.401327</td>\n      <td>5080.856484</td>\n      <td>42.857143</td>\n      <td>14.285714</td>\n      <td>0.737057</td>\n      <td>13.315354</td>\n      <td>...</td>\n      <td>1</td>\n      <td>-0.257365</td>\n      <td>-53.128313</td>\n      <td>-0.8600</td>\n      <td>24.340284</td>\n      <td>22.185998</td>\n      <td>48.844697</td>\n      <td>47.881114</td>\n      <td>54.586988</td>\n      <td>53.618421</td>\n    </tr>\n    <tr>\n      <th>3</th>\n      <td>NASDAQ:GOOG</td>\n      <td>GOOG</td>\n      <td>Alphabet Inc.</td>\n      <td>152.100000</td>\n      <td>24.312350</td>\n      <td>359.512111</td>\n      <td>42.857143</td>\n      <td>14.285714</td>\n      <td>0.738307</td>\n      <td>13.276180</td>\n      <td>...</td>\n      <td>1</td>\n      <td>-0.211257</td>\n      <td>-51.509480</td>\n      <td>-0.8200</td>\n      <td>23.618319</td>\n      <td>22.343815</td>\n      <td>49.035066</td>\n      <td>47.880517</td>\n      <td>56.999813</td>\n      <td>55.567173</td>\n    </tr>\n    <tr>\n      <th>4</th>\n      <td>NASDAQ:AMZN</td>\n      <td>AMZN</td>\n      <td>Amazon.com, Inc.</td>\n      <td>188.653910</td>\n      <td>0.065624</td>\n      <td>113008.620378</td>\n      <td>42.857143</td>\n      <td>14.285714</td>\n      <td>0.802679</td>\n      <td>18.165424</td>\n      <td>...</td>\n      <td>1</td>\n      <td>-1.069162</td>\n      <td>-17.286483</td>\n      <td>-0.2999</td>\n      <td>25.024265</td>\n      <td>20.640663</td>\n      <td>48.847059</td>\n      <td>52.964765</td>\n      <td>48.959282</td>\n      <td>53.830228</td>\n    </tr>\n  </tbody>\n</table>\n<p>5 rows × 303 columns</p>\n</div>"
     },
     "execution_count": 10,
     "metadata": {},
     "output_type": "execute_result"
    }
   ],
   "source": [
    "ss = tvs.StockScreener()\n",
    "df = ss.get(tvs.TimeInterval.THIRTY_MINUTES)\n",
    "df.head()"
   ],
   "metadata": {
    "collapsed": false,
    "ExecuteTime": {
     "end_time": "2023-08-10T12:44:06.735872939Z",
     "start_time": "2023-08-10T12:44:05.777515298Z"
    }
   },
   "id": "8864827cc8cc60d8"
  },
  {
   "cell_type": "markdown",
   "source": [
    "## Debugging"
   ],
   "metadata": {
    "collapsed": false
   },
   "id": "4afe73932d662204"
  },
  {
   "cell_type": "code",
   "execution_count": 11,
   "outputs": [
    {
     "name": "stdout",
     "output_type": "stream",
     "text": [
      "Request: https://scanner.tradingview.com/global/scan\n",
      "Payload:\n",
      "{\n",
      "    \"filter\": [],\n",
      "    \"options\": {\n",
      "        \"lang\": \"en\"\n",
      "    },\n",
      "    \"symbols\": {\n",
      "        \"query\": {\n",
      "            \"types\": []\n",
      "        },\n",
      "        \"tickers\": []\n",
      "    },\n",
      "    \"sort\": {\n",
      "        \"sortBy\": \"market_cap_basic\",\n",
      "        \"sortOrder\": \"desc\"\n",
      "    },\n",
      "    \"range\": [\n",
      "        0,\n",
      "        150\n",
      "    ],\n",
      "    \"columns\": [\n",
      "        \"High.All\",\n",
      "        \"Low.All\",\n",
      "        \"Perf.All\",\n",
      "        \"Aroon.Down\",\n",
      "        \"Aroon.Up\",\n",
      "        \"ADR\",\n",
      "        \"ADX\",\n",
      "        \"ATR\",\n",
      "        \"average_volume_10d_calc\",\n",
      "        \"average_volume_30d_calc\",\n",
      "        \"average_volume_60d_calc\",\n",
      "        \"average_volume_90d_calc\",\n",
      "        \"AO\",\n",
      "        \"basic_eps_net_income\",\n",
      "        \"earnings_per_share_basic_ttm\",\n",
      "        \"BB.lower\",\n",
      "        \"BB.upper\",\n",
      "        \"BBPower\",\n",
      "        \"Candle.3BlackCrows\",\n",
      "        \"Candle.3WhiteSoldiers\",\n",
      "        \"Candle.AbandonedBaby.Bearish\",\n",
      "        \"Candle.AbandonedBaby.Bullish\",\n",
      "        \"Candle.Doji\",\n",
      "        \"Candle.Doji.Dragonfly\",\n",
      "        \"Candle.Doji.Gravestone\",\n",
      "        \"Candle.Engulfing.Bearish\",\n",
      "        \"Candle.Engulfing.Bullish\",\n",
      "        \"Candle.EveningStar\",\n",
      "        \"Candle.Hammer\",\n",
      "        \"Candle.HangingMan\",\n",
      "        \"Candle.Harami.Bearish\",\n",
      "        \"Candle.Harami.Bullish\",\n",
      "        \"Candle.InvertedHammer\",\n",
      "        \"Candle.Kicking.Bearish\",\n",
      "        \"Candle.Kicking.Bullish\",\n",
      "        \"Candle.LongShadow.Lower\",\n",
      "        \"Candle.LongShadow.Upper\",\n",
      "        \"Candle.Marubozu.Black\",\n",
      "        \"Candle.Marubozu.White\",\n",
      "        \"Candle.MorningStar\",\n",
      "        \"Candle.ShootingStar\",\n",
      "        \"Candle.SpinningTop.Black\",\n",
      "        \"Candle.SpinningTop.White\",\n",
      "        \"Candle.TriStar.Bearish\",\n",
      "        \"Candle.TriStar.Bullish\",\n",
      "        \"cash_n_equivalents_fy\",\n",
      "        \"cash_n_equivalents_fq\",\n",
      "        \"cash_n_short_term_invest_fy\",\n",
      "        \"cash_n_short_term_invest_fq\",\n",
      "        \"ChaikinMoneyFlow\",\n",
      "        \"change_abs\",\n",
      "        \"change_abs|15\",\n",
      "        \"change|15\",\n",
      "        \"change_abs|60\",\n",
      "        \"change|60\",\n",
      "        \"change_abs|1\",\n",
      "        \"change_abs|1M\",\n",
      "        \"change|1\",\n",
      "        \"change|1M\",\n",
      "        \"change_abs|1W\",\n",
      "        \"change|1W\",\n",
      "        \"change_abs|240\",\n",
      "        \"change|240\",\n",
      "        \"change_abs|5\",\n",
      "        \"change|5\",\n",
      "        \"change_from_open_abs\",\n",
      "        \"change_from_open\",\n",
      "        \"change\",\n",
      "        \"CCI20\",\n",
      "        \"country\",\n",
      "        \"currency\",\n",
      "        \"current_ratio\",\n",
      "        \"debt_to_equity\",\n",
      "        \"description\",\n",
      "        \"dividends_paid\",\n",
      "        \"dps_common_stock_prim_issue_yoy_growth_fy\",\n",
      "        \"dps_common_stock_prim_issue_fy\",\n",
      "        \"dividends_per_share_fq\",\n",
      "        \"dividend_yield_recent\",\n",
      "        \"DonchCh20.Lower\",\n",
      "        \"DonchCh20.Upper\",\n",
      "        \"ebitda_yoy_growth_fy\",\n",
      "        \"ebitda_qoq_growth_fq\",\n",
      "        \"ebitda_yoy_growth_fq\",\n",
      "        \"ebitda\",\n",
      "        \"ebitda_yoy_growth_ttm\",\n",
      "        \"enterprise_value_ebitda_ttm\",\n",
      "        \"enterprise_value_fq\",\n",
      "        \"earnings_per_share_diluted_yoy_growth_fy\",\n",
      "        \"last_annual_eps\",\n",
      "        \"earnings_per_share_fq\",\n",
      "        \"earnings_per_share_diluted_qoq_growth_fq\",\n",
      "        \"earnings_per_share_diluted_yoy_growth_fq\",\n",
      "        \"earnings_per_share_diluted_ttm\",\n",
      "        \"earnings_per_share_diluted_yoy_growth_ttm\",\n",
      "        \"earnings_per_share_forecast_next_fq\",\n",
      "        \"exchange\",\n",
      "        \"EMA10\",\n",
      "        \"EMA100\",\n",
      "        \"EMA20\",\n",
      "        \"EMA200\",\n",
      "        \"EMA30\",\n",
      "        \"EMA5\",\n",
      "        \"EMA50\",\n",
      "        \"free_cash_flow_yoy_growth_fy\",\n",
      "        \"free_cash_flow_margin_fy\",\n",
      "        \"free_cash_flow_margin_ttm\",\n",
      "        \"free_cash_flow_qoq_growth_fq\",\n",
      "        \"free_cash_flow_yoy_growth_fq\",\n",
      "        \"free_cash_flow_yoy_growth_ttm\",\n",
      "        \"fundamental_currency_code\",\n",
      "        \"gap\",\n",
      "        \"goodwill\",\n",
      "        \"gross_profit_margin_fy\",\n",
      "        \"gross_margin\",\n",
      "        \"gross_profit_yoy_growth_fy\",\n",
      "        \"gross_profit\",\n",
      "        \"gross_profit_fq\",\n",
      "        \"gross_profit_qoq_growth_fq\",\n",
      "        \"gross_profit_yoy_growth_fq\",\n",
      "        \"gross_profit_yoy_growth_ttm\",\n",
      "        \"high\",\n",
      "        \"HullMA9\",\n",
      "        \"Ichimoku.BLine\",\n",
      "        \"Ichimoku.CLine\",\n",
      "        \"Ichimoku.Lead1\",\n",
      "        \"Ichimoku.Lead2\",\n",
      "        \"industry\",\n",
      "        \"KltChnl.lower\",\n",
      "        \"KltChnl.upper\",\n",
      "        \"last_annual_revenue\",\n",
      "        \"logoid\",\n",
      "        \"low\",\n",
      "        \"MACD.macd\",\n",
      "        \"MACD.signal\",\n",
      "        \"market_cap_basic\",\n",
      "        \"Mom\",\n",
      "        \"MoneyFlow\",\n",
      "        \"Perf.1M\",\n",
      "        \"High.1M\",\n",
      "        \"High.3M\",\n",
      "        \"High.6M\",\n",
      "        \"Low.1M\",\n",
      "        \"Low.3M\",\n",
      "        \"Low.6M\",\n",
      "        \"Perf.3M\",\n",
      "        \"Perf.6M\",\n",
      "        \"Recommend.MA\",\n",
      "        \"name\",\n",
      "        \"ADX-DI\",\n",
      "        \"net_debt\",\n",
      "        \"net_income_yoy_growth_fy\",\n",
      "        \"net_income\",\n",
      "        \"net_income_qoq_growth_fq\",\n",
      "        \"net_income_yoy_growth_fq\",\n",
      "        \"net_income_yoy_growth_ttm\",\n",
      "        \"net_income_bef_disc_oper_margin_fy\",\n",
      "        \"after_tax_margin\",\n",
      "        \"number_of_employees\",\n",
      "        \"number_of_shareholders\",\n",
      "        \"open\",\n",
      "        \"oper_income_margin_fy\",\n",
      "        \"operating_margin\",\n",
      "        \"Recommend.Other\",\n",
      "        \"P.SAR\",\n",
      "        \"Pivot.M.Camarilla.Middle\",\n",
      "        \"Pivot.M.Camarilla.R1\",\n",
      "        \"Pivot.M.Camarilla.R2\",\n",
      "        \"Pivot.M.Camarilla.R3\",\n",
      "        \"Pivot.M.Camarilla.S1\",\n",
      "        \"Pivot.M.Camarilla.S2\",\n",
      "        \"Pivot.M.Camarilla.S3\",\n",
      "        \"Pivot.M.Classic.Middle\",\n",
      "        \"Pivot.M.Classic.R1\",\n",
      "        \"Pivot.M.Classic.R2\",\n",
      "        \"Pivot.M.Classic.R3\",\n",
      "        \"Pivot.M.Classic.S1\",\n",
      "        \"Pivot.M.Classic.S2\",\n",
      "        \"Pivot.M.Classic.S3\",\n",
      "        \"Pivot.M.Demark.Middle\",\n",
      "        \"Pivot.M.Demark.R1\",\n",
      "        \"Pivot.M.Demark.S1\",\n",
      "        \"Pivot.M.Fibonacci.Middle\",\n",
      "        \"Pivot.M.Fibonacci.R1\",\n",
      "        \"Pivot.M.Fibonacci.R2\",\n",
      "        \"Pivot.M.Fibonacci.R3\",\n",
      "        \"Pivot.M.Fibonacci.S1\",\n",
      "        \"Pivot.M.Fibonacci.S2\",\n",
      "        \"Pivot.M.Fibonacci.S3\",\n",
      "        \"Pivot.M.Woodie.Middle\",\n",
      "        \"Pivot.M.Woodie.R1\",\n",
      "        \"Pivot.M.Woodie.R2\",\n",
      "        \"Pivot.M.Woodie.R3\",\n",
      "        \"Pivot.M.Woodie.S1\",\n",
      "        \"Pivot.M.Woodie.S2\",\n",
      "        \"Pivot.M.Woodie.S3\",\n",
      "        \"ADX+DI\",\n",
      "        \"postmarket_change_abs\",\n",
      "        \"postmarket_change\",\n",
      "        \"postmarket_close\",\n",
      "        \"postmarket_high\",\n",
      "        \"postmarket_low\",\n",
      "        \"postmarket_open\",\n",
      "        \"postmarket_volume\",\n",
      "        \"premarket_change_abs\",\n",
      "        \"premarket_change_from_open_abs\",\n",
      "        \"premarket_change_from_open\",\n",
      "        \"premarket_change\",\n",
      "        \"premarket_close\",\n",
      "        \"premarket_gap\",\n",
      "        \"premarket_high\",\n",
      "        \"premarket_low\",\n",
      "        \"premarket_open\",\n",
      "        \"premarket_volume\",\n",
      "        \"pre_tax_margin\",\n",
      "        \"close\",\n",
      "        \"price_book_ratio\",\n",
      "        \"price_book_fq\",\n",
      "        \"price_earnings_ttm\",\n",
      "        \"price_free_cash_flow_ttm\",\n",
      "        \"price_revenue_ttm\",\n",
      "        \"price_sales_ratio\",\n",
      "        \"quick_ratio\",\n",
      "        \"ROC\",\n",
      "        \"earnings_release_date\",\n",
      "        \"RSI\",\n",
      "        \"RSI7\",\n",
      "        \"relative_volume_10d_calc\",\n",
      "        \"relative_volume_intraday|5\",\n",
      "        \"research_and_dev_ratio_fy\",\n",
      "        \"research_and_dev_ratio_ttm\",\n",
      "        \"return_on_assets\",\n",
      "        \"return_on_equity\",\n",
      "        \"return_on_invested_capital\",\n",
      "        \"total_revenue_yoy_growth_fy\",\n",
      "        \"revenue_per_employee\",\n",
      "        \"total_revenue_qoq_growth_fq\",\n",
      "        \"total_revenue_yoy_growth_fq\",\n",
      "        \"total_revenue_yoy_growth_ttm\",\n",
      "        \"sector\",\n",
      "        \"sell_gen_admin_exp_other_ratio_fy\",\n",
      "        \"sell_gen_admin_exp_other_ratio_ttm\",\n",
      "        \"float_shares_outstanding\",\n",
      "        \"SMA10\",\n",
      "        \"SMA100\",\n",
      "        \"SMA20\",\n",
      "        \"SMA200\",\n",
      "        \"SMA30\",\n",
      "        \"SMA5\",\n",
      "        \"SMA50\",\n",
      "        \"Stoch.D\",\n",
      "        \"Stoch.K\",\n",
      "        \"Stoch.RSI.K\",\n",
      "        \"Stoch.RSI.D\",\n",
      "        \"submarket\",\n",
      "        \"subtype\",\n",
      "        \"Recommend.All\",\n",
      "        \"total_assets_yoy_growth_fy\",\n",
      "        \"total_assets\",\n",
      "        \"total_assets_qoq_growth_fq\",\n",
      "        \"total_assets_yoy_growth_fq\",\n",
      "        \"total_current_assets\",\n",
      "        \"total_debt_yoy_growth_fy\",\n",
      "        \"total_debt\",\n",
      "        \"total_debt_qoq_growth_fq\",\n",
      "        \"total_debt_yoy_growth_fq\",\n",
      "        \"total_liabilities_fy\",\n",
      "        \"total_liabilities_fq\",\n",
      "        \"total_revenue\",\n",
      "        \"total_shares_outstanding_fundamental\",\n",
      "        \"type\",\n",
      "        \"UO\",\n",
      "        \"earnings_release_next_date\",\n",
      "        \"Volatility.D\",\n",
      "        \"Volatility.M\",\n",
      "        \"Volatility.W\",\n",
      "        \"volume\",\n",
      "        \"Value.Traded\",\n",
      "        \"VWAP\",\n",
      "        \"VWMA\",\n",
      "        \"Perf.W\",\n",
      "        \"price_52_week_high\",\n",
      "        \"price_52_week_low\",\n",
      "        \"W.R\",\n",
      "        \"Perf.Y\",\n",
      "        \"beta_1_year\",\n",
      "        \"Perf.YTD\",\n",
      "        \"Perf.5Y\",\n",
      "        \"Rec.BBPower\",\n",
      "        \"Rec.HullMA9\",\n",
      "        \"Rec.UO\",\n",
      "        \"Rec.VWMA\",\n",
      "        \"AO[1]\",\n",
      "        \"CCI20[1]\",\n",
      "        \"Mom[1]\",\n",
      "        \"ADX-DI[1]\",\n",
      "        \"ADX+DI[1]\",\n",
      "        \"RSI[1]\",\n",
      "        \"RSI7[1]\",\n",
      "        \"Stoch.D[1]\",\n",
      "        \"Stoch.K[1]\"\n",
      "    ],\n",
      "    \"markets\": [\n",
      "        \"america\"\n",
      "    ]\n",
      "}\n"
     ]
    },
    {
     "data": {
      "text/plain": "           Symbol   Name                  Description  All Time High  \\\n0     NASDAQ:AAPL   AAPL                   Apple Inc.     198.230000   \n1     NASDAQ:MSFT   MSFT        Microsoft Corporation     366.780000   \n2    NASDAQ:GOOGL  GOOGL                Alphabet Inc.     151.546575   \n3     NASDAQ:GOOG   GOOG                Alphabet Inc.     152.100000   \n4     NASDAQ:AMZN   AMZN             Amazon.com, Inc.     188.653910   \n..            ...    ...                          ...            ...   \n145   NASDAQ:INTU   INTU                  Intuit Inc.     716.860000   \n146   NASDAQ:AMGN   AMGN                   Amgen Inc.     296.670000   \n147       NYSE:VZ     VZ  Verizon Communications Inc.      63.997594   \n148    NASDAQ:SNY    SNY                       Sanofi      58.100000   \n149       NYSE:RY     RY         Royal Bank Of Canada     119.410000   \n\n     All Time Low  All Time Performance  Aroon Down (14)  Aroon Up (14)  \\\n0        0.049107         138733.483965       100.000000      35.714286   \n1        0.088543         331333.919957       100.000000       0.000000   \n2        2.401327           5080.856484         0.000000      42.857143   \n3       24.312350            359.512111         0.000000      42.857143   \n4        0.065624         113008.620378        28.571429      78.571429   \n..            ...                   ...              ...            ...   \n145      1.999980          21574.396198        14.285714      50.000000   \n146      0.078124          75339.203833        71.428571      92.857143   \n147      7.481733            304.524991        85.714286      21.428571   \n148     22.530000             74.491803        71.428571       7.142857   \n149      5.125000           1551.826087        92.857143      14.285714   \n\n     Average Day Range (14)  Average Directional Index (14)  ...  Reco. VWMA  \\\n0                  3.065736                       40.079355  ...          -1   \n1                  6.875714                       15.697468  ...          -1   \n2                  2.576786                       21.021282  ...           1   \n3                  2.574643                       19.905580  ...           1   \n4                  3.053221                       21.411278  ...           1   \n..                      ...                             ...  ...         ...   \n145                9.613214                       28.226034  ...          -1   \n146                4.704136                       28.098042  ...           1   \n147                0.682857                       31.898218  ...          -1   \n148                0.646371                       16.601899  ...           1   \n149                1.079286                       20.007005  ...          -1   \n\n     Prev. Awesome Oscillator  Prev. Commodity Channel Index (20)  \\\n0                   -4.720749                         -230.936482   \n1                   -9.388162                         -120.951883   \n2                    5.906360                           72.958312   \n3                    5.743768                           74.928140   \n4                    4.556238                          149.672333   \n..                        ...                                 ...   \n145                 20.316662                           18.746156   \n146                 11.973362                          329.869005   \n147                 -1.869425                         -104.652281   \n148                 -1.330594                          -33.354018   \n149                 -0.498243                         -153.194506   \n\n     Prev. Momentum (10)  Prev. Negative Directional Indicator (14)  \\\n0                 -13.82                                  37.059393   \n1                 -24.93                                  26.356568   \n2                   9.19                                  17.483541   \n3                   9.05                                  17.902277   \n4                  10.81                                  19.321047   \n..                   ...                                        ...   \n145                 4.34                                  20.374244   \n146                25.49                                  11.895949   \n147                -1.67                                  31.145517   \n148                -1.11                                  42.701596   \n149                -3.70                                  32.276024   \n\n     Prev. Positive Directional Indicator (14)  \\\n0                                    14.543167   \n1                                    20.989642   \n2                                    27.917242   \n3                                    27.931277   \n4                                    35.171936   \n..                                         ...   \n145                                  24.277430   \n146                                  50.174659   \n147                                  11.878362   \n148                                  32.062266   \n149                                  21.427547   \n\n     Prev. Relative Strength Index (14)  Prev. Relative Strength Index (7)  \\\n0                             31.992621                          20.309959   \n1                             41.620562                          34.633610   \n2                             63.031565                          66.112989   \n3                             62.822280                          66.262130   \n4                             63.522413                          66.884776   \n..                                  ...                                ...   \n145                           60.301132                          54.781562   \n146                           81.578389                          89.422508   \n147                           35.866167                          29.814110   \n148                           49.575508                          51.734317   \n149                           41.370824                          30.154933   \n\n     Prev. Stochastic %D (14, 3, 3)  Prev. Stochastic %K (14, 3, 3)  \n0                          8.336929                        6.651887  \n1                          5.696226                        8.199300  \n2                         71.656644                       78.135739  \n3                         71.754595                       78.572202  \n4                         63.325131                       82.572298  \n..                              ...                             ...  \n145                       51.153791                       53.496338  \n146                       74.237975                       90.550436  \n147                       28.773679                       16.219283  \n148                       30.765170                       42.933333  \n149                       10.526930                       13.909854  \n\n[150 rows x 302 columns]",
      "text/html": "<div>\n<style scoped>\n    .dataframe tbody tr th:only-of-type {\n        vertical-align: middle;\n    }\n\n    .dataframe tbody tr th {\n        vertical-align: top;\n    }\n\n    .dataframe thead th {\n        text-align: right;\n    }\n</style>\n<table border=\"1\" class=\"dataframe\">\n  <thead>\n    <tr style=\"text-align: right;\">\n      <th></th>\n      <th>Symbol</th>\n      <th>Name</th>\n      <th>Description</th>\n      <th>All Time High</th>\n      <th>All Time Low</th>\n      <th>All Time Performance</th>\n      <th>Aroon Down (14)</th>\n      <th>Aroon Up (14)</th>\n      <th>Average Day Range (14)</th>\n      <th>Average Directional Index (14)</th>\n      <th>...</th>\n      <th>Reco. VWMA</th>\n      <th>Prev. Awesome Oscillator</th>\n      <th>Prev. Commodity Channel Index (20)</th>\n      <th>Prev. Momentum (10)</th>\n      <th>Prev. Negative Directional Indicator (14)</th>\n      <th>Prev. Positive Directional Indicator (14)</th>\n      <th>Prev. Relative Strength Index (14)</th>\n      <th>Prev. Relative Strength Index (7)</th>\n      <th>Prev. Stochastic %D (14, 3, 3)</th>\n      <th>Prev. Stochastic %K (14, 3, 3)</th>\n    </tr>\n  </thead>\n  <tbody>\n    <tr>\n      <th>0</th>\n      <td>NASDAQ:AAPL</td>\n      <td>AAPL</td>\n      <td>Apple Inc.</td>\n      <td>198.230000</td>\n      <td>0.049107</td>\n      <td>138733.483965</td>\n      <td>100.000000</td>\n      <td>35.714286</td>\n      <td>3.065736</td>\n      <td>40.079355</td>\n      <td>...</td>\n      <td>-1</td>\n      <td>-4.720749</td>\n      <td>-230.936482</td>\n      <td>-13.82</td>\n      <td>37.059393</td>\n      <td>14.543167</td>\n      <td>31.992621</td>\n      <td>20.309959</td>\n      <td>8.336929</td>\n      <td>6.651887</td>\n    </tr>\n    <tr>\n      <th>1</th>\n      <td>NASDAQ:MSFT</td>\n      <td>MSFT</td>\n      <td>Microsoft Corporation</td>\n      <td>366.780000</td>\n      <td>0.088543</td>\n      <td>331333.919957</td>\n      <td>100.000000</td>\n      <td>0.000000</td>\n      <td>6.875714</td>\n      <td>15.697468</td>\n      <td>...</td>\n      <td>-1</td>\n      <td>-9.388162</td>\n      <td>-120.951883</td>\n      <td>-24.93</td>\n      <td>26.356568</td>\n      <td>20.989642</td>\n      <td>41.620562</td>\n      <td>34.633610</td>\n      <td>5.696226</td>\n      <td>8.199300</td>\n    </tr>\n    <tr>\n      <th>2</th>\n      <td>NASDAQ:GOOGL</td>\n      <td>GOOGL</td>\n      <td>Alphabet Inc.</td>\n      <td>151.546575</td>\n      <td>2.401327</td>\n      <td>5080.856484</td>\n      <td>0.000000</td>\n      <td>42.857143</td>\n      <td>2.576786</td>\n      <td>21.021282</td>\n      <td>...</td>\n      <td>1</td>\n      <td>5.906360</td>\n      <td>72.958312</td>\n      <td>9.19</td>\n      <td>17.483541</td>\n      <td>27.917242</td>\n      <td>63.031565</td>\n      <td>66.112989</td>\n      <td>71.656644</td>\n      <td>78.135739</td>\n    </tr>\n    <tr>\n      <th>3</th>\n      <td>NASDAQ:GOOG</td>\n      <td>GOOG</td>\n      <td>Alphabet Inc.</td>\n      <td>152.100000</td>\n      <td>24.312350</td>\n      <td>359.512111</td>\n      <td>0.000000</td>\n      <td>42.857143</td>\n      <td>2.574643</td>\n      <td>19.905580</td>\n      <td>...</td>\n      <td>1</td>\n      <td>5.743768</td>\n      <td>74.928140</td>\n      <td>9.05</td>\n      <td>17.902277</td>\n      <td>27.931277</td>\n      <td>62.822280</td>\n      <td>66.262130</td>\n      <td>71.754595</td>\n      <td>78.572202</td>\n    </tr>\n    <tr>\n      <th>4</th>\n      <td>NASDAQ:AMZN</td>\n      <td>AMZN</td>\n      <td>Amazon.com, Inc.</td>\n      <td>188.653910</td>\n      <td>0.065624</td>\n      <td>113008.620378</td>\n      <td>28.571429</td>\n      <td>78.571429</td>\n      <td>3.053221</td>\n      <td>21.411278</td>\n      <td>...</td>\n      <td>1</td>\n      <td>4.556238</td>\n      <td>149.672333</td>\n      <td>10.81</td>\n      <td>19.321047</td>\n      <td>35.171936</td>\n      <td>63.522413</td>\n      <td>66.884776</td>\n      <td>63.325131</td>\n      <td>82.572298</td>\n    </tr>\n    <tr>\n      <th>...</th>\n      <td>...</td>\n      <td>...</td>\n      <td>...</td>\n      <td>...</td>\n      <td>...</td>\n      <td>...</td>\n      <td>...</td>\n      <td>...</td>\n      <td>...</td>\n      <td>...</td>\n      <td>...</td>\n      <td>...</td>\n      <td>...</td>\n      <td>...</td>\n      <td>...</td>\n      <td>...</td>\n      <td>...</td>\n      <td>...</td>\n      <td>...</td>\n      <td>...</td>\n      <td>...</td>\n    </tr>\n    <tr>\n      <th>145</th>\n      <td>NASDAQ:INTU</td>\n      <td>INTU</td>\n      <td>Intuit Inc.</td>\n      <td>716.860000</td>\n      <td>1.999980</td>\n      <td>21574.396198</td>\n      <td>14.285714</td>\n      <td>50.000000</td>\n      <td>9.613214</td>\n      <td>28.226034</td>\n      <td>...</td>\n      <td>-1</td>\n      <td>20.316662</td>\n      <td>18.746156</td>\n      <td>4.34</td>\n      <td>20.374244</td>\n      <td>24.277430</td>\n      <td>60.301132</td>\n      <td>54.781562</td>\n      <td>51.153791</td>\n      <td>53.496338</td>\n    </tr>\n    <tr>\n      <th>146</th>\n      <td>NASDAQ:AMGN</td>\n      <td>AMGN</td>\n      <td>Amgen Inc.</td>\n      <td>296.670000</td>\n      <td>0.078124</td>\n      <td>75339.203833</td>\n      <td>71.428571</td>\n      <td>92.857143</td>\n      <td>4.704136</td>\n      <td>28.098042</td>\n      <td>...</td>\n      <td>1</td>\n      <td>11.973362</td>\n      <td>329.869005</td>\n      <td>25.49</td>\n      <td>11.895949</td>\n      <td>50.174659</td>\n      <td>81.578389</td>\n      <td>89.422508</td>\n      <td>74.237975</td>\n      <td>90.550436</td>\n    </tr>\n    <tr>\n      <th>147</th>\n      <td>NYSE:VZ</td>\n      <td>VZ</td>\n      <td>Verizon Communications Inc.</td>\n      <td>63.997594</td>\n      <td>7.481733</td>\n      <td>304.524991</td>\n      <td>85.714286</td>\n      <td>21.428571</td>\n      <td>0.682857</td>\n      <td>31.898218</td>\n      <td>...</td>\n      <td>-1</td>\n      <td>-1.869425</td>\n      <td>-104.652281</td>\n      <td>-1.67</td>\n      <td>31.145517</td>\n      <td>11.878362</td>\n      <td>35.866167</td>\n      <td>29.814110</td>\n      <td>28.773679</td>\n      <td>16.219283</td>\n    </tr>\n    <tr>\n      <th>148</th>\n      <td>NASDAQ:SNY</td>\n      <td>SNY</td>\n      <td>Sanofi</td>\n      <td>58.100000</td>\n      <td>22.530000</td>\n      <td>74.491803</td>\n      <td>71.428571</td>\n      <td>7.142857</td>\n      <td>0.646371</td>\n      <td>16.601899</td>\n      <td>...</td>\n      <td>1</td>\n      <td>-1.330594</td>\n      <td>-33.354018</td>\n      <td>-1.11</td>\n      <td>42.701596</td>\n      <td>32.062266</td>\n      <td>49.575508</td>\n      <td>51.734317</td>\n      <td>30.765170</td>\n      <td>42.933333</td>\n    </tr>\n    <tr>\n      <th>149</th>\n      <td>NYSE:RY</td>\n      <td>RY</td>\n      <td>Royal Bank Of Canada</td>\n      <td>119.410000</td>\n      <td>5.125000</td>\n      <td>1551.826087</td>\n      <td>92.857143</td>\n      <td>14.285714</td>\n      <td>1.079286</td>\n      <td>20.007005</td>\n      <td>...</td>\n      <td>-1</td>\n      <td>-0.498243</td>\n      <td>-153.194506</td>\n      <td>-3.70</td>\n      <td>32.276024</td>\n      <td>21.427547</td>\n      <td>41.370824</td>\n      <td>30.154933</td>\n      <td>10.526930</td>\n      <td>13.909854</td>\n    </tr>\n  </tbody>\n</table>\n<p>150 rows × 302 columns</p>\n</div>"
     },
     "execution_count": 11,
     "metadata": {},
     "output_type": "execute_result"
    }
   ],
   "source": [
    "# Display the request payload\n",
    "ss = tvs.StockScreener()\n",
    "df = ss.get(print_request=True)\n",
    "df"
   ],
   "metadata": {
    "collapsed": false,
    "ExecuteTime": {
     "end_time": "2023-08-10T12:44:07.826368015Z",
     "start_time": "2023-08-10T12:44:06.737340434Z"
    }
   },
   "id": "dd428873c1d8f9e9"
  }
 ],
 "metadata": {
  "kernelspec": {
   "display_name": "Python 3",
   "language": "python",
   "name": "python3"
  },
  "language_info": {
   "codemirror_mode": {
    "name": "ipython",
    "version": 2
   },
   "file_extension": ".py",
   "mimetype": "text/x-python",
   "name": "python",
   "nbconvert_exporter": "python",
   "pygments_lexer": "ipython2",
   "version": "2.7.6"
  }
 },
 "nbformat": 4,
 "nbformat_minor": 5
}
