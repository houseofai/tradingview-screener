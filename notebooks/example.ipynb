{
 "cells": [
  {
   "cell_type": "code",
   "execution_count": 1,
   "id": "initial_id",
   "metadata": {
    "collapsed": true,
    "ExecuteTime": {
     "end_time": "2023-08-03T14:16:40.272449208Z",
     "start_time": "2023-08-03T14:16:40.184321627Z"
    }
   },
   "outputs": [],
   "source": [
    "import tvscreener as tvs\n",
    "\n",
    "%load_ext autoreload\n",
    "%autoreload 2"
   ]
  },
  {
   "cell_type": "markdown",
   "source": [
    "# Stock"
   ],
   "metadata": {
    "collapsed": false
   },
   "id": "d8b81da10afe1e9c"
  },
  {
   "cell_type": "code",
   "execution_count": 2,
   "outputs": [
    {
     "data": {
      "text/plain": "         Symbol   Name            Description Currency  \\\n0   NASDAQ:AAPL   AAPL             Apple Inc.      USD   \n1   NASDAQ:MSFT   MSFT  Microsoft Corporation      USD   \n2   NASDAQ:GOOG   GOOG          Alphabet Inc.      USD   \n3  NASDAQ:GOOGL  GOOGL          Alphabet Inc.      USD   \n4   NASDAQ:AMZN   AMZN       Amazon.com, Inc.      USD   \n\n  Fundamental Currency Code  Min Move  Min Move 2  Price Scale Subtype   Type  \\\n0                       USD         1           0          100  common  stock   \n1                       USD         1           0          100  common  stock   \n2                       USD         1           0          100  common  stock   \n3                       USD         1           0          100  common  stock   \n4                       USD         1           0          100  common  stock   \n\n   ...  3-Month Performance raw  5Y Performance raw  6-Month Performance raw  \\\n0  ...                12.104109          282.231529                29.480511   \n1  ...                 7.434908          211.622391                26.549845   \n2  ...                22.123054          113.317854                24.258526   \n3  ...                22.304904          110.422651                24.550666   \n4  ...                23.237748           43.674145                22.078662   \n\n   All Time Performance raw  Weekly Performance raw  Yearly Performance raw  \\\n0             149236.179761               -2.219161               19.168117   \n1             337731.583062               -3.533247               18.676832   \n2                354.110240               -2.412747               10.555269   \n3               5022.518905               -2.635376               10.794227   \n4             105336.762558               -1.908397               -5.660377   \n\n   YTD Performance raw  Technical Rating raw  Moving Averages Rating raw  \\\n0            47.121584             -0.057692                   -0.115385   \n1            35.120125             -0.120629                   -0.423077   \n2            43.181565              0.417832                    0.653846   \n3            43.104314              0.379371                    0.576923   \n4            50.362743             -0.134615                   -0.269231   \n\n   Oscillators Rating raw  \n0                0.000000  \n1                0.181818  \n2                0.181818  \n3                0.181818  \n4                0.000000  \n\n[5 rows x 269 columns]",
      "text/html": "<div>\n<style scoped>\n    .dataframe tbody tr th:only-of-type {\n        vertical-align: middle;\n    }\n\n    .dataframe tbody tr th {\n        vertical-align: top;\n    }\n\n    .dataframe thead th {\n        text-align: right;\n    }\n</style>\n<table border=\"1\" class=\"dataframe\">\n  <thead>\n    <tr style=\"text-align: right;\">\n      <th></th>\n      <th>Symbol</th>\n      <th>Name</th>\n      <th>Description</th>\n      <th>Currency</th>\n      <th>Fundamental Currency Code</th>\n      <th>Min Move</th>\n      <th>Min Move 2</th>\n      <th>Price Scale</th>\n      <th>Subtype</th>\n      <th>Type</th>\n      <th>...</th>\n      <th>3-Month Performance raw</th>\n      <th>5Y Performance raw</th>\n      <th>6-Month Performance raw</th>\n      <th>All Time Performance raw</th>\n      <th>Weekly Performance raw</th>\n      <th>Yearly Performance raw</th>\n      <th>YTD Performance raw</th>\n      <th>Technical Rating raw</th>\n      <th>Moving Averages Rating raw</th>\n      <th>Oscillators Rating raw</th>\n    </tr>\n  </thead>\n  <tbody>\n    <tr>\n      <th>0</th>\n      <td>NASDAQ:AAPL</td>\n      <td>AAPL</td>\n      <td>Apple Inc.</td>\n      <td>USD</td>\n      <td>USD</td>\n      <td>1</td>\n      <td>0</td>\n      <td>100</td>\n      <td>common</td>\n      <td>stock</td>\n      <td>...</td>\n      <td>12.104109</td>\n      <td>282.231529</td>\n      <td>29.480511</td>\n      <td>149236.179761</td>\n      <td>-2.219161</td>\n      <td>19.168117</td>\n      <td>47.121584</td>\n      <td>-0.057692</td>\n      <td>-0.115385</td>\n      <td>0.000000</td>\n    </tr>\n    <tr>\n      <th>1</th>\n      <td>NASDAQ:MSFT</td>\n      <td>MSFT</td>\n      <td>Microsoft Corporation</td>\n      <td>USD</td>\n      <td>USD</td>\n      <td>1</td>\n      <td>0</td>\n      <td>100</td>\n      <td>common</td>\n      <td>stock</td>\n      <td>...</td>\n      <td>7.434908</td>\n      <td>211.622391</td>\n      <td>26.549845</td>\n      <td>337731.583062</td>\n      <td>-3.533247</td>\n      <td>18.676832</td>\n      <td>35.120125</td>\n      <td>-0.120629</td>\n      <td>-0.423077</td>\n      <td>0.181818</td>\n    </tr>\n    <tr>\n      <th>2</th>\n      <td>NASDAQ:GOOG</td>\n      <td>GOOG</td>\n      <td>Alphabet Inc.</td>\n      <td>USD</td>\n      <td>USD</td>\n      <td>1</td>\n      <td>0</td>\n      <td>100</td>\n      <td>common</td>\n      <td>stock</td>\n      <td>...</td>\n      <td>22.123054</td>\n      <td>113.317854</td>\n      <td>24.258526</td>\n      <td>354.110240</td>\n      <td>-2.412747</td>\n      <td>10.555269</td>\n      <td>43.181565</td>\n      <td>0.417832</td>\n      <td>0.653846</td>\n      <td>0.181818</td>\n    </tr>\n    <tr>\n      <th>3</th>\n      <td>NASDAQ:GOOGL</td>\n      <td>GOOGL</td>\n      <td>Alphabet Inc.</td>\n      <td>USD</td>\n      <td>USD</td>\n      <td>1</td>\n      <td>0</td>\n      <td>100</td>\n      <td>common</td>\n      <td>stock</td>\n      <td>...</td>\n      <td>22.304904</td>\n      <td>110.422651</td>\n      <td>24.550666</td>\n      <td>5022.518905</td>\n      <td>-2.635376</td>\n      <td>10.794227</td>\n      <td>43.104314</td>\n      <td>0.379371</td>\n      <td>0.576923</td>\n      <td>0.181818</td>\n    </tr>\n    <tr>\n      <th>4</th>\n      <td>NASDAQ:AMZN</td>\n      <td>AMZN</td>\n      <td>Amazon.com, Inc.</td>\n      <td>USD</td>\n      <td>USD</td>\n      <td>1</td>\n      <td>0</td>\n      <td>100</td>\n      <td>common</td>\n      <td>stock</td>\n      <td>...</td>\n      <td>23.237748</td>\n      <td>43.674145</td>\n      <td>22.078662</td>\n      <td>105336.762558</td>\n      <td>-1.908397</td>\n      <td>-5.660377</td>\n      <td>50.362743</td>\n      <td>-0.134615</td>\n      <td>-0.269231</td>\n      <td>0.000000</td>\n    </tr>\n  </tbody>\n</table>\n<p>5 rows × 269 columns</p>\n</div>"
     },
     "execution_count": 2,
     "metadata": {},
     "output_type": "execute_result"
    }
   ],
   "source": [
    "ss = tvs.StockScreener()\n",
    "df = ss.get()\n",
    "df.head()"
   ],
   "metadata": {
    "collapsed": false,
    "ExecuteTime": {
     "end_time": "2023-08-03T14:16:48.243783636Z",
     "start_time": "2023-08-03T14:16:47.442742231Z"
    }
   },
   "id": "180f141359f1e171"
  },
  {
   "cell_type": "markdown",
   "source": [
    "## Forex"
   ],
   "metadata": {
    "collapsed": false
   },
   "id": "a0e28abc4e3c832d"
  },
  {
   "cell_type": "code",
   "execution_count": 3,
   "outputs": [
    {
     "data": {
      "text/plain": "          Symbol    Name                        Description Currency  \\\n0  FX_IDC:AEDAUD  AEDAUD  U.A.E. DIRHAM / AUSTRALIAN DOLLAR      AUD   \n1  FX_IDC:AEDCAD  AEDCAD    U.A.E. DIRHAM / CANADIAN DOLLAR      CAD   \n2  FX_IDC:AEDCHF  AEDCHF        U.A.E. DIRHAM / SWISS FRANC      CHF   \n3  FX_IDC:AEDEUR  AEDEUR               U.A.E. DIRHAM / EURO      EUR   \n4  FX_IDC:AEDGBP  AEDGBP      U.A.E. DIRHAM / BRITISH POUND      GBP   \n\n  Fundamental Currency Code  Min Move  Min Move 2  Price Scale Subtype   Type  \\\n0                      None         1          10       100000          forex   \n1                      None         1          10       100000          forex   \n2                      None         1          10       100000          forex   \n3                      None         1          10       100000          forex   \n4                      None         1          10       100000          forex   \n\n   ...  3-Month Performance raw  5Y Performance raw  6-Month Performance raw  \\\n0  ...                 2.461236           13.383811                 8.352203   \n1  ...                -1.303887            2.777856                 0.311982   \n2  ...                -1.121123          -11.669572                -4.057212   \n3  ...                 0.821896            6.765563                -0.132344   \n4  ...                -0.837265            3.600425                -3.549897   \n\n   All Time Performance raw  Weekly Performance raw  Yearly Performance raw  \\\n0                 62.053797                3.456845                5.920668   \n1                 39.047072                1.166676                3.746324   \n2                -10.315607                1.825879               -8.513581   \n3                 16.179901                1.499959               -6.936243   \n4                 55.228096                2.095537               -4.042077   \n\n   YTD Performance raw  Technical Rating raw  Moving Averages Rating raw  \\\n0             4.283567              0.525455                        0.96   \n1            -1.421711              0.325455                        0.56   \n2            -5.255829             -0.090909                        0.00   \n3            -2.010782              0.240000                        0.48   \n4            -4.576007              0.154545                        0.40   \n\n   Oscillators Rating raw  \n0                0.090909  \n1                0.090909  \n2               -0.181818  \n3                0.000000  \n4               -0.090909  \n\n[5 rows x 139 columns]",
      "text/html": "<div>\n<style scoped>\n    .dataframe tbody tr th:only-of-type {\n        vertical-align: middle;\n    }\n\n    .dataframe tbody tr th {\n        vertical-align: top;\n    }\n\n    .dataframe thead th {\n        text-align: right;\n    }\n</style>\n<table border=\"1\" class=\"dataframe\">\n  <thead>\n    <tr style=\"text-align: right;\">\n      <th></th>\n      <th>Symbol</th>\n      <th>Name</th>\n      <th>Description</th>\n      <th>Currency</th>\n      <th>Fundamental Currency Code</th>\n      <th>Min Move</th>\n      <th>Min Move 2</th>\n      <th>Price Scale</th>\n      <th>Subtype</th>\n      <th>Type</th>\n      <th>...</th>\n      <th>3-Month Performance raw</th>\n      <th>5Y Performance raw</th>\n      <th>6-Month Performance raw</th>\n      <th>All Time Performance raw</th>\n      <th>Weekly Performance raw</th>\n      <th>Yearly Performance raw</th>\n      <th>YTD Performance raw</th>\n      <th>Technical Rating raw</th>\n      <th>Moving Averages Rating raw</th>\n      <th>Oscillators Rating raw</th>\n    </tr>\n  </thead>\n  <tbody>\n    <tr>\n      <th>0</th>\n      <td>FX_IDC:AEDAUD</td>\n      <td>AEDAUD</td>\n      <td>U.A.E. DIRHAM / AUSTRALIAN DOLLAR</td>\n      <td>AUD</td>\n      <td>None</td>\n      <td>1</td>\n      <td>10</td>\n      <td>100000</td>\n      <td></td>\n      <td>forex</td>\n      <td>...</td>\n      <td>2.461236</td>\n      <td>13.383811</td>\n      <td>8.352203</td>\n      <td>62.053797</td>\n      <td>3.456845</td>\n      <td>5.920668</td>\n      <td>4.283567</td>\n      <td>0.525455</td>\n      <td>0.96</td>\n      <td>0.090909</td>\n    </tr>\n    <tr>\n      <th>1</th>\n      <td>FX_IDC:AEDCAD</td>\n      <td>AEDCAD</td>\n      <td>U.A.E. DIRHAM / CANADIAN DOLLAR</td>\n      <td>CAD</td>\n      <td>None</td>\n      <td>1</td>\n      <td>10</td>\n      <td>100000</td>\n      <td></td>\n      <td>forex</td>\n      <td>...</td>\n      <td>-1.303887</td>\n      <td>2.777856</td>\n      <td>0.311982</td>\n      <td>39.047072</td>\n      <td>1.166676</td>\n      <td>3.746324</td>\n      <td>-1.421711</td>\n      <td>0.325455</td>\n      <td>0.56</td>\n      <td>0.090909</td>\n    </tr>\n    <tr>\n      <th>2</th>\n      <td>FX_IDC:AEDCHF</td>\n      <td>AEDCHF</td>\n      <td>U.A.E. DIRHAM / SWISS FRANC</td>\n      <td>CHF</td>\n      <td>None</td>\n      <td>1</td>\n      <td>10</td>\n      <td>100000</td>\n      <td></td>\n      <td>forex</td>\n      <td>...</td>\n      <td>-1.121123</td>\n      <td>-11.669572</td>\n      <td>-4.057212</td>\n      <td>-10.315607</td>\n      <td>1.825879</td>\n      <td>-8.513581</td>\n      <td>-5.255829</td>\n      <td>-0.090909</td>\n      <td>0.00</td>\n      <td>-0.181818</td>\n    </tr>\n    <tr>\n      <th>3</th>\n      <td>FX_IDC:AEDEUR</td>\n      <td>AEDEUR</td>\n      <td>U.A.E. DIRHAM / EURO</td>\n      <td>EUR</td>\n      <td>None</td>\n      <td>1</td>\n      <td>10</td>\n      <td>100000</td>\n      <td></td>\n      <td>forex</td>\n      <td>...</td>\n      <td>0.821896</td>\n      <td>6.765563</td>\n      <td>-0.132344</td>\n      <td>16.179901</td>\n      <td>1.499959</td>\n      <td>-6.936243</td>\n      <td>-2.010782</td>\n      <td>0.240000</td>\n      <td>0.48</td>\n      <td>0.000000</td>\n    </tr>\n    <tr>\n      <th>4</th>\n      <td>FX_IDC:AEDGBP</td>\n      <td>AEDGBP</td>\n      <td>U.A.E. DIRHAM / BRITISH POUND</td>\n      <td>GBP</td>\n      <td>None</td>\n      <td>1</td>\n      <td>10</td>\n      <td>100000</td>\n      <td></td>\n      <td>forex</td>\n      <td>...</td>\n      <td>-0.837265</td>\n      <td>3.600425</td>\n      <td>-3.549897</td>\n      <td>55.228096</td>\n      <td>2.095537</td>\n      <td>-4.042077</td>\n      <td>-4.576007</td>\n      <td>0.154545</td>\n      <td>0.40</td>\n      <td>-0.090909</td>\n    </tr>\n  </tbody>\n</table>\n<p>5 rows × 139 columns</p>\n</div>"
     },
     "execution_count": 3,
     "metadata": {},
     "output_type": "execute_result"
    }
   ],
   "source": [
    "fs = tvs.ForexScreener()\n",
    "df = fs.get()\n",
    "df.head()"
   ],
   "metadata": {
    "collapsed": false,
    "ExecuteTime": {
     "end_time": "2023-08-03T14:16:51.008762786Z",
     "start_time": "2023-08-03T14:16:50.572077541Z"
    }
   },
   "id": "5a3140ab1afc7830"
  },
  {
   "cell_type": "markdown",
   "source": [
    "## Crypto"
   ],
   "metadata": {
    "collapsed": false
   },
   "id": "a2d8c8054bc7a281"
  },
  {
   "cell_type": "code",
   "execution_count": 4,
   "outputs": [
    {
     "data": {
      "text/plain": "              Symbol       Name                             Description  \\\n0  BINANCE:BTCUSDT.P  BTCUSDT.P   Bitcoin / TetherUS PERPETUAL CONTRACT   \n1      OKX:BTCUSDT.P  BTCUSDT.P         BTCUSDT Perpetual Swap Contract   \n2  BINANCE:ETHUSDT.P  ETHUSDT.P  Ethereum / TetherUS PERPETUAL CONTRACT   \n3   BITGET:BTCUSDT.P  BTCUSDT.P      BTCUSDTPERP PERPETUAL MIX CONTRACT   \n4      OKX:ETHUSDT.P  ETHUSDT.P         ETHUSDT Perpetual Swap Contract   \n\n  Currency Fundamental Currency Code  Min Move  Min Move 2  Price Scale  \\\n0     USDT                       USD         1           0           10   \n1     USDT                       USD         1           0           10   \n2     USDT                       USD         1           0          100   \n3     USDT                       USD         5           0           10   \n4     USDT                       USD         1           0          100   \n\n  Subtype  Type  ...  3-Month Performance raw  5Y Performance raw  \\\n0  crypto  swap  ...                 1.254423          182.918243   \n1  crypto  swap  ...                 1.241678          340.805882   \n2  crypto  swap  ...                -2.087797         1090.595632   \n3  crypto  swap  ...                 1.275355          136.070215   \n4  crypto  swap  ...                -2.127456         1339.533062   \n\n   6-Month Performance raw  All Time Performance raw  Weekly Performance raw  \\\n0                24.601809                191.876000               -0.505863   \n1                24.619502                323.596744               -0.521953   \n2                10.415402               1158.198630               -1.817239   \n3                24.580576                123.222549               -0.550359   \n4                10.451745               1337.955862               -1.836735   \n\n   Yearly Performance raw  YTD Performance raw  Technical Rating raw  \\\n0               27.040143            76.493424             -0.256993   \n1               27.042162            76.467282             -0.256993   \n2               12.698929            53.579968             -0.365385   \n3               27.062153            76.406939             -0.256993   \n4               12.647751            53.554685             -0.365385   \n\n   Moving Averages Rating raw  Oscillators Rating raw  \n0                   -0.423077               -0.090909  \n1                   -0.423077               -0.090909  \n2                   -0.730769                0.000000  \n3                   -0.423077               -0.090909  \n4                   -0.730769                0.000000  \n\n[5 rows x 151 columns]",
      "text/html": "<div>\n<style scoped>\n    .dataframe tbody tr th:only-of-type {\n        vertical-align: middle;\n    }\n\n    .dataframe tbody tr th {\n        vertical-align: top;\n    }\n\n    .dataframe thead th {\n        text-align: right;\n    }\n</style>\n<table border=\"1\" class=\"dataframe\">\n  <thead>\n    <tr style=\"text-align: right;\">\n      <th></th>\n      <th>Symbol</th>\n      <th>Name</th>\n      <th>Description</th>\n      <th>Currency</th>\n      <th>Fundamental Currency Code</th>\n      <th>Min Move</th>\n      <th>Min Move 2</th>\n      <th>Price Scale</th>\n      <th>Subtype</th>\n      <th>Type</th>\n      <th>...</th>\n      <th>3-Month Performance raw</th>\n      <th>5Y Performance raw</th>\n      <th>6-Month Performance raw</th>\n      <th>All Time Performance raw</th>\n      <th>Weekly Performance raw</th>\n      <th>Yearly Performance raw</th>\n      <th>YTD Performance raw</th>\n      <th>Technical Rating raw</th>\n      <th>Moving Averages Rating raw</th>\n      <th>Oscillators Rating raw</th>\n    </tr>\n  </thead>\n  <tbody>\n    <tr>\n      <th>0</th>\n      <td>BINANCE:BTCUSDT.P</td>\n      <td>BTCUSDT.P</td>\n      <td>Bitcoin / TetherUS PERPETUAL CONTRACT</td>\n      <td>USDT</td>\n      <td>USD</td>\n      <td>1</td>\n      <td>0</td>\n      <td>10</td>\n      <td>crypto</td>\n      <td>swap</td>\n      <td>...</td>\n      <td>1.254423</td>\n      <td>182.918243</td>\n      <td>24.601809</td>\n      <td>191.876000</td>\n      <td>-0.505863</td>\n      <td>27.040143</td>\n      <td>76.493424</td>\n      <td>-0.256993</td>\n      <td>-0.423077</td>\n      <td>-0.090909</td>\n    </tr>\n    <tr>\n      <th>1</th>\n      <td>OKX:BTCUSDT.P</td>\n      <td>BTCUSDT.P</td>\n      <td>BTCUSDT Perpetual Swap Contract</td>\n      <td>USDT</td>\n      <td>USD</td>\n      <td>1</td>\n      <td>0</td>\n      <td>10</td>\n      <td>crypto</td>\n      <td>swap</td>\n      <td>...</td>\n      <td>1.241678</td>\n      <td>340.805882</td>\n      <td>24.619502</td>\n      <td>323.596744</td>\n      <td>-0.521953</td>\n      <td>27.042162</td>\n      <td>76.467282</td>\n      <td>-0.256993</td>\n      <td>-0.423077</td>\n      <td>-0.090909</td>\n    </tr>\n    <tr>\n      <th>2</th>\n      <td>BINANCE:ETHUSDT.P</td>\n      <td>ETHUSDT.P</td>\n      <td>Ethereum / TetherUS PERPETUAL CONTRACT</td>\n      <td>USDT</td>\n      <td>USD</td>\n      <td>1</td>\n      <td>0</td>\n      <td>100</td>\n      <td>crypto</td>\n      <td>swap</td>\n      <td>...</td>\n      <td>-2.087797</td>\n      <td>1090.595632</td>\n      <td>10.415402</td>\n      <td>1158.198630</td>\n      <td>-1.817239</td>\n      <td>12.698929</td>\n      <td>53.579968</td>\n      <td>-0.365385</td>\n      <td>-0.730769</td>\n      <td>0.000000</td>\n    </tr>\n    <tr>\n      <th>3</th>\n      <td>BITGET:BTCUSDT.P</td>\n      <td>BTCUSDT.P</td>\n      <td>BTCUSDTPERP PERPETUAL MIX CONTRACT</td>\n      <td>USDT</td>\n      <td>USD</td>\n      <td>5</td>\n      <td>0</td>\n      <td>10</td>\n      <td>crypto</td>\n      <td>swap</td>\n      <td>...</td>\n      <td>1.275355</td>\n      <td>136.070215</td>\n      <td>24.580576</td>\n      <td>123.222549</td>\n      <td>-0.550359</td>\n      <td>27.062153</td>\n      <td>76.406939</td>\n      <td>-0.256993</td>\n      <td>-0.423077</td>\n      <td>-0.090909</td>\n    </tr>\n    <tr>\n      <th>4</th>\n      <td>OKX:ETHUSDT.P</td>\n      <td>ETHUSDT.P</td>\n      <td>ETHUSDT Perpetual Swap Contract</td>\n      <td>USDT</td>\n      <td>USD</td>\n      <td>1</td>\n      <td>0</td>\n      <td>100</td>\n      <td>crypto</td>\n      <td>swap</td>\n      <td>...</td>\n      <td>-2.127456</td>\n      <td>1339.533062</td>\n      <td>10.451745</td>\n      <td>1337.955862</td>\n      <td>-1.836735</td>\n      <td>12.647751</td>\n      <td>53.554685</td>\n      <td>-0.365385</td>\n      <td>-0.730769</td>\n      <td>0.000000</td>\n    </tr>\n  </tbody>\n</table>\n<p>5 rows × 151 columns</p>\n</div>"
     },
     "execution_count": 4,
     "metadata": {},
     "output_type": "execute_result"
    }
   ],
   "source": [
    "cs = tvs.CryptoScreener()\n",
    "df = cs.get()\n",
    "df.head()"
   ],
   "metadata": {
    "collapsed": false,
    "ExecuteTime": {
     "end_time": "2023-08-03T14:16:53.750298972Z",
     "start_time": "2023-08-03T14:16:53.069948567Z"
    }
   },
   "id": "bbede913c3cf6067"
  },
  {
   "cell_type": "markdown",
   "source": [
    "## Options"
   ],
   "metadata": {
    "collapsed": false
   },
   "id": "e6b09b518bdabd39"
  },
  {
   "cell_type": "markdown",
   "source": [
    "## Range"
   ],
   "metadata": {
    "collapsed": false
   },
   "id": "8c329b0e0edac821"
  },
  {
   "cell_type": "code",
   "execution_count": 5,
   "outputs": [
    {
     "data": {
      "text/plain": "            Symbol   Name                                        Description  \\\n0      NASDAQ:AAPL   AAPL                                         Apple Inc.   \n1      NASDAQ:MSFT   MSFT                              Microsoft Corporation   \n2      NASDAQ:GOOG   GOOG                                      Alphabet Inc.   \n3     NASDAQ:GOOGL  GOOGL                                      Alphabet Inc.   \n4      NASDAQ:AMZN   AMZN                                   Amazon.com, Inc.   \n...            ...    ...                                                ...   \n9995     OTC:SAMMF  SAMMF            Sama Resources Inc./Ressources Sama Inc   \n9996     OTC:WRLGF  WRLGF                      WEST RED LAKE GOLD MINES LTD.   \n9997     OTC:DMEHF  DMEHF                       Desert Mountain Energy Corp.   \n9998     OTC:CDBMF  CDBMF                             Cordoba Minerals Corp.   \n9999      NYSE:KTH    KTH  Structures Products Cp 8% CorTS Issued by Peco...   \n\n     Currency Fundamental Currency Code  Min Move  Min Move 2  Price Scale  \\\n0         USD                       USD         1           0          100   \n1         USD                       USD         1           0          100   \n2         USD                       USD         1           0          100   \n3         USD                       USD         1           0          100   \n4         USD                       USD         1           0          100   \n...       ...                       ...       ...         ...          ...   \n9995      USD                       USD         1           0        10000   \n9996      USD                       USD         1           0        10000   \n9997      USD                       USD         1           0        10000   \n9998      USD                       USD         1           0        10000   \n9999      USD                       USD         1           0          100   \n\n        Subtype   Type  ...  3-Month Performance raw  5Y Performance raw  \\\n0        common  stock  ...                12.159672          282.420979   \n1        common  stock  ...                 7.533069          211.907116   \n2        common  stock  ...                22.331941          113.682727   \n3        common  stock  ...                22.562488          110.865819   \n4        common  stock  ...                23.285701           43.730049   \n...         ...    ...  ...                      ...                 ...   \n9995     common  stock  ...                17.605898          -45.664327   \n9996     common  stock  ...                -3.851163          -15.967480   \n9997     common  stock  ...               -71.921053          133.649635   \n9998     common  stock  ...                 6.515397          -82.102397   \n9999  preferred  stock  ...                -3.901034          -12.768240   \n\n      6-Month Performance raw  All Time Performance raw  \\\n0                   29.544687             149310.197276   \n1                   26.665472             338040.254878   \n2                   24.471066                354.886979   \n3                   24.812980               5033.307361   \n4                   22.126164             105377.788536   \n...                       ...                       ...   \n9995                43.983589                -63.954807   \n9996               158.788182                -39.555556   \n9997               -84.074627                -62.882653   \n9998               -21.085495                -97.039906   \n9999                -4.991653                 13.820000   \n\n      Weekly Performance raw  Yearly Performance raw  YTD Performance raw  \\\n0                  -2.170697               19.227182            47.194504   \n1                  -3.445107               18.785265            35.243582   \n2                  -2.245827               10.744370            43.426472   \n3                  -2.430318               11.027569            43.405704   \n4                  -1.870229               -5.623669            50.421250   \n...                      ...                     ...                  ...   \n9995               -4.981227               25.453765            29.020588   \n9996               -4.296296               39.675676           598.378378   \n9997              -11.083333              -81.389535           -84.536232   \n9998                7.035831              -23.581395           -14.649351   \n9999                0.370370               -4.991653             0.529942   \n\n      Technical Rating raw  Moving Averages Rating raw  Oscillators Rating raw  \n0                -0.057692                   -0.115385                0.000000  \n1                -0.120629                   -0.423077                0.181818  \n2                 0.417832                    0.653846                0.181818  \n3                 0.417832                    0.653846                0.181818  \n4                -0.134615                   -0.269231                0.000000  \n...                    ...                         ...                     ...  \n9995              0.005245                    0.192308               -0.181818  \n9996             -0.243007                   -0.576923                0.090909  \n9997             -0.389860                   -0.961538                0.181818  \n9998              0.225524                    0.269231                0.181818  \n9999              0.043706                    0.269231               -0.181818  \n\n[10000 rows x 269 columns]",
      "text/html": "<div>\n<style scoped>\n    .dataframe tbody tr th:only-of-type {\n        vertical-align: middle;\n    }\n\n    .dataframe tbody tr th {\n        vertical-align: top;\n    }\n\n    .dataframe thead th {\n        text-align: right;\n    }\n</style>\n<table border=\"1\" class=\"dataframe\">\n  <thead>\n    <tr style=\"text-align: right;\">\n      <th></th>\n      <th>Symbol</th>\n      <th>Name</th>\n      <th>Description</th>\n      <th>Currency</th>\n      <th>Fundamental Currency Code</th>\n      <th>Min Move</th>\n      <th>Min Move 2</th>\n      <th>Price Scale</th>\n      <th>Subtype</th>\n      <th>Type</th>\n      <th>...</th>\n      <th>3-Month Performance raw</th>\n      <th>5Y Performance raw</th>\n      <th>6-Month Performance raw</th>\n      <th>All Time Performance raw</th>\n      <th>Weekly Performance raw</th>\n      <th>Yearly Performance raw</th>\n      <th>YTD Performance raw</th>\n      <th>Technical Rating raw</th>\n      <th>Moving Averages Rating raw</th>\n      <th>Oscillators Rating raw</th>\n    </tr>\n  </thead>\n  <tbody>\n    <tr>\n      <th>0</th>\n      <td>NASDAQ:AAPL</td>\n      <td>AAPL</td>\n      <td>Apple Inc.</td>\n      <td>USD</td>\n      <td>USD</td>\n      <td>1</td>\n      <td>0</td>\n      <td>100</td>\n      <td>common</td>\n      <td>stock</td>\n      <td>...</td>\n      <td>12.159672</td>\n      <td>282.420979</td>\n      <td>29.544687</td>\n      <td>149310.197276</td>\n      <td>-2.170697</td>\n      <td>19.227182</td>\n      <td>47.194504</td>\n      <td>-0.057692</td>\n      <td>-0.115385</td>\n      <td>0.000000</td>\n    </tr>\n    <tr>\n      <th>1</th>\n      <td>NASDAQ:MSFT</td>\n      <td>MSFT</td>\n      <td>Microsoft Corporation</td>\n      <td>USD</td>\n      <td>USD</td>\n      <td>1</td>\n      <td>0</td>\n      <td>100</td>\n      <td>common</td>\n      <td>stock</td>\n      <td>...</td>\n      <td>7.533069</td>\n      <td>211.907116</td>\n      <td>26.665472</td>\n      <td>338040.254878</td>\n      <td>-3.445107</td>\n      <td>18.785265</td>\n      <td>35.243582</td>\n      <td>-0.120629</td>\n      <td>-0.423077</td>\n      <td>0.181818</td>\n    </tr>\n    <tr>\n      <th>2</th>\n      <td>NASDAQ:GOOG</td>\n      <td>GOOG</td>\n      <td>Alphabet Inc.</td>\n      <td>USD</td>\n      <td>USD</td>\n      <td>1</td>\n      <td>0</td>\n      <td>100</td>\n      <td>common</td>\n      <td>stock</td>\n      <td>...</td>\n      <td>22.331941</td>\n      <td>113.682727</td>\n      <td>24.471066</td>\n      <td>354.886979</td>\n      <td>-2.245827</td>\n      <td>10.744370</td>\n      <td>43.426472</td>\n      <td>0.417832</td>\n      <td>0.653846</td>\n      <td>0.181818</td>\n    </tr>\n    <tr>\n      <th>3</th>\n      <td>NASDAQ:GOOGL</td>\n      <td>GOOGL</td>\n      <td>Alphabet Inc.</td>\n      <td>USD</td>\n      <td>USD</td>\n      <td>1</td>\n      <td>0</td>\n      <td>100</td>\n      <td>common</td>\n      <td>stock</td>\n      <td>...</td>\n      <td>22.562488</td>\n      <td>110.865819</td>\n      <td>24.812980</td>\n      <td>5033.307361</td>\n      <td>-2.430318</td>\n      <td>11.027569</td>\n      <td>43.405704</td>\n      <td>0.417832</td>\n      <td>0.653846</td>\n      <td>0.181818</td>\n    </tr>\n    <tr>\n      <th>4</th>\n      <td>NASDAQ:AMZN</td>\n      <td>AMZN</td>\n      <td>Amazon.com, Inc.</td>\n      <td>USD</td>\n      <td>USD</td>\n      <td>1</td>\n      <td>0</td>\n      <td>100</td>\n      <td>common</td>\n      <td>stock</td>\n      <td>...</td>\n      <td>23.285701</td>\n      <td>43.730049</td>\n      <td>22.126164</td>\n      <td>105377.788536</td>\n      <td>-1.870229</td>\n      <td>-5.623669</td>\n      <td>50.421250</td>\n      <td>-0.134615</td>\n      <td>-0.269231</td>\n      <td>0.000000</td>\n    </tr>\n    <tr>\n      <th>...</th>\n      <td>...</td>\n      <td>...</td>\n      <td>...</td>\n      <td>...</td>\n      <td>...</td>\n      <td>...</td>\n      <td>...</td>\n      <td>...</td>\n      <td>...</td>\n      <td>...</td>\n      <td>...</td>\n      <td>...</td>\n      <td>...</td>\n      <td>...</td>\n      <td>...</td>\n      <td>...</td>\n      <td>...</td>\n      <td>...</td>\n      <td>...</td>\n      <td>...</td>\n      <td>...</td>\n    </tr>\n    <tr>\n      <th>9995</th>\n      <td>OTC:SAMMF</td>\n      <td>SAMMF</td>\n      <td>Sama Resources Inc./Ressources Sama Inc</td>\n      <td>USD</td>\n      <td>USD</td>\n      <td>1</td>\n      <td>0</td>\n      <td>10000</td>\n      <td>common</td>\n      <td>stock</td>\n      <td>...</td>\n      <td>17.605898</td>\n      <td>-45.664327</td>\n      <td>43.983589</td>\n      <td>-63.954807</td>\n      <td>-4.981227</td>\n      <td>25.453765</td>\n      <td>29.020588</td>\n      <td>0.005245</td>\n      <td>0.192308</td>\n      <td>-0.181818</td>\n    </tr>\n    <tr>\n      <th>9996</th>\n      <td>OTC:WRLGF</td>\n      <td>WRLGF</td>\n      <td>WEST RED LAKE GOLD MINES LTD.</td>\n      <td>USD</td>\n      <td>USD</td>\n      <td>1</td>\n      <td>0</td>\n      <td>10000</td>\n      <td>common</td>\n      <td>stock</td>\n      <td>...</td>\n      <td>-3.851163</td>\n      <td>-15.967480</td>\n      <td>158.788182</td>\n      <td>-39.555556</td>\n      <td>-4.296296</td>\n      <td>39.675676</td>\n      <td>598.378378</td>\n      <td>-0.243007</td>\n      <td>-0.576923</td>\n      <td>0.090909</td>\n    </tr>\n    <tr>\n      <th>9997</th>\n      <td>OTC:DMEHF</td>\n      <td>DMEHF</td>\n      <td>Desert Mountain Energy Corp.</td>\n      <td>USD</td>\n      <td>USD</td>\n      <td>1</td>\n      <td>0</td>\n      <td>10000</td>\n      <td>common</td>\n      <td>stock</td>\n      <td>...</td>\n      <td>-71.921053</td>\n      <td>133.649635</td>\n      <td>-84.074627</td>\n      <td>-62.882653</td>\n      <td>-11.083333</td>\n      <td>-81.389535</td>\n      <td>-84.536232</td>\n      <td>-0.389860</td>\n      <td>-0.961538</td>\n      <td>0.181818</td>\n    </tr>\n    <tr>\n      <th>9998</th>\n      <td>OTC:CDBMF</td>\n      <td>CDBMF</td>\n      <td>Cordoba Minerals Corp.</td>\n      <td>USD</td>\n      <td>USD</td>\n      <td>1</td>\n      <td>0</td>\n      <td>10000</td>\n      <td>common</td>\n      <td>stock</td>\n      <td>...</td>\n      <td>6.515397</td>\n      <td>-82.102397</td>\n      <td>-21.085495</td>\n      <td>-97.039906</td>\n      <td>7.035831</td>\n      <td>-23.581395</td>\n      <td>-14.649351</td>\n      <td>0.225524</td>\n      <td>0.269231</td>\n      <td>0.181818</td>\n    </tr>\n    <tr>\n      <th>9999</th>\n      <td>NYSE:KTH</td>\n      <td>KTH</td>\n      <td>Structures Products Cp 8% CorTS Issued by Peco...</td>\n      <td>USD</td>\n      <td>USD</td>\n      <td>1</td>\n      <td>0</td>\n      <td>100</td>\n      <td>preferred</td>\n      <td>stock</td>\n      <td>...</td>\n      <td>-3.901034</td>\n      <td>-12.768240</td>\n      <td>-4.991653</td>\n      <td>13.820000</td>\n      <td>0.370370</td>\n      <td>-4.991653</td>\n      <td>0.529942</td>\n      <td>0.043706</td>\n      <td>0.269231</td>\n      <td>-0.181818</td>\n    </tr>\n  </tbody>\n</table>\n<p>10000 rows × 269 columns</p>\n</div>"
     },
     "execution_count": 5,
     "metadata": {},
     "output_type": "execute_result"
    }
   ],
   "source": [
    "ss = tvs.StockScreener()\n",
    "ss.set_range(0, 10000)\n",
    "df = ss.get()\n",
    "df"
   ],
   "metadata": {
    "collapsed": false,
    "ExecuteTime": {
     "end_time": "2023-08-03T14:17:42.597035144Z",
     "start_time": "2023-08-03T14:17:32.408781860Z"
    }
   },
   "id": "47a993423929c7bb"
  },
  {
   "cell_type": "markdown",
   "source": [
    "# Sorting"
   ],
   "metadata": {
    "collapsed": false
   },
   "id": "31911fef050e517b"
  },
  {
   "cell_type": "code",
   "execution_count": 6,
   "outputs": [
    {
     "data": {
      "text/plain": "      Symbol   Name Description Currency Fundamental Currency Code  Min Move  \\\n0   OTC:FNMA   FNMA  Fannie Mae      USD                       USD         1   \n1  OTC:FNMAH  FNMAH  Fannie Mae      USD                       USD         1   \n2  OTC:FNMAM  FNMAM  Fannie Mae      USD                       USD         1   \n3  OTC:FNMAJ  FNMAJ  Fannie Mae      USD                       USD         1   \n4  OTC:FNMAG  FNMAG  Fannie Mae      USD                       USD         1   \n\n   Min Move 2  Price Scale    Subtype   Type  ...  3-Month Performance raw  \\\n0           0        10000     common  stock  ...                 7.450607   \n1           0          100  preferred  stock  ...                33.333333   \n2           0          100  preferred  stock  ...                25.490196   \n3           0          100  preferred  stock  ...                25.698324   \n4           0          100  preferred  stock  ...                22.916667   \n\n   5Y Performance raw  6-Month Performance raw  All Time Performance raw  \\\n0          -70.400000                -5.958333                -53.151530   \n1          -66.000000                -1.449275                -93.235177   \n2          -67.052767                -1.234568                -93.663366   \n3          -67.625899                -5.263158                -92.756542   \n4          -69.897959                -2.640264                -94.111778   \n\n   Weekly Performance raw  Yearly Performance raw  YTD Performance raw  \\\n0                0.311111              -23.491525            28.202215   \n1              -13.265306              -24.107143             7.594937   \n2                     NaN              -32.631579             8.474576   \n3               -3.743316              -27.710843             9.090909   \n4               -8.156912              -32.954545             1.724138   \n\n   Technical Rating raw  Moving Averages Rating raw  Oscillators Rating raw  \n0              0.333916                    0.576923                0.090909  \n1             -0.295455                   -0.500000               -0.090909  \n2             -0.110140                   -0.038462               -0.181818  \n3             -0.089161                   -0.269231                0.090909  \n4             -0.225524                   -0.269231               -0.181818  \n\n[5 rows x 269 columns]",
      "text/html": "<div>\n<style scoped>\n    .dataframe tbody tr th:only-of-type {\n        vertical-align: middle;\n    }\n\n    .dataframe tbody tr th {\n        vertical-align: top;\n    }\n\n    .dataframe thead th {\n        text-align: right;\n    }\n</style>\n<table border=\"1\" class=\"dataframe\">\n  <thead>\n    <tr style=\"text-align: right;\">\n      <th></th>\n      <th>Symbol</th>\n      <th>Name</th>\n      <th>Description</th>\n      <th>Currency</th>\n      <th>Fundamental Currency Code</th>\n      <th>Min Move</th>\n      <th>Min Move 2</th>\n      <th>Price Scale</th>\n      <th>Subtype</th>\n      <th>Type</th>\n      <th>...</th>\n      <th>3-Month Performance raw</th>\n      <th>5Y Performance raw</th>\n      <th>6-Month Performance raw</th>\n      <th>All Time Performance raw</th>\n      <th>Weekly Performance raw</th>\n      <th>Yearly Performance raw</th>\n      <th>YTD Performance raw</th>\n      <th>Technical Rating raw</th>\n      <th>Moving Averages Rating raw</th>\n      <th>Oscillators Rating raw</th>\n    </tr>\n  </thead>\n  <tbody>\n    <tr>\n      <th>0</th>\n      <td>OTC:FNMA</td>\n      <td>FNMA</td>\n      <td>Fannie Mae</td>\n      <td>USD</td>\n      <td>USD</td>\n      <td>1</td>\n      <td>0</td>\n      <td>10000</td>\n      <td>common</td>\n      <td>stock</td>\n      <td>...</td>\n      <td>7.450607</td>\n      <td>-70.400000</td>\n      <td>-5.958333</td>\n      <td>-53.151530</td>\n      <td>0.311111</td>\n      <td>-23.491525</td>\n      <td>28.202215</td>\n      <td>0.333916</td>\n      <td>0.576923</td>\n      <td>0.090909</td>\n    </tr>\n    <tr>\n      <th>1</th>\n      <td>OTC:FNMAH</td>\n      <td>FNMAH</td>\n      <td>Fannie Mae</td>\n      <td>USD</td>\n      <td>USD</td>\n      <td>1</td>\n      <td>0</td>\n      <td>100</td>\n      <td>preferred</td>\n      <td>stock</td>\n      <td>...</td>\n      <td>33.333333</td>\n      <td>-66.000000</td>\n      <td>-1.449275</td>\n      <td>-93.235177</td>\n      <td>-13.265306</td>\n      <td>-24.107143</td>\n      <td>7.594937</td>\n      <td>-0.295455</td>\n      <td>-0.500000</td>\n      <td>-0.090909</td>\n    </tr>\n    <tr>\n      <th>2</th>\n      <td>OTC:FNMAM</td>\n      <td>FNMAM</td>\n      <td>Fannie Mae</td>\n      <td>USD</td>\n      <td>USD</td>\n      <td>1</td>\n      <td>0</td>\n      <td>100</td>\n      <td>preferred</td>\n      <td>stock</td>\n      <td>...</td>\n      <td>25.490196</td>\n      <td>-67.052767</td>\n      <td>-1.234568</td>\n      <td>-93.663366</td>\n      <td>NaN</td>\n      <td>-32.631579</td>\n      <td>8.474576</td>\n      <td>-0.110140</td>\n      <td>-0.038462</td>\n      <td>-0.181818</td>\n    </tr>\n    <tr>\n      <th>3</th>\n      <td>OTC:FNMAJ</td>\n      <td>FNMAJ</td>\n      <td>Fannie Mae</td>\n      <td>USD</td>\n      <td>USD</td>\n      <td>1</td>\n      <td>0</td>\n      <td>100</td>\n      <td>preferred</td>\n      <td>stock</td>\n      <td>...</td>\n      <td>25.698324</td>\n      <td>-67.625899</td>\n      <td>-5.263158</td>\n      <td>-92.756542</td>\n      <td>-3.743316</td>\n      <td>-27.710843</td>\n      <td>9.090909</td>\n      <td>-0.089161</td>\n      <td>-0.269231</td>\n      <td>0.090909</td>\n    </tr>\n    <tr>\n      <th>4</th>\n      <td>OTC:FNMAG</td>\n      <td>FNMAG</td>\n      <td>Fannie Mae</td>\n      <td>USD</td>\n      <td>USD</td>\n      <td>1</td>\n      <td>0</td>\n      <td>100</td>\n      <td>preferred</td>\n      <td>stock</td>\n      <td>...</td>\n      <td>22.916667</td>\n      <td>-69.897959</td>\n      <td>-2.640264</td>\n      <td>-94.111778</td>\n      <td>-8.156912</td>\n      <td>-32.954545</td>\n      <td>1.724138</td>\n      <td>-0.225524</td>\n      <td>-0.269231</td>\n      <td>-0.181818</td>\n    </tr>\n  </tbody>\n</table>\n<p>5 rows × 269 columns</p>\n</div>"
     },
     "execution_count": 6,
     "metadata": {},
     "output_type": "execute_result"
    }
   ],
   "source": [
    "ss = tvs.StockScreener()\n",
    "ss.sort_by('ebitda', 'desc')\n",
    "df = ss.get()\n",
    "df.head()"
   ],
   "metadata": {
    "collapsed": false,
    "ExecuteTime": {
     "end_time": "2023-08-03T14:17:46.199068452Z",
     "start_time": "2023-08-03T14:17:45.648521480Z"
    }
   },
   "id": "293d3c14f5cf6b4f"
  },
  {
   "cell_type": "markdown",
   "source": [
    "# Filters"
   ],
   "metadata": {
    "collapsed": false
   },
   "id": "247e54be1899a203"
  },
  {
   "cell_type": "markdown",
   "source": [
    "## Markets"
   ],
   "metadata": {
    "collapsed": false
   },
   "id": "4592f2c3da23c6f1"
  },
  {
   "cell_type": "code",
   "execution_count": 9,
   "outputs": [
    {
     "data": {
      "text/plain": "       Symbol    Name         Description Currency Fundamental Currency Code  \\\n0  KRX:005930  005930        SAMSUNG ELEC      KRW                       USD   \n1  KRX:005935  005935     SAMSUNGELEC(1P)      KRW                       USD   \n2  KRX:373220  373220  LG ENERGY SOLUTION      KRW                       USD   \n3  KRX:000660  000660            SK HYNIX      KRW                       USD   \n4  KRX:207940  207940   SAMSUNG BIOLOGICS      KRW                       USD   \n\n   Min Move  Min Move 2  Price Scale    Subtype   Type  ...  \\\n0       100           0            1     common  stock  ...   \n1       100           0            1  preferred  stock  ...   \n2      1000           0            1     common  stock  ...   \n3       100           0            1     common  stock  ...   \n4      1000           0            1     common  stock  ...   \n\n   3-Month Performance raw  5Y Performance raw  6-Month Performance raw  \\\n0                 4.878049           47.798067                 7.668232   \n1                 4.189435           48.958333                 0.175131   \n2                -3.552398           -9.045226                 1.876173   \n3                34.983127           41.176471                29.870130   \n4                 4.669261          112.387165                 0.000000   \n\n   All Time Performance raw  Weekly Performance raw  Yearly Performance raw  \\\n0              21636.168223               -1.573677               11.688312   \n1               1255.450237               -0.174520                1.598579   \n2                 -9.045226               -5.892548               30.528846   \n3               1662.114537                4.347826               23.839009   \n4                504.123491                8.467742               -7.241379   \n\n   YTD Performance raw  Technical Rating raw  Moving Averages Rating raw  \\\n0            23.963964             -0.386364                   -0.500000   \n1            12.820513             -0.424825                   -0.576923   \n2            22.850679             -0.442308                   -0.884615   \n3            59.786951              0.340909                    0.500000   \n4            -2.888087              0.526224                    0.961538   \n\n   Oscillators Rating raw  \n0               -0.272727  \n1               -0.272727  \n2                0.000000  \n3                0.181818  \n4                0.090909  \n\n[5 rows x 269 columns]",
      "text/html": "<div>\n<style scoped>\n    .dataframe tbody tr th:only-of-type {\n        vertical-align: middle;\n    }\n\n    .dataframe tbody tr th {\n        vertical-align: top;\n    }\n\n    .dataframe thead th {\n        text-align: right;\n    }\n</style>\n<table border=\"1\" class=\"dataframe\">\n  <thead>\n    <tr style=\"text-align: right;\">\n      <th></th>\n      <th>Symbol</th>\n      <th>Name</th>\n      <th>Description</th>\n      <th>Currency</th>\n      <th>Fundamental Currency Code</th>\n      <th>Min Move</th>\n      <th>Min Move 2</th>\n      <th>Price Scale</th>\n      <th>Subtype</th>\n      <th>Type</th>\n      <th>...</th>\n      <th>3-Month Performance raw</th>\n      <th>5Y Performance raw</th>\n      <th>6-Month Performance raw</th>\n      <th>All Time Performance raw</th>\n      <th>Weekly Performance raw</th>\n      <th>Yearly Performance raw</th>\n      <th>YTD Performance raw</th>\n      <th>Technical Rating raw</th>\n      <th>Moving Averages Rating raw</th>\n      <th>Oscillators Rating raw</th>\n    </tr>\n  </thead>\n  <tbody>\n    <tr>\n      <th>0</th>\n      <td>KRX:005930</td>\n      <td>005930</td>\n      <td>SAMSUNG ELEC</td>\n      <td>KRW</td>\n      <td>USD</td>\n      <td>100</td>\n      <td>0</td>\n      <td>1</td>\n      <td>common</td>\n      <td>stock</td>\n      <td>...</td>\n      <td>4.878049</td>\n      <td>47.798067</td>\n      <td>7.668232</td>\n      <td>21636.168223</td>\n      <td>-1.573677</td>\n      <td>11.688312</td>\n      <td>23.963964</td>\n      <td>-0.386364</td>\n      <td>-0.500000</td>\n      <td>-0.272727</td>\n    </tr>\n    <tr>\n      <th>1</th>\n      <td>KRX:005935</td>\n      <td>005935</td>\n      <td>SAMSUNGELEC(1P)</td>\n      <td>KRW</td>\n      <td>USD</td>\n      <td>100</td>\n      <td>0</td>\n      <td>1</td>\n      <td>preferred</td>\n      <td>stock</td>\n      <td>...</td>\n      <td>4.189435</td>\n      <td>48.958333</td>\n      <td>0.175131</td>\n      <td>1255.450237</td>\n      <td>-0.174520</td>\n      <td>1.598579</td>\n      <td>12.820513</td>\n      <td>-0.424825</td>\n      <td>-0.576923</td>\n      <td>-0.272727</td>\n    </tr>\n    <tr>\n      <th>2</th>\n      <td>KRX:373220</td>\n      <td>373220</td>\n      <td>LG ENERGY SOLUTION</td>\n      <td>KRW</td>\n      <td>USD</td>\n      <td>1000</td>\n      <td>0</td>\n      <td>1</td>\n      <td>common</td>\n      <td>stock</td>\n      <td>...</td>\n      <td>-3.552398</td>\n      <td>-9.045226</td>\n      <td>1.876173</td>\n      <td>-9.045226</td>\n      <td>-5.892548</td>\n      <td>30.528846</td>\n      <td>22.850679</td>\n      <td>-0.442308</td>\n      <td>-0.884615</td>\n      <td>0.000000</td>\n    </tr>\n    <tr>\n      <th>3</th>\n      <td>KRX:000660</td>\n      <td>000660</td>\n      <td>SK HYNIX</td>\n      <td>KRW</td>\n      <td>USD</td>\n      <td>100</td>\n      <td>0</td>\n      <td>1</td>\n      <td>common</td>\n      <td>stock</td>\n      <td>...</td>\n      <td>34.983127</td>\n      <td>41.176471</td>\n      <td>29.870130</td>\n      <td>1662.114537</td>\n      <td>4.347826</td>\n      <td>23.839009</td>\n      <td>59.786951</td>\n      <td>0.340909</td>\n      <td>0.500000</td>\n      <td>0.181818</td>\n    </tr>\n    <tr>\n      <th>4</th>\n      <td>KRX:207940</td>\n      <td>207940</td>\n      <td>SAMSUNG BIOLOGICS</td>\n      <td>KRW</td>\n      <td>USD</td>\n      <td>1000</td>\n      <td>0</td>\n      <td>1</td>\n      <td>common</td>\n      <td>stock</td>\n      <td>...</td>\n      <td>4.669261</td>\n      <td>112.387165</td>\n      <td>0.000000</td>\n      <td>504.123491</td>\n      <td>8.467742</td>\n      <td>-7.241379</td>\n      <td>-2.888087</td>\n      <td>0.526224</td>\n      <td>0.961538</td>\n      <td>0.090909</td>\n    </tr>\n  </tbody>\n</table>\n<p>5 rows × 269 columns</p>\n</div>"
     },
     "execution_count": 9,
     "metadata": {},
     "output_type": "execute_result"
    }
   ],
   "source": [
    "ss = tvs.StockScreener()\n",
    "ss.set_markets('korea')\n",
    "df = ss.get()\n",
    "df.head()"
   ],
   "metadata": {
    "collapsed": false,
    "ExecuteTime": {
     "end_time": "2023-08-03T14:19:29.912912521Z",
     "start_time": "2023-08-03T14:19:29.302137598Z"
    }
   },
   "id": "7f6b8ff3f9bf5cf5"
  },
  {
   "cell_type": "code",
   "execution_count": 10,
   "outputs": [
    {
     "name": "stdout",
     "output_type": "stream",
     "text": [
      "['america', 'uk', 'india', 'spain', 'russia', 'australia', 'brazil', 'japan', 'newzealand', 'turkey', 'switzerland', 'hongkong', 'taiwan', 'netherlands', 'belgium', 'portugal', 'france', 'mexico', 'canada', 'colombia', 'uae', 'nigeria', 'singapore', 'germany', 'pakistan', 'peru', 'poland', 'italy', 'argentina', 'israel', 'egypt', 'srilanka', 'serbia', 'chile', 'china', 'malaysia', 'morocco', 'ksa', 'bahrain', 'qatar', 'indonesia', 'finland', 'iceland', 'denmark', 'romania', 'hungary', 'sweden', 'slovakia', 'lithuania', 'luxembourg', 'estonia', 'latvia', 'vietnam', 'rsa', 'thailand', 'tunisia', 'korea', 'kenya', 'kuwait', 'norway', 'philippines', 'greece', 'venezuela', 'cyprus', 'bangladesh']\n"
     ]
    }
   ],
   "source": [
    "# List the available stock markets\n",
    "from tvscreener import tvdata\n",
    "\n",
    "print(tvdata.stock['markets'])"
   ],
   "metadata": {
    "collapsed": false,
    "ExecuteTime": {
     "end_time": "2023-08-03T14:19:54.324095722Z",
     "start_time": "2023-08-03T14:19:54.314227497Z"
    }
   },
   "id": "3ed464ea6f5604b1"
  },
  {
   "cell_type": "markdown",
   "source": [
    "### Prebuilt filter by field"
   ],
   "metadata": {
    "collapsed": false
   },
   "id": "b26cbeac916a18fb"
  },
  {
   "cell_type": "code",
   "execution_count": 12,
   "outputs": [
    {
     "data": {
      "text/plain": "      Symbol   Name            Description Currency Fundamental Currency Code  \\\n0  OTC:TCTZF  TCTZF   Tencent Holding Ltd.      USD                       USD   \n1  OTC:TCEHY  TCEHY   Tencent Holding Ltd.      USD                       USD   \n2  OTC:BACRP  BACRP  Bank of America Corp.      USD                       USD   \n3  OTC:NVSEF  NVSEF            Novartis AG      USD                       USD   \n4  OTC:UNLYF  UNLYF          Unilever, PLC      USD                       USD   \n\n   Min Move  Min Move 2  Price Scale    Subtype   Type  ...  \\\n0         1           0          100     common  stock  ...   \n1         1           0          100                dr  ...   \n2         1           0          100  preferred  stock  ...   \n3         1           0          100     common  stock  ...   \n4         1           0          100     common  stock  ...   \n\n   3-Month Performance raw  5Y Performance raw  6-Month Performance raw  \\\n0                 0.970785            0.357871                -9.741292   \n1                 2.678984            1.183432                -8.781288   \n2                -6.000000         2837.500000                11.904762   \n3                 6.050000           26.689341                23.313953   \n4                -4.246476           -6.046099                 5.652477   \n\n   All Time Performance raw  Weekly Performance raw  Yearly Performance raw  \\\n0              30247.945205                1.974684               16.600000   \n1               2904.054054                0.588235               15.690867   \n2               2837.500000                8.796296               38.235294   \n3                163.478261                2.463768               21.338673   \n4                550.184049                1.159738               10.166320   \n\n   YTD Performance raw  Technical Rating raw  Moving Averages Rating raw  \\\n0             3.450852              0.508741                    0.653846   \n1             1.160410              0.585664                    0.807692   \n2           -21.666667              0.528409                    0.875000   \n3            15.321252              0.571678                    0.961538   \n4             4.790626              0.617133                    0.961538   \n\n   Oscillators Rating raw  \n0                0.363636  \n1                0.363636  \n2                0.181818  \n3                0.181818  \n4                0.272727  \n\n[5 rows x 269 columns]",
      "text/html": "<div>\n<style scoped>\n    .dataframe tbody tr th:only-of-type {\n        vertical-align: middle;\n    }\n\n    .dataframe tbody tr th {\n        vertical-align: top;\n    }\n\n    .dataframe thead th {\n        text-align: right;\n    }\n</style>\n<table border=\"1\" class=\"dataframe\">\n  <thead>\n    <tr style=\"text-align: right;\">\n      <th></th>\n      <th>Symbol</th>\n      <th>Name</th>\n      <th>Description</th>\n      <th>Currency</th>\n      <th>Fundamental Currency Code</th>\n      <th>Min Move</th>\n      <th>Min Move 2</th>\n      <th>Price Scale</th>\n      <th>Subtype</th>\n      <th>Type</th>\n      <th>...</th>\n      <th>3-Month Performance raw</th>\n      <th>5Y Performance raw</th>\n      <th>6-Month Performance raw</th>\n      <th>All Time Performance raw</th>\n      <th>Weekly Performance raw</th>\n      <th>Yearly Performance raw</th>\n      <th>YTD Performance raw</th>\n      <th>Technical Rating raw</th>\n      <th>Moving Averages Rating raw</th>\n      <th>Oscillators Rating raw</th>\n    </tr>\n  </thead>\n  <tbody>\n    <tr>\n      <th>0</th>\n      <td>OTC:TCTZF</td>\n      <td>TCTZF</td>\n      <td>Tencent Holding Ltd.</td>\n      <td>USD</td>\n      <td>USD</td>\n      <td>1</td>\n      <td>0</td>\n      <td>100</td>\n      <td>common</td>\n      <td>stock</td>\n      <td>...</td>\n      <td>0.970785</td>\n      <td>0.357871</td>\n      <td>-9.741292</td>\n      <td>30247.945205</td>\n      <td>1.974684</td>\n      <td>16.600000</td>\n      <td>3.450852</td>\n      <td>0.508741</td>\n      <td>0.653846</td>\n      <td>0.363636</td>\n    </tr>\n    <tr>\n      <th>1</th>\n      <td>OTC:TCEHY</td>\n      <td>TCEHY</td>\n      <td>Tencent Holding Ltd.</td>\n      <td>USD</td>\n      <td>USD</td>\n      <td>1</td>\n      <td>0</td>\n      <td>100</td>\n      <td></td>\n      <td>dr</td>\n      <td>...</td>\n      <td>2.678984</td>\n      <td>1.183432</td>\n      <td>-8.781288</td>\n      <td>2904.054054</td>\n      <td>0.588235</td>\n      <td>15.690867</td>\n      <td>1.160410</td>\n      <td>0.585664</td>\n      <td>0.807692</td>\n      <td>0.363636</td>\n    </tr>\n    <tr>\n      <th>2</th>\n      <td>OTC:BACRP</td>\n      <td>BACRP</td>\n      <td>Bank of America Corp.</td>\n      <td>USD</td>\n      <td>USD</td>\n      <td>1</td>\n      <td>0</td>\n      <td>100</td>\n      <td>preferred</td>\n      <td>stock</td>\n      <td>...</td>\n      <td>-6.000000</td>\n      <td>2837.500000</td>\n      <td>11.904762</td>\n      <td>2837.500000</td>\n      <td>8.796296</td>\n      <td>38.235294</td>\n      <td>-21.666667</td>\n      <td>0.528409</td>\n      <td>0.875000</td>\n      <td>0.181818</td>\n    </tr>\n    <tr>\n      <th>3</th>\n      <td>OTC:NVSEF</td>\n      <td>NVSEF</td>\n      <td>Novartis AG</td>\n      <td>USD</td>\n      <td>USD</td>\n      <td>1</td>\n      <td>0</td>\n      <td>100</td>\n      <td>common</td>\n      <td>stock</td>\n      <td>...</td>\n      <td>6.050000</td>\n      <td>26.689341</td>\n      <td>23.313953</td>\n      <td>163.478261</td>\n      <td>2.463768</td>\n      <td>21.338673</td>\n      <td>15.321252</td>\n      <td>0.571678</td>\n      <td>0.961538</td>\n      <td>0.181818</td>\n    </tr>\n    <tr>\n      <th>4</th>\n      <td>OTC:UNLYF</td>\n      <td>UNLYF</td>\n      <td>Unilever, PLC</td>\n      <td>USD</td>\n      <td>USD</td>\n      <td>1</td>\n      <td>0</td>\n      <td>100</td>\n      <td>common</td>\n      <td>stock</td>\n      <td>...</td>\n      <td>-4.246476</td>\n      <td>-6.046099</td>\n      <td>5.652477</td>\n      <td>550.184049</td>\n      <td>1.159738</td>\n      <td>10.166320</td>\n      <td>4.790626</td>\n      <td>0.617133</td>\n      <td>0.961538</td>\n      <td>0.272727</td>\n    </tr>\n  </tbody>\n</table>\n<p>5 rows × 269 columns</p>\n</div>"
     },
     "execution_count": 12,
     "metadata": {},
     "output_type": "execute_result"
    }
   ],
   "source": [
    "from tvscreener.filter import RatingFilter, Ratings\n",
    "\n",
    "ss = tvs.StockScreener()\n",
    "\n",
    "# `Recommend.All` is the field name for the overall rating\n",
    "filter_rating = RatingFilter('Recommend.All', Ratings.STRONG_BUY)\n",
    "\n",
    "ss.add_prebuilt_filter(filter_rating)\n",
    "df = ss.get()\n",
    "df.head()"
   ],
   "metadata": {
    "collapsed": false,
    "ExecuteTime": {
     "end_time": "2023-08-03T14:26:08.592963948Z",
     "start_time": "2023-08-03T14:26:07.686440879Z"
    }
   },
   "id": "1efed19065f4c7ad"
  },
  {
   "cell_type": "markdown",
   "source": [
    "### Low level filter"
   ],
   "metadata": {
    "collapsed": false
   },
   "id": "9445a44e175d0a84"
  },
  {
   "cell_type": "code",
   "execution_count": 15,
   "outputs": [
    {
     "data": {
      "text/plain": "         Symbol   Name                                  Description Currency  \\\n0  NASDAQ:CMCSA  CMCSA                          Comcast Corporation      USD   \n1      NYSE:CAT    CAT                            Caterpillar, Inc.      USD   \n2      NYSE:UNP    UNP                    Union Pacific Corporation      USD   \n3      NYSE:IBM    IBM  International Business Machines Corporation      USD   \n4    NASDAQ:HON    HON                 Honeywell International Inc.      USD   \n\n  Fundamental Currency Code  Min Move  Min Move 2  Price Scale Subtype   Type  \\\n0                       USD         1           0          100  common  stock   \n1                       USD         1           0          100  common  stock   \n2                       USD         1           0          100  common  stock   \n3                       USD         1           0          100  common  stock   \n4                       USD         1           0          100  common  stock   \n\n   ...  3-Month Performance raw  5Y Performance raw  6-Month Performance raw  \\\n0  ...                11.239832           28.319591                10.585641   \n1  ...                33.264666          107.660320                16.655738   \n2  ...                16.220433           56.318960                 9.668994   \n3  ...                16.716757            5.302323                 5.383205   \n4  ...                -2.893433           28.560868                -7.514430   \n\n   All Time Performance raw  Weekly Performance raw  Yearly Performance raw  \\\n0              73922.438000                1.381557               19.328398   \n1               8155.378438                9.912345               55.269474   \n2              23791.575925               -1.919728                3.305896   \n3                880.830628                0.976810                9.004703   \n4               1788.931329               -5.929949                1.198828   \n\n   YTD Performance raw  Technical Rating raw  Moving Averages Rating raw  \\\n0            29.164282              0.442308                    0.884615   \n1            18.264916              0.305944                    0.884615   \n2            11.404313              0.442308                    0.884615   \n3             1.835578              0.312937                    0.807692   \n4           -10.931861             -0.533217                   -0.884615   \n\n   Oscillators Rating raw  \n0                0.000000  \n1               -0.272727  \n2                0.000000  \n3               -0.181818  \n4               -0.181818  \n\n[5 rows x 269 columns]",
      "text/html": "<div>\n<style scoped>\n    .dataframe tbody tr th:only-of-type {\n        vertical-align: middle;\n    }\n\n    .dataframe tbody tr th {\n        vertical-align: top;\n    }\n\n    .dataframe thead th {\n        text-align: right;\n    }\n</style>\n<table border=\"1\" class=\"dataframe\">\n  <thead>\n    <tr style=\"text-align: right;\">\n      <th></th>\n      <th>Symbol</th>\n      <th>Name</th>\n      <th>Description</th>\n      <th>Currency</th>\n      <th>Fundamental Currency Code</th>\n      <th>Min Move</th>\n      <th>Min Move 2</th>\n      <th>Price Scale</th>\n      <th>Subtype</th>\n      <th>Type</th>\n      <th>...</th>\n      <th>3-Month Performance raw</th>\n      <th>5Y Performance raw</th>\n      <th>6-Month Performance raw</th>\n      <th>All Time Performance raw</th>\n      <th>Weekly Performance raw</th>\n      <th>Yearly Performance raw</th>\n      <th>YTD Performance raw</th>\n      <th>Technical Rating raw</th>\n      <th>Moving Averages Rating raw</th>\n      <th>Oscillators Rating raw</th>\n    </tr>\n  </thead>\n  <tbody>\n    <tr>\n      <th>0</th>\n      <td>NASDAQ:CMCSA</td>\n      <td>CMCSA</td>\n      <td>Comcast Corporation</td>\n      <td>USD</td>\n      <td>USD</td>\n      <td>1</td>\n      <td>0</td>\n      <td>100</td>\n      <td>common</td>\n      <td>stock</td>\n      <td>...</td>\n      <td>11.239832</td>\n      <td>28.319591</td>\n      <td>10.585641</td>\n      <td>73922.438000</td>\n      <td>1.381557</td>\n      <td>19.328398</td>\n      <td>29.164282</td>\n      <td>0.442308</td>\n      <td>0.884615</td>\n      <td>0.000000</td>\n    </tr>\n    <tr>\n      <th>1</th>\n      <td>NYSE:CAT</td>\n      <td>CAT</td>\n      <td>Caterpillar, Inc.</td>\n      <td>USD</td>\n      <td>USD</td>\n      <td>1</td>\n      <td>0</td>\n      <td>100</td>\n      <td>common</td>\n      <td>stock</td>\n      <td>...</td>\n      <td>33.264666</td>\n      <td>107.660320</td>\n      <td>16.655738</td>\n      <td>8155.378438</td>\n      <td>9.912345</td>\n      <td>55.269474</td>\n      <td>18.264916</td>\n      <td>0.305944</td>\n      <td>0.884615</td>\n      <td>-0.272727</td>\n    </tr>\n    <tr>\n      <th>2</th>\n      <td>NYSE:UNP</td>\n      <td>UNP</td>\n      <td>Union Pacific Corporation</td>\n      <td>USD</td>\n      <td>USD</td>\n      <td>1</td>\n      <td>0</td>\n      <td>100</td>\n      <td>common</td>\n      <td>stock</td>\n      <td>...</td>\n      <td>16.220433</td>\n      <td>56.318960</td>\n      <td>9.668994</td>\n      <td>23791.575925</td>\n      <td>-1.919728</td>\n      <td>3.305896</td>\n      <td>11.404313</td>\n      <td>0.442308</td>\n      <td>0.884615</td>\n      <td>0.000000</td>\n    </tr>\n    <tr>\n      <th>3</th>\n      <td>NYSE:IBM</td>\n      <td>IBM</td>\n      <td>International Business Machines Corporation</td>\n      <td>USD</td>\n      <td>USD</td>\n      <td>1</td>\n      <td>0</td>\n      <td>100</td>\n      <td>common</td>\n      <td>stock</td>\n      <td>...</td>\n      <td>16.716757</td>\n      <td>5.302323</td>\n      <td>5.383205</td>\n      <td>880.830628</td>\n      <td>0.976810</td>\n      <td>9.004703</td>\n      <td>1.835578</td>\n      <td>0.312937</td>\n      <td>0.807692</td>\n      <td>-0.181818</td>\n    </tr>\n    <tr>\n      <th>4</th>\n      <td>NASDAQ:HON</td>\n      <td>HON</td>\n      <td>Honeywell International Inc.</td>\n      <td>USD</td>\n      <td>USD</td>\n      <td>1</td>\n      <td>0</td>\n      <td>100</td>\n      <td>common</td>\n      <td>stock</td>\n      <td>...</td>\n      <td>-2.893433</td>\n      <td>28.560868</td>\n      <td>-7.514430</td>\n      <td>1788.931329</td>\n      <td>-5.929949</td>\n      <td>1.198828</td>\n      <td>-10.931861</td>\n      <td>-0.533217</td>\n      <td>-0.884615</td>\n      <td>-0.181818</td>\n    </tr>\n  </tbody>\n</table>\n<p>5 rows × 269 columns</p>\n</div>"
     },
     "execution_count": 15,
     "metadata": {},
     "output_type": "execute_result"
    }
   ],
   "source": [
    "from tvscreener.filter import FilterOperator\n",
    "\n",
    "ss = tvs.StockScreener()\n",
    "ss.add_filter('RSI', FilterOperator.NOT_IN_RANGE, [30, 70])\n",
    "df = ss.get()\n",
    "df.head()"
   ],
   "metadata": {
    "collapsed": false,
    "ExecuteTime": {
     "end_time": "2023-08-03T14:30:10.190025132Z",
     "start_time": "2023-08-03T14:30:09.065947260Z"
    }
   },
   "id": "e6fb33b84475de00"
  },
  {
   "cell_type": "markdown",
   "source": [
    "## Time intervals"
   ],
   "metadata": {
    "collapsed": false
   },
   "id": "aa9b0e3605524ae9"
  },
  {
   "cell_type": "code",
   "execution_count": 16,
   "outputs": [
    {
     "data": {
      "text/plain": "         Symbol   Name            Description Currency  \\\n0   NASDAQ:AAPL   AAPL             Apple Inc.      USD   \n1   NASDAQ:MSFT   MSFT  Microsoft Corporation      USD   \n2  NASDAQ:GOOGL  GOOGL          Alphabet Inc.      USD   \n3   NASDAQ:GOOG   GOOG          Alphabet Inc.      USD   \n4   NASDAQ:AMZN   AMZN       Amazon.com, Inc.      USD   \n\n  Fundamental Currency Code  Min Move  Min Move 2  Price Scale Subtype   Type  \\\n0                       USD         1           0          100  common  stock   \n1                       USD         1           0          100  common  stock   \n2                       USD         1           0          100  common  stock   \n3                       USD         1           0          100  common  stock   \n4                       USD         1           0          100  common  stock   \n\n   ...  3-Month Performance raw  5Y Performance raw  6-Month Performance raw  \\\n0  ...                11.665448          280.735866                28.973857   \n1  ...                 6.898469          210.066414                25.917963   \n2  ...                21.894677          109.716865                24.132906   \n3  ...                21.558109          112.331039                23.683702   \n4  ...                22.336242           42.623143                21.185636   \n\n   All Time Performance raw  Weekly Performance raw  Yearly Performance raw  \\\n0             148651.830960               -2.601775               18.701815   \n1             336044.739414               -4.014920               18.084261   \n2               5005.337289               -2.961950               10.422608   \n3                352.009512               -2.864188               10.043837   \n4             104565.474178               -2.625954               -6.350488   \n\n   YTD Performance raw  Technical Rating raw  Moving Averages Rating raw  \\\n0            46.545901             -0.096154                   -0.192308   \n1            34.445450             -0.211538                   -0.423077   \n2            42.624323              0.340909                    0.500000   \n3            42.519203              0.340909                    0.500000   \n4            49.262813             -0.089161                   -0.269231   \n\n   Oscillators Rating raw  \n0                0.000000  \n1                0.000000  \n2                0.181818  \n3                0.181818  \n4                0.090909  \n\n[5 rows x 269 columns]",
      "text/html": "<div>\n<style scoped>\n    .dataframe tbody tr th:only-of-type {\n        vertical-align: middle;\n    }\n\n    .dataframe tbody tr th {\n        vertical-align: top;\n    }\n\n    .dataframe thead th {\n        text-align: right;\n    }\n</style>\n<table border=\"1\" class=\"dataframe\">\n  <thead>\n    <tr style=\"text-align: right;\">\n      <th></th>\n      <th>Symbol</th>\n      <th>Name</th>\n      <th>Description</th>\n      <th>Currency</th>\n      <th>Fundamental Currency Code</th>\n      <th>Min Move</th>\n      <th>Min Move 2</th>\n      <th>Price Scale</th>\n      <th>Subtype</th>\n      <th>Type</th>\n      <th>...</th>\n      <th>3-Month Performance raw</th>\n      <th>5Y Performance raw</th>\n      <th>6-Month Performance raw</th>\n      <th>All Time Performance raw</th>\n      <th>Weekly Performance raw</th>\n      <th>Yearly Performance raw</th>\n      <th>YTD Performance raw</th>\n      <th>Technical Rating raw</th>\n      <th>Moving Averages Rating raw</th>\n      <th>Oscillators Rating raw</th>\n    </tr>\n  </thead>\n  <tbody>\n    <tr>\n      <th>0</th>\n      <td>NASDAQ:AAPL</td>\n      <td>AAPL</td>\n      <td>Apple Inc.</td>\n      <td>USD</td>\n      <td>USD</td>\n      <td>1</td>\n      <td>0</td>\n      <td>100</td>\n      <td>common</td>\n      <td>stock</td>\n      <td>...</td>\n      <td>11.665448</td>\n      <td>280.735866</td>\n      <td>28.973857</td>\n      <td>148651.830960</td>\n      <td>-2.601775</td>\n      <td>18.701815</td>\n      <td>46.545901</td>\n      <td>-0.096154</td>\n      <td>-0.192308</td>\n      <td>0.000000</td>\n    </tr>\n    <tr>\n      <th>1</th>\n      <td>NASDAQ:MSFT</td>\n      <td>MSFT</td>\n      <td>Microsoft Corporation</td>\n      <td>USD</td>\n      <td>USD</td>\n      <td>1</td>\n      <td>0</td>\n      <td>100</td>\n      <td>common</td>\n      <td>stock</td>\n      <td>...</td>\n      <td>6.898469</td>\n      <td>210.066414</td>\n      <td>25.917963</td>\n      <td>336044.739414</td>\n      <td>-4.014920</td>\n      <td>18.084261</td>\n      <td>34.445450</td>\n      <td>-0.211538</td>\n      <td>-0.423077</td>\n      <td>0.000000</td>\n    </tr>\n    <tr>\n      <th>2</th>\n      <td>NASDAQ:GOOGL</td>\n      <td>GOOGL</td>\n      <td>Alphabet Inc.</td>\n      <td>USD</td>\n      <td>USD</td>\n      <td>1</td>\n      <td>0</td>\n      <td>100</td>\n      <td>common</td>\n      <td>stock</td>\n      <td>...</td>\n      <td>21.894677</td>\n      <td>109.716865</td>\n      <td>24.132906</td>\n      <td>5005.337289</td>\n      <td>-2.961950</td>\n      <td>10.422608</td>\n      <td>42.624323</td>\n      <td>0.340909</td>\n      <td>0.500000</td>\n      <td>0.181818</td>\n    </tr>\n    <tr>\n      <th>3</th>\n      <td>NASDAQ:GOOG</td>\n      <td>GOOG</td>\n      <td>Alphabet Inc.</td>\n      <td>USD</td>\n      <td>USD</td>\n      <td>1</td>\n      <td>0</td>\n      <td>100</td>\n      <td>common</td>\n      <td>stock</td>\n      <td>...</td>\n      <td>21.558109</td>\n      <td>112.331039</td>\n      <td>23.683702</td>\n      <td>352.009512</td>\n      <td>-2.864188</td>\n      <td>10.043837</td>\n      <td>42.519203</td>\n      <td>0.340909</td>\n      <td>0.500000</td>\n      <td>0.181818</td>\n    </tr>\n    <tr>\n      <th>4</th>\n      <td>NASDAQ:AMZN</td>\n      <td>AMZN</td>\n      <td>Amazon.com, Inc.</td>\n      <td>USD</td>\n      <td>USD</td>\n      <td>1</td>\n      <td>0</td>\n      <td>100</td>\n      <td>common</td>\n      <td>stock</td>\n      <td>...</td>\n      <td>22.336242</td>\n      <td>42.623143</td>\n      <td>21.185636</td>\n      <td>104565.474178</td>\n      <td>-2.625954</td>\n      <td>-6.350488</td>\n      <td>49.262813</td>\n      <td>-0.089161</td>\n      <td>-0.269231</td>\n      <td>0.090909</td>\n    </tr>\n  </tbody>\n</table>\n<p>5 rows × 269 columns</p>\n</div>"
     },
     "execution_count": 16,
     "metadata": {},
     "output_type": "execute_result"
    }
   ],
   "source": [
    "ss = tvs.StockScreener()\n",
    "df = ss.get(tvs.TimeInterval.THIRTY_MINUTES)\n",
    "df.head()"
   ],
   "metadata": {
    "collapsed": false,
    "ExecuteTime": {
     "end_time": "2023-08-03T14:47:56.009877942Z",
     "start_time": "2023-08-03T14:47:54.894479557Z"
    }
   },
   "id": "8864827cc8cc60d8"
  },
  {
   "cell_type": "markdown",
   "source": [
    "## Debugging"
   ],
   "metadata": {
    "collapsed": false
   },
   "id": "4afe73932d662204"
  },
  {
   "cell_type": "code",
   "execution_count": 17,
   "outputs": [
    {
     "name": "stdout",
     "output_type": "stream",
     "text": [
      "Request: https://scanner.tradingview.com/global/scan\n",
      "Payload:\n",
      "{\n",
      "    \"filter\": [],\n",
      "    \"options\": {\n",
      "        \"lang\": \"en\"\n",
      "    },\n",
      "    \"symbols\": {\n",
      "        \"query\": {\n",
      "            \"types\": []\n",
      "        },\n",
      "        \"tickers\": []\n",
      "    },\n",
      "    \"sort\": {\n",
      "        \"sortBy\": \"market_cap_basic\",\n",
      "        \"sortOrder\": \"desc\"\n",
      "    },\n",
      "    \"range\": [\n",
      "        0,\n",
      "        150\n",
      "    ],\n",
      "    \"columns\": [\n",
      "        \"name\",\n",
      "        \"description\",\n",
      "        \"currency\",\n",
      "        \"fundamental_currency_code\",\n",
      "        \"minmov\",\n",
      "        \"minmove2\",\n",
      "        \"pricescale\",\n",
      "        \"subtype\",\n",
      "        \"type\",\n",
      "        \"fractional\",\n",
      "        \"ADR\",\n",
      "        \"ADX\",\n",
      "        \"ADX+DI\",\n",
      "        \"ADX-DI\",\n",
      "        \"AO\",\n",
      "        \"ATR\",\n",
      "        \"Aroon.Down\",\n",
      "        \"Aroon.Up\",\n",
      "        \"BB.lower\",\n",
      "        \"BB.upper\",\n",
      "        \"BBPower\",\n",
      "        \"CCI20\",\n",
      "        \"DonchCh20.Lower\",\n",
      "        \"DonchCh20.Upper\",\n",
      "        \"EMA10\",\n",
      "        \"EMA100\",\n",
      "        \"EMA20\",\n",
      "        \"EMA200\",\n",
      "        \"EMA30\",\n",
      "        \"EMA5\",\n",
      "        \"EMA50\",\n",
      "        \"High.1M\",\n",
      "        \"High.3M\",\n",
      "        \"High.6M\",\n",
      "        \"High.All\",\n",
      "        \"HullMA9\",\n",
      "        \"Ichimoku.BLine\",\n",
      "        \"Ichimoku.CLine\",\n",
      "        \"Ichimoku.Lead1\",\n",
      "        \"Ichimoku.Lead2\",\n",
      "        \"KltChnl.lower\",\n",
      "        \"KltChnl.upper\",\n",
      "        \"Low.1M\",\n",
      "        \"Low.3M\",\n",
      "        \"Low.6M\",\n",
      "        \"Low.All\",\n",
      "        \"MACD.macd\",\n",
      "        \"MACD.signal\",\n",
      "        \"Mom\",\n",
      "        \"P.SAR\",\n",
      "        \"Perf.1M\",\n",
      "        \"Perf.3M\",\n",
      "        \"Perf.5Y\",\n",
      "        \"Perf.6M\",\n",
      "        \"Perf.All\",\n",
      "        \"Perf.W\",\n",
      "        \"Perf.Y\",\n",
      "        \"Perf.YTD\",\n",
      "        \"Pivot.M.Camarilla.Middle\",\n",
      "        \"Pivot.M.Camarilla.R1\",\n",
      "        \"Pivot.M.Camarilla.R2\",\n",
      "        \"Pivot.M.Camarilla.R3\",\n",
      "        \"Pivot.M.Camarilla.S1\",\n",
      "        \"Pivot.M.Camarilla.S2\",\n",
      "        \"Pivot.M.Camarilla.S3\",\n",
      "        \"Pivot.M.Classic.Middle\",\n",
      "        \"Pivot.M.Classic.R1\",\n",
      "        \"Pivot.M.Classic.R2\",\n",
      "        \"Pivot.M.Classic.R3\",\n",
      "        \"Pivot.M.Classic.S1\",\n",
      "        \"Pivot.M.Classic.S2\",\n",
      "        \"Pivot.M.Classic.S3\",\n",
      "        \"Pivot.M.Demark.Middle\",\n",
      "        \"Pivot.M.Demark.R1\",\n",
      "        \"Pivot.M.Demark.S1\",\n",
      "        \"Pivot.M.Fibonacci.Middle\",\n",
      "        \"Pivot.M.Fibonacci.R1\",\n",
      "        \"Pivot.M.Fibonacci.R2\",\n",
      "        \"Pivot.M.Fibonacci.R3\",\n",
      "        \"Pivot.M.Fibonacci.S1\",\n",
      "        \"Pivot.M.Fibonacci.S2\",\n",
      "        \"Pivot.M.Fibonacci.S3\",\n",
      "        \"Pivot.M.Woodie.Middle\",\n",
      "        \"Pivot.M.Woodie.R1\",\n",
      "        \"Pivot.M.Woodie.R2\",\n",
      "        \"Pivot.M.Woodie.R3\",\n",
      "        \"Pivot.M.Woodie.S1\",\n",
      "        \"Pivot.M.Woodie.S2\",\n",
      "        \"Pivot.M.Woodie.S3\",\n",
      "        \"ROC\",\n",
      "        \"RSI\",\n",
      "        \"RSI7\",\n",
      "        \"Recommend.All\",\n",
      "        \"Recommend.MA\",\n",
      "        \"Recommend.Other\",\n",
      "        \"SMA10\",\n",
      "        \"SMA100\",\n",
      "        \"SMA20\",\n",
      "        \"SMA200\",\n",
      "        \"SMA30\",\n",
      "        \"SMA5\",\n",
      "        \"SMA50\",\n",
      "        \"Stoch.D\",\n",
      "        \"Stoch.K\",\n",
      "        \"Stoch.RSI.D\",\n",
      "        \"Stoch.RSI.K\",\n",
      "        \"UO\",\n",
      "        \"VWAP\",\n",
      "        \"VWMA\",\n",
      "        \"Volatility.D\",\n",
      "        \"Volatility.M\",\n",
      "        \"Volatility.W\",\n",
      "        \"W.R\",\n",
      "        \"change\",\n",
      "        \"close\",\n",
      "        \"gap\",\n",
      "        \"high\",\n",
      "        \"low\",\n",
      "        \"open\",\n",
      "        \"price_52_week_high\",\n",
      "        \"price_52_week_low\",\n",
      "        \"ChaikinMoneyFlow\",\n",
      "        \"MoneyFlow\",\n",
      "        \"Value.Traded\",\n",
      "        \"after_tax_margin\",\n",
      "        \"basic_eps_net_income\",\n",
      "        \"beta_1_year\",\n",
      "        \"cash_n_equivalents_fq\",\n",
      "        \"cash_n_equivalents_fy\",\n",
      "        \"cash_n_short_term_invest_fq\",\n",
      "        \"cash_n_short_term_invest_fy\",\n",
      "        \"current_ratio\",\n",
      "        \"debt_to_equity\",\n",
      "        \"dividend_yield_recent\",\n",
      "        \"dividends_paid\",\n",
      "        \"dividends_per_share_fq\",\n",
      "        \"dps_common_stock_prim_issue_fy\",\n",
      "        \"dps_common_stock_prim_issue_yoy_growth_fy\",\n",
      "        \"earnings_per_share_basic_ttm\",\n",
      "        \"earnings_per_share_diluted_qoq_growth_fq\",\n",
      "        \"earnings_per_share_diluted_ttm\",\n",
      "        \"earnings_per_share_diluted_yoy_growth_fq\",\n",
      "        \"earnings_per_share_diluted_yoy_growth_fy\",\n",
      "        \"earnings_per_share_diluted_yoy_growth_ttm\",\n",
      "        \"earnings_per_share_forecast_next_fq\",\n",
      "        \"earnings_per_share_fq\",\n",
      "        \"earnings_release_date\",\n",
      "        \"earnings_release_next_date\",\n",
      "        \"ebitda\",\n",
      "        \"ebitda_qoq_growth_fq\",\n",
      "        \"ebitda_yoy_growth_fq\",\n",
      "        \"ebitda_yoy_growth_fy\",\n",
      "        \"ebitda_yoy_growth_ttm\",\n",
      "        \"enterprise_value_ebitda_ttm\",\n",
      "        \"enterprise_value_fq\",\n",
      "        \"float_shares_outstanding\",\n",
      "        \"free_cash_flow_margin_fy\",\n",
      "        \"free_cash_flow_margin_ttm\",\n",
      "        \"free_cash_flow_qoq_growth_fq\",\n",
      "        \"free_cash_flow_yoy_growth_fq\",\n",
      "        \"free_cash_flow_yoy_growth_fy\",\n",
      "        \"free_cash_flow_yoy_growth_ttm\",\n",
      "        \"goodwill\",\n",
      "        \"gross_margin\",\n",
      "        \"gross_profit\",\n",
      "        \"gross_profit_fq\",\n",
      "        \"gross_profit_margin_fy\",\n",
      "        \"gross_profit_qoq_growth_fq\",\n",
      "        \"gross_profit_yoy_growth_fq\",\n",
      "        \"gross_profit_yoy_growth_fy\",\n",
      "        \"gross_profit_yoy_growth_ttm\",\n",
      "        \"industry\",\n",
      "        \"last_annual_eps\",\n",
      "        \"last_annual_revenue\",\n",
      "        \"market_cap_basic\",\n",
      "        \"net_debt\",\n",
      "        \"net_income\",\n",
      "        \"net_income_bef_disc_oper_margin_fy\",\n",
      "        \"net_income_qoq_growth_fq\",\n",
      "        \"net_income_yoy_growth_fq\",\n",
      "        \"net_income_yoy_growth_fy\",\n",
      "        \"net_income_yoy_growth_ttm\",\n",
      "        \"number_of_employees\",\n",
      "        \"number_of_shareholders\",\n",
      "        \"oper_income_margin_fy\",\n",
      "        \"operating_margin\",\n",
      "        \"postmarket_change\",\n",
      "        \"postmarket_change_abs\",\n",
      "        \"postmarket_close\",\n",
      "        \"postmarket_high\",\n",
      "        \"postmarket_low\",\n",
      "        \"postmarket_open\",\n",
      "        \"postmarket_volume\",\n",
      "        \"pre_tax_margin\",\n",
      "        \"premarket_change\",\n",
      "        \"premarket_change_abs\",\n",
      "        \"premarket_change_from_open\",\n",
      "        \"premarket_change_from_open_abs\",\n",
      "        \"premarket_close\",\n",
      "        \"premarket_gap\",\n",
      "        \"premarket_high\",\n",
      "        \"premarket_low\",\n",
      "        \"premarket_open\",\n",
      "        \"premarket_volume\",\n",
      "        \"price_book_fq\",\n",
      "        \"price_book_ratio\",\n",
      "        \"price_earnings_ttm\",\n",
      "        \"price_free_cash_flow_ttm\",\n",
      "        \"price_revenue_ttm\",\n",
      "        \"price_sales_ratio\",\n",
      "        \"quick_ratio\",\n",
      "        \"research_and_dev_ratio_fy\",\n",
      "        \"research_and_dev_ratio_ttm\",\n",
      "        \"return_on_assets\",\n",
      "        \"return_on_equity\",\n",
      "        \"return_on_invested_capital\",\n",
      "        \"revenue_per_employee\",\n",
      "        \"sell_gen_admin_exp_other_ratio_fy\",\n",
      "        \"sell_gen_admin_exp_other_ratio_ttm\",\n",
      "        \"submarket\",\n",
      "        \"total_assets\",\n",
      "        \"total_assets_qoq_growth_fq\",\n",
      "        \"total_assets_yoy_growth_fq\",\n",
      "        \"total_assets_yoy_growth_fy\",\n",
      "        \"total_current_assets\",\n",
      "        \"total_debt\",\n",
      "        \"total_debt_qoq_growth_fq\",\n",
      "        \"total_debt_yoy_growth_fq\",\n",
      "        \"total_debt_yoy_growth_fy\",\n",
      "        \"total_liabilities_fq\",\n",
      "        \"total_liabilities_fy\",\n",
      "        \"total_revenue\",\n",
      "        \"total_revenue_qoq_growth_fq\",\n",
      "        \"total_revenue_yoy_growth_fq\",\n",
      "        \"total_revenue_yoy_growth_fy\",\n",
      "        \"total_revenue_yoy_growth_ttm\",\n",
      "        \"total_shares_outstanding_fundamental\",\n",
      "        \"candlestick\",\n",
      "        \"change.1\",\n",
      "        \"change.15\",\n",
      "        \"change.1M\",\n",
      "        \"change.1W\",\n",
      "        \"change.240\",\n",
      "        \"change.5\",\n",
      "        \"change.60\",\n",
      "        \"change_abs\",\n",
      "        \"change_abs.1\",\n",
      "        \"change_abs.15\",\n",
      "        \"change_abs.1M\",\n",
      "        \"change_abs.1W\",\n",
      "        \"change_abs.240\",\n",
      "        \"change_abs.5\",\n",
      "        \"change_abs.60\",\n",
      "        \"change_from_open\",\n",
      "        \"change_from_open_abs\",\n",
      "        \"update_mode|1D\"\n",
      "    ],\n",
      "    \"markets\": [\n",
      "        \"america\"\n",
      "    ]\n",
      "}\n"
     ]
    }
   ],
   "source": [
    "ss = tvs.StockScreener()\n",
    "df = ss.get(print_request=True)"
   ],
   "metadata": {
    "collapsed": false,
    "ExecuteTime": {
     "end_time": "2023-08-03T14:48:02.134397959Z",
     "start_time": "2023-08-03T14:48:00.972418656Z"
    }
   },
   "id": "dd428873c1d8f9e9"
  },
  {
   "cell_type": "code",
   "execution_count": null,
   "outputs": [],
   "source": [],
   "metadata": {
    "collapsed": false
   },
   "id": "59cc4e8fe363fa10"
  }
 ],
 "metadata": {
  "kernelspec": {
   "display_name": "Python 3",
   "language": "python",
   "name": "python3"
  },
  "language_info": {
   "codemirror_mode": {
    "name": "ipython",
    "version": 2
   },
   "file_extension": ".py",
   "mimetype": "text/x-python",
   "name": "python",
   "nbconvert_exporter": "python",
   "pygments_lexer": "ipython2",
   "version": "2.7.6"
  }
 },
 "nbformat": 4,
 "nbformat_minor": 5
}
