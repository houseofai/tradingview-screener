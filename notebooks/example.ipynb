{
 "cells": [
  {
   "cell_type": "code",
   "execution_count": 1,
   "id": "initial_id",
   "metadata": {
    "collapsed": true,
    "ExecuteTime": {
     "end_time": "2023-08-02T09:27:05.784539846Z",
     "start_time": "2023-08-02T09:27:05.679062804Z"
    }
   },
   "outputs": [],
   "source": [
    "from tvscreener import Screener"
   ]
  },
  {
   "cell_type": "code",
   "execution_count": 2,
   "outputs": [],
   "source": [
    "screen = Screener()\n",
    "screen.add_filter(\"market_cap_basic\", \"nempty\")\n",
    "screen.add_filter(\"type\", \"equal\", \"stock\")\n",
    "screen.add_filter(\"subtype\", \"in_range\", [\"common\", \"foreign-issuer\"])\n",
    "screen.add_filter(\"exchange\", \"in_range\", [\"AMEX\", \"NASDAQ\", \"NYSE\"])\n",
    "screen.add_filter(\"premarket_gap\", \"greater\", 10)\n",
    "# screen.add_filter(\"is_primary\", \"equal\", True)\n",
    "screen.add_option(\"lang\", \"en\")\n",
    "screen.set_markets(\"america\")\n",
    "# screen.add_symbols()\n",
    "screen.set_range(0, 10000)\n",
    "df = screen.get()\n",
    "df"
   ],
   "metadata": {
    "collapsed": false,
    "ExecuteTime": {
     "end_time": "2023-08-02T09:27:11.259463217Z",
     "start_time": "2023-08-02T09:27:10.780903787Z"
    }
   },
   "id": "e4fdf0e6170fe3e2"
  },
  {
   "cell_type": "code",
   "execution_count": null,
   "outputs": [],
   "source": [],
   "metadata": {
    "collapsed": false
   },
   "id": "40a13c6b72998f4f"
  }
 ],
 "metadata": {
  "kernelspec": {
   "display_name": "Python 3",
   "language": "python",
   "name": "python3"
  },
  "language_info": {
   "codemirror_mode": {
    "name": "ipython",
    "version": 2
   },
   "file_extension": ".py",
   "mimetype": "text/x-python",
   "name": "python",
   "nbconvert_exporter": "python",
   "pygments_lexer": "ipython2",
   "version": "2.7.6"
  }
 },
 "nbformat": 4,
 "nbformat_minor": 5
}
