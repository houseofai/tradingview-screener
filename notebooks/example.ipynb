{
 "cells": [
  {
   "cell_type": "code",
   "execution_count": 1,
   "id": "initial_id",
   "metadata": {
    "collapsed": true,
    "ExecuteTime": {
     "end_time": "2023-08-03T07:00:36.095034151Z",
     "start_time": "2023-08-03T07:00:35.967298153Z"
    }
   },
   "outputs": [],
   "source": [
    "import tvscreener as tvs\n",
    "\n",
    "%load_ext autoreload\n",
    "%autoreload 2"
   ]
  },
  {
   "cell_type": "code",
   "execution_count": 2,
   "outputs": [
    {
     "data": {
      "text/plain": "    name            description   type subtype  pricescale  minmov fractional  \\\n0   AAPL             Apple Inc.  stock  common         100       1      false   \n1   MSFT  Microsoft Corporation  stock  common         100       1      false   \n2   GOOG          Alphabet Inc.  stock  common         100       1      false   \n3  GOOGL          Alphabet Inc.  stock  common         100       1      false   \n4   AMZN       Amazon.com, Inc.  stock  common         100       1      false   \n\n   minmove2 currency fundamental_currency_code  ...  Volatility  \\\n0         0      USD                       USD  ...    1.956886   \n1         0      USD                       USD  ...    3.059520   \n2         0      USD                       USD  ...    3.159953   \n3         0      USD                       USD  ...    3.127940   \n4         0      USD                       USD  ...    3.840088   \n\n   Volatility Month  Volatility Week  Volume Weighted Average Price  \\\n0          1.456962         1.360658                     193.203567   \n1          2.492153         2.152980                     329.161700   \n2          2.260257         2.156813                     128.970000   \n3          2.317558         2.137330                     128.676667   \n4          2.213158         2.404016                     128.420000   \n\n   Volume Weighted Moving Average (20)  Weekly Performance  \\\n0                           192.573235           -0.562813   \n1                           342.391918           -4.082709   \n2                           124.410942           -1.319423   \n3                           124.024506           -1.299300   \n4                           130.754057            1.343767   \n\n   Williams Percent Range (14) Yearly Performance  YTD Performance  \\\n0                   -65.697674          20.287320        47.820080   \n1                   -97.167835          18.659420        34.729307   \n2                   -35.294118          12.418072        43.203829   \n3                   -34.536082          12.614035        43.305241   \n4                   -80.075901          -4.832245        50.023403   \n\n          update_mode|1D  \n0  delayed_streaming_900  \n1  delayed_streaming_900  \n2  delayed_streaming_900  \n3  delayed_streaming_900  \n4  delayed_streaming_900  \n\n[5 rows x 248 columns]",
      "text/html": "<div>\n<style scoped>\n    .dataframe tbody tr th:only-of-type {\n        vertical-align: middle;\n    }\n\n    .dataframe tbody tr th {\n        vertical-align: top;\n    }\n\n    .dataframe thead th {\n        text-align: right;\n    }\n</style>\n<table border=\"1\" class=\"dataframe\">\n  <thead>\n    <tr style=\"text-align: right;\">\n      <th></th>\n      <th>name</th>\n      <th>description</th>\n      <th>type</th>\n      <th>subtype</th>\n      <th>pricescale</th>\n      <th>minmov</th>\n      <th>fractional</th>\n      <th>minmove2</th>\n      <th>currency</th>\n      <th>fundamental_currency_code</th>\n      <th>...</th>\n      <th>Volatility</th>\n      <th>Volatility Month</th>\n      <th>Volatility Week</th>\n      <th>Volume Weighted Average Price</th>\n      <th>Volume Weighted Moving Average (20)</th>\n      <th>Weekly Performance</th>\n      <th>Williams Percent Range (14)</th>\n      <th>Yearly Performance</th>\n      <th>YTD Performance</th>\n      <th>update_mode|1D</th>\n    </tr>\n  </thead>\n  <tbody>\n    <tr>\n      <th>0</th>\n      <td>AAPL</td>\n      <td>Apple Inc.</td>\n      <td>stock</td>\n      <td>common</td>\n      <td>100</td>\n      <td>1</td>\n      <td>false</td>\n      <td>0</td>\n      <td>USD</td>\n      <td>USD</td>\n      <td>...</td>\n      <td>1.956886</td>\n      <td>1.456962</td>\n      <td>1.360658</td>\n      <td>193.203567</td>\n      <td>192.573235</td>\n      <td>-0.562813</td>\n      <td>-65.697674</td>\n      <td>20.287320</td>\n      <td>47.820080</td>\n      <td>delayed_streaming_900</td>\n    </tr>\n    <tr>\n      <th>1</th>\n      <td>MSFT</td>\n      <td>Microsoft Corporation</td>\n      <td>stock</td>\n      <td>common</td>\n      <td>100</td>\n      <td>1</td>\n      <td>false</td>\n      <td>0</td>\n      <td>USD</td>\n      <td>USD</td>\n      <td>...</td>\n      <td>3.059520</td>\n      <td>2.492153</td>\n      <td>2.152980</td>\n      <td>329.161700</td>\n      <td>342.391918</td>\n      <td>-4.082709</td>\n      <td>-97.167835</td>\n      <td>18.659420</td>\n      <td>34.729307</td>\n      <td>delayed_streaming_900</td>\n    </tr>\n    <tr>\n      <th>2</th>\n      <td>GOOG</td>\n      <td>Alphabet Inc.</td>\n      <td>stock</td>\n      <td>common</td>\n      <td>100</td>\n      <td>1</td>\n      <td>false</td>\n      <td>0</td>\n      <td>USD</td>\n      <td>USD</td>\n      <td>...</td>\n      <td>3.159953</td>\n      <td>2.260257</td>\n      <td>2.156813</td>\n      <td>128.970000</td>\n      <td>124.410942</td>\n      <td>-1.319423</td>\n      <td>-35.294118</td>\n      <td>12.418072</td>\n      <td>43.203829</td>\n      <td>delayed_streaming_900</td>\n    </tr>\n    <tr>\n      <th>3</th>\n      <td>GOOGL</td>\n      <td>Alphabet Inc.</td>\n      <td>stock</td>\n      <td>common</td>\n      <td>100</td>\n      <td>1</td>\n      <td>false</td>\n      <td>0</td>\n      <td>USD</td>\n      <td>USD</td>\n      <td>...</td>\n      <td>3.127940</td>\n      <td>2.317558</td>\n      <td>2.137330</td>\n      <td>128.676667</td>\n      <td>124.024506</td>\n      <td>-1.299300</td>\n      <td>-34.536082</td>\n      <td>12.614035</td>\n      <td>43.305241</td>\n      <td>delayed_streaming_900</td>\n    </tr>\n    <tr>\n      <th>4</th>\n      <td>AMZN</td>\n      <td>Amazon.com, Inc.</td>\n      <td>stock</td>\n      <td>common</td>\n      <td>100</td>\n      <td>1</td>\n      <td>false</td>\n      <td>0</td>\n      <td>USD</td>\n      <td>USD</td>\n      <td>...</td>\n      <td>3.840088</td>\n      <td>2.213158</td>\n      <td>2.404016</td>\n      <td>128.420000</td>\n      <td>130.754057</td>\n      <td>1.343767</td>\n      <td>-80.075901</td>\n      <td>-4.832245</td>\n      <td>50.023403</td>\n      <td>delayed_streaming_900</td>\n    </tr>\n  </tbody>\n</table>\n<p>5 rows × 248 columns</p>\n</div>"
     },
     "execution_count": 2,
     "metadata": {},
     "output_type": "execute_result"
    }
   ],
   "source": [
    "ss = tvs.StockScreener()\n",
    "df = ss.get()\n",
    "df.head()"
   ],
   "metadata": {
    "collapsed": false,
    "ExecuteTime": {
     "end_time": "2023-08-03T07:00:37.210002845Z",
     "start_time": "2023-08-03T07:00:36.095640275Z"
    }
   },
   "id": "180f141359f1e171"
  },
  {
   "cell_type": "code",
   "execution_count": 3,
   "outputs": [
    {
     "data": {
      "text/plain": "     name                                description   type subtype  \\\n0  CNHIDR  OFFSHORE CHINESE YUAN / INDONESIAN RUPIAH  forex           \n1  EURGNF                       EURO / GUINEAN FRANC  forex           \n2  NZDSAR   NEW ZEALAND DOLLAR / SAUDI ARABIAN RIYAL  forex           \n3  BRLMXN              BRAZILIAN REAL / MEXICAN PESO  forex           \n4  NZDPHP       NEW ZEALAND DOLLAR / PHILIPPINE PESO  forex           \n\n   pricescale  minmov fractional  minmove2 currency fundamental_currency_code  \\\n0          10       1      false         1      IDR                      None   \n1          10       1      false         1      GNF                      None   \n2       10000       1      false         1      SAR                      None   \n3       10000       1      false         1      MXN                      None   \n4        1000       1      false         1      PHP                      None   \n\n   ...  Volatility  Volatility Month  Volatility Week  \\\n0  ...    0.289649          0.646470         0.475385   \n1  ...    0.925064          1.496550         1.325227   \n2  ...    0.360804          0.919852         0.942719   \n3  ...    0.302807          0.942488         1.022569   \n4  ...    0.549319          0.972681         0.961609   \n\n   Volume Weighted Average Price  Volume Weighted Moving Average (20)  \\\n0                           None                                 None   \n1                           None                                 None   \n2                           None                                 None   \n3                           None                                 None   \n4                           None                                 None   \n\n   Weekly Performance  Williams Percent Range (14)  Yearly Performance  \\\n0            0.428653                   -11.951220           -3.997450   \n1           -1.353273                   -92.777186            5.894456   \n2           -2.262074                  -100.000000           -3.099684   \n3           -0.239248                   -35.294118           -9.931133   \n4           -0.734578                   -86.660854           -3.424127   \n\n   YTD Performance  update_mode|1D  \n0        -6.263614       streaming  \n1         1.719027       streaming  \n2        -4.604600       streaming  \n3        -3.771177       streaming  \n4        -4.822787       streaming  \n\n[5 rows x 127 columns]",
      "text/html": "<div>\n<style scoped>\n    .dataframe tbody tr th:only-of-type {\n        vertical-align: middle;\n    }\n\n    .dataframe tbody tr th {\n        vertical-align: top;\n    }\n\n    .dataframe thead th {\n        text-align: right;\n    }\n</style>\n<table border=\"1\" class=\"dataframe\">\n  <thead>\n    <tr style=\"text-align: right;\">\n      <th></th>\n      <th>name</th>\n      <th>description</th>\n      <th>type</th>\n      <th>subtype</th>\n      <th>pricescale</th>\n      <th>minmov</th>\n      <th>fractional</th>\n      <th>minmove2</th>\n      <th>currency</th>\n      <th>fundamental_currency_code</th>\n      <th>...</th>\n      <th>Volatility</th>\n      <th>Volatility Month</th>\n      <th>Volatility Week</th>\n      <th>Volume Weighted Average Price</th>\n      <th>Volume Weighted Moving Average (20)</th>\n      <th>Weekly Performance</th>\n      <th>Williams Percent Range (14)</th>\n      <th>Yearly Performance</th>\n      <th>YTD Performance</th>\n      <th>update_mode|1D</th>\n    </tr>\n  </thead>\n  <tbody>\n    <tr>\n      <th>0</th>\n      <td>CNHIDR</td>\n      <td>OFFSHORE CHINESE YUAN / INDONESIAN RUPIAH</td>\n      <td>forex</td>\n      <td></td>\n      <td>10</td>\n      <td>1</td>\n      <td>false</td>\n      <td>1</td>\n      <td>IDR</td>\n      <td>None</td>\n      <td>...</td>\n      <td>0.289649</td>\n      <td>0.646470</td>\n      <td>0.475385</td>\n      <td>None</td>\n      <td>None</td>\n      <td>0.428653</td>\n      <td>-11.951220</td>\n      <td>-3.997450</td>\n      <td>-6.263614</td>\n      <td>streaming</td>\n    </tr>\n    <tr>\n      <th>1</th>\n      <td>EURGNF</td>\n      <td>EURO / GUINEAN FRANC</td>\n      <td>forex</td>\n      <td></td>\n      <td>10</td>\n      <td>1</td>\n      <td>false</td>\n      <td>1</td>\n      <td>GNF</td>\n      <td>None</td>\n      <td>...</td>\n      <td>0.925064</td>\n      <td>1.496550</td>\n      <td>1.325227</td>\n      <td>None</td>\n      <td>None</td>\n      <td>-1.353273</td>\n      <td>-92.777186</td>\n      <td>5.894456</td>\n      <td>1.719027</td>\n      <td>streaming</td>\n    </tr>\n    <tr>\n      <th>2</th>\n      <td>NZDSAR</td>\n      <td>NEW ZEALAND DOLLAR / SAUDI ARABIAN RIYAL</td>\n      <td>forex</td>\n      <td></td>\n      <td>10000</td>\n      <td>1</td>\n      <td>false</td>\n      <td>1</td>\n      <td>SAR</td>\n      <td>None</td>\n      <td>...</td>\n      <td>0.360804</td>\n      <td>0.919852</td>\n      <td>0.942719</td>\n      <td>None</td>\n      <td>None</td>\n      <td>-2.262074</td>\n      <td>-100.000000</td>\n      <td>-3.099684</td>\n      <td>-4.604600</td>\n      <td>streaming</td>\n    </tr>\n    <tr>\n      <th>3</th>\n      <td>BRLMXN</td>\n      <td>BRAZILIAN REAL / MEXICAN PESO</td>\n      <td>forex</td>\n      <td></td>\n      <td>10000</td>\n      <td>1</td>\n      <td>false</td>\n      <td>1</td>\n      <td>MXN</td>\n      <td>None</td>\n      <td>...</td>\n      <td>0.302807</td>\n      <td>0.942488</td>\n      <td>1.022569</td>\n      <td>None</td>\n      <td>None</td>\n      <td>-0.239248</td>\n      <td>-35.294118</td>\n      <td>-9.931133</td>\n      <td>-3.771177</td>\n      <td>streaming</td>\n    </tr>\n    <tr>\n      <th>4</th>\n      <td>NZDPHP</td>\n      <td>NEW ZEALAND DOLLAR / PHILIPPINE PESO</td>\n      <td>forex</td>\n      <td></td>\n      <td>1000</td>\n      <td>1</td>\n      <td>false</td>\n      <td>1</td>\n      <td>PHP</td>\n      <td>None</td>\n      <td>...</td>\n      <td>0.549319</td>\n      <td>0.972681</td>\n      <td>0.961609</td>\n      <td>None</td>\n      <td>None</td>\n      <td>-0.734578</td>\n      <td>-86.660854</td>\n      <td>-3.424127</td>\n      <td>-4.822787</td>\n      <td>streaming</td>\n    </tr>\n  </tbody>\n</table>\n<p>5 rows × 127 columns</p>\n</div>"
     },
     "execution_count": 3,
     "metadata": {},
     "output_type": "execute_result"
    }
   ],
   "source": [
    "fs = tvs.ForexScreener()\n",
    "df = fs.get()\n",
    "df.head()"
   ],
   "metadata": {
    "collapsed": false,
    "ExecuteTime": {
     "end_time": "2023-08-03T07:00:37.651193202Z",
     "start_time": "2023-08-03T07:00:37.210116229Z"
    }
   },
   "id": "5a3140ab1afc7830"
  },
  {
   "cell_type": "code",
   "execution_count": 4,
   "outputs": [
    {
     "data": {
      "text/plain": "                  name                                        description  \\\n0           ARPAUSDT.P                ARPAUSDTPERP PERPETUAL MIX CONTRACT   \n1  EPEPWETH_36DD7B.USD  FLIPPED PEPE / WRAPPED ETHER on Ethereum (36DD...   \n2     CRIMEUSDC_A1F0E8      CRIMEGOLD / USD COIN on BSC (A1F0E8...E5A40B)   \n3   TAIWETH_B65ADE.USD  TRACE AI / WRAPPED ETHER on Ethereum (B65ADE.....   \n4             DORAUSDT                              Dorayaki / Tether USD   \n\n   type subtype      pricescale  minmov fractional  minmove2 currency  \\\n0  swap  crypto          100000       1      false         0     USDT   \n1  spot  crypto  10000000000000       1      false         0      USD   \n2  spot  crypto     10000000000       1      false         0     USDC   \n3  spot  crypto         1000000       1      false         0      USD   \n4  spot  crypto            1000       1      false         0     USDT   \n\n  fundamental_currency_code  ...  Volatility  Volatility Month  \\\n0                       USD  ...    1.340000          5.794957   \n1                       USD  ...    0.509684        322.577482   \n2                       USD  ...    0.287693         30.844737   \n3                       USD  ...   28.373022         54.455619   \n4                       USD  ...    2.522255          2.395568   \n\n  Volatility Week  Volume Weighted Average Price  \\\n0        5.136294                       0.050343   \n1        1.226792                       0.000000   \n2        2.830678                      15.946214   \n3       45.728490                       0.003155   \n4        0.000000                       1.348000   \n\n   Volume Weighted Moving Average (20)  Weekly Performance  \\\n0                             0.050367            3.281378   \n1                             0.000000           -4.620305   \n2                            21.947260           -5.505245   \n3                             0.002897           38.389149   \n4                             1.372989          -25.111111   \n\n   Williams Percent Range (14)  Yearly Performance  YTD Performance  \\\n0                   -40.149626           27.107521        27.107521   \n1                  -100.000000          258.126225       258.126225   \n2                  -100.000000          -81.271384       -50.376879   \n3                   -47.250777          727.287287       727.287287   \n4                   -80.714286          -33.123761       -45.002040   \n\n   update_mode|1D  \n0       streaming  \n1       streaming  \n2       streaming  \n3       streaming  \n4       streaming  \n\n[5 rows x 139 columns]",
      "text/html": "<div>\n<style scoped>\n    .dataframe tbody tr th:only-of-type {\n        vertical-align: middle;\n    }\n\n    .dataframe tbody tr th {\n        vertical-align: top;\n    }\n\n    .dataframe thead th {\n        text-align: right;\n    }\n</style>\n<table border=\"1\" class=\"dataframe\">\n  <thead>\n    <tr style=\"text-align: right;\">\n      <th></th>\n      <th>name</th>\n      <th>description</th>\n      <th>type</th>\n      <th>subtype</th>\n      <th>pricescale</th>\n      <th>minmov</th>\n      <th>fractional</th>\n      <th>minmove2</th>\n      <th>currency</th>\n      <th>fundamental_currency_code</th>\n      <th>...</th>\n      <th>Volatility</th>\n      <th>Volatility Month</th>\n      <th>Volatility Week</th>\n      <th>Volume Weighted Average Price</th>\n      <th>Volume Weighted Moving Average (20)</th>\n      <th>Weekly Performance</th>\n      <th>Williams Percent Range (14)</th>\n      <th>Yearly Performance</th>\n      <th>YTD Performance</th>\n      <th>update_mode|1D</th>\n    </tr>\n  </thead>\n  <tbody>\n    <tr>\n      <th>0</th>\n      <td>ARPAUSDT.P</td>\n      <td>ARPAUSDTPERP PERPETUAL MIX CONTRACT</td>\n      <td>swap</td>\n      <td>crypto</td>\n      <td>100000</td>\n      <td>1</td>\n      <td>false</td>\n      <td>0</td>\n      <td>USDT</td>\n      <td>USD</td>\n      <td>...</td>\n      <td>1.340000</td>\n      <td>5.794957</td>\n      <td>5.136294</td>\n      <td>0.050343</td>\n      <td>0.050367</td>\n      <td>3.281378</td>\n      <td>-40.149626</td>\n      <td>27.107521</td>\n      <td>27.107521</td>\n      <td>streaming</td>\n    </tr>\n    <tr>\n      <th>1</th>\n      <td>EPEPWETH_36DD7B.USD</td>\n      <td>FLIPPED PEPE / WRAPPED ETHER on Ethereum (36DD...</td>\n      <td>spot</td>\n      <td>crypto</td>\n      <td>10000000000000</td>\n      <td>1</td>\n      <td>false</td>\n      <td>0</td>\n      <td>USD</td>\n      <td>USD</td>\n      <td>...</td>\n      <td>0.509684</td>\n      <td>322.577482</td>\n      <td>1.226792</td>\n      <td>0.000000</td>\n      <td>0.000000</td>\n      <td>-4.620305</td>\n      <td>-100.000000</td>\n      <td>258.126225</td>\n      <td>258.126225</td>\n      <td>streaming</td>\n    </tr>\n    <tr>\n      <th>2</th>\n      <td>CRIMEUSDC_A1F0E8</td>\n      <td>CRIMEGOLD / USD COIN on BSC (A1F0E8...E5A40B)</td>\n      <td>spot</td>\n      <td>crypto</td>\n      <td>10000000000</td>\n      <td>1</td>\n      <td>false</td>\n      <td>0</td>\n      <td>USDC</td>\n      <td>USD</td>\n      <td>...</td>\n      <td>0.287693</td>\n      <td>30.844737</td>\n      <td>2.830678</td>\n      <td>15.946214</td>\n      <td>21.947260</td>\n      <td>-5.505245</td>\n      <td>-100.000000</td>\n      <td>-81.271384</td>\n      <td>-50.376879</td>\n      <td>streaming</td>\n    </tr>\n    <tr>\n      <th>3</th>\n      <td>TAIWETH_B65ADE.USD</td>\n      <td>TRACE AI / WRAPPED ETHER on Ethereum (B65ADE.....</td>\n      <td>spot</td>\n      <td>crypto</td>\n      <td>1000000</td>\n      <td>1</td>\n      <td>false</td>\n      <td>0</td>\n      <td>USD</td>\n      <td>USD</td>\n      <td>...</td>\n      <td>28.373022</td>\n      <td>54.455619</td>\n      <td>45.728490</td>\n      <td>0.003155</td>\n      <td>0.002897</td>\n      <td>38.389149</td>\n      <td>-47.250777</td>\n      <td>727.287287</td>\n      <td>727.287287</td>\n      <td>streaming</td>\n    </tr>\n    <tr>\n      <th>4</th>\n      <td>DORAUSDT</td>\n      <td>Dorayaki / Tether USD</td>\n      <td>spot</td>\n      <td>crypto</td>\n      <td>1000</td>\n      <td>1</td>\n      <td>false</td>\n      <td>0</td>\n      <td>USDT</td>\n      <td>USD</td>\n      <td>...</td>\n      <td>2.522255</td>\n      <td>2.395568</td>\n      <td>0.000000</td>\n      <td>1.348000</td>\n      <td>1.372989</td>\n      <td>-25.111111</td>\n      <td>-80.714286</td>\n      <td>-33.123761</td>\n      <td>-45.002040</td>\n      <td>streaming</td>\n    </tr>\n  </tbody>\n</table>\n<p>5 rows × 139 columns</p>\n</div>"
     },
     "execution_count": 4,
     "metadata": {},
     "output_type": "execute_result"
    }
   ],
   "source": [
    "cs = tvs.CryptoScreener()\n",
    "df = cs.get()\n",
    "df.head()"
   ],
   "metadata": {
    "collapsed": false,
    "ExecuteTime": {
     "end_time": "2023-08-03T07:00:38.298718568Z",
     "start_time": "2023-08-03T07:00:37.649889097Z"
    }
   },
   "id": "bbede913c3cf6067"
  },
  {
   "cell_type": "markdown",
   "source": [
    "## Options"
   ],
   "metadata": {
    "collapsed": false
   },
   "id": "e6b09b518bdabd39"
  },
  {
   "cell_type": "markdown",
   "source": [
    "## Range"
   ],
   "metadata": {
    "collapsed": false
   },
   "id": "8c329b0e0edac821"
  },
  {
   "cell_type": "code",
   "execution_count": 5,
   "outputs": [
    {
     "data": {
      "text/plain": "       name                           description   type subtype  pricescale  \\\n0      AAPL                            Apple Inc.  stock  common         100   \n1      MSFT                 Microsoft Corporation  stock  common         100   \n2      GOOG                         Alphabet Inc.  stock  common         100   \n3     GOOGL                         Alphabet Inc.  stock  common         100   \n4      AMZN                      Amazon.com, Inc.  stock  common         100   \n...     ...                                   ...    ...     ...         ...   \n9995    MRM  MEDIROM Healthcare Technologies Inc.     dr                 100   \n9996  HSTXF                 Heliostar Metals Ltd.  stock  common       10000   \n9997   NUKK                         Nukkleus Inc.  stock  common       10000   \n9998   EIGR        Eiger BioPharmaceuticals, Inc.  stock  common       10000   \n9999  BSENF                 BASELODE ENERGY CORP.  stock  common       10000   \n\n      minmov fractional  minmove2 currency fundamental_currency_code  ...  \\\n0          1      false         0      USD                       USD  ...   \n1          1      false         0      USD                       USD  ...   \n2          1      false         0      USD                       USD  ...   \n3          1      false         0      USD                       USD  ...   \n4          1      false         0      USD                       USD  ...   \n...      ...        ...       ...      ...                       ...  ...   \n9995       1      false         0      USD                       USD  ...   \n9996       1      false         0      USD                       USD  ...   \n9997       1      false         0      USD                       USD  ...   \n9998       1      false         0      USD                       USD  ...   \n9999       1      false         0      USD                       USD  ...   \n\n      Volatility  Volatility Month  Volatility Week  \\\n0       1.956886          1.456962         1.360658   \n1       3.059520          2.492153         2.152980   \n2       3.159953          2.260257         2.156813   \n3       3.127940          2.317558         2.137330   \n4       3.840088          2.213158         2.404016   \n...          ...               ...              ...   \n9995    8.688525          3.850817         2.528690   \n9996    4.417476          9.224862         5.997781   \n9997    3.409091         18.826487        24.996111   \n9998   13.553531         10.150416         7.673341   \n9999   11.944444          8.578263         9.595643   \n\n      Volume Weighted Average Price  Volume Weighted Moving Average (20)  \\\n0                        193.203567                           192.573235   \n1                        329.161700                           342.391918   \n2                        128.970000                           124.410942   \n3                        128.676667                           124.024506   \n4                        128.420000                           130.754057   \n...                             ...                                  ...   \n9995                       6.342433                             6.399290   \n9996                       0.210283                             0.241865   \n9997                       0.088000                             0.089426   \n9998                       0.670133                             0.743253   \n9999                       0.303867                             0.303246   \n\n      Weekly Performance  Williams Percent Range (14) Yearly Performance  \\\n0              -0.562813                   -65.697674          20.287320   \n1              -4.082709                   -97.167835          18.659420   \n2              -1.319423                   -35.294118          12.418072   \n3              -1.299300                   -34.536082          12.614035   \n4               1.343767                   -80.075901          -4.832245   \n...                  ...                          ...                ...   \n9995           -7.299270                   -60.000000          -3.053435   \n9996           -7.842707                   -94.360902           8.735096   \n9997          -12.000000                   -33.023736         -34.814815   \n9998            1.957633                   -68.375095         -91.701546   \n9999           -2.995169                   -65.669291         -52.038217   \n\n      YTD Performance         update_mode|1D  \n0           47.820080  delayed_streaming_900  \n1           34.729307  delayed_streaming_900  \n2           43.203829  delayed_streaming_900  \n3           43.305241  delayed_streaming_900  \n4           50.023403  delayed_streaming_900  \n...               ...                    ...  \n9995        36.559140  delayed_streaming_900  \n9996        17.837079  delayed_streaming_900  \n9997       300.000000  delayed_streaming_900  \n9998       -41.841667  delayed_streaming_900  \n9999         6.056338  delayed_streaming_900  \n\n[10000 rows x 248 columns]",
      "text/html": "<div>\n<style scoped>\n    .dataframe tbody tr th:only-of-type {\n        vertical-align: middle;\n    }\n\n    .dataframe tbody tr th {\n        vertical-align: top;\n    }\n\n    .dataframe thead th {\n        text-align: right;\n    }\n</style>\n<table border=\"1\" class=\"dataframe\">\n  <thead>\n    <tr style=\"text-align: right;\">\n      <th></th>\n      <th>name</th>\n      <th>description</th>\n      <th>type</th>\n      <th>subtype</th>\n      <th>pricescale</th>\n      <th>minmov</th>\n      <th>fractional</th>\n      <th>minmove2</th>\n      <th>currency</th>\n      <th>fundamental_currency_code</th>\n      <th>...</th>\n      <th>Volatility</th>\n      <th>Volatility Month</th>\n      <th>Volatility Week</th>\n      <th>Volume Weighted Average Price</th>\n      <th>Volume Weighted Moving Average (20)</th>\n      <th>Weekly Performance</th>\n      <th>Williams Percent Range (14)</th>\n      <th>Yearly Performance</th>\n      <th>YTD Performance</th>\n      <th>update_mode|1D</th>\n    </tr>\n  </thead>\n  <tbody>\n    <tr>\n      <th>0</th>\n      <td>AAPL</td>\n      <td>Apple Inc.</td>\n      <td>stock</td>\n      <td>common</td>\n      <td>100</td>\n      <td>1</td>\n      <td>false</td>\n      <td>0</td>\n      <td>USD</td>\n      <td>USD</td>\n      <td>...</td>\n      <td>1.956886</td>\n      <td>1.456962</td>\n      <td>1.360658</td>\n      <td>193.203567</td>\n      <td>192.573235</td>\n      <td>-0.562813</td>\n      <td>-65.697674</td>\n      <td>20.287320</td>\n      <td>47.820080</td>\n      <td>delayed_streaming_900</td>\n    </tr>\n    <tr>\n      <th>1</th>\n      <td>MSFT</td>\n      <td>Microsoft Corporation</td>\n      <td>stock</td>\n      <td>common</td>\n      <td>100</td>\n      <td>1</td>\n      <td>false</td>\n      <td>0</td>\n      <td>USD</td>\n      <td>USD</td>\n      <td>...</td>\n      <td>3.059520</td>\n      <td>2.492153</td>\n      <td>2.152980</td>\n      <td>329.161700</td>\n      <td>342.391918</td>\n      <td>-4.082709</td>\n      <td>-97.167835</td>\n      <td>18.659420</td>\n      <td>34.729307</td>\n      <td>delayed_streaming_900</td>\n    </tr>\n    <tr>\n      <th>2</th>\n      <td>GOOG</td>\n      <td>Alphabet Inc.</td>\n      <td>stock</td>\n      <td>common</td>\n      <td>100</td>\n      <td>1</td>\n      <td>false</td>\n      <td>0</td>\n      <td>USD</td>\n      <td>USD</td>\n      <td>...</td>\n      <td>3.159953</td>\n      <td>2.260257</td>\n      <td>2.156813</td>\n      <td>128.970000</td>\n      <td>124.410942</td>\n      <td>-1.319423</td>\n      <td>-35.294118</td>\n      <td>12.418072</td>\n      <td>43.203829</td>\n      <td>delayed_streaming_900</td>\n    </tr>\n    <tr>\n      <th>3</th>\n      <td>GOOGL</td>\n      <td>Alphabet Inc.</td>\n      <td>stock</td>\n      <td>common</td>\n      <td>100</td>\n      <td>1</td>\n      <td>false</td>\n      <td>0</td>\n      <td>USD</td>\n      <td>USD</td>\n      <td>...</td>\n      <td>3.127940</td>\n      <td>2.317558</td>\n      <td>2.137330</td>\n      <td>128.676667</td>\n      <td>124.024506</td>\n      <td>-1.299300</td>\n      <td>-34.536082</td>\n      <td>12.614035</td>\n      <td>43.305241</td>\n      <td>delayed_streaming_900</td>\n    </tr>\n    <tr>\n      <th>4</th>\n      <td>AMZN</td>\n      <td>Amazon.com, Inc.</td>\n      <td>stock</td>\n      <td>common</td>\n      <td>100</td>\n      <td>1</td>\n      <td>false</td>\n      <td>0</td>\n      <td>USD</td>\n      <td>USD</td>\n      <td>...</td>\n      <td>3.840088</td>\n      <td>2.213158</td>\n      <td>2.404016</td>\n      <td>128.420000</td>\n      <td>130.754057</td>\n      <td>1.343767</td>\n      <td>-80.075901</td>\n      <td>-4.832245</td>\n      <td>50.023403</td>\n      <td>delayed_streaming_900</td>\n    </tr>\n    <tr>\n      <th>...</th>\n      <td>...</td>\n      <td>...</td>\n      <td>...</td>\n      <td>...</td>\n      <td>...</td>\n      <td>...</td>\n      <td>...</td>\n      <td>...</td>\n      <td>...</td>\n      <td>...</td>\n      <td>...</td>\n      <td>...</td>\n      <td>...</td>\n      <td>...</td>\n      <td>...</td>\n      <td>...</td>\n      <td>...</td>\n      <td>...</td>\n      <td>...</td>\n      <td>...</td>\n      <td>...</td>\n    </tr>\n    <tr>\n      <th>9995</th>\n      <td>MRM</td>\n      <td>MEDIROM Healthcare Technologies Inc.</td>\n      <td>dr</td>\n      <td></td>\n      <td>100</td>\n      <td>1</td>\n      <td>false</td>\n      <td>0</td>\n      <td>USD</td>\n      <td>USD</td>\n      <td>...</td>\n      <td>8.688525</td>\n      <td>3.850817</td>\n      <td>2.528690</td>\n      <td>6.342433</td>\n      <td>6.399290</td>\n      <td>-7.299270</td>\n      <td>-60.000000</td>\n      <td>-3.053435</td>\n      <td>36.559140</td>\n      <td>delayed_streaming_900</td>\n    </tr>\n    <tr>\n      <th>9996</th>\n      <td>HSTXF</td>\n      <td>Heliostar Metals Ltd.</td>\n      <td>stock</td>\n      <td>common</td>\n      <td>10000</td>\n      <td>1</td>\n      <td>false</td>\n      <td>0</td>\n      <td>USD</td>\n      <td>USD</td>\n      <td>...</td>\n      <td>4.417476</td>\n      <td>9.224862</td>\n      <td>5.997781</td>\n      <td>0.210283</td>\n      <td>0.241865</td>\n      <td>-7.842707</td>\n      <td>-94.360902</td>\n      <td>8.735096</td>\n      <td>17.837079</td>\n      <td>delayed_streaming_900</td>\n    </tr>\n    <tr>\n      <th>9997</th>\n      <td>NUKK</td>\n      <td>Nukkleus Inc.</td>\n      <td>stock</td>\n      <td>common</td>\n      <td>10000</td>\n      <td>1</td>\n      <td>false</td>\n      <td>0</td>\n      <td>USD</td>\n      <td>USD</td>\n      <td>...</td>\n      <td>3.409091</td>\n      <td>18.826487</td>\n      <td>24.996111</td>\n      <td>0.088000</td>\n      <td>0.089426</td>\n      <td>-12.000000</td>\n      <td>-33.023736</td>\n      <td>-34.814815</td>\n      <td>300.000000</td>\n      <td>delayed_streaming_900</td>\n    </tr>\n    <tr>\n      <th>9998</th>\n      <td>EIGR</td>\n      <td>Eiger BioPharmaceuticals, Inc.</td>\n      <td>stock</td>\n      <td>common</td>\n      <td>10000</td>\n      <td>1</td>\n      <td>false</td>\n      <td>0</td>\n      <td>USD</td>\n      <td>USD</td>\n      <td>...</td>\n      <td>13.553531</td>\n      <td>10.150416</td>\n      <td>7.673341</td>\n      <td>0.670133</td>\n      <td>0.743253</td>\n      <td>1.957633</td>\n      <td>-68.375095</td>\n      <td>-91.701546</td>\n      <td>-41.841667</td>\n      <td>delayed_streaming_900</td>\n    </tr>\n    <tr>\n      <th>9999</th>\n      <td>BSENF</td>\n      <td>BASELODE ENERGY CORP.</td>\n      <td>stock</td>\n      <td>common</td>\n      <td>10000</td>\n      <td>1</td>\n      <td>false</td>\n      <td>0</td>\n      <td>USD</td>\n      <td>USD</td>\n      <td>...</td>\n      <td>11.944444</td>\n      <td>8.578263</td>\n      <td>9.595643</td>\n      <td>0.303867</td>\n      <td>0.303246</td>\n      <td>-2.995169</td>\n      <td>-65.669291</td>\n      <td>-52.038217</td>\n      <td>6.056338</td>\n      <td>delayed_streaming_900</td>\n    </tr>\n  </tbody>\n</table>\n<p>10000 rows × 248 columns</p>\n</div>"
     },
     "execution_count": 5,
     "metadata": {},
     "output_type": "execute_result"
    }
   ],
   "source": [
    "ss = tvs.StockScreener()\n",
    "ss.set_range(0, 10000)\n",
    "df = ss.get()\n",
    "df"
   ],
   "metadata": {
    "collapsed": false,
    "ExecuteTime": {
     "end_time": "2023-08-03T07:00:54.682995619Z",
     "start_time": "2023-08-03T07:00:38.299304332Z"
    }
   },
   "id": "47a993423929c7bb"
  },
  {
   "cell_type": "markdown",
   "source": [
    "# Sorting"
   ],
   "metadata": {
    "collapsed": false
   },
   "id": "31911fef050e517b"
  },
  {
   "cell_type": "code",
   "execution_count": 6,
   "outputs": [
    {
     "data": {
      "text/plain": "    name description   type    subtype  pricescale  minmov fractional  \\\n0  FNMAK  Fannie Mae  stock  preferred         100       1      false   \n1  FNMAS  Fannie Mae  stock  preferred         100       1      false   \n2  FNMAJ  Fannie Mae  stock  preferred         100       1      false   \n3  FNMAI  Fannie Mae  stock  preferred         100       1      false   \n4  FNMFM  Fannie Mae  stock  preferred         100       1      false   \n\n   minmove2 currency fundamental_currency_code  ...  Volatility  \\\n0         0      USD                       USD  ...    6.666667   \n1         0      USD                       USD  ...    2.369668   \n2         0      USD                       USD  ...    4.311544   \n3         0      USD                       USD  ...    4.494382   \n4         0      USD                       USD  ...    0.983607   \n\n   Volatility Month  Volatility Week  Volume Weighted Average Price  \\\n0          1.195579         2.222222                       3.220000   \n1          4.139371         3.211947                       2.133333   \n2          3.153011         3.644843                       1.823333   \n3          0.592129         2.002924                       1.780000   \n4          0.304095         0.327869                       3.053333   \n\n   Volume Weighted Moving Average (20)  Weekly Performance  \\\n0                             2.675637           -3.669725   \n1                             2.185128           -3.619909   \n2                             1.865899           -3.877005   \n3                             1.793503            1.424501   \n4                             2.632229           -1.929260   \n\n   Williams Percent Range (14) Yearly Performance  YTD Performance  \\\n0                   -31.578947         -25.882353         7.508532   \n1                   -84.615385         -33.437500        -8.974359   \n2                   -79.166667         -28.100000         8.939394   \n3                   -68.181818         -29.365079        -1.111111   \n4                    -5.405405         -33.695652        -1.612903   \n\n          update_mode|1D  \n0  delayed_streaming_900  \n1  delayed_streaming_900  \n2  delayed_streaming_900  \n3  delayed_streaming_900  \n4  delayed_streaming_900  \n\n[5 rows x 248 columns]",
      "text/html": "<div>\n<style scoped>\n    .dataframe tbody tr th:only-of-type {\n        vertical-align: middle;\n    }\n\n    .dataframe tbody tr th {\n        vertical-align: top;\n    }\n\n    .dataframe thead th {\n        text-align: right;\n    }\n</style>\n<table border=\"1\" class=\"dataframe\">\n  <thead>\n    <tr style=\"text-align: right;\">\n      <th></th>\n      <th>name</th>\n      <th>description</th>\n      <th>type</th>\n      <th>subtype</th>\n      <th>pricescale</th>\n      <th>minmov</th>\n      <th>fractional</th>\n      <th>minmove2</th>\n      <th>currency</th>\n      <th>fundamental_currency_code</th>\n      <th>...</th>\n      <th>Volatility</th>\n      <th>Volatility Month</th>\n      <th>Volatility Week</th>\n      <th>Volume Weighted Average Price</th>\n      <th>Volume Weighted Moving Average (20)</th>\n      <th>Weekly Performance</th>\n      <th>Williams Percent Range (14)</th>\n      <th>Yearly Performance</th>\n      <th>YTD Performance</th>\n      <th>update_mode|1D</th>\n    </tr>\n  </thead>\n  <tbody>\n    <tr>\n      <th>0</th>\n      <td>FNMAK</td>\n      <td>Fannie Mae</td>\n      <td>stock</td>\n      <td>preferred</td>\n      <td>100</td>\n      <td>1</td>\n      <td>false</td>\n      <td>0</td>\n      <td>USD</td>\n      <td>USD</td>\n      <td>...</td>\n      <td>6.666667</td>\n      <td>1.195579</td>\n      <td>2.222222</td>\n      <td>3.220000</td>\n      <td>2.675637</td>\n      <td>-3.669725</td>\n      <td>-31.578947</td>\n      <td>-25.882353</td>\n      <td>7.508532</td>\n      <td>delayed_streaming_900</td>\n    </tr>\n    <tr>\n      <th>1</th>\n      <td>FNMAS</td>\n      <td>Fannie Mae</td>\n      <td>stock</td>\n      <td>preferred</td>\n      <td>100</td>\n      <td>1</td>\n      <td>false</td>\n      <td>0</td>\n      <td>USD</td>\n      <td>USD</td>\n      <td>...</td>\n      <td>2.369668</td>\n      <td>4.139371</td>\n      <td>3.211947</td>\n      <td>2.133333</td>\n      <td>2.185128</td>\n      <td>-3.619909</td>\n      <td>-84.615385</td>\n      <td>-33.437500</td>\n      <td>-8.974359</td>\n      <td>delayed_streaming_900</td>\n    </tr>\n    <tr>\n      <th>2</th>\n      <td>FNMAJ</td>\n      <td>Fannie Mae</td>\n      <td>stock</td>\n      <td>preferred</td>\n      <td>100</td>\n      <td>1</td>\n      <td>false</td>\n      <td>0</td>\n      <td>USD</td>\n      <td>USD</td>\n      <td>...</td>\n      <td>4.311544</td>\n      <td>3.153011</td>\n      <td>3.644843</td>\n      <td>1.823333</td>\n      <td>1.865899</td>\n      <td>-3.877005</td>\n      <td>-79.166667</td>\n      <td>-28.100000</td>\n      <td>8.939394</td>\n      <td>delayed_streaming_900</td>\n    </tr>\n    <tr>\n      <th>3</th>\n      <td>FNMAI</td>\n      <td>Fannie Mae</td>\n      <td>stock</td>\n      <td>preferred</td>\n      <td>100</td>\n      <td>1</td>\n      <td>false</td>\n      <td>0</td>\n      <td>USD</td>\n      <td>USD</td>\n      <td>...</td>\n      <td>4.494382</td>\n      <td>0.592129</td>\n      <td>2.002924</td>\n      <td>1.780000</td>\n      <td>1.793503</td>\n      <td>1.424501</td>\n      <td>-68.181818</td>\n      <td>-29.365079</td>\n      <td>-1.111111</td>\n      <td>delayed_streaming_900</td>\n    </tr>\n    <tr>\n      <th>4</th>\n      <td>FNMFM</td>\n      <td>Fannie Mae</td>\n      <td>stock</td>\n      <td>preferred</td>\n      <td>100</td>\n      <td>1</td>\n      <td>false</td>\n      <td>0</td>\n      <td>USD</td>\n      <td>USD</td>\n      <td>...</td>\n      <td>0.983607</td>\n      <td>0.304095</td>\n      <td>0.327869</td>\n      <td>3.053333</td>\n      <td>2.632229</td>\n      <td>-1.929260</td>\n      <td>-5.405405</td>\n      <td>-33.695652</td>\n      <td>-1.612903</td>\n      <td>delayed_streaming_900</td>\n    </tr>\n  </tbody>\n</table>\n<p>5 rows × 248 columns</p>\n</div>"
     },
     "execution_count": 6,
     "metadata": {},
     "output_type": "execute_result"
    }
   ],
   "source": [
    "ss = tvs.StockScreener()\n",
    "ss.sort_by('ebitda', 'desc')\n",
    "df = ss.get()\n",
    "df.head()"
   ],
   "metadata": {
    "collapsed": false,
    "ExecuteTime": {
     "end_time": "2023-08-03T07:00:55.384587754Z",
     "start_time": "2023-08-03T07:00:54.681911821Z"
    }
   },
   "id": "293d3c14f5cf6b4f"
  },
  {
   "cell_type": "markdown",
   "source": [
    "# Filters"
   ],
   "metadata": {
    "collapsed": false
   },
   "id": "247e54be1899a203"
  },
  {
   "cell_type": "markdown",
   "source": [
    "## Markets"
   ],
   "metadata": {
    "collapsed": false
   },
   "id": "4592f2c3da23c6f1"
  },
  {
   "cell_type": "code",
   "execution_count": 8,
   "outputs": [
    {
     "data": {
      "text/plain": "    name            description   type subtype  pricescale  minmov fractional  \\\n0   AAPL             Apple Inc.  stock  common         100       1      false   \n1   MSFT  Microsoft Corporation  stock  common         100       1      false   \n2   GOOG          Alphabet Inc.  stock  common         100       1      false   \n3  GOOGL          Alphabet Inc.  stock  common         100       1      false   \n4   AMZN       Amazon.com, Inc.  stock  common         100       1      false   \n\n   minmove2 currency fundamental_currency_code  ...  Volatility  \\\n0         0      USD                       USD  ...    1.956886   \n1         0      USD                       USD  ...    3.059520   \n2         0      USD                       USD  ...    3.159953   \n3         0      USD                       USD  ...    3.127940   \n4         0      USD                       USD  ...    3.840088   \n\n   Volatility Month  Volatility Week  Volume Weighted Average Price  \\\n0          1.456962         1.360658                     193.203567   \n1          2.492153         2.152980                     329.161700   \n2          2.260257         2.156813                     128.970000   \n3          2.317558         2.137330                     128.676667   \n4          2.213158         2.404016                     128.420000   \n\n   Volume Weighted Moving Average (20)  Weekly Performance  \\\n0                           192.573235           -0.562813   \n1                           342.391918           -4.082709   \n2                           124.410942           -1.319423   \n3                           124.024506           -1.299300   \n4                           130.754057            1.343767   \n\n   Williams Percent Range (14) Yearly Performance  YTD Performance  \\\n0                   -65.697674          20.287320        47.820080   \n1                   -97.167835          18.659420        34.729307   \n2                   -35.294118          12.418072        43.203829   \n3                   -34.536082          12.614035        43.305241   \n4                   -80.075901          -4.832245        50.023403   \n\n          update_mode|1D  \n0  delayed_streaming_900  \n1  delayed_streaming_900  \n2  delayed_streaming_900  \n3  delayed_streaming_900  \n4  delayed_streaming_900  \n\n[5 rows x 248 columns]",
      "text/html": "<div>\n<style scoped>\n    .dataframe tbody tr th:only-of-type {\n        vertical-align: middle;\n    }\n\n    .dataframe tbody tr th {\n        vertical-align: top;\n    }\n\n    .dataframe thead th {\n        text-align: right;\n    }\n</style>\n<table border=\"1\" class=\"dataframe\">\n  <thead>\n    <tr style=\"text-align: right;\">\n      <th></th>\n      <th>name</th>\n      <th>description</th>\n      <th>type</th>\n      <th>subtype</th>\n      <th>pricescale</th>\n      <th>minmov</th>\n      <th>fractional</th>\n      <th>minmove2</th>\n      <th>currency</th>\n      <th>fundamental_currency_code</th>\n      <th>...</th>\n      <th>Volatility</th>\n      <th>Volatility Month</th>\n      <th>Volatility Week</th>\n      <th>Volume Weighted Average Price</th>\n      <th>Volume Weighted Moving Average (20)</th>\n      <th>Weekly Performance</th>\n      <th>Williams Percent Range (14)</th>\n      <th>Yearly Performance</th>\n      <th>YTD Performance</th>\n      <th>update_mode|1D</th>\n    </tr>\n  </thead>\n  <tbody>\n    <tr>\n      <th>0</th>\n      <td>AAPL</td>\n      <td>Apple Inc.</td>\n      <td>stock</td>\n      <td>common</td>\n      <td>100</td>\n      <td>1</td>\n      <td>false</td>\n      <td>0</td>\n      <td>USD</td>\n      <td>USD</td>\n      <td>...</td>\n      <td>1.956886</td>\n      <td>1.456962</td>\n      <td>1.360658</td>\n      <td>193.203567</td>\n      <td>192.573235</td>\n      <td>-0.562813</td>\n      <td>-65.697674</td>\n      <td>20.287320</td>\n      <td>47.820080</td>\n      <td>delayed_streaming_900</td>\n    </tr>\n    <tr>\n      <th>1</th>\n      <td>MSFT</td>\n      <td>Microsoft Corporation</td>\n      <td>stock</td>\n      <td>common</td>\n      <td>100</td>\n      <td>1</td>\n      <td>false</td>\n      <td>0</td>\n      <td>USD</td>\n      <td>USD</td>\n      <td>...</td>\n      <td>3.059520</td>\n      <td>2.492153</td>\n      <td>2.152980</td>\n      <td>329.161700</td>\n      <td>342.391918</td>\n      <td>-4.082709</td>\n      <td>-97.167835</td>\n      <td>18.659420</td>\n      <td>34.729307</td>\n      <td>delayed_streaming_900</td>\n    </tr>\n    <tr>\n      <th>2</th>\n      <td>GOOG</td>\n      <td>Alphabet Inc.</td>\n      <td>stock</td>\n      <td>common</td>\n      <td>100</td>\n      <td>1</td>\n      <td>false</td>\n      <td>0</td>\n      <td>USD</td>\n      <td>USD</td>\n      <td>...</td>\n      <td>3.159953</td>\n      <td>2.260257</td>\n      <td>2.156813</td>\n      <td>128.970000</td>\n      <td>124.410942</td>\n      <td>-1.319423</td>\n      <td>-35.294118</td>\n      <td>12.418072</td>\n      <td>43.203829</td>\n      <td>delayed_streaming_900</td>\n    </tr>\n    <tr>\n      <th>3</th>\n      <td>GOOGL</td>\n      <td>Alphabet Inc.</td>\n      <td>stock</td>\n      <td>common</td>\n      <td>100</td>\n      <td>1</td>\n      <td>false</td>\n      <td>0</td>\n      <td>USD</td>\n      <td>USD</td>\n      <td>...</td>\n      <td>3.127940</td>\n      <td>2.317558</td>\n      <td>2.137330</td>\n      <td>128.676667</td>\n      <td>124.024506</td>\n      <td>-1.299300</td>\n      <td>-34.536082</td>\n      <td>12.614035</td>\n      <td>43.305241</td>\n      <td>delayed_streaming_900</td>\n    </tr>\n    <tr>\n      <th>4</th>\n      <td>AMZN</td>\n      <td>Amazon.com, Inc.</td>\n      <td>stock</td>\n      <td>common</td>\n      <td>100</td>\n      <td>1</td>\n      <td>false</td>\n      <td>0</td>\n      <td>USD</td>\n      <td>USD</td>\n      <td>...</td>\n      <td>3.840088</td>\n      <td>2.213158</td>\n      <td>2.404016</td>\n      <td>128.420000</td>\n      <td>130.754057</td>\n      <td>1.343767</td>\n      <td>-80.075901</td>\n      <td>-4.832245</td>\n      <td>50.023403</td>\n      <td>delayed_streaming_900</td>\n    </tr>\n  </tbody>\n</table>\n<p>5 rows × 248 columns</p>\n</div>"
     },
     "execution_count": 8,
     "metadata": {},
     "output_type": "execute_result"
    }
   ],
   "source": [
    "ss = tvs.StockScreener()\n",
    "ss.set_markets('america')\n",
    "df = ss.get()\n",
    "df.head()"
   ],
   "metadata": {
    "collapsed": false,
    "ExecuteTime": {
     "end_time": "2023-08-03T07:03:00.231122257Z",
     "start_time": "2023-08-03T07:02:59.432501442Z"
    }
   },
   "id": "7f6b8ff3f9bf5cf5"
  },
  {
   "cell_type": "code",
   "execution_count": 11,
   "outputs": [
    {
     "name": "stdout",
     "output_type": "stream",
     "text": [
      "['america', 'uk', 'india', 'spain', 'russia', 'australia', 'brazil', 'japan', 'newzealand', 'turkey', 'switzerland', 'hongkong', 'taiwan', 'netherlands', 'belgium', 'portugal', 'france', 'mexico', 'canada', 'colombia', 'uae', 'nigeria', 'singapore', 'germany', 'pakistan', 'peru', 'poland', 'italy', 'argentina', 'israel', 'egypt', 'srilanka', 'serbia', 'chile', 'china', 'malaysia', 'morocco', 'ksa', 'bahrain', 'qatar', 'indonesia', 'finland', 'iceland', 'denmark', 'romania', 'hungary', 'sweden', 'slovakia', 'lithuania', 'luxembourg', 'estonia', 'latvia', 'vietnam', 'rsa', 'thailand', 'tunisia', 'korea', 'kenya', 'kuwait', 'norway', 'philippines', 'greece', 'venezuela', 'cyprus', 'bangladesh']\n"
     ]
    }
   ],
   "source": [
    "# Get the list of available markets\n",
    "print(tvs.tvdata.stock['markets'])"
   ],
   "metadata": {
    "collapsed": false,
    "ExecuteTime": {
     "end_time": "2023-08-03T07:03:41.732654451Z",
     "start_time": "2023-08-03T07:03:41.689637496Z"
    }
   },
   "id": "3ed464ea6f5604b1"
  },
  {
   "cell_type": "markdown",
   "source": [
    "### By Columns"
   ],
   "metadata": {
    "collapsed": false
   },
   "id": "b26cbeac916a18fb"
  },
  {
   "cell_type": "code",
   "execution_count": null,
   "outputs": [],
   "source": [
    "ss = tvs.StockScreener()\n",
    "ss.add_filter('Recommend.All', tvs.FilterOperation.IN_RANGE, values=[0.5, 1]) # Strong BUY\n",
    "df = ss.get()\n",
    "df.head()"
   ],
   "metadata": {
    "collapsed": false,
    "ExecuteTime": {
     "start_time": "2023-08-03T07:00:55.421076644Z"
    }
   },
   "id": "1efed19065f4c7ad"
  },
  {
   "cell_type": "markdown",
   "source": [
    "## Time intervals"
   ],
   "metadata": {
    "collapsed": false
   },
   "id": "aa9b0e3605524ae9"
  },
  {
   "cell_type": "code",
   "execution_count": null,
   "outputs": [],
   "source": [
    "ss = tvs.StockScreener()\n",
    "df = ss.get(tvs.TimeInterval.THIRTY_MINUTES)\n",
    "df.head()"
   ],
   "metadata": {
    "collapsed": false,
    "ExecuteTime": {
     "start_time": "2023-08-03T07:00:55.421171426Z"
    }
   },
   "id": "8864827cc8cc60d8"
  },
  {
   "cell_type": "markdown",
   "source": [
    "## Debugging"
   ],
   "metadata": {
    "collapsed": false
   },
   "id": "4afe73932d662204"
  },
  {
   "cell_type": "code",
   "execution_count": null,
   "outputs": [],
   "source": [
    "ss = tvs.StockScreener()\n",
    "df = ss.get(print_request=True)"
   ],
   "metadata": {
    "collapsed": false,
    "ExecuteTime": {
     "start_time": "2023-08-03T07:00:55.421280226Z"
    }
   },
   "id": "dd428873c1d8f9e9"
  },
  {
   "cell_type": "code",
   "execution_count": null,
   "outputs": [],
   "source": [],
   "metadata": {
    "collapsed": false,
    "ExecuteTime": {
     "start_time": "2023-08-03T07:00:55.421342842Z"
    }
   },
   "id": "59cc4e8fe363fa10"
  }
 ],
 "metadata": {
  "kernelspec": {
   "display_name": "Python 3",
   "language": "python",
   "name": "python3"
  },
  "language_info": {
   "codemirror_mode": {
    "name": "ipython",
    "version": 2
   },
   "file_extension": ".py",
   "mimetype": "text/x-python",
   "name": "python",
   "nbconvert_exporter": "python",
   "pygments_lexer": "ipython2",
   "version": "2.7.6"
  }
 },
 "nbformat": 4,
 "nbformat_minor": 5
}
