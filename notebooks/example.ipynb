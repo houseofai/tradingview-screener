{
 "cells": [
  {
   "cell_type": "code",
   "execution_count": 1,
   "id": "initial_id",
   "metadata": {
    "collapsed": true,
    "ExecuteTime": {
     "end_time": "2023-08-04T14:12:23.518654873Z",
     "start_time": "2023-08-04T14:12:23.386478655Z"
    }
   },
   "outputs": [],
   "source": [
    "import tvscreener as tvs\n",
    "\n",
    "%load_ext autoreload\n",
    "%autoreload 2"
   ]
  },
  {
   "cell_type": "markdown",
   "source": [
    "# Stock"
   ],
   "metadata": {
    "collapsed": false
   },
   "id": "d8b81da10afe1e9c"
  },
  {
   "cell_type": "code",
   "execution_count": 2,
   "outputs": [
    {
     "data": {
      "text/plain": "         Symbol  All Time High  All Time Low All Time Performance  \\\n0   NASDAQ:AAPL     198.230000      0.049107           144062.75%   \n1   NASDAQ:MSFT     366.780000      0.088543           339685.85%   \n2   NASDAQ:GOOG     152.100000     24.312350              360.15%   \n3  NASDAQ:GOOGL     151.546575      2.401327             5091.64%   \n4   NASDAQ:AMZN     188.653910      0.065624           115265.05%   \n\n   Aroon Down (14)  Aroon Up (14)  Average Day Range (14)  \\\n0       100.000000      14.285714                2.905021   \n1        92.857143       7.142857                8.941779   \n2        21.428571      64.285714                2.721429   \n3        21.428571      64.285714                2.727143   \n4        50.000000     100.000000                3.045829   \n\n   Average Directional Index (14)  Average True Range (14)  \\\n0                       39.263114                 3.158088   \n1                       17.120689                 8.344818   \n2                       19.759158                 3.253748   \n3                       20.838071                 3.275636   \n4                       19.601410                 3.941433   \n\n   Awesome Oscillator  ...  Monthly Performance raw  3-Month Performance raw  \\\n0            1.590986  ...                -3.411375                 8.220500   \n1           -6.745221  ...                -1.414545                 8.056391   \n2            6.825562  ...                 8.554056                23.746677   \n3            7.083463  ...                 8.965112                23.955352   \n4            2.379346  ...                 7.954545                34.842236   \n\n   6-Month Performance raw  Moving Averages Rating raw  \\\n0                24.994933                   -0.423077   \n1                27.281904                   -0.269231   \n2                25.910540                    0.961538   \n3                26.231419                    0.961538   \n4                33.574007                    0.961538   \n\n   Oscillators Rating raw Technical Rating raw Weekly Performance raw  \\\n0               -0.181818            -0.302448              -4.951970   \n1                0.090909            -0.089161              -0.994995   \n2                0.181818             0.571678              -0.488662   \n3                0.181818             0.571678              -0.649946   \n4                0.272727             0.617133               8.412368   \n\n   Yearly Performance raw  YTD Performance raw  5Y Performance raw  \n0               11.460498            42.024870          257.494083  \n1               17.228531            35.901761          206.447124  \n2               10.169062            45.085161          111.984190  \n3               10.597549            45.035441          108.692719  \n4                0.014227            64.521414           53.013728  \n\n[5 rows x 297 columns]",
      "text/html": "<div>\n<style scoped>\n    .dataframe tbody tr th:only-of-type {\n        vertical-align: middle;\n    }\n\n    .dataframe tbody tr th {\n        vertical-align: top;\n    }\n\n    .dataframe thead th {\n        text-align: right;\n    }\n</style>\n<table border=\"1\" class=\"dataframe\">\n  <thead>\n    <tr style=\"text-align: right;\">\n      <th></th>\n      <th>Symbol</th>\n      <th>All Time High</th>\n      <th>All Time Low</th>\n      <th>All Time Performance</th>\n      <th>Aroon Down (14)</th>\n      <th>Aroon Up (14)</th>\n      <th>Average Day Range (14)</th>\n      <th>Average Directional Index (14)</th>\n      <th>Average True Range (14)</th>\n      <th>Awesome Oscillator</th>\n      <th>...</th>\n      <th>Monthly Performance raw</th>\n      <th>3-Month Performance raw</th>\n      <th>6-Month Performance raw</th>\n      <th>Moving Averages Rating raw</th>\n      <th>Oscillators Rating raw</th>\n      <th>Technical Rating raw</th>\n      <th>Weekly Performance raw</th>\n      <th>Yearly Performance raw</th>\n      <th>YTD Performance raw</th>\n      <th>5Y Performance raw</th>\n    </tr>\n  </thead>\n  <tbody>\n    <tr>\n      <th>0</th>\n      <td>NASDAQ:AAPL</td>\n      <td>198.230000</td>\n      <td>0.049107</td>\n      <td>144062.75%</td>\n      <td>100.000000</td>\n      <td>14.285714</td>\n      <td>2.905021</td>\n      <td>39.263114</td>\n      <td>3.158088</td>\n      <td>1.590986</td>\n      <td>...</td>\n      <td>-3.411375</td>\n      <td>8.220500</td>\n      <td>24.994933</td>\n      <td>-0.423077</td>\n      <td>-0.181818</td>\n      <td>-0.302448</td>\n      <td>-4.951970</td>\n      <td>11.460498</td>\n      <td>42.024870</td>\n      <td>257.494083</td>\n    </tr>\n    <tr>\n      <th>1</th>\n      <td>NASDAQ:MSFT</td>\n      <td>366.780000</td>\n      <td>0.088543</td>\n      <td>339685.85%</td>\n      <td>92.857143</td>\n      <td>7.142857</td>\n      <td>8.941779</td>\n      <td>17.120689</td>\n      <td>8.344818</td>\n      <td>-6.745221</td>\n      <td>...</td>\n      <td>-1.414545</td>\n      <td>8.056391</td>\n      <td>27.281904</td>\n      <td>-0.269231</td>\n      <td>0.090909</td>\n      <td>-0.089161</td>\n      <td>-0.994995</td>\n      <td>17.228531</td>\n      <td>35.901761</td>\n      <td>206.447124</td>\n    </tr>\n    <tr>\n      <th>2</th>\n      <td>NASDAQ:GOOG</td>\n      <td>152.100000</td>\n      <td>24.312350</td>\n      <td>360.15%</td>\n      <td>21.428571</td>\n      <td>64.285714</td>\n      <td>2.721429</td>\n      <td>19.759158</td>\n      <td>3.253748</td>\n      <td>6.825562</td>\n      <td>...</td>\n      <td>8.554056</td>\n      <td>23.746677</td>\n      <td>25.910540</td>\n      <td>0.961538</td>\n      <td>0.181818</td>\n      <td>0.571678</td>\n      <td>-0.488662</td>\n      <td>10.169062</td>\n      <td>45.085161</td>\n      <td>111.984190</td>\n    </tr>\n    <tr>\n      <th>3</th>\n      <td>NASDAQ:GOOGL</td>\n      <td>151.546575</td>\n      <td>2.401327</td>\n      <td>5091.64%</td>\n      <td>21.428571</td>\n      <td>64.285714</td>\n      <td>2.727143</td>\n      <td>20.838071</td>\n      <td>3.275636</td>\n      <td>7.083463</td>\n      <td>...</td>\n      <td>8.965112</td>\n      <td>23.955352</td>\n      <td>26.231419</td>\n      <td>0.961538</td>\n      <td>0.181818</td>\n      <td>0.571678</td>\n      <td>-0.649946</td>\n      <td>10.597549</td>\n      <td>45.035441</td>\n      <td>108.692719</td>\n    </tr>\n    <tr>\n      <th>4</th>\n      <td>NASDAQ:AMZN</td>\n      <td>188.653910</td>\n      <td>0.065624</td>\n      <td>115265.05%</td>\n      <td>50.000000</td>\n      <td>100.000000</td>\n      <td>3.045829</td>\n      <td>19.601410</td>\n      <td>3.941433</td>\n      <td>2.379346</td>\n      <td>...</td>\n      <td>7.954545</td>\n      <td>34.842236</td>\n      <td>33.574007</td>\n      <td>0.961538</td>\n      <td>0.272727</td>\n      <td>0.617133</td>\n      <td>8.412368</td>\n      <td>0.014227</td>\n      <td>64.521414</td>\n      <td>53.013728</td>\n    </tr>\n  </tbody>\n</table>\n<p>5 rows × 297 columns</p>\n</div>"
     },
     "execution_count": 2,
     "metadata": {},
     "output_type": "execute_result"
    }
   ],
   "source": [
    "ss = tvs.StockScreener()\n",
    "df = ss.get()\n",
    "df.head()"
   ],
   "metadata": {
    "collapsed": false,
    "ExecuteTime": {
     "end_time": "2023-08-04T14:12:24.757284547Z",
     "start_time": "2023-08-04T14:12:23.562393530Z"
    }
   },
   "id": "180f141359f1e171"
  },
  {
   "cell_type": "markdown",
   "source": [
    "## Forex"
   ],
   "metadata": {
    "collapsed": false
   },
   "id": "a0e28abc4e3c832d"
  },
  {
   "cell_type": "code",
   "execution_count": 3,
   "outputs": [
    {
     "data": {
      "text/plain": "          Symbol  All Time High  All Time Low All Time Performance  \\\n0  FX_IDC:AEDAUD        0.48967       0.25641               60.79%   \n1  FX_IDC:AEDCAD        0.39856       0.25670               39.06%   \n2  FX_IDC:AEDCHF        0.28102       0.22759              -10.80%   \n3  FX_IDC:AEDEUR        0.28516       0.12633               15.28%   \n4  FX_IDC:AEDGBP        0.25919       0.13346               54.24%   \n\n   Aroon Down (14)  Aroon Up (14)  Average Day Range (14)  \\\n0         0.000000      92.857143                0.003889   \n1        21.428571     100.000000                0.001501   \n2        14.285714      85.714286                0.001470   \n3         7.142857      92.857143                0.001385   \n4         0.000000      92.857143                0.001391   \n\n   Average Directional Index (14)  Average True Range (14)  \\\n0                       16.823761                 0.003862   \n1                       13.539206                 0.001560   \n2                       22.120250                 0.001496   \n3                       20.947517                 0.001364   \n4                       20.028532                 0.001311   \n\n   Awesome Oscillator  ...  Monthly Performance raw  3-Month Performance raw  \\\n0            0.006221  ...                 1.643782                 1.663795   \n1            0.001926  ...                 1.042796                -1.295738   \n2           -0.001535  ...                -2.870735                -1.656770   \n3            0.000728  ...                -1.179764                 0.044536   \n4            0.000928  ...                -0.360200                -1.470996   \n\n   6-Month Performance raw  Moving Averages Rating raw  \\\n0                 7.508914                        0.80   \n1                 0.320265                        0.48   \n2                -4.576954                       -0.80   \n3                -0.902346                       -0.32   \n4                -4.166292                        0.08   \n\n   Oscillators Rating raw Technical Rating raw Weekly Performance raw  \\\n0               -0.272727             0.263636               1.904574   \n1               -0.181818             0.149091               1.054037   \n2               -0.181818            -0.490909               0.292187   \n3               -0.181818            -0.250909              -0.250283   \n4               -0.272727            -0.096364               0.329722   \n\n   Yearly Performance raw  YTD Performance raw  5Y Performance raw  \n0                5.525892             3.471944           11.903988  \n1                4.004351            -1.413571            2.626673  \n2               -9.329658            -5.769078          -12.456568  \n3               -7.688285            -2.766301            5.274369  \n4               -4.838494            -5.185845            2.104405  \n\n[5 rows x 138 columns]",
      "text/html": "<div>\n<style scoped>\n    .dataframe tbody tr th:only-of-type {\n        vertical-align: middle;\n    }\n\n    .dataframe tbody tr th {\n        vertical-align: top;\n    }\n\n    .dataframe thead th {\n        text-align: right;\n    }\n</style>\n<table border=\"1\" class=\"dataframe\">\n  <thead>\n    <tr style=\"text-align: right;\">\n      <th></th>\n      <th>Symbol</th>\n      <th>All Time High</th>\n      <th>All Time Low</th>\n      <th>All Time Performance</th>\n      <th>Aroon Down (14)</th>\n      <th>Aroon Up (14)</th>\n      <th>Average Day Range (14)</th>\n      <th>Average Directional Index (14)</th>\n      <th>Average True Range (14)</th>\n      <th>Awesome Oscillator</th>\n      <th>...</th>\n      <th>Monthly Performance raw</th>\n      <th>3-Month Performance raw</th>\n      <th>6-Month Performance raw</th>\n      <th>Moving Averages Rating raw</th>\n      <th>Oscillators Rating raw</th>\n      <th>Technical Rating raw</th>\n      <th>Weekly Performance raw</th>\n      <th>Yearly Performance raw</th>\n      <th>YTD Performance raw</th>\n      <th>5Y Performance raw</th>\n    </tr>\n  </thead>\n  <tbody>\n    <tr>\n      <th>0</th>\n      <td>FX_IDC:AEDAUD</td>\n      <td>0.48967</td>\n      <td>0.25641</td>\n      <td>60.79%</td>\n      <td>0.000000</td>\n      <td>92.857143</td>\n      <td>0.003889</td>\n      <td>16.823761</td>\n      <td>0.003862</td>\n      <td>0.006221</td>\n      <td>...</td>\n      <td>1.643782</td>\n      <td>1.663795</td>\n      <td>7.508914</td>\n      <td>0.80</td>\n      <td>-0.272727</td>\n      <td>0.263636</td>\n      <td>1.904574</td>\n      <td>5.525892</td>\n      <td>3.471944</td>\n      <td>11.903988</td>\n    </tr>\n    <tr>\n      <th>1</th>\n      <td>FX_IDC:AEDCAD</td>\n      <td>0.39856</td>\n      <td>0.25670</td>\n      <td>39.06%</td>\n      <td>21.428571</td>\n      <td>100.000000</td>\n      <td>0.001501</td>\n      <td>13.539206</td>\n      <td>0.001560</td>\n      <td>0.001926</td>\n      <td>...</td>\n      <td>1.042796</td>\n      <td>-1.295738</td>\n      <td>0.320265</td>\n      <td>0.48</td>\n      <td>-0.181818</td>\n      <td>0.149091</td>\n      <td>1.054037</td>\n      <td>4.004351</td>\n      <td>-1.413571</td>\n      <td>2.626673</td>\n    </tr>\n    <tr>\n      <th>2</th>\n      <td>FX_IDC:AEDCHF</td>\n      <td>0.28102</td>\n      <td>0.22759</td>\n      <td>-10.80%</td>\n      <td>14.285714</td>\n      <td>85.714286</td>\n      <td>0.001470</td>\n      <td>22.120250</td>\n      <td>0.001496</td>\n      <td>-0.001535</td>\n      <td>...</td>\n      <td>-2.870735</td>\n      <td>-1.656770</td>\n      <td>-4.576954</td>\n      <td>-0.80</td>\n      <td>-0.181818</td>\n      <td>-0.490909</td>\n      <td>0.292187</td>\n      <td>-9.329658</td>\n      <td>-5.769078</td>\n      <td>-12.456568</td>\n    </tr>\n    <tr>\n      <th>3</th>\n      <td>FX_IDC:AEDEUR</td>\n      <td>0.28516</td>\n      <td>0.12633</td>\n      <td>15.28%</td>\n      <td>7.142857</td>\n      <td>92.857143</td>\n      <td>0.001385</td>\n      <td>20.947517</td>\n      <td>0.001364</td>\n      <td>0.000728</td>\n      <td>...</td>\n      <td>-1.179764</td>\n      <td>0.044536</td>\n      <td>-0.902346</td>\n      <td>-0.32</td>\n      <td>-0.181818</td>\n      <td>-0.250909</td>\n      <td>-0.250283</td>\n      <td>-7.688285</td>\n      <td>-2.766301</td>\n      <td>5.274369</td>\n    </tr>\n    <tr>\n      <th>4</th>\n      <td>FX_IDC:AEDGBP</td>\n      <td>0.25919</td>\n      <td>0.13346</td>\n      <td>54.24%</td>\n      <td>0.000000</td>\n      <td>92.857143</td>\n      <td>0.001391</td>\n      <td>20.028532</td>\n      <td>0.001311</td>\n      <td>0.000928</td>\n      <td>...</td>\n      <td>-0.360200</td>\n      <td>-1.470996</td>\n      <td>-4.166292</td>\n      <td>0.08</td>\n      <td>-0.272727</td>\n      <td>-0.096364</td>\n      <td>0.329722</td>\n      <td>-4.838494</td>\n      <td>-5.185845</td>\n      <td>2.104405</td>\n    </tr>\n  </tbody>\n</table>\n<p>5 rows × 138 columns</p>\n</div>"
     },
     "execution_count": 3,
     "metadata": {},
     "output_type": "execute_result"
    }
   ],
   "source": [
    "fs = tvs.ForexScreener()\n",
    "df = fs.get()\n",
    "df.head()"
   ],
   "metadata": {
    "collapsed": false,
    "ExecuteTime": {
     "end_time": "2023-08-04T14:12:25.166650110Z",
     "start_time": "2023-08-04T14:12:24.754167336Z"
    }
   },
   "id": "5a3140ab1afc7830"
  },
  {
   "cell_type": "markdown",
   "source": [
    "## Crypto"
   ],
   "metadata": {
    "collapsed": false
   },
   "id": "a2d8c8054bc7a281"
  },
  {
   "cell_type": "code",
   "execution_count": 4,
   "outputs": [
    {
     "data": {
      "text/plain": "              Symbol  All Time High  All Time Low All Time Performance  \\\n0  BINANCE:BTCUSDT.P       69198.70       3621.81              192.00%   \n1  BINANCE:ETHUSDT.P        4877.54         84.23             1160.68%   \n2   BITGET:BTCUSDT.P       69145.50       3794.50              123.29%   \n3      OKX:ETHUSDT.P        4877.70         85.39             1341.26%   \n4      OKX:BTCUSDT.P       69158.00       3728.80              323.74%   \n\n   Aroon Down (14)  Aroon Up (14)  Average Day Range (14)  \\\n0        78.571429      14.285714              588.192857   \n1        78.571429       0.000000               40.287857   \n2        78.571429      14.285714              574.285714   \n3        78.571429       0.000000               39.335000   \n4        78.571429      14.285714              578.735714   \n\n   Average Directional Index (14)  Average True Range (14)  \\\n0                       15.016438               668.368156   \n1                       15.590015                45.787902   \n2                       14.911006               653.240189   \n3                       13.595599                45.222367   \n4                       14.612957               657.174293   \n\n   Awesome Oscillator  ...  Monthly Performance raw  3-Month Performance raw  \\\n0         -704.867059  ...                -5.059484                -0.988420   \n1          -40.153000  ...                -4.913934                -7.625907   \n2         -710.316176  ...                -5.114578                -1.059178   \n3          -40.310176  ...                -4.907858                -7.597826   \n4         -710.044118  ...                -5.068043                -0.993187   \n\n   6-Month Performance raw  Moving Averages Rating raw  \\\n0                25.200449                   -0.423077   \n1                10.451021                   -0.576923   \n2                25.191380                   -0.423077   \n3                10.492212                   -0.576923   \n4                25.227771                   -0.423077   \n\n   Oscillators Rating raw Technical Rating raw Weekly Performance raw  \\\n0               -0.181818            -0.302448              -0.033550   \n1               -0.090909            -0.333916              -1.058437   \n2               -0.181818            -0.302448              -0.037668   \n3               -0.090909            -0.333916              -1.069539   \n4               -0.181818            -0.302448              -0.062957   \n\n   Yearly Performance raw  YTD Performance raw  5Y Performance raw  \n0               28.061750            76.568405          183.038437  \n1               13.802037            53.883455         1092.948344  \n2               27.993598            76.458321          136.138974  \n3               13.785434            53.907353         1342.839235  \n4               28.021039            76.527115          340.955343  \n\n[5 rows x 151 columns]",
      "text/html": "<div>\n<style scoped>\n    .dataframe tbody tr th:only-of-type {\n        vertical-align: middle;\n    }\n\n    .dataframe tbody tr th {\n        vertical-align: top;\n    }\n\n    .dataframe thead th {\n        text-align: right;\n    }\n</style>\n<table border=\"1\" class=\"dataframe\">\n  <thead>\n    <tr style=\"text-align: right;\">\n      <th></th>\n      <th>Symbol</th>\n      <th>All Time High</th>\n      <th>All Time Low</th>\n      <th>All Time Performance</th>\n      <th>Aroon Down (14)</th>\n      <th>Aroon Up (14)</th>\n      <th>Average Day Range (14)</th>\n      <th>Average Directional Index (14)</th>\n      <th>Average True Range (14)</th>\n      <th>Awesome Oscillator</th>\n      <th>...</th>\n      <th>Monthly Performance raw</th>\n      <th>3-Month Performance raw</th>\n      <th>6-Month Performance raw</th>\n      <th>Moving Averages Rating raw</th>\n      <th>Oscillators Rating raw</th>\n      <th>Technical Rating raw</th>\n      <th>Weekly Performance raw</th>\n      <th>Yearly Performance raw</th>\n      <th>YTD Performance raw</th>\n      <th>5Y Performance raw</th>\n    </tr>\n  </thead>\n  <tbody>\n    <tr>\n      <th>0</th>\n      <td>BINANCE:BTCUSDT.P</td>\n      <td>69198.70</td>\n      <td>3621.81</td>\n      <td>192.00%</td>\n      <td>78.571429</td>\n      <td>14.285714</td>\n      <td>588.192857</td>\n      <td>15.016438</td>\n      <td>668.368156</td>\n      <td>-704.867059</td>\n      <td>...</td>\n      <td>-5.059484</td>\n      <td>-0.988420</td>\n      <td>25.200449</td>\n      <td>-0.423077</td>\n      <td>-0.181818</td>\n      <td>-0.302448</td>\n      <td>-0.033550</td>\n      <td>28.061750</td>\n      <td>76.568405</td>\n      <td>183.038437</td>\n    </tr>\n    <tr>\n      <th>1</th>\n      <td>BINANCE:ETHUSDT.P</td>\n      <td>4877.54</td>\n      <td>84.23</td>\n      <td>1160.68%</td>\n      <td>78.571429</td>\n      <td>0.000000</td>\n      <td>40.287857</td>\n      <td>15.590015</td>\n      <td>45.787902</td>\n      <td>-40.153000</td>\n      <td>...</td>\n      <td>-4.913934</td>\n      <td>-7.625907</td>\n      <td>10.451021</td>\n      <td>-0.576923</td>\n      <td>-0.090909</td>\n      <td>-0.333916</td>\n      <td>-1.058437</td>\n      <td>13.802037</td>\n      <td>53.883455</td>\n      <td>1092.948344</td>\n    </tr>\n    <tr>\n      <th>2</th>\n      <td>BITGET:BTCUSDT.P</td>\n      <td>69145.50</td>\n      <td>3794.50</td>\n      <td>123.29%</td>\n      <td>78.571429</td>\n      <td>14.285714</td>\n      <td>574.285714</td>\n      <td>14.911006</td>\n      <td>653.240189</td>\n      <td>-710.316176</td>\n      <td>...</td>\n      <td>-5.114578</td>\n      <td>-1.059178</td>\n      <td>25.191380</td>\n      <td>-0.423077</td>\n      <td>-0.181818</td>\n      <td>-0.302448</td>\n      <td>-0.037668</td>\n      <td>27.993598</td>\n      <td>76.458321</td>\n      <td>136.138974</td>\n    </tr>\n    <tr>\n      <th>3</th>\n      <td>OKX:ETHUSDT.P</td>\n      <td>4877.70</td>\n      <td>85.39</td>\n      <td>1341.26%</td>\n      <td>78.571429</td>\n      <td>0.000000</td>\n      <td>39.335000</td>\n      <td>13.595599</td>\n      <td>45.222367</td>\n      <td>-40.310176</td>\n      <td>...</td>\n      <td>-4.907858</td>\n      <td>-7.597826</td>\n      <td>10.492212</td>\n      <td>-0.576923</td>\n      <td>-0.090909</td>\n      <td>-0.333916</td>\n      <td>-1.069539</td>\n      <td>13.785434</td>\n      <td>53.907353</td>\n      <td>1342.839235</td>\n    </tr>\n    <tr>\n      <th>4</th>\n      <td>OKX:BTCUSDT.P</td>\n      <td>69158.00</td>\n      <td>3728.80</td>\n      <td>323.74%</td>\n      <td>78.571429</td>\n      <td>14.285714</td>\n      <td>578.735714</td>\n      <td>14.612957</td>\n      <td>657.174293</td>\n      <td>-710.044118</td>\n      <td>...</td>\n      <td>-5.068043</td>\n      <td>-0.993187</td>\n      <td>25.227771</td>\n      <td>-0.423077</td>\n      <td>-0.181818</td>\n      <td>-0.302448</td>\n      <td>-0.062957</td>\n      <td>28.021039</td>\n      <td>76.527115</td>\n      <td>340.955343</td>\n    </tr>\n  </tbody>\n</table>\n<p>5 rows × 151 columns</p>\n</div>"
     },
     "execution_count": 4,
     "metadata": {},
     "output_type": "execute_result"
    }
   ],
   "source": [
    "cs = tvs.CryptoScreener()\n",
    "df = cs.get()\n",
    "df.head()"
   ],
   "metadata": {
    "collapsed": false,
    "ExecuteTime": {
     "end_time": "2023-08-04T14:12:25.940115095Z",
     "start_time": "2023-08-04T14:12:25.166481724Z"
    }
   },
   "id": "bbede913c3cf6067"
  },
  {
   "cell_type": "markdown",
   "source": [
    "## Options"
   ],
   "metadata": {
    "collapsed": false
   },
   "id": "e6b09b518bdabd39"
  },
  {
   "cell_type": "markdown",
   "source": [
    "## Range"
   ],
   "metadata": {
    "collapsed": false
   },
   "id": "8c329b0e0edac821"
  },
  {
   "cell_type": "code",
   "execution_count": 5,
   "outputs": [
    {
     "data": {
      "text/plain": "            Symbol  All Time High  All Time Low All Time Performance  \\\n0      NASDAQ:AAPL     198.230000      0.049107           144062.75%   \n1      NASDAQ:MSFT     366.780000      0.088543           339685.85%   \n2      NASDAQ:GOOG     152.100000     24.312350              360.15%   \n3     NASDAQ:GOOGL     151.546575      2.401327             5091.64%   \n4      NASDAQ:AMZN     188.653910      0.065624           115265.05%   \n...            ...            ...           ...                  ...   \n9995      OTC:BAOB      18.731047      1.081722              -48.43%   \n9996   NASDAQ:FAZE      24.690000      0.330000              -95.98%   \n9997   NASDAQ:SONM     182.575000      0.400000              -99.39%   \n9998      OTC:FBPI      24.960000      5.150000              103.62%   \n9999     OTC:BUENF       1.250000      0.013700              -98.42%   \n\n      Aroon Down (14)  Aroon Up (14)  Average Day Range (14)  \\\n0          100.000000      14.285714                2.905021   \n1           92.857143       7.142857                8.941779   \n2           21.428571      64.285714                2.721429   \n3           21.428571      64.285714                2.727143   \n4           50.000000     100.000000                3.045829   \n...               ...            ...                     ...   \n9995        35.714286     100.000000                0.027143   \n9996        50.000000      35.714286                0.058350   \n9997        92.857143       0.000000                0.077371   \n9998        28.571429      71.428571                0.019286   \n9999        85.714286      35.714286                0.000514   \n\n      Average Directional Index (14)  Average True Range (14)  \\\n0                          39.263114                 3.158088   \n1                          17.120689                 8.344818   \n2                          19.759158                 3.253748   \n3                          20.838071                 3.275636   \n4                          19.601410                 3.941433   \n...                              ...                      ...   \n9995                       15.504158                 0.086280   \n9996                       24.274169                 0.047596   \n9997                       20.629117                 0.080850   \n9998                       15.538826                 0.478374   \n9999                       13.862024                 0.001673   \n\n      Awesome Oscillator  ...  Monthly Performance raw  \\\n0               1.590986  ...                -3.411375   \n1              -6.745221  ...                -1.414545   \n2               6.825562  ...                 8.554056   \n3               7.083463  ...                 8.965112   \n4               2.379346  ...                 7.954545   \n...                  ...  ...                      ...   \n9995            0.054735  ...                 3.205128   \n9996           -0.056791  ...               -11.789998   \n9997           -0.173895  ...               -39.491525   \n9998            0.275456  ...                 0.000000   \n9999           -0.002271  ...               -19.796954   \n\n      3-Month Performance raw  6-Month Performance raw  \\\n0                    8.220500                24.994933   \n1                    8.056391                27.281904   \n2                   23.746677                25.910540   \n3                   23.955352                26.231419   \n4                   34.842236                33.574007   \n...                       ...                      ...   \n9995                 9.152542                -8.392603   \n9996               -16.262084               -61.020000   \n9997               -19.775281                35.227273   \n9998                 0.298507                 2.439024   \n9999               -25.471698               -56.593407   \n\n      Moving Averages Rating raw  Oscillators Rating raw Technical Rating raw  \\\n0                      -0.423077               -0.181818            -0.302448   \n1                      -0.269231                0.090909            -0.089161   \n2                       0.961538                0.181818             0.571678   \n3                       0.961538                0.181818             0.571678   \n4                       0.961538                0.272727             0.617133   \n...                          ...                     ...                  ...   \n9995                    0.346154                0.090909             0.218531   \n9996                   -0.423077                0.272727            -0.075175   \n9997                   -0.961538                0.090909            -0.435315   \n9998                   -0.884615                0.181818            -0.351399   \n9999                   -0.807692                0.000000            -0.403846   \n\n     Weekly Performance raw  Yearly Performance raw  YTD Performance raw  \\\n0                 -4.951970               11.460498            42.024870   \n1                 -0.994995               17.228531            35.901761   \n2                 -0.488662               10.169062            45.085161   \n3                 -0.649946               10.597549            45.035441   \n4                  8.412368                0.014227            64.521414   \n...                     ...                     ...                  ...   \n9995               0.311526              -19.696743           -11.780822   \n9996              12.985507              -96.879103           -79.375661   \n9997             -31.993523                4.187947            62.272727   \n9998              -0.118906              -14.066496             2.752294   \n9999             -21.000000              -73.666667           -60.500000   \n\n      5Y Performance raw  \n0             257.494083  \n1             206.447124  \n2             111.984190  \n3             108.692719  \n4              53.013728  \n...                  ...  \n9995          -19.095477  \n9996          -95.981443  \n9997          -99.340720  \n9998          -15.365239  \n9999          -98.420000  \n\n[10000 rows x 297 columns]",
      "text/html": "<div>\n<style scoped>\n    .dataframe tbody tr th:only-of-type {\n        vertical-align: middle;\n    }\n\n    .dataframe tbody tr th {\n        vertical-align: top;\n    }\n\n    .dataframe thead th {\n        text-align: right;\n    }\n</style>\n<table border=\"1\" class=\"dataframe\">\n  <thead>\n    <tr style=\"text-align: right;\">\n      <th></th>\n      <th>Symbol</th>\n      <th>All Time High</th>\n      <th>All Time Low</th>\n      <th>All Time Performance</th>\n      <th>Aroon Down (14)</th>\n      <th>Aroon Up (14)</th>\n      <th>Average Day Range (14)</th>\n      <th>Average Directional Index (14)</th>\n      <th>Average True Range (14)</th>\n      <th>Awesome Oscillator</th>\n      <th>...</th>\n      <th>Monthly Performance raw</th>\n      <th>3-Month Performance raw</th>\n      <th>6-Month Performance raw</th>\n      <th>Moving Averages Rating raw</th>\n      <th>Oscillators Rating raw</th>\n      <th>Technical Rating raw</th>\n      <th>Weekly Performance raw</th>\n      <th>Yearly Performance raw</th>\n      <th>YTD Performance raw</th>\n      <th>5Y Performance raw</th>\n    </tr>\n  </thead>\n  <tbody>\n    <tr>\n      <th>0</th>\n      <td>NASDAQ:AAPL</td>\n      <td>198.230000</td>\n      <td>0.049107</td>\n      <td>144062.75%</td>\n      <td>100.000000</td>\n      <td>14.285714</td>\n      <td>2.905021</td>\n      <td>39.263114</td>\n      <td>3.158088</td>\n      <td>1.590986</td>\n      <td>...</td>\n      <td>-3.411375</td>\n      <td>8.220500</td>\n      <td>24.994933</td>\n      <td>-0.423077</td>\n      <td>-0.181818</td>\n      <td>-0.302448</td>\n      <td>-4.951970</td>\n      <td>11.460498</td>\n      <td>42.024870</td>\n      <td>257.494083</td>\n    </tr>\n    <tr>\n      <th>1</th>\n      <td>NASDAQ:MSFT</td>\n      <td>366.780000</td>\n      <td>0.088543</td>\n      <td>339685.85%</td>\n      <td>92.857143</td>\n      <td>7.142857</td>\n      <td>8.941779</td>\n      <td>17.120689</td>\n      <td>8.344818</td>\n      <td>-6.745221</td>\n      <td>...</td>\n      <td>-1.414545</td>\n      <td>8.056391</td>\n      <td>27.281904</td>\n      <td>-0.269231</td>\n      <td>0.090909</td>\n      <td>-0.089161</td>\n      <td>-0.994995</td>\n      <td>17.228531</td>\n      <td>35.901761</td>\n      <td>206.447124</td>\n    </tr>\n    <tr>\n      <th>2</th>\n      <td>NASDAQ:GOOG</td>\n      <td>152.100000</td>\n      <td>24.312350</td>\n      <td>360.15%</td>\n      <td>21.428571</td>\n      <td>64.285714</td>\n      <td>2.721429</td>\n      <td>19.759158</td>\n      <td>3.253748</td>\n      <td>6.825562</td>\n      <td>...</td>\n      <td>8.554056</td>\n      <td>23.746677</td>\n      <td>25.910540</td>\n      <td>0.961538</td>\n      <td>0.181818</td>\n      <td>0.571678</td>\n      <td>-0.488662</td>\n      <td>10.169062</td>\n      <td>45.085161</td>\n      <td>111.984190</td>\n    </tr>\n    <tr>\n      <th>3</th>\n      <td>NASDAQ:GOOGL</td>\n      <td>151.546575</td>\n      <td>2.401327</td>\n      <td>5091.64%</td>\n      <td>21.428571</td>\n      <td>64.285714</td>\n      <td>2.727143</td>\n      <td>20.838071</td>\n      <td>3.275636</td>\n      <td>7.083463</td>\n      <td>...</td>\n      <td>8.965112</td>\n      <td>23.955352</td>\n      <td>26.231419</td>\n      <td>0.961538</td>\n      <td>0.181818</td>\n      <td>0.571678</td>\n      <td>-0.649946</td>\n      <td>10.597549</td>\n      <td>45.035441</td>\n      <td>108.692719</td>\n    </tr>\n    <tr>\n      <th>4</th>\n      <td>NASDAQ:AMZN</td>\n      <td>188.653910</td>\n      <td>0.065624</td>\n      <td>115265.05%</td>\n      <td>50.000000</td>\n      <td>100.000000</td>\n      <td>3.045829</td>\n      <td>19.601410</td>\n      <td>3.941433</td>\n      <td>2.379346</td>\n      <td>...</td>\n      <td>7.954545</td>\n      <td>34.842236</td>\n      <td>33.574007</td>\n      <td>0.961538</td>\n      <td>0.272727</td>\n      <td>0.617133</td>\n      <td>8.412368</td>\n      <td>0.014227</td>\n      <td>64.521414</td>\n      <td>53.013728</td>\n    </tr>\n    <tr>\n      <th>...</th>\n      <td>...</td>\n      <td>...</td>\n      <td>...</td>\n      <td>...</td>\n      <td>...</td>\n      <td>...</td>\n      <td>...</td>\n      <td>...</td>\n      <td>...</td>\n      <td>...</td>\n      <td>...</td>\n      <td>...</td>\n      <td>...</td>\n      <td>...</td>\n      <td>...</td>\n      <td>...</td>\n      <td>...</td>\n      <td>...</td>\n      <td>...</td>\n      <td>...</td>\n      <td>...</td>\n    </tr>\n    <tr>\n      <th>9995</th>\n      <td>OTC:BAOB</td>\n      <td>18.731047</td>\n      <td>1.081722</td>\n      <td>-48.43%</td>\n      <td>35.714286</td>\n      <td>100.000000</td>\n      <td>0.027143</td>\n      <td>15.504158</td>\n      <td>0.086280</td>\n      <td>0.054735</td>\n      <td>...</td>\n      <td>3.205128</td>\n      <td>9.152542</td>\n      <td>-8.392603</td>\n      <td>0.346154</td>\n      <td>0.090909</td>\n      <td>0.218531</td>\n      <td>0.311526</td>\n      <td>-19.696743</td>\n      <td>-11.780822</td>\n      <td>-19.095477</td>\n    </tr>\n    <tr>\n      <th>9996</th>\n      <td>NASDAQ:FAZE</td>\n      <td>24.690000</td>\n      <td>0.330000</td>\n      <td>-95.98%</td>\n      <td>50.000000</td>\n      <td>35.714286</td>\n      <td>0.058350</td>\n      <td>24.274169</td>\n      <td>0.047596</td>\n      <td>-0.056791</td>\n      <td>...</td>\n      <td>-11.789998</td>\n      <td>-16.262084</td>\n      <td>-61.020000</td>\n      <td>-0.423077</td>\n      <td>0.272727</td>\n      <td>-0.075175</td>\n      <td>12.985507</td>\n      <td>-96.879103</td>\n      <td>-79.375661</td>\n      <td>-95.981443</td>\n    </tr>\n    <tr>\n      <th>9997</th>\n      <td>NASDAQ:SONM</td>\n      <td>182.575000</td>\n      <td>0.400000</td>\n      <td>-99.39%</td>\n      <td>92.857143</td>\n      <td>0.000000</td>\n      <td>0.077371</td>\n      <td>20.629117</td>\n      <td>0.080850</td>\n      <td>-0.173895</td>\n      <td>...</td>\n      <td>-39.491525</td>\n      <td>-19.775281</td>\n      <td>35.227273</td>\n      <td>-0.961538</td>\n      <td>0.090909</td>\n      <td>-0.435315</td>\n      <td>-31.993523</td>\n      <td>4.187947</td>\n      <td>62.272727</td>\n      <td>-99.340720</td>\n    </tr>\n    <tr>\n      <th>9998</th>\n      <td>OTC:FBPI</td>\n      <td>24.960000</td>\n      <td>5.150000</td>\n      <td>103.62%</td>\n      <td>28.571429</td>\n      <td>71.428571</td>\n      <td>0.019286</td>\n      <td>15.538826</td>\n      <td>0.478374</td>\n      <td>0.275456</td>\n      <td>...</td>\n      <td>0.000000</td>\n      <td>0.298507</td>\n      <td>2.439024</td>\n      <td>-0.884615</td>\n      <td>0.181818</td>\n      <td>-0.351399</td>\n      <td>-0.118906</td>\n      <td>-14.066496</td>\n      <td>2.752294</td>\n      <td>-15.365239</td>\n    </tr>\n    <tr>\n      <th>9999</th>\n      <td>OTC:BUENF</td>\n      <td>1.250000</td>\n      <td>0.013700</td>\n      <td>-98.42%</td>\n      <td>85.714286</td>\n      <td>35.714286</td>\n      <td>0.000514</td>\n      <td>13.862024</td>\n      <td>0.001673</td>\n      <td>-0.002271</td>\n      <td>...</td>\n      <td>-19.796954</td>\n      <td>-25.471698</td>\n      <td>-56.593407</td>\n      <td>-0.807692</td>\n      <td>0.000000</td>\n      <td>-0.403846</td>\n      <td>-21.000000</td>\n      <td>-73.666667</td>\n      <td>-60.500000</td>\n      <td>-98.420000</td>\n    </tr>\n  </tbody>\n</table>\n<p>10000 rows × 297 columns</p>\n</div>"
     },
     "execution_count": 5,
     "metadata": {},
     "output_type": "execute_result"
    }
   ],
   "source": [
    "ss = tvs.StockScreener()\n",
    "ss.set_range(0, 10000)\n",
    "df = ss.get()\n",
    "df"
   ],
   "metadata": {
    "collapsed": false,
    "ExecuteTime": {
     "end_time": "2023-08-04T14:12:31.637290450Z",
     "start_time": "2023-08-04T14:12:25.940374091Z"
    }
   },
   "id": "47a993423929c7bb"
  },
  {
   "cell_type": "markdown",
   "source": [
    "# Sorting"
   ],
   "metadata": {
    "collapsed": false
   },
   "id": "31911fef050e517b"
  },
  {
   "cell_type": "code",
   "execution_count": 6,
   "outputs": [
    {
     "data": {
      "text/plain": "      Symbol  All Time High  All Time Low All Time Performance  \\\n0  OTC:FNMFM       28.10001         0.010              369.23%   \n1  OTC:FNMAI       26.00000         0.250              -92.95%   \n2  OTC:FNMAK       53.00000         0.250              -93.64%   \n3  OTC:FNMAO       50.75000         0.301              -93.96%   \n4  OTC:FNMAP       51.37500         0.200              -94.01%   \n\n   Aroon Down (14)  Aroon Up (14)  Average Day Range (14)  \\\n0        35.714286      92.857143                0.063143   \n1        78.571429      35.714286                0.022157   \n2         0.000000      50.000000                0.093571   \n3        78.571429      42.857143                0.079100   \n4        42.857143      35.714286                0.084286   \n\n   Average Directional Index (14)  Average True Range (14)  \\\n0                       18.739544                 0.172963   \n1                       35.428654                 0.064896   \n2                       35.955215                 0.164651   \n3                       23.546026                 0.132995   \n4                       19.500828                 0.165615   \n\n   Awesome Oscillator  ...  Monthly Performance raw  3-Month Performance raw  \\\n0            0.266206  ...                 1.666667                21.513944   \n1            0.216059  ...                -7.772021                42.400000   \n2            0.494426  ...                -8.430233                31.250000   \n3            0.115906  ...                 3.869304                27.966102   \n4            0.149169  ...                 1.522843                29.449838   \n\n   6-Month Performance raw  Moving Averages Rating raw  \\\n0                -6.153846                    0.346154   \n1                -4.043127                   -0.192308   \n2                 5.000000                    0.192308   \n3                 4.137931                    0.961538   \n4                 3.448276                    0.961538   \n\n   Oscillators Rating raw Technical Rating raw Weekly Performance raw  \\\n0                0.090909             0.218531              -1.929260   \n1               -0.181818            -0.187063              -2.465753   \n2                0.181818             0.187063                    NaN   \n3                0.000000             0.480769               2.721088   \n4                0.000000             0.480769               1.351351   \n\n   Yearly Performance raw  YTD Performance raw  5Y Performance raw  \n0              -24.129353            -1.612903          -65.142857  \n1              -29.365079            -1.111111          -65.166341  \n2              -25.000000             7.508532          -66.346154  \n3              -16.574586            20.800000          -68.210526  \n4              -14.285714            12.359551          -68.487395  \n\n[5 rows x 297 columns]",
      "text/html": "<div>\n<style scoped>\n    .dataframe tbody tr th:only-of-type {\n        vertical-align: middle;\n    }\n\n    .dataframe tbody tr th {\n        vertical-align: top;\n    }\n\n    .dataframe thead th {\n        text-align: right;\n    }\n</style>\n<table border=\"1\" class=\"dataframe\">\n  <thead>\n    <tr style=\"text-align: right;\">\n      <th></th>\n      <th>Symbol</th>\n      <th>All Time High</th>\n      <th>All Time Low</th>\n      <th>All Time Performance</th>\n      <th>Aroon Down (14)</th>\n      <th>Aroon Up (14)</th>\n      <th>Average Day Range (14)</th>\n      <th>Average Directional Index (14)</th>\n      <th>Average True Range (14)</th>\n      <th>Awesome Oscillator</th>\n      <th>...</th>\n      <th>Monthly Performance raw</th>\n      <th>3-Month Performance raw</th>\n      <th>6-Month Performance raw</th>\n      <th>Moving Averages Rating raw</th>\n      <th>Oscillators Rating raw</th>\n      <th>Technical Rating raw</th>\n      <th>Weekly Performance raw</th>\n      <th>Yearly Performance raw</th>\n      <th>YTD Performance raw</th>\n      <th>5Y Performance raw</th>\n    </tr>\n  </thead>\n  <tbody>\n    <tr>\n      <th>0</th>\n      <td>OTC:FNMFM</td>\n      <td>28.10001</td>\n      <td>0.010</td>\n      <td>369.23%</td>\n      <td>35.714286</td>\n      <td>92.857143</td>\n      <td>0.063143</td>\n      <td>18.739544</td>\n      <td>0.172963</td>\n      <td>0.266206</td>\n      <td>...</td>\n      <td>1.666667</td>\n      <td>21.513944</td>\n      <td>-6.153846</td>\n      <td>0.346154</td>\n      <td>0.090909</td>\n      <td>0.218531</td>\n      <td>-1.929260</td>\n      <td>-24.129353</td>\n      <td>-1.612903</td>\n      <td>-65.142857</td>\n    </tr>\n    <tr>\n      <th>1</th>\n      <td>OTC:FNMAI</td>\n      <td>26.00000</td>\n      <td>0.250</td>\n      <td>-92.95%</td>\n      <td>78.571429</td>\n      <td>35.714286</td>\n      <td>0.022157</td>\n      <td>35.428654</td>\n      <td>0.064896</td>\n      <td>0.216059</td>\n      <td>...</td>\n      <td>-7.772021</td>\n      <td>42.400000</td>\n      <td>-4.043127</td>\n      <td>-0.192308</td>\n      <td>-0.181818</td>\n      <td>-0.187063</td>\n      <td>-2.465753</td>\n      <td>-29.365079</td>\n      <td>-1.111111</td>\n      <td>-65.166341</td>\n    </tr>\n    <tr>\n      <th>2</th>\n      <td>OTC:FNMAK</td>\n      <td>53.00000</td>\n      <td>0.250</td>\n      <td>-93.64%</td>\n      <td>0.000000</td>\n      <td>50.000000</td>\n      <td>0.093571</td>\n      <td>35.955215</td>\n      <td>0.164651</td>\n      <td>0.494426</td>\n      <td>...</td>\n      <td>-8.430233</td>\n      <td>31.250000</td>\n      <td>5.000000</td>\n      <td>0.192308</td>\n      <td>0.181818</td>\n      <td>0.187063</td>\n      <td>NaN</td>\n      <td>-25.000000</td>\n      <td>7.508532</td>\n      <td>-66.346154</td>\n    </tr>\n    <tr>\n      <th>3</th>\n      <td>OTC:FNMAO</td>\n      <td>50.75000</td>\n      <td>0.301</td>\n      <td>-93.96%</td>\n      <td>78.571429</td>\n      <td>42.857143</td>\n      <td>0.079100</td>\n      <td>23.546026</td>\n      <td>0.132995</td>\n      <td>0.115906</td>\n      <td>...</td>\n      <td>3.869304</td>\n      <td>27.966102</td>\n      <td>4.137931</td>\n      <td>0.961538</td>\n      <td>0.000000</td>\n      <td>0.480769</td>\n      <td>2.721088</td>\n      <td>-16.574586</td>\n      <td>20.800000</td>\n      <td>-68.210526</td>\n    </tr>\n    <tr>\n      <th>4</th>\n      <td>OTC:FNMAP</td>\n      <td>51.37500</td>\n      <td>0.200</td>\n      <td>-94.01%</td>\n      <td>42.857143</td>\n      <td>35.714286</td>\n      <td>0.084286</td>\n      <td>19.500828</td>\n      <td>0.165615</td>\n      <td>0.149169</td>\n      <td>...</td>\n      <td>1.522843</td>\n      <td>29.449838</td>\n      <td>3.448276</td>\n      <td>0.961538</td>\n      <td>0.000000</td>\n      <td>0.480769</td>\n      <td>1.351351</td>\n      <td>-14.285714</td>\n      <td>12.359551</td>\n      <td>-68.487395</td>\n    </tr>\n  </tbody>\n</table>\n<p>5 rows × 297 columns</p>\n</div>"
     },
     "execution_count": 6,
     "metadata": {},
     "output_type": "execute_result"
    }
   ],
   "source": [
    "ss = tvs.StockScreener()\n",
    "ss.sort_by('ebitda', 'desc')\n",
    "df = ss.get()\n",
    "df.head()"
   ],
   "metadata": {
    "collapsed": false,
    "ExecuteTime": {
     "end_time": "2023-08-04T14:12:33.432538060Z",
     "start_time": "2023-08-04T14:12:31.637800894Z"
    }
   },
   "id": "293d3c14f5cf6b4f"
  },
  {
   "cell_type": "markdown",
   "source": [
    "# Filters"
   ],
   "metadata": {
    "collapsed": false
   },
   "id": "247e54be1899a203"
  },
  {
   "cell_type": "markdown",
   "source": [
    "## Markets"
   ],
   "metadata": {
    "collapsed": false
   },
   "id": "4592f2c3da23c6f1"
  },
  {
   "cell_type": "code",
   "execution_count": 7,
   "outputs": [
    {
     "data": {
      "text/plain": "       Symbol  All Time High  All Time Low All Time Performance  \\\n0  KRX:005935      86800.000     4200.0000             1236.49%   \n1  KRX:005930      96800.000      261.7141            21478.20%   \n2  KRX:373220     629000.000   352000.0000               -9.55%   \n3  KRX:000660     150500.000     5030.0000             1663.58%   \n4  KRX:207940    1036002.312   124181.7480              495.89%   \n\n   Aroon Down (14)  Aroon Up (14)  Average Day Range (14)  \\\n0             50.0       7.142857              985.714286   \n1             50.0       0.000000             1414.285714   \n2              0.0      50.000000            23142.857143   \n3             50.0      64.285714             4235.714286   \n4             50.0     100.000000            21714.285714   \n\n   Average Directional Index (14)  Average True Range (14)  \\\n0                       20.376097               987.416005   \n1                       18.281098              1357.783659   \n2                       12.505573             19016.624646   \n3                       23.718364              4187.168870   \n4                       19.871561             20869.999353   \n\n   Awesome Oscillator  ...  Monthly Performance raw  3-Month Performance raw  \\\n0        -1467.058824  ...                -5.843072                 2.732240   \n1        -1437.647059  ...                -6.438356                 4.115854   \n2        -7617.647059  ...                -5.096661                -4.085258   \n3         5530.588235  ...                 1.693480                35.095613   \n4        39317.647059  ...                 5.430464                 3.242542   \n\n   6-Month Performance raw  Moving Averages Rating raw  \\\n0                -1.225919                   -0.807692   \n1                 6.885759                   -0.500000   \n2                 1.313321                   -0.884615   \n3                29.978355                    0.500000   \n4                -1.363073                    0.730769   \n\n   Oscillators Rating raw Technical Rating raw Weekly Performance raw  \\\n0               -0.090909            -0.449301              -3.754266   \n1                0.000000            -0.250000              -4.874652   \n2               -0.181818            -0.533217               0.000000   \n3                0.272727             0.386364              -4.833597   \n4               -0.272727             0.229021               0.632111   \n\n   Yearly Performance raw  YTD Performance raw  5Y Performance raw  \n0               -0.353357            11.242604           47.837484  \n1               10.696921            23.063063           48.964013  \n2               21.484814            22.171946           -9.547739  \n3               22.551020            59.920107           42.976190  \n4               -8.820160            -4.211793          109.492172  \n\n[5 rows x 297 columns]",
      "text/html": "<div>\n<style scoped>\n    .dataframe tbody tr th:only-of-type {\n        vertical-align: middle;\n    }\n\n    .dataframe tbody tr th {\n        vertical-align: top;\n    }\n\n    .dataframe thead th {\n        text-align: right;\n    }\n</style>\n<table border=\"1\" class=\"dataframe\">\n  <thead>\n    <tr style=\"text-align: right;\">\n      <th></th>\n      <th>Symbol</th>\n      <th>All Time High</th>\n      <th>All Time Low</th>\n      <th>All Time Performance</th>\n      <th>Aroon Down (14)</th>\n      <th>Aroon Up (14)</th>\n      <th>Average Day Range (14)</th>\n      <th>Average Directional Index (14)</th>\n      <th>Average True Range (14)</th>\n      <th>Awesome Oscillator</th>\n      <th>...</th>\n      <th>Monthly Performance raw</th>\n      <th>3-Month Performance raw</th>\n      <th>6-Month Performance raw</th>\n      <th>Moving Averages Rating raw</th>\n      <th>Oscillators Rating raw</th>\n      <th>Technical Rating raw</th>\n      <th>Weekly Performance raw</th>\n      <th>Yearly Performance raw</th>\n      <th>YTD Performance raw</th>\n      <th>5Y Performance raw</th>\n    </tr>\n  </thead>\n  <tbody>\n    <tr>\n      <th>0</th>\n      <td>KRX:005935</td>\n      <td>86800.000</td>\n      <td>4200.0000</td>\n      <td>1236.49%</td>\n      <td>50.0</td>\n      <td>7.142857</td>\n      <td>985.714286</td>\n      <td>20.376097</td>\n      <td>987.416005</td>\n      <td>-1467.058824</td>\n      <td>...</td>\n      <td>-5.843072</td>\n      <td>2.732240</td>\n      <td>-1.225919</td>\n      <td>-0.807692</td>\n      <td>-0.090909</td>\n      <td>-0.449301</td>\n      <td>-3.754266</td>\n      <td>-0.353357</td>\n      <td>11.242604</td>\n      <td>47.837484</td>\n    </tr>\n    <tr>\n      <th>1</th>\n      <td>KRX:005930</td>\n      <td>96800.000</td>\n      <td>261.7141</td>\n      <td>21478.20%</td>\n      <td>50.0</td>\n      <td>0.000000</td>\n      <td>1414.285714</td>\n      <td>18.281098</td>\n      <td>1357.783659</td>\n      <td>-1437.647059</td>\n      <td>...</td>\n      <td>-6.438356</td>\n      <td>4.115854</td>\n      <td>6.885759</td>\n      <td>-0.500000</td>\n      <td>0.000000</td>\n      <td>-0.250000</td>\n      <td>-4.874652</td>\n      <td>10.696921</td>\n      <td>23.063063</td>\n      <td>48.964013</td>\n    </tr>\n    <tr>\n      <th>2</th>\n      <td>KRX:373220</td>\n      <td>629000.000</td>\n      <td>352000.0000</td>\n      <td>-9.55%</td>\n      <td>0.0</td>\n      <td>50.000000</td>\n      <td>23142.857143</td>\n      <td>12.505573</td>\n      <td>19016.624646</td>\n      <td>-7617.647059</td>\n      <td>...</td>\n      <td>-5.096661</td>\n      <td>-4.085258</td>\n      <td>1.313321</td>\n      <td>-0.884615</td>\n      <td>-0.181818</td>\n      <td>-0.533217</td>\n      <td>0.000000</td>\n      <td>21.484814</td>\n      <td>22.171946</td>\n      <td>-9.547739</td>\n    </tr>\n    <tr>\n      <th>3</th>\n      <td>KRX:000660</td>\n      <td>150500.000</td>\n      <td>5030.0000</td>\n      <td>1663.58%</td>\n      <td>50.0</td>\n      <td>64.285714</td>\n      <td>4235.714286</td>\n      <td>23.718364</td>\n      <td>4187.168870</td>\n      <td>5530.588235</td>\n      <td>...</td>\n      <td>1.693480</td>\n      <td>35.095613</td>\n      <td>29.978355</td>\n      <td>0.500000</td>\n      <td>0.272727</td>\n      <td>0.386364</td>\n      <td>-4.833597</td>\n      <td>22.551020</td>\n      <td>59.920107</td>\n      <td>42.976190</td>\n    </tr>\n    <tr>\n      <th>4</th>\n      <td>KRX:207940</td>\n      <td>1036002.312</td>\n      <td>124181.7480</td>\n      <td>495.89%</td>\n      <td>50.0</td>\n      <td>100.000000</td>\n      <td>21714.285714</td>\n      <td>19.871561</td>\n      <td>20869.999353</td>\n      <td>39317.647059</td>\n      <td>...</td>\n      <td>5.430464</td>\n      <td>3.242542</td>\n      <td>-1.363073</td>\n      <td>0.730769</td>\n      <td>-0.272727</td>\n      <td>0.229021</td>\n      <td>0.632111</td>\n      <td>-8.820160</td>\n      <td>-4.211793</td>\n      <td>109.492172</td>\n    </tr>\n  </tbody>\n</table>\n<p>5 rows × 297 columns</p>\n</div>"
     },
     "execution_count": 7,
     "metadata": {},
     "output_type": "execute_result"
    }
   ],
   "source": [
    "ss = tvs.StockScreener()\n",
    "ss.set_markets('korea')\n",
    "df = ss.get()\n",
    "df.head()"
   ],
   "metadata": {
    "collapsed": false,
    "ExecuteTime": {
     "end_time": "2023-08-04T14:12:34.272233452Z",
     "start_time": "2023-08-04T14:12:33.431046009Z"
    }
   },
   "id": "7f6b8ff3f9bf5cf5"
  },
  {
   "cell_type": "code",
   "execution_count": 14,
   "outputs": [
    {
     "name": "stdout",
     "output_type": "stream",
     "text": [
      "['america', 'uk', 'india', 'spain', 'russia', 'australia', 'brazil', 'japan', 'newzealand', 'turkey', 'switzerland', 'hongkong', 'taiwan', 'netherlands', 'belgium', 'portugal', 'france', 'mexico', 'canada', 'colombia', 'uae', 'nigeria', 'singapore', 'germany', 'pakistan', 'peru', 'poland', 'italy', 'argentina', 'israel', 'egypt', 'srilanka', 'serbia', 'chile', 'china', 'malaysia', 'morocco', 'ksa', 'bahrain', 'qatar', 'indonesia', 'finland', 'iceland', 'denmark', 'romania', 'hungary', 'sweden', 'slovakia', 'lithuania', 'luxembourg', 'estonia', 'latvia', 'vietnam', 'rsa', 'thailand', 'tunisia', 'korea', 'kenya', 'kuwait', 'norway', 'philippines', 'greece', 'venezuela', 'cyprus', 'bangladesh']\n"
     ]
    }
   ],
   "source": [
    "# List the available stock markets\n",
    "from tvscreener import StocksMarket\n",
    "\n",
    "print(StocksMarket.values())"
   ],
   "metadata": {
    "collapsed": false,
    "ExecuteTime": {
     "end_time": "2023-08-04T14:19:54.925204191Z",
     "start_time": "2023-08-04T14:19:54.881726982Z"
    }
   },
   "id": "3ed464ea6f5604b1"
  },
  {
   "cell_type": "markdown",
   "source": [
    "### Prebuilt filter by field"
   ],
   "metadata": {
    "collapsed": false
   },
   "id": "b26cbeac916a18fb"
  },
  {
   "cell_type": "code",
   "execution_count": null,
   "outputs": [],
   "source": [
    "from tvscreener.filter import RatingFilter, Rating\n",
    "\n",
    "ss = tvs.StockScreener()\n",
    "\n",
    "# `Recommend.All` is the field name for the overall rating\n",
    "filter_rating = RatingFilter('Recommend.All', Rating.STRONG_BUY)\n",
    "\n",
    "ss.add_prebuilt_filter(filter_rating)\n",
    "df = ss.get()\n",
    "df.head()"
   ],
   "metadata": {
    "collapsed": false,
    "ExecuteTime": {
     "start_time": "2023-08-04T14:12:34.318354541Z"
    }
   },
   "id": "1efed19065f4c7ad"
  },
  {
   "cell_type": "markdown",
   "source": [
    "### Low level filter"
   ],
   "metadata": {
    "collapsed": false
   },
   "id": "9445a44e175d0a84"
  },
  {
   "cell_type": "code",
   "execution_count": null,
   "outputs": [],
   "source": [
    "from tvscreener.filter import FilterOperator\n",
    "\n",
    "ss = tvs.StockScreener()\n",
    "ss.add_filter('RSI', FilterOperator.NOT_IN_RANGE, [30, 70])\n",
    "df = ss.get()\n",
    "df.head()"
   ],
   "metadata": {
    "collapsed": false,
    "ExecuteTime": {
     "start_time": "2023-08-04T14:12:34.318400810Z"
    }
   },
   "id": "e6fb33b84475de00"
  },
  {
   "cell_type": "markdown",
   "source": [
    "## Time intervals"
   ],
   "metadata": {
    "collapsed": false
   },
   "id": "aa9b0e3605524ae9"
  },
  {
   "cell_type": "code",
   "execution_count": null,
   "outputs": [],
   "source": [
    "ss = tvs.StockScreener()\n",
    "df = ss.get(tvs.TimeInterval.THIRTY_MINUTES)\n",
    "df.head()"
   ],
   "metadata": {
    "collapsed": false,
    "ExecuteTime": {
     "start_time": "2023-08-04T14:12:34.318415526Z"
    }
   },
   "id": "8864827cc8cc60d8"
  },
  {
   "cell_type": "markdown",
   "source": [
    "## Debugging"
   ],
   "metadata": {
    "collapsed": false
   },
   "id": "4afe73932d662204"
  },
  {
   "cell_type": "code",
   "execution_count": null,
   "outputs": [],
   "source": [
    "ss = tvs.StockScreener()\n",
    "df = ss.get(print_request=True)"
   ],
   "metadata": {
    "collapsed": false,
    "ExecuteTime": {
     "start_time": "2023-08-04T14:12:34.318432748Z"
    }
   },
   "id": "dd428873c1d8f9e9"
  },
  {
   "cell_type": "code",
   "execution_count": null,
   "outputs": [],
   "source": [],
   "metadata": {
    "collapsed": false,
    "ExecuteTime": {
     "start_time": "2023-08-04T14:12:34.318442028Z"
    }
   },
   "id": "59cc4e8fe363fa10"
  }
 ],
 "metadata": {
  "kernelspec": {
   "display_name": "Python 3",
   "language": "python",
   "name": "python3"
  },
  "language_info": {
   "codemirror_mode": {
    "name": "ipython",
    "version": 2
   },
   "file_extension": ".py",
   "mimetype": "text/x-python",
   "name": "python",
   "nbconvert_exporter": "python",
   "pygments_lexer": "ipython2",
   "version": "2.7.6"
  }
 },
 "nbformat": 4,
 "nbformat_minor": 5
}
