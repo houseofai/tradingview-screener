{
 "cells": [
  {
   "cell_type": "code",
   "execution_count": 16,
   "id": "initial_id",
   "metadata": {
    "collapsed": true,
    "ExecuteTime": {
     "end_time": "2023-08-06T16:36:21.758899371Z",
     "start_time": "2023-08-06T16:36:21.717550132Z"
    }
   },
   "outputs": [
    {
     "name": "stdout",
     "output_type": "stream",
     "text": [
      "The autoreload extension is already loaded. To reload it, use:\n",
      "  %reload_ext autoreload\n"
     ]
    }
   ],
   "source": [
    "import tvscreener as tvs\n",
    "\n",
    "%load_ext autoreload\n",
    "%autoreload 2"
   ]
  },
  {
   "cell_type": "markdown",
   "source": [
    "# Stock"
   ],
   "metadata": {
    "collapsed": false
   },
   "id": "d8b81da10afe1e9c"
  },
  {
   "cell_type": "code",
   "execution_count": 7,
   "outputs": [
    {
     "data": {
      "text/plain": "         Symbol  All Time High  All Time Low  All Time Performance  \\\n0   NASDAQ:AAPL     198.230000      0.049107         141694.184561   \n1   NASDAQ:MSFT     366.780000      0.088543         337042.445718   \n2  NASDAQ:GOOGL     151.546575      2.401327           5018.922753   \n3   NASDAQ:GOOG     152.100000     24.312350            353.827789   \n4   NASDAQ:AMZN     188.653910      0.065624         114419.914010   \n5   NASDAQ:NVDA     480.880000      0.333335         102025.247427   \n6   NASDAQ:TSLA     414.496252      0.998666          19941.605318   \n7   NASDAQ:META     384.330000     17.550000            638.953627   \n8    NYSE:BRK.A  544389.260000    235.000000         217695.918367   \n9    NYSE:BRK.B     362.100000     19.800000           1408.577586   \n\n   Aroon Down (14)  Aroon Up (14)  Average Day Range (14)  \\\n0       100.000000      14.285714                3.000021   \n1        92.857143       7.142857                9.149636   \n2        21.428571      64.285714                2.817857   \n3        21.428571      64.285714                2.810357   \n4        50.000000     100.000000                3.210114   \n5        85.714286       7.142857               13.991771   \n6        85.714286      14.285714               10.315621   \n7        35.714286      64.285714                9.630914   \n8         0.000000     100.000000             7262.022857   \n9         0.000000     100.000000                3.555286   \n\n   Average Directional Index (14)  Average True Range (14)  \\\n0                       39.556741                 3.253088   \n1                       17.120689                 8.344818   \n2                       20.838071                 3.314208   \n3                       19.759158                 3.286248   \n4                       19.836494                 4.056433   \n5                       31.672383                15.008319   \n6                       22.882101                10.552332   \n7                       32.456292                 9.844517   \n8                       32.234978              7308.359912   \n9                       32.339151                 3.729839   \n\n   Average Volume (10 day)  ...  52 Week Low  Williams Percent Range (14)  \\\n0               52870677.8  ...      124.170                   -99.570815   \n1               30855114.6  ...      213.431                   -95.518001   \n2               34937045.8  ...       83.340                   -36.275773   \n3               26216724.9  ...       83.450                   -35.944101   \n4               61726658.8  ...       81.430                   -23.173516   \n5               35908032.7  ...      108.130                   -71.323955   \n6              102811203.9  ...      101.810                   -93.094262   \n7               29722011.3  ...       88.090                   -40.818050   \n8                   7393.2  ...   393012.250                   -34.974273   \n9                2795177.7  ...      259.850                   -39.024390   \n\n   Yearly Performance  1-Year Beta  YTD Performance  5Y Performance  \\\n0            9.629228     1.203478        39.691434      251.620538   \n1           17.420742     1.163476        34.844496      204.063080   \n2           10.221113     1.214510        43.003851      105.769447   \n3            9.929017     1.224625        43.092508      109.072722   \n4           -0.378301     1.304583        63.316171       51.892789   \n5          137.533227     1.796590       200.855161      610.305632   \n6          -16.126390     1.664330       114.282097      994.822987   \n7           86.077011     1.600226       152.996255       74.871968   \n8           20.100584     0.757359        12.823766       76.513397   \n9           18.749364     0.783614        12.874512       76.317380   \n\n   Reco. Bull Bear Power  Reco. Hull Moving Average (9)  \\\n0                      0                             -1   \n1                      0                              1   \n2                      0                             -1   \n3                      0                             -1   \n4                      0                              1   \n5                      1                              1   \n6                      1                             -1   \n7                      0                             -1   \n8                      0                             -1   \n9                      0                             -1   \n\n   Reco. Ultimate Oscillator (7, 14, 28)  \\\n0                                     -1   \n1                                      0   \n2                                      0   \n3                                      0   \n4                                      0   \n5                                      0   \n6                                      0   \n7                                      0   \n8                                      0   \n9                                      0   \n\n   Reco. Volume Weighted Moving Average (20)  \n0                                         -1  \n1                                         -1  \n2                                          1  \n3                                          1  \n4                                          1  \n5                                         -1  \n6                                         -1  \n7                                          1  \n8                                          1  \n9                                          1  \n\n[10 rows x 260 columns]",
      "text/html": "<div>\n<style scoped>\n    .dataframe tbody tr th:only-of-type {\n        vertical-align: middle;\n    }\n\n    .dataframe tbody tr th {\n        vertical-align: top;\n    }\n\n    .dataframe thead th {\n        text-align: right;\n    }\n</style>\n<table border=\"1\" class=\"dataframe\">\n  <thead>\n    <tr style=\"text-align: right;\">\n      <th></th>\n      <th>Symbol</th>\n      <th>All Time High</th>\n      <th>All Time Low</th>\n      <th>All Time Performance</th>\n      <th>Aroon Down (14)</th>\n      <th>Aroon Up (14)</th>\n      <th>Average Day Range (14)</th>\n      <th>Average Directional Index (14)</th>\n      <th>Average True Range (14)</th>\n      <th>Average Volume (10 day)</th>\n      <th>...</th>\n      <th>52 Week Low</th>\n      <th>Williams Percent Range (14)</th>\n      <th>Yearly Performance</th>\n      <th>1-Year Beta</th>\n      <th>YTD Performance</th>\n      <th>5Y Performance</th>\n      <th>Reco. Bull Bear Power</th>\n      <th>Reco. Hull Moving Average (9)</th>\n      <th>Reco. Ultimate Oscillator (7, 14, 28)</th>\n      <th>Reco. Volume Weighted Moving Average (20)</th>\n    </tr>\n  </thead>\n  <tbody>\n    <tr>\n      <th>0</th>\n      <td>NASDAQ:AAPL</td>\n      <td>198.230000</td>\n      <td>0.049107</td>\n      <td>141694.184561</td>\n      <td>100.000000</td>\n      <td>14.285714</td>\n      <td>3.000021</td>\n      <td>39.556741</td>\n      <td>3.253088</td>\n      <td>52870677.8</td>\n      <td>...</td>\n      <td>124.170</td>\n      <td>-99.570815</td>\n      <td>9.629228</td>\n      <td>1.203478</td>\n      <td>39.691434</td>\n      <td>251.620538</td>\n      <td>0</td>\n      <td>-1</td>\n      <td>-1</td>\n      <td>-1</td>\n    </tr>\n    <tr>\n      <th>1</th>\n      <td>NASDAQ:MSFT</td>\n      <td>366.780000</td>\n      <td>0.088543</td>\n      <td>337042.445718</td>\n      <td>92.857143</td>\n      <td>7.142857</td>\n      <td>9.149636</td>\n      <td>17.120689</td>\n      <td>8.344818</td>\n      <td>30855114.6</td>\n      <td>...</td>\n      <td>213.431</td>\n      <td>-95.518001</td>\n      <td>17.420742</td>\n      <td>1.163476</td>\n      <td>34.844496</td>\n      <td>204.063080</td>\n      <td>0</td>\n      <td>1</td>\n      <td>0</td>\n      <td>-1</td>\n    </tr>\n    <tr>\n      <th>2</th>\n      <td>NASDAQ:GOOGL</td>\n      <td>151.546575</td>\n      <td>2.401327</td>\n      <td>5018.922753</td>\n      <td>21.428571</td>\n      <td>64.285714</td>\n      <td>2.817857</td>\n      <td>20.838071</td>\n      <td>3.314208</td>\n      <td>34937045.8</td>\n      <td>...</td>\n      <td>83.340</td>\n      <td>-36.275773</td>\n      <td>10.221113</td>\n      <td>1.214510</td>\n      <td>43.003851</td>\n      <td>105.769447</td>\n      <td>0</td>\n      <td>-1</td>\n      <td>0</td>\n      <td>1</td>\n    </tr>\n    <tr>\n      <th>3</th>\n      <td>NASDAQ:GOOG</td>\n      <td>152.100000</td>\n      <td>24.312350</td>\n      <td>353.827789</td>\n      <td>21.428571</td>\n      <td>64.285714</td>\n      <td>2.810357</td>\n      <td>19.759158</td>\n      <td>3.286248</td>\n      <td>26216724.9</td>\n      <td>...</td>\n      <td>83.450</td>\n      <td>-35.944101</td>\n      <td>9.929017</td>\n      <td>1.224625</td>\n      <td>43.092508</td>\n      <td>109.072722</td>\n      <td>0</td>\n      <td>-1</td>\n      <td>0</td>\n      <td>1</td>\n    </tr>\n    <tr>\n      <th>4</th>\n      <td>NASDAQ:AMZN</td>\n      <td>188.653910</td>\n      <td>0.065624</td>\n      <td>114419.914010</td>\n      <td>50.000000</td>\n      <td>100.000000</td>\n      <td>3.210114</td>\n      <td>19.836494</td>\n      <td>4.056433</td>\n      <td>61726658.8</td>\n      <td>...</td>\n      <td>81.430</td>\n      <td>-23.173516</td>\n      <td>-0.378301</td>\n      <td>1.304583</td>\n      <td>63.316171</td>\n      <td>51.892789</td>\n      <td>0</td>\n      <td>1</td>\n      <td>0</td>\n      <td>1</td>\n    </tr>\n    <tr>\n      <th>5</th>\n      <td>NASDAQ:NVDA</td>\n      <td>480.880000</td>\n      <td>0.333335</td>\n      <td>102025.247427</td>\n      <td>85.714286</td>\n      <td>7.142857</td>\n      <td>13.991771</td>\n      <td>31.672383</td>\n      <td>15.008319</td>\n      <td>35908032.7</td>\n      <td>...</td>\n      <td>108.130</td>\n      <td>-71.323955</td>\n      <td>137.533227</td>\n      <td>1.796590</td>\n      <td>200.855161</td>\n      <td>610.305632</td>\n      <td>1</td>\n      <td>1</td>\n      <td>0</td>\n      <td>-1</td>\n    </tr>\n    <tr>\n      <th>6</th>\n      <td>NASDAQ:TSLA</td>\n      <td>414.496252</td>\n      <td>0.998666</td>\n      <td>19941.605318</td>\n      <td>85.714286</td>\n      <td>14.285714</td>\n      <td>10.315621</td>\n      <td>22.882101</td>\n      <td>10.552332</td>\n      <td>102811203.9</td>\n      <td>...</td>\n      <td>101.810</td>\n      <td>-93.094262</td>\n      <td>-16.126390</td>\n      <td>1.664330</td>\n      <td>114.282097</td>\n      <td>994.822987</td>\n      <td>1</td>\n      <td>-1</td>\n      <td>0</td>\n      <td>-1</td>\n    </tr>\n    <tr>\n      <th>7</th>\n      <td>NASDAQ:META</td>\n      <td>384.330000</td>\n      <td>17.550000</td>\n      <td>638.953627</td>\n      <td>35.714286</td>\n      <td>64.285714</td>\n      <td>9.630914</td>\n      <td>32.456292</td>\n      <td>9.844517</td>\n      <td>29722011.3</td>\n      <td>...</td>\n      <td>88.090</td>\n      <td>-40.818050</td>\n      <td>86.077011</td>\n      <td>1.600226</td>\n      <td>152.996255</td>\n      <td>74.871968</td>\n      <td>0</td>\n      <td>-1</td>\n      <td>0</td>\n      <td>1</td>\n    </tr>\n    <tr>\n      <th>8</th>\n      <td>NYSE:BRK.A</td>\n      <td>544389.260000</td>\n      <td>235.000000</td>\n      <td>217695.918367</td>\n      <td>0.000000</td>\n      <td>100.000000</td>\n      <td>7262.022857</td>\n      <td>32.234978</td>\n      <td>7308.359912</td>\n      <td>7393.2</td>\n      <td>...</td>\n      <td>393012.250</td>\n      <td>-34.974273</td>\n      <td>20.100584</td>\n      <td>0.757359</td>\n      <td>12.823766</td>\n      <td>76.513397</td>\n      <td>0</td>\n      <td>-1</td>\n      <td>0</td>\n      <td>1</td>\n    </tr>\n    <tr>\n      <th>9</th>\n      <td>NYSE:BRK.B</td>\n      <td>362.100000</td>\n      <td>19.800000</td>\n      <td>1408.577586</td>\n      <td>0.000000</td>\n      <td>100.000000</td>\n      <td>3.555286</td>\n      <td>32.339151</td>\n      <td>3.729839</td>\n      <td>2795177.7</td>\n      <td>...</td>\n      <td>259.850</td>\n      <td>-39.024390</td>\n      <td>18.749364</td>\n      <td>0.783614</td>\n      <td>12.874512</td>\n      <td>76.317380</td>\n      <td>0</td>\n      <td>-1</td>\n      <td>0</td>\n      <td>1</td>\n    </tr>\n  </tbody>\n</table>\n<p>10 rows × 260 columns</p>\n</div>"
     },
     "execution_count": 7,
     "metadata": {},
     "output_type": "execute_result"
    }
   ],
   "source": [
    "ss = tvs.StockScreener()\n",
    "df = ss.get()\n",
    "df.head(10)"
   ],
   "metadata": {
    "collapsed": false,
    "ExecuteTime": {
     "end_time": "2023-08-06T16:19:36.633614352Z",
     "start_time": "2023-08-06T16:19:36.025027580Z"
    }
   },
   "id": "180f141359f1e171"
  },
  {
   "cell_type": "markdown",
   "source": [
    "## Forex"
   ],
   "metadata": {
    "collapsed": false
   },
   "id": "a0e28abc4e3c832d"
  },
  {
   "cell_type": "code",
   "execution_count": null,
   "outputs": [],
   "source": [
    "fs = tvs.ForexScreener()\n",
    "df = fs.get()\n",
    "df.head()"
   ],
   "metadata": {
    "collapsed": false
   },
   "id": "5a3140ab1afc7830"
  },
  {
   "cell_type": "markdown",
   "source": [
    "## Crypto"
   ],
   "metadata": {
    "collapsed": false
   },
   "id": "a2d8c8054bc7a281"
  },
  {
   "cell_type": "code",
   "execution_count": null,
   "outputs": [],
   "source": [
    "cs = tvs.CryptoScreener()\n",
    "df = cs.get()\n",
    "df.head()"
   ],
   "metadata": {
    "collapsed": false
   },
   "id": "bbede913c3cf6067"
  },
  {
   "cell_type": "markdown",
   "source": [
    "## Options"
   ],
   "metadata": {
    "collapsed": false
   },
   "id": "e6b09b518bdabd39"
  },
  {
   "cell_type": "markdown",
   "source": [
    "## Range"
   ],
   "metadata": {
    "collapsed": false
   },
   "id": "8c329b0e0edac821"
  },
  {
   "cell_type": "code",
   "execution_count": null,
   "outputs": [],
   "source": [
    "ss = tvs.StockScreener()\n",
    "ss.set_range(0, 10000)\n",
    "df = ss.get()\n",
    "df"
   ],
   "metadata": {
    "collapsed": false
   },
   "id": "47a993423929c7bb"
  },
  {
   "cell_type": "markdown",
   "source": [
    "# Sorting"
   ],
   "metadata": {
    "collapsed": false
   },
   "id": "31911fef050e517b"
  },
  {
   "cell_type": "code",
   "execution_count": null,
   "outputs": [],
   "source": [
    "ss = tvs.StockScreener()\n",
    "ss.sort_by('ebitda', 'desc')\n",
    "df = ss.get()\n",
    "df.head()"
   ],
   "metadata": {
    "collapsed": false
   },
   "id": "293d3c14f5cf6b4f"
  },
  {
   "cell_type": "markdown",
   "source": [
    "# Filters"
   ],
   "metadata": {
    "collapsed": false
   },
   "id": "247e54be1899a203"
  },
  {
   "cell_type": "markdown",
   "source": [
    "## Markets"
   ],
   "metadata": {
    "collapsed": false
   },
   "id": "4592f2c3da23c6f1"
  },
  {
   "cell_type": "code",
   "execution_count": null,
   "outputs": [],
   "source": [
    "ss = tvs.StockScreener()\n",
    "ss.set_markets('korea')\n",
    "df = ss.get()\n",
    "df.head()"
   ],
   "metadata": {
    "collapsed": false
   },
   "id": "7f6b8ff3f9bf5cf5"
  },
  {
   "cell_type": "code",
   "execution_count": null,
   "outputs": [],
   "source": [
    "# List the available stock markets\n",
    "from tvscreener import StocksMarket\n",
    "\n",
    "print(StocksMarket.values())"
   ],
   "metadata": {
    "collapsed": false
   },
   "id": "3ed464ea6f5604b1"
  },
  {
   "cell_type": "markdown",
   "source": [
    "### Prebuilt filter by field"
   ],
   "metadata": {
    "collapsed": false
   },
   "id": "b26cbeac916a18fb"
  },
  {
   "cell_type": "code",
   "execution_count": null,
   "outputs": [],
   "source": [
    "from tvscreener.filter import RatingFilter, Rating\n",
    "\n",
    "ss = tvs.StockScreener()\n",
    "\n",
    "# `Recommend.All` is the field name for the overall rating\n",
    "filter_rating = RatingFilter('Recommend.All', Rating.STRONG_BUY)\n",
    "\n",
    "ss.add_prebuilt_filter(filter_rating)\n",
    "df = ss.get()\n",
    "df.head()"
   ],
   "metadata": {
    "collapsed": false
   },
   "id": "1efed19065f4c7ad"
  },
  {
   "cell_type": "markdown",
   "source": [
    "### Low level filter"
   ],
   "metadata": {
    "collapsed": false
   },
   "id": "9445a44e175d0a84"
  },
  {
   "cell_type": "code",
   "execution_count": null,
   "outputs": [],
   "source": [
    "from tvscreener.filter import FilterOperator\n",
    "\n",
    "ss = tvs.StockScreener()\n",
    "ss.add_filter('RSI', FilterOperator.NOT_IN_RANGE, [30, 70])\n",
    "df = ss.get()\n",
    "df.head()"
   ],
   "metadata": {
    "collapsed": false
   },
   "id": "e6fb33b84475de00"
  },
  {
   "cell_type": "markdown",
   "source": [
    "## Time intervals"
   ],
   "metadata": {
    "collapsed": false
   },
   "id": "aa9b0e3605524ae9"
  },
  {
   "cell_type": "code",
   "execution_count": null,
   "outputs": [],
   "source": [
    "ss = tvs.StockScreener()\n",
    "df = ss.get(tvs.TimeInterval.THIRTY_MINUTES)\n",
    "df.head()"
   ],
   "metadata": {
    "collapsed": false
   },
   "id": "8864827cc8cc60d8"
  },
  {
   "cell_type": "markdown",
   "source": [
    "## Debugging"
   ],
   "metadata": {
    "collapsed": false
   },
   "id": "4afe73932d662204"
  },
  {
   "cell_type": "code",
   "execution_count": 11,
   "outputs": [
    {
     "name": "stdout",
     "output_type": "stream",
     "text": [
      "Request: https://scanner.tradingview.com/global/scan\n",
      "Payload:\n",
      "{\n",
      "    \"filter\": [],\n",
      "    \"options\": {\n",
      "        \"lang\": \"en\"\n",
      "    },\n",
      "    \"symbols\": {\n",
      "        \"query\": {\n",
      "            \"types\": []\n",
      "        },\n",
      "        \"tickers\": []\n",
      "    },\n",
      "    \"sort\": {\n",
      "        \"sortBy\": \"market_cap_basic\",\n",
      "        \"sortOrder\": \"desc\"\n",
      "    },\n",
      "    \"range\": [\n",
      "        0,\n",
      "        150\n",
      "    ],\n",
      "    \"columns\": [\n",
      "        \"High.All\",\n",
      "        \"Low.All\",\n",
      "        \"Perf.All\",\n",
      "        \"Aroon.Down\",\n",
      "        \"Aroon.Up\",\n",
      "        \"ADR\",\n",
      "        \"ADX\",\n",
      "        \"ATR\",\n",
      "        \"average_volume_10d_calc\",\n",
      "        \"average_volume_30d_calc\",\n",
      "        \"average_volume_60d_calc\",\n",
      "        \"average_volume_90d_calc\",\n",
      "        \"AO\",\n",
      "        \"basic_eps_net_income\",\n",
      "        \"earnings_per_share_basic_ttm\",\n",
      "        \"BB.lower\",\n",
      "        \"BB.upper\",\n",
      "        \"BBPower\",\n",
      "        \"cash_n_equivalents_fy\",\n",
      "        \"cash_n_equivalents_fq\",\n",
      "        \"cash_n_short_term_invest_fy\",\n",
      "        \"cash_n_short_term_invest_fq\",\n",
      "        \"ChaikinMoneyFlow\",\n",
      "        \"change_abs\",\n",
      "        \"change_abs|15\",\n",
      "        \"change|15\",\n",
      "        \"change_abs|60\",\n",
      "        \"change|60\",\n",
      "        \"change_abs|1\",\n",
      "        \"change_abs|1M\",\n",
      "        \"change|1\",\n",
      "        \"change|1M\",\n",
      "        \"change_abs|1W\",\n",
      "        \"change|1W\",\n",
      "        \"change_abs|240\",\n",
      "        \"change|240\",\n",
      "        \"change_abs|5\",\n",
      "        \"change|5\",\n",
      "        \"change_from_open_abs\",\n",
      "        \"change_from_open\",\n",
      "        \"change\",\n",
      "        \"CCI20\",\n",
      "        \"country\",\n",
      "        \"current_ratio\",\n",
      "        \"debt_to_equity\",\n",
      "        \"dividends_paid\",\n",
      "        \"dps_common_stock_prim_issue_yoy_growth_fy\",\n",
      "        \"dps_common_stock_prim_issue_fy\",\n",
      "        \"dividends_per_share_fq\",\n",
      "        \"dividend_yield_recent\",\n",
      "        \"DonchCh20.Lower\",\n",
      "        \"DonchCh20.Upper\",\n",
      "        \"ebitda_yoy_growth_fy\",\n",
      "        \"ebitda_qoq_growth_fq\",\n",
      "        \"ebitda_yoy_growth_fq\",\n",
      "        \"ebitda\",\n",
      "        \"ebitda_yoy_growth_ttm\",\n",
      "        \"enterprise_value_ebitda_ttm\",\n",
      "        \"enterprise_value_fq\",\n",
      "        \"earnings_per_share_diluted_yoy_growth_fy\",\n",
      "        \"last_annual_eps\",\n",
      "        \"earnings_per_share_fq\",\n",
      "        \"earnings_per_share_diluted_qoq_growth_fq\",\n",
      "        \"earnings_per_share_diluted_yoy_growth_fq\",\n",
      "        \"earnings_per_share_diluted_ttm\",\n",
      "        \"earnings_per_share_diluted_yoy_growth_ttm\",\n",
      "        \"earnings_per_share_forecast_next_fq\",\n",
      "        \"exchange\",\n",
      "        \"EMA10\",\n",
      "        \"EMA100\",\n",
      "        \"EMA20\",\n",
      "        \"EMA200\",\n",
      "        \"EMA30\",\n",
      "        \"EMA5\",\n",
      "        \"EMA50\",\n",
      "        \"free_cash_flow_yoy_growth_fy\",\n",
      "        \"free_cash_flow_margin_fy\",\n",
      "        \"free_cash_flow_margin_ttm\",\n",
      "        \"free_cash_flow_qoq_growth_fq\",\n",
      "        \"free_cash_flow_yoy_growth_fq\",\n",
      "        \"free_cash_flow_yoy_growth_ttm\",\n",
      "        \"gap\",\n",
      "        \"goodwill\",\n",
      "        \"gross_profit_margin_fy\",\n",
      "        \"gross_margin\",\n",
      "        \"gross_profit_yoy_growth_fy\",\n",
      "        \"gross_profit\",\n",
      "        \"gross_profit_fq\",\n",
      "        \"gross_profit_qoq_growth_fq\",\n",
      "        \"gross_profit_yoy_growth_fq\",\n",
      "        \"gross_profit_yoy_growth_ttm\",\n",
      "        \"high\",\n",
      "        \"HullMA9\",\n",
      "        \"Ichimoku.BLine\",\n",
      "        \"Ichimoku.CLine\",\n",
      "        \"Ichimoku.Lead1\",\n",
      "        \"Ichimoku.Lead2\",\n",
      "        \"industry\",\n",
      "        \"KltChnl.lower\",\n",
      "        \"KltChnl.upper\",\n",
      "        \"last_annual_revenue\",\n",
      "        \"low\",\n",
      "        \"MACD.macd\",\n",
      "        \"MACD.signal\",\n",
      "        \"market_cap_basic\",\n",
      "        \"Mom\",\n",
      "        \"MoneyFlow\",\n",
      "        \"Perf|1M\",\n",
      "        \"High|1M\",\n",
      "        \"High.3M\",\n",
      "        \"High.6M\",\n",
      "        \"Low|1M\",\n",
      "        \"Low.3M\",\n",
      "        \"Low.6M\",\n",
      "        \"Perf.3M\",\n",
      "        \"Perf.6M\",\n",
      "        \"Recommend.MA\",\n",
      "        \"ADX-DI\",\n",
      "        \"net_debt\",\n",
      "        \"net_income_yoy_growth_fy\",\n",
      "        \"net_income\",\n",
      "        \"net_income_qoq_growth_fq\",\n",
      "        \"net_income_yoy_growth_fq\",\n",
      "        \"net_income_yoy_growth_ttm\",\n",
      "        \"net_income_bef_disc_oper_margin_fy\",\n",
      "        \"after_tax_margin\",\n",
      "        \"number_of_employees\",\n",
      "        \"number_of_shareholders\",\n",
      "        \"open\",\n",
      "        \"oper_income_margin_fy\",\n",
      "        \"operating_margin\",\n",
      "        \"Recommend.Other\",\n",
      "        \"P.SAR\",\n",
      "        \"candlestick\",\n",
      "        \"Pivot.M.Camarilla.Middle\",\n",
      "        \"Pivot.M.Camarilla.R1\",\n",
      "        \"Pivot.M.Camarilla.R2\",\n",
      "        \"Pivot.M.Camarilla.R3\",\n",
      "        \"Pivot.M.Camarilla.S1\",\n",
      "        \"Pivot.M.Camarilla.S2\",\n",
      "        \"Pivot.M.Camarilla.S3\",\n",
      "        \"Pivot.M.Classic.Middle\",\n",
      "        \"Pivot.M.Classic.R1\",\n",
      "        \"Pivot.M.Classic.R2\",\n",
      "        \"Pivot.M.Classic.R3\",\n",
      "        \"Pivot.M.Classic.S1\",\n",
      "        \"Pivot.M.Classic.S2\",\n",
      "        \"Pivot.M.Classic.S3\",\n",
      "        \"Pivot.M.Demark.Middle\",\n",
      "        \"Pivot.M.Demark.R1\",\n",
      "        \"Pivot.M.Demark.S1\",\n",
      "        \"Pivot.M.Fibonacci.Middle\",\n",
      "        \"Pivot.M.Fibonacci.R1\",\n",
      "        \"Pivot.M.Fibonacci.R2\",\n",
      "        \"Pivot.M.Fibonacci.R3\",\n",
      "        \"Pivot.M.Fibonacci.S1\",\n",
      "        \"Pivot.M.Fibonacci.S2\",\n",
      "        \"Pivot.M.Fibonacci.S3\",\n",
      "        \"Pivot.M.Woodie.Middle\",\n",
      "        \"Pivot.M.Woodie.R1\",\n",
      "        \"Pivot.M.Woodie.R2\",\n",
      "        \"Pivot.M.Woodie.R3\",\n",
      "        \"Pivot.M.Woodie.S1\",\n",
      "        \"Pivot.M.Woodie.S2\",\n",
      "        \"Pivot.M.Woodie.S3\",\n",
      "        \"ADX+DI\",\n",
      "        \"postmarket_change_abs\",\n",
      "        \"postmarket_change\",\n",
      "        \"postmarket_close\",\n",
      "        \"postmarket_high\",\n",
      "        \"postmarket_low\",\n",
      "        \"postmarket_open\",\n",
      "        \"postmarket_volume\",\n",
      "        \"premarket_change_abs\",\n",
      "        \"premarket_change_from_open_abs\",\n",
      "        \"premarket_change_from_open\",\n",
      "        \"premarket_change\",\n",
      "        \"premarket_close\",\n",
      "        \"premarket_gap\",\n",
      "        \"premarket_high\",\n",
      "        \"premarket_low\",\n",
      "        \"premarket_open\",\n",
      "        \"premarket_volume\",\n",
      "        \"pre_tax_margin\",\n",
      "        \"close\",\n",
      "        \"price_book_ratio\",\n",
      "        \"price_book_fq\",\n",
      "        \"price_earnings_ttm\",\n",
      "        \"price_free_cash_flow_ttm\",\n",
      "        \"price_revenue_ttm\",\n",
      "        \"price_sales_ratio\",\n",
      "        \"quick_ratio\",\n",
      "        \"ROC\",\n",
      "        \"earnings_release_date\",\n",
      "        \"RSI\",\n",
      "        \"RSI7\",\n",
      "        \"relative_volume_10d_calc\",\n",
      "        \"relative_volume_intraday|5\",\n",
      "        \"research_and_dev_ratio_fy\",\n",
      "        \"research_and_dev_ratio_ttm\",\n",
      "        \"return_on_assets\",\n",
      "        \"return_on_equity\",\n",
      "        \"return_on_invested_capital\",\n",
      "        \"total_revenue_yoy_growth_fy\",\n",
      "        \"revenue_per_employee\",\n",
      "        \"total_revenue_qoq_growth_fq\",\n",
      "        \"total_revenue_yoy_growth_fq\",\n",
      "        \"total_revenue_yoy_growth_ttm\",\n",
      "        \"sector\",\n",
      "        \"sell_gen_admin_exp_other_ratio_fy\",\n",
      "        \"sell_gen_admin_exp_other_ratio_ttm\",\n",
      "        \"float_shares_outstanding\",\n",
      "        \"SMA10\",\n",
      "        \"SMA100\",\n",
      "        \"SMA20\",\n",
      "        \"SMA200\",\n",
      "        \"SMA30\",\n",
      "        \"SMA5\",\n",
      "        \"SMA50\",\n",
      "        \"Stoch.D\",\n",
      "        \"Stoch.K\",\n",
      "        \"Stoch.RSI.K\",\n",
      "        \"Stoch.RSI.D\",\n",
      "        \"submarket\",\n",
      "        \"Recommend.All\",\n",
      "        \"total_assets_yoy_growth_fy\",\n",
      "        \"total_assets\",\n",
      "        \"total_assets_qoq_growth_fq\",\n",
      "        \"total_assets_yoy_growth_fq\",\n",
      "        \"total_current_assets\",\n",
      "        \"total_debt_yoy_growth_fy\",\n",
      "        \"total_debt\",\n",
      "        \"total_debt_qoq_growth_fq\",\n",
      "        \"total_debt_yoy_growth_fq\",\n",
      "        \"total_liabilities_fy\",\n",
      "        \"total_liabilities_fq\",\n",
      "        \"total_revenue\",\n",
      "        \"total_shares_outstanding_fundamental\",\n",
      "        \"UO\",\n",
      "        \"earnings_release_next_date\",\n",
      "        \"Volatility.D\",\n",
      "        \"Volatility.M\",\n",
      "        \"Volatility.W\",\n",
      "        \"volume\",\n",
      "        \"Value.Traded\",\n",
      "        \"VWAP\",\n",
      "        \"VWMA\",\n",
      "        \"Perf.W\",\n",
      "        \"price_52_week_high\",\n",
      "        \"price_52_week_low\",\n",
      "        \"W.R\",\n",
      "        \"Perf.Y\",\n",
      "        \"beta_1_year\",\n",
      "        \"Perf.YTD\",\n",
      "        \"Perf.5Y\",\n",
      "        \"Rec.BBPower\",\n",
      "        \"Rec.HullMA9\",\n",
      "        \"Rec.UO\",\n",
      "        \"Rec.VWMA\"\n",
      "    ],\n",
      "    \"markets\": [\n",
      "        \"america\"\n",
      "    ]\n",
      "}\n"
     ]
    },
    {
     "data": {
      "text/plain": "           Symbol  All Time High  All Time Low  All Time Performance  \\\n0     NASDAQ:AAPL     198.230000      0.049107         141694.184561   \n1     NASDAQ:MSFT     366.780000      0.088543         337042.445718   \n2    NASDAQ:GOOGL     151.546575      2.401327           5018.922753   \n3     NASDAQ:GOOG     152.100000     24.312350            353.827789   \n4     NASDAQ:AMZN     188.653910      0.065624         114419.914010   \n..            ...            ...           ...                   ...   \n145      NYSE:COP     138.490000      1.300881           5284.189961   \n146   NASDAQ:QCOM     193.580000      0.384440          23138.555729   \n147    NYSE:RY/PT      35.328800     21.510000              0.515464   \n148       NYSE:RY     119.410000      5.125000           1566.434783   \n149      NYSE:IBM     206.219898      8.984511            884.584938   \n\n     Aroon Down (14)  Aroon Up (14)  Average Day Range (14)  \\\n0         100.000000      14.285714                3.000021   \n1          92.857143       7.142857                9.149636   \n2          21.428571      64.285714                2.817857   \n3          21.428571      64.285714                2.810357   \n4          50.000000     100.000000                3.210114   \n..               ...            ...                     ...   \n145         0.000000      71.428571                2.299279   \n146        92.857143      71.428571                3.141071   \n147       100.000000      42.857143                0.143464   \n148        92.857143      35.714286                1.135357   \n149         0.000000     100.000000                1.768871   \n\n     Average Directional Index (14)  Average True Range (14)  \\\n0                         39.556741                 3.253088   \n1                         17.120689                 8.344818   \n2                         20.838071                 3.314208   \n3                         19.759158                 3.286248   \n4                         19.836494                 4.056433   \n..                              ...                      ...   \n145                       25.491853                 2.549849   \n146                       22.030051                 4.062707   \n147                       11.098025                 0.199448   \n148                       21.467685                 1.309922   \n149                       41.680984                 1.900120   \n\n     Average Volume (10 day)  ...  52 Week Low  Williams Percent Range (14)  \\\n0                 52870677.8  ...     124.1700                   -99.570815   \n1                 30855114.6  ...     213.4310                   -95.518001   \n2                 34937045.8  ...      83.3400                   -36.275773   \n3                 26216724.9  ...      83.4500                   -35.944101   \n4                 61726658.8  ...      81.4300                   -23.173516   \n..                       ...  ...          ...                          ...   \n145                4561311.9  ...      91.5338                   -38.312236   \n146               11022965.3  ...     101.4700                   -63.440265   \n147                   2022.7  ...      24.8708                   -73.262032   \n148                1059702.8  ...      83.6300                   -90.760870   \n149                4838371.6  ...     115.5450                   -15.677966   \n\n     Yearly Performance  1-Year Beta  YTD Performance  5Y Performance  \\\n0              9.629228     1.203478        39.691434      251.620538   \n1             17.420742     1.163476        34.844496      204.063080   \n2             10.221113     1.214510        43.003851      105.769447   \n3              9.929017     1.224625        43.092508      109.072722   \n4             -0.378301     1.304583        63.316171       51.892789   \n..                  ...          ...              ...             ...   \n145           28.893675     0.600386        -2.445093       59.592982   \n146          -18.220367     1.641111         9.115402       87.673772   \n147           -4.303511     0.022458        -4.013268      -21.975993   \n148           -1.954364     0.786328         1.925327       22.846154   \n149            9.148695     0.800989         2.225372        5.424963   \n\n     Reco. Bull Bear Power  Reco. Hull Moving Average (9)  \\\n0                        0                             -1   \n1                        0                              1   \n2                        0                             -1   \n3                        0                             -1   \n4                        0                              1   \n..                     ...                            ...   \n145                      1                             -1   \n146                      1                             -1   \n147                      0                              1   \n148                      0                              1   \n149                      0                             -1   \n\n     Reco. Ultimate Oscillator (7, 14, 28)  \\\n0                                       -1   \n1                                        0   \n2                                        0   \n3                                        0   \n4                                        0   \n..                                     ...   \n145                                      0   \n146                                      0   \n147                                      0   \n148                                      0   \n149                                      0   \n\n     Reco. Volume Weighted Moving Average (20)  \n0                                           -1  \n1                                           -1  \n2                                            1  \n3                                            1  \n4                                            1  \n..                                         ...  \n145                                          1  \n146                                         -1  \n147                                         -1  \n148                                         -1  \n149                                          1  \n\n[150 rows x 260 columns]",
      "text/html": "<div>\n<style scoped>\n    .dataframe tbody tr th:only-of-type {\n        vertical-align: middle;\n    }\n\n    .dataframe tbody tr th {\n        vertical-align: top;\n    }\n\n    .dataframe thead th {\n        text-align: right;\n    }\n</style>\n<table border=\"1\" class=\"dataframe\">\n  <thead>\n    <tr style=\"text-align: right;\">\n      <th></th>\n      <th>Symbol</th>\n      <th>All Time High</th>\n      <th>All Time Low</th>\n      <th>All Time Performance</th>\n      <th>Aroon Down (14)</th>\n      <th>Aroon Up (14)</th>\n      <th>Average Day Range (14)</th>\n      <th>Average Directional Index (14)</th>\n      <th>Average True Range (14)</th>\n      <th>Average Volume (10 day)</th>\n      <th>...</th>\n      <th>52 Week Low</th>\n      <th>Williams Percent Range (14)</th>\n      <th>Yearly Performance</th>\n      <th>1-Year Beta</th>\n      <th>YTD Performance</th>\n      <th>5Y Performance</th>\n      <th>Reco. Bull Bear Power</th>\n      <th>Reco. Hull Moving Average (9)</th>\n      <th>Reco. Ultimate Oscillator (7, 14, 28)</th>\n      <th>Reco. Volume Weighted Moving Average (20)</th>\n    </tr>\n  </thead>\n  <tbody>\n    <tr>\n      <th>0</th>\n      <td>NASDAQ:AAPL</td>\n      <td>198.230000</td>\n      <td>0.049107</td>\n      <td>141694.184561</td>\n      <td>100.000000</td>\n      <td>14.285714</td>\n      <td>3.000021</td>\n      <td>39.556741</td>\n      <td>3.253088</td>\n      <td>52870677.8</td>\n      <td>...</td>\n      <td>124.1700</td>\n      <td>-99.570815</td>\n      <td>9.629228</td>\n      <td>1.203478</td>\n      <td>39.691434</td>\n      <td>251.620538</td>\n      <td>0</td>\n      <td>-1</td>\n      <td>-1</td>\n      <td>-1</td>\n    </tr>\n    <tr>\n      <th>1</th>\n      <td>NASDAQ:MSFT</td>\n      <td>366.780000</td>\n      <td>0.088543</td>\n      <td>337042.445718</td>\n      <td>92.857143</td>\n      <td>7.142857</td>\n      <td>9.149636</td>\n      <td>17.120689</td>\n      <td>8.344818</td>\n      <td>30855114.6</td>\n      <td>...</td>\n      <td>213.4310</td>\n      <td>-95.518001</td>\n      <td>17.420742</td>\n      <td>1.163476</td>\n      <td>34.844496</td>\n      <td>204.063080</td>\n      <td>0</td>\n      <td>1</td>\n      <td>0</td>\n      <td>-1</td>\n    </tr>\n    <tr>\n      <th>2</th>\n      <td>NASDAQ:GOOGL</td>\n      <td>151.546575</td>\n      <td>2.401327</td>\n      <td>5018.922753</td>\n      <td>21.428571</td>\n      <td>64.285714</td>\n      <td>2.817857</td>\n      <td>20.838071</td>\n      <td>3.314208</td>\n      <td>34937045.8</td>\n      <td>...</td>\n      <td>83.3400</td>\n      <td>-36.275773</td>\n      <td>10.221113</td>\n      <td>1.214510</td>\n      <td>43.003851</td>\n      <td>105.769447</td>\n      <td>0</td>\n      <td>-1</td>\n      <td>0</td>\n      <td>1</td>\n    </tr>\n    <tr>\n      <th>3</th>\n      <td>NASDAQ:GOOG</td>\n      <td>152.100000</td>\n      <td>24.312350</td>\n      <td>353.827789</td>\n      <td>21.428571</td>\n      <td>64.285714</td>\n      <td>2.810357</td>\n      <td>19.759158</td>\n      <td>3.286248</td>\n      <td>26216724.9</td>\n      <td>...</td>\n      <td>83.4500</td>\n      <td>-35.944101</td>\n      <td>9.929017</td>\n      <td>1.224625</td>\n      <td>43.092508</td>\n      <td>109.072722</td>\n      <td>0</td>\n      <td>-1</td>\n      <td>0</td>\n      <td>1</td>\n    </tr>\n    <tr>\n      <th>4</th>\n      <td>NASDAQ:AMZN</td>\n      <td>188.653910</td>\n      <td>0.065624</td>\n      <td>114419.914010</td>\n      <td>50.000000</td>\n      <td>100.000000</td>\n      <td>3.210114</td>\n      <td>19.836494</td>\n      <td>4.056433</td>\n      <td>61726658.8</td>\n      <td>...</td>\n      <td>81.4300</td>\n      <td>-23.173516</td>\n      <td>-0.378301</td>\n      <td>1.304583</td>\n      <td>63.316171</td>\n      <td>51.892789</td>\n      <td>0</td>\n      <td>1</td>\n      <td>0</td>\n      <td>1</td>\n    </tr>\n    <tr>\n      <th>...</th>\n      <td>...</td>\n      <td>...</td>\n      <td>...</td>\n      <td>...</td>\n      <td>...</td>\n      <td>...</td>\n      <td>...</td>\n      <td>...</td>\n      <td>...</td>\n      <td>...</td>\n      <td>...</td>\n      <td>...</td>\n      <td>...</td>\n      <td>...</td>\n      <td>...</td>\n      <td>...</td>\n      <td>...</td>\n      <td>...</td>\n      <td>...</td>\n      <td>...</td>\n      <td>...</td>\n    </tr>\n    <tr>\n      <th>145</th>\n      <td>NYSE:COP</td>\n      <td>138.490000</td>\n      <td>1.300881</td>\n      <td>5284.189961</td>\n      <td>0.000000</td>\n      <td>71.428571</td>\n      <td>2.299279</td>\n      <td>25.491853</td>\n      <td>2.549849</td>\n      <td>4561311.9</td>\n      <td>...</td>\n      <td>91.5338</td>\n      <td>-38.312236</td>\n      <td>28.893675</td>\n      <td>0.600386</td>\n      <td>-2.445093</td>\n      <td>59.592982</td>\n      <td>1</td>\n      <td>-1</td>\n      <td>0</td>\n      <td>1</td>\n    </tr>\n    <tr>\n      <th>146</th>\n      <td>NASDAQ:QCOM</td>\n      <td>193.580000</td>\n      <td>0.384440</td>\n      <td>23138.555729</td>\n      <td>92.857143</td>\n      <td>71.428571</td>\n      <td>3.141071</td>\n      <td>22.030051</td>\n      <td>4.062707</td>\n      <td>11022965.3</td>\n      <td>...</td>\n      <td>101.4700</td>\n      <td>-63.440265</td>\n      <td>-18.220367</td>\n      <td>1.641111</td>\n      <td>9.115402</td>\n      <td>87.673772</td>\n      <td>1</td>\n      <td>-1</td>\n      <td>0</td>\n      <td>-1</td>\n    </tr>\n    <tr>\n      <th>147</th>\n      <td>NYSE:RY/PT</td>\n      <td>35.328800</td>\n      <td>21.510000</td>\n      <td>0.515464</td>\n      <td>100.000000</td>\n      <td>42.857143</td>\n      <td>0.143464</td>\n      <td>11.098025</td>\n      <td>0.199448</td>\n      <td>2022.7</td>\n      <td>...</td>\n      <td>24.8708</td>\n      <td>-73.262032</td>\n      <td>-4.303511</td>\n      <td>0.022458</td>\n      <td>-4.013268</td>\n      <td>-21.975993</td>\n      <td>0</td>\n      <td>1</td>\n      <td>0</td>\n      <td>-1</td>\n    </tr>\n    <tr>\n      <th>148</th>\n      <td>NYSE:RY</td>\n      <td>119.410000</td>\n      <td>5.125000</td>\n      <td>1566.434783</td>\n      <td>92.857143</td>\n      <td>35.714286</td>\n      <td>1.135357</td>\n      <td>21.467685</td>\n      <td>1.309922</td>\n      <td>1059702.8</td>\n      <td>...</td>\n      <td>83.6300</td>\n      <td>-90.760870</td>\n      <td>-1.954364</td>\n      <td>0.786328</td>\n      <td>1.925327</td>\n      <td>22.846154</td>\n      <td>0</td>\n      <td>1</td>\n      <td>0</td>\n      <td>-1</td>\n    </tr>\n    <tr>\n      <th>149</th>\n      <td>NYSE:IBM</td>\n      <td>206.219898</td>\n      <td>8.984511</td>\n      <td>884.584938</td>\n      <td>0.000000</td>\n      <td>100.000000</td>\n      <td>1.768871</td>\n      <td>41.680984</td>\n      <td>1.900120</td>\n      <td>4838371.6</td>\n      <td>...</td>\n      <td>115.5450</td>\n      <td>-15.677966</td>\n      <td>9.148695</td>\n      <td>0.800989</td>\n      <td>2.225372</td>\n      <td>5.424963</td>\n      <td>0</td>\n      <td>-1</td>\n      <td>0</td>\n      <td>1</td>\n    </tr>\n  </tbody>\n</table>\n<p>150 rows × 260 columns</p>\n</div>"
     },
     "execution_count": 11,
     "metadata": {},
     "output_type": "execute_result"
    }
   ],
   "source": [
    "ss = tvs.StockScreener()\n",
    "df = ss.get(print_request=True)\n",
    "df"
   ],
   "metadata": {
    "collapsed": false,
    "ExecuteTime": {
     "end_time": "2023-08-06T16:34:17.857572702Z",
     "start_time": "2023-08-06T16:34:16.880772878Z"
    }
   },
   "id": "dd428873c1d8f9e9"
  },
  {
   "cell_type": "code",
   "execution_count": 18,
   "outputs": [
    {
     "data": {
      "text/plain": "           Symbol  All Time High  All Time Low All Time Performance  \\\n0     NASDAQ:AAPL         198.23          0.05           141694.18%   \n1     NASDAQ:MSFT         366.78          0.09           337042.45%   \n2    NASDAQ:GOOGL         151.55          2.40             5018.92%   \n3     NASDAQ:GOOG         152.10         24.31              353.83%   \n4     NASDAQ:AMZN         188.65          0.07           114419.91%   \n..            ...            ...           ...                  ...   \n145      NYSE:COP         138.49          1.30             5284.19%   \n146   NASDAQ:QCOM         193.58          0.38            23138.56%   \n147    NYSE:RY/PT          35.33         21.51                0.52%   \n148       NYSE:RY         119.41          5.12             1566.43%   \n149      NYSE:IBM         206.22          8.98              884.58%   \n\n     Aroon Down (14)  Aroon Up (14)  Average Day Range (14)  \\\n0             100.00          14.29                3.000021   \n1              92.86           7.14                9.149636   \n2              21.43          64.29                2.817857   \n3              21.43          64.29                2.810357   \n4              50.00         100.00                3.210114   \n..               ...            ...                     ...   \n145             0.00          71.43                2.299279   \n146            92.86          71.43                3.141071   \n147           100.00          42.86                0.143464   \n148            92.86          35.71                1.135357   \n149             0.00         100.00                1.768871   \n\n     Average Directional Index (14)  Average True Range (14)  \\\n0                         39.556741                 3.253088   \n1                         17.120689                 8.344818   \n2                         20.838071                 3.314208   \n3                         19.759158                 3.286248   \n4                         19.836494                 4.056433   \n..                              ...                      ...   \n145                       25.491853                 2.549849   \n146                       22.030051                 4.062707   \n147                       11.098025                 0.199448   \n148                       21.467685                 1.309922   \n149                       41.680984                 1.900120   \n\n    Average Volume (10 day)  ... 52 Week Low Williams Percent Range (14)  \\\n0                   52.871M  ...      124.17                  -99.570815   \n1                   30.855M  ...      213.43                  -95.518001   \n2                   34.937M  ...       83.34                  -36.275773   \n3                   26.217M  ...       83.45                  -35.944101   \n4                   61.727M  ...       81.43                  -23.173516   \n..                      ...  ...         ...                         ...   \n145                  4.561M  ...       91.53                  -38.312236   \n146                 11.023M  ...      101.47                  -63.440265   \n147                   2.023  ...       24.87                  -73.262032   \n148                  1.060M  ...       83.63                  -90.760870   \n149                  4.838M  ...      115.55                  -15.677966   \n\n    Yearly Performance  1-Year Beta  YTD Performance  5Y Performance  \\\n0                9.63%         1.20           39.69%         251.62%   \n1               17.42%         1.16           34.84%         204.06%   \n2               10.22%         1.21           43.00%         105.77%   \n3                9.93%         1.22           43.09%         109.07%   \n4               -0.38%         1.30           63.32%          51.89%   \n..                 ...          ...              ...             ...   \n145             28.89%         0.60           -2.45%          59.59%   \n146            -18.22%         1.64            9.12%          87.67%   \n147             -4.30%         0.02           -4.01%         -21.98%   \n148             -1.95%         0.79            1.93%          22.85%   \n149              9.15%         0.80            2.23%           5.42%   \n\n     Reco. Bull Bear Power  Reco. Hull Moving Average (9)  \\\n0                        0                             -1   \n1                        0                              1   \n2                        0                             -1   \n3                        0                             -1   \n4                        0                              1   \n..                     ...                            ...   \n145                      1                             -1   \n146                      1                             -1   \n147                      0                              1   \n148                      0                              1   \n149                      0                             -1   \n\n    Reco. Ultimate Oscillator (7, 14, 28)  \\\n0                                      -1   \n1                                       0   \n2                                       0   \n3                                       0   \n4                                       0   \n..                                    ...   \n145                                     0   \n146                                     0   \n147                                     0   \n148                                     0   \n149                                     0   \n\n     Reco. Volume Weighted Moving Average (20)  \n0                                           -1  \n1                                           -1  \n2                                            1  \n3                                            1  \n4                                            1  \n..                                         ...  \n145                                          1  \n146                                         -1  \n147                                         -1  \n148                                         -1  \n149                                          1  \n\n[150 rows x 260 columns]",
      "text/html": "<div>\n<style scoped>\n    .dataframe tbody tr th:only-of-type {\n        vertical-align: middle;\n    }\n\n    .dataframe tbody tr th {\n        vertical-align: top;\n    }\n\n    .dataframe thead th {\n        text-align: right;\n    }\n</style>\n<table border=\"1\" class=\"dataframe\">\n  <thead>\n    <tr style=\"text-align: right;\">\n      <th></th>\n      <th>Symbol</th>\n      <th>All Time High</th>\n      <th>All Time Low</th>\n      <th>All Time Performance</th>\n      <th>Aroon Down (14)</th>\n      <th>Aroon Up (14)</th>\n      <th>Average Day Range (14)</th>\n      <th>Average Directional Index (14)</th>\n      <th>Average True Range (14)</th>\n      <th>Average Volume (10 day)</th>\n      <th>...</th>\n      <th>52 Week Low</th>\n      <th>Williams Percent Range (14)</th>\n      <th>Yearly Performance</th>\n      <th>1-Year Beta</th>\n      <th>YTD Performance</th>\n      <th>5Y Performance</th>\n      <th>Reco. Bull Bear Power</th>\n      <th>Reco. Hull Moving Average (9)</th>\n      <th>Reco. Ultimate Oscillator (7, 14, 28)</th>\n      <th>Reco. Volume Weighted Moving Average (20)</th>\n    </tr>\n  </thead>\n  <tbody>\n    <tr>\n      <th>0</th>\n      <td>NASDAQ:AAPL</td>\n      <td>198.23</td>\n      <td>0.05</td>\n      <td>141694.18%</td>\n      <td>100.00</td>\n      <td>14.29</td>\n      <td>3.000021</td>\n      <td>39.556741</td>\n      <td>3.253088</td>\n      <td>52.871M</td>\n      <td>...</td>\n      <td>124.17</td>\n      <td>-99.570815</td>\n      <td>9.63%</td>\n      <td>1.20</td>\n      <td>39.69%</td>\n      <td>251.62%</td>\n      <td>0</td>\n      <td>-1</td>\n      <td>-1</td>\n      <td>-1</td>\n    </tr>\n    <tr>\n      <th>1</th>\n      <td>NASDAQ:MSFT</td>\n      <td>366.78</td>\n      <td>0.09</td>\n      <td>337042.45%</td>\n      <td>92.86</td>\n      <td>7.14</td>\n      <td>9.149636</td>\n      <td>17.120689</td>\n      <td>8.344818</td>\n      <td>30.855M</td>\n      <td>...</td>\n      <td>213.43</td>\n      <td>-95.518001</td>\n      <td>17.42%</td>\n      <td>1.16</td>\n      <td>34.84%</td>\n      <td>204.06%</td>\n      <td>0</td>\n      <td>1</td>\n      <td>0</td>\n      <td>-1</td>\n    </tr>\n    <tr>\n      <th>2</th>\n      <td>NASDAQ:GOOGL</td>\n      <td>151.55</td>\n      <td>2.40</td>\n      <td>5018.92%</td>\n      <td>21.43</td>\n      <td>64.29</td>\n      <td>2.817857</td>\n      <td>20.838071</td>\n      <td>3.314208</td>\n      <td>34.937M</td>\n      <td>...</td>\n      <td>83.34</td>\n      <td>-36.275773</td>\n      <td>10.22%</td>\n      <td>1.21</td>\n      <td>43.00%</td>\n      <td>105.77%</td>\n      <td>0</td>\n      <td>-1</td>\n      <td>0</td>\n      <td>1</td>\n    </tr>\n    <tr>\n      <th>3</th>\n      <td>NASDAQ:GOOG</td>\n      <td>152.10</td>\n      <td>24.31</td>\n      <td>353.83%</td>\n      <td>21.43</td>\n      <td>64.29</td>\n      <td>2.810357</td>\n      <td>19.759158</td>\n      <td>3.286248</td>\n      <td>26.217M</td>\n      <td>...</td>\n      <td>83.45</td>\n      <td>-35.944101</td>\n      <td>9.93%</td>\n      <td>1.22</td>\n      <td>43.09%</td>\n      <td>109.07%</td>\n      <td>0</td>\n      <td>-1</td>\n      <td>0</td>\n      <td>1</td>\n    </tr>\n    <tr>\n      <th>4</th>\n      <td>NASDAQ:AMZN</td>\n      <td>188.65</td>\n      <td>0.07</td>\n      <td>114419.91%</td>\n      <td>50.00</td>\n      <td>100.00</td>\n      <td>3.210114</td>\n      <td>19.836494</td>\n      <td>4.056433</td>\n      <td>61.727M</td>\n      <td>...</td>\n      <td>81.43</td>\n      <td>-23.173516</td>\n      <td>-0.38%</td>\n      <td>1.30</td>\n      <td>63.32%</td>\n      <td>51.89%</td>\n      <td>0</td>\n      <td>1</td>\n      <td>0</td>\n      <td>1</td>\n    </tr>\n    <tr>\n      <th>...</th>\n      <td>...</td>\n      <td>...</td>\n      <td>...</td>\n      <td>...</td>\n      <td>...</td>\n      <td>...</td>\n      <td>...</td>\n      <td>...</td>\n      <td>...</td>\n      <td>...</td>\n      <td>...</td>\n      <td>...</td>\n      <td>...</td>\n      <td>...</td>\n      <td>...</td>\n      <td>...</td>\n      <td>...</td>\n      <td>...</td>\n      <td>...</td>\n      <td>...</td>\n      <td>...</td>\n    </tr>\n    <tr>\n      <th>145</th>\n      <td>NYSE:COP</td>\n      <td>138.49</td>\n      <td>1.30</td>\n      <td>5284.19%</td>\n      <td>0.00</td>\n      <td>71.43</td>\n      <td>2.299279</td>\n      <td>25.491853</td>\n      <td>2.549849</td>\n      <td>4.561M</td>\n      <td>...</td>\n      <td>91.53</td>\n      <td>-38.312236</td>\n      <td>28.89%</td>\n      <td>0.60</td>\n      <td>-2.45%</td>\n      <td>59.59%</td>\n      <td>1</td>\n      <td>-1</td>\n      <td>0</td>\n      <td>1</td>\n    </tr>\n    <tr>\n      <th>146</th>\n      <td>NASDAQ:QCOM</td>\n      <td>193.58</td>\n      <td>0.38</td>\n      <td>23138.56%</td>\n      <td>92.86</td>\n      <td>71.43</td>\n      <td>3.141071</td>\n      <td>22.030051</td>\n      <td>4.062707</td>\n      <td>11.023M</td>\n      <td>...</td>\n      <td>101.47</td>\n      <td>-63.440265</td>\n      <td>-18.22%</td>\n      <td>1.64</td>\n      <td>9.12%</td>\n      <td>87.67%</td>\n      <td>1</td>\n      <td>-1</td>\n      <td>0</td>\n      <td>-1</td>\n    </tr>\n    <tr>\n      <th>147</th>\n      <td>NYSE:RY/PT</td>\n      <td>35.33</td>\n      <td>21.51</td>\n      <td>0.52%</td>\n      <td>100.00</td>\n      <td>42.86</td>\n      <td>0.143464</td>\n      <td>11.098025</td>\n      <td>0.199448</td>\n      <td>2.023</td>\n      <td>...</td>\n      <td>24.87</td>\n      <td>-73.262032</td>\n      <td>-4.30%</td>\n      <td>0.02</td>\n      <td>-4.01%</td>\n      <td>-21.98%</td>\n      <td>0</td>\n      <td>1</td>\n      <td>0</td>\n      <td>-1</td>\n    </tr>\n    <tr>\n      <th>148</th>\n      <td>NYSE:RY</td>\n      <td>119.41</td>\n      <td>5.12</td>\n      <td>1566.43%</td>\n      <td>92.86</td>\n      <td>35.71</td>\n      <td>1.135357</td>\n      <td>21.467685</td>\n      <td>1.309922</td>\n      <td>1.060M</td>\n      <td>...</td>\n      <td>83.63</td>\n      <td>-90.760870</td>\n      <td>-1.95%</td>\n      <td>0.79</td>\n      <td>1.93%</td>\n      <td>22.85%</td>\n      <td>0</td>\n      <td>1</td>\n      <td>0</td>\n      <td>-1</td>\n    </tr>\n    <tr>\n      <th>149</th>\n      <td>NYSE:IBM</td>\n      <td>206.22</td>\n      <td>8.98</td>\n      <td>884.58%</td>\n      <td>0.00</td>\n      <td>100.00</td>\n      <td>1.768871</td>\n      <td>41.680984</td>\n      <td>1.900120</td>\n      <td>4.838M</td>\n      <td>...</td>\n      <td>115.55</td>\n      <td>-15.677966</td>\n      <td>9.15%</td>\n      <td>0.80</td>\n      <td>2.23%</td>\n      <td>5.42%</td>\n      <td>0</td>\n      <td>-1</td>\n      <td>0</td>\n      <td>1</td>\n    </tr>\n  </tbody>\n</table>\n<p>150 rows × 260 columns</p>\n</div>"
     },
     "execution_count": 18,
     "metadata": {},
     "output_type": "execute_result"
    }
   ],
   "source": [
    "from tvscreener import beautify\n",
    "from tvscreener import StockField, Field\n",
    "\n",
    "beautify(df, StockField)"
   ],
   "metadata": {
    "collapsed": false,
    "ExecuteTime": {
     "end_time": "2023-08-06T16:36:57.981123547Z",
     "start_time": "2023-08-06T16:36:57.883265993Z"
    }
   },
   "id": "59cc4e8fe363fa10"
  },
  {
   "cell_type": "code",
   "execution_count": null,
   "outputs": [],
   "source": [],
   "metadata": {
    "collapsed": false
   },
   "id": "d50e7e01ae7ff024"
  }
 ],
 "metadata": {
  "kernelspec": {
   "display_name": "Python 3",
   "language": "python",
   "name": "python3"
  },
  "language_info": {
   "codemirror_mode": {
    "name": "ipython",
    "version": 2
   },
   "file_extension": ".py",
   "mimetype": "text/x-python",
   "name": "python",
   "nbconvert_exporter": "python",
   "pygments_lexer": "ipython2",
   "version": "2.7.6"
  }
 },
 "nbformat": 4,
 "nbformat_minor": 5
}
