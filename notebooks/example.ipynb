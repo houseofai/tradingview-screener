{
 "cells": [
  {
   "cell_type": "code",
   "execution_count": 1,
   "id": "initial_id",
   "metadata": {
    "collapsed": true,
    "ExecuteTime": {
     "end_time": "2023-08-04T14:37:50.983361974Z",
     "start_time": "2023-08-04T14:37:50.845021046Z"
    }
   },
   "outputs": [],
   "source": [
    "import tvscreener as tvs\n",
    "\n",
    "%load_ext autoreload\n",
    "%autoreload 2"
   ]
  },
  {
   "cell_type": "markdown",
   "source": [
    "# Stock"
   ],
   "metadata": {
    "collapsed": false
   },
   "id": "d8b81da10afe1e9c"
  },
  {
   "cell_type": "code",
   "execution_count": 2,
   "outputs": [
    {
     "data": {
      "text/plain": "         Symbol  All Time High  All Time Low All Time Performance  \\\n0   NASDAQ:AAPL     198.230000      0.049107           144358.82%   \n1   NASDAQ:MSFT     366.780000      0.088543           339912.14%   \n2   NASDAQ:GOOG     152.100000     24.312350              357.99%   \n3  NASDAQ:GOOGL     151.546575      2.401327             5066.47%   \n4   NASDAQ:AMZN     188.653910      0.065624           115560.44%   \n\n   Aroon Down (14)  Aroon Up (14)  Average Day Range (14)  \\\n0       100.000000      14.285714                2.905021   \n1        92.857143       7.142857                9.025707   \n2        21.428571      64.285714                2.735714   \n3        21.428571      64.285714                2.740714   \n4        50.000000     100.000000                3.045829   \n\n   Average Directional Index (14)  Average True Range (14)  \\\n0                       39.263114                 3.158088   \n1                       17.120689                 8.344818   \n2                       19.759158                 3.253748   \n3                       20.838071                 3.275636   \n4                       19.601410                 3.941433   \n\n   Awesome Oscillator  ...  Monthly Performance raw  3-Month Performance raw  \\\n0            1.590986  ...                -3.213009                 8.442755   \n1           -6.845441  ...                -1.348891                 8.128353   \n2            6.808503  ...                 8.045977                23.167490   \n3            7.067257  ...                 8.436766                23.354322   \n4            2.379346  ...                 8.230958                35.187494   \n\n   6-Month Performance raw  Moving Averages Rating raw  \\\n0                25.251638                   -0.423077   \n1                27.366669                   -0.269231   \n2                25.321225                    0.961538   \n3                25.619353                    0.961538   \n4                33.916017                    0.961538   \n\n   Oscillators Rating raw Technical Rating raw Weekly Performance raw  \\\n0               -0.181818            -0.302448              -4.756768   \n1                0.090909            -0.089161              -0.929062   \n2                0.181818             0.571678              -0.954417   \n3                0.181818             0.571678              -1.131672   \n4                0.272727             0.617133               8.689953   \n\n   Yearly Performance raw  YTD Performance raw  5Y Performance raw  \n0               11.689407            42.316549          258.228276  \n1               17.306600            35.992266          206.651206  \n2                9.653424            44.406100          110.992014  \n3               10.061287            44.332198          107.680817  \n4                0.270309            64.942663           53.405513  \n\n[5 rows x 297 columns]",
      "text/html": "<div>\n<style scoped>\n    .dataframe tbody tr th:only-of-type {\n        vertical-align: middle;\n    }\n\n    .dataframe tbody tr th {\n        vertical-align: top;\n    }\n\n    .dataframe thead th {\n        text-align: right;\n    }\n</style>\n<table border=\"1\" class=\"dataframe\">\n  <thead>\n    <tr style=\"text-align: right;\">\n      <th></th>\n      <th>Symbol</th>\n      <th>All Time High</th>\n      <th>All Time Low</th>\n      <th>All Time Performance</th>\n      <th>Aroon Down (14)</th>\n      <th>Aroon Up (14)</th>\n      <th>Average Day Range (14)</th>\n      <th>Average Directional Index (14)</th>\n      <th>Average True Range (14)</th>\n      <th>Awesome Oscillator</th>\n      <th>...</th>\n      <th>Monthly Performance raw</th>\n      <th>3-Month Performance raw</th>\n      <th>6-Month Performance raw</th>\n      <th>Moving Averages Rating raw</th>\n      <th>Oscillators Rating raw</th>\n      <th>Technical Rating raw</th>\n      <th>Weekly Performance raw</th>\n      <th>Yearly Performance raw</th>\n      <th>YTD Performance raw</th>\n      <th>5Y Performance raw</th>\n    </tr>\n  </thead>\n  <tbody>\n    <tr>\n      <th>0</th>\n      <td>NASDAQ:AAPL</td>\n      <td>198.230000</td>\n      <td>0.049107</td>\n      <td>144358.82%</td>\n      <td>100.000000</td>\n      <td>14.285714</td>\n      <td>2.905021</td>\n      <td>39.263114</td>\n      <td>3.158088</td>\n      <td>1.590986</td>\n      <td>...</td>\n      <td>-3.213009</td>\n      <td>8.442755</td>\n      <td>25.251638</td>\n      <td>-0.423077</td>\n      <td>-0.181818</td>\n      <td>-0.302448</td>\n      <td>-4.756768</td>\n      <td>11.689407</td>\n      <td>42.316549</td>\n      <td>258.228276</td>\n    </tr>\n    <tr>\n      <th>1</th>\n      <td>NASDAQ:MSFT</td>\n      <td>366.780000</td>\n      <td>0.088543</td>\n      <td>339912.14%</td>\n      <td>92.857143</td>\n      <td>7.142857</td>\n      <td>9.025707</td>\n      <td>17.120689</td>\n      <td>8.344818</td>\n      <td>-6.845441</td>\n      <td>...</td>\n      <td>-1.348891</td>\n      <td>8.128353</td>\n      <td>27.366669</td>\n      <td>-0.269231</td>\n      <td>0.090909</td>\n      <td>-0.089161</td>\n      <td>-0.929062</td>\n      <td>17.306600</td>\n      <td>35.992266</td>\n      <td>206.651206</td>\n    </tr>\n    <tr>\n      <th>2</th>\n      <td>NASDAQ:GOOG</td>\n      <td>152.100000</td>\n      <td>24.312350</td>\n      <td>357.99%</td>\n      <td>21.428571</td>\n      <td>64.285714</td>\n      <td>2.735714</td>\n      <td>19.759158</td>\n      <td>3.253748</td>\n      <td>6.808503</td>\n      <td>...</td>\n      <td>8.045977</td>\n      <td>23.167490</td>\n      <td>25.321225</td>\n      <td>0.961538</td>\n      <td>0.181818</td>\n      <td>0.571678</td>\n      <td>-0.954417</td>\n      <td>9.653424</td>\n      <td>44.406100</td>\n      <td>110.992014</td>\n    </tr>\n    <tr>\n      <th>3</th>\n      <td>NASDAQ:GOOGL</td>\n      <td>151.546575</td>\n      <td>2.401327</td>\n      <td>5066.47%</td>\n      <td>21.428571</td>\n      <td>64.285714</td>\n      <td>2.740714</td>\n      <td>20.838071</td>\n      <td>3.275636</td>\n      <td>7.067257</td>\n      <td>...</td>\n      <td>8.436766</td>\n      <td>23.354322</td>\n      <td>25.619353</td>\n      <td>0.961538</td>\n      <td>0.181818</td>\n      <td>0.571678</td>\n      <td>-1.131672</td>\n      <td>10.061287</td>\n      <td>44.332198</td>\n      <td>107.680817</td>\n    </tr>\n    <tr>\n      <th>4</th>\n      <td>NASDAQ:AMZN</td>\n      <td>188.653910</td>\n      <td>0.065624</td>\n      <td>115560.44%</td>\n      <td>50.000000</td>\n      <td>100.000000</td>\n      <td>3.045829</td>\n      <td>19.601410</td>\n      <td>3.941433</td>\n      <td>2.379346</td>\n      <td>...</td>\n      <td>8.230958</td>\n      <td>35.187494</td>\n      <td>33.916017</td>\n      <td>0.961538</td>\n      <td>0.272727</td>\n      <td>0.617133</td>\n      <td>8.689953</td>\n      <td>0.270309</td>\n      <td>64.942663</td>\n      <td>53.405513</td>\n    </tr>\n  </tbody>\n</table>\n<p>5 rows × 297 columns</p>\n</div>"
     },
     "execution_count": 2,
     "metadata": {},
     "output_type": "execute_result"
    }
   ],
   "source": [
    "ss = tvs.StockScreener()\n",
    "df = ss.get()\n",
    "df.head()"
   ],
   "metadata": {
    "collapsed": false,
    "ExecuteTime": {
     "end_time": "2023-08-04T14:37:52.059908006Z",
     "start_time": "2023-08-04T14:37:51.026358535Z"
    }
   },
   "id": "180f141359f1e171"
  },
  {
   "cell_type": "markdown",
   "source": [
    "## Forex"
   ],
   "metadata": {
    "collapsed": false
   },
   "id": "a0e28abc4e3c832d"
  },
  {
   "cell_type": "code",
   "execution_count": 3,
   "outputs": [
    {
     "data": {
      "text/plain": "          Symbol  All Time High  All Time Low All Time Performance  \\\n0  FX_IDC:AEDAUD        0.48967       0.25641               60.45%   \n1  FX_IDC:AEDCAD        0.39856       0.25670               38.85%   \n2  FX_IDC:AEDCHF        0.28102       0.22759              -10.90%   \n3  FX_IDC:AEDEUR        0.28516       0.12633               15.08%   \n4  FX_IDC:AEDGBP        0.25919       0.13346               54.00%   \n\n   Aroon Down (14)  Aroon Up (14)  Average Day Range (14)  \\\n0         0.000000      92.857143                0.003914   \n1        21.428571     100.000000                0.001526   \n2        14.285714      85.714286                0.001489   \n3         7.142857      92.857143                0.001414   \n4         0.000000      92.857143                0.001414   \n\n   Average Directional Index (14)  Average True Range (14)  \\\n0                       16.724920                 0.003887   \n1                       13.539206                 0.001586   \n2                       22.293916                 0.001515   \n3                       20.652726                 0.001393   \n4                       19.781328                 0.001334   \n\n   Awesome Oscillator  ...  Monthly Performance raw  3-Month Performance raw  \\\n0            0.006192  ...                 1.424775                 1.444745   \n1            0.001895  ...                 0.889853                -1.445142   \n2           -0.001558  ...                -2.981463                -1.768883   \n3            0.000694  ...                -1.351730                -0.129560   \n4            0.000901  ...                -0.509894                -1.619021   \n\n   6-Month Performance raw  Moving Averages Rating raw  \\\n0                 7.277270                        0.80   \n1                 0.168415                        0.32   \n2                -4.685737                       -0.80   \n3                -1.074794                       -0.84   \n4                -4.310267                        0.00   \n\n   Oscillators Rating raw Technical Rating raw Weekly Performance raw  \\\n0               -0.272727             0.263636               1.685005   \n1               -0.090909             0.114545               0.901076   \n2               -0.181818            -0.490909               0.177853   \n3               -0.181818            -0.510909              -0.423866   \n4               -0.181818            -0.090909               0.178992   \n\n   Yearly Performance raw  YTD Performance raw  5Y Performance raw  \n0                5.298521             3.248998           11.662874  \n1                3.846924            -1.562797            2.471333  \n2               -9.433023            -5.876502          -12.556369  \n3               -7.848924            -2.935505            5.091172  \n4               -4.981459            -5.328288            1.951009  \n\n[5 rows x 138 columns]",
      "text/html": "<div>\n<style scoped>\n    .dataframe tbody tr th:only-of-type {\n        vertical-align: middle;\n    }\n\n    .dataframe tbody tr th {\n        vertical-align: top;\n    }\n\n    .dataframe thead th {\n        text-align: right;\n    }\n</style>\n<table border=\"1\" class=\"dataframe\">\n  <thead>\n    <tr style=\"text-align: right;\">\n      <th></th>\n      <th>Symbol</th>\n      <th>All Time High</th>\n      <th>All Time Low</th>\n      <th>All Time Performance</th>\n      <th>Aroon Down (14)</th>\n      <th>Aroon Up (14)</th>\n      <th>Average Day Range (14)</th>\n      <th>Average Directional Index (14)</th>\n      <th>Average True Range (14)</th>\n      <th>Awesome Oscillator</th>\n      <th>...</th>\n      <th>Monthly Performance raw</th>\n      <th>3-Month Performance raw</th>\n      <th>6-Month Performance raw</th>\n      <th>Moving Averages Rating raw</th>\n      <th>Oscillators Rating raw</th>\n      <th>Technical Rating raw</th>\n      <th>Weekly Performance raw</th>\n      <th>Yearly Performance raw</th>\n      <th>YTD Performance raw</th>\n      <th>5Y Performance raw</th>\n    </tr>\n  </thead>\n  <tbody>\n    <tr>\n      <th>0</th>\n      <td>FX_IDC:AEDAUD</td>\n      <td>0.48967</td>\n      <td>0.25641</td>\n      <td>60.45%</td>\n      <td>0.000000</td>\n      <td>92.857143</td>\n      <td>0.003914</td>\n      <td>16.724920</td>\n      <td>0.003887</td>\n      <td>0.006192</td>\n      <td>...</td>\n      <td>1.424775</td>\n      <td>1.444745</td>\n      <td>7.277270</td>\n      <td>0.80</td>\n      <td>-0.272727</td>\n      <td>0.263636</td>\n      <td>1.685005</td>\n      <td>5.298521</td>\n      <td>3.248998</td>\n      <td>11.662874</td>\n    </tr>\n    <tr>\n      <th>1</th>\n      <td>FX_IDC:AEDCAD</td>\n      <td>0.39856</td>\n      <td>0.25670</td>\n      <td>38.85%</td>\n      <td>21.428571</td>\n      <td>100.000000</td>\n      <td>0.001526</td>\n      <td>13.539206</td>\n      <td>0.001586</td>\n      <td>0.001895</td>\n      <td>...</td>\n      <td>0.889853</td>\n      <td>-1.445142</td>\n      <td>0.168415</td>\n      <td>0.32</td>\n      <td>-0.090909</td>\n      <td>0.114545</td>\n      <td>0.901076</td>\n      <td>3.846924</td>\n      <td>-1.562797</td>\n      <td>2.471333</td>\n    </tr>\n    <tr>\n      <th>2</th>\n      <td>FX_IDC:AEDCHF</td>\n      <td>0.28102</td>\n      <td>0.22759</td>\n      <td>-10.90%</td>\n      <td>14.285714</td>\n      <td>85.714286</td>\n      <td>0.001489</td>\n      <td>22.293916</td>\n      <td>0.001515</td>\n      <td>-0.001558</td>\n      <td>...</td>\n      <td>-2.981463</td>\n      <td>-1.768883</td>\n      <td>-4.685737</td>\n      <td>-0.80</td>\n      <td>-0.181818</td>\n      <td>-0.490909</td>\n      <td>0.177853</td>\n      <td>-9.433023</td>\n      <td>-5.876502</td>\n      <td>-12.556369</td>\n    </tr>\n    <tr>\n      <th>3</th>\n      <td>FX_IDC:AEDEUR</td>\n      <td>0.28516</td>\n      <td>0.12633</td>\n      <td>15.08%</td>\n      <td>7.142857</td>\n      <td>92.857143</td>\n      <td>0.001414</td>\n      <td>20.652726</td>\n      <td>0.001393</td>\n      <td>0.000694</td>\n      <td>...</td>\n      <td>-1.351730</td>\n      <td>-0.129560</td>\n      <td>-1.074794</td>\n      <td>-0.84</td>\n      <td>-0.181818</td>\n      <td>-0.510909</td>\n      <td>-0.423866</td>\n      <td>-7.848924</td>\n      <td>-2.935505</td>\n      <td>5.091172</td>\n    </tr>\n    <tr>\n      <th>4</th>\n      <td>FX_IDC:AEDGBP</td>\n      <td>0.25919</td>\n      <td>0.13346</td>\n      <td>54.00%</td>\n      <td>0.000000</td>\n      <td>92.857143</td>\n      <td>0.001414</td>\n      <td>19.781328</td>\n      <td>0.001334</td>\n      <td>0.000901</td>\n      <td>...</td>\n      <td>-0.509894</td>\n      <td>-1.619021</td>\n      <td>-4.310267</td>\n      <td>0.00</td>\n      <td>-0.181818</td>\n      <td>-0.090909</td>\n      <td>0.178992</td>\n      <td>-4.981459</td>\n      <td>-5.328288</td>\n      <td>1.951009</td>\n    </tr>\n  </tbody>\n</table>\n<p>5 rows × 138 columns</p>\n</div>"
     },
     "execution_count": 3,
     "metadata": {},
     "output_type": "execute_result"
    }
   ],
   "source": [
    "fs = tvs.ForexScreener()\n",
    "df = fs.get()\n",
    "df.head()"
   ],
   "metadata": {
    "collapsed": false,
    "ExecuteTime": {
     "end_time": "2023-08-04T14:37:52.872892509Z",
     "start_time": "2023-08-04T14:37:52.060392747Z"
    }
   },
   "id": "5a3140ab1afc7830"
  },
  {
   "cell_type": "markdown",
   "source": [
    "## Crypto"
   ],
   "metadata": {
    "collapsed": false
   },
   "id": "a2d8c8054bc7a281"
  },
  {
   "cell_type": "code",
   "execution_count": 4,
   "outputs": [
    {
     "data": {
      "text/plain": "              Symbol  All Time High  All Time Low All Time Performance  \\\n0  BINANCE:BTCUSDT.P       69198.70       3621.81              192.42%   \n1  BINANCE:ETHUSDT.P        4877.54         84.23             1162.99%   \n2   BITGET:BTCUSDT.P       69145.50       3794.50              123.60%   \n3      OKX:ETHUSDT.P        4877.70         85.39             1343.72%   \n4      OKX:BTCUSDT.P       69158.00       3728.80              324.43%   \n\n   Aroon Down (14)  Aroon Up (14)  Average Day Range (14)  \\\n0        78.571429      14.285714              588.192857   \n1        78.571429       0.000000               40.287857   \n2        78.571429      14.285714              574.285714   \n3        78.571429       0.000000               39.335000   \n4        78.571429      14.285714              578.735714   \n\n   Average Directional Index (14)  Average True Range (14)  \\\n0                       15.016438               668.368156   \n1                       15.590015                45.787902   \n2                       14.911006               653.240189   \n3                       13.595599                45.222367   \n4                       14.612957               657.174293   \n\n   Awesome Oscillator  ...  Monthly Performance raw  3-Month Performance raw  \\\n0         -704.867059  ...                -4.922601                -0.845667   \n1          -40.153000  ...                -4.740355                -7.457278   \n2         -710.316176  ...                -4.981310                -0.920214   \n3          -40.310176  ...                -4.745210                -7.439779   \n4         -710.044118  ...                -4.913658                -0.832175   \n\n   6-Month Performance raw  Moving Averages Rating raw  \\\n0                25.380961                   -0.423077   \n1                10.652649                   -0.423077   \n2                25.367213                   -0.423077   \n3                10.681202                   -0.500000   \n4                25.431424                   -0.423077   \n\n   Oscillators Rating raw Technical Rating raw Weekly Performance raw  \\\n0                0.000000            -0.211538               0.110579   \n1                0.090909            -0.166084              -0.877820   \n2                0.000000            -0.211538               0.102731   \n3                0.090909            -0.204545              -0.900325   \n4                0.000000            -0.211538               0.099568   \n\n   Yearly Performance raw  YTD Performance raw  5Y Performance raw  \n0               28.246387            76.822978          183.446516  \n1               14.009781            54.164368         1095.126061  \n2               28.173368            76.706160          136.470636  \n3               13.980056            54.170601         1345.307114  \n4               28.229235            76.814196          341.672454  \n\n[5 rows x 151 columns]",
      "text/html": "<div>\n<style scoped>\n    .dataframe tbody tr th:only-of-type {\n        vertical-align: middle;\n    }\n\n    .dataframe tbody tr th {\n        vertical-align: top;\n    }\n\n    .dataframe thead th {\n        text-align: right;\n    }\n</style>\n<table border=\"1\" class=\"dataframe\">\n  <thead>\n    <tr style=\"text-align: right;\">\n      <th></th>\n      <th>Symbol</th>\n      <th>All Time High</th>\n      <th>All Time Low</th>\n      <th>All Time Performance</th>\n      <th>Aroon Down (14)</th>\n      <th>Aroon Up (14)</th>\n      <th>Average Day Range (14)</th>\n      <th>Average Directional Index (14)</th>\n      <th>Average True Range (14)</th>\n      <th>Awesome Oscillator</th>\n      <th>...</th>\n      <th>Monthly Performance raw</th>\n      <th>3-Month Performance raw</th>\n      <th>6-Month Performance raw</th>\n      <th>Moving Averages Rating raw</th>\n      <th>Oscillators Rating raw</th>\n      <th>Technical Rating raw</th>\n      <th>Weekly Performance raw</th>\n      <th>Yearly Performance raw</th>\n      <th>YTD Performance raw</th>\n      <th>5Y Performance raw</th>\n    </tr>\n  </thead>\n  <tbody>\n    <tr>\n      <th>0</th>\n      <td>BINANCE:BTCUSDT.P</td>\n      <td>69198.70</td>\n      <td>3621.81</td>\n      <td>192.42%</td>\n      <td>78.571429</td>\n      <td>14.285714</td>\n      <td>588.192857</td>\n      <td>15.016438</td>\n      <td>668.368156</td>\n      <td>-704.867059</td>\n      <td>...</td>\n      <td>-4.922601</td>\n      <td>-0.845667</td>\n      <td>25.380961</td>\n      <td>-0.423077</td>\n      <td>0.000000</td>\n      <td>-0.211538</td>\n      <td>0.110579</td>\n      <td>28.246387</td>\n      <td>76.822978</td>\n      <td>183.446516</td>\n    </tr>\n    <tr>\n      <th>1</th>\n      <td>BINANCE:ETHUSDT.P</td>\n      <td>4877.54</td>\n      <td>84.23</td>\n      <td>1162.99%</td>\n      <td>78.571429</td>\n      <td>0.000000</td>\n      <td>40.287857</td>\n      <td>15.590015</td>\n      <td>45.787902</td>\n      <td>-40.153000</td>\n      <td>...</td>\n      <td>-4.740355</td>\n      <td>-7.457278</td>\n      <td>10.652649</td>\n      <td>-0.423077</td>\n      <td>0.090909</td>\n      <td>-0.166084</td>\n      <td>-0.877820</td>\n      <td>14.009781</td>\n      <td>54.164368</td>\n      <td>1095.126061</td>\n    </tr>\n    <tr>\n      <th>2</th>\n      <td>BITGET:BTCUSDT.P</td>\n      <td>69145.50</td>\n      <td>3794.50</td>\n      <td>123.60%</td>\n      <td>78.571429</td>\n      <td>14.285714</td>\n      <td>574.285714</td>\n      <td>14.911006</td>\n      <td>653.240189</td>\n      <td>-710.316176</td>\n      <td>...</td>\n      <td>-4.981310</td>\n      <td>-0.920214</td>\n      <td>25.367213</td>\n      <td>-0.423077</td>\n      <td>0.000000</td>\n      <td>-0.211538</td>\n      <td>0.102731</td>\n      <td>28.173368</td>\n      <td>76.706160</td>\n      <td>136.470636</td>\n    </tr>\n    <tr>\n      <th>3</th>\n      <td>OKX:ETHUSDT.P</td>\n      <td>4877.70</td>\n      <td>85.39</td>\n      <td>1343.72%</td>\n      <td>78.571429</td>\n      <td>0.000000</td>\n      <td>39.335000</td>\n      <td>13.595599</td>\n      <td>45.222367</td>\n      <td>-40.310176</td>\n      <td>...</td>\n      <td>-4.745210</td>\n      <td>-7.439779</td>\n      <td>10.681202</td>\n      <td>-0.500000</td>\n      <td>0.090909</td>\n      <td>-0.204545</td>\n      <td>-0.900325</td>\n      <td>13.980056</td>\n      <td>54.170601</td>\n      <td>1345.307114</td>\n    </tr>\n    <tr>\n      <th>4</th>\n      <td>OKX:BTCUSDT.P</td>\n      <td>69158.00</td>\n      <td>3728.80</td>\n      <td>324.43%</td>\n      <td>78.571429</td>\n      <td>14.285714</td>\n      <td>578.735714</td>\n      <td>14.612957</td>\n      <td>657.174293</td>\n      <td>-710.044118</td>\n      <td>...</td>\n      <td>-4.913658</td>\n      <td>-0.832175</td>\n      <td>25.431424</td>\n      <td>-0.423077</td>\n      <td>0.000000</td>\n      <td>-0.211538</td>\n      <td>0.099568</td>\n      <td>28.229235</td>\n      <td>76.814196</td>\n      <td>341.672454</td>\n    </tr>\n  </tbody>\n</table>\n<p>5 rows × 151 columns</p>\n</div>"
     },
     "execution_count": 4,
     "metadata": {},
     "output_type": "execute_result"
    }
   ],
   "source": [
    "cs = tvs.CryptoScreener()\n",
    "df = cs.get()\n",
    "df.head()"
   ],
   "metadata": {
    "collapsed": false,
    "ExecuteTime": {
     "end_time": "2023-08-04T14:37:53.670977104Z",
     "start_time": "2023-08-04T14:37:52.873063669Z"
    }
   },
   "id": "bbede913c3cf6067"
  },
  {
   "cell_type": "markdown",
   "source": [
    "## Options"
   ],
   "metadata": {
    "collapsed": false
   },
   "id": "e6b09b518bdabd39"
  },
  {
   "cell_type": "markdown",
   "source": [
    "## Range"
   ],
   "metadata": {
    "collapsed": false
   },
   "id": "8c329b0e0edac821"
  },
  {
   "cell_type": "code",
   "execution_count": 5,
   "outputs": [
    {
     "data": {
      "text/plain": "            Symbol  All Time High  All Time Low All Time Performance  \\\n0      NASDAQ:AAPL   1.982300e+02      0.049107           144358.82%   \n1      NASDAQ:MSFT   3.667800e+02      0.088543           339912.14%   \n2      NASDAQ:GOOG   1.521000e+02     24.312350              358.63%   \n3     NASDAQ:GOOGL   1.515466e+02      2.401327             5066.47%   \n4      NASDAQ:AMZN   1.886539e+02      0.065624           115560.44%   \n...            ...            ...           ...                  ...   \n9995   NASDAQ:ABIO   6.320761e+06      1.710000             -100.00%   \n9996    NASDAQ:CYN   9.910000e+00      0.582400              -89.16%   \n9997      OTC:LWCL   3.950000e+01      8.500000               95.36%   \n9998      OTC:BXLC   6.800000e+01      5.700000               96.61%   \n9999      OTC:BAOB   1.873105e+01      1.081722              -48.43%   \n\n      Aroon Down (14)  Aroon Up (14)  Average Day Range (14)  \\\n0          100.000000      14.285714                2.905021   \n1           92.857143       7.142857                9.025707   \n2           21.428571      64.285714                2.735714   \n3           21.428571      64.285714                2.740714   \n4           50.000000     100.000000                3.045829   \n...               ...            ...                     ...   \n9995         7.142857      21.428571                0.029021   \n9996        28.571429      14.285714                0.078657   \n9997         0.000000     100.000000                0.474286   \n9998        35.714286      71.428571                0.168571   \n9999        35.714286     100.000000                0.027143   \n\n      Average Directional Index (14)  Average True Range (14)  \\\n0                          39.263114                 3.158088   \n1                          17.120689                 8.344818   \n2                          19.759158                 3.253748   \n3                          20.838071                 3.275636   \n4                          19.601410                 3.941433   \n...                              ...                      ...   \n9995                       12.070430                 0.034051   \n9996                       25.504060                 0.088444   \n9997                       43.223726                 1.130407   \n9998                       16.155653                 3.497701   \n9999                       15.504158                 0.086280   \n\n      Awesome Oscillator  ...  Monthly Performance raw  \\\n0               1.590986  ...                -3.213009   \n1              -6.845441  ...                -1.348891   \n2               6.808503  ...                 8.195902   \n3               7.067257  ...                 8.436766   \n4               2.379346  ...                 8.230958   \n...                  ...  ...                      ...   \n9995            0.002291  ...                 0.492611   \n9996           -0.138323  ...               -29.422764   \n9997           -1.890529  ...                13.910870   \n9998            3.303285  ...                 6.617647   \n9999            0.054735  ...                 3.205128   \n\n      3-Month Performance raw  6-Month Performance raw  \\\n0                    8.442755                25.251638   \n1                    8.128353                27.366669   \n2                   23.338397                25.495121   \n3                   23.354322                25.619353   \n4                   35.187494                33.916017   \n...                       ...                      ...   \n9995                -0.970874                -8.520179   \n9996               -12.313131               -28.256198   \n9997                24.318182               -20.770568   \n9998               -10.077519                -0.820793   \n9999                 9.152542                -8.392603   \n\n      Moving Averages Rating raw  Oscillators Rating raw Technical Rating raw  \\\n0                      -0.423077               -0.181818            -0.302448   \n1                      -0.269231                0.090909            -0.089161   \n2                       0.961538                0.181818             0.571678   \n3                       0.961538                0.181818             0.571678   \n4                       0.961538                0.272727             0.617133   \n...                          ...                     ...                  ...   \n9995                   -0.846154                0.000000            -0.423077   \n9996                   -0.961538                0.000000            -0.480769   \n9997                    0.269231                0.181818             0.225524   \n9998                   -0.115385                0.181818             0.033217   \n9999                    0.346154                0.090909             0.218531   \n\n     Weekly Performance raw  Yearly Performance raw  YTD Performance raw  \\\n0                 -4.756768               11.689407            42.316549   \n1                 -0.929062               17.306600            35.992266   \n2                 -0.816981                9.805579            44.606479   \n3                 -1.131672               10.061287            44.332198   \n4                  8.689953                0.270309            64.942663   \n...                     ...                     ...                  ...   \n9995               0.581797              -12.816787           -15.000000   \n9996              -7.648936              -32.179688            25.811594   \n9997                    NaN              -23.496717           -21.857143   \n9998                    NaN                4.504128            -4.132548   \n9999               0.311526              -19.696743           -11.780822   \n\n      5Y Performance raw  \n0             258.228276  \n1             206.651206  \n2             111.284787  \n3             107.680817  \n4              53.405513  \n...                  ...  \n9995          -85.075780  \n9996          -89.162297  \n9997          -28.120894  \n9998          152.173913  \n9999          -19.095477  \n\n[10000 rows x 297 columns]",
      "text/html": "<div>\n<style scoped>\n    .dataframe tbody tr th:only-of-type {\n        vertical-align: middle;\n    }\n\n    .dataframe tbody tr th {\n        vertical-align: top;\n    }\n\n    .dataframe thead th {\n        text-align: right;\n    }\n</style>\n<table border=\"1\" class=\"dataframe\">\n  <thead>\n    <tr style=\"text-align: right;\">\n      <th></th>\n      <th>Symbol</th>\n      <th>All Time High</th>\n      <th>All Time Low</th>\n      <th>All Time Performance</th>\n      <th>Aroon Down (14)</th>\n      <th>Aroon Up (14)</th>\n      <th>Average Day Range (14)</th>\n      <th>Average Directional Index (14)</th>\n      <th>Average True Range (14)</th>\n      <th>Awesome Oscillator</th>\n      <th>...</th>\n      <th>Monthly Performance raw</th>\n      <th>3-Month Performance raw</th>\n      <th>6-Month Performance raw</th>\n      <th>Moving Averages Rating raw</th>\n      <th>Oscillators Rating raw</th>\n      <th>Technical Rating raw</th>\n      <th>Weekly Performance raw</th>\n      <th>Yearly Performance raw</th>\n      <th>YTD Performance raw</th>\n      <th>5Y Performance raw</th>\n    </tr>\n  </thead>\n  <tbody>\n    <tr>\n      <th>0</th>\n      <td>NASDAQ:AAPL</td>\n      <td>1.982300e+02</td>\n      <td>0.049107</td>\n      <td>144358.82%</td>\n      <td>100.000000</td>\n      <td>14.285714</td>\n      <td>2.905021</td>\n      <td>39.263114</td>\n      <td>3.158088</td>\n      <td>1.590986</td>\n      <td>...</td>\n      <td>-3.213009</td>\n      <td>8.442755</td>\n      <td>25.251638</td>\n      <td>-0.423077</td>\n      <td>-0.181818</td>\n      <td>-0.302448</td>\n      <td>-4.756768</td>\n      <td>11.689407</td>\n      <td>42.316549</td>\n      <td>258.228276</td>\n    </tr>\n    <tr>\n      <th>1</th>\n      <td>NASDAQ:MSFT</td>\n      <td>3.667800e+02</td>\n      <td>0.088543</td>\n      <td>339912.14%</td>\n      <td>92.857143</td>\n      <td>7.142857</td>\n      <td>9.025707</td>\n      <td>17.120689</td>\n      <td>8.344818</td>\n      <td>-6.845441</td>\n      <td>...</td>\n      <td>-1.348891</td>\n      <td>8.128353</td>\n      <td>27.366669</td>\n      <td>-0.269231</td>\n      <td>0.090909</td>\n      <td>-0.089161</td>\n      <td>-0.929062</td>\n      <td>17.306600</td>\n      <td>35.992266</td>\n      <td>206.651206</td>\n    </tr>\n    <tr>\n      <th>2</th>\n      <td>NASDAQ:GOOG</td>\n      <td>1.521000e+02</td>\n      <td>24.312350</td>\n      <td>358.63%</td>\n      <td>21.428571</td>\n      <td>64.285714</td>\n      <td>2.735714</td>\n      <td>19.759158</td>\n      <td>3.253748</td>\n      <td>6.808503</td>\n      <td>...</td>\n      <td>8.195902</td>\n      <td>23.338397</td>\n      <td>25.495121</td>\n      <td>0.961538</td>\n      <td>0.181818</td>\n      <td>0.571678</td>\n      <td>-0.816981</td>\n      <td>9.805579</td>\n      <td>44.606479</td>\n      <td>111.284787</td>\n    </tr>\n    <tr>\n      <th>3</th>\n      <td>NASDAQ:GOOGL</td>\n      <td>1.515466e+02</td>\n      <td>2.401327</td>\n      <td>5066.47%</td>\n      <td>21.428571</td>\n      <td>64.285714</td>\n      <td>2.740714</td>\n      <td>20.838071</td>\n      <td>3.275636</td>\n      <td>7.067257</td>\n      <td>...</td>\n      <td>8.436766</td>\n      <td>23.354322</td>\n      <td>25.619353</td>\n      <td>0.961538</td>\n      <td>0.181818</td>\n      <td>0.571678</td>\n      <td>-1.131672</td>\n      <td>10.061287</td>\n      <td>44.332198</td>\n      <td>107.680817</td>\n    </tr>\n    <tr>\n      <th>4</th>\n      <td>NASDAQ:AMZN</td>\n      <td>1.886539e+02</td>\n      <td>0.065624</td>\n      <td>115560.44%</td>\n      <td>50.000000</td>\n      <td>100.000000</td>\n      <td>3.045829</td>\n      <td>19.601410</td>\n      <td>3.941433</td>\n      <td>2.379346</td>\n      <td>...</td>\n      <td>8.230958</td>\n      <td>35.187494</td>\n      <td>33.916017</td>\n      <td>0.961538</td>\n      <td>0.272727</td>\n      <td>0.617133</td>\n      <td>8.689953</td>\n      <td>0.270309</td>\n      <td>64.942663</td>\n      <td>53.405513</td>\n    </tr>\n    <tr>\n      <th>...</th>\n      <td>...</td>\n      <td>...</td>\n      <td>...</td>\n      <td>...</td>\n      <td>...</td>\n      <td>...</td>\n      <td>...</td>\n      <td>...</td>\n      <td>...</td>\n      <td>...</td>\n      <td>...</td>\n      <td>...</td>\n      <td>...</td>\n      <td>...</td>\n      <td>...</td>\n      <td>...</td>\n      <td>...</td>\n      <td>...</td>\n      <td>...</td>\n      <td>...</td>\n      <td>...</td>\n    </tr>\n    <tr>\n      <th>9995</th>\n      <td>NASDAQ:ABIO</td>\n      <td>6.320761e+06</td>\n      <td>1.710000</td>\n      <td>-100.00%</td>\n      <td>7.142857</td>\n      <td>21.428571</td>\n      <td>0.029021</td>\n      <td>12.070430</td>\n      <td>0.034051</td>\n      <td>0.002291</td>\n      <td>...</td>\n      <td>0.492611</td>\n      <td>-0.970874</td>\n      <td>-8.520179</td>\n      <td>-0.846154</td>\n      <td>0.000000</td>\n      <td>-0.423077</td>\n      <td>0.581797</td>\n      <td>-12.816787</td>\n      <td>-15.000000</td>\n      <td>-85.075780</td>\n    </tr>\n    <tr>\n      <th>9996</th>\n      <td>NASDAQ:CYN</td>\n      <td>9.910000e+00</td>\n      <td>0.582400</td>\n      <td>-89.16%</td>\n      <td>28.571429</td>\n      <td>14.285714</td>\n      <td>0.078657</td>\n      <td>25.504060</td>\n      <td>0.088444</td>\n      <td>-0.138323</td>\n      <td>...</td>\n      <td>-29.422764</td>\n      <td>-12.313131</td>\n      <td>-28.256198</td>\n      <td>-0.961538</td>\n      <td>0.000000</td>\n      <td>-0.480769</td>\n      <td>-7.648936</td>\n      <td>-32.179688</td>\n      <td>25.811594</td>\n      <td>-89.162297</td>\n    </tr>\n    <tr>\n      <th>9997</th>\n      <td>OTC:LWCL</td>\n      <td>3.950000e+01</td>\n      <td>8.500000</td>\n      <td>95.36%</td>\n      <td>0.000000</td>\n      <td>100.000000</td>\n      <td>0.474286</td>\n      <td>43.223726</td>\n      <td>1.130407</td>\n      <td>-1.890529</td>\n      <td>...</td>\n      <td>13.910870</td>\n      <td>24.318182</td>\n      <td>-20.770568</td>\n      <td>0.269231</td>\n      <td>0.181818</td>\n      <td>0.225524</td>\n      <td>NaN</td>\n      <td>-23.496717</td>\n      <td>-21.857143</td>\n      <td>-28.120894</td>\n    </tr>\n    <tr>\n      <th>9998</th>\n      <td>OTC:BXLC</td>\n      <td>6.800000e+01</td>\n      <td>5.700000</td>\n      <td>96.61%</td>\n      <td>35.714286</td>\n      <td>71.428571</td>\n      <td>0.168571</td>\n      <td>16.155653</td>\n      <td>3.497701</td>\n      <td>3.303285</td>\n      <td>...</td>\n      <td>6.617647</td>\n      <td>-10.077519</td>\n      <td>-0.820793</td>\n      <td>-0.115385</td>\n      <td>0.181818</td>\n      <td>0.033217</td>\n      <td>NaN</td>\n      <td>4.504128</td>\n      <td>-4.132548</td>\n      <td>152.173913</td>\n    </tr>\n    <tr>\n      <th>9999</th>\n      <td>OTC:BAOB</td>\n      <td>1.873105e+01</td>\n      <td>1.081722</td>\n      <td>-48.43%</td>\n      <td>35.714286</td>\n      <td>100.000000</td>\n      <td>0.027143</td>\n      <td>15.504158</td>\n      <td>0.086280</td>\n      <td>0.054735</td>\n      <td>...</td>\n      <td>3.205128</td>\n      <td>9.152542</td>\n      <td>-8.392603</td>\n      <td>0.346154</td>\n      <td>0.090909</td>\n      <td>0.218531</td>\n      <td>0.311526</td>\n      <td>-19.696743</td>\n      <td>-11.780822</td>\n      <td>-19.095477</td>\n    </tr>\n  </tbody>\n</table>\n<p>10000 rows × 297 columns</p>\n</div>"
     },
     "execution_count": 5,
     "metadata": {},
     "output_type": "execute_result"
    }
   ],
   "source": [
    "ss = tvs.StockScreener()\n",
    "ss.set_range(0, 10000)\n",
    "df = ss.get()\n",
    "df"
   ],
   "metadata": {
    "collapsed": false,
    "ExecuteTime": {
     "end_time": "2023-08-04T14:37:58.913669712Z",
     "start_time": "2023-08-04T14:37:53.672724944Z"
    }
   },
   "id": "47a993423929c7bb"
  },
  {
   "cell_type": "markdown",
   "source": [
    "# Sorting"
   ],
   "metadata": {
    "collapsed": false
   },
   "id": "31911fef050e517b"
  },
  {
   "cell_type": "code",
   "execution_count": 6,
   "outputs": [
    {
     "data": {
      "text/plain": "      Symbol  All Time High  All Time Low All Time Performance  \\\n0  OTC:FNMAS       32.00000        0.2500              -91.49%   \n1  OTC:FNMAM       56.89999        0.3100              -93.74%   \n2  OTC:FNMAG       54.50000        0.4245              -94.11%   \n3  OTC:FNMAN       53.00000        0.0500              -93.11%   \n4  OTC:FNMAI       26.00000        0.2500              -92.95%   \n\n   Aroon Down (14)  Aroon Up (14)  Average Day Range (14)  \\\n0       100.000000      14.285714                0.073214   \n1       100.000000       0.000000                0.034700   \n2         0.000000      50.000000                0.027721   \n3         7.142857      14.285714                0.120357   \n4        78.571429      35.714286                0.022157   \n\n   Average Directional Index (14)  Average True Range (14)  \\\n0                       19.840482                 0.085915   \n1                       24.166869                 0.102462   \n2                       25.133846                 0.117675   \n3                       18.007971                 0.214717   \n4                       35.428654                 0.064896   \n\n   Awesome Oscillator  ...  Monthly Performance raw  3-Month Performance raw  \\\n0           -0.063618  ...                -4.444444                31.097561   \n1            0.273586  ...                -4.675716                23.921569   \n2            0.356745  ...                -9.230769                19.433198   \n3            0.269538  ...                -6.250000                16.161616   \n4            0.216059  ...                -7.772021                42.400000   \n\n   6-Month Performance raw  Moving Averages Rating raw  \\\n0               -11.157025                   -0.115385   \n1                -2.469136                   -0.423077   \n2                -2.640264                   -0.269231   \n3                -8.488064                   -0.192308   \n4                -4.043127                   -0.192308   \n\n   Oscillators Rating raw Technical Rating raw Weekly Performance raw  \\\n0                0.181818             0.033217              -2.272727   \n1               -0.272727            -0.347902              -1.250000   \n2               -0.181818            -0.225524              -8.099688   \n3                0.090909            -0.050699              -5.994550   \n4               -0.181818            -0.187063              -2.465753   \n\n   Yearly Performance raw  YTD Performance raw  5Y Performance raw  \n0              -33.229814            -8.119658          -65.873016  \n1              -25.995316             7.118644          -66.736842  \n2              -32.954545             1.724138          -68.947368  \n3              -25.854288           -16.229604          -63.141026  \n4              -29.365079            -1.111111          -65.166341  \n\n[5 rows x 297 columns]",
      "text/html": "<div>\n<style scoped>\n    .dataframe tbody tr th:only-of-type {\n        vertical-align: middle;\n    }\n\n    .dataframe tbody tr th {\n        vertical-align: top;\n    }\n\n    .dataframe thead th {\n        text-align: right;\n    }\n</style>\n<table border=\"1\" class=\"dataframe\">\n  <thead>\n    <tr style=\"text-align: right;\">\n      <th></th>\n      <th>Symbol</th>\n      <th>All Time High</th>\n      <th>All Time Low</th>\n      <th>All Time Performance</th>\n      <th>Aroon Down (14)</th>\n      <th>Aroon Up (14)</th>\n      <th>Average Day Range (14)</th>\n      <th>Average Directional Index (14)</th>\n      <th>Average True Range (14)</th>\n      <th>Awesome Oscillator</th>\n      <th>...</th>\n      <th>Monthly Performance raw</th>\n      <th>3-Month Performance raw</th>\n      <th>6-Month Performance raw</th>\n      <th>Moving Averages Rating raw</th>\n      <th>Oscillators Rating raw</th>\n      <th>Technical Rating raw</th>\n      <th>Weekly Performance raw</th>\n      <th>Yearly Performance raw</th>\n      <th>YTD Performance raw</th>\n      <th>5Y Performance raw</th>\n    </tr>\n  </thead>\n  <tbody>\n    <tr>\n      <th>0</th>\n      <td>OTC:FNMAS</td>\n      <td>32.00000</td>\n      <td>0.2500</td>\n      <td>-91.49%</td>\n      <td>100.000000</td>\n      <td>14.285714</td>\n      <td>0.073214</td>\n      <td>19.840482</td>\n      <td>0.085915</td>\n      <td>-0.063618</td>\n      <td>...</td>\n      <td>-4.444444</td>\n      <td>31.097561</td>\n      <td>-11.157025</td>\n      <td>-0.115385</td>\n      <td>0.181818</td>\n      <td>0.033217</td>\n      <td>-2.272727</td>\n      <td>-33.229814</td>\n      <td>-8.119658</td>\n      <td>-65.873016</td>\n    </tr>\n    <tr>\n      <th>1</th>\n      <td>OTC:FNMAM</td>\n      <td>56.89999</td>\n      <td>0.3100</td>\n      <td>-93.74%</td>\n      <td>100.000000</td>\n      <td>0.000000</td>\n      <td>0.034700</td>\n      <td>24.166869</td>\n      <td>0.102462</td>\n      <td>0.273586</td>\n      <td>...</td>\n      <td>-4.675716</td>\n      <td>23.921569</td>\n      <td>-2.469136</td>\n      <td>-0.423077</td>\n      <td>-0.272727</td>\n      <td>-0.347902</td>\n      <td>-1.250000</td>\n      <td>-25.995316</td>\n      <td>7.118644</td>\n      <td>-66.736842</td>\n    </tr>\n    <tr>\n      <th>2</th>\n      <td>OTC:FNMAG</td>\n      <td>54.50000</td>\n      <td>0.4245</td>\n      <td>-94.11%</td>\n      <td>0.000000</td>\n      <td>50.000000</td>\n      <td>0.027721</td>\n      <td>25.133846</td>\n      <td>0.117675</td>\n      <td>0.356745</td>\n      <td>...</td>\n      <td>-9.230769</td>\n      <td>19.433198</td>\n      <td>-2.640264</td>\n      <td>-0.269231</td>\n      <td>-0.181818</td>\n      <td>-0.225524</td>\n      <td>-8.099688</td>\n      <td>-32.954545</td>\n      <td>1.724138</td>\n      <td>-68.947368</td>\n    </tr>\n    <tr>\n      <th>3</th>\n      <td>OTC:FNMAN</td>\n      <td>53.00000</td>\n      <td>0.0500</td>\n      <td>-93.11%</td>\n      <td>7.142857</td>\n      <td>14.285714</td>\n      <td>0.120357</td>\n      <td>18.007971</td>\n      <td>0.214717</td>\n      <td>0.269538</td>\n      <td>...</td>\n      <td>-6.250000</td>\n      <td>16.161616</td>\n      <td>-8.488064</td>\n      <td>-0.192308</td>\n      <td>0.090909</td>\n      <td>-0.050699</td>\n      <td>-5.994550</td>\n      <td>-25.854288</td>\n      <td>-16.229604</td>\n      <td>-63.141026</td>\n    </tr>\n    <tr>\n      <th>4</th>\n      <td>OTC:FNMAI</td>\n      <td>26.00000</td>\n      <td>0.2500</td>\n      <td>-92.95%</td>\n      <td>78.571429</td>\n      <td>35.714286</td>\n      <td>0.022157</td>\n      <td>35.428654</td>\n      <td>0.064896</td>\n      <td>0.216059</td>\n      <td>...</td>\n      <td>-7.772021</td>\n      <td>42.400000</td>\n      <td>-4.043127</td>\n      <td>-0.192308</td>\n      <td>-0.181818</td>\n      <td>-0.187063</td>\n      <td>-2.465753</td>\n      <td>-29.365079</td>\n      <td>-1.111111</td>\n      <td>-65.166341</td>\n    </tr>\n  </tbody>\n</table>\n<p>5 rows × 297 columns</p>\n</div>"
     },
     "execution_count": 6,
     "metadata": {},
     "output_type": "execute_result"
    }
   ],
   "source": [
    "ss = tvs.StockScreener()\n",
    "ss.sort_by('ebitda', 'desc')\n",
    "df = ss.get()\n",
    "df.head()"
   ],
   "metadata": {
    "collapsed": false,
    "ExecuteTime": {
     "end_time": "2023-08-04T14:37:59.648937233Z",
     "start_time": "2023-08-04T14:37:58.914180Z"
    }
   },
   "id": "293d3c14f5cf6b4f"
  },
  {
   "cell_type": "markdown",
   "source": [
    "# Filters"
   ],
   "metadata": {
    "collapsed": false
   },
   "id": "247e54be1899a203"
  },
  {
   "cell_type": "markdown",
   "source": [
    "## Markets"
   ],
   "metadata": {
    "collapsed": false
   },
   "id": "4592f2c3da23c6f1"
  },
  {
   "cell_type": "code",
   "execution_count": 7,
   "outputs": [
    {
     "data": {
      "text/plain": "       Symbol  All Time High  All Time Low All Time Performance  \\\n0  KRX:005935      86800.000     4200.0000             1236.49%   \n1  KRX:005930      96800.000      261.7141            21478.20%   \n2  KRX:373220     629000.000   352000.0000               -9.55%   \n3  KRX:000660     150500.000     5030.0000             1663.58%   \n4  KRX:207940    1036002.312   124181.7480              495.89%   \n\n   Aroon Down (14)  Aroon Up (14)  Average Day Range (14)  \\\n0             50.0       7.142857              985.714286   \n1             50.0       0.000000             1414.285714   \n2              0.0      50.000000            23142.857143   \n3             50.0      64.285714             4235.714286   \n4             50.0     100.000000            21714.285714   \n\n   Average Directional Index (14)  Average True Range (14)  \\\n0                       20.376097               987.416005   \n1                       18.281098              1357.783659   \n2                       12.505573             19016.624646   \n3                       23.718364              4187.168870   \n4                       19.871561             20869.999353   \n\n   Awesome Oscillator  ...  Monthly Performance raw  3-Month Performance raw  \\\n0        -1467.058824  ...                -5.843072                 2.732240   \n1        -1437.647059  ...                -6.438356                 4.115854   \n2        -7617.647059  ...                -5.096661                -4.085258   \n3         5530.588235  ...                 1.693480                35.095613   \n4        39317.647059  ...                 5.430464                 3.242542   \n\n   6-Month Performance raw  Moving Averages Rating raw  \\\n0                -1.225919                   -0.807692   \n1                 6.885759                   -0.500000   \n2                 1.313321                   -0.884615   \n3                29.978355                    0.500000   \n4                -1.363073                    0.730769   \n\n   Oscillators Rating raw Technical Rating raw Weekly Performance raw  \\\n0               -0.090909            -0.449301              -3.754266   \n1                0.000000            -0.250000              -4.874652   \n2               -0.181818            -0.533217               0.000000   \n3                0.272727             0.386364              -4.833597   \n4               -0.272727             0.229021               0.632111   \n\n   Yearly Performance raw  YTD Performance raw  5Y Performance raw  \n0               -0.353357            11.242604           47.837484  \n1               10.696921            23.063063           48.964013  \n2               21.484814            22.171946           -9.547739  \n3               22.551020            59.920107           42.976190  \n4               -8.820160            -4.211793          109.492172  \n\n[5 rows x 297 columns]",
      "text/html": "<div>\n<style scoped>\n    .dataframe tbody tr th:only-of-type {\n        vertical-align: middle;\n    }\n\n    .dataframe tbody tr th {\n        vertical-align: top;\n    }\n\n    .dataframe thead th {\n        text-align: right;\n    }\n</style>\n<table border=\"1\" class=\"dataframe\">\n  <thead>\n    <tr style=\"text-align: right;\">\n      <th></th>\n      <th>Symbol</th>\n      <th>All Time High</th>\n      <th>All Time Low</th>\n      <th>All Time Performance</th>\n      <th>Aroon Down (14)</th>\n      <th>Aroon Up (14)</th>\n      <th>Average Day Range (14)</th>\n      <th>Average Directional Index (14)</th>\n      <th>Average True Range (14)</th>\n      <th>Awesome Oscillator</th>\n      <th>...</th>\n      <th>Monthly Performance raw</th>\n      <th>3-Month Performance raw</th>\n      <th>6-Month Performance raw</th>\n      <th>Moving Averages Rating raw</th>\n      <th>Oscillators Rating raw</th>\n      <th>Technical Rating raw</th>\n      <th>Weekly Performance raw</th>\n      <th>Yearly Performance raw</th>\n      <th>YTD Performance raw</th>\n      <th>5Y Performance raw</th>\n    </tr>\n  </thead>\n  <tbody>\n    <tr>\n      <th>0</th>\n      <td>KRX:005935</td>\n      <td>86800.000</td>\n      <td>4200.0000</td>\n      <td>1236.49%</td>\n      <td>50.0</td>\n      <td>7.142857</td>\n      <td>985.714286</td>\n      <td>20.376097</td>\n      <td>987.416005</td>\n      <td>-1467.058824</td>\n      <td>...</td>\n      <td>-5.843072</td>\n      <td>2.732240</td>\n      <td>-1.225919</td>\n      <td>-0.807692</td>\n      <td>-0.090909</td>\n      <td>-0.449301</td>\n      <td>-3.754266</td>\n      <td>-0.353357</td>\n      <td>11.242604</td>\n      <td>47.837484</td>\n    </tr>\n    <tr>\n      <th>1</th>\n      <td>KRX:005930</td>\n      <td>96800.000</td>\n      <td>261.7141</td>\n      <td>21478.20%</td>\n      <td>50.0</td>\n      <td>0.000000</td>\n      <td>1414.285714</td>\n      <td>18.281098</td>\n      <td>1357.783659</td>\n      <td>-1437.647059</td>\n      <td>...</td>\n      <td>-6.438356</td>\n      <td>4.115854</td>\n      <td>6.885759</td>\n      <td>-0.500000</td>\n      <td>0.000000</td>\n      <td>-0.250000</td>\n      <td>-4.874652</td>\n      <td>10.696921</td>\n      <td>23.063063</td>\n      <td>48.964013</td>\n    </tr>\n    <tr>\n      <th>2</th>\n      <td>KRX:373220</td>\n      <td>629000.000</td>\n      <td>352000.0000</td>\n      <td>-9.55%</td>\n      <td>0.0</td>\n      <td>50.000000</td>\n      <td>23142.857143</td>\n      <td>12.505573</td>\n      <td>19016.624646</td>\n      <td>-7617.647059</td>\n      <td>...</td>\n      <td>-5.096661</td>\n      <td>-4.085258</td>\n      <td>1.313321</td>\n      <td>-0.884615</td>\n      <td>-0.181818</td>\n      <td>-0.533217</td>\n      <td>0.000000</td>\n      <td>21.484814</td>\n      <td>22.171946</td>\n      <td>-9.547739</td>\n    </tr>\n    <tr>\n      <th>3</th>\n      <td>KRX:000660</td>\n      <td>150500.000</td>\n      <td>5030.0000</td>\n      <td>1663.58%</td>\n      <td>50.0</td>\n      <td>64.285714</td>\n      <td>4235.714286</td>\n      <td>23.718364</td>\n      <td>4187.168870</td>\n      <td>5530.588235</td>\n      <td>...</td>\n      <td>1.693480</td>\n      <td>35.095613</td>\n      <td>29.978355</td>\n      <td>0.500000</td>\n      <td>0.272727</td>\n      <td>0.386364</td>\n      <td>-4.833597</td>\n      <td>22.551020</td>\n      <td>59.920107</td>\n      <td>42.976190</td>\n    </tr>\n    <tr>\n      <th>4</th>\n      <td>KRX:207940</td>\n      <td>1036002.312</td>\n      <td>124181.7480</td>\n      <td>495.89%</td>\n      <td>50.0</td>\n      <td>100.000000</td>\n      <td>21714.285714</td>\n      <td>19.871561</td>\n      <td>20869.999353</td>\n      <td>39317.647059</td>\n      <td>...</td>\n      <td>5.430464</td>\n      <td>3.242542</td>\n      <td>-1.363073</td>\n      <td>0.730769</td>\n      <td>-0.272727</td>\n      <td>0.229021</td>\n      <td>0.632111</td>\n      <td>-8.820160</td>\n      <td>-4.211793</td>\n      <td>109.492172</td>\n    </tr>\n  </tbody>\n</table>\n<p>5 rows × 297 columns</p>\n</div>"
     },
     "execution_count": 7,
     "metadata": {},
     "output_type": "execute_result"
    }
   ],
   "source": [
    "ss = tvs.StockScreener()\n",
    "ss.set_markets('korea')\n",
    "df = ss.get()\n",
    "df.head()"
   ],
   "metadata": {
    "collapsed": false,
    "ExecuteTime": {
     "end_time": "2023-08-04T14:38:00.487021201Z",
     "start_time": "2023-08-04T14:37:59.649585797Z"
    }
   },
   "id": "7f6b8ff3f9bf5cf5"
  },
  {
   "cell_type": "code",
   "execution_count": 8,
   "outputs": [
    {
     "name": "stdout",
     "output_type": "stream",
     "text": [
      "['america', 'uk', 'india', 'spain', 'russia', 'australia', 'brazil', 'japan', 'newzealand', 'turkey', 'switzerland', 'hongkong', 'taiwan', 'netherlands', 'belgium', 'portugal', 'france', 'mexico', 'canada', 'colombia', 'uae', 'nigeria', 'singapore', 'germany', 'pakistan', 'peru', 'poland', 'italy', 'argentina', 'israel', 'egypt', 'srilanka', 'serbia', 'chile', 'china', 'malaysia', 'morocco', 'ksa', 'bahrain', 'qatar', 'indonesia', 'finland', 'iceland', 'denmark', 'romania', 'hungary', 'sweden', 'slovakia', 'lithuania', 'luxembourg', 'estonia', 'latvia', 'vietnam', 'rsa', 'thailand', 'tunisia', 'korea', 'kenya', 'kuwait', 'norway', 'philippines', 'greece', 'venezuela', 'cyprus', 'bangladesh']\n"
     ]
    }
   ],
   "source": [
    "# List the available stock markets\n",
    "from tvscreener import StocksMarket\n",
    "\n",
    "print(StocksMarket.values())"
   ],
   "metadata": {
    "collapsed": false,
    "ExecuteTime": {
     "end_time": "2023-08-04T14:38:00.557173998Z",
     "start_time": "2023-08-04T14:38:00.486478521Z"
    }
   },
   "id": "3ed464ea6f5604b1"
  },
  {
   "cell_type": "markdown",
   "source": [
    "### Prebuilt filter by field"
   ],
   "metadata": {
    "collapsed": false
   },
   "id": "b26cbeac916a18fb"
  },
  {
   "cell_type": "code",
   "execution_count": 9,
   "outputs": [
    {
     "data": {
      "text/plain": "        Symbol  All Time High  All Time Low All Time Performance  \\\n0  NASDAQ:GOOG      152.10000     24.312350              357.64%   \n1  NASDAQ:AMZN      188.65391      0.065624           115617.46%   \n2     NYSE:UNH      558.10000      0.082031           350883.53%   \n3    OTC:BABAF       41.17000      7.350000              -50.26%   \n4    OTC:BACRP      360.00000      8.000000             2837.50%   \n\n   Aroon Down (14)  Aroon Up (14)  Average Day Range (14)  \\\n0        21.428571      64.285714                2.735714   \n1        50.000000     100.000000                3.045829   \n2         0.000000      50.000000                8.148571   \n3        14.285714      78.571429                0.378047   \n4         7.142857      92.857143               11.015714   \n\n   Average Directional Index (14)  Average True Range (14)  \\\n0                       19.759158                 3.253748   \n1                       19.601410                 3.941433   \n2                       23.607926                 8.883447   \n3                       21.280179                 0.457231   \n4                       45.619900                13.172119   \n\n   Awesome Oscillator  ...  Monthly Performance raw  3-Month Performance raw  \\\n0            6.808503  ...                 7.962685                23.072541   \n1            2.379346  ...                 8.284321                35.254148   \n2           20.163190  ...                 6.564712                 2.675788   \n3            1.063980  ...                16.123020                21.418827   \n4           10.633531  ...                13.526570               -17.543860   \n\n   6-Month Performance raw  Moving Averages Rating raw  \\\n0                25.224616                    0.961538   \n1                33.982044                    0.961538   \n2                 6.744103                    0.961538   \n3                -8.348658                    0.961538   \n4                11.904762                    0.875000   \n\n   Oscillators Rating raw Technical Rating raw Weekly Performance raw  \\\n0                0.181818             0.571678              -1.030770   \n1                0.272727             0.617133               8.743542   \n2                0.181818             0.571678               0.409731   \n3                0.272727             0.617133               1.300813   \n4                0.181818             0.528409               9.302326   \n\n   Yearly Performance raw  YTD Performance raw  5Y Performance raw  \n0                9.568893            44.294779          110.829362  \n1                0.319747            65.023988           53.481149  \n2               -5.935582            -3.399158           97.808540  \n3                7.228916             7.748184          -50.259481  \n4               38.235294           -21.666667         2837.500000  \n\n[5 rows x 297 columns]",
      "text/html": "<div>\n<style scoped>\n    .dataframe tbody tr th:only-of-type {\n        vertical-align: middle;\n    }\n\n    .dataframe tbody tr th {\n        vertical-align: top;\n    }\n\n    .dataframe thead th {\n        text-align: right;\n    }\n</style>\n<table border=\"1\" class=\"dataframe\">\n  <thead>\n    <tr style=\"text-align: right;\">\n      <th></th>\n      <th>Symbol</th>\n      <th>All Time High</th>\n      <th>All Time Low</th>\n      <th>All Time Performance</th>\n      <th>Aroon Down (14)</th>\n      <th>Aroon Up (14)</th>\n      <th>Average Day Range (14)</th>\n      <th>Average Directional Index (14)</th>\n      <th>Average True Range (14)</th>\n      <th>Awesome Oscillator</th>\n      <th>...</th>\n      <th>Monthly Performance raw</th>\n      <th>3-Month Performance raw</th>\n      <th>6-Month Performance raw</th>\n      <th>Moving Averages Rating raw</th>\n      <th>Oscillators Rating raw</th>\n      <th>Technical Rating raw</th>\n      <th>Weekly Performance raw</th>\n      <th>Yearly Performance raw</th>\n      <th>YTD Performance raw</th>\n      <th>5Y Performance raw</th>\n    </tr>\n  </thead>\n  <tbody>\n    <tr>\n      <th>0</th>\n      <td>NASDAQ:GOOG</td>\n      <td>152.10000</td>\n      <td>24.312350</td>\n      <td>357.64%</td>\n      <td>21.428571</td>\n      <td>64.285714</td>\n      <td>2.735714</td>\n      <td>19.759158</td>\n      <td>3.253748</td>\n      <td>6.808503</td>\n      <td>...</td>\n      <td>7.962685</td>\n      <td>23.072541</td>\n      <td>25.224616</td>\n      <td>0.961538</td>\n      <td>0.181818</td>\n      <td>0.571678</td>\n      <td>-1.030770</td>\n      <td>9.568893</td>\n      <td>44.294779</td>\n      <td>110.829362</td>\n    </tr>\n    <tr>\n      <th>1</th>\n      <td>NASDAQ:AMZN</td>\n      <td>188.65391</td>\n      <td>0.065624</td>\n      <td>115617.46%</td>\n      <td>50.000000</td>\n      <td>100.000000</td>\n      <td>3.045829</td>\n      <td>19.601410</td>\n      <td>3.941433</td>\n      <td>2.379346</td>\n      <td>...</td>\n      <td>8.284321</td>\n      <td>35.254148</td>\n      <td>33.982044</td>\n      <td>0.961538</td>\n      <td>0.272727</td>\n      <td>0.617133</td>\n      <td>8.743542</td>\n      <td>0.319747</td>\n      <td>65.023988</td>\n      <td>53.481149</td>\n    </tr>\n    <tr>\n      <th>2</th>\n      <td>NYSE:UNH</td>\n      <td>558.10000</td>\n      <td>0.082031</td>\n      <td>350883.53%</td>\n      <td>0.000000</td>\n      <td>50.000000</td>\n      <td>8.148571</td>\n      <td>23.607926</td>\n      <td>8.883447</td>\n      <td>20.163190</td>\n      <td>...</td>\n      <td>6.564712</td>\n      <td>2.675788</td>\n      <td>6.744103</td>\n      <td>0.961538</td>\n      <td>0.181818</td>\n      <td>0.571678</td>\n      <td>0.409731</td>\n      <td>-5.935582</td>\n      <td>-3.399158</td>\n      <td>97.808540</td>\n    </tr>\n    <tr>\n      <th>3</th>\n      <td>OTC:BABAF</td>\n      <td>41.17000</td>\n      <td>7.350000</td>\n      <td>-50.26%</td>\n      <td>14.285714</td>\n      <td>78.571429</td>\n      <td>0.378047</td>\n      <td>21.280179</td>\n      <td>0.457231</td>\n      <td>1.063980</td>\n      <td>...</td>\n      <td>16.123020</td>\n      <td>21.418827</td>\n      <td>-8.348658</td>\n      <td>0.961538</td>\n      <td>0.272727</td>\n      <td>0.617133</td>\n      <td>1.300813</td>\n      <td>7.228916</td>\n      <td>7.748184</td>\n      <td>-50.259481</td>\n    </tr>\n    <tr>\n      <th>4</th>\n      <td>OTC:BACRP</td>\n      <td>360.00000</td>\n      <td>8.000000</td>\n      <td>2837.50%</td>\n      <td>7.142857</td>\n      <td>92.857143</td>\n      <td>11.015714</td>\n      <td>45.619900</td>\n      <td>13.172119</td>\n      <td>10.633531</td>\n      <td>...</td>\n      <td>13.526570</td>\n      <td>-17.543860</td>\n      <td>11.904762</td>\n      <td>0.875000</td>\n      <td>0.181818</td>\n      <td>0.528409</td>\n      <td>9.302326</td>\n      <td>38.235294</td>\n      <td>-21.666667</td>\n      <td>2837.500000</td>\n    </tr>\n  </tbody>\n</table>\n<p>5 rows × 297 columns</p>\n</div>"
     },
     "execution_count": 9,
     "metadata": {},
     "output_type": "execute_result"
    }
   ],
   "source": [
    "from tvscreener.filter import RatingFilter, Rating\n",
    "\n",
    "ss = tvs.StockScreener()\n",
    "\n",
    "# `Recommend.All` is the field name for the overall rating\n",
    "filter_rating = RatingFilter('Recommend.All', Rating.STRONG_BUY)\n",
    "\n",
    "ss.add_prebuilt_filter(filter_rating)\n",
    "df = ss.get()\n",
    "df.head()"
   ],
   "metadata": {
    "collapsed": false,
    "ExecuteTime": {
     "end_time": "2023-08-04T14:38:01.464613352Z",
     "start_time": "2023-08-04T14:38:00.530484735Z"
    }
   },
   "id": "1efed19065f4c7ad"
  },
  {
   "cell_type": "markdown",
   "source": [
    "### Low level filter"
   ],
   "metadata": {
    "collapsed": false
   },
   "id": "9445a44e175d0a84"
  },
  {
   "cell_type": "code",
   "execution_count": 10,
   "outputs": [
    {
     "data": {
      "text/plain": "         Symbol  All Time High  All Time Low All Time Performance  \\\n0  NASDAQ:CMCSA      61.800000      0.007316            73832.23%   \n1      NYSE:IBM     206.219898      8.984511              892.33%   \n2   NASDAQ:AMGN     296.670000      0.078124            70745.71%   \n3    NASDAQ:HON     236.860000      5.920335             1777.88%   \n4      NYSE:RTX     106.020000      0.382458             5491.73%   \n\n   Aroon Down (14)  Aroon Up (14)  Average Day Range (14)  \\\n0         0.000000      57.142857                0.767379   \n1         0.000000     100.000000                1.694586   \n2         0.000000     100.000000                3.999850   \n3       100.000000      28.571429                2.958993   \n4        42.857143       7.142857                1.918657   \n\n   Average Directional Index (14)  Average True Range (14)  \\\n0                       31.509903                 0.822266   \n1                       41.588645                 1.841549   \n2                       20.217360                 4.562985   \n3                       24.942259                 3.231986   \n4                       34.451716                 2.152271   \n\n   Awesome Oscillator  ...  Monthly Performance raw  3-Month Performance raw  \\\n0            2.731914  ...                 8.379418                11.104264   \n1            7.546269  ...                 9.042154                18.085452   \n2            5.031657  ...                 8.399359                 4.672054   \n3          -10.280335  ...                -8.144359                -3.461741   \n4           -7.795394  ...               -13.385023               -11.865462   \n\n   6-Month Performance raw  Moving Averages Rating raw  \\\n0                10.450870                    0.807692   \n1                 6.618995                    0.961538   \n2                -2.572412                    0.884615   \n3                -8.055695                   -0.884615   \n4               -12.257131                   -0.961538   \n\n   Oscillators Rating raw Technical Rating raw Weekly Performance raw  \\\n0                0.090909             0.449301              -1.711731   \n1                0.181818             0.571678               1.348996   \n2                0.363636             0.624126               2.833376   \n3               -0.090909            -0.487762              -3.618031   \n4                0.090909            -0.435315              -0.701754   \n\n   Yearly Performance raw  YTD Performance raw  5Y Performance raw  \n0               16.835148            29.006869           29.006869  \n1               10.007567             3.029766            6.254534  \n2               -1.404858            -6.646989           24.079075  \n3               -0.325119           -11.453126           27.759236  \n4              -10.291631           -15.932271            6.846377  \n\n[5 rows x 297 columns]",
      "text/html": "<div>\n<style scoped>\n    .dataframe tbody tr th:only-of-type {\n        vertical-align: middle;\n    }\n\n    .dataframe tbody tr th {\n        vertical-align: top;\n    }\n\n    .dataframe thead th {\n        text-align: right;\n    }\n</style>\n<table border=\"1\" class=\"dataframe\">\n  <thead>\n    <tr style=\"text-align: right;\">\n      <th></th>\n      <th>Symbol</th>\n      <th>All Time High</th>\n      <th>All Time Low</th>\n      <th>All Time Performance</th>\n      <th>Aroon Down (14)</th>\n      <th>Aroon Up (14)</th>\n      <th>Average Day Range (14)</th>\n      <th>Average Directional Index (14)</th>\n      <th>Average True Range (14)</th>\n      <th>Awesome Oscillator</th>\n      <th>...</th>\n      <th>Monthly Performance raw</th>\n      <th>3-Month Performance raw</th>\n      <th>6-Month Performance raw</th>\n      <th>Moving Averages Rating raw</th>\n      <th>Oscillators Rating raw</th>\n      <th>Technical Rating raw</th>\n      <th>Weekly Performance raw</th>\n      <th>Yearly Performance raw</th>\n      <th>YTD Performance raw</th>\n      <th>5Y Performance raw</th>\n    </tr>\n  </thead>\n  <tbody>\n    <tr>\n      <th>0</th>\n      <td>NASDAQ:CMCSA</td>\n      <td>61.800000</td>\n      <td>0.007316</td>\n      <td>73832.23%</td>\n      <td>0.000000</td>\n      <td>57.142857</td>\n      <td>0.767379</td>\n      <td>31.509903</td>\n      <td>0.822266</td>\n      <td>2.731914</td>\n      <td>...</td>\n      <td>8.379418</td>\n      <td>11.104264</td>\n      <td>10.450870</td>\n      <td>0.807692</td>\n      <td>0.090909</td>\n      <td>0.449301</td>\n      <td>-1.711731</td>\n      <td>16.835148</td>\n      <td>29.006869</td>\n      <td>29.006869</td>\n    </tr>\n    <tr>\n      <th>1</th>\n      <td>NYSE:IBM</td>\n      <td>206.219898</td>\n      <td>8.984511</td>\n      <td>892.33%</td>\n      <td>0.000000</td>\n      <td>100.000000</td>\n      <td>1.694586</td>\n      <td>41.588645</td>\n      <td>1.841549</td>\n      <td>7.546269</td>\n      <td>...</td>\n      <td>9.042154</td>\n      <td>18.085452</td>\n      <td>6.618995</td>\n      <td>0.961538</td>\n      <td>0.181818</td>\n      <td>0.571678</td>\n      <td>1.348996</td>\n      <td>10.007567</td>\n      <td>3.029766</td>\n      <td>6.254534</td>\n    </tr>\n    <tr>\n      <th>2</th>\n      <td>NASDAQ:AMGN</td>\n      <td>296.670000</td>\n      <td>0.078124</td>\n      <td>70745.71%</td>\n      <td>0.000000</td>\n      <td>100.000000</td>\n      <td>3.999850</td>\n      <td>20.217360</td>\n      <td>4.562985</td>\n      <td>5.031657</td>\n      <td>...</td>\n      <td>8.399359</td>\n      <td>4.672054</td>\n      <td>-2.572412</td>\n      <td>0.884615</td>\n      <td>0.363636</td>\n      <td>0.624126</td>\n      <td>2.833376</td>\n      <td>-1.404858</td>\n      <td>-6.646989</td>\n      <td>24.079075</td>\n    </tr>\n    <tr>\n      <th>3</th>\n      <td>NASDAQ:HON</td>\n      <td>236.860000</td>\n      <td>5.920335</td>\n      <td>1777.88%</td>\n      <td>100.000000</td>\n      <td>28.571429</td>\n      <td>2.958993</td>\n      <td>24.942259</td>\n      <td>3.231986</td>\n      <td>-10.280335</td>\n      <td>...</td>\n      <td>-8.144359</td>\n      <td>-3.461741</td>\n      <td>-8.055695</td>\n      <td>-0.884615</td>\n      <td>-0.090909</td>\n      <td>-0.487762</td>\n      <td>-3.618031</td>\n      <td>-0.325119</td>\n      <td>-11.453126</td>\n      <td>27.759236</td>\n    </tr>\n    <tr>\n      <th>4</th>\n      <td>NYSE:RTX</td>\n      <td>106.020000</td>\n      <td>0.382458</td>\n      <td>5491.73%</td>\n      <td>42.857143</td>\n      <td>7.142857</td>\n      <td>1.918657</td>\n      <td>34.451716</td>\n      <td>2.152271</td>\n      <td>-7.795394</td>\n      <td>...</td>\n      <td>-13.385023</td>\n      <td>-11.865462</td>\n      <td>-12.257131</td>\n      <td>-0.961538</td>\n      <td>0.090909</td>\n      <td>-0.435315</td>\n      <td>-0.701754</td>\n      <td>-10.291631</td>\n      <td>-15.932271</td>\n      <td>6.846377</td>\n    </tr>\n  </tbody>\n</table>\n<p>5 rows × 297 columns</p>\n</div>"
     },
     "execution_count": 10,
     "metadata": {},
     "output_type": "execute_result"
    }
   ],
   "source": [
    "from tvscreener.filter import FilterOperator\n",
    "\n",
    "ss = tvs.StockScreener()\n",
    "ss.add_filter('RSI', FilterOperator.NOT_IN_RANGE, [30, 70])\n",
    "df = ss.get()\n",
    "df.head()"
   ],
   "metadata": {
    "collapsed": false,
    "ExecuteTime": {
     "end_time": "2023-08-04T14:38:03.241009475Z",
     "start_time": "2023-08-04T14:38:01.463898372Z"
    }
   },
   "id": "e6fb33b84475de00"
  },
  {
   "cell_type": "markdown",
   "source": [
    "## Time intervals"
   ],
   "metadata": {
    "collapsed": false
   },
   "id": "aa9b0e3605524ae9"
  },
  {
   "cell_type": "code",
   "execution_count": 11,
   "outputs": [
    {
     "data": {
      "text/plain": "         Symbol  All Time High  All Time Low All Time Performance  \\\n0   NASDAQ:AAPL     198.230000      0.049107           144245.84%   \n1   NASDAQ:MSFT     366.780000      0.088543           340035.56%   \n2   NASDAQ:GOOG     152.100000     24.312350              358.15%   \n3  NASDAQ:GOOGL     151.546575      2.401327             5069.26%   \n4   NASDAQ:AMZN     188.653910      0.065624           115617.46%   \n\n   Aroon Down (14)  Aroon Up (14)  Average Day Range (14)  \\\n0        92.857143      21.428571                1.000857   \n1         0.000000      92.857143                1.733571   \n2         0.000000      92.857143                0.703214   \n3         0.000000      92.857143                0.701786   \n4         0.000000      92.857143                0.928693   \n\n   Average Directional Index (14)  Average True Range (14)  \\\n0                       48.410168                 1.237371   \n1                       36.711383                 1.965559   \n2                       34.801963                 0.767135   \n3                       33.979504                 0.763797   \n4                       38.214565                 1.646360   \n\n   Awesome Oscillator  ...  Monthly Performance raw  3-Month Performance raw  \\\n0           -3.536969  ...                -3.288701                 8.357947   \n1           -1.199796  ...                -1.313080                 8.167604   \n2           -0.119029  ...                 8.083458                23.210216   \n3           -0.154356  ...                 8.495220                23.420817   \n4            3.893754  ...                 8.284321                35.254148   \n\n   6-Month Performance raw  Moving Averages Rating raw  \\\n0                25.153685                   -0.961538   \n1                27.412904                    0.269231   \n2                25.364699                    0.653846   \n3                25.687069                    0.653846   \n4                33.982044                    0.961538   \n\n   Oscillators Rating raw Technical Rating raw Weekly Performance raw  \\\n0                0.181818            -0.389860              -4.831253   \n1                0.000000             0.134615              -0.893098   \n2               -0.181818             0.236014              -0.920058   \n3               -0.181818             0.236014              -1.078376   \n4                0.181818             0.571678               8.743542   \n\n   Yearly Performance raw  YTD Performance raw  5Y Performance raw  \n0               11.602060            42.205250          257.948123  \n1               17.349184            36.041632          206.762523  \n2                9.691462            44.456195          111.065207  \n3               10.120616            44.410002          107.792769  \n4                0.319747            65.023988           53.481149  \n\n[5 rows x 298 columns]",
      "text/html": "<div>\n<style scoped>\n    .dataframe tbody tr th:only-of-type {\n        vertical-align: middle;\n    }\n\n    .dataframe tbody tr th {\n        vertical-align: top;\n    }\n\n    .dataframe thead th {\n        text-align: right;\n    }\n</style>\n<table border=\"1\" class=\"dataframe\">\n  <thead>\n    <tr style=\"text-align: right;\">\n      <th></th>\n      <th>Symbol</th>\n      <th>All Time High</th>\n      <th>All Time Low</th>\n      <th>All Time Performance</th>\n      <th>Aroon Down (14)</th>\n      <th>Aroon Up (14)</th>\n      <th>Average Day Range (14)</th>\n      <th>Average Directional Index (14)</th>\n      <th>Average True Range (14)</th>\n      <th>Awesome Oscillator</th>\n      <th>...</th>\n      <th>Monthly Performance raw</th>\n      <th>3-Month Performance raw</th>\n      <th>6-Month Performance raw</th>\n      <th>Moving Averages Rating raw</th>\n      <th>Oscillators Rating raw</th>\n      <th>Technical Rating raw</th>\n      <th>Weekly Performance raw</th>\n      <th>Yearly Performance raw</th>\n      <th>YTD Performance raw</th>\n      <th>5Y Performance raw</th>\n    </tr>\n  </thead>\n  <tbody>\n    <tr>\n      <th>0</th>\n      <td>NASDAQ:AAPL</td>\n      <td>198.230000</td>\n      <td>0.049107</td>\n      <td>144245.84%</td>\n      <td>92.857143</td>\n      <td>21.428571</td>\n      <td>1.000857</td>\n      <td>48.410168</td>\n      <td>1.237371</td>\n      <td>-3.536969</td>\n      <td>...</td>\n      <td>-3.288701</td>\n      <td>8.357947</td>\n      <td>25.153685</td>\n      <td>-0.961538</td>\n      <td>0.181818</td>\n      <td>-0.389860</td>\n      <td>-4.831253</td>\n      <td>11.602060</td>\n      <td>42.205250</td>\n      <td>257.948123</td>\n    </tr>\n    <tr>\n      <th>1</th>\n      <td>NASDAQ:MSFT</td>\n      <td>366.780000</td>\n      <td>0.088543</td>\n      <td>340035.56%</td>\n      <td>0.000000</td>\n      <td>92.857143</td>\n      <td>1.733571</td>\n      <td>36.711383</td>\n      <td>1.965559</td>\n      <td>-1.199796</td>\n      <td>...</td>\n      <td>-1.313080</td>\n      <td>8.167604</td>\n      <td>27.412904</td>\n      <td>0.269231</td>\n      <td>0.000000</td>\n      <td>0.134615</td>\n      <td>-0.893098</td>\n      <td>17.349184</td>\n      <td>36.041632</td>\n      <td>206.762523</td>\n    </tr>\n    <tr>\n      <th>2</th>\n      <td>NASDAQ:GOOG</td>\n      <td>152.100000</td>\n      <td>24.312350</td>\n      <td>358.15%</td>\n      <td>0.000000</td>\n      <td>92.857143</td>\n      <td>0.703214</td>\n      <td>34.801963</td>\n      <td>0.767135</td>\n      <td>-0.119029</td>\n      <td>...</td>\n      <td>8.083458</td>\n      <td>23.210216</td>\n      <td>25.364699</td>\n      <td>0.653846</td>\n      <td>-0.181818</td>\n      <td>0.236014</td>\n      <td>-0.920058</td>\n      <td>9.691462</td>\n      <td>44.456195</td>\n      <td>111.065207</td>\n    </tr>\n    <tr>\n      <th>3</th>\n      <td>NASDAQ:GOOGL</td>\n      <td>151.546575</td>\n      <td>2.401327</td>\n      <td>5069.26%</td>\n      <td>0.000000</td>\n      <td>92.857143</td>\n      <td>0.701786</td>\n      <td>33.979504</td>\n      <td>0.763797</td>\n      <td>-0.154356</td>\n      <td>...</td>\n      <td>8.495220</td>\n      <td>23.420817</td>\n      <td>25.687069</td>\n      <td>0.653846</td>\n      <td>-0.181818</td>\n      <td>0.236014</td>\n      <td>-1.078376</td>\n      <td>10.120616</td>\n      <td>44.410002</td>\n      <td>107.792769</td>\n    </tr>\n    <tr>\n      <th>4</th>\n      <td>NASDAQ:AMZN</td>\n      <td>188.653910</td>\n      <td>0.065624</td>\n      <td>115617.46%</td>\n      <td>0.000000</td>\n      <td>92.857143</td>\n      <td>0.928693</td>\n      <td>38.214565</td>\n      <td>1.646360</td>\n      <td>3.893754</td>\n      <td>...</td>\n      <td>8.284321</td>\n      <td>35.254148</td>\n      <td>33.982044</td>\n      <td>0.961538</td>\n      <td>0.181818</td>\n      <td>0.571678</td>\n      <td>8.743542</td>\n      <td>0.319747</td>\n      <td>65.023988</td>\n      <td>53.481149</td>\n    </tr>\n  </tbody>\n</table>\n<p>5 rows × 298 columns</p>\n</div>"
     },
     "execution_count": 11,
     "metadata": {},
     "output_type": "execute_result"
    }
   ],
   "source": [
    "ss = tvs.StockScreener()\n",
    "df = ss.get(tvs.TimeInterval.THIRTY_MINUTES)\n",
    "df.head()"
   ],
   "metadata": {
    "collapsed": false,
    "ExecuteTime": {
     "end_time": "2023-08-04T14:38:04.383150459Z",
     "start_time": "2023-08-04T14:38:03.240318988Z"
    }
   },
   "id": "8864827cc8cc60d8"
  },
  {
   "cell_type": "markdown",
   "source": [
    "## Debugging"
   ],
   "metadata": {
    "collapsed": false
   },
   "id": "4afe73932d662204"
  },
  {
   "cell_type": "code",
   "execution_count": 12,
   "outputs": [
    {
     "name": "stdout",
     "output_type": "stream",
     "text": [
      "Request: https://scanner.tradingview.com/global/scan\n",
      "Payload:\n",
      "{\n",
      "    \"filter\": [],\n",
      "    \"options\": {\n",
      "        \"lang\": \"en\"\n",
      "    },\n",
      "    \"symbols\": {\n",
      "        \"query\": {\n",
      "            \"types\": []\n",
      "        },\n",
      "        \"tickers\": []\n",
      "    },\n",
      "    \"sort\": {\n",
      "        \"sortBy\": \"market_cap_basic\",\n",
      "        \"sortOrder\": \"desc\"\n",
      "    },\n",
      "    \"range\": [\n",
      "        0,\n",
      "        150\n",
      "    ],\n",
      "    \"columns\": [\n",
      "        \"High.All\",\n",
      "        \"Low.All\",\n",
      "        \"Perf.All\",\n",
      "        \"Aroon.Down\",\n",
      "        \"Aroon.Up\",\n",
      "        \"ADR\",\n",
      "        \"ADX\",\n",
      "        \"ATR\",\n",
      "        \"AO\",\n",
      "        \"BB.lower\",\n",
      "        \"BB.upper\",\n",
      "        \"BBPower\",\n",
      "        \"change\",\n",
      "        \"CCI20\",\n",
      "        \"currency\",\n",
      "        \"description\",\n",
      "        \"DonchCh20.Lower\",\n",
      "        \"DonchCh20.Upper\",\n",
      "        \"EMA10\",\n",
      "        \"EMA100\",\n",
      "        \"EMA20\",\n",
      "        \"EMA200\",\n",
      "        \"EMA30\",\n",
      "        \"EMA5\",\n",
      "        \"EMA50\",\n",
      "        \"fractional\",\n",
      "        \"fundamental_currency_code\",\n",
      "        \"gap\",\n",
      "        \"high\",\n",
      "        \"HullMA9\",\n",
      "        \"Ichimoku.BLine\",\n",
      "        \"Ichimoku.CLine\",\n",
      "        \"Ichimoku.Lead1\",\n",
      "        \"Ichimoku.Lead2\",\n",
      "        \"KltChnl.lower\",\n",
      "        \"KltChnl.upper\",\n",
      "        \"low\",\n",
      "        \"MACD.macd\",\n",
      "        \"MACD.signal\",\n",
      "        \"minmov\",\n",
      "        \"minmove2\",\n",
      "        \"Mom\",\n",
      "        \"Perf.1M\",\n",
      "        \"High.1M\",\n",
      "        \"High.3M\",\n",
      "        \"High.6M\",\n",
      "        \"Low.1M\",\n",
      "        \"Low.3M\",\n",
      "        \"Low.6M\",\n",
      "        \"Perf.3M\",\n",
      "        \"Perf.6M\",\n",
      "        \"Recommend.MA\",\n",
      "        \"name\",\n",
      "        \"ADX-DI\",\n",
      "        \"open\",\n",
      "        \"Recommend.Other\",\n",
      "        \"P.SAR\",\n",
      "        \"Pivot.M.Camarilla.Middle\",\n",
      "        \"Pivot.M.Camarilla.R1\",\n",
      "        \"Pivot.M.Camarilla.R2\",\n",
      "        \"Pivot.M.Camarilla.R3\",\n",
      "        \"Pivot.M.Camarilla.S1\",\n",
      "        \"Pivot.M.Camarilla.S2\",\n",
      "        \"Pivot.M.Camarilla.S3\",\n",
      "        \"Pivot.M.Classic.Middle\",\n",
      "        \"Pivot.M.Classic.R1\",\n",
      "        \"Pivot.M.Classic.R2\",\n",
      "        \"Pivot.M.Classic.R3\",\n",
      "        \"Pivot.M.Classic.S1\",\n",
      "        \"Pivot.M.Classic.S2\",\n",
      "        \"Pivot.M.Classic.S3\",\n",
      "        \"Pivot.M.Demark.Middle\",\n",
      "        \"Pivot.M.Demark.R1\",\n",
      "        \"Pivot.M.Demark.S1\",\n",
      "        \"Pivot.M.Fibonacci.Middle\",\n",
      "        \"Pivot.M.Fibonacci.R1\",\n",
      "        \"Pivot.M.Fibonacci.R2\",\n",
      "        \"Pivot.M.Fibonacci.R3\",\n",
      "        \"Pivot.M.Fibonacci.S1\",\n",
      "        \"Pivot.M.Fibonacci.S2\",\n",
      "        \"Pivot.M.Fibonacci.S3\",\n",
      "        \"Pivot.M.Woodie.Middle\",\n",
      "        \"Pivot.M.Woodie.R1\",\n",
      "        \"Pivot.M.Woodie.R2\",\n",
      "        \"Pivot.M.Woodie.R3\",\n",
      "        \"Pivot.M.Woodie.S1\",\n",
      "        \"Pivot.M.Woodie.S2\",\n",
      "        \"Pivot.M.Woodie.S3\",\n",
      "        \"ADX+DI\",\n",
      "        \"close\",\n",
      "        \"pricescale\",\n",
      "        \"ROC\",\n",
      "        \"RSI\",\n",
      "        \"RSI7\",\n",
      "        \"SMA10\",\n",
      "        \"SMA100\",\n",
      "        \"SMA20\",\n",
      "        \"SMA200\",\n",
      "        \"SMA30\",\n",
      "        \"SMA5\",\n",
      "        \"SMA50\",\n",
      "        \"Stoch.D\",\n",
      "        \"Stoch.K\",\n",
      "        \"Stoch.RSI.K\",\n",
      "        \"Stoch.RSI.D\",\n",
      "        \"subtype\",\n",
      "        \"Recommend.All\",\n",
      "        \"type\",\n",
      "        \"UO\",\n",
      "        \"Volatility.D\",\n",
      "        \"Volatility.M\",\n",
      "        \"Volatility.W\",\n",
      "        \"VWAP\",\n",
      "        \"VWMA\",\n",
      "        \"Perf.W\",\n",
      "        \"price_52_week_high\",\n",
      "        \"price_52_week_low\",\n",
      "        \"W.R\",\n",
      "        \"Perf.Y\",\n",
      "        \"Perf.YTD\",\n",
      "        \"Perf.5Y\",\n",
      "        \"Candle.AbandonedBaby.Bearish\",\n",
      "        \"Candle.AbandonedBaby.Bullish\",\n",
      "        \"basic_eps_net_income\",\n",
      "        \"earnings_per_share_basic_ttm\",\n",
      "        \"Candle.3BlackCrows\",\n",
      "        \"cash_n_equivalents_fy\",\n",
      "        \"cash_n_equivalents_fq\",\n",
      "        \"cash_n_short_term_invest_fy\",\n",
      "        \"cash_n_short_term_invest_fq\",\n",
      "        \"ChaikinMoneyFlow\",\n",
      "        \"change_abs\",\n",
      "        \"change_abs|15\",\n",
      "        \"change|15\",\n",
      "        \"change_abs|60\",\n",
      "        \"change|60\",\n",
      "        \"change_abs|1\",\n",
      "        \"change_abs|1M\",\n",
      "        \"change|1\",\n",
      "        \"change|1M\",\n",
      "        \"change_abs|1W\",\n",
      "        \"change|1W\",\n",
      "        \"change_abs|240\",\n",
      "        \"change|240\",\n",
      "        \"change_abs|5\",\n",
      "        \"change|5\",\n",
      "        \"change_from_open_abs\",\n",
      "        \"change_from_open\",\n",
      "        \"current_ratio\",\n",
      "        \"debt_to_equity\",\n",
      "        \"dividends_paid\",\n",
      "        \"dps_common_stock_prim_issue_yoy_growth_fy\",\n",
      "        \"dps_common_stock_prim_issue_fy\",\n",
      "        \"dividends_per_share_fq\",\n",
      "        \"dividend_yield_recent\",\n",
      "        \"Candle.Doji\",\n",
      "        \"Candle.Doji.Dragonfly\",\n",
      "        \"Candle.Doji.Gravestone\",\n",
      "        \"ebitda_yoy_growth_fy\",\n",
      "        \"ebitda_qoq_growth_fq\",\n",
      "        \"ebitda_yoy_growth_fq\",\n",
      "        \"ebitda\",\n",
      "        \"ebitda_yoy_growth_ttm\",\n",
      "        \"Candle.Engulfing.Bearish\",\n",
      "        \"Candle.Engulfing.Bullish\",\n",
      "        \"enterprise_value_ebitda_ttm\",\n",
      "        \"enterprise_value_fq\",\n",
      "        \"earnings_per_share_diluted_yoy_growth_fy\",\n",
      "        \"last_annual_eps\",\n",
      "        \"earnings_per_share_fq\",\n",
      "        \"earnings_per_share_diluted_qoq_growth_fq\",\n",
      "        \"earnings_per_share_diluted_yoy_growth_fq\",\n",
      "        \"earnings_per_share_diluted_ttm\",\n",
      "        \"earnings_per_share_diluted_yoy_growth_ttm\",\n",
      "        \"earnings_per_share_forecast_next_fq\",\n",
      "        \"Candle.EveningStar\",\n",
      "        \"free_cash_flow_yoy_growth_fy\",\n",
      "        \"free_cash_flow_margin_fy\",\n",
      "        \"free_cash_flow_margin_ttm\",\n",
      "        \"free_cash_flow_qoq_growth_fq\",\n",
      "        \"free_cash_flow_yoy_growth_fq\",\n",
      "        \"free_cash_flow_yoy_growth_ttm\",\n",
      "        \"goodwill\",\n",
      "        \"gross_profit_margin_fy\",\n",
      "        \"gross_margin\",\n",
      "        \"gross_profit_yoy_growth_fy\",\n",
      "        \"gross_profit\",\n",
      "        \"gross_profit_fq\",\n",
      "        \"gross_profit_qoq_growth_fq\",\n",
      "        \"gross_profit_yoy_growth_fq\",\n",
      "        \"gross_profit_yoy_growth_ttm\",\n",
      "        \"Candle.Hammer\",\n",
      "        \"Candle.HangingMan\",\n",
      "        \"Candle.Harami.Bearish\",\n",
      "        \"Candle.Harami.Bullish\",\n",
      "        \"industry\",\n",
      "        \"Candle.InvertedHammer\",\n",
      "        \"Candle.Kicking.Bearish\",\n",
      "        \"Candle.Kicking.Bullish\",\n",
      "        \"last_annual_revenue\",\n",
      "        \"Candle.LongShadow.Lower\",\n",
      "        \"Candle.LongShadow.Upper\",\n",
      "        \"market_cap_basic\",\n",
      "        \"Candle.Marubozu.Black\",\n",
      "        \"Candle.Marubozu.White\",\n",
      "        \"MoneyFlow\",\n",
      "        \"Candle.MorningStar\",\n",
      "        \"net_debt\",\n",
      "        \"net_income_yoy_growth_fy\",\n",
      "        \"net_income\",\n",
      "        \"net_income_qoq_growth_fq\",\n",
      "        \"net_income_yoy_growth_fq\",\n",
      "        \"net_income_yoy_growth_ttm\",\n",
      "        \"net_income_bef_disc_oper_margin_fy\",\n",
      "        \"after_tax_margin\",\n",
      "        \"number_of_employees\",\n",
      "        \"number_of_shareholders\",\n",
      "        \"oper_income_margin_fy\",\n",
      "        \"operating_margin\",\n",
      "        \"candlestick\",\n",
      "        \"postmarket_change_abs\",\n",
      "        \"postmarket_change\",\n",
      "        \"postmarket_close\",\n",
      "        \"postmarket_high\",\n",
      "        \"postmarket_low\",\n",
      "        \"postmarket_open\",\n",
      "        \"postmarket_volume\",\n",
      "        \"premarket_change_abs\",\n",
      "        \"premarket_change_from_open_abs\",\n",
      "        \"premarket_change_from_open\",\n",
      "        \"premarket_change\",\n",
      "        \"premarket_close\",\n",
      "        \"premarket_gap\",\n",
      "        \"premarket_high\",\n",
      "        \"premarket_low\",\n",
      "        \"premarket_open\",\n",
      "        \"premarket_volume\",\n",
      "        \"pre_tax_margin\",\n",
      "        \"price_book_ratio\",\n",
      "        \"price_book_fq\",\n",
      "        \"price_earnings_ttm\",\n",
      "        \"price_free_cash_flow_ttm\",\n",
      "        \"price_revenue_ttm\",\n",
      "        \"price_sales_ratio\",\n",
      "        \"quick_ratio\",\n",
      "        \"earnings_release_date\",\n",
      "        \"relative_volume_10d_calc\",\n",
      "        \"research_and_dev_ratio_fy\",\n",
      "        \"research_and_dev_ratio_ttm\",\n",
      "        \"return_on_assets\",\n",
      "        \"return_on_equity\",\n",
      "        \"return_on_invested_capital\",\n",
      "        \"total_revenue_yoy_growth_fy\",\n",
      "        \"revenue_per_employee\",\n",
      "        \"total_revenue_qoq_growth_fq\",\n",
      "        \"total_revenue_yoy_growth_fq\",\n",
      "        \"total_revenue_yoy_growth_ttm\",\n",
      "        \"sell_gen_admin_exp_other_ratio_fy\",\n",
      "        \"sell_gen_admin_exp_other_ratio_ttm\",\n",
      "        \"float_shares_outstanding\",\n",
      "        \"Candle.ShootingStar\",\n",
      "        \"Candle.SpinningTop.Black\",\n",
      "        \"Candle.SpinningTop.White\",\n",
      "        \"submarket\",\n",
      "        \"total_assets_yoy_growth_fy\",\n",
      "        \"total_assets\",\n",
      "        \"total_assets_qoq_growth_fq\",\n",
      "        \"total_assets_yoy_growth_fq\",\n",
      "        \"total_current_assets\",\n",
      "        \"total_debt_yoy_growth_fy\",\n",
      "        \"total_debt\",\n",
      "        \"total_debt_qoq_growth_fq\",\n",
      "        \"total_debt_yoy_growth_fq\",\n",
      "        \"total_liabilities_fy\",\n",
      "        \"total_liabilities_fq\",\n",
      "        \"total_revenue\",\n",
      "        \"total_shares_outstanding_fundamental\",\n",
      "        \"Candle.TriStar.Bearish\",\n",
      "        \"Candle.TriStar.Bullish\",\n",
      "        \"earnings_release_next_date\",\n",
      "        \"volume\",\n",
      "        \"Value.Traded\",\n",
      "        \"Candle.3WhiteSoldiers\",\n",
      "        \"beta_1_year\"\n",
      "    ],\n",
      "    \"markets\": [\n",
      "        \"america\"\n",
      "    ]\n",
      "}\n"
     ]
    }
   ],
   "source": [
    "ss = tvs.StockScreener()\n",
    "df = ss.get(print_request=True)"
   ],
   "metadata": {
    "collapsed": false,
    "ExecuteTime": {
     "end_time": "2023-08-04T14:38:05.541716274Z",
     "start_time": "2023-08-04T14:38:04.382165140Z"
    }
   },
   "id": "dd428873c1d8f9e9"
  },
  {
   "cell_type": "code",
   "execution_count": 12,
   "outputs": [],
   "source": [],
   "metadata": {
    "collapsed": false,
    "ExecuteTime": {
     "end_time": "2023-08-04T14:38:05.586978835Z",
     "start_time": "2023-08-04T14:38:05.542153972Z"
    }
   },
   "id": "59cc4e8fe363fa10"
  }
 ],
 "metadata": {
  "kernelspec": {
   "display_name": "Python 3",
   "language": "python",
   "name": "python3"
  },
  "language_info": {
   "codemirror_mode": {
    "name": "ipython",
    "version": 2
   },
   "file_extension": ".py",
   "mimetype": "text/x-python",
   "name": "python",
   "nbconvert_exporter": "python",
   "pygments_lexer": "ipython2",
   "version": "2.7.6"
  }
 },
 "nbformat": 4,
 "nbformat_minor": 5
}
