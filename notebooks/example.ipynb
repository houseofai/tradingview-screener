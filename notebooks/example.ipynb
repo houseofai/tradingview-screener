{
 "cells": [
  {
   "cell_type": "code",
   "execution_count": 1,
   "id": "initial_id",
   "metadata": {
    "collapsed": true,
    "ExecuteTime": {
     "end_time": "2023-08-02T13:23:51.486645888Z",
     "start_time": "2023-08-02T13:23:51.315043450Z"
    }
   },
   "outputs": [],
   "source": [
    "import tvscreener as tvs\n",
    "\n",
    "%load_ext autoreload\n",
    "%autoreload 2"
   ]
  },
  {
   "cell_type": "code",
   "execution_count": 2,
   "outputs": [
    {
     "data": {
      "text/plain": "    name            description   type subtype  pricescale  minmov fractional  \\\n0   AAPL             Apple Inc.  stock  common         100       1      false   \n1   MSFT  Microsoft Corporation  stock  common         100       1      false   \n2   GOOG          Alphabet Inc.  stock  common         100       1      false   \n3  GOOGL          Alphabet Inc.  stock  common         100       1      false   \n4   AMZN       Amazon.com, Inc.  stock  common         100       1      false   \n\n   minmove2 currency fundamental_currency_code  ...  Volatility.D  \\\n0         0      USD                       USD  ...      0.742524   \n1         0      USD                       USD  ...      1.450405   \n2         0      USD                       USD  ...      1.804971   \n3         0      USD                       USD  ...      1.561065   \n4         0      USD                       USD  ...      1.572786   \n\n   Volatility.M  Volatility.W        VWAP        VWMA    Perf.W        W.R  \\\n0      1.429603      1.253602  195.871667  192.514573  1.176744 -30.523256   \n1      2.450314      2.401217  336.193333  342.891793 -3.102763 -80.678505   \n2      2.219461      2.168112  131.853333  124.171603  8.212996 -14.169646   \n3      2.280839      2.155242  131.620000  123.777027  8.396506 -14.110825   \n4      2.153737      2.337264  132.333300  130.862509  1.840538 -47.058824   \n\n      Perf.Y   Perf.YTD         update_mode|1D  \n0  21.486243  50.142002  delayed_streaming_900  \n1  21.063998  38.365970  delayed_streaming_900  \n2  14.160824  46.821774  delayed_streaming_900  \n3  14.093669  46.843780  delayed_streaming_900  \n4  -2.422940  54.095483  delayed_streaming_900  \n\n[5 rows x 248 columns]",
      "text/html": "<div>\n<style scoped>\n    .dataframe tbody tr th:only-of-type {\n        vertical-align: middle;\n    }\n\n    .dataframe tbody tr th {\n        vertical-align: top;\n    }\n\n    .dataframe thead th {\n        text-align: right;\n    }\n</style>\n<table border=\"1\" class=\"dataframe\">\n  <thead>\n    <tr style=\"text-align: right;\">\n      <th></th>\n      <th>name</th>\n      <th>description</th>\n      <th>type</th>\n      <th>subtype</th>\n      <th>pricescale</th>\n      <th>minmov</th>\n      <th>fractional</th>\n      <th>minmove2</th>\n      <th>currency</th>\n      <th>fundamental_currency_code</th>\n      <th>...</th>\n      <th>Volatility.D</th>\n      <th>Volatility.M</th>\n      <th>Volatility.W</th>\n      <th>VWAP</th>\n      <th>VWMA</th>\n      <th>Perf.W</th>\n      <th>W.R</th>\n      <th>Perf.Y</th>\n      <th>Perf.YTD</th>\n      <th>update_mode|1D</th>\n    </tr>\n  </thead>\n  <tbody>\n    <tr>\n      <th>0</th>\n      <td>AAPL</td>\n      <td>Apple Inc.</td>\n      <td>stock</td>\n      <td>common</td>\n      <td>100</td>\n      <td>1</td>\n      <td>false</td>\n      <td>0</td>\n      <td>USD</td>\n      <td>USD</td>\n      <td>...</td>\n      <td>0.742524</td>\n      <td>1.429603</td>\n      <td>1.253602</td>\n      <td>195.871667</td>\n      <td>192.514573</td>\n      <td>1.176744</td>\n      <td>-30.523256</td>\n      <td>21.486243</td>\n      <td>50.142002</td>\n      <td>delayed_streaming_900</td>\n    </tr>\n    <tr>\n      <th>1</th>\n      <td>MSFT</td>\n      <td>Microsoft Corporation</td>\n      <td>stock</td>\n      <td>common</td>\n      <td>100</td>\n      <td>1</td>\n      <td>false</td>\n      <td>0</td>\n      <td>USD</td>\n      <td>USD</td>\n      <td>...</td>\n      <td>1.450405</td>\n      <td>2.450314</td>\n      <td>2.401217</td>\n      <td>336.193333</td>\n      <td>342.891793</td>\n      <td>-3.102763</td>\n      <td>-80.678505</td>\n      <td>21.063998</td>\n      <td>38.365970</td>\n      <td>delayed_streaming_900</td>\n    </tr>\n    <tr>\n      <th>2</th>\n      <td>GOOG</td>\n      <td>Alphabet Inc.</td>\n      <td>stock</td>\n      <td>common</td>\n      <td>100</td>\n      <td>1</td>\n      <td>false</td>\n      <td>0</td>\n      <td>USD</td>\n      <td>USD</td>\n      <td>...</td>\n      <td>1.804971</td>\n      <td>2.219461</td>\n      <td>2.168112</td>\n      <td>131.853333</td>\n      <td>124.171603</td>\n      <td>8.212996</td>\n      <td>-14.169646</td>\n      <td>14.160824</td>\n      <td>46.821774</td>\n      <td>delayed_streaming_900</td>\n    </tr>\n    <tr>\n      <th>3</th>\n      <td>GOOGL</td>\n      <td>Alphabet Inc.</td>\n      <td>stock</td>\n      <td>common</td>\n      <td>100</td>\n      <td>1</td>\n      <td>false</td>\n      <td>0</td>\n      <td>USD</td>\n      <td>USD</td>\n      <td>...</td>\n      <td>1.561065</td>\n      <td>2.280839</td>\n      <td>2.155242</td>\n      <td>131.620000</td>\n      <td>123.777027</td>\n      <td>8.396506</td>\n      <td>-14.110825</td>\n      <td>14.093669</td>\n      <td>46.843780</td>\n      <td>delayed_streaming_900</td>\n    </tr>\n    <tr>\n      <th>4</th>\n      <td>AMZN</td>\n      <td>Amazon.com, Inc.</td>\n      <td>stock</td>\n      <td>common</td>\n      <td>100</td>\n      <td>1</td>\n      <td>false</td>\n      <td>0</td>\n      <td>USD</td>\n      <td>USD</td>\n      <td>...</td>\n      <td>1.572786</td>\n      <td>2.153737</td>\n      <td>2.337264</td>\n      <td>132.333300</td>\n      <td>130.862509</td>\n      <td>1.840538</td>\n      <td>-47.058824</td>\n      <td>-2.422940</td>\n      <td>54.095483</td>\n      <td>delayed_streaming_900</td>\n    </tr>\n  </tbody>\n</table>\n<p>5 rows × 248 columns</p>\n</div>"
     },
     "execution_count": 2,
     "metadata": {},
     "output_type": "execute_result"
    }
   ],
   "source": [
    "ss = tvs.StockScreener()\n",
    "df = ss.get()\n",
    "df.head()"
   ],
   "metadata": {
    "collapsed": false,
    "ExecuteTime": {
     "end_time": "2023-08-02T13:23:52.208678891Z",
     "start_time": "2023-08-02T13:23:51.486570995Z"
    }
   },
   "id": "180f141359f1e171"
  },
  {
   "cell_type": "code",
   "execution_count": 3,
   "outputs": [
    {
     "data": {
      "text/plain": "     name                      description   type subtype  pricescale  minmov  \\\n0  USDDJF   U.S. DOLLAR / DJIBOUTIAN FRANC  forex                 100       1   \n1  EURGNF             EURO / GUINEAN FRANC  forex                  10       1   \n2  JPYCLP      JAPANESE YEN / CHILEAN PESO  forex               10000       1   \n3  JPYAWG     JAPANESE YEN / ARUBAN FLORIN  forex             1000000       1   \n4  IDRCHF  INDONESIAN RUPIAH / SWISS FRANC  forex            10000000       1   \n\n  fractional  minmove2 currency fundamental_currency_code  ...  \\\n0      false         1      DJF                      None  ...   \n1      false         1      GNF                      None  ...   \n2      false         1      CLP                      None  ...   \n3      false        10      AWG                      None  ...   \n4      false        10      CHF                      None  ...   \n\n   Candle.Marubozu.White  Candle.MorningStar  Candle.ShootingStar  \\\n0                      0                   0                    0   \n1                      0                   0                    0   \n2                      0                   0                    0   \n3                      0                   0                    0   \n4                      1                   0                    0   \n\n   Candle.SpinningTop.Black  Candle.SpinningTop.White  Candle.3BlackCrows  \\\n0                         0                         0                   0   \n1                         0                         0                   0   \n2                         0                         0                   0   \n3                         0                         0                   0   \n4                         0                         0                   0   \n\n   Candle.3WhiteSoldiers  Candle.TriStar.Bearish  Candle.TriStar.Bullish  \\\n0                      0                       0                       0   \n1                      0                       0                       0   \n2                      0                       0                       0   \n3                      0                       0                       0   \n4                      0                       0                       0   \n\n   update_mode|1D  \n0       streaming  \n1       streaming  \n2       streaming  \n3       streaming  \n4       streaming  \n\n[5 rows x 152 columns]",
      "text/html": "<div>\n<style scoped>\n    .dataframe tbody tr th:only-of-type {\n        vertical-align: middle;\n    }\n\n    .dataframe tbody tr th {\n        vertical-align: top;\n    }\n\n    .dataframe thead th {\n        text-align: right;\n    }\n</style>\n<table border=\"1\" class=\"dataframe\">\n  <thead>\n    <tr style=\"text-align: right;\">\n      <th></th>\n      <th>name</th>\n      <th>description</th>\n      <th>type</th>\n      <th>subtype</th>\n      <th>pricescale</th>\n      <th>minmov</th>\n      <th>fractional</th>\n      <th>minmove2</th>\n      <th>currency</th>\n      <th>fundamental_currency_code</th>\n      <th>...</th>\n      <th>Candle.Marubozu.White</th>\n      <th>Candle.MorningStar</th>\n      <th>Candle.ShootingStar</th>\n      <th>Candle.SpinningTop.Black</th>\n      <th>Candle.SpinningTop.White</th>\n      <th>Candle.3BlackCrows</th>\n      <th>Candle.3WhiteSoldiers</th>\n      <th>Candle.TriStar.Bearish</th>\n      <th>Candle.TriStar.Bullish</th>\n      <th>update_mode|1D</th>\n    </tr>\n  </thead>\n  <tbody>\n    <tr>\n      <th>0</th>\n      <td>USDDJF</td>\n      <td>U.S. DOLLAR / DJIBOUTIAN FRANC</td>\n      <td>forex</td>\n      <td></td>\n      <td>100</td>\n      <td>1</td>\n      <td>false</td>\n      <td>1</td>\n      <td>DJF</td>\n      <td>None</td>\n      <td>...</td>\n      <td>0</td>\n      <td>0</td>\n      <td>0</td>\n      <td>0</td>\n      <td>0</td>\n      <td>0</td>\n      <td>0</td>\n      <td>0</td>\n      <td>0</td>\n      <td>streaming</td>\n    </tr>\n    <tr>\n      <th>1</th>\n      <td>EURGNF</td>\n      <td>EURO / GUINEAN FRANC</td>\n      <td>forex</td>\n      <td></td>\n      <td>10</td>\n      <td>1</td>\n      <td>false</td>\n      <td>1</td>\n      <td>GNF</td>\n      <td>None</td>\n      <td>...</td>\n      <td>0</td>\n      <td>0</td>\n      <td>0</td>\n      <td>0</td>\n      <td>0</td>\n      <td>0</td>\n      <td>0</td>\n      <td>0</td>\n      <td>0</td>\n      <td>streaming</td>\n    </tr>\n    <tr>\n      <th>2</th>\n      <td>JPYCLP</td>\n      <td>JAPANESE YEN / CHILEAN PESO</td>\n      <td>forex</td>\n      <td></td>\n      <td>10000</td>\n      <td>1</td>\n      <td>false</td>\n      <td>1</td>\n      <td>CLP</td>\n      <td>None</td>\n      <td>...</td>\n      <td>0</td>\n      <td>0</td>\n      <td>0</td>\n      <td>0</td>\n      <td>0</td>\n      <td>0</td>\n      <td>0</td>\n      <td>0</td>\n      <td>0</td>\n      <td>streaming</td>\n    </tr>\n    <tr>\n      <th>3</th>\n      <td>JPYAWG</td>\n      <td>JAPANESE YEN / ARUBAN FLORIN</td>\n      <td>forex</td>\n      <td></td>\n      <td>1000000</td>\n      <td>1</td>\n      <td>false</td>\n      <td>10</td>\n      <td>AWG</td>\n      <td>None</td>\n      <td>...</td>\n      <td>0</td>\n      <td>0</td>\n      <td>0</td>\n      <td>0</td>\n      <td>0</td>\n      <td>0</td>\n      <td>0</td>\n      <td>0</td>\n      <td>0</td>\n      <td>streaming</td>\n    </tr>\n    <tr>\n      <th>4</th>\n      <td>IDRCHF</td>\n      <td>INDONESIAN RUPIAH / SWISS FRANC</td>\n      <td>forex</td>\n      <td></td>\n      <td>10000000</td>\n      <td>1</td>\n      <td>false</td>\n      <td>10</td>\n      <td>CHF</td>\n      <td>None</td>\n      <td>...</td>\n      <td>1</td>\n      <td>0</td>\n      <td>0</td>\n      <td>0</td>\n      <td>0</td>\n      <td>0</td>\n      <td>0</td>\n      <td>0</td>\n      <td>0</td>\n      <td>streaming</td>\n    </tr>\n  </tbody>\n</table>\n<p>5 rows × 152 columns</p>\n</div>"
     },
     "execution_count": 3,
     "metadata": {},
     "output_type": "execute_result"
    }
   ],
   "source": [
    "fs = tvs.ForexScreener()\n",
    "df = fs.get()\n",
    "df.head()"
   ],
   "metadata": {
    "collapsed": false,
    "ExecuteTime": {
     "end_time": "2023-08-02T13:23:52.549193108Z",
     "start_time": "2023-08-02T13:23:52.209497055Z"
    }
   },
   "id": "5a3140ab1afc7830"
  },
  {
   "cell_type": "code",
   "execution_count": 4,
   "outputs": [
    {
     "data": {
      "text/plain": "                    name                                        description  \\\n0                VSOUSDT                                       Verso/Tether   \n1  AVOGEWAVAX_EEBCAC.USD  AVOGE / WRAPPED AVAX on Avalanche (EEBCAC...1A...   \n2             WMATICWATT             Wrapped Matic / WATT (0x3cbdd...0e32e)   \n3                BTTUSDT                            BitTorrent / Tether USD   \n4          BTCUSD28M2024                    BTC Futures Contract (Jun 2024)   \n\n      type subtype       pricescale  minmov fractional  minmove2 currency  \\\n0     spot  crypto          1000000       1      false         0     USDT   \n1     spot  crypto  100000000000000       1      false         0      USD   \n2     spot  crypto      10000000000       1      false         0     WATT   \n3     spot  crypto      10000000000       1      false         0     USDT   \n4  futures  crypto               10       1      false         0      USD   \n\n  fundamental_currency_code  ...  Candle.Marubozu.White  Candle.MorningStar  \\\n0                       USD  ...                      0                   0   \n1                       USD  ...                      0                   0   \n2                       USD  ...                      0                   0   \n3                       USD  ...                      0                   0   \n4                       USD  ...                      0                   0   \n\n   Candle.ShootingStar  Candle.SpinningTop.Black  Candle.SpinningTop.White  \\\n0                    0                         0                         0   \n1                    0                         0                         0   \n2                    0                         0                         0   \n3                    0                         0                         0   \n4                    0                         0                         0   \n\n   Candle.3BlackCrows  Candle.3WhiteSoldiers  Candle.TriStar.Bearish  \\\n0                   0                      0                       0   \n1                   0                      0                       0   \n2                   0                      0                       0   \n3                   0                      0                       0   \n4                   0                      0                       0   \n\n   Candle.TriStar.Bullish  update_mode|1D  \n0                       0       streaming  \n1                       0       streaming  \n2                       0       streaming  \n3                       0       streaming  \n4                       0       streaming  \n\n[5 rows x 162 columns]",
      "text/html": "<div>\n<style scoped>\n    .dataframe tbody tr th:only-of-type {\n        vertical-align: middle;\n    }\n\n    .dataframe tbody tr th {\n        vertical-align: top;\n    }\n\n    .dataframe thead th {\n        text-align: right;\n    }\n</style>\n<table border=\"1\" class=\"dataframe\">\n  <thead>\n    <tr style=\"text-align: right;\">\n      <th></th>\n      <th>name</th>\n      <th>description</th>\n      <th>type</th>\n      <th>subtype</th>\n      <th>pricescale</th>\n      <th>minmov</th>\n      <th>fractional</th>\n      <th>minmove2</th>\n      <th>currency</th>\n      <th>fundamental_currency_code</th>\n      <th>...</th>\n      <th>Candle.Marubozu.White</th>\n      <th>Candle.MorningStar</th>\n      <th>Candle.ShootingStar</th>\n      <th>Candle.SpinningTop.Black</th>\n      <th>Candle.SpinningTop.White</th>\n      <th>Candle.3BlackCrows</th>\n      <th>Candle.3WhiteSoldiers</th>\n      <th>Candle.TriStar.Bearish</th>\n      <th>Candle.TriStar.Bullish</th>\n      <th>update_mode|1D</th>\n    </tr>\n  </thead>\n  <tbody>\n    <tr>\n      <th>0</th>\n      <td>VSOUSDT</td>\n      <td>Verso/Tether</td>\n      <td>spot</td>\n      <td>crypto</td>\n      <td>1000000</td>\n      <td>1</td>\n      <td>false</td>\n      <td>0</td>\n      <td>USDT</td>\n      <td>USD</td>\n      <td>...</td>\n      <td>0</td>\n      <td>0</td>\n      <td>0</td>\n      <td>0</td>\n      <td>0</td>\n      <td>0</td>\n      <td>0</td>\n      <td>0</td>\n      <td>0</td>\n      <td>streaming</td>\n    </tr>\n    <tr>\n      <th>1</th>\n      <td>AVOGEWAVAX_EEBCAC.USD</td>\n      <td>AVOGE / WRAPPED AVAX on Avalanche (EEBCAC...1A...</td>\n      <td>spot</td>\n      <td>crypto</td>\n      <td>100000000000000</td>\n      <td>1</td>\n      <td>false</td>\n      <td>0</td>\n      <td>USD</td>\n      <td>USD</td>\n      <td>...</td>\n      <td>0</td>\n      <td>0</td>\n      <td>0</td>\n      <td>0</td>\n      <td>0</td>\n      <td>0</td>\n      <td>0</td>\n      <td>0</td>\n      <td>0</td>\n      <td>streaming</td>\n    </tr>\n    <tr>\n      <th>2</th>\n      <td>WMATICWATT</td>\n      <td>Wrapped Matic / WATT (0x3cbdd...0e32e)</td>\n      <td>spot</td>\n      <td>crypto</td>\n      <td>10000000000</td>\n      <td>1</td>\n      <td>false</td>\n      <td>0</td>\n      <td>WATT</td>\n      <td>USD</td>\n      <td>...</td>\n      <td>0</td>\n      <td>0</td>\n      <td>0</td>\n      <td>0</td>\n      <td>0</td>\n      <td>0</td>\n      <td>0</td>\n      <td>0</td>\n      <td>0</td>\n      <td>streaming</td>\n    </tr>\n    <tr>\n      <th>3</th>\n      <td>BTTUSDT</td>\n      <td>BitTorrent / Tether USD</td>\n      <td>spot</td>\n      <td>crypto</td>\n      <td>10000000000</td>\n      <td>1</td>\n      <td>false</td>\n      <td>0</td>\n      <td>USDT</td>\n      <td>USD</td>\n      <td>...</td>\n      <td>0</td>\n      <td>0</td>\n      <td>0</td>\n      <td>0</td>\n      <td>0</td>\n      <td>0</td>\n      <td>0</td>\n      <td>0</td>\n      <td>0</td>\n      <td>streaming</td>\n    </tr>\n    <tr>\n      <th>4</th>\n      <td>BTCUSD28M2024</td>\n      <td>BTC Futures Contract (Jun 2024)</td>\n      <td>futures</td>\n      <td>crypto</td>\n      <td>10</td>\n      <td>1</td>\n      <td>false</td>\n      <td>0</td>\n      <td>USD</td>\n      <td>USD</td>\n      <td>...</td>\n      <td>0</td>\n      <td>0</td>\n      <td>0</td>\n      <td>0</td>\n      <td>0</td>\n      <td>0</td>\n      <td>0</td>\n      <td>0</td>\n      <td>0</td>\n      <td>streaming</td>\n    </tr>\n  </tbody>\n</table>\n<p>5 rows × 162 columns</p>\n</div>"
     },
     "execution_count": 4,
     "metadata": {},
     "output_type": "execute_result"
    }
   ],
   "source": [
    "cs = tvs.CryptoScreener()\n",
    "df = cs.get()\n",
    "df.head()"
   ],
   "metadata": {
    "collapsed": false,
    "ExecuteTime": {
     "end_time": "2023-08-02T13:23:53.082269595Z",
     "start_time": "2023-08-02T13:23:52.548342233Z"
    }
   },
   "id": "bbede913c3cf6067"
  },
  {
   "cell_type": "markdown",
   "source": [
    "## Options"
   ],
   "metadata": {
    "collapsed": false
   },
   "id": "e6b09b518bdabd39"
  },
  {
   "cell_type": "markdown",
   "source": [
    "## Range"
   ],
   "metadata": {
    "collapsed": false
   },
   "id": "8c329b0e0edac821"
  },
  {
   "cell_type": "code",
   "execution_count": 5,
   "outputs": [
    {
     "data": {
      "text/plain": "       name                           description   type subtype  pricescale  \\\n0      AAPL                            Apple Inc.  stock  common         100   \n1      MSFT                 Microsoft Corporation  stock  common         100   \n2     GOOGL                         Alphabet Inc.  stock  common         100   \n3      GOOG                         Alphabet Inc.  stock  common         100   \n4      AMZN                      Amazon.com, Inc.  stock  common         100   \n...     ...                                   ...    ...     ...         ...   \n9995   SNRG                Susglobal Energy Corp.  stock  common       10000   \n9996  MEDXF           Medexus Pharmaceuticals Inc  stock  common         100   \n9997   LEJU                 Leju Holdings Limited     dr                 100   \n9998    MRM  MEDIROM Healthcare Technologies Inc.     dr                 100   \n9999   FRSX    Foresight Autonomous Holdings Ltd.     dr                 100   \n\n      minmov fractional  minmove2 currency fundamental_currency_code  ...  \\\n0          1      false         0      USD                       USD  ...   \n1          1      false         0      USD                       USD  ...   \n2          1      false         0      USD                       USD  ...   \n3          1      false         0      USD                       USD  ...   \n4          1      false         0      USD                       USD  ...   \n...      ...        ...       ...      ...                       ...  ...   \n9995       1      false         0      USD                       USD  ...   \n9996       1      false         0      USD                       USD  ...   \n9997       1      false         0      USD                       USD  ...   \n9998       1      false         0      USD                       USD  ...   \n9999       1      false         0      USD                       USD  ...   \n\n      Volatility.D  Volatility.M  Volatility.W        VWAP        VWMA  \\\n0         0.742524      1.429603      1.253602  195.871667  192.514573   \n1         1.450405      2.450314      2.401217  336.193333  342.891793   \n2         1.561065      2.280839      2.155242  131.620000  123.777027   \n3         1.804971      2.219461      2.168112  131.853333  124.171603   \n4         1.572786      2.153737      2.337264  132.333300  130.862509   \n...            ...           ...           ...         ...         ...   \n9995     18.197279     17.561868     31.701711    0.260733    0.253920   \n9996      1.270440      3.697582      2.035252    1.598400    1.494170   \n9997     11.607143     12.505946     14.126927    2.366667    2.279292   \n9998      3.016591      3.699972      0.963772    6.630000    6.345391   \n9999      6.060606     10.257196     10.999747    3.056667    2.804240   \n\n        Perf.W        W.R     Perf.Y   Perf.YTD         update_mode|1D  \n0     1.176744 -30.523256  21.486243  50.142002  delayed_streaming_900  \n1    -3.102763 -80.678505  21.063998  38.365970  delayed_streaming_900  \n2     8.396506 -14.110825  14.093669  46.843780  delayed_streaming_900  \n3     8.212996 -14.169646  14.160824  46.821774  delayed_streaming_900  \n4     1.840538 -47.058824  -2.422940  54.095483  delayed_streaming_900  \n...        ...        ...        ...        ...                    ...  \n9995  8.123317 -26.666667 -17.737003  80.536913  delayed_streaming_900  \n9996  1.845958 -11.100134 -10.112360  -1.234568  delayed_streaming_900  \n9997  5.829596 -28.347732  32.770745  71.014493  delayed_streaming_900  \n9998 -3.211679 -44.000000   5.741627  42.580645  delayed_streaming_900  \n9999  2.348993 -32.000000 -17.848592  15.553414  delayed_streaming_900  \n\n[10000 rows x 248 columns]",
      "text/html": "<div>\n<style scoped>\n    .dataframe tbody tr th:only-of-type {\n        vertical-align: middle;\n    }\n\n    .dataframe tbody tr th {\n        vertical-align: top;\n    }\n\n    .dataframe thead th {\n        text-align: right;\n    }\n</style>\n<table border=\"1\" class=\"dataframe\">\n  <thead>\n    <tr style=\"text-align: right;\">\n      <th></th>\n      <th>name</th>\n      <th>description</th>\n      <th>type</th>\n      <th>subtype</th>\n      <th>pricescale</th>\n      <th>minmov</th>\n      <th>fractional</th>\n      <th>minmove2</th>\n      <th>currency</th>\n      <th>fundamental_currency_code</th>\n      <th>...</th>\n      <th>Volatility.D</th>\n      <th>Volatility.M</th>\n      <th>Volatility.W</th>\n      <th>VWAP</th>\n      <th>VWMA</th>\n      <th>Perf.W</th>\n      <th>W.R</th>\n      <th>Perf.Y</th>\n      <th>Perf.YTD</th>\n      <th>update_mode|1D</th>\n    </tr>\n  </thead>\n  <tbody>\n    <tr>\n      <th>0</th>\n      <td>AAPL</td>\n      <td>Apple Inc.</td>\n      <td>stock</td>\n      <td>common</td>\n      <td>100</td>\n      <td>1</td>\n      <td>false</td>\n      <td>0</td>\n      <td>USD</td>\n      <td>USD</td>\n      <td>...</td>\n      <td>0.742524</td>\n      <td>1.429603</td>\n      <td>1.253602</td>\n      <td>195.871667</td>\n      <td>192.514573</td>\n      <td>1.176744</td>\n      <td>-30.523256</td>\n      <td>21.486243</td>\n      <td>50.142002</td>\n      <td>delayed_streaming_900</td>\n    </tr>\n    <tr>\n      <th>1</th>\n      <td>MSFT</td>\n      <td>Microsoft Corporation</td>\n      <td>stock</td>\n      <td>common</td>\n      <td>100</td>\n      <td>1</td>\n      <td>false</td>\n      <td>0</td>\n      <td>USD</td>\n      <td>USD</td>\n      <td>...</td>\n      <td>1.450405</td>\n      <td>2.450314</td>\n      <td>2.401217</td>\n      <td>336.193333</td>\n      <td>342.891793</td>\n      <td>-3.102763</td>\n      <td>-80.678505</td>\n      <td>21.063998</td>\n      <td>38.365970</td>\n      <td>delayed_streaming_900</td>\n    </tr>\n    <tr>\n      <th>2</th>\n      <td>GOOGL</td>\n      <td>Alphabet Inc.</td>\n      <td>stock</td>\n      <td>common</td>\n      <td>100</td>\n      <td>1</td>\n      <td>false</td>\n      <td>0</td>\n      <td>USD</td>\n      <td>USD</td>\n      <td>...</td>\n      <td>1.561065</td>\n      <td>2.280839</td>\n      <td>2.155242</td>\n      <td>131.620000</td>\n      <td>123.777027</td>\n      <td>8.396506</td>\n      <td>-14.110825</td>\n      <td>14.093669</td>\n      <td>46.843780</td>\n      <td>delayed_streaming_900</td>\n    </tr>\n    <tr>\n      <th>3</th>\n      <td>GOOG</td>\n      <td>Alphabet Inc.</td>\n      <td>stock</td>\n      <td>common</td>\n      <td>100</td>\n      <td>1</td>\n      <td>false</td>\n      <td>0</td>\n      <td>USD</td>\n      <td>USD</td>\n      <td>...</td>\n      <td>1.804971</td>\n      <td>2.219461</td>\n      <td>2.168112</td>\n      <td>131.853333</td>\n      <td>124.171603</td>\n      <td>8.212996</td>\n      <td>-14.169646</td>\n      <td>14.160824</td>\n      <td>46.821774</td>\n      <td>delayed_streaming_900</td>\n    </tr>\n    <tr>\n      <th>4</th>\n      <td>AMZN</td>\n      <td>Amazon.com, Inc.</td>\n      <td>stock</td>\n      <td>common</td>\n      <td>100</td>\n      <td>1</td>\n      <td>false</td>\n      <td>0</td>\n      <td>USD</td>\n      <td>USD</td>\n      <td>...</td>\n      <td>1.572786</td>\n      <td>2.153737</td>\n      <td>2.337264</td>\n      <td>132.333300</td>\n      <td>130.862509</td>\n      <td>1.840538</td>\n      <td>-47.058824</td>\n      <td>-2.422940</td>\n      <td>54.095483</td>\n      <td>delayed_streaming_900</td>\n    </tr>\n    <tr>\n      <th>...</th>\n      <td>...</td>\n      <td>...</td>\n      <td>...</td>\n      <td>...</td>\n      <td>...</td>\n      <td>...</td>\n      <td>...</td>\n      <td>...</td>\n      <td>...</td>\n      <td>...</td>\n      <td>...</td>\n      <td>...</td>\n      <td>...</td>\n      <td>...</td>\n      <td>...</td>\n      <td>...</td>\n      <td>...</td>\n      <td>...</td>\n      <td>...</td>\n      <td>...</td>\n      <td>...</td>\n    </tr>\n    <tr>\n      <th>9995</th>\n      <td>SNRG</td>\n      <td>Susglobal Energy Corp.</td>\n      <td>stock</td>\n      <td>common</td>\n      <td>10000</td>\n      <td>1</td>\n      <td>false</td>\n      <td>0</td>\n      <td>USD</td>\n      <td>USD</td>\n      <td>...</td>\n      <td>18.197279</td>\n      <td>17.561868</td>\n      <td>31.701711</td>\n      <td>0.260733</td>\n      <td>0.253920</td>\n      <td>8.123317</td>\n      <td>-26.666667</td>\n      <td>-17.737003</td>\n      <td>80.536913</td>\n      <td>delayed_streaming_900</td>\n    </tr>\n    <tr>\n      <th>9996</th>\n      <td>MEDXF</td>\n      <td>Medexus Pharmaceuticals Inc</td>\n      <td>stock</td>\n      <td>common</td>\n      <td>100</td>\n      <td>1</td>\n      <td>false</td>\n      <td>0</td>\n      <td>USD</td>\n      <td>USD</td>\n      <td>...</td>\n      <td>1.270440</td>\n      <td>3.697582</td>\n      <td>2.035252</td>\n      <td>1.598400</td>\n      <td>1.494170</td>\n      <td>1.845958</td>\n      <td>-11.100134</td>\n      <td>-10.112360</td>\n      <td>-1.234568</td>\n      <td>delayed_streaming_900</td>\n    </tr>\n    <tr>\n      <th>9997</th>\n      <td>LEJU</td>\n      <td>Leju Holdings Limited</td>\n      <td>dr</td>\n      <td></td>\n      <td>100</td>\n      <td>1</td>\n      <td>false</td>\n      <td>0</td>\n      <td>USD</td>\n      <td>USD</td>\n      <td>...</td>\n      <td>11.607143</td>\n      <td>12.505946</td>\n      <td>14.126927</td>\n      <td>2.366667</td>\n      <td>2.279292</td>\n      <td>5.829596</td>\n      <td>-28.347732</td>\n      <td>32.770745</td>\n      <td>71.014493</td>\n      <td>delayed_streaming_900</td>\n    </tr>\n    <tr>\n      <th>9998</th>\n      <td>MRM</td>\n      <td>MEDIROM Healthcare Technologies Inc.</td>\n      <td>dr</td>\n      <td></td>\n      <td>100</td>\n      <td>1</td>\n      <td>false</td>\n      <td>0</td>\n      <td>USD</td>\n      <td>USD</td>\n      <td>...</td>\n      <td>3.016591</td>\n      <td>3.699972</td>\n      <td>0.963772</td>\n      <td>6.630000</td>\n      <td>6.345391</td>\n      <td>-3.211679</td>\n      <td>-44.000000</td>\n      <td>5.741627</td>\n      <td>42.580645</td>\n      <td>delayed_streaming_900</td>\n    </tr>\n    <tr>\n      <th>9999</th>\n      <td>FRSX</td>\n      <td>Foresight Autonomous Holdings Ltd.</td>\n      <td>dr</td>\n      <td></td>\n      <td>100</td>\n      <td>1</td>\n      <td>false</td>\n      <td>0</td>\n      <td>USD</td>\n      <td>USD</td>\n      <td>...</td>\n      <td>6.060606</td>\n      <td>10.257196</td>\n      <td>10.999747</td>\n      <td>3.056667</td>\n      <td>2.804240</td>\n      <td>2.348993</td>\n      <td>-32.000000</td>\n      <td>-17.848592</td>\n      <td>15.553414</td>\n      <td>delayed_streaming_900</td>\n    </tr>\n  </tbody>\n</table>\n<p>10000 rows × 248 columns</p>\n</div>"
     },
     "execution_count": 5,
     "metadata": {},
     "output_type": "execute_result"
    }
   ],
   "source": [
    "ss = tvs.StockScreener()\n",
    "ss.set_range(0, 10000)\n",
    "df = ss.get()\n",
    "df"
   ],
   "metadata": {
    "collapsed": false,
    "ExecuteTime": {
     "end_time": "2023-08-02T13:23:57.205229868Z",
     "start_time": "2023-08-02T13:23:53.083340795Z"
    }
   },
   "id": "47a993423929c7bb"
  },
  {
   "cell_type": "markdown",
   "source": [
    "# Sorting"
   ],
   "metadata": {
    "collapsed": false
   },
   "id": "31911fef050e517b"
  },
  {
   "cell_type": "code",
   "execution_count": 6,
   "outputs": [
    {
     "data": {
      "text/plain": "    name description   type    subtype  pricescale  minmov fractional  \\\n0  FNMAT  Fannie Mae  stock  preferred         100       1      false   \n1  FNMAK  Fannie Mae  stock  preferred         100       1      false   \n2  FNMAO  Fannie Mae  stock  preferred         100       1      false   \n3  FNMAN  Fannie Mae  stock  preferred         100       1      false   \n4  FNMFM  Fannie Mae  stock  preferred         100       1      false   \n\n   minmove2 currency fundamental_currency_code  ...  Volatility.D  \\\n0         0      USD                       USD  ...      9.569378   \n1         0      USD                       USD  ...      6.666667   \n2         0      USD                       USD  ...      1.754386   \n3         0      USD                       USD  ...      8.668731   \n4         0      USD                       USD  ...      0.983607   \n\n   Volatility.M  Volatility.W      VWAP      VWMA    Perf.W        W.R  \\\n0      6.073195      7.327724  2.193333  2.229590  0.000000 -56.666667   \n1      1.195579      2.222222  3.220000  2.675637 -3.669725 -31.578947   \n2      3.669155      3.401554  2.850000  2.894570 -3.389831 -54.901961   \n3      3.555245      2.089783  3.410000  3.107084 -4.632153 -36.000000   \n4      0.304095      0.327869  3.053333  2.632229 -1.929260  -5.405405   \n\n      Perf.Y   Perf.YTD         update_mode|1D  \n0 -26.421405  22.222222  delayed_streaming_900  \n1 -25.882353   7.508532  delayed_streaming_900  \n2 -24.000000  14.000000  delayed_streaming_900  \n3 -29.859719 -15.015540  delayed_streaming_900  \n4 -33.695652  -1.612903  delayed_streaming_900  \n\n[5 rows x 248 columns]",
      "text/html": "<div>\n<style scoped>\n    .dataframe tbody tr th:only-of-type {\n        vertical-align: middle;\n    }\n\n    .dataframe tbody tr th {\n        vertical-align: top;\n    }\n\n    .dataframe thead th {\n        text-align: right;\n    }\n</style>\n<table border=\"1\" class=\"dataframe\">\n  <thead>\n    <tr style=\"text-align: right;\">\n      <th></th>\n      <th>name</th>\n      <th>description</th>\n      <th>type</th>\n      <th>subtype</th>\n      <th>pricescale</th>\n      <th>minmov</th>\n      <th>fractional</th>\n      <th>minmove2</th>\n      <th>currency</th>\n      <th>fundamental_currency_code</th>\n      <th>...</th>\n      <th>Volatility.D</th>\n      <th>Volatility.M</th>\n      <th>Volatility.W</th>\n      <th>VWAP</th>\n      <th>VWMA</th>\n      <th>Perf.W</th>\n      <th>W.R</th>\n      <th>Perf.Y</th>\n      <th>Perf.YTD</th>\n      <th>update_mode|1D</th>\n    </tr>\n  </thead>\n  <tbody>\n    <tr>\n      <th>0</th>\n      <td>FNMAT</td>\n      <td>Fannie Mae</td>\n      <td>stock</td>\n      <td>preferred</td>\n      <td>100</td>\n      <td>1</td>\n      <td>false</td>\n      <td>0</td>\n      <td>USD</td>\n      <td>USD</td>\n      <td>...</td>\n      <td>9.569378</td>\n      <td>6.073195</td>\n      <td>7.327724</td>\n      <td>2.193333</td>\n      <td>2.229590</td>\n      <td>0.000000</td>\n      <td>-56.666667</td>\n      <td>-26.421405</td>\n      <td>22.222222</td>\n      <td>delayed_streaming_900</td>\n    </tr>\n    <tr>\n      <th>1</th>\n      <td>FNMAK</td>\n      <td>Fannie Mae</td>\n      <td>stock</td>\n      <td>preferred</td>\n      <td>100</td>\n      <td>1</td>\n      <td>false</td>\n      <td>0</td>\n      <td>USD</td>\n      <td>USD</td>\n      <td>...</td>\n      <td>6.666667</td>\n      <td>1.195579</td>\n      <td>2.222222</td>\n      <td>3.220000</td>\n      <td>2.675637</td>\n      <td>-3.669725</td>\n      <td>-31.578947</td>\n      <td>-25.882353</td>\n      <td>7.508532</td>\n      <td>delayed_streaming_900</td>\n    </tr>\n    <tr>\n      <th>2</th>\n      <td>FNMAO</td>\n      <td>Fannie Mae</td>\n      <td>stock</td>\n      <td>preferred</td>\n      <td>100</td>\n      <td>1</td>\n      <td>false</td>\n      <td>0</td>\n      <td>USD</td>\n      <td>USD</td>\n      <td>...</td>\n      <td>1.754386</td>\n      <td>3.669155</td>\n      <td>3.401554</td>\n      <td>2.850000</td>\n      <td>2.894570</td>\n      <td>-3.389831</td>\n      <td>-54.901961</td>\n      <td>-24.000000</td>\n      <td>14.000000</td>\n      <td>delayed_streaming_900</td>\n    </tr>\n    <tr>\n      <th>3</th>\n      <td>FNMAN</td>\n      <td>Fannie Mae</td>\n      <td>stock</td>\n      <td>preferred</td>\n      <td>100</td>\n      <td>1</td>\n      <td>false</td>\n      <td>0</td>\n      <td>USD</td>\n      <td>USD</td>\n      <td>...</td>\n      <td>8.668731</td>\n      <td>3.555245</td>\n      <td>2.089783</td>\n      <td>3.410000</td>\n      <td>3.107084</td>\n      <td>-4.632153</td>\n      <td>-36.000000</td>\n      <td>-29.859719</td>\n      <td>-15.015540</td>\n      <td>delayed_streaming_900</td>\n    </tr>\n    <tr>\n      <th>4</th>\n      <td>FNMFM</td>\n      <td>Fannie Mae</td>\n      <td>stock</td>\n      <td>preferred</td>\n      <td>100</td>\n      <td>1</td>\n      <td>false</td>\n      <td>0</td>\n      <td>USD</td>\n      <td>USD</td>\n      <td>...</td>\n      <td>0.983607</td>\n      <td>0.304095</td>\n      <td>0.327869</td>\n      <td>3.053333</td>\n      <td>2.632229</td>\n      <td>-1.929260</td>\n      <td>-5.405405</td>\n      <td>-33.695652</td>\n      <td>-1.612903</td>\n      <td>delayed_streaming_900</td>\n    </tr>\n  </tbody>\n</table>\n<p>5 rows × 248 columns</p>\n</div>"
     },
     "execution_count": 6,
     "metadata": {},
     "output_type": "execute_result"
    }
   ],
   "source": [
    "ss = tvs.StockScreener()\n",
    "ss.sort_by('ebitda', 'desc')\n",
    "df = ss.get()\n",
    "df.head()"
   ],
   "metadata": {
    "collapsed": false,
    "ExecuteTime": {
     "end_time": "2023-08-02T13:23:58.116247589Z",
     "start_time": "2023-08-02T13:23:57.205654622Z"
    }
   },
   "id": "293d3c14f5cf6b4f"
  },
  {
   "cell_type": "markdown",
   "source": [
    "# Filters"
   ],
   "metadata": {
    "collapsed": false
   },
   "id": "247e54be1899a203"
  },
  {
   "cell_type": "markdown",
   "source": [
    "## Markets"
   ],
   "metadata": {
    "collapsed": false
   },
   "id": "4592f2c3da23c6f1"
  },
  {
   "cell_type": "code",
   "execution_count": 7,
   "outputs": [
    {
     "data": {
      "text/plain": "    name            description   type subtype  pricescale  minmov fractional  \\\n0   AAPL             Apple Inc.  stock  common         100       1      false   \n1   MSFT  Microsoft Corporation  stock  common         100       1      false   \n2  GOOGL          Alphabet Inc.  stock  common         100       1      false   \n3   GOOG          Alphabet Inc.  stock  common         100       1      false   \n4   AMZN       Amazon.com, Inc.  stock  common         100       1      false   \n\n   minmove2 currency fundamental_currency_code  ...  Volatility.D  \\\n0         0      USD                       USD  ...      0.742524   \n1         0      USD                       USD  ...      1.450405   \n2         0      USD                       USD  ...      1.561065   \n3         0      USD                       USD  ...      1.804971   \n4         0      USD                       USD  ...      1.572786   \n\n   Volatility.M  Volatility.W        VWAP        VWMA    Perf.W        W.R  \\\n0      1.429603      1.253602  195.871667  192.514573  1.176744 -30.523256   \n1      2.450314      2.401217  336.193333  342.891793 -3.102763 -80.678505   \n2      2.280839      2.155242  131.620000  123.777027  8.396506 -14.110825   \n3      2.219461      2.168112  131.853333  124.171603  8.212996 -14.169646   \n4      2.153737      2.337264  132.333300  130.862509  1.840538 -47.058824   \n\n      Perf.Y   Perf.YTD         update_mode|1D  \n0  21.486243  50.142002  delayed_streaming_900  \n1  21.063998  38.365970  delayed_streaming_900  \n2  14.093669  46.843780  delayed_streaming_900  \n3  14.160824  46.821774  delayed_streaming_900  \n4  -2.422940  54.095483  delayed_streaming_900  \n\n[5 rows x 248 columns]",
      "text/html": "<div>\n<style scoped>\n    .dataframe tbody tr th:only-of-type {\n        vertical-align: middle;\n    }\n\n    .dataframe tbody tr th {\n        vertical-align: top;\n    }\n\n    .dataframe thead th {\n        text-align: right;\n    }\n</style>\n<table border=\"1\" class=\"dataframe\">\n  <thead>\n    <tr style=\"text-align: right;\">\n      <th></th>\n      <th>name</th>\n      <th>description</th>\n      <th>type</th>\n      <th>subtype</th>\n      <th>pricescale</th>\n      <th>minmov</th>\n      <th>fractional</th>\n      <th>minmove2</th>\n      <th>currency</th>\n      <th>fundamental_currency_code</th>\n      <th>...</th>\n      <th>Volatility.D</th>\n      <th>Volatility.M</th>\n      <th>Volatility.W</th>\n      <th>VWAP</th>\n      <th>VWMA</th>\n      <th>Perf.W</th>\n      <th>W.R</th>\n      <th>Perf.Y</th>\n      <th>Perf.YTD</th>\n      <th>update_mode|1D</th>\n    </tr>\n  </thead>\n  <tbody>\n    <tr>\n      <th>0</th>\n      <td>AAPL</td>\n      <td>Apple Inc.</td>\n      <td>stock</td>\n      <td>common</td>\n      <td>100</td>\n      <td>1</td>\n      <td>false</td>\n      <td>0</td>\n      <td>USD</td>\n      <td>USD</td>\n      <td>...</td>\n      <td>0.742524</td>\n      <td>1.429603</td>\n      <td>1.253602</td>\n      <td>195.871667</td>\n      <td>192.514573</td>\n      <td>1.176744</td>\n      <td>-30.523256</td>\n      <td>21.486243</td>\n      <td>50.142002</td>\n      <td>delayed_streaming_900</td>\n    </tr>\n    <tr>\n      <th>1</th>\n      <td>MSFT</td>\n      <td>Microsoft Corporation</td>\n      <td>stock</td>\n      <td>common</td>\n      <td>100</td>\n      <td>1</td>\n      <td>false</td>\n      <td>0</td>\n      <td>USD</td>\n      <td>USD</td>\n      <td>...</td>\n      <td>1.450405</td>\n      <td>2.450314</td>\n      <td>2.401217</td>\n      <td>336.193333</td>\n      <td>342.891793</td>\n      <td>-3.102763</td>\n      <td>-80.678505</td>\n      <td>21.063998</td>\n      <td>38.365970</td>\n      <td>delayed_streaming_900</td>\n    </tr>\n    <tr>\n      <th>2</th>\n      <td>GOOGL</td>\n      <td>Alphabet Inc.</td>\n      <td>stock</td>\n      <td>common</td>\n      <td>100</td>\n      <td>1</td>\n      <td>false</td>\n      <td>0</td>\n      <td>USD</td>\n      <td>USD</td>\n      <td>...</td>\n      <td>1.561065</td>\n      <td>2.280839</td>\n      <td>2.155242</td>\n      <td>131.620000</td>\n      <td>123.777027</td>\n      <td>8.396506</td>\n      <td>-14.110825</td>\n      <td>14.093669</td>\n      <td>46.843780</td>\n      <td>delayed_streaming_900</td>\n    </tr>\n    <tr>\n      <th>3</th>\n      <td>GOOG</td>\n      <td>Alphabet Inc.</td>\n      <td>stock</td>\n      <td>common</td>\n      <td>100</td>\n      <td>1</td>\n      <td>false</td>\n      <td>0</td>\n      <td>USD</td>\n      <td>USD</td>\n      <td>...</td>\n      <td>1.804971</td>\n      <td>2.219461</td>\n      <td>2.168112</td>\n      <td>131.853333</td>\n      <td>124.171603</td>\n      <td>8.212996</td>\n      <td>-14.169646</td>\n      <td>14.160824</td>\n      <td>46.821774</td>\n      <td>delayed_streaming_900</td>\n    </tr>\n    <tr>\n      <th>4</th>\n      <td>AMZN</td>\n      <td>Amazon.com, Inc.</td>\n      <td>stock</td>\n      <td>common</td>\n      <td>100</td>\n      <td>1</td>\n      <td>false</td>\n      <td>0</td>\n      <td>USD</td>\n      <td>USD</td>\n      <td>...</td>\n      <td>1.572786</td>\n      <td>2.153737</td>\n      <td>2.337264</td>\n      <td>132.333300</td>\n      <td>130.862509</td>\n      <td>1.840538</td>\n      <td>-47.058824</td>\n      <td>-2.422940</td>\n      <td>54.095483</td>\n      <td>delayed_streaming_900</td>\n    </tr>\n  </tbody>\n</table>\n<p>5 rows × 248 columns</p>\n</div>"
     },
     "execution_count": 7,
     "metadata": {},
     "output_type": "execute_result"
    }
   ],
   "source": [
    "ss = tvs.StockScreener()\n",
    "ss.set_markets('america')\n",
    "df = ss.get()\n",
    "df.head()"
   ],
   "metadata": {
    "collapsed": false,
    "ExecuteTime": {
     "end_time": "2023-08-02T13:23:59.147868360Z",
     "start_time": "2023-08-02T13:23:58.116502843Z"
    }
   },
   "id": "7f6b8ff3f9bf5cf5"
  },
  {
   "cell_type": "code",
   "execution_count": 8,
   "outputs": [
    {
     "name": "stdout",
     "output_type": "stream",
     "text": [
      "['america', 'uk', 'india', 'spain', 'russia', 'australia', 'brazil', 'japan', 'newzealand', 'turkey', 'switzerland', 'hongkong', 'taiwan', 'netherlands', 'belgium', 'portugal', 'france', 'mexico', 'canada', 'colombia', 'uae', 'nigeria', 'singapore', 'germany', 'pakistan', 'peru', 'poland', 'italy', 'argentina', 'israel', 'egypt', 'srilanka', 'serbia', 'chile', 'china', 'malaysia', 'morocco', 'ksa', 'bahrain', 'qatar', 'indonesia', 'finland', 'iceland', 'denmark', 'romania', 'hungary', 'sweden', 'slovakia', 'lithuania', 'luxembourg', 'estonia', 'latvia', 'vietnam', 'rsa', 'thailand', 'tunisia', 'korea', 'kenya', 'kuwait', 'norway', 'philippines', 'greece', 'venezuela', 'cyprus', 'bangladesh']\n"
     ]
    }
   ],
   "source": [
    "# Get the list of available markets\n",
    "print(tvs.data['markets'])"
   ],
   "metadata": {
    "collapsed": false,
    "ExecuteTime": {
     "end_time": "2023-08-02T13:23:59.216070844Z",
     "start_time": "2023-08-02T13:23:59.148563704Z"
    }
   },
   "id": "3ed464ea6f5604b1"
  },
  {
   "cell_type": "markdown",
   "source": [
    "### By Columns"
   ],
   "metadata": {
    "collapsed": false
   },
   "id": "b26cbeac916a18fb"
  },
  {
   "cell_type": "code",
   "execution_count": 9,
   "outputs": [
    {
     "data": {
      "text/plain": "    name         description   type subtype  pricescale  minmov fractional  \\\n0      V           Visa Inc.  stock  common         100       1      false   \n1   AVGO       Broadcom Inc.  stock  common         100       1      false   \n2    NVO    Novo Nordisk A/S     dr                 100       1      false   \n3  TOYOF  Toyota Motor Corp.  stock  common         100       1      false   \n4  NVSEF         Novartis AG  stock  common         100       1      false   \n\n   minmove2 currency fundamental_currency_code  ...  Volatility.D  \\\n0         0      USD                       USD  ...      1.573840   \n1         0      USD                       USD  ...      2.553100   \n2         0      USD                       USD  ...      0.806121   \n3         0      USD                       USD  ...      2.970588   \n4         0      USD                       USD  ...      3.724658   \n\n   Volatility.M  Volatility.W        VWAP        VWMA    Perf.W        W.R  \\\n0      1.479852      2.176109  239.170000  239.339544 -0.099992 -31.599774   \n1      2.072803      2.006009  912.773600  891.182998  2.151851  -7.080828   \n2      1.305786      1.246710  161.522000  159.139315  0.716154 -45.249294   \n3      2.048279      2.122374   17.191667   16.375320  3.299340  -6.940874   \n4      1.267719      2.423099  106.050000  101.830860  2.463768   0.000000   \n\n      Perf.Y   Perf.YTD         update_mode|1D  \n0  15.029983  14.573777  delayed_streaming_900  \n1  73.117814  62.831858  delayed_streaming_900  \n2  38.301693  17.818897  delayed_streaming_900  \n3   0.116279  23.000000  delayed_streaming_900  \n4  18.161560  15.321252  delayed_streaming_900  \n\n[5 rows x 248 columns]",
      "text/html": "<div>\n<style scoped>\n    .dataframe tbody tr th:only-of-type {\n        vertical-align: middle;\n    }\n\n    .dataframe tbody tr th {\n        vertical-align: top;\n    }\n\n    .dataframe thead th {\n        text-align: right;\n    }\n</style>\n<table border=\"1\" class=\"dataframe\">\n  <thead>\n    <tr style=\"text-align: right;\">\n      <th></th>\n      <th>name</th>\n      <th>description</th>\n      <th>type</th>\n      <th>subtype</th>\n      <th>pricescale</th>\n      <th>minmov</th>\n      <th>fractional</th>\n      <th>minmove2</th>\n      <th>currency</th>\n      <th>fundamental_currency_code</th>\n      <th>...</th>\n      <th>Volatility.D</th>\n      <th>Volatility.M</th>\n      <th>Volatility.W</th>\n      <th>VWAP</th>\n      <th>VWMA</th>\n      <th>Perf.W</th>\n      <th>W.R</th>\n      <th>Perf.Y</th>\n      <th>Perf.YTD</th>\n      <th>update_mode|1D</th>\n    </tr>\n  </thead>\n  <tbody>\n    <tr>\n      <th>0</th>\n      <td>V</td>\n      <td>Visa Inc.</td>\n      <td>stock</td>\n      <td>common</td>\n      <td>100</td>\n      <td>1</td>\n      <td>false</td>\n      <td>0</td>\n      <td>USD</td>\n      <td>USD</td>\n      <td>...</td>\n      <td>1.573840</td>\n      <td>1.479852</td>\n      <td>2.176109</td>\n      <td>239.170000</td>\n      <td>239.339544</td>\n      <td>-0.099992</td>\n      <td>-31.599774</td>\n      <td>15.029983</td>\n      <td>14.573777</td>\n      <td>delayed_streaming_900</td>\n    </tr>\n    <tr>\n      <th>1</th>\n      <td>AVGO</td>\n      <td>Broadcom Inc.</td>\n      <td>stock</td>\n      <td>common</td>\n      <td>100</td>\n      <td>1</td>\n      <td>false</td>\n      <td>0</td>\n      <td>USD</td>\n      <td>USD</td>\n      <td>...</td>\n      <td>2.553100</td>\n      <td>2.072803</td>\n      <td>2.006009</td>\n      <td>912.773600</td>\n      <td>891.182998</td>\n      <td>2.151851</td>\n      <td>-7.080828</td>\n      <td>73.117814</td>\n      <td>62.831858</td>\n      <td>delayed_streaming_900</td>\n    </tr>\n    <tr>\n      <th>2</th>\n      <td>NVO</td>\n      <td>Novo Nordisk A/S</td>\n      <td>dr</td>\n      <td></td>\n      <td>100</td>\n      <td>1</td>\n      <td>false</td>\n      <td>0</td>\n      <td>USD</td>\n      <td>USD</td>\n      <td>...</td>\n      <td>0.806121</td>\n      <td>1.305786</td>\n      <td>1.246710</td>\n      <td>161.522000</td>\n      <td>159.139315</td>\n      <td>0.716154</td>\n      <td>-45.249294</td>\n      <td>38.301693</td>\n      <td>17.818897</td>\n      <td>delayed_streaming_900</td>\n    </tr>\n    <tr>\n      <th>3</th>\n      <td>TOYOF</td>\n      <td>Toyota Motor Corp.</td>\n      <td>stock</td>\n      <td>common</td>\n      <td>100</td>\n      <td>1</td>\n      <td>false</td>\n      <td>0</td>\n      <td>USD</td>\n      <td>USD</td>\n      <td>...</td>\n      <td>2.970588</td>\n      <td>2.048279</td>\n      <td>2.122374</td>\n      <td>17.191667</td>\n      <td>16.375320</td>\n      <td>3.299340</td>\n      <td>-6.940874</td>\n      <td>0.116279</td>\n      <td>23.000000</td>\n      <td>delayed_streaming_900</td>\n    </tr>\n    <tr>\n      <th>4</th>\n      <td>NVSEF</td>\n      <td>Novartis AG</td>\n      <td>stock</td>\n      <td>common</td>\n      <td>100</td>\n      <td>1</td>\n      <td>false</td>\n      <td>0</td>\n      <td>USD</td>\n      <td>USD</td>\n      <td>...</td>\n      <td>3.724658</td>\n      <td>1.267719</td>\n      <td>2.423099</td>\n      <td>106.050000</td>\n      <td>101.830860</td>\n      <td>2.463768</td>\n      <td>0.000000</td>\n      <td>18.161560</td>\n      <td>15.321252</td>\n      <td>delayed_streaming_900</td>\n    </tr>\n  </tbody>\n</table>\n<p>5 rows × 248 columns</p>\n</div>"
     },
     "execution_count": 9,
     "metadata": {},
     "output_type": "execute_result"
    }
   ],
   "source": [
    "ss = tvs.StockScreener()\n",
    "ss.add_filter('Recommend.All', tvs.FilterOperation.IN_RANGE, values=[0.5, 1]) # Strong BUY\n",
    "df = ss.get()\n",
    "df.head()"
   ],
   "metadata": {
    "collapsed": false,
    "ExecuteTime": {
     "end_time": "2023-08-02T13:23:59.894516475Z",
     "start_time": "2023-08-02T13:23:59.194593098Z"
    }
   },
   "id": "1efed19065f4c7ad"
  },
  {
   "cell_type": "markdown",
   "source": [
    "## Time intervals"
   ],
   "metadata": {
    "collapsed": false
   },
   "id": "aa9b0e3605524ae9"
  },
  {
   "cell_type": "code",
   "execution_count": 10,
   "outputs": [
    {
     "data": {
      "text/plain": "    name            description   type subtype  pricescale  minmov fractional  \\\n0   AAPL             Apple Inc.  stock  common         100       1      false   \n1   MSFT  Microsoft Corporation  stock  common         100       1      false   \n2   GOOG          Alphabet Inc.  stock  common         100       1      false   \n3  GOOGL          Alphabet Inc.  stock  common         100       1      false   \n4   AMZN       Amazon.com, Inc.  stock  common         100       1      false   \n\n   minmove2 currency fundamental_currency_code  ...  Volatility.D  \\\n0         0      USD                       USD  ...      0.742524   \n1         0      USD                       USD  ...      1.450405   \n2         0      USD                       USD  ...      1.804971   \n3         0      USD                       USD  ...      1.561065   \n4         0      USD                       USD  ...      1.572786   \n\n   Volatility.M  Volatility.W        VWAP        VWMA    Perf.W        W.R  \\\n0      1.429603      1.253602  195.871667  192.514573  1.176744 -30.523256   \n1      2.450314      2.401217  336.193333  342.891793 -3.102763 -80.678505   \n2      2.219461      2.168112  131.853333  124.171603  8.212996 -14.169646   \n3      2.280839      2.155242  131.620000  123.777027  8.396506 -14.110825   \n4      2.153737      2.337264  132.333300  130.862509  1.840538 -47.058824   \n\n      Perf.Y   Perf.YTD         update_mode|30  \n0  21.486243  50.142002  delayed_streaming_900  \n1  21.063998  38.365970  delayed_streaming_900  \n2  14.160824  46.821774  delayed_streaming_900  \n3  14.093669  46.843780  delayed_streaming_900  \n4  -2.422940  54.095483  delayed_streaming_900  \n\n[5 rows x 248 columns]",
      "text/html": "<div>\n<style scoped>\n    .dataframe tbody tr th:only-of-type {\n        vertical-align: middle;\n    }\n\n    .dataframe tbody tr th {\n        vertical-align: top;\n    }\n\n    .dataframe thead th {\n        text-align: right;\n    }\n</style>\n<table border=\"1\" class=\"dataframe\">\n  <thead>\n    <tr style=\"text-align: right;\">\n      <th></th>\n      <th>name</th>\n      <th>description</th>\n      <th>type</th>\n      <th>subtype</th>\n      <th>pricescale</th>\n      <th>minmov</th>\n      <th>fractional</th>\n      <th>minmove2</th>\n      <th>currency</th>\n      <th>fundamental_currency_code</th>\n      <th>...</th>\n      <th>Volatility.D</th>\n      <th>Volatility.M</th>\n      <th>Volatility.W</th>\n      <th>VWAP</th>\n      <th>VWMA</th>\n      <th>Perf.W</th>\n      <th>W.R</th>\n      <th>Perf.Y</th>\n      <th>Perf.YTD</th>\n      <th>update_mode|30</th>\n    </tr>\n  </thead>\n  <tbody>\n    <tr>\n      <th>0</th>\n      <td>AAPL</td>\n      <td>Apple Inc.</td>\n      <td>stock</td>\n      <td>common</td>\n      <td>100</td>\n      <td>1</td>\n      <td>false</td>\n      <td>0</td>\n      <td>USD</td>\n      <td>USD</td>\n      <td>...</td>\n      <td>0.742524</td>\n      <td>1.429603</td>\n      <td>1.253602</td>\n      <td>195.871667</td>\n      <td>192.514573</td>\n      <td>1.176744</td>\n      <td>-30.523256</td>\n      <td>21.486243</td>\n      <td>50.142002</td>\n      <td>delayed_streaming_900</td>\n    </tr>\n    <tr>\n      <th>1</th>\n      <td>MSFT</td>\n      <td>Microsoft Corporation</td>\n      <td>stock</td>\n      <td>common</td>\n      <td>100</td>\n      <td>1</td>\n      <td>false</td>\n      <td>0</td>\n      <td>USD</td>\n      <td>USD</td>\n      <td>...</td>\n      <td>1.450405</td>\n      <td>2.450314</td>\n      <td>2.401217</td>\n      <td>336.193333</td>\n      <td>342.891793</td>\n      <td>-3.102763</td>\n      <td>-80.678505</td>\n      <td>21.063998</td>\n      <td>38.365970</td>\n      <td>delayed_streaming_900</td>\n    </tr>\n    <tr>\n      <th>2</th>\n      <td>GOOG</td>\n      <td>Alphabet Inc.</td>\n      <td>stock</td>\n      <td>common</td>\n      <td>100</td>\n      <td>1</td>\n      <td>false</td>\n      <td>0</td>\n      <td>USD</td>\n      <td>USD</td>\n      <td>...</td>\n      <td>1.804971</td>\n      <td>2.219461</td>\n      <td>2.168112</td>\n      <td>131.853333</td>\n      <td>124.171603</td>\n      <td>8.212996</td>\n      <td>-14.169646</td>\n      <td>14.160824</td>\n      <td>46.821774</td>\n      <td>delayed_streaming_900</td>\n    </tr>\n    <tr>\n      <th>3</th>\n      <td>GOOGL</td>\n      <td>Alphabet Inc.</td>\n      <td>stock</td>\n      <td>common</td>\n      <td>100</td>\n      <td>1</td>\n      <td>false</td>\n      <td>0</td>\n      <td>USD</td>\n      <td>USD</td>\n      <td>...</td>\n      <td>1.561065</td>\n      <td>2.280839</td>\n      <td>2.155242</td>\n      <td>131.620000</td>\n      <td>123.777027</td>\n      <td>8.396506</td>\n      <td>-14.110825</td>\n      <td>14.093669</td>\n      <td>46.843780</td>\n      <td>delayed_streaming_900</td>\n    </tr>\n    <tr>\n      <th>4</th>\n      <td>AMZN</td>\n      <td>Amazon.com, Inc.</td>\n      <td>stock</td>\n      <td>common</td>\n      <td>100</td>\n      <td>1</td>\n      <td>false</td>\n      <td>0</td>\n      <td>USD</td>\n      <td>USD</td>\n      <td>...</td>\n      <td>1.572786</td>\n      <td>2.153737</td>\n      <td>2.337264</td>\n      <td>132.333300</td>\n      <td>130.862509</td>\n      <td>1.840538</td>\n      <td>-47.058824</td>\n      <td>-2.422940</td>\n      <td>54.095483</td>\n      <td>delayed_streaming_900</td>\n    </tr>\n  </tbody>\n</table>\n<p>5 rows × 248 columns</p>\n</div>"
     },
     "execution_count": 10,
     "metadata": {},
     "output_type": "execute_result"
    }
   ],
   "source": [
    "ss = tvs.StockScreener()\n",
    "df = ss.get(tvs.TimeInterval.THIRTY_MINUTES)\n",
    "df.head()"
   ],
   "metadata": {
    "collapsed": false,
    "ExecuteTime": {
     "end_time": "2023-08-02T13:24:00.739184255Z",
     "start_time": "2023-08-02T13:23:59.893917968Z"
    }
   },
   "id": "8864827cc8cc60d8"
  },
  {
   "cell_type": "markdown",
   "source": [
    "## Debugging"
   ],
   "metadata": {
    "collapsed": false
   },
   "id": "4afe73932d662204"
  },
  {
   "cell_type": "code",
   "execution_count": 11,
   "outputs": [
    {
     "name": "stdout",
     "output_type": "stream",
     "text": [
      "Request: https://scanner.tradingview.com/global/scan\n",
      "Payload:\n",
      "{\n",
      "    \"filter\": [],\n",
      "    \"options\": {\n",
      "        \"lang\": \"en\"\n",
      "    },\n",
      "    \"symbols\": {\n",
      "        \"query\": {\n",
      "            \"types\": []\n",
      "        },\n",
      "        \"tickers\": []\n",
      "    },\n",
      "    \"markets\": [\n",
      "        \"america\"\n",
      "    ],\n",
      "    \"sort\": {\n",
      "        \"sortBy\": \"market_cap_basic\",\n",
      "        \"sortOrder\": \"desc\"\n",
      "    },\n",
      "    \"range\": [\n",
      "        0,\n",
      "        150\n",
      "    ],\n",
      "    \"columns\": [\n",
      "        \"name\",\n",
      "        \"description\",\n",
      "        \"type\",\n",
      "        \"subtype\",\n",
      "        \"pricescale\",\n",
      "        \"minmov\",\n",
      "        \"fractional\",\n",
      "        \"minmove2\",\n",
      "        \"currency\",\n",
      "        \"fundamental_currency_code\",\n",
      "        \"earnings_per_share_basic_ttm\",\n",
      "        \"change\",\n",
      "        \"change_abs\",\n",
      "        \"market_cap_basic\",\n",
      "        \"number_of_employees\",\n",
      "        \"close\",\n",
      "        \"price_earnings_ttm\",\n",
      "        \"sector\",\n",
      "        \"Recommend.All\",\n",
      "        \"volume\",\n",
      "        \"Value.Traded\",\n",
      "        \"High.1M\",\n",
      "        \"Low.1M\",\n",
      "        \"beta_1_year\",\n",
      "        \"High.3M\",\n",
      "        \"Low.3M\",\n",
      "        \"Perf.3M\",\n",
      "        \"Perf.5Y\",\n",
      "        \"High.6M\",\n",
      "        \"Low.6M\",\n",
      "        \"Perf.6M\",\n",
      "        \"price_52_week_high\",\n",
      "        \"price_52_week_low\",\n",
      "        \"High.All\",\n",
      "        \"Low.All\",\n",
      "        \"Perf.All\",\n",
      "        \"Aroon.Down\",\n",
      "        \"Aroon.Up\",\n",
      "        \"ADR\",\n",
      "        \"ADX\",\n",
      "        \"ATR\",\n",
      "        \"average_volume_10d_calc\",\n",
      "        \"average_volume_30d_calc\",\n",
      "        \"average_volume_60d_calc\",\n",
      "        \"average_volume_90d_calc\",\n",
      "        \"AO\",\n",
      "        \"basic_eps_net_income\",\n",
      "        \"BB.lower\",\n",
      "        \"BB.upper\",\n",
      "        \"BBPower\",\n",
      "        \"cash_n_short_term_invest_fy\",\n",
      "        \"cash_n_short_term_invest_fq\",\n",
      "        \"cash_n_equivalents_fy\",\n",
      "        \"cash_n_equivalents_fq\",\n",
      "        \"ChaikinMoneyFlow\",\n",
      "        \"CCI20\",\n",
      "        \"country\",\n",
      "        \"current_ratio\",\n",
      "        \"debt_to_equity\",\n",
      "        \"dividends_paid\",\n",
      "        \"dps_common_stock_prim_issue_yoy_growth_fy\",\n",
      "        \"dps_common_stock_prim_issue_fy\",\n",
      "        \"dividends_per_share_fq\",\n",
      "        \"dividend_yield_recent\",\n",
      "        \"DonchCh20.Lower\",\n",
      "        \"DonchCh20.Upper\",\n",
      "        \"ebitda_yoy_growth_fy\",\n",
      "        \"ebitda_qoq_growth_fq\",\n",
      "        \"ebitda_yoy_growth_fq\",\n",
      "        \"ebitda\",\n",
      "        \"ebitda_yoy_growth_ttm\",\n",
      "        \"enterprise_value_ebitda_ttm\",\n",
      "        \"enterprise_value_fq\",\n",
      "        \"earnings_per_share_diluted_yoy_growth_fy\",\n",
      "        \"last_annual_eps\",\n",
      "        \"earnings_per_share_fq\",\n",
      "        \"earnings_per_share_diluted_qoq_growth_fq\",\n",
      "        \"earnings_per_share_diluted_yoy_growth_fq\",\n",
      "        \"earnings_per_share_diluted_ttm\",\n",
      "        \"earnings_per_share_diluted_yoy_growth_ttm\",\n",
      "        \"earnings_per_share_forecast_next_fq\",\n",
      "        \"exchange\",\n",
      "        \"EMA5\",\n",
      "        \"EMA10\",\n",
      "        \"EMA20\",\n",
      "        \"EMA30\",\n",
      "        \"EMA50\",\n",
      "        \"EMA100\",\n",
      "        \"EMA200\",\n",
      "        \"free_cash_flow_yoy_growth_fy\",\n",
      "        \"free_cash_flow_margin_fy\",\n",
      "        \"free_cash_flow_margin_ttm\",\n",
      "        \"free_cash_flow_qoq_growth_fq\",\n",
      "        \"free_cash_flow_yoy_growth_fq\",\n",
      "        \"free_cash_flow_yoy_growth_ttm\",\n",
      "        \"gap\",\n",
      "        \"goodwill\",\n",
      "        \"gross_profit_margin_fy\",\n",
      "        \"gross_margin\",\n",
      "        \"gross_profit_yoy_growth_fy\",\n",
      "        \"gross_profit\",\n",
      "        \"gross_profit_fq\",\n",
      "        \"gross_profit_qoq_growth_fq\",\n",
      "        \"gross_profit_yoy_growth_fq\",\n",
      "        \"gross_profit_yoy_growth_ttm\",\n",
      "        \"high\",\n",
      "        \"HullMA9\",\n",
      "        \"Ichimoku.BLine\",\n",
      "        \"Ichimoku.CLine\",\n",
      "        \"Ichimoku.Lead1\",\n",
      "        \"Ichimoku.Lead2\",\n",
      "        \"industry\",\n",
      "        \"KltChnl.lower\",\n",
      "        \"KltChnl.upper\",\n",
      "        \"last_annual_revenue\",\n",
      "        \"low\",\n",
      "        \"MACD.macd\",\n",
      "        \"MACD.signal\",\n",
      "        \"Mom\",\n",
      "        \"MoneyFlow\",\n",
      "        \"Perf.1M\",\n",
      "        \"Recommend.MA\",\n",
      "        \"ADX-DI\",\n",
      "        \"net_debt\",\n",
      "        \"net_income_yoy_growth_fy\",\n",
      "        \"net_income\",\n",
      "        \"net_income_qoq_growth_fq\",\n",
      "        \"net_income_yoy_growth_fq\",\n",
      "        \"net_income_yoy_growth_ttm\",\n",
      "        \"net_income_bef_disc_oper_margin_fy\",\n",
      "        \"after_tax_margin\",\n",
      "        \"number_of_shareholders\",\n",
      "        \"open\",\n",
      "        \"oper_income_margin_fy\",\n",
      "        \"operating_margin\",\n",
      "        \"Recommend.Other\",\n",
      "        \"P.SAR\",\n",
      "        \"Pivot.M.Camarilla.Middle\",\n",
      "        \"Pivot.M.Camarilla.R1\",\n",
      "        \"Pivot.M.Camarilla.R2\",\n",
      "        \"Pivot.M.Camarilla.R3\",\n",
      "        \"Pivot.M.Camarilla.S1\",\n",
      "        \"Pivot.M.Camarilla.S2\",\n",
      "        \"Pivot.M.Camarilla.S3\",\n",
      "        \"Pivot.M.Classic.Middle\",\n",
      "        \"Pivot.M.Classic.R1\",\n",
      "        \"Pivot.M.Classic.R2\",\n",
      "        \"Pivot.M.Classic.R3\",\n",
      "        \"Pivot.M.Classic.S1\",\n",
      "        \"Pivot.M.Classic.S2\",\n",
      "        \"Pivot.M.Classic.S3\",\n",
      "        \"Pivot.M.Demark.Middle\",\n",
      "        \"Pivot.M.Demark.R1\",\n",
      "        \"Pivot.M.Demark.S1\",\n",
      "        \"Pivot.M.Fibonacci.Middle\",\n",
      "        \"Pivot.M.Fibonacci.R1\",\n",
      "        \"Pivot.M.Fibonacci.R2\",\n",
      "        \"Pivot.M.Fibonacci.R3\",\n",
      "        \"Pivot.M.Fibonacci.S1\",\n",
      "        \"Pivot.M.Fibonacci.S2\",\n",
      "        \"Pivot.M.Fibonacci.S3\",\n",
      "        \"Pivot.M.Woodie.Middle\",\n",
      "        \"Pivot.M.Woodie.R1\",\n",
      "        \"Pivot.M.Woodie.R2\",\n",
      "        \"Pivot.M.Woodie.R3\",\n",
      "        \"Pivot.M.Woodie.S1\",\n",
      "        \"Pivot.M.Woodie.S2\",\n",
      "        \"Pivot.M.Woodie.S3\",\n",
      "        \"ADX+DI\",\n",
      "        \"postmarket_change\",\n",
      "        \"postmarket_change_abs\",\n",
      "        \"postmarket_close\",\n",
      "        \"postmarket_high\",\n",
      "        \"postmarket_low\",\n",
      "        \"postmarket_open\",\n",
      "        \"postmarket_volume\",\n",
      "        \"premarket_change\",\n",
      "        \"premarket_change_abs\",\n",
      "        \"premarket_change_from_open\",\n",
      "        \"premarket_change_from_open_abs\",\n",
      "        \"premarket_close\",\n",
      "        \"premarket_gap\",\n",
      "        \"premarket_high\",\n",
      "        \"premarket_low\",\n",
      "        \"premarket_open\",\n",
      "        \"premarket_volume\",\n",
      "        \"pre_tax_margin\",\n",
      "        \"price_book_ratio\",\n",
      "        \"price_book_fq\",\n",
      "        \"price_free_cash_flow_ttm\",\n",
      "        \"price_revenue_ttm\",\n",
      "        \"price_sales_ratio\",\n",
      "        \"quick_ratio\",\n",
      "        \"ROC\",\n",
      "        \"earnings_release_date\",\n",
      "        \"RSI7\",\n",
      "        \"RSI\",\n",
      "        \"relative_volume_10d_calc\",\n",
      "        \"research_and_dev_ratio_fy\",\n",
      "        \"research_and_dev_ratio_ttm\",\n",
      "        \"return_on_assets\",\n",
      "        \"return_on_equity\",\n",
      "        \"return_on_invested_capital\",\n",
      "        \"total_revenue_yoy_growth_fy\",\n",
      "        \"revenue_per_employee\",\n",
      "        \"total_revenue_qoq_growth_fq\",\n",
      "        \"total_revenue_yoy_growth_fq\",\n",
      "        \"total_revenue_yoy_growth_ttm\",\n",
      "        \"sell_gen_admin_exp_other_ratio_fy\",\n",
      "        \"sell_gen_admin_exp_other_ratio_ttm\",\n",
      "        \"float_shares_outstanding\",\n",
      "        \"SMA5\",\n",
      "        \"SMA10\",\n",
      "        \"SMA20\",\n",
      "        \"SMA30\",\n",
      "        \"SMA50\",\n",
      "        \"SMA100\",\n",
      "        \"SMA200\",\n",
      "        \"Stoch.D\",\n",
      "        \"Stoch.K\",\n",
      "        \"Stoch.RSI.K\",\n",
      "        \"Stoch.RSI.D\",\n",
      "        \"submarket\",\n",
      "        \"total_assets_yoy_growth_fy\",\n",
      "        \"total_assets\",\n",
      "        \"total_assets_qoq_growth_fq\",\n",
      "        \"total_assets_yoy_growth_fq\",\n",
      "        \"total_current_assets\",\n",
      "        \"total_debt_yoy_growth_fy\",\n",
      "        \"total_debt\",\n",
      "        \"total_debt_qoq_growth_fq\",\n",
      "        \"total_debt_yoy_growth_fq\",\n",
      "        \"total_liabilities_fy\",\n",
      "        \"total_liabilities_fq\",\n",
      "        \"total_revenue\",\n",
      "        \"total_shares_outstanding_fundamental\",\n",
      "        \"UO\",\n",
      "        \"earnings_release_next_date\",\n",
      "        \"Volatility.D\",\n",
      "        \"Volatility.M\",\n",
      "        \"Volatility.W\",\n",
      "        \"VWAP\",\n",
      "        \"VWMA\",\n",
      "        \"Perf.W\",\n",
      "        \"W.R\",\n",
      "        \"Perf.Y\",\n",
      "        \"Perf.YTD\",\n",
      "        \"update_mode|1D\"\n",
      "    ]\n",
      "}\n"
     ]
    }
   ],
   "source": [
    "ss = tvs.StockScreener()\n",
    "df = ss.get(print_request=True)"
   ],
   "metadata": {
    "collapsed": false,
    "ExecuteTime": {
     "end_time": "2023-08-02T13:24:01.292506941Z",
     "start_time": "2023-08-02T13:24:00.737587064Z"
    }
   },
   "id": "dd428873c1d8f9e9"
  }
 ],
 "metadata": {
  "kernelspec": {
   "display_name": "Python 3",
   "language": "python",
   "name": "python3"
  },
  "language_info": {
   "codemirror_mode": {
    "name": "ipython",
    "version": 2
   },
   "file_extension": ".py",
   "mimetype": "text/x-python",
   "name": "python",
   "nbconvert_exporter": "python",
   "pygments_lexer": "ipython2",
   "version": "2.7.6"
  }
 },
 "nbformat": 4,
 "nbformat_minor": 5
}
