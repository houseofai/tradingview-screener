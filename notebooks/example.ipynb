{
 "cells": [
  {
   "cell_type": "code",
   "execution_count": 1,
   "id": "initial_id",
   "metadata": {
    "collapsed": true,
    "ExecuteTime": {
     "end_time": "2023-09-27T19:34:57.182173800Z",
     "start_time": "2023-09-27T19:34:56.833163200Z"
    }
   },
   "outputs": [],
   "source": [
    "import tvscreener as tvs\n",
    "from tvscreener import StockField\n",
    "\n",
    "%load_ext autoreload\n",
    "%autoreload 2"
   ]
  },
  {
   "cell_type": "markdown",
   "source": [
    "# Stock"
   ],
   "metadata": {
    "collapsed": false
   },
   "id": "d8b81da10afe1e9c"
  },
  {
   "cell_type": "code",
   "execution_count": 2,
   "outputs": [
    {
     "data": {
      "text/plain": "         Symbol   Name                  Description  All Time High  \\\n0   NASDAQ:AAPL   AAPL                   Apple Inc.     198.230000   \n1   NASDAQ:MSFT   MSFT        Microsoft Corporation     366.780000   \n2  NASDAQ:GOOGL  GOOGL                Alphabet Inc.     151.546575   \n3   NASDAQ:GOOG   GOOG                Alphabet Inc.     152.100000   \n4   NASDAQ:AMZN   AMZN             Amazon.com, Inc.     188.653910   \n5   NASDAQ:NVDA   NVDA           NVIDIA Corporation     502.660000   \n6    NYSE:BRK.B  BRK.B  Berkshire Hathaway Inc. New     373.340000   \n7    NYSE:BRK.A  BRK.A      Berkshire Hathaway Inc.  566569.970000   \n8   NASDAQ:META   META         Meta Platforms, Inc.     384.330000   \n9   NASDAQ:TSLA   TSLA                  Tesla, Inc.     414.496252   \n\n   All Time Low  All Time Performance  Aroon Down (14)  Aroon Up (14)  \\\n0      0.049107         132586.134572       100.000000      14.285714   \n1      0.088543         321912.281045       100.000000      35.714286   \n2      2.401327           5118.016722        92.857143      50.000000   \n3     24.312350            363.854791        92.857143      50.000000   \n4      0.065624         103548.029933       100.000000      35.714286   \n5      0.333335          97280.103405        71.428571       7.142857   \n6     19.800000           1440.387931       100.000000      57.142857   \n7    235.000000         221089.100000       100.000000      57.142857   \n8     17.550000            610.107015       100.000000      35.714286   \n9      0.998666          18991.867226       100.000000      42.857143   \n\n   Average Day Range (14)  Average Directional Index (14)  ...  Reco. VWMA  \\\n0                3.218429                       25.653844  ...          -1   \n1                5.679029                       22.120383  ...          -1   \n2                2.389257                       21.655098  ...          -1   \n3                2.365629                       21.492701  ...          -1   \n4                3.419064                       19.421523  ...          -1   \n5               13.613557                       21.784457  ...          -1   \n6                3.878407                       29.363976  ...          -1   \n7             6706.501429                       32.709754  ...          -1   \n8                8.038957                       11.502149  ...          -1   \n9                9.301243                       17.663979  ...          -1   \n\n   Prev. Awesome Oscillator  Prev. Commodity Channel Index (20)  \\\n0                 -3.283856                          -99.336416   \n1                 -7.189782                         -197.323125   \n2                 -1.538637                         -208.082855   \n3                 -1.347657                         -209.895909   \n4                 -5.099797                         -180.562142   \n5                -29.052279                          -98.761057   \n6                  2.327891                          -89.373526   \n7               3813.028971                          -84.597110   \n8                  1.337631                          -48.853156   \n9                  4.490718                          -99.150391   \n\n   Prev. Momentum (10)  Prev. Negative Directional Indicator (14)  \\\n0               -4.340                                  30.558611   \n1              -19.630                                  32.060557   \n2               -6.775                                  29.303383   \n3               -6.620                                  29.765275   \n4              -15.250                                  33.377752   \n5              -29.590                                  30.919557   \n6               -8.360                                  21.644631   \n7           -11545.000                                  18.570083   \n8               -2.700                                  19.825841   \n9              -23.360                                  27.294109   \n\n   Prev. Positive Directional Indicator (14)  \\\n0                                  16.822189   \n1                                  13.887596   \n2                                  16.542888   \n3                                  16.217965   \n4                                  15.461261   \n5                                  17.280311   \n6                                  19.005636   \n7                                  16.962556   \n8                                  19.891917   \n9                                  22.010251   \n\n   Prev. Relative Strength Index (14)  Prev. Relative Strength Index (7)  \\\n0                           38.386676                          33.426894   \n1                           33.743284                          21.535629   \n2                           38.397693                          25.309307   \n3                           38.689675                          25.502243   \n4                           34.513111                          24.389321   \n5                           37.538715                          31.598550   \n6                           45.831744                          33.505549   \n7                           46.101304                          34.029793   \n8                           49.235942                          46.943023   \n9                           43.105088                          32.583124   \n\n   Prev. Stochastic %D (14, 3, 3)  Prev. Stochastic %K (14, 3, 3)  \n0                        8.452134                        9.222031  \n1                        9.572082                        8.156310  \n2                       10.520138                       13.047417  \n3                       10.465734                       13.401442  \n4                        6.945989                        7.573618  \n5                        8.586903                       13.653822  \n6                       22.081326                       15.806692  \n7                       22.185337                       15.383801  \n8                       31.751412                       35.851493  \n9                       22.251475                       13.383379  \n\n[10 rows x 302 columns]",
      "text/html": "<div>\n<style scoped>\n    .dataframe tbody tr th:only-of-type {\n        vertical-align: middle;\n    }\n\n    .dataframe tbody tr th {\n        vertical-align: top;\n    }\n\n    .dataframe thead th {\n        text-align: right;\n    }\n</style>\n<table border=\"1\" class=\"dataframe\">\n  <thead>\n    <tr style=\"text-align: right;\">\n      <th></th>\n      <th>Symbol</th>\n      <th>Name</th>\n      <th>Description</th>\n      <th>All Time High</th>\n      <th>All Time Low</th>\n      <th>All Time Performance</th>\n      <th>Aroon Down (14)</th>\n      <th>Aroon Up (14)</th>\n      <th>Average Day Range (14)</th>\n      <th>Average Directional Index (14)</th>\n      <th>...</th>\n      <th>Reco. VWMA</th>\n      <th>Prev. Awesome Oscillator</th>\n      <th>Prev. Commodity Channel Index (20)</th>\n      <th>Prev. Momentum (10)</th>\n      <th>Prev. Negative Directional Indicator (14)</th>\n      <th>Prev. Positive Directional Indicator (14)</th>\n      <th>Prev. Relative Strength Index (14)</th>\n      <th>Prev. Relative Strength Index (7)</th>\n      <th>Prev. Stochastic %D (14, 3, 3)</th>\n      <th>Prev. Stochastic %K (14, 3, 3)</th>\n    </tr>\n  </thead>\n  <tbody>\n    <tr>\n      <th>0</th>\n      <td>NASDAQ:AAPL</td>\n      <td>AAPL</td>\n      <td>Apple Inc.</td>\n      <td>198.230000</td>\n      <td>0.049107</td>\n      <td>132586.134572</td>\n      <td>100.000000</td>\n      <td>14.285714</td>\n      <td>3.218429</td>\n      <td>25.653844</td>\n      <td>...</td>\n      <td>-1</td>\n      <td>-3.283856</td>\n      <td>-99.336416</td>\n      <td>-4.340</td>\n      <td>30.558611</td>\n      <td>16.822189</td>\n      <td>38.386676</td>\n      <td>33.426894</td>\n      <td>8.452134</td>\n      <td>9.222031</td>\n    </tr>\n    <tr>\n      <th>1</th>\n      <td>NASDAQ:MSFT</td>\n      <td>MSFT</td>\n      <td>Microsoft Corporation</td>\n      <td>366.780000</td>\n      <td>0.088543</td>\n      <td>321912.281045</td>\n      <td>100.000000</td>\n      <td>35.714286</td>\n      <td>5.679029</td>\n      <td>22.120383</td>\n      <td>...</td>\n      <td>-1</td>\n      <td>-7.189782</td>\n      <td>-197.323125</td>\n      <td>-19.630</td>\n      <td>32.060557</td>\n      <td>13.887596</td>\n      <td>33.743284</td>\n      <td>21.535629</td>\n      <td>9.572082</td>\n      <td>8.156310</td>\n    </tr>\n    <tr>\n      <th>2</th>\n      <td>NASDAQ:GOOGL</td>\n      <td>GOOGL</td>\n      <td>Alphabet Inc.</td>\n      <td>151.546575</td>\n      <td>2.401327</td>\n      <td>5118.016722</td>\n      <td>92.857143</td>\n      <td>50.000000</td>\n      <td>2.389257</td>\n      <td>21.655098</td>\n      <td>...</td>\n      <td>-1</td>\n      <td>-1.538637</td>\n      <td>-208.082855</td>\n      <td>-6.775</td>\n      <td>29.303383</td>\n      <td>16.542888</td>\n      <td>38.397693</td>\n      <td>25.309307</td>\n      <td>10.520138</td>\n      <td>13.047417</td>\n    </tr>\n    <tr>\n      <th>3</th>\n      <td>NASDAQ:GOOG</td>\n      <td>GOOG</td>\n      <td>Alphabet Inc.</td>\n      <td>152.100000</td>\n      <td>24.312350</td>\n      <td>363.854791</td>\n      <td>92.857143</td>\n      <td>50.000000</td>\n      <td>2.365629</td>\n      <td>21.492701</td>\n      <td>...</td>\n      <td>-1</td>\n      <td>-1.347657</td>\n      <td>-209.895909</td>\n      <td>-6.620</td>\n      <td>29.765275</td>\n      <td>16.217965</td>\n      <td>38.689675</td>\n      <td>25.502243</td>\n      <td>10.465734</td>\n      <td>13.401442</td>\n    </tr>\n    <tr>\n      <th>4</th>\n      <td>NASDAQ:AMZN</td>\n      <td>AMZN</td>\n      <td>Amazon.com, Inc.</td>\n      <td>188.653910</td>\n      <td>0.065624</td>\n      <td>103548.029933</td>\n      <td>100.000000</td>\n      <td>35.714286</td>\n      <td>3.419064</td>\n      <td>19.421523</td>\n      <td>...</td>\n      <td>-1</td>\n      <td>-5.099797</td>\n      <td>-180.562142</td>\n      <td>-15.250</td>\n      <td>33.377752</td>\n      <td>15.461261</td>\n      <td>34.513111</td>\n      <td>24.389321</td>\n      <td>6.945989</td>\n      <td>7.573618</td>\n    </tr>\n    <tr>\n      <th>5</th>\n      <td>NASDAQ:NVDA</td>\n      <td>NVDA</td>\n      <td>NVIDIA Corporation</td>\n      <td>502.660000</td>\n      <td>0.333335</td>\n      <td>97280.103405</td>\n      <td>71.428571</td>\n      <td>7.142857</td>\n      <td>13.613557</td>\n      <td>21.784457</td>\n      <td>...</td>\n      <td>-1</td>\n      <td>-29.052279</td>\n      <td>-98.761057</td>\n      <td>-29.590</td>\n      <td>30.919557</td>\n      <td>17.280311</td>\n      <td>37.538715</td>\n      <td>31.598550</td>\n      <td>8.586903</td>\n      <td>13.653822</td>\n    </tr>\n    <tr>\n      <th>6</th>\n      <td>NYSE:BRK.B</td>\n      <td>BRK.B</td>\n      <td>Berkshire Hathaway Inc. New</td>\n      <td>373.340000</td>\n      <td>19.800000</td>\n      <td>1440.387931</td>\n      <td>100.000000</td>\n      <td>57.142857</td>\n      <td>3.878407</td>\n      <td>29.363976</td>\n      <td>...</td>\n      <td>-1</td>\n      <td>2.327891</td>\n      <td>-89.373526</td>\n      <td>-8.360</td>\n      <td>21.644631</td>\n      <td>19.005636</td>\n      <td>45.831744</td>\n      <td>33.505549</td>\n      <td>22.081326</td>\n      <td>15.806692</td>\n    </tr>\n    <tr>\n      <th>7</th>\n      <td>NYSE:BRK.A</td>\n      <td>BRK.A</td>\n      <td>Berkshire Hathaway Inc.</td>\n      <td>566569.970000</td>\n      <td>235.000000</td>\n      <td>221089.100000</td>\n      <td>100.000000</td>\n      <td>57.142857</td>\n      <td>6706.501429</td>\n      <td>32.709754</td>\n      <td>...</td>\n      <td>-1</td>\n      <td>3813.028971</td>\n      <td>-84.597110</td>\n      <td>-11545.000</td>\n      <td>18.570083</td>\n      <td>16.962556</td>\n      <td>46.101304</td>\n      <td>34.029793</td>\n      <td>22.185337</td>\n      <td>15.383801</td>\n    </tr>\n    <tr>\n      <th>8</th>\n      <td>NASDAQ:META</td>\n      <td>META</td>\n      <td>Meta Platforms, Inc.</td>\n      <td>384.330000</td>\n      <td>17.550000</td>\n      <td>610.107015</td>\n      <td>100.000000</td>\n      <td>35.714286</td>\n      <td>8.038957</td>\n      <td>11.502149</td>\n      <td>...</td>\n      <td>-1</td>\n      <td>1.337631</td>\n      <td>-48.853156</td>\n      <td>-2.700</td>\n      <td>19.825841</td>\n      <td>19.891917</td>\n      <td>49.235942</td>\n      <td>46.943023</td>\n      <td>31.751412</td>\n      <td>35.851493</td>\n    </tr>\n    <tr>\n      <th>9</th>\n      <td>NASDAQ:TSLA</td>\n      <td>TSLA</td>\n      <td>Tesla, Inc.</td>\n      <td>414.496252</td>\n      <td>0.998666</td>\n      <td>18991.867226</td>\n      <td>100.000000</td>\n      <td>42.857143</td>\n      <td>9.301243</td>\n      <td>17.663979</td>\n      <td>...</td>\n      <td>-1</td>\n      <td>4.490718</td>\n      <td>-99.150391</td>\n      <td>-23.360</td>\n      <td>27.294109</td>\n      <td>22.010251</td>\n      <td>43.105088</td>\n      <td>32.583124</td>\n      <td>22.251475</td>\n      <td>13.383379</td>\n    </tr>\n  </tbody>\n</table>\n<p>10 rows × 302 columns</p>\n</div>"
     },
     "execution_count": 2,
     "metadata": {},
     "output_type": "execute_result"
    }
   ],
   "source": [
    "ss = tvs.StockScreener()\n",
    "df = ss.get()\n",
    "df.head(10)"
   ],
   "metadata": {
    "collapsed": false,
    "ExecuteTime": {
     "end_time": "2023-09-27T19:34:58.925757300Z",
     "start_time": "2023-09-27T19:34:57.182173800Z"
    }
   },
   "id": "180f141359f1e171"
  },
  {
   "cell_type": "markdown",
   "source": [
    "## Forex"
   ],
   "metadata": {
    "collapsed": false
   },
   "id": "a0e28abc4e3c832d"
  },
  {
   "cell_type": "code",
   "execution_count": 3,
   "outputs": [
    {
     "data": {
      "text/plain": "          Symbol    Name                        Description  All Time High  \\\n0  FX_IDC:AEDAUD  AEDAUD  U.A.E. DIRHAM / AUSTRALIAN DOLLAR        0.48967   \n1  FX_IDC:AEDCAD  AEDCAD    U.A.E. DIRHAM / CANADIAN DOLLAR        0.39856   \n2  FX_IDC:AEDCHF  AEDCHF        U.A.E. DIRHAM / SWISS FRANC        0.28102   \n3  FX_IDC:AEDEUR  AEDEUR               U.A.E. DIRHAM / EURO        0.28516   \n4  FX_IDC:AEDGBP  AEDGBP      U.A.E. DIRHAM / BRITISH POUND        0.25919   \n\n   All Time Low  All Time Performance  Aroon Down (14)  Aroon Up (14)  \\\n0       0.25641             66.514851        64.285714          100.0   \n1       0.25670             40.547264        57.142857            0.0   \n2       0.22759             -5.792407        14.285714          100.0   \n3       0.12633             20.752076        28.571429          100.0   \n4       0.13346             62.063722        14.285714          100.0   \n\n       Ask  Average Day Range (14)  ...  Reco. UO  Prev. Awesome Oscillator  \\\n0  0.42856                0.002596  ...         0                  0.000402   \n1  0.36805                0.001286  ...         0                 -0.001846   \n2  0.25094                0.000955  ...         1                  0.004777   \n3  0.25922                0.001196  ...         0                  0.003579   \n4  0.22461                0.000876  ...         0                  0.004907   \n\n   Prev. Commodity Channel Index (20)  Prev. Momentum (10)  \\\n0                           64.333165              0.00171   \n1                          -56.595260             -0.00100   \n2                          191.092591              0.00671   \n3                          153.774562              0.00437   \n4                          160.704248              0.00600   \n\n   Prev. Negative Directional Indicator (14)  \\\n0                                  22.215646   \n1                                  23.889564   \n2                                   7.232409   \n3                                  11.381795   \n4                                   9.126961   \n\n   Prev. Positive Directional Indicator (14)  \\\n0                                  26.143277   \n1                                  24.052925   \n2                                  47.351941   \n3                                  35.891263   \n4                                  46.663111   \n\n   Prev. Relative Strength Index (14)  Prev. Relative Strength Index (7)  \\\n0                           58.540581                          61.783409   \n1                           51.156980                          52.651401   \n2                           82.880157                          93.478890   \n3                           71.588862                          79.679576   \n4                           80.668676                          91.042357   \n\n   Prev. Stochastic %D (14, 3, 3)  Prev. Stochastic %K (14, 3, 3)  \n0                       51.157779                       55.969561  \n1                       21.343461                       24.039321  \n2                       94.249980                       97.215705  \n3                       86.414771                       90.761886  \n4                       95.752124                       98.039010  \n\n[5 rows x 179 columns]",
      "text/html": "<div>\n<style scoped>\n    .dataframe tbody tr th:only-of-type {\n        vertical-align: middle;\n    }\n\n    .dataframe tbody tr th {\n        vertical-align: top;\n    }\n\n    .dataframe thead th {\n        text-align: right;\n    }\n</style>\n<table border=\"1\" class=\"dataframe\">\n  <thead>\n    <tr style=\"text-align: right;\">\n      <th></th>\n      <th>Symbol</th>\n      <th>Name</th>\n      <th>Description</th>\n      <th>All Time High</th>\n      <th>All Time Low</th>\n      <th>All Time Performance</th>\n      <th>Aroon Down (14)</th>\n      <th>Aroon Up (14)</th>\n      <th>Ask</th>\n      <th>Average Day Range (14)</th>\n      <th>...</th>\n      <th>Reco. UO</th>\n      <th>Prev. Awesome Oscillator</th>\n      <th>Prev. Commodity Channel Index (20)</th>\n      <th>Prev. Momentum (10)</th>\n      <th>Prev. Negative Directional Indicator (14)</th>\n      <th>Prev. Positive Directional Indicator (14)</th>\n      <th>Prev. Relative Strength Index (14)</th>\n      <th>Prev. Relative Strength Index (7)</th>\n      <th>Prev. Stochastic %D (14, 3, 3)</th>\n      <th>Prev. Stochastic %K (14, 3, 3)</th>\n    </tr>\n  </thead>\n  <tbody>\n    <tr>\n      <th>0</th>\n      <td>FX_IDC:AEDAUD</td>\n      <td>AEDAUD</td>\n      <td>U.A.E. DIRHAM / AUSTRALIAN DOLLAR</td>\n      <td>0.48967</td>\n      <td>0.25641</td>\n      <td>66.514851</td>\n      <td>64.285714</td>\n      <td>100.0</td>\n      <td>0.42856</td>\n      <td>0.002596</td>\n      <td>...</td>\n      <td>0</td>\n      <td>0.000402</td>\n      <td>64.333165</td>\n      <td>0.00171</td>\n      <td>22.215646</td>\n      <td>26.143277</td>\n      <td>58.540581</td>\n      <td>61.783409</td>\n      <td>51.157779</td>\n      <td>55.969561</td>\n    </tr>\n    <tr>\n      <th>1</th>\n      <td>FX_IDC:AEDCAD</td>\n      <td>AEDCAD</td>\n      <td>U.A.E. DIRHAM / CANADIAN DOLLAR</td>\n      <td>0.39856</td>\n      <td>0.25670</td>\n      <td>40.547264</td>\n      <td>57.142857</td>\n      <td>0.0</td>\n      <td>0.36805</td>\n      <td>0.001286</td>\n      <td>...</td>\n      <td>0</td>\n      <td>-0.001846</td>\n      <td>-56.595260</td>\n      <td>-0.00100</td>\n      <td>23.889564</td>\n      <td>24.052925</td>\n      <td>51.156980</td>\n      <td>52.651401</td>\n      <td>21.343461</td>\n      <td>24.039321</td>\n    </tr>\n    <tr>\n      <th>2</th>\n      <td>FX_IDC:AEDCHF</td>\n      <td>AEDCHF</td>\n      <td>U.A.E. DIRHAM / SWISS FRANC</td>\n      <td>0.28102</td>\n      <td>0.22759</td>\n      <td>-5.792407</td>\n      <td>14.285714</td>\n      <td>100.0</td>\n      <td>0.25094</td>\n      <td>0.000955</td>\n      <td>...</td>\n      <td>1</td>\n      <td>0.004777</td>\n      <td>191.092591</td>\n      <td>0.00671</td>\n      <td>7.232409</td>\n      <td>47.351941</td>\n      <td>82.880157</td>\n      <td>93.478890</td>\n      <td>94.249980</td>\n      <td>97.215705</td>\n    </tr>\n    <tr>\n      <th>3</th>\n      <td>FX_IDC:AEDEUR</td>\n      <td>AEDEUR</td>\n      <td>U.A.E. DIRHAM / EURO</td>\n      <td>0.28516</td>\n      <td>0.12633</td>\n      <td>20.752076</td>\n      <td>28.571429</td>\n      <td>100.0</td>\n      <td>0.25922</td>\n      <td>0.001196</td>\n      <td>...</td>\n      <td>0</td>\n      <td>0.003579</td>\n      <td>153.774562</td>\n      <td>0.00437</td>\n      <td>11.381795</td>\n      <td>35.891263</td>\n      <td>71.588862</td>\n      <td>79.679576</td>\n      <td>86.414771</td>\n      <td>90.761886</td>\n    </tr>\n    <tr>\n      <th>4</th>\n      <td>FX_IDC:AEDGBP</td>\n      <td>AEDGBP</td>\n      <td>U.A.E. DIRHAM / BRITISH POUND</td>\n      <td>0.25919</td>\n      <td>0.13346</td>\n      <td>62.063722</td>\n      <td>14.285714</td>\n      <td>100.0</td>\n      <td>0.22461</td>\n      <td>0.000876</td>\n      <td>...</td>\n      <td>0</td>\n      <td>0.004907</td>\n      <td>160.704248</td>\n      <td>0.00600</td>\n      <td>9.126961</td>\n      <td>46.663111</td>\n      <td>80.668676</td>\n      <td>91.042357</td>\n      <td>95.752124</td>\n      <td>98.039010</td>\n    </tr>\n  </tbody>\n</table>\n<p>5 rows × 179 columns</p>\n</div>"
     },
     "execution_count": 3,
     "metadata": {},
     "output_type": "execute_result"
    }
   ],
   "source": [
    "fs = tvs.ForexScreener()\n",
    "df = fs.get()\n",
    "df.head()"
   ],
   "metadata": {
    "collapsed": false,
    "ExecuteTime": {
     "end_time": "2023-09-27T19:35:00.370013900Z",
     "start_time": "2023-09-27T19:34:58.923758Z"
    }
   },
   "id": "5a3140ab1afc7830"
  },
  {
   "cell_type": "markdown",
   "source": [
    "## Crypto"
   ],
   "metadata": {
    "collapsed": false
   },
   "id": "a2d8c8054bc7a281"
  },
  {
   "cell_type": "code",
   "execution_count": 4,
   "outputs": [
    {
     "data": {
      "text/plain": "              Symbol       Name                             Description  \\\n0  BINANCE:BTCUSDT.P  BTCUSDT.P   Bitcoin / TetherUS PERPETUAL CONTRACT   \n1      OKX:BTCUSDT.P  BTCUSDT.P         BTCUSDT Perpetual Swap Contract   \n2  BINANCE:ETHUSDT.P  ETHUSDT.P  Ethereum / TetherUS PERPETUAL CONTRACT   \n3    BYBIT:BTCUSDT.P  BTCUSDT.P              BTCUSDT Perpetual Contract   \n4      OKX:ETHUSDT.P  ETHUSDT.P         ETHUSDT Perpetual Swap Contract   \n\n   All Time High  All Time Low  All Time Performance  Aroon Down (14)  \\\n0       69198.70       3621.81            162.769000         0.000000   \n1       69158.00       3728.80            281.428717         0.000000   \n2        4877.54         84.23            994.534247        85.714286   \n3       69138.50       5841.50            304.301538         0.000000   \n4        4877.70         85.39           1151.142589        85.714286   \n\n   Aroon Up (14)       Ask  Available Coins  ...  Reco. VWMA  \\\n0      42.857143  26278.70              NaN  ...        -1.0   \n1      42.857143  26297.40              NaN  ...        -1.0   \n2      35.714286   1598.28              NaN  ...        -1.0   \n3      42.857143  26279.60              NaN  ...        -1.0   \n4      35.714286   1598.72              NaN  ...        -1.0   \n\n   Prev. Awesome Oscillator  Prev. Commodity Channel Index (20)  \\\n0                130.574706                          -21.840955   \n1                129.997647                          -21.970741   \n2                -41.852176                          -64.954265   \n3                130.767353                          -21.897394   \n4                -42.013824                          -65.165793   \n\n   Prev. Momentum (10)  Prev. Negative Directional Indicator (14)  \\\n0              -338.20                                  20.004511   \n1              -335.40                                  20.549694   \n2               -40.38                                  26.827003   \n3              -342.60                                  20.181973   \n4               -40.73                                  27.754387   \n\n   Prev. Positive Directional Indicator (14)  \\\n0                                  16.421322   \n1                                  16.537063   \n2                                  10.938446   \n3                                  16.590241   \n4                                  10.585786   \n\n   Prev. Relative Strength Index (14)  Prev. Relative Strength Index (7)  \\\n0                           45.107474                          40.160469   \n1                           45.156540                          40.302772   \n2                           41.747940                          42.932555   \n3                           45.062777                          40.025893   \n4                           41.619878                          42.646125   \n\n   Prev. Stochastic %D (14, 3, 3)  Prev. Stochastic %K (14, 3, 3)  \n0                       52.831218                       42.685320  \n1                       52.903784                       42.724851  \n2                       37.981703                       32.850382  \n3                       53.098199                       42.837735  \n4                       37.744747                       32.716651  \n\n[5 rows x 193 columns]",
      "text/html": "<div>\n<style scoped>\n    .dataframe tbody tr th:only-of-type {\n        vertical-align: middle;\n    }\n\n    .dataframe tbody tr th {\n        vertical-align: top;\n    }\n\n    .dataframe thead th {\n        text-align: right;\n    }\n</style>\n<table border=\"1\" class=\"dataframe\">\n  <thead>\n    <tr style=\"text-align: right;\">\n      <th></th>\n      <th>Symbol</th>\n      <th>Name</th>\n      <th>Description</th>\n      <th>All Time High</th>\n      <th>All Time Low</th>\n      <th>All Time Performance</th>\n      <th>Aroon Down (14)</th>\n      <th>Aroon Up (14)</th>\n      <th>Ask</th>\n      <th>Available Coins</th>\n      <th>...</th>\n      <th>Reco. VWMA</th>\n      <th>Prev. Awesome Oscillator</th>\n      <th>Prev. Commodity Channel Index (20)</th>\n      <th>Prev. Momentum (10)</th>\n      <th>Prev. Negative Directional Indicator (14)</th>\n      <th>Prev. Positive Directional Indicator (14)</th>\n      <th>Prev. Relative Strength Index (14)</th>\n      <th>Prev. Relative Strength Index (7)</th>\n      <th>Prev. Stochastic %D (14, 3, 3)</th>\n      <th>Prev. Stochastic %K (14, 3, 3)</th>\n    </tr>\n  </thead>\n  <tbody>\n    <tr>\n      <th>0</th>\n      <td>BINANCE:BTCUSDT.P</td>\n      <td>BTCUSDT.P</td>\n      <td>Bitcoin / TetherUS PERPETUAL CONTRACT</td>\n      <td>69198.70</td>\n      <td>3621.81</td>\n      <td>162.769000</td>\n      <td>0.000000</td>\n      <td>42.857143</td>\n      <td>26278.70</td>\n      <td>NaN</td>\n      <td>...</td>\n      <td>-1.0</td>\n      <td>130.574706</td>\n      <td>-21.840955</td>\n      <td>-338.20</td>\n      <td>20.004511</td>\n      <td>16.421322</td>\n      <td>45.107474</td>\n      <td>40.160469</td>\n      <td>52.831218</td>\n      <td>42.685320</td>\n    </tr>\n    <tr>\n      <th>1</th>\n      <td>OKX:BTCUSDT.P</td>\n      <td>BTCUSDT.P</td>\n      <td>BTCUSDT Perpetual Swap Contract</td>\n      <td>69158.00</td>\n      <td>3728.80</td>\n      <td>281.428717</td>\n      <td>0.000000</td>\n      <td>42.857143</td>\n      <td>26297.40</td>\n      <td>NaN</td>\n      <td>...</td>\n      <td>-1.0</td>\n      <td>129.997647</td>\n      <td>-21.970741</td>\n      <td>-335.40</td>\n      <td>20.549694</td>\n      <td>16.537063</td>\n      <td>45.156540</td>\n      <td>40.302772</td>\n      <td>52.903784</td>\n      <td>42.724851</td>\n    </tr>\n    <tr>\n      <th>2</th>\n      <td>BINANCE:ETHUSDT.P</td>\n      <td>ETHUSDT.P</td>\n      <td>Ethereum / TetherUS PERPETUAL CONTRACT</td>\n      <td>4877.54</td>\n      <td>84.23</td>\n      <td>994.534247</td>\n      <td>85.714286</td>\n      <td>35.714286</td>\n      <td>1598.28</td>\n      <td>NaN</td>\n      <td>...</td>\n      <td>-1.0</td>\n      <td>-41.852176</td>\n      <td>-64.954265</td>\n      <td>-40.38</td>\n      <td>26.827003</td>\n      <td>10.938446</td>\n      <td>41.747940</td>\n      <td>42.932555</td>\n      <td>37.981703</td>\n      <td>32.850382</td>\n    </tr>\n    <tr>\n      <th>3</th>\n      <td>BYBIT:BTCUSDT.P</td>\n      <td>BTCUSDT.P</td>\n      <td>BTCUSDT Perpetual Contract</td>\n      <td>69138.50</td>\n      <td>5841.50</td>\n      <td>304.301538</td>\n      <td>0.000000</td>\n      <td>42.857143</td>\n      <td>26279.60</td>\n      <td>NaN</td>\n      <td>...</td>\n      <td>-1.0</td>\n      <td>130.767353</td>\n      <td>-21.897394</td>\n      <td>-342.60</td>\n      <td>20.181973</td>\n      <td>16.590241</td>\n      <td>45.062777</td>\n      <td>40.025893</td>\n      <td>53.098199</td>\n      <td>42.837735</td>\n    </tr>\n    <tr>\n      <th>4</th>\n      <td>OKX:ETHUSDT.P</td>\n      <td>ETHUSDT.P</td>\n      <td>ETHUSDT Perpetual Swap Contract</td>\n      <td>4877.70</td>\n      <td>85.39</td>\n      <td>1151.142589</td>\n      <td>85.714286</td>\n      <td>35.714286</td>\n      <td>1598.72</td>\n      <td>NaN</td>\n      <td>...</td>\n      <td>-1.0</td>\n      <td>-42.013824</td>\n      <td>-65.165793</td>\n      <td>-40.73</td>\n      <td>27.754387</td>\n      <td>10.585786</td>\n      <td>41.619878</td>\n      <td>42.646125</td>\n      <td>37.744747</td>\n      <td>32.716651</td>\n    </tr>\n  </tbody>\n</table>\n<p>5 rows × 193 columns</p>\n</div>"
     },
     "execution_count": 4,
     "metadata": {},
     "output_type": "execute_result"
    }
   ],
   "source": [
    "cs = tvs.CryptoScreener()\n",
    "df = cs.get()\n",
    "df.head()"
   ],
   "metadata": {
    "collapsed": false,
    "ExecuteTime": {
     "end_time": "2023-09-27T19:35:02.335982700Z",
     "start_time": "2023-09-27T19:35:00.367013500Z"
    }
   },
   "id": "bbede913c3cf6067"
  },
  {
   "cell_type": "markdown",
   "source": [
    "## Options"
   ],
   "metadata": {
    "collapsed": false
   },
   "id": "e6b09b518bdabd39"
  },
  {
   "cell_type": "markdown",
   "source": [
    "## Range"
   ],
   "metadata": {
    "collapsed": false
   },
   "id": "8c329b0e0edac821"
  },
  {
   "cell_type": "code",
   "execution_count": 5,
   "outputs": [
    {
     "data": {
      "text/plain": "            Symbol   Name                         Description  All Time High  \\\n0      NASDAQ:AAPL   AAPL                          Apple Inc.     198.230000   \n1      NASDAQ:MSFT   MSFT               Microsoft Corporation     366.780000   \n2     NASDAQ:GOOGL  GOOGL                       Alphabet Inc.     151.546575   \n3      NASDAQ:GOOG   GOOG                       Alphabet Inc.     152.100000   \n4      NASDAQ:AMZN   AMZN                    Amazon.com, Inc.     188.653910   \n...            ...    ...                                 ...            ...   \n9995     OTC:FLHLF  FLHLF               Filament Health Corp.       0.368000   \n9996    NASDAQ:ADN    ADN  Advent Technologies Holdings, Inc.      19.210000   \n9997      OTC:DSHK   DSHK                    Drive Shack Inc.       8.060000   \n9998     OTC:DSHKO  DSHKO                    Drive Shack Inc.      27.221500   \n9999     OTC:DSHKN  DSHKN                    Drive Shack Inc.      26.930000   \n\n      All Time Low  All Time Performance  Aroon Down (14)  Aroon Up (14)  \\\n0         0.049107         132500.430081       100.000000      14.285714   \n1         0.088543         321948.280757       100.000000      35.714286   \n2         2.401327           5117.017791        92.857143      50.000000   \n3        24.312350            363.996017        92.857143      50.000000   \n4         0.065624         103548.029933       100.000000      35.714286   \n...            ...                   ...              ...            ...   \n9995      0.006600            -54.107083        50.000000      14.285714   \n9996      0.400000            -95.819979       100.000000       0.000000   \n9997      0.152500            -93.731971         7.142857      35.714286   \n9998      1.940000            -80.211030         0.000000      57.142857   \n9999      0.905100            -79.800000        14.285714      57.142857   \n\n      Average Day Range (14)  Average Directional Index (14)  ...  Reco. VWMA  \\\n0                   3.218429                       25.653844  ...        -1.0   \n1                   5.679029                       22.120383  ...        -1.0   \n2                   2.389257                       21.655098  ...        -1.0   \n3                   2.365629                       21.492701  ...        -1.0   \n4                   3.419064                       19.421523  ...        -1.0   \n...                      ...                             ...  ...         ...   \n9995                0.013482                       25.370038  ...         1.0   \n9996                0.046857                       33.051227  ...        -1.0   \n9997                0.038504                       33.426293  ...        -1.0   \n9998                0.406500                       23.548556  ...         1.0   \n9999                0.154857                       28.025378  ...         1.0   \n\n      Prev. Awesome Oscillator  Prev. Commodity Channel Index (20)  \\\n0                    -3.283856                          -99.336416   \n1                    -7.189782                         -197.323125   \n2                    -1.538637                         -208.082855   \n3                    -1.347657                         -209.895909   \n4                    -5.099797                         -180.562142   \n...                        ...                                 ...   \n9995                 -0.004664                            9.313081   \n9996                 -0.104228                         -116.064926   \n9997                  0.023216                          -21.932262   \n9998                  1.535343                           75.246195   \n9999                  1.488157                           72.487426   \n\n      Prev. Momentum (10)  Prev. Negative Directional Indicator (14)  \\\n0                 -4.3400                                  30.558611   \n1                -19.6300                                  32.060557   \n2                 -6.7750                                  29.303383   \n3                 -6.6200                                  29.765275   \n4                -15.2500                                  33.377752   \n...                   ...                                        ...   \n9995              -0.0100                                  17.527398   \n9996              -0.0422                                  22.595601   \n9997               0.0011                                  14.324476   \n9998               2.1500                                  30.032327   \n9999               1.5000                                  26.300994   \n\n      Prev. Positive Directional Indicator (14)  \\\n0                                     16.822189   \n1                                     13.887596   \n2                                     16.542888   \n3                                     16.217965   \n4                                     15.461261   \n...                                         ...   \n9995                                  34.754864   \n9996                                  10.191190   \n9997                                  26.092134   \n9998                                  41.007077   \n9999                                  48.871150   \n\n      Prev. Relative Strength Index (14)  Prev. Relative Strength Index (7)  \\\n0                              38.386676                          33.426894   \n1                              33.743284                          21.535629   \n2                              38.397693                          25.309307   \n3                              38.689675                          25.502243   \n4                              34.513111                          24.389321   \n...                                  ...                                ...   \n9995                           53.042165                          57.262287   \n9996                           29.431115                          25.563017   \n9997                           47.768548                          43.297714   \n9998                           57.368513                          56.195822   \n9999                           59.237800                          59.107357   \n\n      Prev. Stochastic %D (14, 3, 3)  Prev. Stochastic %K (14, 3, 3)  \n0                           8.452134                        9.222031  \n1                           9.572082                        8.156310  \n2                          10.520138                       13.047417  \n3                          10.465734                       13.401442  \n4                           6.945989                        7.573618  \n...                              ...                             ...  \n9995                       20.573783                       27.674750  \n9996                       11.628181                       10.178987  \n9997                       33.646515                       30.316861  \n9998                       79.855072                       74.903382  \n9999                       76.172392                       71.144279  \n\n[10000 rows x 302 columns]",
      "text/html": "<div>\n<style scoped>\n    .dataframe tbody tr th:only-of-type {\n        vertical-align: middle;\n    }\n\n    .dataframe tbody tr th {\n        vertical-align: top;\n    }\n\n    .dataframe thead th {\n        text-align: right;\n    }\n</style>\n<table border=\"1\" class=\"dataframe\">\n  <thead>\n    <tr style=\"text-align: right;\">\n      <th></th>\n      <th>Symbol</th>\n      <th>Name</th>\n      <th>Description</th>\n      <th>All Time High</th>\n      <th>All Time Low</th>\n      <th>All Time Performance</th>\n      <th>Aroon Down (14)</th>\n      <th>Aroon Up (14)</th>\n      <th>Average Day Range (14)</th>\n      <th>Average Directional Index (14)</th>\n      <th>...</th>\n      <th>Reco. VWMA</th>\n      <th>Prev. Awesome Oscillator</th>\n      <th>Prev. Commodity Channel Index (20)</th>\n      <th>Prev. Momentum (10)</th>\n      <th>Prev. Negative Directional Indicator (14)</th>\n      <th>Prev. Positive Directional Indicator (14)</th>\n      <th>Prev. Relative Strength Index (14)</th>\n      <th>Prev. Relative Strength Index (7)</th>\n      <th>Prev. Stochastic %D (14, 3, 3)</th>\n      <th>Prev. Stochastic %K (14, 3, 3)</th>\n    </tr>\n  </thead>\n  <tbody>\n    <tr>\n      <th>0</th>\n      <td>NASDAQ:AAPL</td>\n      <td>AAPL</td>\n      <td>Apple Inc.</td>\n      <td>198.230000</td>\n      <td>0.049107</td>\n      <td>132500.430081</td>\n      <td>100.000000</td>\n      <td>14.285714</td>\n      <td>3.218429</td>\n      <td>25.653844</td>\n      <td>...</td>\n      <td>-1.0</td>\n      <td>-3.283856</td>\n      <td>-99.336416</td>\n      <td>-4.3400</td>\n      <td>30.558611</td>\n      <td>16.822189</td>\n      <td>38.386676</td>\n      <td>33.426894</td>\n      <td>8.452134</td>\n      <td>9.222031</td>\n    </tr>\n    <tr>\n      <th>1</th>\n      <td>NASDAQ:MSFT</td>\n      <td>MSFT</td>\n      <td>Microsoft Corporation</td>\n      <td>366.780000</td>\n      <td>0.088543</td>\n      <td>321948.280757</td>\n      <td>100.000000</td>\n      <td>35.714286</td>\n      <td>5.679029</td>\n      <td>22.120383</td>\n      <td>...</td>\n      <td>-1.0</td>\n      <td>-7.189782</td>\n      <td>-197.323125</td>\n      <td>-19.6300</td>\n      <td>32.060557</td>\n      <td>13.887596</td>\n      <td>33.743284</td>\n      <td>21.535629</td>\n      <td>9.572082</td>\n      <td>8.156310</td>\n    </tr>\n    <tr>\n      <th>2</th>\n      <td>NASDAQ:GOOGL</td>\n      <td>GOOGL</td>\n      <td>Alphabet Inc.</td>\n      <td>151.546575</td>\n      <td>2.401327</td>\n      <td>5117.017791</td>\n      <td>92.857143</td>\n      <td>50.000000</td>\n      <td>2.389257</td>\n      <td>21.655098</td>\n      <td>...</td>\n      <td>-1.0</td>\n      <td>-1.538637</td>\n      <td>-208.082855</td>\n      <td>-6.7750</td>\n      <td>29.303383</td>\n      <td>16.542888</td>\n      <td>38.397693</td>\n      <td>25.309307</td>\n      <td>10.520138</td>\n      <td>13.047417</td>\n    </tr>\n    <tr>\n      <th>3</th>\n      <td>NASDAQ:GOOG</td>\n      <td>GOOG</td>\n      <td>Alphabet Inc.</td>\n      <td>152.100000</td>\n      <td>24.312350</td>\n      <td>363.996017</td>\n      <td>92.857143</td>\n      <td>50.000000</td>\n      <td>2.365629</td>\n      <td>21.492701</td>\n      <td>...</td>\n      <td>-1.0</td>\n      <td>-1.347657</td>\n      <td>-209.895909</td>\n      <td>-6.6200</td>\n      <td>29.765275</td>\n      <td>16.217965</td>\n      <td>38.689675</td>\n      <td>25.502243</td>\n      <td>10.465734</td>\n      <td>13.401442</td>\n    </tr>\n    <tr>\n      <th>4</th>\n      <td>NASDAQ:AMZN</td>\n      <td>AMZN</td>\n      <td>Amazon.com, Inc.</td>\n      <td>188.653910</td>\n      <td>0.065624</td>\n      <td>103548.029933</td>\n      <td>100.000000</td>\n      <td>35.714286</td>\n      <td>3.419064</td>\n      <td>19.421523</td>\n      <td>...</td>\n      <td>-1.0</td>\n      <td>-5.099797</td>\n      <td>-180.562142</td>\n      <td>-15.2500</td>\n      <td>33.377752</td>\n      <td>15.461261</td>\n      <td>34.513111</td>\n      <td>24.389321</td>\n      <td>6.945989</td>\n      <td>7.573618</td>\n    </tr>\n    <tr>\n      <th>...</th>\n      <td>...</td>\n      <td>...</td>\n      <td>...</td>\n      <td>...</td>\n      <td>...</td>\n      <td>...</td>\n      <td>...</td>\n      <td>...</td>\n      <td>...</td>\n      <td>...</td>\n      <td>...</td>\n      <td>...</td>\n      <td>...</td>\n      <td>...</td>\n      <td>...</td>\n      <td>...</td>\n      <td>...</td>\n      <td>...</td>\n      <td>...</td>\n      <td>...</td>\n      <td>...</td>\n    </tr>\n    <tr>\n      <th>9995</th>\n      <td>OTC:FLHLF</td>\n      <td>FLHLF</td>\n      <td>Filament Health Corp.</td>\n      <td>0.368000</td>\n      <td>0.006600</td>\n      <td>-54.107083</td>\n      <td>50.000000</td>\n      <td>14.285714</td>\n      <td>0.013482</td>\n      <td>25.370038</td>\n      <td>...</td>\n      <td>1.0</td>\n      <td>-0.004664</td>\n      <td>9.313081</td>\n      <td>-0.0100</td>\n      <td>17.527398</td>\n      <td>34.754864</td>\n      <td>53.042165</td>\n      <td>57.262287</td>\n      <td>20.573783</td>\n      <td>27.674750</td>\n    </tr>\n    <tr>\n      <th>9996</th>\n      <td>NASDAQ:ADN</td>\n      <td>ADN</td>\n      <td>Advent Technologies Holdings, Inc.</td>\n      <td>19.210000</td>\n      <td>0.400000</td>\n      <td>-95.819979</td>\n      <td>100.000000</td>\n      <td>0.000000</td>\n      <td>0.046857</td>\n      <td>33.051227</td>\n      <td>...</td>\n      <td>-1.0</td>\n      <td>-0.104228</td>\n      <td>-116.064926</td>\n      <td>-0.0422</td>\n      <td>22.595601</td>\n      <td>10.191190</td>\n      <td>29.431115</td>\n      <td>25.563017</td>\n      <td>11.628181</td>\n      <td>10.178987</td>\n    </tr>\n    <tr>\n      <th>9997</th>\n      <td>OTC:DSHK</td>\n      <td>DSHK</td>\n      <td>Drive Shack Inc.</td>\n      <td>8.060000</td>\n      <td>0.152500</td>\n      <td>-93.731971</td>\n      <td>7.142857</td>\n      <td>35.714286</td>\n      <td>0.038504</td>\n      <td>33.426293</td>\n      <td>...</td>\n      <td>-1.0</td>\n      <td>0.023216</td>\n      <td>-21.932262</td>\n      <td>0.0011</td>\n      <td>14.324476</td>\n      <td>26.092134</td>\n      <td>47.768548</td>\n      <td>43.297714</td>\n      <td>33.646515</td>\n      <td>30.316861</td>\n    </tr>\n    <tr>\n      <th>9998</th>\n      <td>OTC:DSHKO</td>\n      <td>DSHKO</td>\n      <td>Drive Shack Inc.</td>\n      <td>27.221500</td>\n      <td>1.940000</td>\n      <td>-80.211030</td>\n      <td>0.000000</td>\n      <td>57.142857</td>\n      <td>0.406500</td>\n      <td>23.548556</td>\n      <td>...</td>\n      <td>1.0</td>\n      <td>1.535343</td>\n      <td>75.246195</td>\n      <td>2.1500</td>\n      <td>30.032327</td>\n      <td>41.007077</td>\n      <td>57.368513</td>\n      <td>56.195822</td>\n      <td>79.855072</td>\n      <td>74.903382</td>\n    </tr>\n    <tr>\n      <th>9999</th>\n      <td>OTC:DSHKN</td>\n      <td>DSHKN</td>\n      <td>Drive Shack Inc.</td>\n      <td>26.930000</td>\n      <td>0.905100</td>\n      <td>-79.800000</td>\n      <td>14.285714</td>\n      <td>57.142857</td>\n      <td>0.154857</td>\n      <td>28.025378</td>\n      <td>...</td>\n      <td>1.0</td>\n      <td>1.488157</td>\n      <td>72.487426</td>\n      <td>1.5000</td>\n      <td>26.300994</td>\n      <td>48.871150</td>\n      <td>59.237800</td>\n      <td>59.107357</td>\n      <td>76.172392</td>\n      <td>71.144279</td>\n    </tr>\n  </tbody>\n</table>\n<p>10000 rows × 302 columns</p>\n</div>"
     },
     "execution_count": 5,
     "metadata": {},
     "output_type": "execute_result"
    }
   ],
   "source": [
    "ss = tvs.StockScreener()\n",
    "ss.set_range(0, 10000)\n",
    "df = ss.get()\n",
    "df"
   ],
   "metadata": {
    "collapsed": false,
    "ExecuteTime": {
     "end_time": "2023-09-27T19:35:15.301251Z",
     "start_time": "2023-09-27T19:35:02.333982500Z"
    }
   },
   "id": "47a993423929c7bb"
  },
  {
   "cell_type": "markdown",
   "source": [
    "# Sorting"
   ],
   "metadata": {
    "collapsed": false
   },
   "id": "31911fef050e517b"
  },
  {
   "cell_type": "code",
   "execution_count": 6,
   "outputs": [
    {
     "data": {
      "text/plain": "      Symbol   Name Description  All Time High  All Time Low  \\\n0  OTC:FNMAH  FNMAH  Fannie Mae       30.13000        0.1300   \n1  OTC:FNMFM  FNMFM  Fannie Mae       28.10001        0.0100   \n2  OTC:FNMAP  FNMAP  Fannie Mae       51.37500        0.2000   \n3  OTC:FNMAG  FNMAG  Fannie Mae       54.50000        0.4245   \n4  OTC:FNMFN  FNMFN  Fannie Mae       24.99000        0.0100   \n\n   All Time Performance  Aroon Down (14)  Aroon Up (14)  \\\n0            -92.240350        64.285714      14.285714   \n1            378.461538         0.000000      85.714286   \n2            -93.197007         7.142857      64.285714   \n3            -93.213574       100.000000      50.000000   \n4            672.000000        21.428571       0.000000   \n\n   Average Day Range (14)  Average Directional Index (14)  ...  Reco. VWMA  \\\n0                0.055357                        9.991306  ...          -1   \n1                0.024286                       18.346385  ...           1   \n2                0.053857                       19.389708  ...           1   \n3                0.036429                       21.353978  ...          -1   \n4                0.041429                       29.514368  ...          -1   \n\n   Prev. Awesome Oscillator  Prev. Commodity Channel Index (20)  \\\n0                 -0.007279                           42.583321   \n1                  0.412853                          133.780256   \n2                  0.180603                           76.005299   \n3                  0.241993                           39.554172   \n4                  0.159729                           16.808209   \n\n   Prev. Momentum (10)  Prev. Negative Directional Indicator (14)  \\\n0                 0.13                                  24.998566   \n1                 0.74                                  33.211915   \n2                 0.11                                  28.723862   \n3                 0.09                                  32.593516   \n4                 0.04                                  24.388350   \n\n   Prev. Positive Directional Indicator (14)  \\\n0                                  26.192926   \n1                                  56.293061   \n2                                  19.920057   \n3                                  41.092865   \n4                                  37.150419   \n\n   Prev. Relative Strength Index (14)  Prev. Relative Strength Index (7)  \\\n0                           52.634089                          54.021445   \n1                           61.768137                          68.687389   \n2                           57.270874                          57.599556   \n3                           57.162054                          52.636127   \n4                           52.794256                          46.140263   \n\n   Prev. Stochastic %D (14, 3, 3)  Prev. Stochastic %K (14, 3, 3)  \n0                       34.910394                       50.430108  \n1                       86.515339                       88.975446  \n2                       81.159420                       76.328502  \n3                       82.853738                       75.499619  \n4                       43.580551                       38.970399  \n\n[5 rows x 302 columns]",
      "text/html": "<div>\n<style scoped>\n    .dataframe tbody tr th:only-of-type {\n        vertical-align: middle;\n    }\n\n    .dataframe tbody tr th {\n        vertical-align: top;\n    }\n\n    .dataframe thead th {\n        text-align: right;\n    }\n</style>\n<table border=\"1\" class=\"dataframe\">\n  <thead>\n    <tr style=\"text-align: right;\">\n      <th></th>\n      <th>Symbol</th>\n      <th>Name</th>\n      <th>Description</th>\n      <th>All Time High</th>\n      <th>All Time Low</th>\n      <th>All Time Performance</th>\n      <th>Aroon Down (14)</th>\n      <th>Aroon Up (14)</th>\n      <th>Average Day Range (14)</th>\n      <th>Average Directional Index (14)</th>\n      <th>...</th>\n      <th>Reco. VWMA</th>\n      <th>Prev. Awesome Oscillator</th>\n      <th>Prev. Commodity Channel Index (20)</th>\n      <th>Prev. Momentum (10)</th>\n      <th>Prev. Negative Directional Indicator (14)</th>\n      <th>Prev. Positive Directional Indicator (14)</th>\n      <th>Prev. Relative Strength Index (14)</th>\n      <th>Prev. Relative Strength Index (7)</th>\n      <th>Prev. Stochastic %D (14, 3, 3)</th>\n      <th>Prev. Stochastic %K (14, 3, 3)</th>\n    </tr>\n  </thead>\n  <tbody>\n    <tr>\n      <th>0</th>\n      <td>OTC:FNMAH</td>\n      <td>FNMAH</td>\n      <td>Fannie Mae</td>\n      <td>30.13000</td>\n      <td>0.1300</td>\n      <td>-92.240350</td>\n      <td>64.285714</td>\n      <td>14.285714</td>\n      <td>0.055357</td>\n      <td>9.991306</td>\n      <td>...</td>\n      <td>-1</td>\n      <td>-0.007279</td>\n      <td>42.583321</td>\n      <td>0.13</td>\n      <td>24.998566</td>\n      <td>26.192926</td>\n      <td>52.634089</td>\n      <td>54.021445</td>\n      <td>34.910394</td>\n      <td>50.430108</td>\n    </tr>\n    <tr>\n      <th>1</th>\n      <td>OTC:FNMFM</td>\n      <td>FNMFM</td>\n      <td>Fannie Mae</td>\n      <td>28.10001</td>\n      <td>0.0100</td>\n      <td>378.461538</td>\n      <td>0.000000</td>\n      <td>85.714286</td>\n      <td>0.024286</td>\n      <td>18.346385</td>\n      <td>...</td>\n      <td>1</td>\n      <td>0.412853</td>\n      <td>133.780256</td>\n      <td>0.74</td>\n      <td>33.211915</td>\n      <td>56.293061</td>\n      <td>61.768137</td>\n      <td>68.687389</td>\n      <td>86.515339</td>\n      <td>88.975446</td>\n    </tr>\n    <tr>\n      <th>2</th>\n      <td>OTC:FNMAP</td>\n      <td>FNMAP</td>\n      <td>Fannie Mae</td>\n      <td>51.37500</td>\n      <td>0.2000</td>\n      <td>-93.197007</td>\n      <td>7.142857</td>\n      <td>64.285714</td>\n      <td>0.053857</td>\n      <td>19.389708</td>\n      <td>...</td>\n      <td>1</td>\n      <td>0.180603</td>\n      <td>76.005299</td>\n      <td>0.11</td>\n      <td>28.723862</td>\n      <td>19.920057</td>\n      <td>57.270874</td>\n      <td>57.599556</td>\n      <td>81.159420</td>\n      <td>76.328502</td>\n    </tr>\n    <tr>\n      <th>3</th>\n      <td>OTC:FNMAG</td>\n      <td>FNMAG</td>\n      <td>Fannie Mae</td>\n      <td>54.50000</td>\n      <td>0.4245</td>\n      <td>-93.213574</td>\n      <td>100.000000</td>\n      <td>50.000000</td>\n      <td>0.036429</td>\n      <td>21.353978</td>\n      <td>...</td>\n      <td>-1</td>\n      <td>0.241993</td>\n      <td>39.554172</td>\n      <td>0.09</td>\n      <td>32.593516</td>\n      <td>41.092865</td>\n      <td>57.162054</td>\n      <td>52.636127</td>\n      <td>82.853738</td>\n      <td>75.499619</td>\n    </tr>\n    <tr>\n      <th>4</th>\n      <td>OTC:FNMFN</td>\n      <td>FNMFN</td>\n      <td>Fannie Mae</td>\n      <td>24.99000</td>\n      <td>0.0100</td>\n      <td>672.000000</td>\n      <td>21.428571</td>\n      <td>0.000000</td>\n      <td>0.041429</td>\n      <td>29.514368</td>\n      <td>...</td>\n      <td>-1</td>\n      <td>0.159729</td>\n      <td>16.808209</td>\n      <td>0.04</td>\n      <td>24.388350</td>\n      <td>37.150419</td>\n      <td>52.794256</td>\n      <td>46.140263</td>\n      <td>43.580551</td>\n      <td>38.970399</td>\n    </tr>\n  </tbody>\n</table>\n<p>5 rows × 302 columns</p>\n</div>"
     },
     "execution_count": 6,
     "metadata": {},
     "output_type": "execute_result"
    }
   ],
   "source": [
    "\n",
    "ss = tvs.StockScreener()\n",
    "ss.sort_by(StockField.EBITDA_TTM, ascending=False)\n",
    "df = ss.get()\n",
    "df.head()"
   ],
   "metadata": {
    "collapsed": false,
    "ExecuteTime": {
     "end_time": "2023-09-27T19:35:16.625331200Z",
     "start_time": "2023-09-27T19:35:15.300251100Z"
    }
   },
   "id": "293d3c14f5cf6b4f"
  },
  {
   "cell_type": "markdown",
   "source": [
    "# Filters"
   ],
   "metadata": {
    "collapsed": false
   },
   "id": "247e54be1899a203"
  },
  {
   "cell_type": "markdown",
   "source": [
    "## Markets"
   ],
   "metadata": {
    "collapsed": false
   },
   "id": "4592f2c3da23c6f1"
  },
  {
   "cell_type": "code",
   "execution_count": 7,
   "outputs": [
    {
     "data": {
      "text/plain": "       Symbol    Name         Description  All Time High  All Time Low  \\\n0  KRX:005935  005935     SAMSUNGELEC(1P)      86800.000     4200.0000   \n1  KRX:005930  005930        SAMSUNG ELEC      96800.000      261.7141   \n2  KRX:373220  373220  LG ENERGY SOLUTION     629000.000   352000.0000   \n3  KRX:000660  000660            SK HYNIX     150500.000     5030.0000   \n4  KRX:207940  207940   SAMSUNG BIOLOGICS    1036002.312   124181.7480   \n\n   All Time Performance  Aroon Down (14)  Aroon Up (14)  \\\n0           1191.469194       100.000000      42.857143   \n1          21509.795151       100.000000      42.857143   \n2            -20.184255        85.714286       0.000000   \n3           1584.287812       100.000000      42.857143   \n4            409.799377       100.000000      50.000000   \n\n   Average Day Range (14)  Average Directional Index (14)  ...  Reco. VWMA  \\\n0              664.285714                       21.596805  ...          -1   \n1             1007.142857                       19.004666  ...          -1   \n2            13928.571429                       25.211939  ...          -1   \n3             3264.285714                       13.237725  ...          -1   \n4            11571.428571                       30.224972  ...          -1   \n\n   Prev. Awesome Oscillator  Prev. Commodity Channel Index (20)  \\\n0               -479.705882                         -140.204271   \n1                402.352941                          -62.556155   \n2             -37326.470588                         -144.600195   \n3              -1561.176471                         -110.213911   \n4             -41385.294118                         -249.452082   \n\n   Prev. Momentum (10)  Prev. Negative Directional Indicator (14)  \\\n0              -3000.0                                  35.411456   \n1              -1900.0                                  22.650330   \n2             -24000.0                                  33.342449   \n3              -1700.0                                  26.772428   \n4             -43000.0                                  42.480608   \n\n   Prev. Positive Directional Indicator (14)  \\\n0                                  17.082089   \n1                                  27.850462   \n2                                  12.285689   \n3                                  21.543570   \n4                                  12.538893   \n\n   Prev. Relative Strength Index (14)  Prev. Relative Strength Index (7)  \\\n0                           35.255373                          23.112500   \n1                           44.344478                          36.114217   \n2                           33.080158                          25.800703   \n3                           43.026987                          34.454517   \n4                           22.261590                          10.765980   \n\n   Prev. Stochastic %D (14, 3, 3)  Prev. Stochastic %K (14, 3, 3)  \n0                        5.854701                        0.000000  \n1                       16.850249                       15.833333  \n2                       15.550591                       19.845761  \n3                       35.153257                       31.321839  \n4                        3.649793                        3.296703  \n\n[5 rows x 302 columns]",
      "text/html": "<div>\n<style scoped>\n    .dataframe tbody tr th:only-of-type {\n        vertical-align: middle;\n    }\n\n    .dataframe tbody tr th {\n        vertical-align: top;\n    }\n\n    .dataframe thead th {\n        text-align: right;\n    }\n</style>\n<table border=\"1\" class=\"dataframe\">\n  <thead>\n    <tr style=\"text-align: right;\">\n      <th></th>\n      <th>Symbol</th>\n      <th>Name</th>\n      <th>Description</th>\n      <th>All Time High</th>\n      <th>All Time Low</th>\n      <th>All Time Performance</th>\n      <th>Aroon Down (14)</th>\n      <th>Aroon Up (14)</th>\n      <th>Average Day Range (14)</th>\n      <th>Average Directional Index (14)</th>\n      <th>...</th>\n      <th>Reco. VWMA</th>\n      <th>Prev. Awesome Oscillator</th>\n      <th>Prev. Commodity Channel Index (20)</th>\n      <th>Prev. Momentum (10)</th>\n      <th>Prev. Negative Directional Indicator (14)</th>\n      <th>Prev. Positive Directional Indicator (14)</th>\n      <th>Prev. Relative Strength Index (14)</th>\n      <th>Prev. Relative Strength Index (7)</th>\n      <th>Prev. Stochastic %D (14, 3, 3)</th>\n      <th>Prev. Stochastic %K (14, 3, 3)</th>\n    </tr>\n  </thead>\n  <tbody>\n    <tr>\n      <th>0</th>\n      <td>KRX:005935</td>\n      <td>005935</td>\n      <td>SAMSUNGELEC(1P)</td>\n      <td>86800.000</td>\n      <td>4200.0000</td>\n      <td>1191.469194</td>\n      <td>100.000000</td>\n      <td>42.857143</td>\n      <td>664.285714</td>\n      <td>21.596805</td>\n      <td>...</td>\n      <td>-1</td>\n      <td>-479.705882</td>\n      <td>-140.204271</td>\n      <td>-3000.0</td>\n      <td>35.411456</td>\n      <td>17.082089</td>\n      <td>35.255373</td>\n      <td>23.112500</td>\n      <td>5.854701</td>\n      <td>0.000000</td>\n    </tr>\n    <tr>\n      <th>1</th>\n      <td>KRX:005930</td>\n      <td>005930</td>\n      <td>SAMSUNG ELEC</td>\n      <td>96800.000</td>\n      <td>261.7141</td>\n      <td>21509.795151</td>\n      <td>100.000000</td>\n      <td>42.857143</td>\n      <td>1007.142857</td>\n      <td>19.004666</td>\n      <td>...</td>\n      <td>-1</td>\n      <td>402.352941</td>\n      <td>-62.556155</td>\n      <td>-1900.0</td>\n      <td>22.650330</td>\n      <td>27.850462</td>\n      <td>44.344478</td>\n      <td>36.114217</td>\n      <td>16.850249</td>\n      <td>15.833333</td>\n    </tr>\n    <tr>\n      <th>2</th>\n      <td>KRX:373220</td>\n      <td>373220</td>\n      <td>LG ENERGY SOLUTION</td>\n      <td>629000.000</td>\n      <td>352000.0000</td>\n      <td>-20.184255</td>\n      <td>85.714286</td>\n      <td>0.000000</td>\n      <td>13928.571429</td>\n      <td>25.211939</td>\n      <td>...</td>\n      <td>-1</td>\n      <td>-37326.470588</td>\n      <td>-144.600195</td>\n      <td>-24000.0</td>\n      <td>33.342449</td>\n      <td>12.285689</td>\n      <td>33.080158</td>\n      <td>25.800703</td>\n      <td>15.550591</td>\n      <td>19.845761</td>\n    </tr>\n    <tr>\n      <th>3</th>\n      <td>KRX:000660</td>\n      <td>000660</td>\n      <td>SK HYNIX</td>\n      <td>150500.000</td>\n      <td>5030.0000</td>\n      <td>1584.287812</td>\n      <td>100.000000</td>\n      <td>42.857143</td>\n      <td>3264.285714</td>\n      <td>13.237725</td>\n      <td>...</td>\n      <td>-1</td>\n      <td>-1561.176471</td>\n      <td>-110.213911</td>\n      <td>-1700.0</td>\n      <td>26.772428</td>\n      <td>21.543570</td>\n      <td>43.026987</td>\n      <td>34.454517</td>\n      <td>35.153257</td>\n      <td>31.321839</td>\n    </tr>\n    <tr>\n      <th>4</th>\n      <td>KRX:207940</td>\n      <td>207940</td>\n      <td>SAMSUNG BIOLOGICS</td>\n      <td>1036002.312</td>\n      <td>124181.7480</td>\n      <td>409.799377</td>\n      <td>100.000000</td>\n      <td>50.000000</td>\n      <td>11571.428571</td>\n      <td>30.224972</td>\n      <td>...</td>\n      <td>-1</td>\n      <td>-41385.294118</td>\n      <td>-249.452082</td>\n      <td>-43000.0</td>\n      <td>42.480608</td>\n      <td>12.538893</td>\n      <td>22.261590</td>\n      <td>10.765980</td>\n      <td>3.649793</td>\n      <td>3.296703</td>\n    </tr>\n  </tbody>\n</table>\n<p>5 rows × 302 columns</p>\n</div>"
     },
     "execution_count": 7,
     "metadata": {},
     "output_type": "execute_result"
    }
   ],
   "source": [
    "from tvscreener import Market\n",
    "\n",
    "ss = tvs.StockScreener()\n",
    "ss.set_markets(Market.KOREA)\n",
    "df = ss.get()\n",
    "df.head()"
   ],
   "metadata": {
    "collapsed": false,
    "ExecuteTime": {
     "end_time": "2023-09-27T19:35:17.743014700Z",
     "start_time": "2023-09-27T19:35:16.624333300Z"
    }
   },
   "id": "7f6b8ff3f9bf5cf5"
  },
  {
   "cell_type": "code",
   "execution_count": 8,
   "outputs": [
    {
     "name": "stdout",
     "output_type": "stream",
     "text": [
      "['ALL', 'america', 'uk', 'india', 'spain', 'russia', 'australia', 'brazil', 'japan', 'newzealand', 'turkey', 'switzerland', 'hongkong', 'taiwan', 'netherlands', 'belgium', 'portugal', 'france', 'mexico', 'canada', 'colombia', 'uae', 'nigeria', 'singapore', 'germany', 'pakistan', 'peru', 'poland', 'italy', 'argentina', 'israel', 'egypt', 'srilanka', 'serbia', 'chile', 'china', 'malaysia', 'morocco', 'ksa', 'bahrain', 'qatar', 'indonesia', 'finland', 'iceland', 'denmark', 'romania', 'hungary', 'sweden', 'slovakia', 'lithuania', 'luxembourg', 'estonia', 'latvia', 'vietnam', 'rsa', 'thailand', 'tunisia', 'korea', 'kenya', 'kuwait', 'norway', 'philippines', 'greece', 'venezuela', 'cyprus', 'bangladesh']\n"
     ]
    }
   ],
   "source": [
    "# List the available stock markets\n",
    "print(Market.values())"
   ],
   "metadata": {
    "collapsed": false,
    "ExecuteTime": {
     "end_time": "2023-09-27T19:35:17.771682800Z",
     "start_time": "2023-09-27T19:35:17.742014500Z"
    }
   },
   "id": "3ed464ea6f5604b1"
  },
  {
   "cell_type": "markdown",
   "source": [
    "### Low level filter"
   ],
   "metadata": {
    "collapsed": false
   },
   "id": "9445a44e175d0a84"
  },
  {
   "cell_type": "code",
   "execution_count": 9,
   "outputs": [
    {
     "data": {
      "text/plain": "        Symbol   Name                  Description  All Time High  \\\n0  NASDAQ:AAPL   AAPL                   Apple Inc.      198.23000   \n1  NASDAQ:MSFT   MSFT        Microsoft Corporation      366.78000   \n2  NASDAQ:AMZN   AMZN             Amazon.com, Inc.      188.65391   \n3   NYSE:BRK.B  BRK.B  Berkshire Hathaway Inc. New      373.34000   \n4   NYSE:BRK.A  BRK.A      Berkshire Hathaway Inc.   566569.97000   \n\n   All Time Low  All Time Performance  Aroon Down (14)  Aroon Up (14)  \\\n0      0.049107         132500.430081            100.0      14.285714   \n1      0.088543         321948.280757            100.0      35.714286   \n2      0.065624         103548.029933            100.0      35.714286   \n3     19.800000           1440.258621            100.0      57.142857   \n4    235.000000         221302.072980            100.0      57.142857   \n\n   Average Day Range (14)  Average Directional Index (14)  ...  Reco. VWMA  \\\n0                3.218429                       25.653844  ...          -1   \n1                5.679029                       22.120383  ...          -1   \n2                3.419064                       19.421523  ...          -1   \n3                3.878407                       29.363976  ...          -1   \n4             6706.501429                       32.709754  ...          -1   \n\n   Prev. Awesome Oscillator  Prev. Commodity Channel Index (20)  \\\n0                 -3.283856                          -99.336416   \n1                 -7.189782                         -197.323125   \n2                 -5.099797                         -180.562142   \n3                  2.327891                          -89.373526   \n4               3813.028971                          -84.597110   \n\n   Prev. Momentum (10)  Prev. Negative Directional Indicator (14)  \\\n0                -4.34                                  30.558611   \n1               -19.63                                  32.060557   \n2               -15.25                                  33.377752   \n3                -8.36                                  21.644631   \n4            -11545.00                                  18.570083   \n\n   Prev. Positive Directional Indicator (14)  \\\n0                                  16.822189   \n1                                  13.887596   \n2                                  15.461261   \n3                                  19.005636   \n4                                  16.962556   \n\n   Prev. Relative Strength Index (14)  Prev. Relative Strength Index (7)  \\\n0                           38.386676                          33.426894   \n1                           33.743284                          21.535629   \n2                           34.513111                          24.389321   \n3                           45.831744                          33.505549   \n4                           46.101304                          34.029793   \n\n   Prev. Stochastic %D (14, 3, 3)  Prev. Stochastic %K (14, 3, 3)  \n0                        8.452134                        9.222031  \n1                        9.572082                        8.156310  \n2                        6.945989                        7.573618  \n3                       22.081326                       15.806692  \n4                       22.185337                       15.383801  \n\n[5 rows x 302 columns]",
      "text/html": "<div>\n<style scoped>\n    .dataframe tbody tr th:only-of-type {\n        vertical-align: middle;\n    }\n\n    .dataframe tbody tr th {\n        vertical-align: top;\n    }\n\n    .dataframe thead th {\n        text-align: right;\n    }\n</style>\n<table border=\"1\" class=\"dataframe\">\n  <thead>\n    <tr style=\"text-align: right;\">\n      <th></th>\n      <th>Symbol</th>\n      <th>Name</th>\n      <th>Description</th>\n      <th>All Time High</th>\n      <th>All Time Low</th>\n      <th>All Time Performance</th>\n      <th>Aroon Down (14)</th>\n      <th>Aroon Up (14)</th>\n      <th>Average Day Range (14)</th>\n      <th>Average Directional Index (14)</th>\n      <th>...</th>\n      <th>Reco. VWMA</th>\n      <th>Prev. Awesome Oscillator</th>\n      <th>Prev. Commodity Channel Index (20)</th>\n      <th>Prev. Momentum (10)</th>\n      <th>Prev. Negative Directional Indicator (14)</th>\n      <th>Prev. Positive Directional Indicator (14)</th>\n      <th>Prev. Relative Strength Index (14)</th>\n      <th>Prev. Relative Strength Index (7)</th>\n      <th>Prev. Stochastic %D (14, 3, 3)</th>\n      <th>Prev. Stochastic %K (14, 3, 3)</th>\n    </tr>\n  </thead>\n  <tbody>\n    <tr>\n      <th>0</th>\n      <td>NASDAQ:AAPL</td>\n      <td>AAPL</td>\n      <td>Apple Inc.</td>\n      <td>198.23000</td>\n      <td>0.049107</td>\n      <td>132500.430081</td>\n      <td>100.0</td>\n      <td>14.285714</td>\n      <td>3.218429</td>\n      <td>25.653844</td>\n      <td>...</td>\n      <td>-1</td>\n      <td>-3.283856</td>\n      <td>-99.336416</td>\n      <td>-4.34</td>\n      <td>30.558611</td>\n      <td>16.822189</td>\n      <td>38.386676</td>\n      <td>33.426894</td>\n      <td>8.452134</td>\n      <td>9.222031</td>\n    </tr>\n    <tr>\n      <th>1</th>\n      <td>NASDAQ:MSFT</td>\n      <td>MSFT</td>\n      <td>Microsoft Corporation</td>\n      <td>366.78000</td>\n      <td>0.088543</td>\n      <td>321948.280757</td>\n      <td>100.0</td>\n      <td>35.714286</td>\n      <td>5.679029</td>\n      <td>22.120383</td>\n      <td>...</td>\n      <td>-1</td>\n      <td>-7.189782</td>\n      <td>-197.323125</td>\n      <td>-19.63</td>\n      <td>32.060557</td>\n      <td>13.887596</td>\n      <td>33.743284</td>\n      <td>21.535629</td>\n      <td>9.572082</td>\n      <td>8.156310</td>\n    </tr>\n    <tr>\n      <th>2</th>\n      <td>NASDAQ:AMZN</td>\n      <td>AMZN</td>\n      <td>Amazon.com, Inc.</td>\n      <td>188.65391</td>\n      <td>0.065624</td>\n      <td>103548.029933</td>\n      <td>100.0</td>\n      <td>35.714286</td>\n      <td>3.419064</td>\n      <td>19.421523</td>\n      <td>...</td>\n      <td>-1</td>\n      <td>-5.099797</td>\n      <td>-180.562142</td>\n      <td>-15.25</td>\n      <td>33.377752</td>\n      <td>15.461261</td>\n      <td>34.513111</td>\n      <td>24.389321</td>\n      <td>6.945989</td>\n      <td>7.573618</td>\n    </tr>\n    <tr>\n      <th>3</th>\n      <td>NYSE:BRK.B</td>\n      <td>BRK.B</td>\n      <td>Berkshire Hathaway Inc. New</td>\n      <td>373.34000</td>\n      <td>19.800000</td>\n      <td>1440.258621</td>\n      <td>100.0</td>\n      <td>57.142857</td>\n      <td>3.878407</td>\n      <td>29.363976</td>\n      <td>...</td>\n      <td>-1</td>\n      <td>2.327891</td>\n      <td>-89.373526</td>\n      <td>-8.36</td>\n      <td>21.644631</td>\n      <td>19.005636</td>\n      <td>45.831744</td>\n      <td>33.505549</td>\n      <td>22.081326</td>\n      <td>15.806692</td>\n    </tr>\n    <tr>\n      <th>4</th>\n      <td>NYSE:BRK.A</td>\n      <td>BRK.A</td>\n      <td>Berkshire Hathaway Inc.</td>\n      <td>566569.97000</td>\n      <td>235.000000</td>\n      <td>221302.072980</td>\n      <td>100.0</td>\n      <td>57.142857</td>\n      <td>6706.501429</td>\n      <td>32.709754</td>\n      <td>...</td>\n      <td>-1</td>\n      <td>3813.028971</td>\n      <td>-84.597110</td>\n      <td>-11545.00</td>\n      <td>18.570083</td>\n      <td>16.962556</td>\n      <td>46.101304</td>\n      <td>34.029793</td>\n      <td>22.185337</td>\n      <td>15.383801</td>\n    </tr>\n  </tbody>\n</table>\n<p>5 rows × 302 columns</p>\n</div>"
     },
     "execution_count": 9,
     "metadata": {},
     "output_type": "execute_result"
    }
   ],
   "source": [
    "from tvscreener.filter import FilterOperator\n",
    "\n",
    "ss = tvs.StockScreener()\n",
    "ss.add_filter(StockField.RELATIVE_STRENGTH_INDEX_7, FilterOperator.NOT_IN_RANGE, [30, 70])\n",
    "df = ss.get()\n",
    "df.head()"
   ],
   "metadata": {
    "collapsed": false,
    "ExecuteTime": {
     "end_time": "2023-09-27T19:35:19.237880800Z",
     "start_time": "2023-09-27T19:35:17.770680700Z"
    }
   },
   "id": "e6fb33b84475de00"
  },
  {
   "cell_type": "markdown",
   "source": [
    "## Time intervals"
   ],
   "metadata": {
    "collapsed": false
   },
   "id": "aa9b0e3605524ae9"
  },
  {
   "cell_type": "code",
   "execution_count": 10,
   "outputs": [
    {
     "data": {
      "text/plain": "         Symbol   Name            Description  All Time High  All Time Low  \\\n0   NASDAQ:AAPL   AAPL             Apple Inc.     198.230000      0.049107   \n1   NASDAQ:MSFT   MSFT  Microsoft Corporation     366.780000      0.088543   \n2  NASDAQ:GOOGL  GOOGL          Alphabet Inc.     151.546575      2.401327   \n3   NASDAQ:GOOG   GOOG          Alphabet Inc.     152.100000     24.312350   \n4   NASDAQ:AMZN   AMZN       Amazon.com, Inc.     188.653910      0.065624   \n\n   All Time Performance  Aroon Down (14)  Aroon Up (14)  \\\n0         132500.430081        78.571429      21.428571   \n1         321948.280757        85.714286     100.000000   \n2           5117.017791         0.000000     100.000000   \n3            363.996017         0.000000     100.000000   \n4         103548.029933        35.714286      21.428571   \n\n   Average Day Range (14)  Average Directional Index (14)  ...  Reco. VWMA  \\\n0                0.884850                       32.330412  ...          -1   \n1                1.510443                       32.424466  ...          -1   \n2                0.672129                       23.370502  ...          -1   \n3                0.671064                       22.706308  ...          -1   \n4                0.946171                       28.161208  ...          -1   \n\n   Prev. Awesome Oscillator  Prev. Commodity Channel Index (20)  \\\n0                 -3.169434                          -60.984578   \n1                 -1.942762                          128.391652   \n2                  0.204082                          125.617471   \n3                  0.126974                          123.005932   \n4                 -2.520996                            7.880685   \n\n   Prev. Momentum (10)  Prev. Negative Directional Indicator (14)  \\\n0              -1.3100                                  26.869593   \n1               0.5050                                  20.426142   \n2               0.5400                                  16.778925   \n3               0.5213                                  17.099797   \n4              -0.0551                                  21.828222   \n\n   Prev. Positive Directional Indicator (14)  \\\n0                                  16.990798   \n1                                  25.037292   \n2                                  26.303580   \n3                                  25.879135   \n4                                  23.211046   \n\n   Prev. Relative Strength Index (14)  Prev. Relative Strength Index (7)  \\\n0                           35.223733                          41.031392   \n1                           51.288938                          63.574234   \n2                           59.081409                          70.894576   \n3                           58.345686                          70.375011   \n4                           45.499397                          60.063410   \n\n   Prev. Stochastic %D (14, 3, 3)  Prev. Stochastic %K (14, 3, 3)  \n0                       13.802653                       22.138680  \n1                       25.681799                       41.732904  \n2                       68.415998                       73.800467  \n3                       69.050396                       74.322041  \n4                       31.106827                       43.381095  \n\n[5 rows x 303 columns]",
      "text/html": "<div>\n<style scoped>\n    .dataframe tbody tr th:only-of-type {\n        vertical-align: middle;\n    }\n\n    .dataframe tbody tr th {\n        vertical-align: top;\n    }\n\n    .dataframe thead th {\n        text-align: right;\n    }\n</style>\n<table border=\"1\" class=\"dataframe\">\n  <thead>\n    <tr style=\"text-align: right;\">\n      <th></th>\n      <th>Symbol</th>\n      <th>Name</th>\n      <th>Description</th>\n      <th>All Time High</th>\n      <th>All Time Low</th>\n      <th>All Time Performance</th>\n      <th>Aroon Down (14)</th>\n      <th>Aroon Up (14)</th>\n      <th>Average Day Range (14)</th>\n      <th>Average Directional Index (14)</th>\n      <th>...</th>\n      <th>Reco. VWMA</th>\n      <th>Prev. Awesome Oscillator</th>\n      <th>Prev. Commodity Channel Index (20)</th>\n      <th>Prev. Momentum (10)</th>\n      <th>Prev. Negative Directional Indicator (14)</th>\n      <th>Prev. Positive Directional Indicator (14)</th>\n      <th>Prev. Relative Strength Index (14)</th>\n      <th>Prev. Relative Strength Index (7)</th>\n      <th>Prev. Stochastic %D (14, 3, 3)</th>\n      <th>Prev. Stochastic %K (14, 3, 3)</th>\n    </tr>\n  </thead>\n  <tbody>\n    <tr>\n      <th>0</th>\n      <td>NASDAQ:AAPL</td>\n      <td>AAPL</td>\n      <td>Apple Inc.</td>\n      <td>198.230000</td>\n      <td>0.049107</td>\n      <td>132500.430081</td>\n      <td>78.571429</td>\n      <td>21.428571</td>\n      <td>0.884850</td>\n      <td>32.330412</td>\n      <td>...</td>\n      <td>-1</td>\n      <td>-3.169434</td>\n      <td>-60.984578</td>\n      <td>-1.3100</td>\n      <td>26.869593</td>\n      <td>16.990798</td>\n      <td>35.223733</td>\n      <td>41.031392</td>\n      <td>13.802653</td>\n      <td>22.138680</td>\n    </tr>\n    <tr>\n      <th>1</th>\n      <td>NASDAQ:MSFT</td>\n      <td>MSFT</td>\n      <td>Microsoft Corporation</td>\n      <td>366.780000</td>\n      <td>0.088543</td>\n      <td>321948.280757</td>\n      <td>85.714286</td>\n      <td>100.000000</td>\n      <td>1.510443</td>\n      <td>32.424466</td>\n      <td>...</td>\n      <td>-1</td>\n      <td>-1.942762</td>\n      <td>128.391652</td>\n      <td>0.5050</td>\n      <td>20.426142</td>\n      <td>25.037292</td>\n      <td>51.288938</td>\n      <td>63.574234</td>\n      <td>25.681799</td>\n      <td>41.732904</td>\n    </tr>\n    <tr>\n      <th>2</th>\n      <td>NASDAQ:GOOGL</td>\n      <td>GOOGL</td>\n      <td>Alphabet Inc.</td>\n      <td>151.546575</td>\n      <td>2.401327</td>\n      <td>5117.017791</td>\n      <td>0.000000</td>\n      <td>100.000000</td>\n      <td>0.672129</td>\n      <td>23.370502</td>\n      <td>...</td>\n      <td>-1</td>\n      <td>0.204082</td>\n      <td>125.617471</td>\n      <td>0.5400</td>\n      <td>16.778925</td>\n      <td>26.303580</td>\n      <td>59.081409</td>\n      <td>70.894576</td>\n      <td>68.415998</td>\n      <td>73.800467</td>\n    </tr>\n    <tr>\n      <th>3</th>\n      <td>NASDAQ:GOOG</td>\n      <td>GOOG</td>\n      <td>Alphabet Inc.</td>\n      <td>152.100000</td>\n      <td>24.312350</td>\n      <td>363.996017</td>\n      <td>0.000000</td>\n      <td>100.000000</td>\n      <td>0.671064</td>\n      <td>22.706308</td>\n      <td>...</td>\n      <td>-1</td>\n      <td>0.126974</td>\n      <td>123.005932</td>\n      <td>0.5213</td>\n      <td>17.099797</td>\n      <td>25.879135</td>\n      <td>58.345686</td>\n      <td>70.375011</td>\n      <td>69.050396</td>\n      <td>74.322041</td>\n    </tr>\n    <tr>\n      <th>4</th>\n      <td>NASDAQ:AMZN</td>\n      <td>AMZN</td>\n      <td>Amazon.com, Inc.</td>\n      <td>188.653910</td>\n      <td>0.065624</td>\n      <td>103548.029933</td>\n      <td>35.714286</td>\n      <td>21.428571</td>\n      <td>0.946171</td>\n      <td>28.161208</td>\n      <td>...</td>\n      <td>-1</td>\n      <td>-2.520996</td>\n      <td>7.880685</td>\n      <td>-0.0551</td>\n      <td>21.828222</td>\n      <td>23.211046</td>\n      <td>45.499397</td>\n      <td>60.063410</td>\n      <td>31.106827</td>\n      <td>43.381095</td>\n    </tr>\n  </tbody>\n</table>\n<p>5 rows × 303 columns</p>\n</div>"
     },
     "execution_count": 10,
     "metadata": {},
     "output_type": "execute_result"
    }
   ],
   "source": [
    "ss = tvs.StockScreener()\n",
    "df = ss.get(tvs.TimeInterval.THIRTY_MINUTES)\n",
    "df.head()"
   ],
   "metadata": {
    "collapsed": false,
    "ExecuteTime": {
     "end_time": "2023-09-27T19:35:21.659659500Z",
     "start_time": "2023-09-27T19:35:19.236879900Z"
    }
   },
   "id": "8864827cc8cc60d8"
  },
  {
   "cell_type": "markdown",
   "source": [
    "## Debugging"
   ],
   "metadata": {
    "collapsed": false
   },
   "id": "4afe73932d662204"
  },
  {
   "cell_type": "code",
   "execution_count": 11,
   "outputs": [
    {
     "name": "stdout",
     "output_type": "stream",
     "text": [
      "Request: https://scanner.tradingview.com/global/scan\n",
      "Payload:\n",
      "{\n",
      "    \"filter\": [],\n",
      "    \"options\": {\n",
      "        \"lang\": \"en\"\n",
      "    },\n",
      "    \"symbols\": {\n",
      "        \"query\": {\n",
      "            \"types\": []\n",
      "        },\n",
      "        \"tickers\": []\n",
      "    },\n",
      "    \"sort\": {\n",
      "        \"sortBy\": \"market_cap_basic\",\n",
      "        \"sortOrder\": \"desc\"\n",
      "    },\n",
      "    \"range\": [\n",
      "        0,\n",
      "        150\n",
      "    ],\n",
      "    \"columns\": [\n",
      "        \"High.All\",\n",
      "        \"Low.All\",\n",
      "        \"Perf.All\",\n",
      "        \"Aroon.Down\",\n",
      "        \"Aroon.Up\",\n",
      "        \"ADR\",\n",
      "        \"ADX\",\n",
      "        \"ATR\",\n",
      "        \"average_volume_10d_calc\",\n",
      "        \"average_volume_30d_calc\",\n",
      "        \"average_volume_60d_calc\",\n",
      "        \"average_volume_90d_calc\",\n",
      "        \"AO\",\n",
      "        \"basic_eps_net_income\",\n",
      "        \"earnings_per_share_basic_ttm\",\n",
      "        \"BB.lower\",\n",
      "        \"BB.upper\",\n",
      "        \"BBPower\",\n",
      "        \"Candle.3BlackCrows\",\n",
      "        \"Candle.3WhiteSoldiers\",\n",
      "        \"Candle.AbandonedBaby.Bearish\",\n",
      "        \"Candle.AbandonedBaby.Bullish\",\n",
      "        \"Candle.Doji\",\n",
      "        \"Candle.Doji.Dragonfly\",\n",
      "        \"Candle.Doji.Gravestone\",\n",
      "        \"Candle.Engulfing.Bearish\",\n",
      "        \"Candle.Engulfing.Bullish\",\n",
      "        \"Candle.EveningStar\",\n",
      "        \"Candle.Hammer\",\n",
      "        \"Candle.HangingMan\",\n",
      "        \"Candle.Harami.Bearish\",\n",
      "        \"Candle.Harami.Bullish\",\n",
      "        \"Candle.InvertedHammer\",\n",
      "        \"Candle.Kicking.Bearish\",\n",
      "        \"Candle.Kicking.Bullish\",\n",
      "        \"Candle.LongShadow.Lower\",\n",
      "        \"Candle.LongShadow.Upper\",\n",
      "        \"Candle.Marubozu.Black\",\n",
      "        \"Candle.Marubozu.White\",\n",
      "        \"Candle.MorningStar\",\n",
      "        \"Candle.ShootingStar\",\n",
      "        \"Candle.SpinningTop.Black\",\n",
      "        \"Candle.SpinningTop.White\",\n",
      "        \"Candle.TriStar.Bearish\",\n",
      "        \"Candle.TriStar.Bullish\",\n",
      "        \"cash_n_equivalents_fy\",\n",
      "        \"cash_n_equivalents_fq\",\n",
      "        \"cash_n_short_term_invest_fy\",\n",
      "        \"cash_n_short_term_invest_fq\",\n",
      "        \"ChaikinMoneyFlow\",\n",
      "        \"change_abs\",\n",
      "        \"change_abs|15\",\n",
      "        \"change|15\",\n",
      "        \"change_abs|60\",\n",
      "        \"change|60\",\n",
      "        \"change_abs|1\",\n",
      "        \"change_abs|1M\",\n",
      "        \"change|1\",\n",
      "        \"change|1M\",\n",
      "        \"change_abs|1W\",\n",
      "        \"change|1W\",\n",
      "        \"change_abs|240\",\n",
      "        \"change|240\",\n",
      "        \"change_abs|5\",\n",
      "        \"change|5\",\n",
      "        \"change_from_open_abs\",\n",
      "        \"change_from_open\",\n",
      "        \"change\",\n",
      "        \"CCI20\",\n",
      "        \"country\",\n",
      "        \"currency\",\n",
      "        \"current_ratio\",\n",
      "        \"debt_to_equity\",\n",
      "        \"description\",\n",
      "        \"dividends_paid\",\n",
      "        \"dps_common_stock_prim_issue_yoy_growth_fy\",\n",
      "        \"dps_common_stock_prim_issue_fy\",\n",
      "        \"dividends_per_share_fq\",\n",
      "        \"dividend_yield_recent\",\n",
      "        \"DonchCh20.Lower\",\n",
      "        \"DonchCh20.Upper\",\n",
      "        \"ebitda_yoy_growth_fy\",\n",
      "        \"ebitda_qoq_growth_fq\",\n",
      "        \"ebitda_yoy_growth_fq\",\n",
      "        \"ebitda\",\n",
      "        \"ebitda_yoy_growth_ttm\",\n",
      "        \"enterprise_value_ebitda_ttm\",\n",
      "        \"enterprise_value_fq\",\n",
      "        \"earnings_per_share_diluted_yoy_growth_fy\",\n",
      "        \"last_annual_eps\",\n",
      "        \"earnings_per_share_fq\",\n",
      "        \"earnings_per_share_diluted_qoq_growth_fq\",\n",
      "        \"earnings_per_share_diluted_yoy_growth_fq\",\n",
      "        \"earnings_per_share_diluted_ttm\",\n",
      "        \"earnings_per_share_diluted_yoy_growth_ttm\",\n",
      "        \"earnings_per_share_forecast_next_fq\",\n",
      "        \"exchange\",\n",
      "        \"EMA10\",\n",
      "        \"EMA100\",\n",
      "        \"EMA20\",\n",
      "        \"EMA200\",\n",
      "        \"EMA30\",\n",
      "        \"EMA5\",\n",
      "        \"EMA50\",\n",
      "        \"free_cash_flow_yoy_growth_fy\",\n",
      "        \"free_cash_flow_margin_fy\",\n",
      "        \"free_cash_flow_margin_ttm\",\n",
      "        \"free_cash_flow_qoq_growth_fq\",\n",
      "        \"free_cash_flow_yoy_growth_fq\",\n",
      "        \"free_cash_flow_yoy_growth_ttm\",\n",
      "        \"fundamental_currency_code\",\n",
      "        \"gap\",\n",
      "        \"goodwill\",\n",
      "        \"gross_profit_margin_fy\",\n",
      "        \"gross_margin\",\n",
      "        \"gross_profit_yoy_growth_fy\",\n",
      "        \"gross_profit\",\n",
      "        \"gross_profit_fq\",\n",
      "        \"gross_profit_qoq_growth_fq\",\n",
      "        \"gross_profit_yoy_growth_fq\",\n",
      "        \"gross_profit_yoy_growth_ttm\",\n",
      "        \"high\",\n",
      "        \"HullMA9\",\n",
      "        \"Ichimoku.BLine\",\n",
      "        \"Ichimoku.CLine\",\n",
      "        \"Ichimoku.Lead1\",\n",
      "        \"Ichimoku.Lead2\",\n",
      "        \"industry\",\n",
      "        \"KltChnl.lower\",\n",
      "        \"KltChnl.upper\",\n",
      "        \"last_annual_revenue\",\n",
      "        \"logoid\",\n",
      "        \"low\",\n",
      "        \"MACD.macd\",\n",
      "        \"MACD.signal\",\n",
      "        \"market_cap_basic\",\n",
      "        \"Mom\",\n",
      "        \"MoneyFlow\",\n",
      "        \"Perf.1M\",\n",
      "        \"High.1M\",\n",
      "        \"High.3M\",\n",
      "        \"High.6M\",\n",
      "        \"Low.1M\",\n",
      "        \"Low.3M\",\n",
      "        \"Low.6M\",\n",
      "        \"Perf.3M\",\n",
      "        \"Perf.6M\",\n",
      "        \"Recommend.MA\",\n",
      "        \"name\",\n",
      "        \"ADX-DI\",\n",
      "        \"net_debt\",\n",
      "        \"net_income_yoy_growth_fy\",\n",
      "        \"net_income\",\n",
      "        \"net_income_qoq_growth_fq\",\n",
      "        \"net_income_yoy_growth_fq\",\n",
      "        \"net_income_yoy_growth_ttm\",\n",
      "        \"net_income_bef_disc_oper_margin_fy\",\n",
      "        \"after_tax_margin\",\n",
      "        \"number_of_employees\",\n",
      "        \"number_of_shareholders\",\n",
      "        \"open\",\n",
      "        \"oper_income_margin_fy\",\n",
      "        \"operating_margin\",\n",
      "        \"Recommend.Other\",\n",
      "        \"P.SAR\",\n",
      "        \"Pivot.M.Camarilla.Middle\",\n",
      "        \"Pivot.M.Camarilla.R1\",\n",
      "        \"Pivot.M.Camarilla.R2\",\n",
      "        \"Pivot.M.Camarilla.R3\",\n",
      "        \"Pivot.M.Camarilla.S1\",\n",
      "        \"Pivot.M.Camarilla.S2\",\n",
      "        \"Pivot.M.Camarilla.S3\",\n",
      "        \"Pivot.M.Classic.Middle\",\n",
      "        \"Pivot.M.Classic.R1\",\n",
      "        \"Pivot.M.Classic.R2\",\n",
      "        \"Pivot.M.Classic.R3\",\n",
      "        \"Pivot.M.Classic.S1\",\n",
      "        \"Pivot.M.Classic.S2\",\n",
      "        \"Pivot.M.Classic.S3\",\n",
      "        \"Pivot.M.Demark.Middle\",\n",
      "        \"Pivot.M.Demark.R1\",\n",
      "        \"Pivot.M.Demark.S1\",\n",
      "        \"Pivot.M.Fibonacci.Middle\",\n",
      "        \"Pivot.M.Fibonacci.R1\",\n",
      "        \"Pivot.M.Fibonacci.R2\",\n",
      "        \"Pivot.M.Fibonacci.R3\",\n",
      "        \"Pivot.M.Fibonacci.S1\",\n",
      "        \"Pivot.M.Fibonacci.S2\",\n",
      "        \"Pivot.M.Fibonacci.S3\",\n",
      "        \"Pivot.M.Woodie.Middle\",\n",
      "        \"Pivot.M.Woodie.R1\",\n",
      "        \"Pivot.M.Woodie.R2\",\n",
      "        \"Pivot.M.Woodie.R3\",\n",
      "        \"Pivot.M.Woodie.S1\",\n",
      "        \"Pivot.M.Woodie.S2\",\n",
      "        \"Pivot.M.Woodie.S3\",\n",
      "        \"ADX+DI\",\n",
      "        \"postmarket_change_abs\",\n",
      "        \"postmarket_change\",\n",
      "        \"postmarket_close\",\n",
      "        \"postmarket_high\",\n",
      "        \"postmarket_low\",\n",
      "        \"postmarket_open\",\n",
      "        \"postmarket_volume\",\n",
      "        \"premarket_change_abs\",\n",
      "        \"premarket_change_from_open_abs\",\n",
      "        \"premarket_change_from_open\",\n",
      "        \"premarket_change\",\n",
      "        \"premarket_close\",\n",
      "        \"premarket_gap\",\n",
      "        \"premarket_high\",\n",
      "        \"premarket_low\",\n",
      "        \"premarket_open\",\n",
      "        \"premarket_volume\",\n",
      "        \"pre_tax_margin\",\n",
      "        \"close\",\n",
      "        \"price_book_ratio\",\n",
      "        \"price_book_fq\",\n",
      "        \"price_earnings_ttm\",\n",
      "        \"price_free_cash_flow_ttm\",\n",
      "        \"price_revenue_ttm\",\n",
      "        \"price_sales_ratio\",\n",
      "        \"quick_ratio\",\n",
      "        \"ROC\",\n",
      "        \"earnings_release_date\",\n",
      "        \"RSI\",\n",
      "        \"RSI7\",\n",
      "        \"relative_volume_10d_calc\",\n",
      "        \"relative_volume_intraday|5\",\n",
      "        \"research_and_dev_ratio_fy\",\n",
      "        \"research_and_dev_ratio_ttm\",\n",
      "        \"return_on_assets\",\n",
      "        \"return_on_equity\",\n",
      "        \"return_on_invested_capital\",\n",
      "        \"total_revenue_yoy_growth_fy\",\n",
      "        \"revenue_per_employee\",\n",
      "        \"total_revenue_qoq_growth_fq\",\n",
      "        \"total_revenue_yoy_growth_fq\",\n",
      "        \"total_revenue_yoy_growth_ttm\",\n",
      "        \"sector\",\n",
      "        \"sell_gen_admin_exp_other_ratio_fy\",\n",
      "        \"sell_gen_admin_exp_other_ratio_ttm\",\n",
      "        \"float_shares_outstanding\",\n",
      "        \"SMA10\",\n",
      "        \"SMA100\",\n",
      "        \"SMA20\",\n",
      "        \"SMA200\",\n",
      "        \"SMA30\",\n",
      "        \"SMA5\",\n",
      "        \"SMA50\",\n",
      "        \"Stoch.D\",\n",
      "        \"Stoch.K\",\n",
      "        \"Stoch.RSI.K\",\n",
      "        \"Stoch.RSI.D\",\n",
      "        \"submarket\",\n",
      "        \"subtype\",\n",
      "        \"Recommend.All\",\n",
      "        \"total_assets_yoy_growth_fy\",\n",
      "        \"total_assets\",\n",
      "        \"total_assets_qoq_growth_fq\",\n",
      "        \"total_assets_yoy_growth_fq\",\n",
      "        \"total_current_assets\",\n",
      "        \"total_debt_yoy_growth_fy\",\n",
      "        \"total_debt\",\n",
      "        \"total_debt_qoq_growth_fq\",\n",
      "        \"total_debt_yoy_growth_fq\",\n",
      "        \"total_liabilities_fy\",\n",
      "        \"total_liabilities_fq\",\n",
      "        \"total_revenue\",\n",
      "        \"total_shares_outstanding_fundamental\",\n",
      "        \"type\",\n",
      "        \"UO\",\n",
      "        \"earnings_release_next_date\",\n",
      "        \"Volatility.D\",\n",
      "        \"Volatility.M\",\n",
      "        \"Volatility.W\",\n",
      "        \"volume\",\n",
      "        \"Value.Traded\",\n",
      "        \"VWAP\",\n",
      "        \"VWMA\",\n",
      "        \"Perf.W\",\n",
      "        \"price_52_week_high\",\n",
      "        \"price_52_week_low\",\n",
      "        \"W.R\",\n",
      "        \"Perf.Y\",\n",
      "        \"beta_1_year\",\n",
      "        \"Perf.YTD\",\n",
      "        \"Perf.5Y\",\n",
      "        \"Rec.BBPower\",\n",
      "        \"Rec.HullMA9\",\n",
      "        \"Rec.UO\",\n",
      "        \"Rec.VWMA\",\n",
      "        \"AO[1]\",\n",
      "        \"CCI20[1]\",\n",
      "        \"Mom[1]\",\n",
      "        \"ADX-DI[1]\",\n",
      "        \"ADX+DI[1]\",\n",
      "        \"RSI[1]\",\n",
      "        \"RSI7[1]\",\n",
      "        \"Stoch.D[1]\",\n",
      "        \"Stoch.K[1]\"\n",
      "    ],\n",
      "    \"markets\": [\n",
      "        \"america\"\n",
      "    ]\n",
      "}\n"
     ]
    },
    {
     "data": {
      "text/plain": "           Symbol   Name                   Description  All Time High  \\\n0     NASDAQ:AAPL   AAPL                    Apple Inc.     198.230000   \n1     NASDAQ:MSFT   MSFT         Microsoft Corporation     366.780000   \n2    NASDAQ:GOOGL  GOOGL                 Alphabet Inc.     151.546575   \n3     NASDAQ:GOOG   GOOG                 Alphabet Inc.     152.100000   \n4     NASDAQ:AMZN   AMZN              Amazon.com, Inc.     188.653910   \n..            ...    ...                           ...            ...   \n145    NASDAQ:HON    HON  Honeywell International Inc.     236.860000   \n146    NASDAQ:PDD    PDD             PDD Holdings Inc.     212.596500   \n147       NYSE:UL     UL                  Unilever PLC      64.840000   \n148      NYSE:UNP    UNP     Union Pacific Corporation     278.940000   \n149      NYSE:NEE    NEE          NextEra Energy, Inc.      93.730000   \n\n     All Time Low  All Time Performance  Aroon Down (14)  Aroon Up (14)  \\\n0        0.049107         132500.430081       100.000000      14.285714   \n1        0.088543         321948.280757       100.000000      35.714286   \n2        2.401327           5117.017791        92.857143      50.000000   \n3       24.312350            363.996017        92.857143      50.000000   \n4        0.065624         103548.029933       100.000000      35.714286   \n..            ...                   ...              ...            ...   \n145      5.920335           1756.993099         0.000000      64.285714   \n146     16.530000            258.301887        71.428571      28.571429   \n147      0.388892           8319.186502       100.000000      64.285714   \n148      0.627748          20904.578020       100.000000      35.714286   \n149      0.843750           2446.882914       100.000000      42.857143   \n\n     Average Day Range (14)  Average Directional Index (14)  ...  Reco. VWMA  \\\n0                  3.218429                       25.653844  ...          -1   \n1                  5.679029                       22.120383  ...          -1   \n2                  2.389257                       21.655098  ...          -1   \n3                  2.365629                       21.492701  ...          -1   \n4                  3.419064                       19.421523  ...          -1   \n..                      ...                             ...  ...         ...   \n145                2.889821                       21.872927  ...          -1   \n146                2.718493                       18.857763  ...          -1   \n147                0.424429                       14.811011  ...          -1   \n148                3.498100                       35.159602  ...          -1   \n149                1.360000                       23.863762  ...          -1   \n\n     Prev. Awesome Oscillator  Prev. Commodity Channel Index (20)  \\\n0                   -3.283856                          -99.336416   \n1                   -7.189782                         -197.323125   \n2                   -1.538637                         -208.082855   \n3                   -1.347657                         -209.895909   \n4                   -5.099797                         -180.562142   \n..                        ...                                 ...   \n145                  2.940596                          -16.888551   \n146                  4.561622                          -81.826747   \n147                 -0.498387                         -184.650285   \n148                 -8.665449                         -147.622431   \n149                 -0.499912                         -142.176883   \n\n     Prev. Momentum (10)  Prev. Negative Directional Indicator (14)  \\\n0                 -4.340                                  30.558611   \n1                -19.630                                  32.060557   \n2                 -6.775                                  29.303383   \n3                 -6.620                                  29.765275   \n4                -15.250                                  33.377752   \n..                   ...                                        ...   \n145               -1.320                                  22.809433   \n146               -4.950                                  25.353865   \n147               -1.040                                  39.235525   \n148               -9.030                                  35.305364   \n149               -2.390                                  26.721117   \n\n     Prev. Positive Directional Indicator (14)  \\\n0                                    16.822189   \n1                                    13.887596   \n2                                    16.542888   \n3                                    16.217965   \n4                                    15.461261   \n..                                         ...   \n145                                  20.791103   \n146                                  25.296198   \n147                                  29.355803   \n148                                  10.833192   \n149                                  16.780491   \n\n     Prev. Relative Strength Index (14)  Prev. Relative Strength Index (7)  \\\n0                             38.386676                          33.426894   \n1                             33.743284                          21.535629   \n2                             38.397693                          25.309307   \n3                             38.689675                          25.502243   \n4                             34.513111                          24.389321   \n..                                  ...                                ...   \n145                           43.978674                          38.237195   \n146                           51.317135                          42.839860   \n147                           32.205082                          21.575090   \n148                           28.402860                          19.803548   \n149                           35.105943                          27.779272   \n\n     Prev. Stochastic %D (14, 3, 3)  Prev. Stochastic %K (14, 3, 3)  \n0                          8.452134                        9.222031  \n1                          9.572082                        8.156310  \n2                         10.520138                       13.047417  \n3                         10.465734                       13.401442  \n4                          6.945989                        7.573618  \n..                              ...                             ...  \n145                       55.459355                       47.715248  \n146                       29.347582                       37.396161  \n147                       28.857293                       13.902054  \n148                       20.535843                       12.301976  \n149                       40.276154                       33.287116  \n\n[150 rows x 302 columns]",
      "text/html": "<div>\n<style scoped>\n    .dataframe tbody tr th:only-of-type {\n        vertical-align: middle;\n    }\n\n    .dataframe tbody tr th {\n        vertical-align: top;\n    }\n\n    .dataframe thead th {\n        text-align: right;\n    }\n</style>\n<table border=\"1\" class=\"dataframe\">\n  <thead>\n    <tr style=\"text-align: right;\">\n      <th></th>\n      <th>Symbol</th>\n      <th>Name</th>\n      <th>Description</th>\n      <th>All Time High</th>\n      <th>All Time Low</th>\n      <th>All Time Performance</th>\n      <th>Aroon Down (14)</th>\n      <th>Aroon Up (14)</th>\n      <th>Average Day Range (14)</th>\n      <th>Average Directional Index (14)</th>\n      <th>...</th>\n      <th>Reco. VWMA</th>\n      <th>Prev. Awesome Oscillator</th>\n      <th>Prev. Commodity Channel Index (20)</th>\n      <th>Prev. Momentum (10)</th>\n      <th>Prev. Negative Directional Indicator (14)</th>\n      <th>Prev. Positive Directional Indicator (14)</th>\n      <th>Prev. Relative Strength Index (14)</th>\n      <th>Prev. Relative Strength Index (7)</th>\n      <th>Prev. Stochastic %D (14, 3, 3)</th>\n      <th>Prev. Stochastic %K (14, 3, 3)</th>\n    </tr>\n  </thead>\n  <tbody>\n    <tr>\n      <th>0</th>\n      <td>NASDAQ:AAPL</td>\n      <td>AAPL</td>\n      <td>Apple Inc.</td>\n      <td>198.230000</td>\n      <td>0.049107</td>\n      <td>132500.430081</td>\n      <td>100.000000</td>\n      <td>14.285714</td>\n      <td>3.218429</td>\n      <td>25.653844</td>\n      <td>...</td>\n      <td>-1</td>\n      <td>-3.283856</td>\n      <td>-99.336416</td>\n      <td>-4.340</td>\n      <td>30.558611</td>\n      <td>16.822189</td>\n      <td>38.386676</td>\n      <td>33.426894</td>\n      <td>8.452134</td>\n      <td>9.222031</td>\n    </tr>\n    <tr>\n      <th>1</th>\n      <td>NASDAQ:MSFT</td>\n      <td>MSFT</td>\n      <td>Microsoft Corporation</td>\n      <td>366.780000</td>\n      <td>0.088543</td>\n      <td>321948.280757</td>\n      <td>100.000000</td>\n      <td>35.714286</td>\n      <td>5.679029</td>\n      <td>22.120383</td>\n      <td>...</td>\n      <td>-1</td>\n      <td>-7.189782</td>\n      <td>-197.323125</td>\n      <td>-19.630</td>\n      <td>32.060557</td>\n      <td>13.887596</td>\n      <td>33.743284</td>\n      <td>21.535629</td>\n      <td>9.572082</td>\n      <td>8.156310</td>\n    </tr>\n    <tr>\n      <th>2</th>\n      <td>NASDAQ:GOOGL</td>\n      <td>GOOGL</td>\n      <td>Alphabet Inc.</td>\n      <td>151.546575</td>\n      <td>2.401327</td>\n      <td>5117.017791</td>\n      <td>92.857143</td>\n      <td>50.000000</td>\n      <td>2.389257</td>\n      <td>21.655098</td>\n      <td>...</td>\n      <td>-1</td>\n      <td>-1.538637</td>\n      <td>-208.082855</td>\n      <td>-6.775</td>\n      <td>29.303383</td>\n      <td>16.542888</td>\n      <td>38.397693</td>\n      <td>25.309307</td>\n      <td>10.520138</td>\n      <td>13.047417</td>\n    </tr>\n    <tr>\n      <th>3</th>\n      <td>NASDAQ:GOOG</td>\n      <td>GOOG</td>\n      <td>Alphabet Inc.</td>\n      <td>152.100000</td>\n      <td>24.312350</td>\n      <td>363.996017</td>\n      <td>92.857143</td>\n      <td>50.000000</td>\n      <td>2.365629</td>\n      <td>21.492701</td>\n      <td>...</td>\n      <td>-1</td>\n      <td>-1.347657</td>\n      <td>-209.895909</td>\n      <td>-6.620</td>\n      <td>29.765275</td>\n      <td>16.217965</td>\n      <td>38.689675</td>\n      <td>25.502243</td>\n      <td>10.465734</td>\n      <td>13.401442</td>\n    </tr>\n    <tr>\n      <th>4</th>\n      <td>NASDAQ:AMZN</td>\n      <td>AMZN</td>\n      <td>Amazon.com, Inc.</td>\n      <td>188.653910</td>\n      <td>0.065624</td>\n      <td>103548.029933</td>\n      <td>100.000000</td>\n      <td>35.714286</td>\n      <td>3.419064</td>\n      <td>19.421523</td>\n      <td>...</td>\n      <td>-1</td>\n      <td>-5.099797</td>\n      <td>-180.562142</td>\n      <td>-15.250</td>\n      <td>33.377752</td>\n      <td>15.461261</td>\n      <td>34.513111</td>\n      <td>24.389321</td>\n      <td>6.945989</td>\n      <td>7.573618</td>\n    </tr>\n    <tr>\n      <th>...</th>\n      <td>...</td>\n      <td>...</td>\n      <td>...</td>\n      <td>...</td>\n      <td>...</td>\n      <td>...</td>\n      <td>...</td>\n      <td>...</td>\n      <td>...</td>\n      <td>...</td>\n      <td>...</td>\n      <td>...</td>\n      <td>...</td>\n      <td>...</td>\n      <td>...</td>\n      <td>...</td>\n      <td>...</td>\n      <td>...</td>\n      <td>...</td>\n      <td>...</td>\n      <td>...</td>\n    </tr>\n    <tr>\n      <th>145</th>\n      <td>NASDAQ:HON</td>\n      <td>HON</td>\n      <td>Honeywell International Inc.</td>\n      <td>236.860000</td>\n      <td>5.920335</td>\n      <td>1756.993099</td>\n      <td>0.000000</td>\n      <td>64.285714</td>\n      <td>2.889821</td>\n      <td>21.872927</td>\n      <td>...</td>\n      <td>-1</td>\n      <td>2.940596</td>\n      <td>-16.888551</td>\n      <td>-1.320</td>\n      <td>22.809433</td>\n      <td>20.791103</td>\n      <td>43.978674</td>\n      <td>38.237195</td>\n      <td>55.459355</td>\n      <td>47.715248</td>\n    </tr>\n    <tr>\n      <th>146</th>\n      <td>NASDAQ:PDD</td>\n      <td>PDD</td>\n      <td>PDD Holdings Inc.</td>\n      <td>212.596500</td>\n      <td>16.530000</td>\n      <td>258.301887</td>\n      <td>71.428571</td>\n      <td>28.571429</td>\n      <td>2.718493</td>\n      <td>18.857763</td>\n      <td>...</td>\n      <td>-1</td>\n      <td>4.561622</td>\n      <td>-81.826747</td>\n      <td>-4.950</td>\n      <td>25.353865</td>\n      <td>25.296198</td>\n      <td>51.317135</td>\n      <td>42.839860</td>\n      <td>29.347582</td>\n      <td>37.396161</td>\n    </tr>\n    <tr>\n      <th>147</th>\n      <td>NYSE:UL</td>\n      <td>UL</td>\n      <td>Unilever PLC</td>\n      <td>64.840000</td>\n      <td>0.388892</td>\n      <td>8319.186502</td>\n      <td>100.000000</td>\n      <td>64.285714</td>\n      <td>0.424429</td>\n      <td>14.811011</td>\n      <td>...</td>\n      <td>-1</td>\n      <td>-0.498387</td>\n      <td>-184.650285</td>\n      <td>-1.040</td>\n      <td>39.235525</td>\n      <td>29.355803</td>\n      <td>32.205082</td>\n      <td>21.575090</td>\n      <td>28.857293</td>\n      <td>13.902054</td>\n    </tr>\n    <tr>\n      <th>148</th>\n      <td>NYSE:UNP</td>\n      <td>UNP</td>\n      <td>Union Pacific Corporation</td>\n      <td>278.940000</td>\n      <td>0.627748</td>\n      <td>20904.578020</td>\n      <td>100.000000</td>\n      <td>35.714286</td>\n      <td>3.498100</td>\n      <td>35.159602</td>\n      <td>...</td>\n      <td>-1</td>\n      <td>-8.665449</td>\n      <td>-147.622431</td>\n      <td>-9.030</td>\n      <td>35.305364</td>\n      <td>10.833192</td>\n      <td>28.402860</td>\n      <td>19.803548</td>\n      <td>20.535843</td>\n      <td>12.301976</td>\n    </tr>\n    <tr>\n      <th>149</th>\n      <td>NYSE:NEE</td>\n      <td>NEE</td>\n      <td>NextEra Energy, Inc.</td>\n      <td>93.730000</td>\n      <td>0.843750</td>\n      <td>2446.882914</td>\n      <td>100.000000</td>\n      <td>42.857143</td>\n      <td>1.360000</td>\n      <td>23.863762</td>\n      <td>...</td>\n      <td>-1</td>\n      <td>-0.499912</td>\n      <td>-142.176883</td>\n      <td>-2.390</td>\n      <td>26.721117</td>\n      <td>16.780491</td>\n      <td>35.105943</td>\n      <td>27.779272</td>\n      <td>40.276154</td>\n      <td>33.287116</td>\n    </tr>\n  </tbody>\n</table>\n<p>150 rows × 302 columns</p>\n</div>"
     },
     "execution_count": 11,
     "metadata": {},
     "output_type": "execute_result"
    }
   ],
   "source": [
    "# Display the request payload\n",
    "ss = tvs.StockScreener()\n",
    "df = ss.get(print_request=True)\n",
    "df"
   ],
   "metadata": {
    "collapsed": false,
    "ExecuteTime": {
     "end_time": "2023-09-27T19:35:22.941542100Z",
     "start_time": "2023-09-27T19:35:21.658152400Z"
    }
   },
   "id": "dd428873c1d8f9e9"
  }
 ],
 "metadata": {
  "kernelspec": {
   "display_name": "Python 3",
   "language": "python",
   "name": "python3"
  },
  "language_info": {
   "codemirror_mode": {
    "name": "ipython",
    "version": 2
   },
   "file_extension": ".py",
   "mimetype": "text/x-python",
   "name": "python",
   "nbconvert_exporter": "python",
   "pygments_lexer": "ipython2",
   "version": "2.7.6"
  }
 },
 "nbformat": 4,
 "nbformat_minor": 5
}
